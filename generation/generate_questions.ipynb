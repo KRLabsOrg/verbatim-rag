{
 "cells": [
  {
   "cell_type": "markdown",
   "id": "ed9307ed-da35-4a1d-97fb-614065e27345",
   "metadata": {},
   "source": [
    "# Import"
   ]
  },
  {
   "cell_type": "code",
   "execution_count": 2,
   "id": "7323be48-6dc8-4c83-9fdf-a7d6eb71d51d",
   "metadata": {
    "tags": []
   },
   "outputs": [],
   "source": [
    "import re\n",
    "import ast\n",
    "import time\n",
    "import random\n",
    "import requests\n",
    "import pandas as pd\n",
    "from pathlib import Path\n",
    "from datetime import datetime\n",
    "from tqdm.notebook import tqdm\n",
    "import nltk\n",
    "from nltk.tokenize import sent_tokenize\n",
    "\n",
    "import sys\n",
    "sys.path.append(\"../src\")\n",
    "import util.preprocessing_util as util"
   ]
  },
  {
   "cell_type": "markdown",
   "id": "b8eba278-ecfc-4d46-b299-6d798590356d",
   "metadata": {},
   "source": [
    "Download tokenizer"
   ]
  },
  {
   "cell_type": "code",
   "execution_count": 3,
   "id": "481b2a67-c4bb-4595-9c3e-838e861095ca",
   "metadata": {
    "tags": []
   },
   "outputs": [
    {
     "name": "stderr",
     "output_type": "stream",
     "text": [
      "[nltk_data] Downloading package punkt to\n",
      "[nltk_data]     /home/paul.schmitt/nltk_data...\n",
      "[nltk_data]   Package punkt is already up-to-date!\n"
     ]
    },
    {
     "data": {
      "text/plain": [
       "True"
      ]
     },
     "execution_count": 3,
     "metadata": {},
     "output_type": "execute_result"
    }
   ],
   "source": [
    "nltk.download('punkt')"
   ]
  },
  {
   "cell_type": "markdown",
   "id": "ce8a04f6-40d7-4a39-ae35-d7dc03e04ded",
   "metadata": {},
   "source": [
    "# Setup"
   ]
  },
  {
   "cell_type": "code",
   "execution_count": 4,
   "id": "d1f12356-da39-4bd2-ac7a-02c1911d22d7",
   "metadata": {
    "tags": []
   },
   "outputs": [],
   "source": [
    "# Directories and constants\n",
    "VLLM_URL       = \"http://localhost:8000/v1/completions\"\n",
    "PROMPTS_DIR    = Path(\"prompts\")\n",
    "DATA_DIR       = Path(\"../data\")\n",
    "NOTES_DIR      = DATA_DIR / \"synthetic\" / \"note-excerpts\"\n",
    "OUTPUT_DIR     = DATA_DIR / \"synthetic\" / \"questions\"\n",
    "PROMPT_FILE    = PROMPTS_DIR / \"generate_questions.txt\"\n",
    "NOTE_FILE_NAME = \"few_shot_gpt4_separated.csv\"\n",
    "\n",
    "# Ensure output dir exists\n",
    "OUTPUT_DIR.mkdir(parents=True, exist_ok=True)"
   ]
  },
  {
   "cell_type": "code",
   "execution_count": 4,
   "id": "c8942296-3d79-4c86-91cc-207ab5e3a59c",
   "metadata": {
    "tags": []
   },
   "outputs": [],
   "source": [
    "prompt_template = PROMPT_FILE.read_text()\n",
    "note_file       = NOTES_DIR / NOTE_FILE_NAME\n",
    "notes           = pd.read_csv(note_file)"
   ]
  },
  {
   "cell_type": "code",
   "execution_count": 5,
   "id": "a8721d7d-9e1a-4d5d-b2c8-38a579cac6f5",
   "metadata": {
    "tags": []
   },
   "outputs": [
    {
     "data": {
      "text/html": [
       "<div>\n",
       "<style scoped>\n",
       "    .dataframe tbody tr th:only-of-type {\n",
       "        vertical-align: middle;\n",
       "    }\n",
       "\n",
       "    .dataframe tbody tr th {\n",
       "        vertical-align: top;\n",
       "    }\n",
       "\n",
       "    .dataframe thead th {\n",
       "        text-align: right;\n",
       "    }\n",
       "</style>\n",
       "<table border=\"1\" class=\"dataframe\">\n",
       "  <thead>\n",
       "    <tr style=\"text-align: right;\">\n",
       "      <th></th>\n",
       "      <th>note_excerpt</th>\n",
       "    </tr>\n",
       "  </thead>\n",
       "  <tbody>\n",
       "    <tr>\n",
       "      <th>0</th>\n",
       "      <td>surgical pathology consult the patient a 72yea...</td>\n",
       "    </tr>\n",
       "    <tr>\n",
       "      <th>1</th>\n",
       "      <td>admission date the patient arrived on 471830 w...</td>\n",
       "    </tr>\n",
       "    <tr>\n",
       "      <th>2</th>\n",
       "      <td>postoperative assessment patient underwent exp...</td>\n",
       "    </tr>\n",
       "    <tr>\n",
       "      <th>3</th>\n",
       "      <td>### Impression and Plan\\n\\npatient is a 65year...</td>\n",
       "    </tr>\n",
       "    <tr>\n",
       "      <th>4</th>\n",
       "      <td>physical exam on admission | the patient is a ...</td>\n",
       "    </tr>\n",
       "  </tbody>\n",
       "</table>\n",
       "</div>"
      ],
      "text/plain": [
       "                                        note_excerpt\n",
       "0  surgical pathology consult the patient a 72yea...\n",
       "1  admission date the patient arrived on 471830 w...\n",
       "2  postoperative assessment patient underwent exp...\n",
       "3  ### Impression and Plan\\n\\npatient is a 65year...\n",
       "4  physical exam on admission | the patient is a ..."
      ]
     },
     "execution_count": 5,
     "metadata": {},
     "output_type": "execute_result"
    }
   ],
   "source": [
    "notes.head()"
   ]
  },
  {
   "cell_type": "markdown",
   "id": "0949661d-2e59-4f9a-b294-d42140b772b5",
   "metadata": {},
   "source": [
    "Apply standard text cleaning"
   ]
  },
  {
   "cell_type": "code",
   "execution_count": 6,
   "id": "c98f1294-1504-4b16-94bb-48fbfd979476",
   "metadata": {
    "tags": []
   },
   "outputs": [
    {
     "data": {
      "text/plain": [
       "'surgical pathology consult the patient a 72yearold female presented with hematuria and was found to have a 6 cm complex cystic lesion on her right kidney via ct scan | history includes stage 2 breast cancer sp lumpectomy and adjuvant radiation in 7191 | the renal mass raised suspicion for malignancy and a nephrectomy was advised by her oncologist dr | pathology report confirmed clear cell renal carcinoma grade 2 with negative margins | patient was then referred to medical oncology for adjuvant therapy considerations | brief hospital course patient was admitted for elective right radical nephrectomy performed by urology on | intraoperatively no significant complications occurred | postoperative recovery was uneventful and the patient was advanced to a regular diet by pod 2 | on pod 3 patient developed a fever of 38.5c and tachycardia | blood cultures were positive for klebsiella pneumoniae and pt was started on iv ceftriaxone | fever resolved by pod 5 and patient completed a full 7day antibiotic course | patient was discharged home with oral antibiotics to complete 14 days total | follow up with urology in 2 weeks and oncology in 4 weeks planned | discharge medications include acetaminophen for pain prn and ciprofloxacin to complete the antibiotic course |'"
      ]
     },
     "execution_count": 6,
     "metadata": {},
     "output_type": "execute_result"
    }
   ],
   "source": [
    "notes.iloc[0][\"note_excerpt\"]"
   ]
  },
  {
   "cell_type": "markdown",
   "id": "3ca35eb9-b58b-4965-ac51-e3a5d2cd3134",
   "metadata": {},
   "source": [
    "**Clean notes**"
   ]
  },
  {
   "cell_type": "code",
   "execution_count": 7,
   "id": "6810be5d-d8d1-4929-9c41-e87557cf78d5",
   "metadata": {
    "tags": []
   },
   "outputs": [],
   "source": [
    "def clean_note_text(text: str) -> str:\n",
    "    text = text.strip()\n",
    "    text = text.replace('\\\\n', '\\n')               # un-escape newlines\n",
    "    text = re.sub(r'\\n{2,}', '\\n', text)           # collapse multiple newlines\n",
    "    text = re.sub(r'\\*{2}(.*?)\\*{2}', r'\\1', text) # remove **bold**\n",
    "    return text"
   ]
  },
  {
   "cell_type": "code",
   "execution_count": 8,
   "id": "788cc43d-d278-4872-8a9a-e4d45cdcf0ee",
   "metadata": {
    "tags": []
   },
   "outputs": [],
   "source": [
    "notes['cleaned'] = notes['note_excerpt'].apply(clean_note_text)"
   ]
  },
  {
   "cell_type": "markdown",
   "id": "0c575eea-4d44-4db9-9721-a6c829363139",
   "metadata": {},
   "source": [
    "**Tokenize on sentence level**"
   ]
  },
  {
   "cell_type": "code",
   "execution_count": 9,
   "id": "e4f68b39-8671-4b78-91a8-71b2137351b8",
   "metadata": {
    "tags": []
   },
   "outputs": [],
   "source": [
    "def split_sentences_by_line(note: str, delimiter=\"|\") -> list[str]:\n",
    "    lines = note.split(delimiter)\n",
    "    return [l.strip() for l in lines if l.strip()]"
   ]
  },
  {
   "cell_type": "code",
   "execution_count": 10,
   "id": "0792c41c-3d97-4a1b-89a6-7ddbd1d63647",
   "metadata": {
    "tags": []
   },
   "outputs": [],
   "source": [
    "notes[\"sentences\"] = notes[\"note_excerpt\"].apply(split_sentences_by_line)"
   ]
  },
  {
   "cell_type": "code",
   "execution_count": 11,
   "id": "9834b8ee-600c-4c3f-baed-e712b41e09e5",
   "metadata": {
    "tags": []
   },
   "outputs": [],
   "source": [
    "test = notes.iloc[0]"
   ]
  },
  {
   "cell_type": "code",
   "execution_count": 12,
   "id": "c25a8237-4234-4b62-a330-942cb1bc686c",
   "metadata": {
    "tags": []
   },
   "outputs": [
    {
     "data": {
      "text/plain": [
       "['surgical pathology consult the patient a 72yearold female presented with hematuria and was found to have a 6 cm complex cystic lesion on her right kidney via ct scan',\n",
       " 'history includes stage 2 breast cancer sp lumpectomy and adjuvant radiation in 7191',\n",
       " 'the renal mass raised suspicion for malignancy and a nephrectomy was advised by her oncologist dr',\n",
       " 'pathology report confirmed clear cell renal carcinoma grade 2 with negative margins',\n",
       " 'patient was then referred to medical oncology for adjuvant therapy considerations',\n",
       " 'brief hospital course patient was admitted for elective right radical nephrectomy performed by urology on',\n",
       " 'intraoperatively no significant complications occurred',\n",
       " 'postoperative recovery was uneventful and the patient was advanced to a regular diet by pod 2',\n",
       " 'on pod 3 patient developed a fever of 38.5c and tachycardia',\n",
       " 'blood cultures were positive for klebsiella pneumoniae and pt was started on iv ceftriaxone',\n",
       " 'fever resolved by pod 5 and patient completed a full 7day antibiotic course',\n",
       " 'patient was discharged home with oral antibiotics to complete 14 days total',\n",
       " 'follow up with urology in 2 weeks and oncology in 4 weeks planned',\n",
       " 'discharge medications include acetaminophen for pain prn and ciprofloxacin to complete the antibiotic course']"
      ]
     },
     "execution_count": 12,
     "metadata": {},
     "output_type": "execute_result"
    }
   ],
   "source": [
    "test.sentences"
   ]
  },
  {
   "cell_type": "markdown",
   "id": "e055b30c-e2bb-4372-abf4-de53f213a93a",
   "metadata": {},
   "source": [
    "# Build few‐shot examples"
   ]
  },
  {
   "cell_type": "code",
   "execution_count": 13,
   "id": "32ca68b4-56d3-4e39-9ce3-6e1f485840f0",
   "metadata": {
    "tags": []
   },
   "outputs": [],
   "source": [
    "arch_csv = DATA_DIR / \"dev\" / \"processed\" / \"medical_data.csv\"\n",
    "arch_data = pd.read_csv(arch_csv)"
   ]
  },
  {
   "cell_type": "code",
   "execution_count": 14,
   "id": "3de248d6-fa1c-4bcf-913b-449a0e27eafb",
   "metadata": {
    "tags": []
   },
   "outputs": [
    {
     "name": "stderr",
     "output_type": "stream",
     "text": [
      "/tmp/ipykernel_1117620/4066159794.py:6: DeprecationWarning: DataFrameGroupBy.apply operated on the grouping columns. This behavior is deprecated, and in a future version of pandas the grouping columns will be excluded from the operation. Either pass `include_groups=False` to exclude the groupings or explicitly select the grouping columns after groupby to silence this warning.\n",
      "  .apply(lambda df: pd.Series({\n"
     ]
    }
   ],
   "source": [
    "# select a few handpicked cases\n",
    "case_ids = [1, 3, 14, 19]\n",
    "num_examples = 4\n",
    "few = (arch_data[arch_data.case_id.isin(case_ids)]\n",
    "       .groupby('case_id')\n",
    "       .apply(lambda df: pd.Series({\n",
    "           'question': df.patient_question.iloc[0],\n",
    "           'clinician_question': df.clinician_question.iloc[0],\n",
    "           'sentences': df.sentence_text.tolist(),\n",
    "           'labels': [1 if r in ['essential','relevant'] else 0 for r in df.relevance]\n",
    "       }))\n",
    "       .reset_index()\n",
    "       .head(num_examples))"
   ]
  },
  {
   "cell_type": "code",
   "execution_count": 15,
   "id": "a127d809-052f-4193-932a-b81d5a063cd5",
   "metadata": {
    "tags": []
   },
   "outputs": [
    {
     "data": {
      "text/html": [
       "<div>\n",
       "<style scoped>\n",
       "    .dataframe tbody tr th:only-of-type {\n",
       "        vertical-align: middle;\n",
       "    }\n",
       "\n",
       "    .dataframe tbody tr th {\n",
       "        vertical-align: top;\n",
       "    }\n",
       "\n",
       "    .dataframe thead th {\n",
       "        text-align: right;\n",
       "    }\n",
       "</style>\n",
       "<table border=\"1\" class=\"dataframe\">\n",
       "  <thead>\n",
       "    <tr style=\"text-align: right;\">\n",
       "      <th></th>\n",
       "      <th>case_id</th>\n",
       "      <th>question</th>\n",
       "      <th>clinician_question</th>\n",
       "      <th>sentences</th>\n",
       "      <th>labels</th>\n",
       "    </tr>\n",
       "  </thead>\n",
       "  <tbody>\n",
       "    <tr>\n",
       "      <th>0</th>\n",
       "      <td>1</td>\n",
       "      <td>my question is if the sludge was there does no...</td>\n",
       "      <td>why was ercp recommended to him over continuin...</td>\n",
       "      <td>[brief hospital course, during the ercp a panc...</td>\n",
       "      <td>[0, 1, 0, 0, 0, 1, 1, 1, 0]</td>\n",
       "    </tr>\n",
       "    <tr>\n",
       "      <th>1</th>\n",
       "      <td>3</td>\n",
       "      <td>he is continously irritated and has headache w...</td>\n",
       "      <td>what is the expected course of recovery for him</td>\n",
       "      <td>[discharge instructions you were admitted to t...</td>\n",
       "      <td>[0, 0, 0, 0, 1, 1, 0, 0, 0, 0]</td>\n",
       "    </tr>\n",
       "    <tr>\n",
       "      <th>2</th>\n",
       "      <td>14</td>\n",
       "      <td>what would you say about cancer in the stomach</td>\n",
       "      <td>was there any evidence for stomach cancer</td>\n",
       "      <td>[discharge instructions you were admitted to t...</td>\n",
       "      <td>[1, 1, 0, 0, 0, 0, 0, 1, 1]</td>\n",
       "    </tr>\n",
       "    <tr>\n",
       "      <th>3</th>\n",
       "      <td>19</td>\n",
       "      <td>i went to er for a bladder infection the docto...</td>\n",
       "      <td>are her symptoms related to anxiety or cardiov...</td>\n",
       "      <td>[discharge instructions, why was i admitted to...</td>\n",
       "      <td>[0, 0, 0, 0, 0, 1, 1, 1, 0, 0, 0, 0, 0, 0, 0, ...</td>\n",
       "    </tr>\n",
       "  </tbody>\n",
       "</table>\n",
       "</div>"
      ],
      "text/plain": [
       "   case_id                                           question  \\\n",
       "0        1  my question is if the sludge was there does no...   \n",
       "1        3  he is continously irritated and has headache w...   \n",
       "2       14     what would you say about cancer in the stomach   \n",
       "3       19  i went to er for a bladder infection the docto...   \n",
       "\n",
       "                                  clinician_question  \\\n",
       "0  why was ercp recommended to him over continuin...   \n",
       "1    what is the expected course of recovery for him   \n",
       "2          was there any evidence for stomach cancer   \n",
       "3  are her symptoms related to anxiety or cardiov...   \n",
       "\n",
       "                                           sentences  \\\n",
       "0  [brief hospital course, during the ercp a panc...   \n",
       "1  [discharge instructions you were admitted to t...   \n",
       "2  [discharge instructions you were admitted to t...   \n",
       "3  [discharge instructions, why was i admitted to...   \n",
       "\n",
       "                                              labels  \n",
       "0                        [0, 1, 0, 0, 0, 1, 1, 1, 0]  \n",
       "1                     [0, 0, 0, 0, 1, 1, 0, 0, 0, 0]  \n",
       "2                        [1, 1, 0, 0, 0, 0, 0, 1, 1]  \n",
       "3  [0, 0, 0, 0, 0, 1, 1, 1, 0, 0, 0, 0, 0, 0, 0, ...  "
      ]
     },
     "execution_count": 15,
     "metadata": {},
     "output_type": "execute_result"
    }
   ],
   "source": [
    "few"
   ]
  },
  {
   "cell_type": "markdown",
   "id": "449be2fa-904f-40d9-bbf3-05ae37cda8f4",
   "metadata": {},
   "source": [
    "# Cleaning for Few-Shot Prompt"
   ]
  },
  {
   "cell_type": "code",
   "execution_count": 16,
   "id": "39dc4089-6f9f-4fdd-ad4b-96431b112f8b",
   "metadata": {
    "tags": []
   },
   "outputs": [],
   "source": [
    "def clean_question(raw: str) -> str:\n",
    "    \"\"\"\n",
    "    - Strip leading/trailing whitespace and stray newlines\n",
    "    - Collapse any internal newlines to spaces\n",
    "    - Capitalize the first character\n",
    "    - Remove any trailing punctuation (., !, ?)\n",
    "    - Add exactly one question mark at the end\n",
    "    \"\"\"\n",
    "    # strip & collapse newlines\n",
    "    s = raw.strip().replace(\"\\n\", \" \")\n",
    "    if not s:\n",
    "        return s\n",
    "    # normalize spaces\n",
    "    s = re.sub(r\"\\s+\", \" \", s)\n",
    "    # capitalize first char\n",
    "    s = s[0].upper() + s[1:]\n",
    "    # strip trailing punctuation\n",
    "    s = re.sub(r\"[?\\.!]+$\", \"\", s)\n",
    "    # append single question mark\n",
    "    return s + \"?\"\n",
    "\n",
    "def clean_sentence(raw: str) -> str:\n",
    "    return re.sub(r\"\\s+\", \" \", raw.strip())"
   ]
  },
  {
   "cell_type": "code",
   "execution_count": 17,
   "id": "37898191-2d1e-4606-a4e1-238e6faea87c",
   "metadata": {
    "tags": []
   },
   "outputs": [],
   "source": [
    "few[\"question\"]           = few[\"question\"].apply(clean_question)\n",
    "few[\"clinician_question\"] = few[\"clinician_question\"].apply(clean_question)\n",
    "few[\"sentences\"]          = few[\"sentences\"].apply(lambda lst: [clean_sentence(s) for s in lst])"
   ]
  },
  {
   "cell_type": "markdown",
   "id": "853dcc9e-accc-4b48-91de-a470a5d5dcc3",
   "metadata": {},
   "source": [
    "Fix typo manually "
   ]
  },
  {
   "cell_type": "code",
   "execution_count": 18,
   "id": "36be8305-c1f0-4f57-b3dc-34dc5215f15e",
   "metadata": {
    "tags": []
   },
   "outputs": [],
   "source": [
    "few.loc[1, \"question\"] = \"He is continuously irritated and has a headache when awake. What should I do?\""
   ]
  },
  {
   "cell_type": "code",
   "execution_count": 19,
   "id": "ce02b2cf-4b40-4023-99ee-dd9a77df9a8f",
   "metadata": {
    "tags": []
   },
   "outputs": [
    {
     "name": "stdout",
     "output_type": "stream",
     "text": [
      "1: My question is if the sludge was there does not the medication help in flushing it out whether ercp was the only cure?\n",
      "2: He is continuously irritated and has a headache when awake. What should I do?\n",
      "3: What would you say about cancer in the stomach?\n",
      "4: I went to er for a bladder infection the doctor asked if i had irregular heartbeats or afib which lead me getting very panicky?\n"
     ]
    }
   ],
   "source": [
    "for i, q in enumerate(few.question):\n",
    "    print(f\"{i+1}: {q}\")"
   ]
  },
  {
   "cell_type": "code",
   "execution_count": 20,
   "id": "6e6cabe4-b42c-4b59-940f-e675b40a932c",
   "metadata": {
    "tags": []
   },
   "outputs": [
    {
     "name": "stdout",
     "output_type": "stream",
     "text": [
      "1: discharge instructions\n",
      "2: why was i admitted to the hospital\n",
      "3: you were admitted to the hospital because you were having chest pain\n",
      "4: we wanted to rule out a cause\n",
      "5: what happened while i was here\n",
      "6: we did a very thorough work up to make sure your heart isnt the cause of your chest pain\n",
      "7: this included ekgs blood tests that look at whether the heart is under stress and a cat scan to make sure you didnt have a tear in any major blood vessels or a blood clot in your lungs\n",
      "8: these were all normal\n",
      "9: you did a stress test and another special heart study called a mibi which did not show any heart problems\n",
      "10: we gave you ativan and tylenol which improved your pain\n",
      "11: we also started you on a medicine called sertraline which helps with anxiety which might be the cause of your chest pain\n",
      "12: we checked your thyroid function which was normal\n",
      "13: we checked your cholesterol which was normal\n",
      "14: what should i do when i get home\n",
      "15: continue taking all your normal medications and the new sertraline and ativan to help with your chest pain\n",
      "16: you should see your primary care doctor this week\n",
      "17: heshe will discuss any additional tests you may need and help manage your new medications\n",
      "18: while taking ativan you should not drive or operate heavy machinery since this can be very dangerous\n"
     ]
    }
   ],
   "source": [
    "for i, sentence in enumerate(few.sentences[3]):\n",
    "    print(f\"{i+1}: {sentence}\")"
   ]
  },
  {
   "cell_type": "markdown",
   "id": "e761cc21-15ba-4368-8a73-3b4a53b4053c",
   "metadata": {},
   "source": [
    "**Format few‐shot block**"
   ]
  },
  {
   "cell_type": "code",
   "execution_count": 21,
   "id": "b2b377b7-4102-4795-8d47-f91ec9a84d73",
   "metadata": {
    "tags": []
   },
   "outputs": [],
   "source": [
    "def format_few_shot(df: pd.DataFrame) -> str:\n",
    "    exs = []\n",
    "    for _, row in df.iterrows():\n",
    "        numbered = \"\\n\".join(f\"{i+1}. {s}\" for i, s in enumerate(row.sentences))\n",
    "        relevant = [i+1 for i, lbl in enumerate(row.labels) if lbl]\n",
    "        exs.append(\n",
    "            f\"Note Excerpt:\\n{numbered}\\n\\n\"\n",
    "            f\"Patient Question: {row.question}\\n\"\n",
    "            f\"Clinician Question: {row.clinician_question}\\n\"\n",
    "            f\"Relevant Sentences: {relevant}\"\n",
    "        )\n",
    "    return \"\\n\\n---\\n\\n\".join(exs)\n",
    "\n",
    "few_shot_block = format_few_shot(few)"
   ]
  },
  {
   "cell_type": "markdown",
   "id": "eafc5f1f-9a91-4880-8b2a-7312cf803c84",
   "metadata": {},
   "source": [
    "# Build Prompt"
   ]
  },
  {
   "cell_type": "code",
   "execution_count": 22,
   "id": "80495131-72a3-4191-8a96-2b987c629ad8",
   "metadata": {
    "tags": []
   },
   "outputs": [],
   "source": [
    "prompt_template = (PROMPTS_DIR/\"generate_questions.txt\").read_text()"
   ]
  },
  {
   "cell_type": "code",
   "execution_count": 23,
   "id": "7fdeec2a-dee5-432a-9264-66450d078969",
   "metadata": {
    "tags": []
   },
   "outputs": [
    {
     "data": {
      "text/plain": [
       "'Here are examples on how to turn a clinical note excerpt into a patient‑style question, a clinician‑style question, and the sentences needed to answer it:\\n\\n{example_qas}\\n\\n---\\n\\nNow you are given a new clinical note excerpt from a patient’s electronic health record (EHR):\\n\\n---\\n{note}\\n---\\n\\nYour task is to:\\n1. Write exactly one realistic patient‑style question someone might ask after reading this note.\\n2. Rewrite that question in a formal, clinician‑friendly format.\\n3. Identify which sentences in the note are directly relevant to answering the question. Use sentence numbers starting from 1 and only include the ones you need.\\n\\nOnly include sentences you would quote when directly answering the patient’s question—omit any that merely describe admission details, lab results, or context unless those facts are literally part of your answer.\\nDon’t repeat the note itself in your answer—only output the three fields, exactly in this format:\\n\\nPatient Question: <your patient question>  \\nClinician Question: <your clinician question>  \\nRelevant Sentences: [<num1>, <num2>, …]'"
      ]
     },
     "execution_count": 23,
     "metadata": {},
     "output_type": "execute_result"
    }
   ],
   "source": [
    "prompt_template"
   ]
  },
  {
   "cell_type": "markdown",
   "id": "8bddf683-62a2-4af2-b15c-3a046df96061",
   "metadata": {},
   "source": [
    "# Generate"
   ]
  },
  {
   "cell_type": "markdown",
   "id": "82ea81be-32fd-4c6e-b50a-6ed4f34d35d3",
   "metadata": {},
   "source": [
    "**Helper functions**"
   ]
  },
  {
   "cell_type": "code",
   "execution_count": 24,
   "id": "cf9a6ca4-db95-4d0c-a031-82d9db3995c8",
   "metadata": {
    "tags": []
   },
   "outputs": [],
   "source": [
    "def is_valid_generation(text):\n",
    "    t = text.lower()\n",
    "    return (\"patient question:\" in t\n",
    "            and \"clinician question:\" in t\n",
    "            and \"relevant sentences\" in t\n",
    "            and \"[\" in t and \"]\" in t)\n",
    "\n",
    "def generate_from_vllm(prompt: str,\n",
    "                       temperature: float = 0.7,\n",
    "                       max_tokens: int = 1024,\n",
    "                       retries: int = 3,\n",
    "                       delay: int = 2) -> str:\n",
    "    payload = {\n",
    "        \"prompt\":     prompt,\n",
    "        \"temperature\": temperature,\n",
    "        \"max_tokens\":  max_tokens,\n",
    "        \"top_p\":       0.9,\n",
    "    }\n",
    "    for attempt in range(retries):\n",
    "        try:\n",
    "            r = requests.post(VLLM_URL, json=payload)\n",
    "            r.raise_for_status()            \n",
    "            return r.json()[\"choices\"][0][\"text\"].strip()        \n",
    "        except Exception as e:\n",
    "            print(f\"[Warning] Attempt {attempt+1} failed: {e}\")\n",
    "            time.sleep(delay)\n",
    "    return \"\""
   ]
  },
  {
   "cell_type": "code",
   "execution_count": 25,
   "id": "a738bfb0-a1b3-475d-acc0-3b8ddb90d236",
   "metadata": {
    "tags": []
   },
   "outputs": [],
   "source": [
    "def clean_output(raw: str) -> str:\n",
    "    # Split at the first occurrence of “Patient Question:”\n",
    "    sep = \"Patient Question:\"\n",
    "    parts = raw.split(sep, 1)\n",
    "    if len(parts) < 2:\n",
    "        raise ValueError(\"No Patient Question: in output\")\n",
    "    return sep + \" \" + parts[1].strip()"
   ]
  },
  {
   "cell_type": "code",
   "execution_count": 26,
   "id": "9484dac5-087d-44db-95b6-30c585d041c0",
   "metadata": {
    "tags": []
   },
   "outputs": [],
   "source": [
    "notes_test = notes"
   ]
  },
  {
   "cell_type": "code",
   "execution_count": 27,
   "id": "0646bcac-34d4-4ef9-b5bc-34a114e1c60a",
   "metadata": {
    "tags": []
   },
   "outputs": [
    {
     "data": {
      "application/vnd.jupyter.widget-view+json": {
       "model_id": "c45d21cd35df4e1f8e9b4a07d04a8e0b",
       "version_major": 2,
       "version_minor": 0
      },
      "text/plain": [
       "Generating:   0%|          | 0/300 [00:00<?, ?it/s]"
      ]
     },
     "metadata": {},
     "output_type": "display_data"
    }
   ],
   "source": [
    "# Generate questions for each note\n",
    "outputs = []\n",
    "for idx, row in tqdm(notes_test.iterrows(), total=len(notes_test), desc=\"Generating\"):\n",
    "    numbered = \"\\n\".join(f\"{i+1}. {s}\" for i, s in enumerate(row.sentences))\n",
    "    prompt = prompt_template.format(\n",
    "        example_qas=few_shot_block,\n",
    "        note=numbered\n",
    "    )\n",
    "    gen = generate_from_vllm(prompt)\n",
    "\n",
    "    if is_valid_generation(gen):\n",
    "        outputs.append({\n",
    "            \"id\":           idx,\n",
    "            \"note_excerpt\": row.cleaned,\n",
    "            \"sentences\":    row.sentences,\n",
    "            \"output\":       clean_output(gen)\n",
    "        })\n",
    "    else:\n",
    "        print(f\"[Warning] Invalid output for idx {idx}\")\n",
    "        print(\"Generation: \" + gen)"
   ]
  },
  {
   "cell_type": "markdown",
   "id": "b98a8c64-94ce-448f-a6bb-9bd928f21efc",
   "metadata": {},
   "source": [
    "# Quick sanity check"
   ]
  },
  {
   "cell_type": "code",
   "execution_count": 28,
   "id": "6678dc13-e036-4311-a078-15bac7648f0a",
   "metadata": {
    "tags": []
   },
   "outputs": [
    {
     "name": "stdout",
     "output_type": "stream",
     "text": [
      "Number of gen output: 300\n"
     ]
    }
   ],
   "source": [
    "print(f\"Number of gen output: {len(outputs)}\")"
   ]
  },
  {
   "cell_type": "code",
   "execution_count": 29,
   "id": "51ee2229-0b4f-4c2f-981d-0c8e7c06eebf",
   "metadata": {
    "tags": []
   },
   "outputs": [],
   "source": [
    "example = outputs[0]"
   ]
  },
  {
   "cell_type": "code",
   "execution_count": 30,
   "id": "35d50c30-60a3-48ae-84ee-823004e0e2c9",
   "metadata": {
    "tags": []
   },
   "outputs": [
    {
     "name": "stdout",
     "output_type": "stream",
     "text": [
      "1: surgical pathology consult the patient a 72yearold female presented with hematuria and was found to have a 6 cm complex cystic lesion on her right kidney via ct scan\n",
      "2: history includes stage 2 breast cancer sp lumpectomy and adjuvant radiation in 7191\n",
      "3: the renal mass raised suspicion for malignancy and a nephrectomy was advised by her oncologist dr\n",
      "4: pathology report confirmed clear cell renal carcinoma grade 2 with negative margins\n",
      "5: patient was then referred to medical oncology for adjuvant therapy considerations\n",
      "6: brief hospital course patient was admitted for elective right radical nephrectomy performed by urology on\n",
      "7: intraoperatively no significant complications occurred\n",
      "8: postoperative recovery was uneventful and the patient was advanced to a regular diet by pod 2\n",
      "9: on pod 3 patient developed a fever of 38.5c and tachycardia\n",
      "10: blood cultures were positive for klebsiella pneumoniae and pt was started on iv ceftriaxone\n",
      "11: fever resolved by pod 5 and patient completed a full 7day antibiotic course\n",
      "12: patient was discharged home with oral antibiotics to complete 14 days total\n",
      "13: follow up with urology in 2 weeks and oncology in 4 weeks planned\n",
      "14: discharge medications include acetaminophen for pain prn and ciprofloxacin to complete the antibiotic course\n"
     ]
    }
   ],
   "source": [
    "for i, sentence in enumerate(example[\"sentences\"]):\n",
    "    print(f\"{i+1}: {sentence}\")"
   ]
  },
  {
   "cell_type": "code",
   "execution_count": 31,
   "id": "1e9ff92a-26aa-4922-886c-50dd97634cb9",
   "metadata": {
    "tags": []
   },
   "outputs": [
    {
     "name": "stdout",
     "output_type": "stream",
     "text": [
      "Generated QA:\n",
      "\n",
      " Patient Question: I had surgery for a kidney tumor and then got a fever. Was the fever related to the surgery, or something else?\n",
      "Clinician Question: What was the etiology of the patient’s postoperative fever and how was it managed?\n",
      "Relevant Sentences: [9, 10, 11, 12]\n"
     ]
    }
   ],
   "source": [
    "print(\"Generated QA:\\n\\n\", example[\"output\"])"
   ]
  },
  {
   "cell_type": "code",
   "execution_count": 35,
   "id": "06628b19-4d11-433b-924a-9bd9552e6588",
   "metadata": {
    "tags": []
   },
   "outputs": [
    {
     "name": "stdout",
     "output_type": "stream",
     "text": [
      "Note excerpt:\n",
      " surgical pathology consult the patient a 72yearold female presented with hematuria and was found to have a 6 cm complex cystic lesion on her right kidney via ct scan | history includes stage 2 breast cancer sp lumpectomy and adjuvant radiation in 7191 | the renal mass raised suspicion for malignancy and a nephrectomy was advised by her oncologist dr | pathology report confirmed clear cell renal carcinoma grade 2 with negative margins | patient was then referred to medical oncology for adjuvant therapy considerations | brief hospital course patient was admitted for elective right radical nephrectomy performed by urology on | intraoperatively no significant complications occurred | postoperative recovery was uneventful and the patient was advanced to a regular diet by pod 2 | on pod 3 patient developed a fever of 38.5c and tachycardia | blood cultures were positive for klebsiella pneumoniae and pt was started on iv ceftriaxone | fever resolved by pod 5 and patient completed a full 7day antibiotic course | patient was discharged home with oral antibiotics to complete 14 days total | follow up with urology in 2 weeks and oncology in 4 weeks planned | discharge medications include acetaminophen for pain prn and ciprofloxacin to complete the antibiotic course | \n",
      "\n",
      "Generated QA:\n",
      " Patient Question: I had surgery for a kidney tumor and then got a fever. Was the fever related to the surgery, or something else?\n",
      "Clinician Question: What was the etiology of the patient’s postoperative fever and how was it managed?\n",
      "Relevant Sentences: [9, 10, 11, 12]\n"
     ]
    }
   ],
   "source": [
    "print(\"Note excerpt:\\n\", example[\"note_excerpt\"], \"\\n\")\n",
    "print(\"Generated QA:\\n\", example[\"output\"])"
   ]
  },
  {
   "cell_type": "markdown",
   "id": "24fb1a48-5cea-4938-89b7-2463d4bb8ae0",
   "metadata": {},
   "source": [
    "# Post Processing "
   ]
  },
  {
   "cell_type": "markdown",
   "id": "5314ef39-051d-4846-a3d9-a51aea90727c",
   "metadata": {},
   "source": [
    "**Rename the output column** "
   ]
  },
  {
   "cell_type": "code",
   "execution_count": 110,
   "id": "d03cc273-7eb5-4d70-8c99-c653a0e7c094",
   "metadata": {
    "tags": []
   },
   "outputs": [],
   "source": [
    "df_questions = df_questions.rename(columns={'output':'question'})"
   ]
  },
  {
   "cell_type": "markdown",
   "id": "3bbec92d-2641-4c77-b52b-61a23b061718",
   "metadata": {},
   "source": [
    "**Remove Seperators from notes**"
   ]
  },
  {
   "cell_type": "code",
   "execution_count": 111,
   "id": "b5a3cd33-dfa5-4431-ad95-bc0f5861593a",
   "metadata": {
    "tags": []
   },
   "outputs": [],
   "source": [
    "df_questions['note_excerpt'] = df_questions['note_excerpt'].str.replace(r'\\|', '', regex=True)"
   ]
  },
  {
   "cell_type": "code",
   "execution_count": 112,
   "id": "99499c1b-00d5-4a00-8f50-bef041b698a2",
   "metadata": {
    "tags": []
   },
   "outputs": [
    {
     "data": {
      "text/html": [
       "<div>\n",
       "<style scoped>\n",
       "    .dataframe tbody tr th:only-of-type {\n",
       "        vertical-align: middle;\n",
       "    }\n",
       "\n",
       "    .dataframe tbody tr th {\n",
       "        vertical-align: top;\n",
       "    }\n",
       "\n",
       "    .dataframe thead th {\n",
       "        text-align: right;\n",
       "    }\n",
       "</style>\n",
       "<table border=\"1\" class=\"dataframe\">\n",
       "  <thead>\n",
       "    <tr style=\"text-align: right;\">\n",
       "      <th></th>\n",
       "      <th>id</th>\n",
       "      <th>note_excerpt</th>\n",
       "      <th>sentences</th>\n",
       "      <th>question</th>\n",
       "    </tr>\n",
       "  </thead>\n",
       "  <tbody>\n",
       "    <tr>\n",
       "      <th>0</th>\n",
       "      <td>0</td>\n",
       "      <td>surgical pathology consult the patient a 72yea...</td>\n",
       "      <td>[surgical pathology consult the patient a 72ye...</td>\n",
       "      <td>Patient Question: I had surgery for a kidney t...</td>\n",
       "    </tr>\n",
       "    <tr>\n",
       "      <th>1</th>\n",
       "      <td>1</td>\n",
       "      <td>admission date the patient arrived on 471830 w...</td>\n",
       "      <td>[admission date the patient arrived on 471830 ...</td>\n",
       "      <td>Patient Question: I have kidney problems and h...</td>\n",
       "    </tr>\n",
       "    <tr>\n",
       "      <th>2</th>\n",
       "      <td>2</td>\n",
       "      <td>postoperative assessment patient underwent exp...</td>\n",
       "      <td>[postoperative assessment patient underwent ex...</td>\n",
       "      <td>Patient Question: I am worried about infection...</td>\n",
       "    </tr>\n",
       "    <tr>\n",
       "      <th>3</th>\n",
       "      <td>3</td>\n",
       "      <td>### Impression and Plan\\npatient is a 65yearol...</td>\n",
       "      <td>[### Impression and Plan\\n\\npatient is a 65yea...</td>\n",
       "      <td>Patient Question: Why do I have to take so man...</td>\n",
       "    </tr>\n",
       "    <tr>\n",
       "      <th>4</th>\n",
       "      <td>4</td>\n",
       "      <td>physical exam on admission  the patient is a 7...</td>\n",
       "      <td>[physical exam on admission, the patient is a ...</td>\n",
       "      <td>Patient Question: I am confused about all thes...</td>\n",
       "    </tr>\n",
       "  </tbody>\n",
       "</table>\n",
       "</div>"
      ],
      "text/plain": [
       "   id                                       note_excerpt  \\\n",
       "0   0  surgical pathology consult the patient a 72yea...   \n",
       "1   1  admission date the patient arrived on 471830 w...   \n",
       "2   2  postoperative assessment patient underwent exp...   \n",
       "3   3  ### Impression and Plan\\npatient is a 65yearol...   \n",
       "4   4  physical exam on admission  the patient is a 7...   \n",
       "\n",
       "                                           sentences  \\\n",
       "0  [surgical pathology consult the patient a 72ye...   \n",
       "1  [admission date the patient arrived on 471830 ...   \n",
       "2  [postoperative assessment patient underwent ex...   \n",
       "3  [### Impression and Plan\\n\\npatient is a 65yea...   \n",
       "4  [physical exam on admission, the patient is a ...   \n",
       "\n",
       "                                            question  \n",
       "0  Patient Question: I had surgery for a kidney t...  \n",
       "1  Patient Question: I have kidney problems and h...  \n",
       "2  Patient Question: I am worried about infection...  \n",
       "3  Patient Question: Why do I have to take so man...  \n",
       "4  Patient Question: I am confused about all thes...  "
      ]
     },
     "execution_count": 112,
     "metadata": {},
     "output_type": "execute_result"
    }
   ],
   "source": [
    "df_questions.head()"
   ]
  },
  {
   "cell_type": "markdown",
   "id": "246a4f63-3b24-4311-bbe5-62519072f3b4",
   "metadata": {},
   "source": [
    "**Split question into: Patient Q, Clinician Q and Relevant Sentences**"
   ]
  },
  {
   "cell_type": "code",
   "execution_count": 113,
   "id": "37832d1f-1bbb-4fc1-bb54-7eda8f8a09bd",
   "metadata": {
    "tags": []
   },
   "outputs": [],
   "source": [
    "df_questions[\n",
    "    ['patient_question','clinician_question','relevant_sentences']\n",
    "] = df_questions['question'].str.extract(\n",
    "    r'Patient Question:\\s*(.*?)\\n'\n",
    "    r'Clinician Question:\\s*(.*?)\\n'\n",
    "    r'Relevant Sentences:\\s*(.*)'\n",
    ")"
   ]
  },
  {
   "cell_type": "markdown",
   "id": "f7afd209-4e87-48cf-8d0b-1edb7686482c",
   "metadata": {
    "tags": []
   },
   "source": [
    "**Drop old question column**"
   ]
  },
  {
   "cell_type": "code",
   "execution_count": 114,
   "id": "b3125430-7c60-402b-a99e-4384a1f08823",
   "metadata": {
    "tags": []
   },
   "outputs": [],
   "source": [
    "df_questions = df_questions.drop(columns='question')"
   ]
  },
  {
   "cell_type": "markdown",
   "id": "58257adb-9753-4423-b678-37d6e6486724",
   "metadata": {
    "tags": []
   },
   "source": [
    "**Convert relevant_sentences from decimal to binary** "
   ]
  },
  {
   "cell_type": "code",
   "execution_count": 115,
   "id": "1f1b92c5-9428-4515-90ba-c94af4096d0b",
   "metadata": {
    "tags": []
   },
   "outputs": [],
   "source": [
    "# parse the literal list‐strings into actual lists\n",
    "df_questions['relevant_sentences'] = (\n",
    "    df_questions['relevant_sentences']\n",
    "      .apply(ast.literal_eval)\n",
    ")"
   ]
  },
  {
   "cell_type": "code",
   "execution_count": 116,
   "id": "a00151aa-ccd6-46d6-b6f0-7ee6c0f37184",
   "metadata": {
    "tags": []
   },
   "outputs": [],
   "source": [
    "df_questions['labels'] = df_questions.apply(\n",
    "  lambda row: [\n",
    "    1 if (i+1) in row['relevant_sentences'] else 0\n",
    "    for i in range(len(row['sentences']))\n",
    "  ],\n",
    "  axis=1\n",
    ")"
   ]
  },
  {
   "cell_type": "markdown",
   "id": "5972973c-ab9e-4436-9894-7540ca16e211",
   "metadata": {},
   "source": [
    "**Drop old relevant sentences column**"
   ]
  },
  {
   "cell_type": "code",
   "execution_count": 124,
   "id": "01b8a330-6727-472f-89db-7b74a4bc9385",
   "metadata": {
    "tags": []
   },
   "outputs": [],
   "source": [
    "df_questions = df_questions.drop(columns='relevant_sentences')"
   ]
  },
  {
   "cell_type": "markdown",
   "id": "1f2e712e-cead-488c-bc21-e2db6a37bcf1",
   "metadata": {},
   "source": [
    "**Clean generated text columns**"
   ]
  },
  {
   "cell_type": "code",
   "execution_count": null,
   "id": "5ae6c8da-be16-4bb0-89ce-0cdee76ef2e3",
   "metadata": {},
   "outputs": [],
   "source": [
    "text_columns = [\"patient_question\", \"clinician_question\", \"note_excerpt\"]\n",
    "list_columns = [\"sentences\"]"
   ]
  },
  {
   "cell_type": "code",
   "execution_count": null,
   "id": "cc3b5cb6-658d-44b6-b041-7edb01e791ea",
   "metadata": {},
   "outputs": [],
   "source": [
    "df_questions = util.clean_text_df(df_questions, text_columns = text_columns, list_columns = list_columns)"
   ]
  },
  {
   "cell_type": "markdown",
   "id": "62c32290-1d7f-4fed-b053-c41fb2a8eb99",
   "metadata": {},
   "source": [
    "**Reorder columns to improve readability**"
   ]
  },
  {
   "cell_type": "code",
   "execution_count": 14,
   "id": "4f7dcc93-8f02-4b39-ac4d-bba192c92c2b",
   "metadata": {
    "tags": []
   },
   "outputs": [],
   "source": [
    "df_questions = df_questions[[\n",
    "    \"patient_question\",\n",
    "    \"clinician_question\",\n",
    "    \"sentences\",\n",
    "    \"note_excerpt\",\n",
    "    \"labels\"\n",
    "]]"
   ]
  },
  {
   "cell_type": "markdown",
   "id": "dbd89add-52db-46d6-b5a7-c24e137fc031",
   "metadata": {},
   "source": [
    "**Last quick check**"
   ]
  },
  {
   "cell_type": "code",
   "execution_count": 15,
   "id": "0816c380-703d-4de0-b814-3658f5ec8df7",
   "metadata": {
    "tags": []
   },
   "outputs": [
    {
     "data": {
      "text/html": [
       "<div>\n",
       "<style scoped>\n",
       "    .dataframe tbody tr th:only-of-type {\n",
       "        vertical-align: middle;\n",
       "    }\n",
       "\n",
       "    .dataframe tbody tr th {\n",
       "        vertical-align: top;\n",
       "    }\n",
       "\n",
       "    .dataframe thead th {\n",
       "        text-align: right;\n",
       "    }\n",
       "</style>\n",
       "<table border=\"1\" class=\"dataframe\">\n",
       "  <thead>\n",
       "    <tr style=\"text-align: right;\">\n",
       "      <th></th>\n",
       "      <th>patient_question</th>\n",
       "      <th>clinician_question</th>\n",
       "      <th>sentences</th>\n",
       "      <th>note_excerpt</th>\n",
       "      <th>labels</th>\n",
       "    </tr>\n",
       "  </thead>\n",
       "  <tbody>\n",
       "    <tr>\n",
       "      <th>0</th>\n",
       "      <td>I had surgery for a kidney tumor and then got ...</td>\n",
       "      <td>What was the etiology of the patient’s postope...</td>\n",
       "      <td>[surgical pathology consult the patient a 72ye...</td>\n",
       "      <td>surgical pathology consult the patient a 72yea...</td>\n",
       "      <td>[0, 0, 0, 0, 0, 0, 0, 0, 1, 1, 1, 1, 0, 0]</td>\n",
       "    </tr>\n",
       "    <tr>\n",
       "      <th>1</th>\n",
       "      <td>I have kidney problems and high blood pressure...</td>\n",
       "      <td>What is the relationship between the patient's...</td>\n",
       "      <td>[admission date the patient arrived on 471830 ...</td>\n",
       "      <td>admission date the patient arrived on 471830 w...</td>\n",
       "      <td>[0, 0, 0, 0, 0, 0, 0, 1, 1, 0]</td>\n",
       "    </tr>\n",
       "    <tr>\n",
       "      <th>2</th>\n",
       "      <td>I am worried about infection, and I live alone...</td>\n",
       "      <td>What are the key discharge instructions regard...</td>\n",
       "      <td>[postoperative assessment patient underwent ex...</td>\n",
       "      <td>postoperative assessment patient underwent exp...</td>\n",
       "      <td>[0, 0, 0, 0, 0, 0, 0, 0, 0, 0, 0, 0, 0, 0, 0, ...</td>\n",
       "    </tr>\n",
       "    <tr>\n",
       "      <th>3</th>\n",
       "      <td>Why do I have to take so many medications?</td>\n",
       "      <td>What is the rationale for the patient's curren...</td>\n",
       "      <td>[### Impression and Plan patient is a 65yearol...</td>\n",
       "      <td>### Impression and Plan patient is a 65yearold...</td>\n",
       "      <td>[0, 0, 0, 0, 0, 0, 0, 0, 1, 0, 0]</td>\n",
       "    </tr>\n",
       "    <tr>\n",
       "      <th>4</th>\n",
       "      <td>I am confused about all these heart and kidney...</td>\n",
       "      <td>What is the rationale for initiating sacubitri...</td>\n",
       "      <td>[physical exam on admission, the patient is a ...</td>\n",
       "      <td>physical exam on admission the patient is a 74...</td>\n",
       "      <td>[0, 0, 1, 0, 0, 0, 0, 1, 1, 0, 0, 0, 1, 1, 0]</td>\n",
       "    </tr>\n",
       "  </tbody>\n",
       "</table>\n",
       "</div>"
      ],
      "text/plain": [
       "                                    patient_question  \\\n",
       "0  I had surgery for a kidney tumor and then got ...   \n",
       "1  I have kidney problems and high blood pressure...   \n",
       "2  I am worried about infection, and I live alone...   \n",
       "3         Why do I have to take so many medications?   \n",
       "4  I am confused about all these heart and kidney...   \n",
       "\n",
       "                                  clinician_question  \\\n",
       "0  What was the etiology of the patient’s postope...   \n",
       "1  What is the relationship between the patient's...   \n",
       "2  What are the key discharge instructions regard...   \n",
       "3  What is the rationale for the patient's curren...   \n",
       "4  What is the rationale for initiating sacubitri...   \n",
       "\n",
       "                                           sentences  \\\n",
       "0  [surgical pathology consult the patient a 72ye...   \n",
       "1  [admission date the patient arrived on 471830 ...   \n",
       "2  [postoperative assessment patient underwent ex...   \n",
       "3  [### Impression and Plan patient is a 65yearol...   \n",
       "4  [physical exam on admission, the patient is a ...   \n",
       "\n",
       "                                        note_excerpt  \\\n",
       "0  surgical pathology consult the patient a 72yea...   \n",
       "1  admission date the patient arrived on 471830 w...   \n",
       "2  postoperative assessment patient underwent exp...   \n",
       "3  ### Impression and Plan patient is a 65yearold...   \n",
       "4  physical exam on admission the patient is a 74...   \n",
       "\n",
       "                                              labels  \n",
       "0         [0, 0, 0, 0, 0, 0, 0, 0, 1, 1, 1, 1, 0, 0]  \n",
       "1                     [0, 0, 0, 0, 0, 0, 0, 1, 1, 0]  \n",
       "2  [0, 0, 0, 0, 0, 0, 0, 0, 0, 0, 0, 0, 0, 0, 0, ...  \n",
       "3                  [0, 0, 0, 0, 0, 0, 0, 0, 1, 0, 0]  \n",
       "4      [0, 0, 1, 0, 0, 0, 0, 1, 1, 0, 0, 0, 1, 1, 0]  "
      ]
     },
     "execution_count": 15,
     "metadata": {},
     "output_type": "execute_result"
    }
   ],
   "source": [
    "df_questions.head()"
   ]
  },
  {
   "cell_type": "markdown",
   "id": "9e5b0aec-ca72-4bfa-b97c-471ccf6fc301",
   "metadata": {},
   "source": [
    "# Save"
   ]
  },
  {
   "cell_type": "code",
   "execution_count": 12,
   "id": "eacfa3f0-d74e-4634-8b64-d027cdcbb984",
   "metadata": {
    "tags": []
   },
   "outputs": [
    {
     "name": "stdout",
     "output_type": "stream",
     "text": [
      "Saved to: ../data/synthetic/questions/generated_questions_RUN01.csv\n"
     ]
    }
   ],
   "source": [
    "out_file  = OUTPUT_DIR / \"generated_questions_RUN01.csv\"\n",
    "df_questions.to_csv(out_file, index=False)\n",
    "print(f\"Saved to: {out_file}\")"
   ]
  },
  {
   "cell_type": "code",
   "execution_count": null,
   "id": "9e4525b4-8fbd-4936-b918-278e45a00889",
   "metadata": {},
   "outputs": [],
   "source": []
  }
 ],
 "metadata": {
  "kernelspec": {
   "display_name": "Python 3 (ipykernel)",
   "language": "python",
   "name": "python3"
  },
  "language_info": {
   "codemirror_mode": {
    "name": "ipython",
    "version": 3
   },
   "file_extension": ".py",
   "mimetype": "text/x-python",
   "name": "python",
   "nbconvert_exporter": "python",
   "pygments_lexer": "ipython3",
   "version": "3.10.14"
  }
 },
 "nbformat": 4,
 "nbformat_minor": 5
}
