{
 "cells": [
  {
   "cell_type": "markdown",
   "id": "ed9307ed-da35-4a1d-97fb-614065e27345",
   "metadata": {},
   "source": [
    "# Import"
   ]
  },
  {
   "cell_type": "code",
   "execution_count": 6,
   "id": "7323be48-6dc8-4c83-9fdf-a7d6eb71d51d",
   "metadata": {
    "tags": []
   },
   "outputs": [],
   "source": [
    "import re\n",
    "import ast\n",
    "import time\n",
    "import random\n",
    "import requests\n",
    "import pandas as pd\n",
    "from pathlib import Path\n",
    "from datetime import datetime\n",
    "from tqdm.notebook import tqdm\n",
    "import nltk\n",
    "from nltk.tokenize import sent_tokenize\n",
    "\n",
    "import sys\n",
    "sys.path.append(\"../src\")\n",
    "import util.preprocessing_util as util"
   ]
  },
  {
   "cell_type": "markdown",
   "id": "b8eba278-ecfc-4d46-b299-6d798590356d",
   "metadata": {},
   "source": [
    "Download tokenizer"
   ]
  },
  {
   "cell_type": "code",
   "execution_count": 7,
   "id": "481b2a67-c4bb-4595-9c3e-838e861095ca",
   "metadata": {
    "tags": []
   },
   "outputs": [
    {
     "name": "stderr",
     "output_type": "stream",
     "text": [
      "[nltk_data] Downloading package punkt to\n",
      "[nltk_data]     /home/paul.schmitt/nltk_data...\n",
      "[nltk_data]   Package punkt is already up-to-date!\n"
     ]
    },
    {
     "data": {
      "text/plain": [
       "True"
      ]
     },
     "execution_count": 7,
     "metadata": {},
     "output_type": "execute_result"
    }
   ],
   "source": [
    "nltk.download('punkt')"
   ]
  },
  {
   "cell_type": "markdown",
   "id": "ce8a04f6-40d7-4a39-ae35-d7dc03e04ded",
   "metadata": {},
   "source": [
    "# Setup"
   ]
  },
  {
   "cell_type": "code",
   "execution_count": 114,
   "id": "d1f12356-da39-4bd2-ac7a-02c1911d22d7",
   "metadata": {
    "tags": []
   },
   "outputs": [],
   "source": [
    "# Directories and constants\n",
    "VLLM_URL       = \"http://localhost:8000/v1/completions\"\n",
    "PROMPTS_DIR    = Path(\"prompts\")\n",
    "DATA_DIR       = Path(\"../data\")\n",
    "NOTES_DIR      = DATA_DIR / \"synthetic\" / \"note-excerpts\"\n",
    "OUTPUT_DIR     = DATA_DIR / \"synthetic\" / \"questions\"\n",
    "PROMPT_FILE    = PROMPTS_DIR / \"generate_questions.txt\"\n",
    "NOTE_FILE_NAME = \"few_shot_gpt4_separated_V2.csv\"\n",
    "\n",
    "# Ensure output dir exists\n",
    "OUTPUT_DIR.mkdir(parents=True, exist_ok=True)"
   ]
  },
  {
   "cell_type": "code",
   "execution_count": 115,
   "id": "c8942296-3d79-4c86-91cc-207ab5e3a59c",
   "metadata": {
    "tags": []
   },
   "outputs": [],
   "source": [
    "prompt_template = PROMPT_FILE.read_text()\n",
    "note_file       = NOTES_DIR / NOTE_FILE_NAME\n",
    "notes           = pd.read_csv(note_file)"
   ]
  },
  {
   "cell_type": "code",
   "execution_count": 116,
   "id": "7b45ff79-d4ea-4201-9911-b8ddd0ac96f9",
   "metadata": {
    "tags": []
   },
   "outputs": [
    {
     "name": "stdout",
     "output_type": "stream",
     "text": [
      "Number of Notes: 1200\n"
     ]
    }
   ],
   "source": [
    "print(f\"Number of Notes: {len(notes)}\")"
   ]
  },
  {
   "cell_type": "code",
   "execution_count": 117,
   "id": "a8721d7d-9e1a-4d5d-b2c8-38a579cac6f5",
   "metadata": {
    "tags": []
   },
   "outputs": [
    {
     "data": {
      "text/html": [
       "<div>\n",
       "<style scoped>\n",
       "    .dataframe tbody tr th:only-of-type {\n",
       "        vertical-align: middle;\n",
       "    }\n",
       "\n",
       "    .dataframe tbody tr th {\n",
       "        vertical-align: top;\n",
       "    }\n",
       "\n",
       "    .dataframe thead th {\n",
       "        text-align: right;\n",
       "    }\n",
       "</style>\n",
       "<table border=\"1\" class=\"dataframe\">\n",
       "  <thead>\n",
       "    <tr style=\"text-align: right;\">\n",
       "      <th></th>\n",
       "      <th>note_excerpt</th>\n",
       "    </tr>\n",
       "  </thead>\n",
       "  <tbody>\n",
       "    <tr>\n",
       "      <th>0</th>\n",
       "      <td>plan patient is a 67yearold female with past m...</td>\n",
       "    </tr>\n",
       "    <tr>\n",
       "      <th>1</th>\n",
       "      <td>diagnosis and assessment  64yearold female wit...</td>\n",
       "    </tr>\n",
       "    <tr>\n",
       "      <th>2</th>\n",
       "      <td>brief hospital course | the patient was admitt...</td>\n",
       "    </tr>\n",
       "    <tr>\n",
       "      <th>3</th>\n",
       "      <td>brief hospital course  the patient was admitte...</td>\n",
       "    </tr>\n",
       "    <tr>\n",
       "      <th>4</th>\n",
       "      <td>procedures and operations right femoral-poplit...</td>\n",
       "    </tr>\n",
       "  </tbody>\n",
       "</table>\n",
       "</div>"
      ],
      "text/plain": [
       "                                        note_excerpt\n",
       "0  plan patient is a 67yearold female with past m...\n",
       "1  diagnosis and assessment  64yearold female wit...\n",
       "2  brief hospital course | the patient was admitt...\n",
       "3  brief hospital course  the patient was admitte...\n",
       "4  procedures and operations right femoral-poplit..."
      ]
     },
     "execution_count": 117,
     "metadata": {},
     "output_type": "execute_result"
    }
   ],
   "source": [
    "notes.head()"
   ]
  },
  {
   "cell_type": "markdown",
   "id": "0949661d-2e59-4f9a-b294-d42140b772b5",
   "metadata": {},
   "source": [
    "Apply standard text cleaning"
   ]
  },
  {
   "cell_type": "code",
   "execution_count": 118,
   "id": "c98f1294-1504-4b16-94bb-48fbfd979476",
   "metadata": {
    "tags": []
   },
   "outputs": [
    {
     "data": {
      "text/plain": [
       "'plan patient is a 67yearold female with past medical history significant for atrial fibrillation on coumadin presented with acute heart failure exacerbation| hospital course patient was admitted with complaints of increasing dyspnea orthopnea and lower extremity swelling over the past week| on admission patient was found to be in rapid afib with rates in the 150s and bnp significantly elevated| she was diuresed with iv lasix with significant improvement in symptoms and reduction in weight by approximately 3 kg| rate control was attempted with metoprolol but patient remained in rapid afib and was therefore cardioverted on hospital day 3| postcardioversion the patient was in sinus rhythm and her coumadin was resumed| during hospitalization an echo was performed revealing an ef of 30% with moderate mitral regurgitation| a heart failure consult was obtained and patient was started on an ace inhibitor carvedilol and spironolactone| discharge medication list includes coumadin dose to be managed by anticoagulation clinic metoprolol succinate 100 mg daily lasix 40 mg twice a day lisinopril 10 mg daily and spironolactone 25 mg daily| patient was advised to follow up with her cardiologist and to monitor her weight daily| she was also given education on low sodium diet and fluid restriction| followup appointments scheduled with cardiology and anticoagulation clinic in one week| patient stable for discharge|'"
      ]
     },
     "execution_count": 118,
     "metadata": {},
     "output_type": "execute_result"
    }
   ],
   "source": [
    "notes.iloc[0][\"note_excerpt\"]"
   ]
  },
  {
   "cell_type": "markdown",
   "id": "3ca35eb9-b58b-4965-ac51-e3a5d2cd3134",
   "metadata": {},
   "source": [
    "**Clean notes**"
   ]
  },
  {
   "cell_type": "code",
   "execution_count": 119,
   "id": "6810be5d-d8d1-4929-9c41-e87557cf78d5",
   "metadata": {
    "tags": []
   },
   "outputs": [],
   "source": [
    "def clean_note_text(text: str) -> str:\n",
    "    text = text.strip()\n",
    "    text = text.replace('\\\\n', '\\n')               # un-escape newlines\n",
    "    text = re.sub(r'\\n{2,}', '\\n', text)           # collapse multiple newlines\n",
    "    text = re.sub(r'\\*{2}(.*?)\\*{2}', r'\\1', text) # remove **bold**\n",
    "    return text"
   ]
  },
  {
   "cell_type": "code",
   "execution_count": 120,
   "id": "788cc43d-d278-4872-8a9a-e4d45cdcf0ee",
   "metadata": {
    "tags": []
   },
   "outputs": [],
   "source": [
    "notes['note_excerpt'] = notes['note_excerpt'].apply(clean_note_text)"
   ]
  },
  {
   "cell_type": "markdown",
   "id": "0c575eea-4d44-4db9-9721-a6c829363139",
   "metadata": {},
   "source": [
    "**Tokenize on sentence level**"
   ]
  },
  {
   "cell_type": "code",
   "execution_count": 121,
   "id": "e4f68b39-8671-4b78-91a8-71b2137351b8",
   "metadata": {
    "tags": []
   },
   "outputs": [],
   "source": [
    "def split_sentences_by_line(note: str, delimiter=\"|\") -> list[str]:\n",
    "    lines = note.split(delimiter)\n",
    "    return [l.strip() for l in lines if l.strip()]"
   ]
  },
  {
   "cell_type": "code",
   "execution_count": 122,
   "id": "0792c41c-3d97-4a1b-89a6-7ddbd1d63647",
   "metadata": {
    "tags": []
   },
   "outputs": [],
   "source": [
    "notes[\"sentences\"] = notes[\"note_excerpt\"].apply(split_sentences_by_line)"
   ]
  },
  {
   "cell_type": "code",
   "execution_count": 123,
   "id": "9834b8ee-600c-4c3f-baed-e712b41e09e5",
   "metadata": {
    "tags": []
   },
   "outputs": [],
   "source": [
    "test = notes.iloc[0]"
   ]
  },
  {
   "cell_type": "code",
   "execution_count": 124,
   "id": "c25a8237-4234-4b62-a330-942cb1bc686c",
   "metadata": {
    "tags": []
   },
   "outputs": [
    {
     "data": {
      "text/plain": [
       "['plan patient is a 67yearold female with past medical history significant for atrial fibrillation on coumadin presented with acute heart failure exacerbation',\n",
       " 'hospital course patient was admitted with complaints of increasing dyspnea orthopnea and lower extremity swelling over the past week',\n",
       " 'on admission patient was found to be in rapid afib with rates in the 150s and bnp significantly elevated',\n",
       " 'she was diuresed with iv lasix with significant improvement in symptoms and reduction in weight by approximately 3 kg',\n",
       " 'rate control was attempted with metoprolol but patient remained in rapid afib and was therefore cardioverted on hospital day 3',\n",
       " 'postcardioversion the patient was in sinus rhythm and her coumadin was resumed',\n",
       " 'during hospitalization an echo was performed revealing an ef of 30% with moderate mitral regurgitation',\n",
       " 'a heart failure consult was obtained and patient was started on an ace inhibitor carvedilol and spironolactone',\n",
       " 'discharge medication list includes coumadin dose to be managed by anticoagulation clinic metoprolol succinate 100 mg daily lasix 40 mg twice a day lisinopril 10 mg daily and spironolactone 25 mg daily',\n",
       " 'patient was advised to follow up with her cardiologist and to monitor her weight daily',\n",
       " 'she was also given education on low sodium diet and fluid restriction',\n",
       " 'followup appointments scheduled with cardiology and anticoagulation clinic in one week',\n",
       " 'patient stable for discharge']"
      ]
     },
     "execution_count": 124,
     "metadata": {},
     "output_type": "execute_result"
    }
   ],
   "source": [
    "test.sentences"
   ]
  },
  {
   "cell_type": "markdown",
   "id": "e055b30c-e2bb-4372-abf4-de53f213a93a",
   "metadata": {},
   "source": [
    "# Build few‐shot examples"
   ]
  },
  {
   "cell_type": "code",
   "execution_count": 125,
   "id": "32ca68b4-56d3-4e39-9ce3-6e1f485840f0",
   "metadata": {
    "tags": []
   },
   "outputs": [],
   "source": [
    "arch_csv = DATA_DIR / \"dev\" / \"processed\" / \"medical_data.csv\"\n",
    "arch_data = pd.read_csv(arch_csv)"
   ]
  },
  {
   "cell_type": "code",
   "execution_count": 126,
   "id": "938799d6-737f-477a-8b26-6d5d80357488",
   "metadata": {
    "tags": []
   },
   "outputs": [
    {
     "data": {
      "text/html": [
       "<div>\n",
       "<style scoped>\n",
       "    .dataframe tbody tr th:only-of-type {\n",
       "        vertical-align: middle;\n",
       "    }\n",
       "\n",
       "    .dataframe tbody tr th {\n",
       "        vertical-align: top;\n",
       "    }\n",
       "\n",
       "    .dataframe thead th {\n",
       "        text-align: right;\n",
       "    }\n",
       "</style>\n",
       "<table border=\"1\" class=\"dataframe\">\n",
       "  <thead>\n",
       "    <tr style=\"text-align: right;\">\n",
       "      <th></th>\n",
       "      <th>case_id</th>\n",
       "      <th>patient_question</th>\n",
       "      <th>clinician_question</th>\n",
       "      <th>note_excerpt</th>\n",
       "      <th>sentences</th>\n",
       "      <th>sentence_text</th>\n",
       "      <th>labels</th>\n",
       "    </tr>\n",
       "  </thead>\n",
       "  <tbody>\n",
       "    <tr>\n",
       "      <th>0</th>\n",
       "      <td>1</td>\n",
       "      <td>My question is if the sludge was there does no...</td>\n",
       "      <td>Why was ERCP recommended to him over continuin...</td>\n",
       "      <td>Brief Hospital Course: During the ERCP a pancr...</td>\n",
       "      <td>['Brief Hospital Course:', 'During the ERCP a ...</td>\n",
       "      <td>Brief Hospital Course:</td>\n",
       "      <td>[0, 1, 0, 0, 0, 1, 1, 1, 0]</td>\n",
       "    </tr>\n",
       "    <tr>\n",
       "      <th>1</th>\n",
       "      <td>2</td>\n",
       "      <td>dad given multiple shots of lasciks after he w...</td>\n",
       "      <td>Why was he given lasix and his oxygen flow rat...</td>\n",
       "      <td>Brief Hospital Course: Acute diastolic heart f...</td>\n",
       "      <td>['Brief Hospital Course:', 'Acute diastolic he...</td>\n",
       "      <td>Brief Hospital Course:</td>\n",
       "      <td>[0, 1, 0, 0, 1, 0, 0, 1, 0, 0, 0]</td>\n",
       "    </tr>\n",
       "    <tr>\n",
       "      <th>2</th>\n",
       "      <td>3</td>\n",
       "      <td>he is continously irritated and has headache w...</td>\n",
       "      <td>What is the expected course of recovery for him?</td>\n",
       "      <td>Discharge Instructions: You were admitted to t...</td>\n",
       "      <td>['Discharge Instructions: You were admitted to...</td>\n",
       "      <td>Discharge Instructions: You were admitted to t...</td>\n",
       "      <td>[0, 0, 0, 0, 1, 1, 0, 0, 0, 0]</td>\n",
       "    </tr>\n",
       "    <tr>\n",
       "      <th>3</th>\n",
       "      <td>4</td>\n",
       "      <td>My doctor performed a cardiac catherization.</td>\n",
       "      <td>Why was cardiac catheterization recommended to...</td>\n",
       "      <td>History of Present Illness: On the cardiology ...</td>\n",
       "      <td>['History of Present Illness:', 'On the cardio...</td>\n",
       "      <td>History of Present Illness:</td>\n",
       "      <td>[0, 0, 0, 0, 1, 0, 0, 0, 0, 0, 0, 0, 0, 0, 0, ...</td>\n",
       "    </tr>\n",
       "    <tr>\n",
       "      <th>4</th>\n",
       "      <td>5</td>\n",
       "      <td>I overdosed October 4th on trihexyphenidyl, th...</td>\n",
       "      <td>Is the pain connected to the overdose or somet...</td>\n",
       "      <td>Brief Hospital Course: # Bipolar d/o, PTSD, sc...</td>\n",
       "      <td>['Brief Hospital Course:', \"# Bipolar d/o, PTS...</td>\n",
       "      <td>Brief Hospital Course:</td>\n",
       "      <td>[0, 0, 1, 0, 0, 0, 0, 0, 1, 1, 1, 1, 1, 0, 0, ...</td>\n",
       "    </tr>\n",
       "  </tbody>\n",
       "</table>\n",
       "</div>"
      ],
      "text/plain": [
       "   case_id                                   patient_question  \\\n",
       "0        1  My question is if the sludge was there does no...   \n",
       "1        2  dad given multiple shots of lasciks after he w...   \n",
       "2        3  he is continously irritated and has headache w...   \n",
       "3        4       My doctor performed a cardiac catherization.   \n",
       "4        5  I overdosed October 4th on trihexyphenidyl, th...   \n",
       "\n",
       "                                  clinician_question  \\\n",
       "0  Why was ERCP recommended to him over continuin...   \n",
       "1  Why was he given lasix and his oxygen flow rat...   \n",
       "2   What is the expected course of recovery for him?   \n",
       "3  Why was cardiac catheterization recommended to...   \n",
       "4  Is the pain connected to the overdose or somet...   \n",
       "\n",
       "                                        note_excerpt  \\\n",
       "0  Brief Hospital Course: During the ERCP a pancr...   \n",
       "1  Brief Hospital Course: Acute diastolic heart f...   \n",
       "2  Discharge Instructions: You were admitted to t...   \n",
       "3  History of Present Illness: On the cardiology ...   \n",
       "4  Brief Hospital Course: # Bipolar d/o, PTSD, sc...   \n",
       "\n",
       "                                           sentences  \\\n",
       "0  ['Brief Hospital Course:', 'During the ERCP a ...   \n",
       "1  ['Brief Hospital Course:', 'Acute diastolic he...   \n",
       "2  ['Discharge Instructions: You were admitted to...   \n",
       "3  ['History of Present Illness:', 'On the cardio...   \n",
       "4  ['Brief Hospital Course:', \"# Bipolar d/o, PTS...   \n",
       "\n",
       "                                       sentence_text  \\\n",
       "0                             Brief Hospital Course:   \n",
       "1                             Brief Hospital Course:   \n",
       "2  Discharge Instructions: You were admitted to t...   \n",
       "3                        History of Present Illness:   \n",
       "4                             Brief Hospital Course:   \n",
       "\n",
       "                                              labels  \n",
       "0                        [0, 1, 0, 0, 0, 1, 1, 1, 0]  \n",
       "1                  [0, 1, 0, 0, 1, 0, 0, 1, 0, 0, 0]  \n",
       "2                     [0, 0, 0, 0, 1, 1, 0, 0, 0, 0]  \n",
       "3  [0, 0, 0, 0, 1, 0, 0, 0, 0, 0, 0, 0, 0, 0, 0, ...  \n",
       "4  [0, 0, 1, 0, 0, 0, 0, 0, 1, 1, 1, 1, 1, 0, 0, ...  "
      ]
     },
     "execution_count": 126,
     "metadata": {},
     "output_type": "execute_result"
    }
   ],
   "source": [
    "arch_data.head()"
   ]
  },
  {
   "cell_type": "markdown",
   "id": "2e86a1a6-458c-4942-adce-073096c2ab0b",
   "metadata": {},
   "source": [
    "Sentences and labels are still stringified lists --> back to actual Python lists"
   ]
  },
  {
   "cell_type": "code",
   "execution_count": 127,
   "id": "7cc4043f-fb6b-407f-b641-2d527c96eaa3",
   "metadata": {
    "tags": []
   },
   "outputs": [],
   "source": [
    "arch_data[\"sentences\"] = arch_data[\"sentences\"].apply(ast.literal_eval)\n",
    "arch_data[\"labels\"] = arch_data[\"labels\"].apply(ast.literal_eval)"
   ]
  },
  {
   "cell_type": "code",
   "execution_count": 128,
   "id": "3de248d6-fa1c-4bcf-913b-449a0e27eafb",
   "metadata": {
    "tags": []
   },
   "outputs": [
    {
     "name": "stderr",
     "output_type": "stream",
     "text": [
      "/tmp/ipykernel_1153299/1334344570.py:6: DeprecationWarning: DataFrameGroupBy.apply operated on the grouping columns. This behavior is deprecated, and in a future version of pandas the grouping columns will be excluded from the operation. Either pass `include_groups=False` to exclude the groupings or explicitly select the grouping columns after groupby to silence this warning.\n",
      "  .apply(lambda df: pd.Series({\n"
     ]
    }
   ],
   "source": [
    "# select a few handpicked cases\n",
    "case_ids = [1, 3, 14, 19]\n",
    "num_examples = 4\n",
    "few = (arch_data[arch_data.case_id.isin(case_ids)]\n",
    "       .groupby('case_id')\n",
    "       .apply(lambda df: pd.Series({\n",
    "           'question': df.patient_question.iloc[0],\n",
    "           'clinician_question': df.clinician_question.iloc[0],\n",
    "           'sentences': df.sentences.iloc[0],\n",
    "           'labels': df.labels.iloc[0]\n",
    "       }))\n",
    "       .reset_index()\n",
    "       .head(num_examples))"
   ]
  },
  {
   "cell_type": "code",
   "execution_count": 129,
   "id": "a127d809-052f-4193-932a-b81d5a063cd5",
   "metadata": {
    "tags": []
   },
   "outputs": [
    {
     "data": {
      "text/html": [
       "<div>\n",
       "<style scoped>\n",
       "    .dataframe tbody tr th:only-of-type {\n",
       "        vertical-align: middle;\n",
       "    }\n",
       "\n",
       "    .dataframe tbody tr th {\n",
       "        vertical-align: top;\n",
       "    }\n",
       "\n",
       "    .dataframe thead th {\n",
       "        text-align: right;\n",
       "    }\n",
       "</style>\n",
       "<table border=\"1\" class=\"dataframe\">\n",
       "  <thead>\n",
       "    <tr style=\"text-align: right;\">\n",
       "      <th></th>\n",
       "      <th>case_id</th>\n",
       "      <th>question</th>\n",
       "      <th>clinician_question</th>\n",
       "      <th>sentences</th>\n",
       "      <th>labels</th>\n",
       "    </tr>\n",
       "  </thead>\n",
       "  <tbody>\n",
       "    <tr>\n",
       "      <th>0</th>\n",
       "      <td>1</td>\n",
       "      <td>My question is if the sludge was there does no...</td>\n",
       "      <td>Why was ERCP recommended to him over continuin...</td>\n",
       "      <td>[Brief Hospital Course:, During the ERCP a pan...</td>\n",
       "      <td>[0, 1, 0, 0, 0, 1, 1, 1, 0]</td>\n",
       "    </tr>\n",
       "    <tr>\n",
       "      <th>1</th>\n",
       "      <td>3</td>\n",
       "      <td>he is continously irritated and has headache w...</td>\n",
       "      <td>What is the expected course of recovery for him?</td>\n",
       "      <td>[Discharge Instructions: You were admitted to ...</td>\n",
       "      <td>[0, 0, 0, 0, 1, 1, 0, 0, 0, 0]</td>\n",
       "    </tr>\n",
       "    <tr>\n",
       "      <th>2</th>\n",
       "      <td>14</td>\n",
       "      <td>What would you say about cancer in the stomach?</td>\n",
       "      <td>Was there any evidence for stomach cancer?</td>\n",
       "      <td>[Discharge Instructions: You were admitted to ...</td>\n",
       "      <td>[1, 1, 0, 0, 0, 0, 0, 1, 1]</td>\n",
       "    </tr>\n",
       "    <tr>\n",
       "      <th>3</th>\n",
       "      <td>19</td>\n",
       "      <td>I went to ER for a bladder infection. The doct...</td>\n",
       "      <td>Are her symptoms related to anxiety or cardiov...</td>\n",
       "      <td>[Discharge Instructions:, Why was I admitted t...</td>\n",
       "      <td>[0, 0, 0, 0, 0, 1, 1, 1, 0, 0, 0, 0, 0, 0, 0, ...</td>\n",
       "    </tr>\n",
       "  </tbody>\n",
       "</table>\n",
       "</div>"
      ],
      "text/plain": [
       "   case_id                                           question  \\\n",
       "0        1  My question is if the sludge was there does no...   \n",
       "1        3  he is continously irritated and has headache w...   \n",
       "2       14    What would you say about cancer in the stomach?   \n",
       "3       19  I went to ER for a bladder infection. The doct...   \n",
       "\n",
       "                                  clinician_question  \\\n",
       "0  Why was ERCP recommended to him over continuin...   \n",
       "1   What is the expected course of recovery for him?   \n",
       "2         Was there any evidence for stomach cancer?   \n",
       "3  Are her symptoms related to anxiety or cardiov...   \n",
       "\n",
       "                                           sentences  \\\n",
       "0  [Brief Hospital Course:, During the ERCP a pan...   \n",
       "1  [Discharge Instructions: You were admitted to ...   \n",
       "2  [Discharge Instructions: You were admitted to ...   \n",
       "3  [Discharge Instructions:, Why was I admitted t...   \n",
       "\n",
       "                                              labels  \n",
       "0                        [0, 1, 0, 0, 0, 1, 1, 1, 0]  \n",
       "1                     [0, 0, 0, 0, 1, 1, 0, 0, 0, 0]  \n",
       "2                        [1, 1, 0, 0, 0, 0, 0, 1, 1]  \n",
       "3  [0, 0, 0, 0, 0, 1, 1, 1, 0, 0, 0, 0, 0, 0, 0, ...  "
      ]
     },
     "execution_count": 129,
     "metadata": {},
     "output_type": "execute_result"
    }
   ],
   "source": [
    "few"
   ]
  },
  {
   "cell_type": "markdown",
   "id": "449be2fa-904f-40d9-bbf3-05ae37cda8f4",
   "metadata": {},
   "source": [
    "# Cleaning for Few-Shot Prompt"
   ]
  },
  {
   "cell_type": "code",
   "execution_count": 130,
   "id": "39dc4089-6f9f-4fdd-ad4b-96431b112f8b",
   "metadata": {
    "tags": []
   },
   "outputs": [],
   "source": [
    "def clean_question(raw: str) -> str:\n",
    "    \"\"\"\n",
    "    - Strip leading/trailing whitespace and stray newlines\n",
    "    - Collapse any internal newlines to spaces\n",
    "    - Capitalize the first character\n",
    "    - Remove any trailing punctuation (., !, ?)\n",
    "    - Add exactly one question mark at the end\n",
    "    \"\"\"\n",
    "    # strip & collapse newlines\n",
    "    s = raw.strip().replace(\"\\n\", \" \")\n",
    "    if not s:\n",
    "        return s\n",
    "    # normalize spaces\n",
    "    s = re.sub(r\"\\s+\", \" \", s)\n",
    "    # capitalize first char\n",
    "    s = s[0].upper() + s[1:]\n",
    "    # strip trailing punctuation\n",
    "    s = re.sub(r\"[?\\.!]+$\", \"\", s)\n",
    "    # append single question mark\n",
    "    return s + \"?\"\n",
    "\n",
    "def clean_sentence(raw: str) -> str:\n",
    "    return re.sub(r\"\\s+\", \" \", raw.strip())"
   ]
  },
  {
   "cell_type": "code",
   "execution_count": 131,
   "id": "37898191-2d1e-4606-a4e1-238e6faea87c",
   "metadata": {
    "tags": []
   },
   "outputs": [],
   "source": [
    "few[\"question\"]           = few[\"question\"].apply(clean_question)\n",
    "few[\"clinician_question\"] = few[\"clinician_question\"].apply(clean_question)\n",
    "few[\"sentences\"]          = few[\"sentences\"].apply(lambda lst: [clean_sentence(s) for s in lst])"
   ]
  },
  {
   "cell_type": "code",
   "execution_count": 132,
   "id": "3448ade7-7ddb-4522-80e9-67d275167306",
   "metadata": {
    "tags": []
   },
   "outputs": [
    {
     "data": {
      "text/html": [
       "<div>\n",
       "<style scoped>\n",
       "    .dataframe tbody tr th:only-of-type {\n",
       "        vertical-align: middle;\n",
       "    }\n",
       "\n",
       "    .dataframe tbody tr th {\n",
       "        vertical-align: top;\n",
       "    }\n",
       "\n",
       "    .dataframe thead th {\n",
       "        text-align: right;\n",
       "    }\n",
       "</style>\n",
       "<table border=\"1\" class=\"dataframe\">\n",
       "  <thead>\n",
       "    <tr style=\"text-align: right;\">\n",
       "      <th></th>\n",
       "      <th>case_id</th>\n",
       "      <th>question</th>\n",
       "      <th>clinician_question</th>\n",
       "      <th>sentences</th>\n",
       "      <th>labels</th>\n",
       "    </tr>\n",
       "  </thead>\n",
       "  <tbody>\n",
       "    <tr>\n",
       "      <th>0</th>\n",
       "      <td>1</td>\n",
       "      <td>My question is if the sludge was there does no...</td>\n",
       "      <td>Why was ERCP recommended to him over continuin...</td>\n",
       "      <td>[Brief Hospital Course:, During the ERCP a pan...</td>\n",
       "      <td>[0, 1, 0, 0, 0, 1, 1, 1, 0]</td>\n",
       "    </tr>\n",
       "    <tr>\n",
       "      <th>1</th>\n",
       "      <td>3</td>\n",
       "      <td>He is continously irritated and has headache w...</td>\n",
       "      <td>What is the expected course of recovery for him?</td>\n",
       "      <td>[Discharge Instructions: You were admitted to ...</td>\n",
       "      <td>[0, 0, 0, 0, 1, 1, 0, 0, 0, 0]</td>\n",
       "    </tr>\n",
       "    <tr>\n",
       "      <th>2</th>\n",
       "      <td>14</td>\n",
       "      <td>What would you say about cancer in the stomach?</td>\n",
       "      <td>Was there any evidence for stomach cancer?</td>\n",
       "      <td>[Discharge Instructions: You were admitted to ...</td>\n",
       "      <td>[1, 1, 0, 0, 0, 0, 0, 1, 1]</td>\n",
       "    </tr>\n",
       "    <tr>\n",
       "      <th>3</th>\n",
       "      <td>19</td>\n",
       "      <td>I went to ER for a bladder infection. The doct...</td>\n",
       "      <td>Are her symptoms related to anxiety or cardiov...</td>\n",
       "      <td>[Discharge Instructions:, Why was I admitted t...</td>\n",
       "      <td>[0, 0, 0, 0, 0, 1, 1, 1, 0, 0, 0, 0, 0, 0, 0, ...</td>\n",
       "    </tr>\n",
       "  </tbody>\n",
       "</table>\n",
       "</div>"
      ],
      "text/plain": [
       "   case_id                                           question  \\\n",
       "0        1  My question is if the sludge was there does no...   \n",
       "1        3  He is continously irritated and has headache w...   \n",
       "2       14    What would you say about cancer in the stomach?   \n",
       "3       19  I went to ER for a bladder infection. The doct...   \n",
       "\n",
       "                                  clinician_question  \\\n",
       "0  Why was ERCP recommended to him over continuin...   \n",
       "1   What is the expected course of recovery for him?   \n",
       "2         Was there any evidence for stomach cancer?   \n",
       "3  Are her symptoms related to anxiety or cardiov...   \n",
       "\n",
       "                                           sentences  \\\n",
       "0  [Brief Hospital Course:, During the ERCP a pan...   \n",
       "1  [Discharge Instructions: You were admitted to ...   \n",
       "2  [Discharge Instructions: You were admitted to ...   \n",
       "3  [Discharge Instructions:, Why was I admitted t...   \n",
       "\n",
       "                                              labels  \n",
       "0                        [0, 1, 0, 0, 0, 1, 1, 1, 0]  \n",
       "1                     [0, 0, 0, 0, 1, 1, 0, 0, 0, 0]  \n",
       "2                        [1, 1, 0, 0, 0, 0, 0, 1, 1]  \n",
       "3  [0, 0, 0, 0, 0, 1, 1, 1, 0, 0, 0, 0, 0, 0, 0, ...  "
      ]
     },
     "execution_count": 132,
     "metadata": {},
     "output_type": "execute_result"
    }
   ],
   "source": [
    "few.head()"
   ]
  },
  {
   "cell_type": "code",
   "execution_count": 133,
   "id": "ce02b2cf-4b40-4023-99ee-dd9a77df9a8f",
   "metadata": {
    "tags": []
   },
   "outputs": [
    {
     "name": "stdout",
     "output_type": "stream",
     "text": [
      "1: My question is if the sludge was there does not the medication help in flushing it out? Whether ERCP was the only cure?\n",
      "2: He is continously irritated and has headache when awake what do ido?\n",
      "3: What would you say about cancer in the stomach?\n",
      "4: I went to ER for a bladder infection. The doctor asked if I had irregular heartbeats or a-fib, which lead me getting very panicky?\n"
     ]
    }
   ],
   "source": [
    "for i, q in enumerate(few.question):\n",
    "    print(f\"{i+1}: {q}\")"
   ]
  },
  {
   "cell_type": "code",
   "execution_count": 134,
   "id": "6e6cabe4-b42c-4b59-940f-e675b40a932c",
   "metadata": {
    "tags": []
   },
   "outputs": [
    {
     "name": "stdout",
     "output_type": "stream",
     "text": [
      "1: Discharge Instructions:\n",
      "2: Why was I admitted to the hospital?\n",
      "3: You were admitted to the hospital because you were having chest pain.\n",
      "4: We wanted to rule out a ___ cause.\n",
      "5: What happened while I was here?\n",
      "6: - We did a very thorough work up to make sure your heart isn't the cause of your chest pain.\n",
      "7: This included EKGs, blood tests that look at whether the heart is under stress, and a CAT scan to make sure you didn't have a tear in any major blood vessels or a blood clot in your lungs.\n",
      "8: These were all normal.\n",
      "9: You did a stress test and another special heart study called a MIBI, which did not show any heart problems.\n",
      "10: - We gave you Ativan and Tylenol, which improved your pain.\n",
      "11: - We also started you on a medicine called sertraline which helps with anxiety, which might be the cause of your chest pain.\n",
      "12: - We checked your thyroid function which was normal.\n",
      "13: - We checked your cholesterol which was normal.\n",
      "14: What should I do when I get home?\n",
      "15: - Continue taking all your normal medications and the new sertraline and Ativan to help with your chest pain.\n",
      "16: - You should see your primary care doctor this week.\n",
      "17: He/she will discuss any additional tests you may need and help manage your new medications.\n",
      "18: - While taking Ativan, you should not drive or operate heavy machinery since this can be very dangerous.\n"
     ]
    }
   ],
   "source": [
    "for i, sentence in enumerate(few.sentences[3]):\n",
    "    print(f\"{i+1}: {sentence}\")"
   ]
  },
  {
   "cell_type": "markdown",
   "id": "e761cc21-15ba-4368-8a73-3b4a53b4053c",
   "metadata": {},
   "source": [
    "**Format few‐shot block**"
   ]
  },
  {
   "cell_type": "code",
   "execution_count": 135,
   "id": "b2b377b7-4102-4795-8d47-f91ec9a84d73",
   "metadata": {
    "tags": []
   },
   "outputs": [],
   "source": [
    "def format_few_shot(df: pd.DataFrame) -> str:\n",
    "    exs = []\n",
    "    for _, row in df.iterrows():\n",
    "        numbered = \"\\n\".join(f\"{i+1}. {s}\" for i, s in enumerate(row.sentences))\n",
    "        relevant = [i+1 for i, lbl in enumerate(row.labels) if lbl]\n",
    "        exs.append(\n",
    "            f\"Note Excerpt:\\n{numbered}\\n\\n\"\n",
    "            f\"Patient Question: {row.question}\\n\"\n",
    "            f\"Clinician Question: {row.clinician_question}\\n\"\n",
    "            f\"Relevant Sentences: {relevant}\"\n",
    "        )\n",
    "    return \"\\n\\n---\\n\\n\".join(exs)\n",
    "\n",
    "few_shot_block = format_few_shot(few)"
   ]
  },
  {
   "cell_type": "markdown",
   "id": "eafc5f1f-9a91-4880-8b2a-7312cf803c84",
   "metadata": {},
   "source": [
    "# Build Prompt"
   ]
  },
  {
   "cell_type": "code",
   "execution_count": 136,
   "id": "80495131-72a3-4191-8a96-2b987c629ad8",
   "metadata": {
    "tags": []
   },
   "outputs": [],
   "source": [
    "prompt_template = (PROMPTS_DIR/\"generate_questions.txt\").read_text()"
   ]
  },
  {
   "cell_type": "code",
   "execution_count": 137,
   "id": "7fdeec2a-dee5-432a-9264-66450d078969",
   "metadata": {
    "tags": []
   },
   "outputs": [
    {
     "data": {
      "text/plain": [
       "'Here are examples on how to turn a clinical note excerpt into a patient‑style question, a clinician‑style question, and the sentences needed to answer it:\\n\\n{example_qas}\\n\\n---\\n\\nNow you are given a new clinical note excerpt from a patient’s electronic health record (EHR):\\n\\n---\\n{note}\\n---\\n\\nYour task is to:\\n1. Write exactly one realistic patient‑style question someone might ask after reading this note.\\n2. Rewrite that question in a formal, clinician‑friendly format.\\n3. Identify which sentences in the note are directly relevant to answering the question. Use sentence numbers starting from 1 and only include the ones you need.\\n\\nOnly include sentences you would quote when directly answering the patient’s question—omit any that merely describe admission details, lab results, or context unless those facts are literally part of your answer.\\nDon’t repeat the note itself in your answer—only output the three fields, exactly in this format:\\n\\nPatient Question: <your patient question>  \\nClinician Question: <your clinician question>  \\nRelevant Sentences: [<num1>, <num2>, …]'"
      ]
     },
     "execution_count": 137,
     "metadata": {},
     "output_type": "execute_result"
    }
   ],
   "source": [
    "prompt_template"
   ]
  },
  {
   "cell_type": "markdown",
   "id": "8bddf683-62a2-4af2-b15c-3a046df96061",
   "metadata": {},
   "source": [
    "# Generate"
   ]
  },
  {
   "cell_type": "markdown",
   "id": "82ea81be-32fd-4c6e-b50a-6ed4f34d35d3",
   "metadata": {},
   "source": [
    "**Helper functions**"
   ]
  },
  {
   "cell_type": "code",
   "execution_count": 138,
   "id": "cf9a6ca4-db95-4d0c-a031-82d9db3995c8",
   "metadata": {
    "tags": []
   },
   "outputs": [],
   "source": [
    "def is_valid_generation(text):\n",
    "    t = text.lower()\n",
    "    return (\"patient question:\" in t\n",
    "            and \"clinician question:\" in t\n",
    "            and \"relevant sentences\" in t\n",
    "            and \"[\" in t and \"]\" in t)\n",
    "\n",
    "def generate_from_vllm(prompt: str,\n",
    "                       temperature: float = 0.7,\n",
    "                       max_tokens: int = 1024,\n",
    "                       retries: int = 3,\n",
    "                       delay: int = 2) -> str:\n",
    "    payload = {\n",
    "        \"prompt\":     prompt,\n",
    "        \"temperature\": temperature,\n",
    "        \"max_tokens\":  max_tokens,\n",
    "        \"top_p\":       0.9,\n",
    "    }\n",
    "    for attempt in range(retries):\n",
    "        try:\n",
    "            r = requests.post(VLLM_URL, json=payload)\n",
    "            r.raise_for_status()            \n",
    "            return r.json()[\"choices\"][0][\"text\"].strip()        \n",
    "        except Exception as e:\n",
    "            print(f\"[Warning] Attempt {attempt+1} failed: {e}\")\n",
    "            time.sleep(delay)\n",
    "    return \"\""
   ]
  },
  {
   "cell_type": "code",
   "execution_count": 139,
   "id": "a738bfb0-a1b3-475d-acc0-3b8ddb90d236",
   "metadata": {
    "tags": []
   },
   "outputs": [],
   "source": [
    "def clean_output(raw: str) -> str:\n",
    "    # Split at the first occurrence of “Patient Question:”\n",
    "    sep = \"Patient Question:\"\n",
    "    parts = raw.split(sep, 1)\n",
    "    if len(parts) < 2:\n",
    "        raise ValueError(\"No Patient Question: in output\")\n",
    "    return sep + \" \" + parts[1].strip()"
   ]
  },
  {
   "cell_type": "markdown",
   "id": "d74df122-4050-4f25-9751-d34fdd3888a4",
   "metadata": {},
   "source": [
    "**Quick sanity check**"
   ]
  },
  {
   "cell_type": "code",
   "execution_count": 140,
   "id": "9484dac5-087d-44db-95b6-30c585d041c0",
   "metadata": {
    "tags": []
   },
   "outputs": [
    {
     "data": {
      "text/html": [
       "<div>\n",
       "<style scoped>\n",
       "    .dataframe tbody tr th:only-of-type {\n",
       "        vertical-align: middle;\n",
       "    }\n",
       "\n",
       "    .dataframe tbody tr th {\n",
       "        vertical-align: top;\n",
       "    }\n",
       "\n",
       "    .dataframe thead th {\n",
       "        text-align: right;\n",
       "    }\n",
       "</style>\n",
       "<table border=\"1\" class=\"dataframe\">\n",
       "  <thead>\n",
       "    <tr style=\"text-align: right;\">\n",
       "      <th></th>\n",
       "      <th>note_excerpt</th>\n",
       "      <th>sentences</th>\n",
       "    </tr>\n",
       "  </thead>\n",
       "  <tbody>\n",
       "    <tr>\n",
       "      <th>0</th>\n",
       "      <td>plan patient is a 67yearold female with past m...</td>\n",
       "      <td>[plan patient is a 67yearold female with past ...</td>\n",
       "    </tr>\n",
       "    <tr>\n",
       "      <th>1</th>\n",
       "      <td>diagnosis and assessment  64yearold female wit...</td>\n",
       "      <td>[diagnosis and assessment  64yearold female wi...</td>\n",
       "    </tr>\n",
       "    <tr>\n",
       "      <th>2</th>\n",
       "      <td>brief hospital course | the patient was admitt...</td>\n",
       "      <td>[brief hospital course, the patient was admitt...</td>\n",
       "    </tr>\n",
       "    <tr>\n",
       "      <th>3</th>\n",
       "      <td>brief hospital course  the patient was admitte...</td>\n",
       "      <td>[brief hospital course  the patient was admitt...</td>\n",
       "    </tr>\n",
       "    <tr>\n",
       "      <th>4</th>\n",
       "      <td>procedures and operations right femoral-poplit...</td>\n",
       "      <td>[procedures and operations right femoral-popli...</td>\n",
       "    </tr>\n",
       "  </tbody>\n",
       "</table>\n",
       "</div>"
      ],
      "text/plain": [
       "                                        note_excerpt  \\\n",
       "0  plan patient is a 67yearold female with past m...   \n",
       "1  diagnosis and assessment  64yearold female wit...   \n",
       "2  brief hospital course | the patient was admitt...   \n",
       "3  brief hospital course  the patient was admitte...   \n",
       "4  procedures and operations right femoral-poplit...   \n",
       "\n",
       "                                           sentences  \n",
       "0  [plan patient is a 67yearold female with past ...  \n",
       "1  [diagnosis and assessment  64yearold female wi...  \n",
       "2  [brief hospital course, the patient was admitt...  \n",
       "3  [brief hospital course  the patient was admitt...  \n",
       "4  [procedures and operations right femoral-popli...  "
      ]
     },
     "execution_count": 140,
     "metadata": {},
     "output_type": "execute_result"
    }
   ],
   "source": [
    "notes.head()"
   ]
  },
  {
   "cell_type": "code",
   "execution_count": 144,
   "id": "0646bcac-34d4-4ef9-b5bc-34a114e1c60a",
   "metadata": {
    "tags": []
   },
   "outputs": [
    {
     "data": {
      "application/vnd.jupyter.widget-view+json": {
       "model_id": "bd3dc8b4cd5d43a3864e744ab585eb65",
       "version_major": 2,
       "version_minor": 0
      },
      "text/plain": [
       "Generating:   0%|          | 0/1200 [00:00<?, ?it/s]"
      ]
     },
     "metadata": {},
     "output_type": "display_data"
    },
    {
     "name": "stdout",
     "output_type": "stream",
     "text": [
      "[Warning] Invalid output for idx 1\n",
      "Generation: \n",
      "[Warning] Invalid output for idx 10\n",
      "Generation: \n",
      "[Warning] Invalid output for idx 27\n",
      "Generation: \n",
      "[Warning] Invalid output for idx 33\n",
      "Generation: \n",
      "[Warning] Invalid output for idx 34\n",
      "Generation: \n",
      "[Warning] Invalid output for idx 50\n",
      "Generation: \n",
      "[Warning] Invalid output for idx 55\n",
      "Generation: \n",
      "[Warning] Invalid output for idx 65\n",
      "Generation: \n",
      "[Warning] Invalid output for idx 72\n",
      "Generation: \n",
      "[Warning] Invalid output for idx 85\n",
      "Generation: \n",
      "[Warning] Invalid output for idx 99\n",
      "Generation: \n",
      "[Warning] Invalid output for idx 103\n",
      "Generation: \n",
      "[Warning] Invalid output for idx 109\n",
      "Generation: \n",
      "[Warning] Invalid output for idx 130\n",
      "Generation: \n",
      "[Warning] Invalid output for idx 134\n",
      "Generation: \n",
      "[Warning] Invalid output for idx 153\n",
      "Generation: \n",
      "[Warning] Invalid output for idx 164\n",
      "Generation: \n",
      "[Warning] Invalid output for idx 177\n",
      "Generation: \n",
      "[Warning] Invalid output for idx 184\n",
      "Generation: \n",
      "[Warning] Invalid output for idx 185\n",
      "Generation: \n",
      "[Warning] Invalid output for idx 188\n",
      "Generation: \n",
      "[Warning] Invalid output for idx 189\n",
      "Generation: \n",
      "[Warning] Invalid output for idx 190\n",
      "Generation: \n",
      "[Warning] Invalid output for idx 193\n",
      "Generation: \n",
      "[Warning] Invalid output for idx 210\n",
      "Generation: \n",
      "[Warning] Invalid output for idx 236\n",
      "Generation: \n",
      "[Warning] Invalid output for idx 253\n",
      "Generation: \n",
      "[Warning] Invalid output for idx 285\n",
      "Generation: \n",
      "[Warning] Invalid output for idx 289\n",
      "Generation: \n",
      "[Warning] Invalid output for idx 298\n",
      "Generation: \n",
      "[Warning] Invalid output for idx 313\n",
      "Generation: \n",
      "[Warning] Invalid output for idx 332\n",
      "Generation: \n",
      "[Warning] Invalid output for idx 336\n",
      "Generation: \n",
      "[Warning] Invalid output for idx 344\n",
      "Generation: \n",
      "[Warning] Invalid output for idx 352\n",
      "Generation: \n",
      "[Warning] Invalid output for idx 355\n",
      "Generation: \n",
      "[Warning] Invalid output for idx 358\n",
      "Generation: \n",
      "[Warning] Invalid output for idx 371\n",
      "Generation: \n",
      "[Warning] Invalid output for idx 406\n",
      "Generation: \n",
      "[Warning] Invalid output for idx 409\n",
      "Generation: \n",
      "[Warning] Invalid output for idx 411\n",
      "Generation: \n",
      "[Warning] Invalid output for idx 415\n",
      "Generation: \n",
      "[Warning] Invalid output for idx 430\n",
      "Generation: \n",
      "[Warning] Invalid output for idx 437\n",
      "Generation: \n",
      "[Warning] Invalid output for idx 438\n",
      "Generation: \n",
      "[Warning] Invalid output for idx 440\n",
      "Generation: \n",
      "[Warning] Invalid output for idx 449\n",
      "Generation: \n",
      "[Warning] Invalid output for idx 451\n",
      "Generation: \n",
      "[Warning] Invalid output for idx 470\n",
      "Generation: \n",
      "[Warning] Invalid output for idx 479\n",
      "Generation: \n",
      "[Warning] Invalid output for idx 483\n",
      "Generation: \n",
      "[Warning] Invalid output for idx 493\n",
      "Generation: \n",
      "[Warning] Invalid output for idx 495\n",
      "Generation: \n",
      "[Warning] Invalid output for idx 496\n",
      "Generation: \n",
      "[Warning] Invalid output for idx 500\n",
      "Generation: \n",
      "[Warning] Invalid output for idx 501\n",
      "Generation: \n",
      "[Warning] Invalid output for idx 505\n",
      "Generation: \n",
      "[Warning] Invalid output for idx 518\n",
      "Generation: \n",
      "[Warning] Invalid output for idx 530\n",
      "Generation: \n",
      "[Warning] Invalid output for idx 535\n",
      "Generation: \n",
      "[Warning] Invalid output for idx 543\n",
      "Generation: \n",
      "[Warning] Invalid output for idx 563\n",
      "Generation: \n",
      "[Warning] Invalid output for idx 577\n",
      "Generation: \n",
      "[Warning] Invalid output for idx 584\n",
      "Generation: \n",
      "[Warning] Invalid output for idx 585\n",
      "Generation: \n",
      "[Warning] Invalid output for idx 616\n",
      "Generation: \n",
      "[Warning] Invalid output for idx 625\n",
      "Generation: \n",
      "[Warning] Invalid output for idx 630\n",
      "Generation: \n",
      "[Warning] Invalid output for idx 634\n",
      "Generation: \n",
      "[Warning] Invalid output for idx 654\n",
      "Generation: \n",
      "[Warning] Invalid output for idx 660\n",
      "Generation: \n",
      "[Warning] Invalid output for idx 695\n",
      "Generation: \n",
      "[Warning] Invalid output for idx 701\n",
      "Generation: \n",
      "[Warning] Invalid output for idx 702\n",
      "Generation: \n",
      "[Warning] Invalid output for idx 720\n",
      "Generation: \n",
      "[Warning] Invalid output for idx 726\n",
      "Generation: \n",
      "[Warning] Invalid output for idx 730\n",
      "Generation: \n",
      "[Warning] Invalid output for idx 739\n",
      "Generation: \n",
      "[Warning] Invalid output for idx 751\n",
      "Generation: \n",
      "[Warning] Invalid output for idx 773\n",
      "Generation: \n",
      "[Warning] Invalid output for idx 783\n",
      "Generation: \n",
      "[Warning] Invalid output for idx 793\n",
      "Generation: \n",
      "[Warning] Invalid output for idx 800\n",
      "Generation: \n",
      "[Warning] Invalid output for idx 801\n",
      "Generation: \n",
      "[Warning] Invalid output for idx 811\n",
      "Generation: \n",
      "[Warning] Invalid output for idx 832\n",
      "Generation: \n",
      "[Warning] Invalid output for idx 847\n",
      "Generation: \n",
      "[Warning] Invalid output for idx 851\n",
      "Generation: \n",
      "[Warning] Invalid output for idx 860\n",
      "Generation: \n",
      "[Warning] Invalid output for idx 864\n",
      "Generation: \n",
      "[Warning] Invalid output for idx 867\n",
      "Generation: \n",
      "[Warning] Invalid output for idx 873\n",
      "Generation: \n",
      "[Warning] Invalid output for idx 881\n",
      "Generation: \n",
      "[Warning] Invalid output for idx 887\n",
      "Generation: \n",
      "[Warning] Invalid output for idx 933\n",
      "Generation: \n",
      "[Warning] Invalid output for idx 936\n",
      "Generation: \n",
      "[Warning] Invalid output for idx 949\n",
      "Generation: \n",
      "[Warning] Invalid output for idx 960\n",
      "Generation: \n",
      "[Warning] Invalid output for idx 965\n",
      "Generation: \n",
      "[Warning] Invalid output for idx 976\n",
      "Generation: \n",
      "[Warning] Invalid output for idx 978\n",
      "Generation: \n",
      "[Warning] Invalid output for idx 980\n",
      "Generation: \n",
      "[Warning] Invalid output for idx 987\n",
      "Generation: \n",
      "[Warning] Invalid output for idx 993\n",
      "Generation: \n",
      "[Warning] Invalid output for idx 998\n",
      "Generation: \n",
      "[Warning] Invalid output for idx 1009\n",
      "Generation: \n",
      "[Warning] Invalid output for idx 1030\n",
      "Generation: \n",
      "[Warning] Invalid output for idx 1037\n",
      "Generation: \n",
      "[Warning] Invalid output for idx 1043\n",
      "Generation: \n",
      "[Warning] Invalid output for idx 1049\n",
      "Generation: \n",
      "[Warning] Invalid output for idx 1057\n",
      "Generation: \n",
      "[Warning] Invalid output for idx 1080\n",
      "Generation: \n",
      "[Warning] Invalid output for idx 1085\n",
      "Generation: \n",
      "[Warning] Invalid output for idx 1091\n",
      "Generation: \n",
      "[Warning] Invalid output for idx 1099\n",
      "Generation: \n",
      "[Warning] Invalid output for idx 1115\n",
      "Generation: \n",
      "[Warning] Invalid output for idx 1119\n",
      "Generation: \n",
      "[Warning] Invalid output for idx 1123\n",
      "Generation: \n",
      "[Warning] Invalid output for idx 1127\n",
      "Generation: \n",
      "[Warning] Invalid output for idx 1128\n",
      "Generation: \n",
      "[Warning] Invalid output for idx 1134\n",
      "Generation: \n",
      "[Warning] Invalid output for idx 1143\n",
      "Generation: \n",
      "[Warning] Invalid output for idx 1148\n",
      "Generation: \n",
      "[Warning] Invalid output for idx 1167\n",
      "Generation: \n",
      "[Warning] Invalid output for idx 1169\n",
      "Generation: \n",
      "[Warning] Invalid output for idx 1185\n",
      "Generation: \n"
     ]
    }
   ],
   "source": [
    "# Generate questions for each note\n",
    "outputs = []\n",
    "for idx, row in tqdm(notes.iterrows(), total=len(notes), desc=\"Generating\"):\n",
    "    numbered = \"\\n\".join(f\"{i+1}. {s}\" for i, s in enumerate(row.sentences))\n",
    "    prompt = prompt_template.format(\n",
    "        example_qas=few_shot_block,\n",
    "        note=numbered\n",
    "    )\n",
    "    gen = generate_from_vllm(prompt)\n",
    "\n",
    "    if is_valid_generation(gen):\n",
    "        outputs.append({\n",
    "            \"id\":           idx,\n",
    "            \"note_excerpt\": row.note_excerpt,\n",
    "            \"sentences\":    row.sentences,\n",
    "            \"output\":       clean_output(gen)\n",
    "        })\n",
    "    else:\n",
    "        print(f\"[Warning] Invalid output for idx {idx}\")\n",
    "        print(\"Generation: \" + gen)"
   ]
  },
  {
   "cell_type": "markdown",
   "id": "b98a8c64-94ce-448f-a6bb-9bd928f21efc",
   "metadata": {},
   "source": [
    "# Quick sanity check"
   ]
  },
  {
   "cell_type": "code",
   "execution_count": 145,
   "id": "6678dc13-e036-4311-a078-15bac7648f0a",
   "metadata": {
    "tags": []
   },
   "outputs": [
    {
     "name": "stdout",
     "output_type": "stream",
     "text": [
      "Number of gen output: 1074\n"
     ]
    }
   ],
   "source": [
    "print(f\"Number of gen output: {len(outputs)}\")"
   ]
  },
  {
   "cell_type": "code",
   "execution_count": 152,
   "id": "51ee2229-0b4f-4c2f-981d-0c8e7c06eebf",
   "metadata": {
    "tags": []
   },
   "outputs": [],
   "source": [
    "example = outputs[2]"
   ]
  },
  {
   "cell_type": "code",
   "execution_count": 153,
   "id": "35d50c30-60a3-48ae-84ee-823004e0e2c9",
   "metadata": {
    "tags": []
   },
   "outputs": [
    {
     "name": "stdout",
     "output_type": "stream",
     "text": [
      "1: brief hospital course  the patient was admitted with severe dehydration secondary to persistent vomiting and diarrhea which began after consuming spoiled food\n",
      "2: despite initial fluid resuscitation with normal saline and electrolyte replacement, the patient’s renal function continued to decline\n",
      "3: creatinine peaked at 3.2 on hospital day 3\n",
      "4: nephrology was consulted and recommended starting the patient on intravenous fluids with bicarbonate as well as adjusting the electrolyte replacement to address ongoing metabolic acidosis\n",
      "5: repeated lab work showed improvement in renal function by hospital day 5 with creatinine trending down to 2.1\n",
      "6: patient was monitored closely for signs of refeeding syndrome and hypophosphatemia was noted on day 4, for which IV phosphorus was administered\n",
      "7: discharge instructions included avoidance of high potassium and phosphorus foods, and to maintain adequate hydration\n",
      "8: patient to follow up with nephrology and primary care physician to reassess renal function and electrolyte balance\n",
      "9: the patient was ultimately discharged on hospital day 6 in stable condition, with a plan to avoid dietary indiscretion in the future\n"
     ]
    }
   ],
   "source": [
    "for i, sentence in enumerate(example[\"sentences\"]):\n",
    "    print(f\"{i+1}: {sentence}\")"
   ]
  },
  {
   "cell_type": "code",
   "execution_count": 154,
   "id": "1e9ff92a-26aa-4922-886c-50dd97634cb9",
   "metadata": {
    "tags": []
   },
   "outputs": [
    {
     "name": "stdout",
     "output_type": "stream",
     "text": [
      "Generated QA:\n",
      "\n",
      " Patient Question: Why did I need IV fluids with bicarbonate?\n",
      "Clinician Question: What was the rationale for initiating intravenous fluids with bicarbonate in this patient?\n",
      "Relevant Sentences: [4]\n"
     ]
    }
   ],
   "source": [
    "print(\"Generated QA:\\n\\n\", example[\"output\"])"
   ]
  },
  {
   "cell_type": "code",
   "execution_count": 155,
   "id": "06628b19-4d11-433b-924a-9bd9552e6588",
   "metadata": {
    "tags": []
   },
   "outputs": [
    {
     "name": "stdout",
     "output_type": "stream",
     "text": [
      "Note excerpt:\n",
      " brief hospital course  the patient was admitted with severe dehydration secondary to persistent vomiting and diarrhea which began after consuming spoiled food | despite initial fluid resuscitation with normal saline and electrolyte replacement, the patient’s renal function continued to decline | creatinine peaked at 3.2 on hospital day 3 | nephrology was consulted and recommended starting the patient on intravenous fluids with bicarbonate as well as adjusting the electrolyte replacement to address ongoing metabolic acidosis | repeated lab work showed improvement in renal function by hospital day 5 with creatinine trending down to 2.1 | patient was monitored closely for signs of refeeding syndrome and hypophosphatemia was noted on day 4, for which IV phosphorus was administered | discharge instructions included avoidance of high potassium and phosphorus foods, and to maintain adequate hydration | patient to follow up with nephrology and primary care physician to reassess renal function and electrolyte balance | the patient was ultimately discharged on hospital day 6 in stable condition, with a plan to avoid dietary indiscretion in the future | \n",
      "\n",
      "Generated QA:\n",
      " Patient Question: Why did I need IV fluids with bicarbonate?\n",
      "Clinician Question: What was the rationale for initiating intravenous fluids with bicarbonate in this patient?\n",
      "Relevant Sentences: [4]\n"
     ]
    }
   ],
   "source": [
    "print(\"Note excerpt:\\n\", example[\"note_excerpt\"], \"\\n\")\n",
    "print(\"Generated QA:\\n\", example[\"output\"])"
   ]
  },
  {
   "cell_type": "markdown",
   "id": "24fb1a48-5cea-4938-89b7-2463d4bb8ae0",
   "metadata": {},
   "source": [
    "# Post Processing "
   ]
  },
  {
   "cell_type": "code",
   "execution_count": 165,
   "id": "a334a9f9-a41e-4f2d-b16b-becd9d9c2fc3",
   "metadata": {
    "tags": []
   },
   "outputs": [],
   "source": [
    "df_questions = pd.DataFrame(outputs)"
   ]
  },
  {
   "cell_type": "markdown",
   "id": "5314ef39-051d-4846-a3d9-a51aea90727c",
   "metadata": {},
   "source": [
    "**Rename the output column** "
   ]
  },
  {
   "cell_type": "code",
   "execution_count": 166,
   "id": "d03cc273-7eb5-4d70-8c99-c653a0e7c094",
   "metadata": {
    "tags": []
   },
   "outputs": [],
   "source": [
    "df_questions = df_questions.rename(columns={'output':'question'})"
   ]
  },
  {
   "cell_type": "markdown",
   "id": "3bbec92d-2641-4c77-b52b-61a23b061718",
   "metadata": {},
   "source": [
    "**Remove Seperators from notes**"
   ]
  },
  {
   "cell_type": "code",
   "execution_count": 167,
   "id": "b5a3cd33-dfa5-4431-ad95-bc0f5861593a",
   "metadata": {
    "tags": []
   },
   "outputs": [],
   "source": [
    "df_questions['note_excerpt'] = df_questions['note_excerpt'].str.replace(r'\\|', '', regex=True)"
   ]
  },
  {
   "cell_type": "code",
   "execution_count": 168,
   "id": "99499c1b-00d5-4a00-8f50-bef041b698a2",
   "metadata": {
    "tags": []
   },
   "outputs": [
    {
     "data": {
      "text/html": [
       "<div>\n",
       "<style scoped>\n",
       "    .dataframe tbody tr th:only-of-type {\n",
       "        vertical-align: middle;\n",
       "    }\n",
       "\n",
       "    .dataframe tbody tr th {\n",
       "        vertical-align: top;\n",
       "    }\n",
       "\n",
       "    .dataframe thead th {\n",
       "        text-align: right;\n",
       "    }\n",
       "</style>\n",
       "<table border=\"1\" class=\"dataframe\">\n",
       "  <thead>\n",
       "    <tr style=\"text-align: right;\">\n",
       "      <th></th>\n",
       "      <th>id</th>\n",
       "      <th>note_excerpt</th>\n",
       "      <th>sentences</th>\n",
       "      <th>question</th>\n",
       "    </tr>\n",
       "  </thead>\n",
       "  <tbody>\n",
       "    <tr>\n",
       "      <th>0</th>\n",
       "      <td>0</td>\n",
       "      <td>plan patient is a 67yearold female with past m...</td>\n",
       "      <td>[plan patient is a 67yearold female with past ...</td>\n",
       "      <td>Patient Question: I feel like I was shocked ba...</td>\n",
       "    </tr>\n",
       "    <tr>\n",
       "      <th>1</th>\n",
       "      <td>2</td>\n",
       "      <td>brief hospital course  the patient was admitte...</td>\n",
       "      <td>[brief hospital course, the patient was admitt...</td>\n",
       "      <td>Patient Question: Is my heart surgery still on...</td>\n",
       "    </tr>\n",
       "    <tr>\n",
       "      <th>2</th>\n",
       "      <td>3</td>\n",
       "      <td>brief hospital course  the patient was admitte...</td>\n",
       "      <td>[brief hospital course  the patient was admitt...</td>\n",
       "      <td>Patient Question: Why did I need IV fluids wit...</td>\n",
       "    </tr>\n",
       "    <tr>\n",
       "      <th>3</th>\n",
       "      <td>4</td>\n",
       "      <td>procedures and operations right femoral-poplit...</td>\n",
       "      <td>[procedures and operations right femoral-popli...</td>\n",
       "      <td>Patient Question: I have a fever after the sur...</td>\n",
       "    </tr>\n",
       "    <tr>\n",
       "      <th>4</th>\n",
       "      <td>5</td>\n",
       "      <td>chief complaint worsening shortness of breath ...</td>\n",
       "      <td>[chief complaint worsening shortness of breath...</td>\n",
       "      <td>Patient Question: I have diabetes and they gav...</td>\n",
       "    </tr>\n",
       "  </tbody>\n",
       "</table>\n",
       "</div>"
      ],
      "text/plain": [
       "   id                                       note_excerpt  \\\n",
       "0   0  plan patient is a 67yearold female with past m...   \n",
       "1   2  brief hospital course  the patient was admitte...   \n",
       "2   3  brief hospital course  the patient was admitte...   \n",
       "3   4  procedures and operations right femoral-poplit...   \n",
       "4   5  chief complaint worsening shortness of breath ...   \n",
       "\n",
       "                                           sentences  \\\n",
       "0  [plan patient is a 67yearold female with past ...   \n",
       "1  [brief hospital course, the patient was admitt...   \n",
       "2  [brief hospital course  the patient was admitt...   \n",
       "3  [procedures and operations right femoral-popli...   \n",
       "4  [chief complaint worsening shortness of breath...   \n",
       "\n",
       "                                            question  \n",
       "0  Patient Question: I feel like I was shocked ba...  \n",
       "1  Patient Question: Is my heart surgery still on...  \n",
       "2  Patient Question: Why did I need IV fluids wit...  \n",
       "3  Patient Question: I have a fever after the sur...  \n",
       "4  Patient Question: I have diabetes and they gav...  "
      ]
     },
     "execution_count": 168,
     "metadata": {},
     "output_type": "execute_result"
    }
   ],
   "source": [
    "df_questions.head()"
   ]
  },
  {
   "cell_type": "markdown",
   "id": "246a4f63-3b24-4311-bbe5-62519072f3b4",
   "metadata": {},
   "source": [
    "**Split question into: Patient Q, Clinician Q and Relevant Sentences**"
   ]
  },
  {
   "cell_type": "code",
   "execution_count": 169,
   "id": "37832d1f-1bbb-4fc1-bb54-7eda8f8a09bd",
   "metadata": {
    "tags": []
   },
   "outputs": [],
   "source": [
    "df_questions[\n",
    "    ['patient_question','clinician_question','relevant_sentences']\n",
    "] = df_questions['question'].str.extract(\n",
    "    r'Patient Question:\\s*(.*?)\\n'\n",
    "    r'Clinician Question:\\s*(.*?)\\n'\n",
    "    r'Relevant Sentences:\\s*(.*)'\n",
    ")"
   ]
  },
  {
   "cell_type": "markdown",
   "id": "f7afd209-4e87-48cf-8d0b-1edb7686482c",
   "metadata": {
    "tags": []
   },
   "source": [
    "**Drop old question column**"
   ]
  },
  {
   "cell_type": "code",
   "execution_count": 170,
   "id": "b3125430-7c60-402b-a99e-4384a1f08823",
   "metadata": {
    "tags": []
   },
   "outputs": [],
   "source": [
    "df_questions = df_questions.drop(columns='question')"
   ]
  },
  {
   "cell_type": "markdown",
   "id": "58257adb-9753-4423-b678-37d6e6486724",
   "metadata": {
    "tags": []
   },
   "source": [
    "**Convert relevant_sentences from decimal to binary** "
   ]
  },
  {
   "cell_type": "code",
   "execution_count": 171,
   "id": "1f1b92c5-9428-4515-90ba-c94af4096d0b",
   "metadata": {
    "tags": []
   },
   "outputs": [],
   "source": [
    "# parse the literal list‐strings into actual lists\n",
    "df_questions['relevant_sentences'] = (\n",
    "    df_questions['relevant_sentences']\n",
    "      .apply(ast.literal_eval)\n",
    ")"
   ]
  },
  {
   "cell_type": "code",
   "execution_count": 172,
   "id": "a00151aa-ccd6-46d6-b6f0-7ee6c0f37184",
   "metadata": {
    "tags": []
   },
   "outputs": [],
   "source": [
    "df_questions['labels'] = df_questions.apply(\n",
    "  lambda row: [\n",
    "    1 if (i+1) in row['relevant_sentences'] else 0\n",
    "    for i in range(len(row['sentences']))\n",
    "  ],\n",
    "  axis=1\n",
    ")"
   ]
  },
  {
   "cell_type": "markdown",
   "id": "5972973c-ab9e-4436-9894-7540ca16e211",
   "metadata": {},
   "source": [
    "**Drop old relevant sentences column**"
   ]
  },
  {
   "cell_type": "code",
   "execution_count": 173,
   "id": "01b8a330-6727-472f-89db-7b74a4bc9385",
   "metadata": {
    "tags": []
   },
   "outputs": [],
   "source": [
    "df_questions = df_questions.drop(columns='relevant_sentences')"
   ]
  },
  {
   "cell_type": "markdown",
   "id": "1f2e712e-cead-488c-bc21-e2db6a37bcf1",
   "metadata": {},
   "source": [
    "**Clean generated text columns**"
   ]
  },
  {
   "cell_type": "code",
   "execution_count": 174,
   "id": "5ae6c8da-be16-4bb0-89ce-0cdee76ef2e3",
   "metadata": {},
   "outputs": [],
   "source": [
    "text_columns = [\"patient_question\", \"clinician_question\", \"note_excerpt\"]\n",
    "list_columns = [\"sentences\"]"
   ]
  },
  {
   "cell_type": "code",
   "execution_count": 175,
   "id": "cc3b5cb6-658d-44b6-b041-7edb01e791ea",
   "metadata": {},
   "outputs": [],
   "source": [
    "df_questions = util.clean_text_df(df_questions, text_columns = text_columns, list_columns = list_columns)"
   ]
  },
  {
   "cell_type": "markdown",
   "id": "62c32290-1d7f-4fed-b053-c41fb2a8eb99",
   "metadata": {},
   "source": [
    "**Reorder columns to improve readability**"
   ]
  },
  {
   "cell_type": "code",
   "execution_count": 176,
   "id": "4f7dcc93-8f02-4b39-ac4d-bba192c92c2b",
   "metadata": {
    "tags": []
   },
   "outputs": [],
   "source": [
    "df_questions = df_questions[[\n",
    "    \"patient_question\",\n",
    "    \"clinician_question\",\n",
    "    \"sentences\",\n",
    "    \"note_excerpt\",\n",
    "    \"labels\"\n",
    "]]"
   ]
  },
  {
   "cell_type": "markdown",
   "id": "dbd89add-52db-46d6-b5a7-c24e137fc031",
   "metadata": {},
   "source": [
    "**Last quick check**"
   ]
  },
  {
   "cell_type": "code",
   "execution_count": 177,
   "id": "0816c380-703d-4de0-b814-3658f5ec8df7",
   "metadata": {
    "tags": []
   },
   "outputs": [
    {
     "data": {
      "text/html": [
       "<div>\n",
       "<style scoped>\n",
       "    .dataframe tbody tr th:only-of-type {\n",
       "        vertical-align: middle;\n",
       "    }\n",
       "\n",
       "    .dataframe tbody tr th {\n",
       "        vertical-align: top;\n",
       "    }\n",
       "\n",
       "    .dataframe thead th {\n",
       "        text-align: right;\n",
       "    }\n",
       "</style>\n",
       "<table border=\"1\" class=\"dataframe\">\n",
       "  <thead>\n",
       "    <tr style=\"text-align: right;\">\n",
       "      <th></th>\n",
       "      <th>patient_question</th>\n",
       "      <th>clinician_question</th>\n",
       "      <th>sentences</th>\n",
       "      <th>note_excerpt</th>\n",
       "      <th>labels</th>\n",
       "    </tr>\n",
       "  </thead>\n",
       "  <tbody>\n",
       "    <tr>\n",
       "      <th>0</th>\n",
       "      <td>I feel like I was shocked back to normal. What...</td>\n",
       "      <td>What is the rationale for initiating rate cont...</td>\n",
       "      <td>[plan patient is a 67yearold female with past ...</td>\n",
       "      <td>plan patient is a 67yearold female with past m...</td>\n",
       "      <td>[0, 0, 0, 1, 1, 1, 0, 0, 0, 0, 0, 0, 0]</td>\n",
       "    </tr>\n",
       "    <tr>\n",
       "      <th>1</th>\n",
       "      <td>Is my heart surgery still on the table or will...</td>\n",
       "      <td>What is the current plan regarding coronary ar...</td>\n",
       "      <td>[brief hospital course, the patient was admitt...</td>\n",
       "      <td>brief hospital course the patient was admitted...</td>\n",
       "      <td>[0, 0, 1, 0, 0, 0, 0, 1, 0, 0, 0, 0]</td>\n",
       "    </tr>\n",
       "    <tr>\n",
       "      <th>2</th>\n",
       "      <td>Why did I need IV fluids with bicarbonate?</td>\n",
       "      <td>What was the rationale for initiating intraven...</td>\n",
       "      <td>[brief hospital course the patient was admitte...</td>\n",
       "      <td>brief hospital course the patient was admitted...</td>\n",
       "      <td>[0, 0, 0, 1, 0, 0, 0, 0, 0]</td>\n",
       "    </tr>\n",
       "    <tr>\n",
       "      <th>3</th>\n",
       "      <td>I have a fever after the surgery, should I be ...</td>\n",
       "      <td>What is the etiology of the patient’s post-ope...</td>\n",
       "      <td>[procedures and operations right femoral-popli...</td>\n",
       "      <td>procedures and operations right femoral-poplit...</td>\n",
       "      <td>[0, 0, 0, 0, 0, 0, 0, 1, 1, 1, 1, 0, 0, 0, 0]</td>\n",
       "    </tr>\n",
       "    <tr>\n",
       "      <th>4</th>\n",
       "      <td>I have diabetes and they gave me steroids, wil...</td>\n",
       "      <td>How was the patient's glycemic control managed...</td>\n",
       "      <td>[chief complaint worsening shortness of breath...</td>\n",
       "      <td>chief complaint worsening shortness of breath ...</td>\n",
       "      <td>[0, 0, 0, 0, 0, 0, 0, 0, 0, 0, 0, 1, 0, 0, 1, 0]</td>\n",
       "    </tr>\n",
       "  </tbody>\n",
       "</table>\n",
       "</div>"
      ],
      "text/plain": [
       "                                    patient_question  \\\n",
       "0  I feel like I was shocked back to normal. What...   \n",
       "1  Is my heart surgery still on the table or will...   \n",
       "2         Why did I need IV fluids with bicarbonate?   \n",
       "3  I have a fever after the surgery, should I be ...   \n",
       "4  I have diabetes and they gave me steroids, wil...   \n",
       "\n",
       "                                  clinician_question  \\\n",
       "0  What is the rationale for initiating rate cont...   \n",
       "1  What is the current plan regarding coronary ar...   \n",
       "2  What was the rationale for initiating intraven...   \n",
       "3  What is the etiology of the patient’s post-ope...   \n",
       "4  How was the patient's glycemic control managed...   \n",
       "\n",
       "                                           sentences  \\\n",
       "0  [plan patient is a 67yearold female with past ...   \n",
       "1  [brief hospital course, the patient was admitt...   \n",
       "2  [brief hospital course the patient was admitte...   \n",
       "3  [procedures and operations right femoral-popli...   \n",
       "4  [chief complaint worsening shortness of breath...   \n",
       "\n",
       "                                        note_excerpt  \\\n",
       "0  plan patient is a 67yearold female with past m...   \n",
       "1  brief hospital course the patient was admitted...   \n",
       "2  brief hospital course the patient was admitted...   \n",
       "3  procedures and operations right femoral-poplit...   \n",
       "4  chief complaint worsening shortness of breath ...   \n",
       "\n",
       "                                             labels  \n",
       "0           [0, 0, 0, 1, 1, 1, 0, 0, 0, 0, 0, 0, 0]  \n",
       "1              [0, 0, 1, 0, 0, 0, 0, 1, 0, 0, 0, 0]  \n",
       "2                       [0, 0, 0, 1, 0, 0, 0, 0, 0]  \n",
       "3     [0, 0, 0, 0, 0, 0, 0, 1, 1, 1, 1, 0, 0, 0, 0]  \n",
       "4  [0, 0, 0, 0, 0, 0, 0, 0, 0, 0, 0, 1, 0, 0, 1, 0]  "
      ]
     },
     "execution_count": 177,
     "metadata": {},
     "output_type": "execute_result"
    }
   ],
   "source": [
    "df_questions.head()"
   ]
  },
  {
   "cell_type": "markdown",
   "id": "9e5b0aec-ca72-4bfa-b97c-471ccf6fc301",
   "metadata": {},
   "source": [
    "# Save"
   ]
  },
  {
   "cell_type": "code",
   "execution_count": 178,
   "id": "eacfa3f0-d74e-4634-8b64-d027cdcbb984",
   "metadata": {
    "tags": []
   },
   "outputs": [
    {
     "name": "stdout",
     "output_type": "stream",
     "text": [
      "Saved to: ../data/synthetic/questions/generated_questions_RUN02.csv\n"
     ]
    }
   ],
   "source": [
    "out_file  = OUTPUT_DIR / \"generated_questions_RUN02.csv\"\n",
    "df_questions.to_csv(out_file, index=False)\n",
    "print(f\"Saved to: {out_file}\")"
   ]
  },
  {
   "cell_type": "code",
   "execution_count": null,
   "id": "9e4525b4-8fbd-4936-b918-278e45a00889",
   "metadata": {},
   "outputs": [],
   "source": []
  }
 ],
 "metadata": {
  "kernelspec": {
   "display_name": "Python 3 (ipykernel)",
   "language": "python",
   "name": "python3"
  },
  "language_info": {
   "codemirror_mode": {
    "name": "ipython",
    "version": 3
   },
   "file_extension": ".py",
   "mimetype": "text/x-python",
   "name": "python",
   "nbconvert_exporter": "python",
   "pygments_lexer": "ipython3",
   "version": "3.10.14"
  }
 },
 "nbformat": 4,
 "nbformat_minor": 5
}
