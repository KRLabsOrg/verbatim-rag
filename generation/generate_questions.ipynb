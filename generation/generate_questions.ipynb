{
 "cells": [
  {
   "cell_type": "markdown",
   "id": "ed9307ed-da35-4a1d-97fb-614065e27345",
   "metadata": {},
   "source": [
    "# Import"
   ]
  },
  {
   "cell_type": "code",
   "execution_count": 61,
   "id": "774aecbf-135f-4477-97c1-58830c8b5db4",
   "metadata": {
    "tags": []
   },
   "outputs": [
    {
     "name": "stdout",
     "output_type": "stream",
     "text": [
      "The autoreload extension is already loaded. To reload it, use:\n",
      "  %reload_ext autoreload\n"
     ]
    }
   ],
   "source": [
    "%load_ext autoreload\n",
    "%autoreload 2"
   ]
  },
  {
   "cell_type": "code",
   "execution_count": 62,
   "id": "7323be48-6dc8-4c83-9fdf-a7d6eb71d51d",
   "metadata": {
    "tags": []
   },
   "outputs": [],
   "source": [
    "import re\n",
    "import ast\n",
    "import time\n",
    "import random\n",
    "import requests\n",
    "import pandas as pd\n",
    "from pathlib import Path\n",
    "from datetime import datetime\n",
    "from tqdm.notebook import tqdm\n",
    "import nltk\n",
    "from nltk.tokenize import sent_tokenize\n",
    "import openai\n",
    "\n",
    "import sys\n",
    "sys.path.append(\"../src\")\n",
    "sys.path.append(\"../configs\")\n",
    "import util.preprocessing_util as util\n",
    "from hf_config import hf_token, openai_token"
   ]
  },
  {
   "cell_type": "markdown",
   "id": "b8eba278-ecfc-4d46-b299-6d798590356d",
   "metadata": {},
   "source": [
    "Download tokenizer"
   ]
  },
  {
   "cell_type": "code",
   "execution_count": 63,
   "id": "481b2a67-c4bb-4595-9c3e-838e861095ca",
   "metadata": {
    "tags": []
   },
   "outputs": [
    {
     "name": "stderr",
     "output_type": "stream",
     "text": [
      "[nltk_data] Downloading package punkt to\n",
      "[nltk_data]     /home/paul.schmitt/nltk_data...\n",
      "[nltk_data]   Package punkt is already up-to-date!\n"
     ]
    },
    {
     "data": {
      "text/plain": [
       "True"
      ]
     },
     "execution_count": 63,
     "metadata": {},
     "output_type": "execute_result"
    }
   ],
   "source": [
    "nltk.download('punkt')"
   ]
  },
  {
   "cell_type": "markdown",
   "id": "ce8a04f6-40d7-4a39-ae35-d7dc03e04ded",
   "metadata": {},
   "source": [
    "# Setup"
   ]
  },
  {
   "cell_type": "code",
   "execution_count": 64,
   "id": "d1f12356-da39-4bd2-ac7a-02c1911d22d7",
   "metadata": {
    "tags": []
   },
   "outputs": [],
   "source": [
    "# Directories and constants\n",
    "VLLM_URL       = \"http://localhost:8000/v1/completions\"\n",
    "PROMPTS_DIR    = Path(\"prompts\")\n",
    "DATA_DIR       = Path(\"../data\")\n",
    "# NOTES_DIR      = DATA_DIR / \"synthetic\" / \"note-excerpts\"\n",
    "NOTES_DIR      = DATA_DIR / \"dev\" / \"processed\"\n",
    "OUTPUT_DIR     = DATA_DIR / \"synthetic\" / \"questions\"\n",
    "PROMPT_FILE    = PROMPTS_DIR / \"generate_questions.txt\"\n",
    "NOTE_FILE_NAME = \"medical_data.csv\"\n",
    "\n",
    "# Ensure output dir exists\n",
    "OUTPUT_DIR.mkdir(parents=True, exist_ok=True)"
   ]
  },
  {
   "cell_type": "code",
   "execution_count": 65,
   "id": "c8942296-3d79-4c86-91cc-207ab5e3a59c",
   "metadata": {
    "tags": []
   },
   "outputs": [],
   "source": [
    "prompt_template = PROMPT_FILE.read_text()\n",
    "note_file       = NOTES_DIR / NOTE_FILE_NAME\n",
    "notes           = pd.read_csv(note_file)"
   ]
  },
  {
   "cell_type": "code",
   "execution_count": 66,
   "id": "7b45ff79-d4ea-4201-9911-b8ddd0ac96f9",
   "metadata": {
    "tags": []
   },
   "outputs": [
    {
     "name": "stdout",
     "output_type": "stream",
     "text": [
      "Number of Notes: 20\n"
     ]
    }
   ],
   "source": [
    "print(f\"Number of Notes: {len(notes)}\")"
   ]
  },
  {
   "cell_type": "code",
   "execution_count": 67,
   "id": "35e47128-3757-44a2-b68c-e6479ed44b29",
   "metadata": {
    "tags": []
   },
   "outputs": [
    {
     "name": "stdout",
     "output_type": "stream",
     "text": [
      "Here are examples on how to turn a clinical note excerpt into a patient‑style question, a clinician‑style question, and the sentences needed to answer it:\n",
      "\n",
      "{example_qas}\n",
      "\n",
      "---\n",
      "\n",
      "Now you are given a new clinical note excerpt from a patient’s electronic health record (EHR):\n",
      "\n",
      "---\n",
      "{note}\n",
      "---\n",
      "\n",
      "Your task is to:\n",
      "1. Write **exactly one** realistic patient‑style question someone might ask after reading this note.\n",
      "2. Rewrite that question in a formal, clinician‑friendly format.\n",
      "3. Identify which sentences in the note are **directly and literally** used to answer your question.\n",
      "\n",
      "Don’t repeat the note itself in your answer—only output the three fields, exactly in this format:\n",
      "\n",
      "Patient Question: <your patient question>  \n",
      "Clinician Question: <your clinician question>  \n",
      "Relevant Sentences: [<num1>, <num2>, …]\n"
     ]
    }
   ],
   "source": [
    "print(prompt_template)"
   ]
  },
  {
   "cell_type": "code",
   "execution_count": 68,
   "id": "a8721d7d-9e1a-4d5d-b2c8-38a579cac6f5",
   "metadata": {
    "tags": []
   },
   "outputs": [
    {
     "data": {
      "text/html": [
       "<div>\n",
       "<style scoped>\n",
       "    .dataframe tbody tr th:only-of-type {\n",
       "        vertical-align: middle;\n",
       "    }\n",
       "\n",
       "    .dataframe tbody tr th {\n",
       "        vertical-align: top;\n",
       "    }\n",
       "\n",
       "    .dataframe thead th {\n",
       "        text-align: right;\n",
       "    }\n",
       "</style>\n",
       "<table border=\"1\" class=\"dataframe\">\n",
       "  <thead>\n",
       "    <tr style=\"text-align: right;\">\n",
       "      <th></th>\n",
       "      <th>case_id</th>\n",
       "      <th>patient_question</th>\n",
       "      <th>clinician_question</th>\n",
       "      <th>note_excerpt</th>\n",
       "      <th>sentences</th>\n",
       "      <th>sentence_text</th>\n",
       "      <th>labels</th>\n",
       "    </tr>\n",
       "  </thead>\n",
       "  <tbody>\n",
       "    <tr>\n",
       "      <th>0</th>\n",
       "      <td>1</td>\n",
       "      <td>My question is if the sludge was there does no...</td>\n",
       "      <td>Why was ERCP recommended to him over continuin...</td>\n",
       "      <td>Brief Hospital Course: During the ERCP a pancr...</td>\n",
       "      <td>['Brief Hospital Course:', 'During the ERCP a ...</td>\n",
       "      <td>Brief Hospital Course:</td>\n",
       "      <td>[0, 1, 0, 0, 0, 1, 1, 1, 0]</td>\n",
       "    </tr>\n",
       "    <tr>\n",
       "      <th>1</th>\n",
       "      <td>2</td>\n",
       "      <td>dad given multiple shots of lasciks after he w...</td>\n",
       "      <td>Why was he given lasix and his oxygen flow rat...</td>\n",
       "      <td>Brief Hospital Course: Acute diastolic heart f...</td>\n",
       "      <td>['Brief Hospital Course:', 'Acute diastolic he...</td>\n",
       "      <td>Brief Hospital Course:</td>\n",
       "      <td>[0, 1, 0, 0, 1, 0, 0, 1, 0, 0, 0]</td>\n",
       "    </tr>\n",
       "    <tr>\n",
       "      <th>2</th>\n",
       "      <td>3</td>\n",
       "      <td>he is continously irritated and has headache w...</td>\n",
       "      <td>What is the expected course of recovery for him?</td>\n",
       "      <td>Discharge Instructions: You were admitted to t...</td>\n",
       "      <td>['Discharge Instructions: You were admitted to...</td>\n",
       "      <td>Discharge Instructions: You were admitted to t...</td>\n",
       "      <td>[0, 0, 0, 0, 1, 1, 0, 0, 0, 0]</td>\n",
       "    </tr>\n",
       "    <tr>\n",
       "      <th>3</th>\n",
       "      <td>4</td>\n",
       "      <td>My doctor performed a cardiac catherization.</td>\n",
       "      <td>Why was cardiac catheterization recommended to...</td>\n",
       "      <td>History of Present Illness: On the cardiology ...</td>\n",
       "      <td>['History of Present Illness:', 'On the cardio...</td>\n",
       "      <td>History of Present Illness:</td>\n",
       "      <td>[0, 0, 0, 0, 1, 0, 0, 0, 0, 0, 0, 0, 0, 0, 0, ...</td>\n",
       "    </tr>\n",
       "    <tr>\n",
       "      <th>4</th>\n",
       "      <td>5</td>\n",
       "      <td>I overdosed October 4th on trihexyphenidyl, th...</td>\n",
       "      <td>Is the pain connected to the overdose or somet...</td>\n",
       "      <td>Brief Hospital Course: # Bipolar d/o, PTSD, sc...</td>\n",
       "      <td>['Brief Hospital Course:', \"# Bipolar d/o, PTS...</td>\n",
       "      <td>Brief Hospital Course:</td>\n",
       "      <td>[0, 0, 1, 0, 0, 0, 0, 0, 1, 1, 1, 1, 1, 0, 0, ...</td>\n",
       "    </tr>\n",
       "  </tbody>\n",
       "</table>\n",
       "</div>"
      ],
      "text/plain": [
       "   case_id                                   patient_question  \\\n",
       "0        1  My question is if the sludge was there does no...   \n",
       "1        2  dad given multiple shots of lasciks after he w...   \n",
       "2        3  he is continously irritated and has headache w...   \n",
       "3        4       My doctor performed a cardiac catherization.   \n",
       "4        5  I overdosed October 4th on trihexyphenidyl, th...   \n",
       "\n",
       "                                  clinician_question  \\\n",
       "0  Why was ERCP recommended to him over continuin...   \n",
       "1  Why was he given lasix and his oxygen flow rat...   \n",
       "2   What is the expected course of recovery for him?   \n",
       "3  Why was cardiac catheterization recommended to...   \n",
       "4  Is the pain connected to the overdose or somet...   \n",
       "\n",
       "                                        note_excerpt  \\\n",
       "0  Brief Hospital Course: During the ERCP a pancr...   \n",
       "1  Brief Hospital Course: Acute diastolic heart f...   \n",
       "2  Discharge Instructions: You were admitted to t...   \n",
       "3  History of Present Illness: On the cardiology ...   \n",
       "4  Brief Hospital Course: # Bipolar d/o, PTSD, sc...   \n",
       "\n",
       "                                           sentences  \\\n",
       "0  ['Brief Hospital Course:', 'During the ERCP a ...   \n",
       "1  ['Brief Hospital Course:', 'Acute diastolic he...   \n",
       "2  ['Discharge Instructions: You were admitted to...   \n",
       "3  ['History of Present Illness:', 'On the cardio...   \n",
       "4  ['Brief Hospital Course:', \"# Bipolar d/o, PTS...   \n",
       "\n",
       "                                       sentence_text  \\\n",
       "0                             Brief Hospital Course:   \n",
       "1                             Brief Hospital Course:   \n",
       "2  Discharge Instructions: You were admitted to t...   \n",
       "3                        History of Present Illness:   \n",
       "4                             Brief Hospital Course:   \n",
       "\n",
       "                                              labels  \n",
       "0                        [0, 1, 0, 0, 0, 1, 1, 1, 0]  \n",
       "1                  [0, 1, 0, 0, 1, 0, 0, 1, 0, 0, 0]  \n",
       "2                     [0, 0, 0, 0, 1, 1, 0, 0, 0, 0]  \n",
       "3  [0, 0, 0, 0, 1, 0, 0, 0, 0, 0, 0, 0, 0, 0, 0, ...  \n",
       "4  [0, 0, 1, 0, 0, 0, 0, 0, 1, 1, 1, 1, 1, 0, 0, ...  "
      ]
     },
     "execution_count": 68,
     "metadata": {},
     "output_type": "execute_result"
    }
   ],
   "source": [
    "notes.head()"
   ]
  },
  {
   "cell_type": "code",
   "execution_count": 69,
   "id": "c98f1294-1504-4b16-94bb-48fbfd979476",
   "metadata": {
    "tags": []
   },
   "outputs": [
    {
     "data": {
      "text/plain": [
       "\"Brief Hospital Course: During the ERCP a pancreatic stent was required to facilitate access to the biliary system (removed at the end of the procedure), and a common bile duct stent was placed to allow drainage of the biliary obstruction caused by stones and sludge. However, due to the patient's elevated INR, no sphincterotomy or stone removal was performed. Frank pus was noted to be draining from the common bile duct, and post-ERCP it was recommended that the patient remain on IV Zosyn for at least a week. The Vancomycin was discontinued. On hospital day 4 (post-procedure day 3) the patient returned to ERCP for re-evaluation of her biliary stent as her LFTs and bilirubin continued an upward trend. On ERCP the previous biliary stent was noted to be acutely obstructed by biliary sludge and stones. As the patient's INR was normalized to 1.2, a sphincterotomy was safely performed, with removal of several biliary stones in addition to the common bile duct stent. At the conclusion of the procedure, retrograde cholangiogram was negative for filling defects.\""
      ]
     },
     "execution_count": 69,
     "metadata": {},
     "output_type": "execute_result"
    }
   ],
   "source": [
    "notes.iloc[0][\"note_excerpt\"]"
   ]
  },
  {
   "cell_type": "code",
   "execution_count": 70,
   "id": "e4f68b39-8671-4b78-91a8-71b2137351b8",
   "metadata": {
    "tags": []
   },
   "outputs": [],
   "source": [
    "def split_sentences_by_line(note: str, delimiter=\"|\") -> list[str]:\n",
    "    lines = note.split(delimiter)\n",
    "    return [l.strip() for l in lines if l.strip()]"
   ]
  },
  {
   "cell_type": "code",
   "execution_count": 71,
   "id": "0792c41c-3d97-4a1b-89a6-7ddbd1d63647",
   "metadata": {
    "tags": []
   },
   "outputs": [],
   "source": [
    "# notes[\"sentences\"] = notes[\"note_excerpt\"].apply(split_sentences_by_line)"
   ]
  },
  {
   "cell_type": "markdown",
   "id": "e055b30c-e2bb-4372-abf4-de53f213a93a",
   "metadata": {},
   "source": [
    "# Build few‐shot examples"
   ]
  },
  {
   "cell_type": "code",
   "execution_count": 72,
   "id": "32ca68b4-56d3-4e39-9ce3-6e1f485840f0",
   "metadata": {
    "tags": []
   },
   "outputs": [],
   "source": [
    "arch_csv = DATA_DIR / \"dev\" / \"processed\" / \"medical_data.csv\"\n",
    "arch_data = pd.read_csv(arch_csv)"
   ]
  },
  {
   "cell_type": "code",
   "execution_count": 73,
   "id": "938799d6-737f-477a-8b26-6d5d80357488",
   "metadata": {
    "tags": []
   },
   "outputs": [
    {
     "data": {
      "text/html": [
       "<div>\n",
       "<style scoped>\n",
       "    .dataframe tbody tr th:only-of-type {\n",
       "        vertical-align: middle;\n",
       "    }\n",
       "\n",
       "    .dataframe tbody tr th {\n",
       "        vertical-align: top;\n",
       "    }\n",
       "\n",
       "    .dataframe thead th {\n",
       "        text-align: right;\n",
       "    }\n",
       "</style>\n",
       "<table border=\"1\" class=\"dataframe\">\n",
       "  <thead>\n",
       "    <tr style=\"text-align: right;\">\n",
       "      <th></th>\n",
       "      <th>case_id</th>\n",
       "      <th>patient_question</th>\n",
       "      <th>clinician_question</th>\n",
       "      <th>note_excerpt</th>\n",
       "      <th>sentences</th>\n",
       "      <th>sentence_text</th>\n",
       "      <th>labels</th>\n",
       "    </tr>\n",
       "  </thead>\n",
       "  <tbody>\n",
       "    <tr>\n",
       "      <th>0</th>\n",
       "      <td>1</td>\n",
       "      <td>My question is if the sludge was there does no...</td>\n",
       "      <td>Why was ERCP recommended to him over continuin...</td>\n",
       "      <td>Brief Hospital Course: During the ERCP a pancr...</td>\n",
       "      <td>['Brief Hospital Course:', 'During the ERCP a ...</td>\n",
       "      <td>Brief Hospital Course:</td>\n",
       "      <td>[0, 1, 0, 0, 0, 1, 1, 1, 0]</td>\n",
       "    </tr>\n",
       "    <tr>\n",
       "      <th>1</th>\n",
       "      <td>2</td>\n",
       "      <td>dad given multiple shots of lasciks after he w...</td>\n",
       "      <td>Why was he given lasix and his oxygen flow rat...</td>\n",
       "      <td>Brief Hospital Course: Acute diastolic heart f...</td>\n",
       "      <td>['Brief Hospital Course:', 'Acute diastolic he...</td>\n",
       "      <td>Brief Hospital Course:</td>\n",
       "      <td>[0, 1, 0, 0, 1, 0, 0, 1, 0, 0, 0]</td>\n",
       "    </tr>\n",
       "    <tr>\n",
       "      <th>2</th>\n",
       "      <td>3</td>\n",
       "      <td>he is continously irritated and has headache w...</td>\n",
       "      <td>What is the expected course of recovery for him?</td>\n",
       "      <td>Discharge Instructions: You were admitted to t...</td>\n",
       "      <td>['Discharge Instructions: You were admitted to...</td>\n",
       "      <td>Discharge Instructions: You were admitted to t...</td>\n",
       "      <td>[0, 0, 0, 0, 1, 1, 0, 0, 0, 0]</td>\n",
       "    </tr>\n",
       "    <tr>\n",
       "      <th>3</th>\n",
       "      <td>4</td>\n",
       "      <td>My doctor performed a cardiac catherization.</td>\n",
       "      <td>Why was cardiac catheterization recommended to...</td>\n",
       "      <td>History of Present Illness: On the cardiology ...</td>\n",
       "      <td>['History of Present Illness:', 'On the cardio...</td>\n",
       "      <td>History of Present Illness:</td>\n",
       "      <td>[0, 0, 0, 0, 1, 0, 0, 0, 0, 0, 0, 0, 0, 0, 0, ...</td>\n",
       "    </tr>\n",
       "    <tr>\n",
       "      <th>4</th>\n",
       "      <td>5</td>\n",
       "      <td>I overdosed October 4th on trihexyphenidyl, th...</td>\n",
       "      <td>Is the pain connected to the overdose or somet...</td>\n",
       "      <td>Brief Hospital Course: # Bipolar d/o, PTSD, sc...</td>\n",
       "      <td>['Brief Hospital Course:', \"# Bipolar d/o, PTS...</td>\n",
       "      <td>Brief Hospital Course:</td>\n",
       "      <td>[0, 0, 1, 0, 0, 0, 0, 0, 1, 1, 1, 1, 1, 0, 0, ...</td>\n",
       "    </tr>\n",
       "  </tbody>\n",
       "</table>\n",
       "</div>"
      ],
      "text/plain": [
       "   case_id                                   patient_question  \\\n",
       "0        1  My question is if the sludge was there does no...   \n",
       "1        2  dad given multiple shots of lasciks after he w...   \n",
       "2        3  he is continously irritated and has headache w...   \n",
       "3        4       My doctor performed a cardiac catherization.   \n",
       "4        5  I overdosed October 4th on trihexyphenidyl, th...   \n",
       "\n",
       "                                  clinician_question  \\\n",
       "0  Why was ERCP recommended to him over continuin...   \n",
       "1  Why was he given lasix and his oxygen flow rat...   \n",
       "2   What is the expected course of recovery for him?   \n",
       "3  Why was cardiac catheterization recommended to...   \n",
       "4  Is the pain connected to the overdose or somet...   \n",
       "\n",
       "                                        note_excerpt  \\\n",
       "0  Brief Hospital Course: During the ERCP a pancr...   \n",
       "1  Brief Hospital Course: Acute diastolic heart f...   \n",
       "2  Discharge Instructions: You were admitted to t...   \n",
       "3  History of Present Illness: On the cardiology ...   \n",
       "4  Brief Hospital Course: # Bipolar d/o, PTSD, sc...   \n",
       "\n",
       "                                           sentences  \\\n",
       "0  ['Brief Hospital Course:', 'During the ERCP a ...   \n",
       "1  ['Brief Hospital Course:', 'Acute diastolic he...   \n",
       "2  ['Discharge Instructions: You were admitted to...   \n",
       "3  ['History of Present Illness:', 'On the cardio...   \n",
       "4  ['Brief Hospital Course:', \"# Bipolar d/o, PTS...   \n",
       "\n",
       "                                       sentence_text  \\\n",
       "0                             Brief Hospital Course:   \n",
       "1                             Brief Hospital Course:   \n",
       "2  Discharge Instructions: You were admitted to t...   \n",
       "3                        History of Present Illness:   \n",
       "4                             Brief Hospital Course:   \n",
       "\n",
       "                                              labels  \n",
       "0                        [0, 1, 0, 0, 0, 1, 1, 1, 0]  \n",
       "1                  [0, 1, 0, 0, 1, 0, 0, 1, 0, 0, 0]  \n",
       "2                     [0, 0, 0, 0, 1, 1, 0, 0, 0, 0]  \n",
       "3  [0, 0, 0, 0, 1, 0, 0, 0, 0, 0, 0, 0, 0, 0, 0, ...  \n",
       "4  [0, 0, 1, 0, 0, 0, 0, 0, 1, 1, 1, 1, 1, 0, 0, ...  "
      ]
     },
     "execution_count": 73,
     "metadata": {},
     "output_type": "execute_result"
    }
   ],
   "source": [
    "arch_data.head()"
   ]
  },
  {
   "cell_type": "markdown",
   "id": "2e86a1a6-458c-4942-adce-073096c2ab0b",
   "metadata": {},
   "source": [
    "Sentences and labels are still stringified lists --> back to actual Python lists"
   ]
  },
  {
   "cell_type": "code",
   "execution_count": 74,
   "id": "7cc4043f-fb6b-407f-b641-2d527c96eaa3",
   "metadata": {
    "tags": []
   },
   "outputs": [],
   "source": [
    "arch_data[\"sentences\"] = arch_data[\"sentences\"].apply(ast.literal_eval)\n",
    "arch_data[\"labels\"] = arch_data[\"labels\"].apply(ast.literal_eval)"
   ]
  },
  {
   "cell_type": "code",
   "execution_count": 75,
   "id": "3de248d6-fa1c-4bcf-913b-449a0e27eafb",
   "metadata": {
    "tags": []
   },
   "outputs": [
    {
     "name": "stderr",
     "output_type": "stream",
     "text": [
      "/tmp/ipykernel_1192283/3502811288.py:6: DeprecationWarning: DataFrameGroupBy.apply operated on the grouping columns. This behavior is deprecated, and in a future version of pandas the grouping columns will be excluded from the operation. Either pass `include_groups=False` to exclude the groupings or explicitly select the grouping columns after groupby to silence this warning.\n",
      "  .apply(lambda df: pd.Series({\n"
     ]
    }
   ],
   "source": [
    "# select a few handpicked cases\n",
    "case_ids = [1, 3, 14, 19]\n",
    "num_examples = 4\n",
    "few = (arch_data[arch_data.case_id.isin(case_ids)]\n",
    "       .groupby('case_id')\n",
    "       .apply(lambda df: pd.Series({\n",
    "           'patient_question': df.patient_question.iloc[0],\n",
    "           'clinician_question': df.clinician_question.iloc[0],\n",
    "           'sentences': df.sentences.iloc[0],\n",
    "           'labels': df.labels.iloc[0]\n",
    "       }))\n",
    "       .reset_index()\n",
    "       .head(num_examples))"
   ]
  },
  {
   "cell_type": "markdown",
   "id": "449be2fa-904f-40d9-bbf3-05ae37cda8f4",
   "metadata": {},
   "source": [
    "## Cleaning for Few-Shot Examples"
   ]
  },
  {
   "cell_type": "code",
   "execution_count": 76,
   "id": "6e7e33f5-cc72-471a-99af-ab1eb4119441",
   "metadata": {
    "tags": []
   },
   "outputs": [
    {
     "data": {
      "text/html": [
       "<div>\n",
       "<style scoped>\n",
       "    .dataframe tbody tr th:only-of-type {\n",
       "        vertical-align: middle;\n",
       "    }\n",
       "\n",
       "    .dataframe tbody tr th {\n",
       "        vertical-align: top;\n",
       "    }\n",
       "\n",
       "    .dataframe thead th {\n",
       "        text-align: right;\n",
       "    }\n",
       "</style>\n",
       "<table border=\"1\" class=\"dataframe\">\n",
       "  <thead>\n",
       "    <tr style=\"text-align: right;\">\n",
       "      <th></th>\n",
       "      <th>case_id</th>\n",
       "      <th>patient_question</th>\n",
       "      <th>clinician_question</th>\n",
       "      <th>sentences</th>\n",
       "      <th>labels</th>\n",
       "    </tr>\n",
       "  </thead>\n",
       "  <tbody>\n",
       "    <tr>\n",
       "      <th>0</th>\n",
       "      <td>1</td>\n",
       "      <td>My question is if the sludge was there does no...</td>\n",
       "      <td>Why was ERCP recommended to him over continuin...</td>\n",
       "      <td>[Brief Hospital Course:, During the ERCP a pan...</td>\n",
       "      <td>[0, 1, 0, 0, 0, 1, 1, 1, 0]</td>\n",
       "    </tr>\n",
       "    <tr>\n",
       "      <th>1</th>\n",
       "      <td>3</td>\n",
       "      <td>he is continously irritated and has headache w...</td>\n",
       "      <td>What is the expected course of recovery for him?</td>\n",
       "      <td>[Discharge Instructions: You were admitted to ...</td>\n",
       "      <td>[0, 0, 0, 0, 1, 1, 0, 0, 0, 0]</td>\n",
       "    </tr>\n",
       "    <tr>\n",
       "      <th>2</th>\n",
       "      <td>14</td>\n",
       "      <td>What would you say about cancer in the stomach?</td>\n",
       "      <td>Was there any evidence for stomach cancer?</td>\n",
       "      <td>[Discharge Instructions: You were admitted to ...</td>\n",
       "      <td>[1, 1, 0, 0, 0, 0, 0, 1, 1]</td>\n",
       "    </tr>\n",
       "    <tr>\n",
       "      <th>3</th>\n",
       "      <td>19</td>\n",
       "      <td>I went to ER for a bladder infection. The doct...</td>\n",
       "      <td>Are her symptoms related to anxiety or cardiov...</td>\n",
       "      <td>[Discharge Instructions:, Why was I admitted t...</td>\n",
       "      <td>[0, 0, 0, 0, 0, 1, 1, 1, 0, 0, 0, 0, 0, 0, 0, ...</td>\n",
       "    </tr>\n",
       "  </tbody>\n",
       "</table>\n",
       "</div>"
      ],
      "text/plain": [
       "   case_id                                   patient_question  \\\n",
       "0        1  My question is if the sludge was there does no...   \n",
       "1        3  he is continously irritated and has headache w...   \n",
       "2       14    What would you say about cancer in the stomach?   \n",
       "3       19  I went to ER for a bladder infection. The doct...   \n",
       "\n",
       "                                  clinician_question  \\\n",
       "0  Why was ERCP recommended to him over continuin...   \n",
       "1   What is the expected course of recovery for him?   \n",
       "2         Was there any evidence for stomach cancer?   \n",
       "3  Are her symptoms related to anxiety or cardiov...   \n",
       "\n",
       "                                           sentences  \\\n",
       "0  [Brief Hospital Course:, During the ERCP a pan...   \n",
       "1  [Discharge Instructions: You were admitted to ...   \n",
       "2  [Discharge Instructions: You were admitted to ...   \n",
       "3  [Discharge Instructions:, Why was I admitted t...   \n",
       "\n",
       "                                              labels  \n",
       "0                        [0, 1, 0, 0, 0, 1, 1, 1, 0]  \n",
       "1                     [0, 0, 0, 0, 1, 1, 0, 0, 0, 0]  \n",
       "2                        [1, 1, 0, 0, 0, 0, 0, 1, 1]  \n",
       "3  [0, 0, 0, 0, 0, 1, 1, 1, 0, 0, 0, 0, 0, 0, 0, ...  "
      ]
     },
     "execution_count": 76,
     "metadata": {},
     "output_type": "execute_result"
    }
   ],
   "source": [
    "few.head()"
   ]
  },
  {
   "cell_type": "code",
   "execution_count": 77,
   "id": "5e7f3423-1317-4660-aa58-0fa6f3fa1f56",
   "metadata": {
    "tags": []
   },
   "outputs": [],
   "source": [
    "few = util.clean_text_df(few, text_columns = [\"patient_question\", \"clinician_question\"])"
   ]
  },
  {
   "cell_type": "code",
   "execution_count": 78,
   "id": "3448ade7-7ddb-4522-80e9-67d275167306",
   "metadata": {
    "tags": []
   },
   "outputs": [
    {
     "data": {
      "text/html": [
       "<div>\n",
       "<style scoped>\n",
       "    .dataframe tbody tr th:only-of-type {\n",
       "        vertical-align: middle;\n",
       "    }\n",
       "\n",
       "    .dataframe tbody tr th {\n",
       "        vertical-align: top;\n",
       "    }\n",
       "\n",
       "    .dataframe thead th {\n",
       "        text-align: right;\n",
       "    }\n",
       "</style>\n",
       "<table border=\"1\" class=\"dataframe\">\n",
       "  <thead>\n",
       "    <tr style=\"text-align: right;\">\n",
       "      <th></th>\n",
       "      <th>case_id</th>\n",
       "      <th>patient_question</th>\n",
       "      <th>clinician_question</th>\n",
       "      <th>sentences</th>\n",
       "      <th>labels</th>\n",
       "    </tr>\n",
       "  </thead>\n",
       "  <tbody>\n",
       "    <tr>\n",
       "      <th>0</th>\n",
       "      <td>1</td>\n",
       "      <td>My question is if the sludge was there does no...</td>\n",
       "      <td>Why was ERCP recommended to him over continuin...</td>\n",
       "      <td>[Brief Hospital Course:, During the ERCP a pan...</td>\n",
       "      <td>[0, 1, 0, 0, 0, 1, 1, 1, 0]</td>\n",
       "    </tr>\n",
       "    <tr>\n",
       "      <th>1</th>\n",
       "      <td>3</td>\n",
       "      <td>he is continously irritated and has headache w...</td>\n",
       "      <td>What is the expected course of recovery for him?</td>\n",
       "      <td>[Discharge Instructions: You were admitted to ...</td>\n",
       "      <td>[0, 0, 0, 0, 1, 1, 0, 0, 0, 0]</td>\n",
       "    </tr>\n",
       "    <tr>\n",
       "      <th>2</th>\n",
       "      <td>14</td>\n",
       "      <td>What would you say about cancer in the stomach?</td>\n",
       "      <td>Was there any evidence for stomach cancer?</td>\n",
       "      <td>[Discharge Instructions: You were admitted to ...</td>\n",
       "      <td>[1, 1, 0, 0, 0, 0, 0, 1, 1]</td>\n",
       "    </tr>\n",
       "    <tr>\n",
       "      <th>3</th>\n",
       "      <td>19</td>\n",
       "      <td>I went to ER for a bladder infection. The doct...</td>\n",
       "      <td>Are her symptoms related to anxiety or cardiov...</td>\n",
       "      <td>[Discharge Instructions:, Why was I admitted t...</td>\n",
       "      <td>[0, 0, 0, 0, 0, 1, 1, 1, 0, 0, 0, 0, 0, 0, 0, ...</td>\n",
       "    </tr>\n",
       "  </tbody>\n",
       "</table>\n",
       "</div>"
      ],
      "text/plain": [
       "   case_id                                   patient_question  \\\n",
       "0        1  My question is if the sludge was there does no...   \n",
       "1        3  he is continously irritated and has headache w...   \n",
       "2       14    What would you say about cancer in the stomach?   \n",
       "3       19  I went to ER for a bladder infection. The doct...   \n",
       "\n",
       "                                  clinician_question  \\\n",
       "0  Why was ERCP recommended to him over continuin...   \n",
       "1   What is the expected course of recovery for him?   \n",
       "2         Was there any evidence for stomach cancer?   \n",
       "3  Are her symptoms related to anxiety or cardiov...   \n",
       "\n",
       "                                           sentences  \\\n",
       "0  [Brief Hospital Course:, During the ERCP a pan...   \n",
       "1  [Discharge Instructions: You were admitted to ...   \n",
       "2  [Discharge Instructions: You were admitted to ...   \n",
       "3  [Discharge Instructions:, Why was I admitted t...   \n",
       "\n",
       "                                              labels  \n",
       "0                        [0, 1, 0, 0, 0, 1, 1, 1, 0]  \n",
       "1                     [0, 0, 0, 0, 1, 1, 0, 0, 0, 0]  \n",
       "2                        [1, 1, 0, 0, 0, 0, 0, 1, 1]  \n",
       "3  [0, 0, 0, 0, 0, 1, 1, 1, 0, 0, 0, 0, 0, 0, 0, ...  "
      ]
     },
     "execution_count": 78,
     "metadata": {},
     "output_type": "execute_result"
    }
   ],
   "source": [
    "few.head()"
   ]
  },
  {
   "cell_type": "code",
   "execution_count": 79,
   "id": "ce02b2cf-4b40-4023-99ee-dd9a77df9a8f",
   "metadata": {
    "tags": []
   },
   "outputs": [
    {
     "name": "stdout",
     "output_type": "stream",
     "text": [
      "1: My question is if the sludge was there does not the medication help in flushing it out? Whether ERCP was the only cure?\n",
      "2: he is continously irritated and has headache when awake what do ido\n",
      "3: What would you say about cancer in the stomach?\n",
      "4: I went to ER for a bladder infection. The doctor asked if I had irregular heartbeats or a-fib, which lead me getting very panicky\n"
     ]
    }
   ],
   "source": [
    "for i, q in enumerate(few.patient_question):\n",
    "    print(f\"{i+1}: {q}\")"
   ]
  },
  {
   "cell_type": "code",
   "execution_count": 80,
   "id": "6e6cabe4-b42c-4b59-940f-e675b40a932c",
   "metadata": {
    "tags": []
   },
   "outputs": [
    {
     "name": "stdout",
     "output_type": "stream",
     "text": [
      "1: Discharge Instructions:\n",
      "2: Why was I admitted to the hospital?\n",
      "3: You were admitted to the hospital because you were having chest pain.\n",
      "4: We wanted to rule out a ___ cause.\n",
      "5: What happened while I was here?\n",
      "6: - We did a very thorough work up to make sure your heart isn't the cause of your chest pain.\n",
      "7: This included EKGs, blood tests that look at whether the heart is under stress, and a CAT scan to make sure you didn't have a tear in any major blood vessels or a blood clot in your lungs.\n",
      "8: These were all normal.\n",
      "9: You did a stress test and another special heart study called a MIBI, which did not show any heart problems.\n",
      "10: - We gave you Ativan and Tylenol, which improved your pain.\n",
      "11: - We also started you on a medicine called sertraline which helps with anxiety, which might be the cause of your chest pain.\n",
      "12: - We checked your thyroid function which was normal.\n",
      "13: - We checked your cholesterol which was normal.\n",
      "14: What should I do when I get home?\n",
      "15: - Continue taking all your normal medications and the new sertraline and Ativan to help with your chest pain.\n",
      "16: - You should see your primary care doctor this week.\n",
      "17: He/she will discuss any additional tests you may need and help manage your new medications.\n",
      "18: - While taking Ativan, you should not drive or operate heavy machinery since this can be very dangerous.\n"
     ]
    }
   ],
   "source": [
    "for i, sentence in enumerate(few.sentences[3]):\n",
    "    print(f\"{i+1}: {sentence}\")"
   ]
  },
  {
   "cell_type": "markdown",
   "id": "8bddf683-62a2-4af2-b15c-3a046df96061",
   "metadata": {},
   "source": [
    "# Generate"
   ]
  },
  {
   "cell_type": "markdown",
   "id": "82ea81be-32fd-4c6e-b50a-6ed4f34d35d3",
   "metadata": {},
   "source": [
    "**Helper function**"
   ]
  },
  {
   "cell_type": "code",
   "execution_count": 81,
   "id": "5778a8a5-1552-4c27-bdb0-d7f46f1dde62",
   "metadata": {
    "tags": []
   },
   "outputs": [],
   "source": [
    "def is_valid_generation(text):\n",
    "    t = text.lower()\n",
    "    return (\"patient question:\" in t\n",
    "            and \"clinician question:\" in t\n",
    "            and \"relevant sentences\" in t\n",
    "            and \"[\" in t and \"]\" in t)"
   ]
  },
  {
   "cell_type": "code",
   "execution_count": 82,
   "id": "a738bfb0-a1b3-475d-acc0-3b8ddb90d236",
   "metadata": {
    "tags": []
   },
   "outputs": [],
   "source": [
    "def split_output(raw: str) -> str:\n",
    "    # Split at the first occurrence of “Patient Question:”\n",
    "    sep = \"Patient Question:\"\n",
    "    parts = raw.split(sep, 1)\n",
    "    if len(parts) < 2:\n",
    "        raise ValueError(\"No Patient Question: in output\")\n",
    "    return sep + \" \" + parts[1].strip()"
   ]
  },
  {
   "cell_type": "markdown",
   "id": "0f9bc92e-24fa-4c1a-af03-e9d7b9c7664c",
   "metadata": {},
   "source": [
    "**API-Call function**"
   ]
  },
  {
   "cell_type": "code",
   "execution_count": 83,
   "id": "8a1759ff-9006-4ebd-9fc4-a1b8f2a93a35",
   "metadata": {
    "tags": []
   },
   "outputs": [],
   "source": [
    "def generate_with_openai(\n",
    "    prompt: str,\n",
    "    model: str = \"gpt-4o-mini\",\n",
    "    temperature: float = 0.9,\n",
    "    max_tokens: int = 1024,\n",
    "    top_p: float = 0.9,\n",
    "    n=1\n",
    "):\n",
    "    resp = openai.chat.completions.create(\n",
    "        model=model,\n",
    "        messages=[\n",
    "            {\"role\": \"system\",  \"content\": \"You are a clinical-QA generator.\"},\n",
    "            {\"role\": \"user\",    \"content\": prompt},\n",
    "        ],\n",
    "        temperature=temperature,\n",
    "        max_tokens=max_tokens,\n",
    "        top_p=top_p,\n",
    "        stop=[\"\\n\\n\"],\n",
    "        n=n\n",
    "    )\n",
    "    return [c.message.content.strip() for c in resp.choices]"
   ]
  },
  {
   "cell_type": "markdown",
   "id": "cb6f095a-1f64-4fd8-9408-88eaad22f460",
   "metadata": {},
   "source": [
    "**Prompt Building**"
   ]
  },
  {
   "cell_type": "markdown",
   "id": "40647058-95da-406e-811c-e7987a88a961",
   "metadata": {
    "tags": []
   },
   "source": [
    "**Format few‐shot block**"
   ]
  },
  {
   "cell_type": "code",
   "execution_count": 84,
   "id": "de24b22f-c154-4294-9a31-39d01e757c7d",
   "metadata": {
    "tags": []
   },
   "outputs": [],
   "source": [
    "def format_few_shot(df: pd.DataFrame, n=3) -> str:\n",
    "    sampled_data = df.sample(n=n)\n",
    "    exs = []\n",
    "    for _, row in sampled_data.iterrows():\n",
    "        numbered = \"\\n\".join(f\"{i+1}. {s}\" for i, s in enumerate(row.sentences))\n",
    "        relevant = [i+1 for i, lbl in enumerate(row.labels) if lbl]\n",
    "        exs.append(\n",
    "            f\"Note Excerpt:\\n{numbered}\\n\\n\"\n",
    "            f\"Patient Question: {row.patient_question}\\n\"\n",
    "            f\"Clinician Question: {row.clinician_question}\\n\"\n",
    "            f\"Relevant Sentences: {relevant}\"\n",
    "        )\n",
    "    return \"\\n\\n---\\n\\n\".join(exs)"
   ]
  },
  {
   "cell_type": "markdown",
   "id": "23964c00-d059-4cfe-b972-66e42e9bfa4b",
   "metadata": {},
   "source": [
    "**Generation Loop**"
   ]
  },
  {
   "cell_type": "code",
   "execution_count": 85,
   "id": "b4944150-75b8-4d40-b0ad-fecd3b22cd59",
   "metadata": {
    "tags": []
   },
   "outputs": [],
   "source": [
    "openai.api_key = openai_token"
   ]
  },
  {
   "cell_type": "code",
   "execution_count": 86,
   "id": "5d182a3b-158a-4a20-9c82-af5525b9ffd9",
   "metadata": {
    "tags": []
   },
   "outputs": [],
   "source": [
    "def safe_eval(x):\n",
    "    return ast.literal_eval(x) if isinstance(x, str) else x"
   ]
  },
  {
   "cell_type": "code",
   "execution_count": 87,
   "id": "47fbc777-670d-4d7a-8e6d-30e6ce9eea9a",
   "metadata": {
    "tags": []
   },
   "outputs": [],
   "source": [
    "notes[\"sentences\"] = notes[\"sentences\"].apply(safe_eval)"
   ]
  },
  {
   "cell_type": "code",
   "execution_count": 88,
   "id": "788128f5-0206-4fe7-aff8-2eacba971cc9",
   "metadata": {
    "tags": []
   },
   "outputs": [
    {
     "data": {
      "application/vnd.jupyter.widget-view+json": {
       "model_id": "cd1280c625904ad8a2bf20ed6236f3b0",
       "version_major": 2,
       "version_minor": 0
      },
      "text/plain": [
       "Generating:   0%|          | 0/20 [00:00<?, ?it/s]"
      ]
     },
     "metadata": {},
     "output_type": "display_data"
    }
   ],
   "source": [
    "outputs = []\n",
    "num_qa_pairs = 6\n",
    "num_examples = 1\n",
    "\n",
    "for idx, row in tqdm(notes.iterrows(), total=len(notes), desc=\"Generating\"):\n",
    "    \n",
    "    numbered = \"\\n\".join(f\"{i+1}. {s}\" for i, s in enumerate(row.sentences))\n",
    "    \n",
    "    for i in range(num_qa_pairs):\n",
    "        \n",
    "        few_shot_block = format_few_shot(arch_data, n=num_examples)\n",
    "\n",
    "        prompt = prompt_template.format(\n",
    "                example_qas=few_shot_block,\n",
    "                note=numbered\n",
    "            )\n",
    "\n",
    "        gens = generate_with_openai(prompt, n=1)\n",
    "\n",
    "        # gens is now a list of three Q&A blocks\n",
    "        for qa_text in gens:\n",
    "            if not is_valid_generation(qa_text):\n",
    "                print(f\"[Warning] Bad generation for idx={idx!r}: {qa_text}\")\n",
    "                continue\n",
    "            outputs.append({\n",
    "                \"id\":            idx,\n",
    "                \"note_excerpt\":  row.note_excerpt,\n",
    "                \"sentences\":     row.sentences,\n",
    "                \"output\":        qa_text,\n",
    "        })"
   ]
  },
  {
   "cell_type": "code",
   "execution_count": 89,
   "id": "a7b5144d-7077-482a-bcc0-c648e326d78c",
   "metadata": {
    "tags": []
   },
   "outputs": [],
   "source": [
    "first = outputs[0]\n",
    "second = outputs[1]\n",
    "third = outputs[2]"
   ]
  },
  {
   "cell_type": "code",
   "execution_count": 90,
   "id": "5c0ac19f-8c4e-4fcb-aa42-d7a5d8fd46c6",
   "metadata": {
    "tags": []
   },
   "outputs": [
    {
     "data": {
      "text/plain": [
       "'Patient Question: Why did I need a stent for my bile duct, and what was found during the procedure?  \\nClinician Question: What findings were observed during the ERCP regarding the biliary obstruction and subsequent management?  \\nRelevant Sentences: [2, 4, 6, 7, 8]'"
      ]
     },
     "execution_count": 90,
     "metadata": {},
     "output_type": "execute_result"
    }
   ],
   "source": [
    "first[\"output\"]"
   ]
  },
  {
   "cell_type": "code",
   "execution_count": 91,
   "id": "0624dec4-5e8d-40cd-985c-13682f351e93",
   "metadata": {
    "tags": []
   },
   "outputs": [
    {
     "data": {
      "text/plain": [
       "'Patient Question: Why did I need another procedure after the first ERCP?  \\nClinician Question: What were the reasons for the re-evaluation of the biliary stent and subsequent procedures?  \\nRelevant Sentences: [2, 3, 4, 6, 7, 8]'"
      ]
     },
     "execution_count": 91,
     "metadata": {},
     "output_type": "execute_result"
    }
   ],
   "source": [
    "second[\"output\"]"
   ]
  },
  {
   "cell_type": "code",
   "execution_count": 92,
   "id": "64569dc3-5034-4369-88e6-a1288c7eb59e",
   "metadata": {
    "tags": []
   },
   "outputs": [
    {
     "data": {
      "text/plain": [
       "'Patient Question: Why did I need a stent placed in my bile duct?  \\nClinician Question: What was the indication for placing a stent in the common bile duct during the ERCP?  \\nRelevant Sentences: [2, 3]'"
      ]
     },
     "execution_count": 92,
     "metadata": {},
     "output_type": "execute_result"
    }
   ],
   "source": [
    "third[\"output\"]"
   ]
  },
  {
   "cell_type": "code",
   "execution_count": 93,
   "id": "62aac096-f98e-4634-8748-497bd01ee8b6",
   "metadata": {
    "tags": []
   },
   "outputs": [
    {
     "name": "stdout",
     "output_type": "stream",
     "text": [
      "1: Brief Hospital Course:\n",
      "\n",
      "\n",
      "2: During the ERCP a pancreatic stent was required to facilitate access to the biliary system (removed at the end of the procedure), and a common bile duct stent was placed to allow drainage of the biliary obstruction caused by stones and sludge.\n",
      "\n",
      "\n",
      "3: However, due to the patient's elevated INR, no sphincterotomy or stone removal was performed.\n",
      "\n",
      "\n",
      "4: Frank pus was noted to be draining from the common bile duct, and post-ERCP it was recommended that the patient remain on IV Zosyn for at least a week.\n",
      "\n",
      "\n",
      "5: The Vancomycin was discontinued.\n",
      "\n",
      "\n",
      "6: On hospital day 4 (post-procedure day 3) the patient returned to ERCP for re-evaluation of her biliary stent as her LFTs and bilirubin continued an upward trend.\n",
      "\n",
      "\n",
      "7: On ERCP the previous biliary stent was noted to be acutely obstructed by biliary sludge and stones.\n",
      "\n",
      "\n",
      "8: As the patient's INR was normalized to 1.2, a sphincterotomy was safely performed, with removal of several biliary stones in addition to the common bile duct stent.\n",
      "\n",
      "\n",
      "9: At the conclusion of the procedure, retrograde cholangiogram was negative for filling defects.\n",
      "\n",
      "\n"
     ]
    }
   ],
   "source": [
    "for i, row in enumerate(first[\"sentences\"]):\n",
    "    print(f\"{i+1}: {row}\")\n",
    "    print(\"\\n\")"
   ]
  },
  {
   "cell_type": "code",
   "execution_count": 94,
   "id": "5b497244-561b-4464-87ae-cd5c832a21d4",
   "metadata": {
    "tags": []
   },
   "outputs": [
    {
     "data": {
      "text/plain": [
       "['Brief Hospital Course:',\n",
       " 'During the ERCP a pancreatic stent was required to facilitate access to the biliary system (removed at the end of the procedure), and a common bile duct stent was placed to allow drainage of the biliary obstruction caused by stones and sludge.',\n",
       " \"However, due to the patient's elevated INR, no sphincterotomy or stone removal was performed.\",\n",
       " 'Frank pus was noted to be draining from the common bile duct, and post-ERCP it was recommended that the patient remain on IV Zosyn for at least a week.',\n",
       " 'The Vancomycin was discontinued.',\n",
       " 'On hospital day 4 (post-procedure day 3) the patient returned to ERCP for re-evaluation of her biliary stent as her LFTs and bilirubin continued an upward trend.',\n",
       " 'On ERCP the previous biliary stent was noted to be acutely obstructed by biliary sludge and stones.',\n",
       " \"As the patient's INR was normalized to 1.2, a sphincterotomy was safely performed, with removal of several biliary stones in addition to the common bile duct stent.\",\n",
       " 'At the conclusion of the procedure, retrograde cholangiogram was negative for filling defects.']"
      ]
     },
     "execution_count": 94,
     "metadata": {},
     "output_type": "execute_result"
    }
   ],
   "source": [
    "second[\"sentences\"]"
   ]
  },
  {
   "cell_type": "code",
   "execution_count": 95,
   "id": "229d3a4b-2e84-4cc5-b08c-9a6f488947e5",
   "metadata": {
    "tags": []
   },
   "outputs": [
    {
     "data": {
      "text/plain": [
       "['Brief Hospital Course:',\n",
       " 'During the ERCP a pancreatic stent was required to facilitate access to the biliary system (removed at the end of the procedure), and a common bile duct stent was placed to allow drainage of the biliary obstruction caused by stones and sludge.',\n",
       " \"However, due to the patient's elevated INR, no sphincterotomy or stone removal was performed.\",\n",
       " 'Frank pus was noted to be draining from the common bile duct, and post-ERCP it was recommended that the patient remain on IV Zosyn for at least a week.',\n",
       " 'The Vancomycin was discontinued.',\n",
       " 'On hospital day 4 (post-procedure day 3) the patient returned to ERCP for re-evaluation of her biliary stent as her LFTs and bilirubin continued an upward trend.',\n",
       " 'On ERCP the previous biliary stent was noted to be acutely obstructed by biliary sludge and stones.',\n",
       " \"As the patient's INR was normalized to 1.2, a sphincterotomy was safely performed, with removal of several biliary stones in addition to the common bile duct stent.\",\n",
       " 'At the conclusion of the procedure, retrograde cholangiogram was negative for filling defects.']"
      ]
     },
     "execution_count": 95,
     "metadata": {},
     "output_type": "execute_result"
    }
   ],
   "source": [
    "third[\"sentences\"]"
   ]
  },
  {
   "cell_type": "code",
   "execution_count": 96,
   "id": "b4cc3ed2-9429-4feb-bfef-c3f9a7cda313",
   "metadata": {
    "tags": []
   },
   "outputs": [
    {
     "name": "stdout",
     "output_type": "stream",
     "text": [
      "Patient Question: Why did I need a stent for my bile duct, and what was found during the procedure?  \n",
      "Clinician Question: What findings were observed during the ERCP regarding the biliary obstruction and subsequent management?  \n",
      "Relevant Sentences: [2, 4, 6, 7, 8]\n",
      "\n",
      "\n",
      "\n",
      "Patient Question: Why did I need another procedure after the first ERCP?  \n",
      "Clinician Question: What were the reasons for the re-evaluation of the biliary stent and subsequent procedures?  \n",
      "Relevant Sentences: [2, 3, 4, 6, 7, 8]\n",
      "\n",
      "\n",
      "\n",
      "Patient Question: Why did I need a stent placed in my bile duct?  \n",
      "Clinician Question: What was the indication for placing a stent in the common bile duct during the ERCP?  \n",
      "Relevant Sentences: [2, 3]\n",
      "\n",
      "\n",
      "\n",
      "Patient Question: Why did I need a stent if I had stones and sludge in my bile duct?  \n",
      "Clinician Question: What was the rationale for placing a stent during the ERCP despite the presence of biliary stones and sludge?  \n",
      "Relevant Sentences: [2, 3, 7]\n",
      "\n",
      "\n",
      "\n",
      "Patient Question: Why did I need a stent during the procedure?  \n",
      "Clinician Question: What were the indications for placing a biliary stent during the ERCP?  \n",
      "Relevant Sentences: [2, 3]\n",
      "\n",
      "\n",
      "\n",
      "Patient Question: Why did I need a stent placed during my procedure, and what was found afterwards?  \n",
      "Clinician Question: What was the indication for placing a stent during the ERCP, and what were the findings upon re-evaluation?  \n",
      "Relevant Sentences: [2, 4, 6, 7, 8]\n",
      "\n",
      "\n",
      "\n",
      "Patient Question: Why was I intubated and how long was I on the ventilator?  \n",
      "Clinician Question: What were the indications for intubation and the duration of mechanical ventilation for this patient?  \n",
      "Relevant Sentences: [6, 9, 10, 11]\n",
      "\n",
      "\n",
      "\n",
      "Patient Question: Why did I have trouble breathing and need to be put on a ventilator?  \n",
      "Clinician Question: What were the contributing factors to the patient's respiratory failure that required intubation?  \n",
      "Relevant Sentences: [2, 6, 7, 10]\n",
      "\n",
      "\n",
      "\n",
      "Patient Question: Why was I intubated and what does that mean for my recovery?  \n",
      "Clinician Question: What was the reason for intubation and the expected impact on the patient's recovery?  \n",
      "Relevant Sentences: [6, 10, 11]\n",
      "\n",
      "\n",
      "\n",
      "Patient Question: Why did I need to be intubated during my hospital stay?  \n",
      "Clinician Question: What were the indications for intubation in this patient’s clinical course?  \n",
      "Relevant Sentences: [6, 10, 11]\n",
      "\n",
      "\n",
      "\n",
      "Patient Question: Why did I have to be intubated?  \n",
      "Clinician Question: What were the indications for intubation in this patient?  \n",
      "Relevant Sentences: [6, 7, 10, 11]\n",
      "\n",
      "\n",
      "\n",
      "Patient Question: Why was I intubated during my hospital stay?  \n",
      "Clinician Question: What were the reasons for the patient's intubation during their hospitalization?  \n",
      "Relevant Sentences: [6, 10, 11]\n",
      "\n",
      "\n",
      "\n",
      "Patient Question: I was hospitalized for a brain injury, but what symptoms should I watch for after my discharge?  \n",
      "Clinician Question: What symptoms are considered normal after a traumatic brain injury that the patient should monitor?  \n",
      "Relevant Sentences: [5, 8, 10]\n",
      "\n",
      "\n",
      "\n",
      "Patient Question: What symptoms should I watch for after my brain injury?  \n",
      "Clinician Question: What symptoms should be monitored following the patient's traumatic brain injury?  \n",
      "Relevant Sentences: [5, 8, 9, 10]\n",
      "\n",
      "\n",
      "\n",
      "Patient Question: What symptoms should I expect after my traumatic brain injury, and how long will they last?  \n",
      "Clinician Question: What are the expected symptoms following a traumatic brain injury and their anticipated duration?  \n",
      "Relevant Sentences: [5]\n",
      "\n",
      "\n",
      "\n",
      "Patient Question: What should I do if I feel dizzy and have a headache?  \n",
      "Clinician Question: What are the recommended actions for managing dizziness and headaches following a traumatic brain injury?  \n",
      "Relevant Sentences: [5]\n",
      "\n",
      "\n",
      "\n",
      "Patient Question: What should I be aware of after my brain injury and lung issue?  \n",
      "Clinician Question: What symptoms should the patient monitor after their traumatic brain injury and lung consolidation?  \n",
      "Relevant Sentences: [5, 8, 9, 10]\n",
      "\n",
      "\n",
      "\n",
      "Patient Question: Will my lung consolidation affect my recovery from the brain injury?  \n",
      "Clinician Question: How might the identified lung consolidation impact the patient's recovery trajectory from the traumatic brain injury?  \n",
      "Relevant Sentences: [1, 3, 5]\n",
      "\n",
      "\n",
      "\n",
      "Patient Question: What improvements did the milrinone treatment provide for my heart condition?  \n",
      "Clinician Question: How did milrinone impact the patient's cardiac output and wedge pressure during the treatment?  \n",
      "Relevant Sentences: [5, 6, 13, 20]\n",
      "\n",
      "\n",
      "\n",
      "Patient Question: What does it mean that my heart function improved after the milrinone treatment?  \n",
      "Clinician Question: How did the milrinone infusion impact the patient's cardiac output and overall heart function?  \n",
      "Relevant Sentences: [6, 13, 20]\n",
      "\n",
      "\n",
      "\n",
      "Patient Question: What does my worsening heart failure mean for my future?  \n",
      "Clinician Question: What is the long-term prognosis for the patient with worsening heart failure?  \n",
      "Relevant Sentences: [16, 18, 19, 20]\n",
      "\n",
      "\n",
      "\n",
      "Patient Question: Why was I admitted to the hospital and what treatments did I receive?  \n",
      "Clinician Question: What were the patient's presenting symptoms and treatment interventions during the hospitalization for worsening heart failure?  \n",
      "Relevant Sentences: [8, 18, 19, 20]\n",
      "\n",
      "\n",
      "\n",
      "Patient Question: What treatments did I receive for my heart failure during my hospital stay?  \n",
      "Clinician Question: What interventions were implemented for this patient’s acute-on-chronic heart failure during hospitalization?  \n",
      "Relevant Sentences: [5, 13, 15, 19, 20]\n",
      "\n",
      "\n",
      "\n",
      "Patient Question: Why was I admitted to the hospital and what treatments did I receive?  \n",
      "Clinician Question: What were the reasons for the patient's admission and the treatments administered during the hospital stay?  \n",
      "Relevant Sentences: [18, 19, 20]\n",
      "\n",
      "\n",
      "\n",
      "Patient Question: Why do I need to follow up with a primary care doctor before seeing a psychiatrist?  \n",
      "Clinician Question: What is the reason for the patient to follow up with a primary care physician prior to obtaining a referral to a psychiatrist?  \n",
      "Relevant Sentences: [22, 21]\n",
      "\n",
      "\n",
      "\n",
      "Patient Question: Why was my medication held during my hospital stay?  \n",
      "Clinician Question: What was the rationale for holding the patient's psychiatric medications during hospitalization?  \n",
      "Relevant Sentences: [2, 21]\n",
      "\n",
      "\n",
      "\n",
      "Patient Question: Why was my medication held during my hospital stay?  \n",
      "Clinician Question: What was the rationale for holding the patient's psychiatric medications during hospitalization?  \n",
      "Relevant Sentences: [2, 21, 22]\n",
      "\n",
      "\n",
      "\n",
      "Patient Question: I was told my chest pain was not serious, but what should I do about my confusion and follow-up care?  \n",
      "Clinician Question: What are the recommendations for follow-up care regarding the patient's confusion and chest pain?  \n",
      "Relevant Sentences: [16, 22]\n",
      "\n",
      "\n",
      "\n",
      "Patient Question: Why did they hold my medications while I was in the hospital?  \n",
      "Clinician Question: What was the reason for holding the patient's medications during hospitalization?  \n",
      "Relevant Sentences: [2, 21]\n",
      "\n",
      "\n",
      "\n",
      "Patient Question: Why did I have chest pain during my hospital stay?  \n",
      "Clinician Question: What was the cause of the patient's chest pain during hospitalization?  \n",
      "Relevant Sentences: [9, 10, 18]\n",
      "\n",
      "\n",
      "\n",
      "Patient Question: I heard I was moved to comfort care, does that mean I won't be treated anymore?  \n",
      "Clinician Question: Does the transition to comfort measures only indicate that no further treatment will be provided?  \n",
      "Relevant Sentences: [7, 9, 10]\n",
      "\n",
      "\n",
      "\n",
      "Patient Question: Why did my condition get worse even after starting antibiotics?  \n",
      "Clinician Question: What factors contributed to the patient's worsening condition despite the initiation of antibiotic therapy?  \n",
      "Relevant Sentences: [20, 17, 21, 23]\n",
      "\n",
      "\n",
      "\n",
      "Patient Question: Why was my treatment changed to comfort measures only?  \n",
      "Clinician Question: What led to the decision to transition the patient to comfort measures only?  \n",
      "Relevant Sentences: [7, 10]\n",
      "\n",
      "\n",
      "\n",
      "Patient Question: Why did my dad need to be given morphine if he wasn't getting better?  \n",
      "Clinician Question: What was the rationale for starting morphine in the context of the patient's persistent tachycardia and lack of improvement?  \n",
      "Relevant Sentences: [9, 21, 25]\n",
      "\n",
      "\n",
      "\n",
      "Patient Question: What did the doctors decide about my treatment towards the end of my hospital stay?  \n",
      "Clinician Question: What were the goals of care established for the patient towards the end of his hospitalization?  \n",
      "Relevant Sentences: [7, 9, 10]\n",
      "\n",
      "\n",
      "\n",
      "Patient Question: Why was my treatment changed to comfort measures only?  \n",
      "Clinician Question: What led to the decision to transition the patient's care to comfort measures only?  \n",
      "Relevant Sentences: [7, 9, 10]\n",
      "\n",
      "\n",
      "\n",
      "Patient Question: What should I expect in terms of my recovery after the subarachnoid hemorrhage?  \n",
      "Clinician Question: What is the expected recovery process for the patient following her subarachnoid hemorrhage?  \n",
      "Relevant Sentences: [4, 6, 10, 19, 21, 23, 26]\n",
      "\n",
      "\n",
      "\n",
      "Patient Question: What will happen with my medication and follow-up after the IVC filter placement?  \n",
      "Clinician Question: What are the follow-up care instructions regarding anticoagulation management after IVC filter placement?  \n",
      "Relevant Sentences: [19, 20, 21, 22]\n",
      "\n",
      "\n",
      "\n",
      "Patient Question: What should I expect for follow-up after my subarachnoid hemorrhage?  \n",
      "Clinician Question: What are the follow-up recommendations for the patient post-subarachnoid hemorrhage?  \n",
      "Relevant Sentences: [23, 24, 26, 29]\n",
      "\n",
      "\n",
      "\n",
      "Patient Question: What should I do to take care of myself after my subarachnoid hemorrhage?  \n",
      "Clinician Question: What are the discharge instructions and follow-up care recommendations for the patient after a subarachnoid hemorrhage?  \n",
      "Relevant Sentences: [18, 19, 20, 22, 23, 24, 26, 29]\n",
      "\n",
      "\n",
      "\n",
      "Patient Question: What do I need to do for my subarachnoid hemorrhage after leaving the hospital?  \n",
      "Clinician Question: What are the discharge instructions and follow-up recommendations for the patient with subarachnoid hemorrhage?  \n",
      "Relevant Sentences: [18, 20, 23, 24, 26, 29]\n",
      "\n",
      "\n",
      "\n",
      "Patient Question: What should I expect during my follow-up for the subarachnoid hemorrhage?  \n",
      "Clinician Question: What are the follow-up instructions for the patient after her subarachnoid hemorrhage?  \n",
      "Relevant Sentences: [23, 24, 26, 29]\n",
      "\n",
      "\n",
      "\n",
      "Patient Question: What caused my liver disease and how was it treated?  \n",
      "Clinician Question: What were the underlying causes of the patient's liver disease and the treatment interventions undertaken?  \n",
      "Relevant Sentences: [2, 41, 45, 43, 46]\n",
      "\n",
      "\n",
      "\n",
      "Patient Question: What caused my liver problems and jaundice?  \n",
      "Clinician Question: What were the underlying factors contributing to the patient's liver disease and jaundice?  \n",
      "Relevant Sentences: [42, 45]\n",
      "\n",
      "\n",
      "\n",
      "Patient Question: Why did I need to stay in the ICU during my hospital stay?  \n",
      "Clinician Question: What were the reasons for the patient's transfer to the ICU during her hospitalization?  \n",
      "Relevant Sentences: [20, 21, 22, 24, 26]\n",
      "\n",
      "\n",
      "\n",
      "Patient Question: What are the long-term effects of my liver disease and how will it impact my future health?  \n",
      "Clinician Question: What are the potential long-term health implications of the patient's liver disease, specifically cirrhosis, and how may it affect her overall prognosis?  \n",
      "Relevant Sentences: [45, 42, 43]\n",
      "\n",
      "\n",
      "\n",
      "Patient Question: What do I need to do for follow-up after leaving the hospital?  \n",
      "Clinician Question: What follow-up care is recommended for the patient after discharge?  \n",
      "Relevant Sentences: [35, 39]\n",
      "\n",
      "\n",
      "\n",
      "Patient Question: What treatment did I receive for my liver and kidney issues?  \n",
      "Clinician Question: What interventions were implemented for the patient's liver failure and renal impairment during her hospital stay?  \n",
      "Relevant Sentences: [42, 43, 45, 46, 19]\n",
      "\n",
      "\n",
      "\n",
      "Patient Question: What are the chances of my recovery after experiencing such severe complications?  \n",
      "Clinician Question: What is the prognosis for recovery following the patient's emergent C-section and subsequent complications?  \n",
      "Relevant Sentences: [11, 16, 17, 21]\n",
      "\n",
      "\n",
      "\n",
      "Patient Question: What does it mean that I have cerebral edema and no significant neurological function?  \n",
      "Clinician Question: What is the significance of the patient's cerebral edema and lack of neurological function?  \n",
      "Relevant Sentences: [12, 17]\n",
      "\n",
      "\n",
      "\n",
      "Patient Question: Why did I need a liver transplant after my C-section?  \n",
      "Clinician Question: What were the complications following the patient's C-section that led to the decision for liver transplantation?  \n",
      "Relevant Sentences: [11, 16]\n",
      "\n",
      "\n",
      "\n",
      "Patient Question: What are the chances that I will recover from the complications after my C-section?  \n",
      "Clinician Question: What is the prognosis for the patient following the severe complications encountered post-C-section?  \n",
      "Relevant Sentences: [1, 4, 11, 16, 21]\n",
      "\n",
      "\n",
      "\n",
      "Patient Question: Why was my wife so swollen and needed so many blood products after her C-section?  \n",
      "Clinician Question: What were the reasons for the massive blood loss and the subsequent need for multiple blood products in this patient following her C-section?  \n",
      "Relevant Sentences: [2, 4, 5]\n",
      "\n",
      "\n",
      "\n",
      "Patient Question: Why did I need a liver transplant after my C-section?  \n",
      "Clinician Question: What led to the patient's diagnosis of fulminant hepatic failure necessitating liver transplantation?  \n",
      "Relevant Sentences: [11, 16]\n",
      "\n",
      "\n",
      "\n",
      "Patient Question: What happened to me while I was in the hospital?  \n",
      "Clinician Question: What were the key events and treatments during the patient's hospital stay following his cardiac arrest?  \n",
      "Relevant Sentences: [2, 4, 10, 12, 18, 22, 26, 30]\n",
      "\n",
      "\n",
      "\n",
      "Patient Question: What are the chances of me improving after my brain injury?  \n",
      "Clinician Question: What is the prognosis for the patient following anoxic brain injury?  \n",
      "Relevant Sentences: [18, 22, 23, 24]\n",
      "\n",
      "\n",
      "\n",
      "Patient Question: Why did I have seizures after my cardiac arrest and what should I do about them?  \n",
      "Clinician Question: What is the management plan for the patient experiencing seizures following anoxic brain injury?  \n",
      "Relevant Sentences: [11, 19, 30, 31]\n",
      "\n",
      "\n",
      "\n",
      "Patient Question: Why did I have seizures after being in the hospital?  \n",
      "Clinician Question: What are the possible reasons for the patient's seizures following their anoxic brain injury?  \n",
      "Relevant Sentences: [11, 12, 19, 22]\n",
      "\n",
      "\n",
      "\n",
      "Patient Question: Why did I have seizures while in the hospital?  \n",
      "Clinician Question: What were the circumstances surrounding the patient's seizures during hospitalization?  \n",
      "Relevant Sentences: [11, 12, 19, 30]\n",
      "\n",
      "\n",
      "\n",
      "Patient Question: Why did I have seizures after my cardiac arrest?  \n",
      "Clinician Question: What is the reason for the patient's seizures following the anoxic brain injury and cardiac arrest?  \n",
      "Relevant Sentences: [11, 12, 18, 22, 30, 31]\n",
      "\n",
      "\n",
      "\n",
      "Patient Question: Why was I given hydromorphone after my hospital stay?  \n",
      "Clinician Question: What was the rationale for prescribing hydromorphone for the patient at discharge?  \n",
      "Relevant Sentences: [10, 23, 25]\n",
      "\n",
      "\n",
      "\n",
      "Patient Question: What should I do if I still have headaches after leaving the hospital?  \n",
      "Clinician Question: What is the recommended course of action for the patient if she continues to experience headaches after discharge?  \n",
      "Relevant Sentences: [8, 10, 15, 25]\n",
      "\n",
      "\n",
      "\n",
      "Patient Question: Why did they give my child so many different medications for her meningitis?  \n",
      "Clinician Question: What medications were administered for the treatment of the patient's meningitis?  \n",
      "Relevant Sentences: [3, 21, 23]\n",
      "\n",
      "\n",
      "\n",
      "Patient Question: Why did I get put on antibiotics and then taken off them before I went home?  \n",
      "Clinician Question: What were the findings that led to the discontinuation of antibiotics in this patient with viral meningitis?  \n",
      "Relevant Sentences: [3, 7, 22]\n",
      "\n",
      "\n",
      "\n",
      "Patient Question: Why was I treated with antibiotics when I was diagnosed with meningitis?  \n",
      "Clinician Question: What was the rationale for initiating antibiotic treatment in this patient's case of meningitis?  \n",
      "Relevant Sentences: [3, 20, 21]\n",
      "\n",
      "\n",
      "\n",
      "Patient Question: Why was I treated for meningitis and what were the results?  \n",
      "Clinician Question: What were the findings regarding the patient's meningitis and the initial treatment provided?  \n",
      "Relevant Sentences: [2, 20, 21, 22]\n",
      "\n",
      "\n",
      "\n",
      "Patient Question: Why was I given nitroglycerin for my chest pain?  \n",
      "Clinician Question: What was the reason for administering nitroglycerin to the patient during their hospital stay?  \n",
      "Relevant Sentences: [11]\n",
      "\n",
      "\n",
      "\n",
      "Patient Question: Why was I given insulin for my abdominal pain?  \n",
      "Clinician Question: What was the rationale for using insulin in the management of the patient's abdominal pain?  \n",
      "Relevant Sentences: [5, 11]\n",
      "\n",
      "\n",
      "\n",
      "Patient Question: What should I do if my abdominal pain comes back after I go home?  \n",
      "Clinician Question: What instructions should the patient follow regarding the management of abdominal pain after discharge?  \n",
      "Relevant Sentences: [12, 14]\n",
      "\n",
      "\n",
      "\n",
      "Patient Question: Why did I have both abdominal and chest pain while in the hospital?  \n",
      "Clinician Question: What was the cause of the patient's abdominal and chest pain during hospitalization?  \n",
      "Relevant Sentences: [5, 6, 7, 11]\n",
      "\n",
      "\n",
      "\n",
      "Patient Question: Why did I have chest pain if my heart tests came back normal?  \n",
      "Clinician Question: What findings supported the conclusion that the patient's chest pain was not related to heart problems?  \n",
      "Relevant Sentences: [7, 11]\n",
      "\n",
      "\n",
      "\n",
      "Patient Question: Why did I have both abdominal pain and chest pain?  \n",
      "Clinician Question: What were the reasons for the patient's abdominal pain and chest pain during hospitalization?  \n",
      "Relevant Sentences: [5, 6, 7, 11]\n",
      "\n",
      "\n",
      "\n",
      "Patient Question: What will happen to my legs if I leave the hospital now?  \n",
      "Clinician Question: What are the potential consequences of the patient leaving the hospital against medical advice regarding their leg symptoms?  \n",
      "Relevant Sentences: [5, 11]\n",
      "\n",
      "\n",
      "\n",
      "Patient Question: Why did the doctors want me to stay in the hospital?  \n",
      "Clinician Question: What were the reasons provided for the patient's recommended hospitalization?  \n",
      "Relevant Sentences: [4, 10, 11]\n",
      "\n",
      "\n",
      "\n",
      "Patient Question: What risks did the doctors say I would face if I left the hospital?  \n",
      "Clinician Question: What were the risks communicated to the patient regarding leaving the hospital against medical advice?  \n",
      "Relevant Sentences: [5, 11]\n",
      "\n",
      "\n",
      "\n",
      "Patient Question: I left the hospital against medical advice, but could this really lead to permanent paralysis?  \n",
      "Clinician Question: Does leaving the hospital against medical advice increase the risk of permanent paralysis for this patient?  \n",
      "Relevant Sentences: [5, 6, 11]\n",
      "\n",
      "\n",
      "\n",
      "Patient Question: Why did the doctors want me to stay in the hospital?  \n",
      "Clinician Question: What reasons did the medical team provide for recommending hospitalization despite the patient's desire to leave?  \n",
      "Relevant Sentences: [4, 5, 10]\n",
      "\n",
      "\n",
      "\n",
      "Patient Question: What risks should I be aware of if I leave the hospital early?  \n",
      "Clinician Question: What risks were communicated to the patient regarding leaving the hospital against medical advice?  \n",
      "Relevant Sentences: [5, 10, 11]\n",
      "\n",
      "\n",
      "\n",
      "Patient Question: What should I do about my constipation after my small bowel obstruction?  \n",
      "Clinician Question: What discharge instructions were provided to the patient regarding the management of constipation?  \n",
      "Relevant Sentences: [3, 5, 6]\n",
      "\n",
      "\n",
      "\n",
      "Patient Question: I was admitted for a bowel obstruction, what should I do about my constipation?  \n",
      "Clinician Question: What management strategies are recommended for this patient’s constipation given their intolerance to stool softeners?  \n",
      "Relevant Sentences: [3, 5, 6]\n",
      "\n",
      "\n",
      "\n",
      "Patient Question: What should I do if I can't tolerate stool softeners and I still have constipation?  \n",
      "Clinician Question: What are the recommended treatments for constipation in a patient who cannot tolerate stool softeners?  \n",
      "Relevant Sentences: [3, 5, 6]\n",
      "\n",
      "\n",
      "\n",
      "Patient Question: What can I do to manage my constipation after leaving the hospital?  \n",
      "Clinician Question: What recommendations were given for managing the patient's constipation following their discharge?  \n",
      "Relevant Sentences: [3, 5, 6, 7]\n",
      "\n",
      "\n",
      "\n",
      "Patient Question: How can I manage my constipation after my hospital stay?  \n",
      "Clinician Question: What recommendations were made for managing constipation in this patient?  \n",
      "Relevant Sentences: [3, 5, 6]\n",
      "\n",
      "\n",
      "\n",
      "Patient Question: What should I do if I have trouble with constipation?  \n",
      "Clinician Question: What recommendations were made for managing constipation in this patient?  \n",
      "Relevant Sentences: [3, 5, 6]\n",
      "\n",
      "\n",
      "\n",
      "Patient Question: How long do I need to take the antibiotics for my skin infection?  \n",
      "Clinician Question: What is the duration of antibiotic treatment for the skin infection?  \n",
      "Relevant Sentences: [5, 9, 11]\n",
      "\n",
      "\n",
      "\n",
      "Patient Question: How long do I need to take the antibiotics for my skin infection?  \n",
      "Clinician Question: What is the duration of antibiotic treatment for the patient's skin infection?  \n",
      "Relevant Sentences: [5, 9, 11]\n",
      "\n",
      "\n",
      "\n",
      "Patient Question: What caused the swelling in my penis and scrotum?  \n",
      "Clinician Question: What is the diagnosis for the patient's swelling in the genital area?  \n",
      "Relevant Sentences: [3, 4]\n",
      "\n",
      "\n",
      "\n",
      "Patient Question: What medications did I receive for my infection and HIV prophylaxis?  \n",
      "Clinician Question: What medications were prescribed to the patient for the skin infection and HIV prophylaxis?  \n",
      "Relevant Sentences: [5, 9, 10, 11]\n",
      "\n",
      "\n",
      "\n",
      "Patient Question: What kind of infection do I have and how will it be treated?  \n",
      "Clinician Question: What is the diagnosis and treatment plan for the patient's skin infection?  \n",
      "Relevant Sentences: [3, 4, 5, 9]\n",
      "\n",
      "\n",
      "\n",
      "Patient Question: Why did they give me antibiotics and other medications for my swelling?  \n",
      "Clinician Question: What was the rationale for prescribing antibiotics and additional medications for the patient's skin infection and possible HIV prophylaxis?  \n",
      "Relevant Sentences: [4, 5, 9, 10]\n",
      "\n",
      "\n",
      "\n",
      "Patient Question: Why do I have chronic abdominal and back pain, and what should I do next?  \n",
      "Clinician Question: What is the underlying cause of the patient's chronic abdominal and back pain, and what follow-up care is recommended?  \n",
      "Relevant Sentences: [2, 9, 15, 16, 24, 28, 29]\n",
      "\n",
      "\n",
      "\n",
      "Patient Question: Why do I have so much pain in my stomach and back?  \n",
      "Clinician Question: What are the potential causes of the patient's chronic abdominal and mid-back pain, and what treatments have been initiated?  \n",
      "Relevant Sentences: [2, 10, 15, 16, 19, 30]\n",
      "\n",
      "\n",
      "\n",
      "Patient Question: Why am I still having severe abdominal pain if all the tests were normal?  \n",
      "Clinician Question: What are the potential reasons for the patient's persistent severe abdominal pain despite normal test results?  \n",
      "Relevant Sentences: [15, 9, 8]\n",
      "\n",
      "\n",
      "\n",
      "Patient Question: Why am I experiencing so much abdominal and back pain?  \n",
      "Clinician Question: What is the underlying cause of the patient's abdominal and mid-back pain?  \n",
      "Relevant Sentences: [15, 5, 16, 9]\n",
      "\n",
      "\n",
      "\n",
      "Patient Question: Why do I still have severe abdominal pain even after all the tests?  \n",
      "Clinician Question: What could be the cause of the patient's persistent severe abdominal pain despite extensive evaluation?  \n",
      "Relevant Sentences: [15, 2, 9]\n",
      "\n",
      "\n",
      "\n",
      "Patient Question: Why do I still have severe abdominal pain even after all the tests?  \n",
      "Clinician Question: What are the possible reasons for the patient's persistent abdominal pain despite negative evaluations?  \n",
      "Relevant Sentences: [15, 8]\n",
      "\n",
      "\n",
      "\n",
      "Patient Question: Why did they say my dad had to have surgery for his goiter?  \n",
      "Clinician Question: What were the reasons for recommending surgical removal of the thyroid goiter in this patient?  \n",
      "Relevant Sentences: [9, 11, 33]\n",
      "\n",
      "\n",
      "\n",
      "Patient Question: Why did I need surgery for my thyroid goiter?  \n",
      "Clinician Question: What was the rationale for recommending surgical intervention for the patient's multinodular goiter?  \n",
      "Relevant Sentences: [33, 34]\n",
      "\n",
      "\n",
      "\n",
      "Patient Question: What will happen to my sleep apnea now that my goiter has been removed?  \n",
      "Clinician Question: How will the surgical removal of the thyroid goiter affect the patient's obstructive sleep apnea?  \n",
      "Relevant Sentences: [9, 33, 34]\n",
      "\n",
      "\n",
      "\n",
      "Patient Question: How will my sleep apnea improve after the thyroid surgery?  \n",
      "Clinician Question: What impact will the thyroidectomy have on the patient's obstructive sleep apnea?  \n",
      "Relevant Sentences: [3, 9, 33, 34]\n",
      "\n",
      "\n",
      "\n",
      "Patient Question: Will my sleep apnea improve after the thyroid surgery?  \n",
      "Clinician Question: Is there an expectation that the patient's obstructive sleep apnea will improve following the thyroidectomy for goiter removal?  \n",
      "Relevant Sentences: [33, 34, 9, 12]\n",
      "\n",
      "\n",
      "\n",
      "Patient Question: What should I do to improve my sleep apnea after surgery?  \n",
      "Clinician Question: What recommendations are given to the patient to manage sleep apnea following thyroid surgery?  \n",
      "Relevant Sentences: [33, 36, 37]\n",
      "\n",
      "\n",
      "\n",
      "Patient Question: What should I do to avoid constipation after taking pain medication?  \n",
      "Clinician Question: What recommendations were given to prevent constipation in this patient?  \n",
      "Relevant Sentences: [23]\n",
      "\n",
      "\n",
      "\n",
      "Patient Question: What should I do to help my lungs recover after the accident?  \n",
      "Clinician Question: What recommendations can be made for lung recovery post-accident?  \n",
      "Relevant Sentences: [21, 22]\n",
      "\n",
      "\n",
      "\n",
      "Patient Question: I was in a car accident and now I'm being discharged; what should I do to take care of myself at home?  \n",
      "Clinician Question: What discharge instructions were provided for the patient's recovery after the accident?  \n",
      "Relevant Sentences: [20, 21, 22, 23]\n",
      "\n",
      "\n",
      "\n",
      "Patient Question: Am I going to be okay after this car accident, and will my memory problems improve?  \n",
      "Clinician Question: What is the prognosis for the patient's memory issues following the car accident, and how is his overall condition post-incident?  \n",
      "Relevant Sentences: [8, 10, 17]\n",
      "\n",
      "\n",
      "\n",
      "Patient Question: What should I do to manage my neck tension after the accident?  \n",
      "Clinician Question: What recommendations can be given to the patient for managing neck tension following the motor vehicle collision?  \n",
      "Relevant Sentences: [9, 21, 22]\n",
      "\n",
      "\n",
      "\n",
      "Patient Question: Am I going to be okay after my car accident?  \n",
      "Clinician Question: What is the patient's current status following the car accident and subsequent hospital stay?  \n",
      "Relevant Sentences: [7, 9, 17, 18]\n",
      "\n",
      "\n",
      "\n",
      "Patient Question: Why did the doctors think my chest pain might be caused by anxiety?  \n",
      "Clinician Question: What rationale did the team provide for considering anxiety as a potential cause of the patient's chest pain?  \n",
      "Relevant Sentences: [11]\n",
      "\n",
      "\n",
      "\n",
      "Patient Question: Why did I have chest pain and what should I do now?  \n",
      "Clinician Question: What was the cause of the patient's chest pain and what follow-up actions are recommended?  \n",
      "Relevant Sentences: [3, 10, 15, 16, 17]\n",
      "\n",
      "\n",
      "\n",
      "Patient Question: What caused my chest pain if all the tests were normal?  \n",
      "Clinician Question: What potential causes for the patient's chest pain were considered given the normal test results?  \n",
      "Relevant Sentences: [3, 11]\n",
      "\n",
      "\n",
      "\n",
      "Patient Question: Why did I have chest pain and what did the tests show?  \n",
      "Clinician Question: What were the findings from the workup for the patient's chest pain, and what diagnoses were considered?  \n",
      "Relevant Sentences: [3, 6, 8, 9]\n",
      "\n",
      "\n",
      "\n",
      "Patient Question: Why did I have chest pain?  \n",
      "Clinician Question: What was the rationale for the patient's admission related to chest pain?  \n",
      "Relevant Sentences: [2, 3, 6, 11]\n",
      "\n",
      "\n",
      "\n",
      "Patient Question: What could be causing my chest pain if all my heart tests came back normal?  \n",
      "Clinician Question: What potential causes of chest pain are considered given the normal cardiac evaluations?  \n",
      "Relevant Sentences: [3, 4, 6, 11]\n",
      "\n",
      "\n",
      "\n",
      "Patient Question: What should I do to manage my headaches after leaving the hospital?  \n",
      "Clinician Question: What are the recommended management strategies for the patient's headaches post-discharge?  \n",
      "Relevant Sentences: [5, 7, 9]\n",
      "\n",
      "\n",
      "\n",
      "Patient Question: What should I do if my headaches do not improve while taking verapamil?  \n",
      "Clinician Question: What steps should be taken if the patient's headaches persist despite starting verapamil?  \n",
      "Relevant Sentences: [5, 7, 8]\n",
      "\n",
      "\n",
      "\n",
      "Patient Question: What should I do if my headaches come back after I start taking verapamil?  \n",
      "Clinician Question: What are the recommendations for managing headaches after initiating verapamil treatment?  \n",
      "Relevant Sentences: [5, 6, 7, 9]\n",
      "\n",
      "\n",
      "\n",
      "Patient Question: How will taking verapamil help my headaches?  \n",
      "Clinician Question: What is the mechanism of action of verapamil in the management of headaches?  \n",
      "Relevant Sentences: [5]\n",
      "\n",
      "\n",
      "\n",
      "Patient Question: Why do I need to take verapamil every day even if I don't have a headache?  \n",
      "Clinician Question: What is the purpose of initiating verapamil treatment in this patient?  \n",
      "Relevant Sentences: [5, 6, 9]\n",
      "\n",
      "\n",
      "\n",
      "Patient Question: What should I do to manage my headaches after being discharged?  \n",
      "Clinician Question: What are the recommended management strategies for the patient's headaches post-discharge?  \n",
      "Relevant Sentences: [6, 9]\n",
      "\n",
      "\n",
      "\n"
     ]
    }
   ],
   "source": [
    "for i, row in enumerate(outputs):\n",
    "    print(row[\"output\"])\n",
    "    print()\n",
    "    print(\"\\n\")"
   ]
  },
  {
   "cell_type": "code",
   "execution_count": 97,
   "id": "f61a3e81-182a-46fb-b5f5-051411d85f19",
   "metadata": {
    "tags": []
   },
   "outputs": [],
   "source": [
    "example = split_output(outputs[0][\"output\"])"
   ]
  },
  {
   "cell_type": "code",
   "execution_count": 98,
   "id": "48b8c4e5-0368-4d4f-be5a-5fecc642e64f",
   "metadata": {
    "tags": []
   },
   "outputs": [
    {
     "data": {
      "text/plain": [
       "'Patient Question: Why did I need a stent for my bile duct, and what was found during the procedure?  \\nClinician Question: What findings were observed during the ERCP regarding the biliary obstruction and subsequent management?  \\nRelevant Sentences: [2, 4, 6, 7, 8]'"
      ]
     },
     "execution_count": 98,
     "metadata": {},
     "output_type": "execute_result"
    }
   ],
   "source": [
    "example"
   ]
  },
  {
   "cell_type": "markdown",
   "id": "d74df122-4050-4f25-9751-d34fdd3888a4",
   "metadata": {},
   "source": [
    "**Quick sanity check**"
   ]
  },
  {
   "cell_type": "code",
   "execution_count": 99,
   "id": "9484dac5-087d-44db-95b6-30c585d041c0",
   "metadata": {
    "tags": []
   },
   "outputs": [
    {
     "data": {
      "text/html": [
       "<div>\n",
       "<style scoped>\n",
       "    .dataframe tbody tr th:only-of-type {\n",
       "        vertical-align: middle;\n",
       "    }\n",
       "\n",
       "    .dataframe tbody tr th {\n",
       "        vertical-align: top;\n",
       "    }\n",
       "\n",
       "    .dataframe thead th {\n",
       "        text-align: right;\n",
       "    }\n",
       "</style>\n",
       "<table border=\"1\" class=\"dataframe\">\n",
       "  <thead>\n",
       "    <tr style=\"text-align: right;\">\n",
       "      <th></th>\n",
       "      <th>case_id</th>\n",
       "      <th>patient_question</th>\n",
       "      <th>clinician_question</th>\n",
       "      <th>note_excerpt</th>\n",
       "      <th>sentences</th>\n",
       "      <th>sentence_text</th>\n",
       "      <th>labels</th>\n",
       "    </tr>\n",
       "  </thead>\n",
       "  <tbody>\n",
       "    <tr>\n",
       "      <th>0</th>\n",
       "      <td>1</td>\n",
       "      <td>My question is if the sludge was there does no...</td>\n",
       "      <td>Why was ERCP recommended to him over continuin...</td>\n",
       "      <td>Brief Hospital Course: During the ERCP a pancr...</td>\n",
       "      <td>[Brief Hospital Course:, During the ERCP a pan...</td>\n",
       "      <td>Brief Hospital Course:</td>\n",
       "      <td>[0, 1, 0, 0, 0, 1, 1, 1, 0]</td>\n",
       "    </tr>\n",
       "    <tr>\n",
       "      <th>1</th>\n",
       "      <td>2</td>\n",
       "      <td>dad given multiple shots of lasciks after he w...</td>\n",
       "      <td>Why was he given lasix and his oxygen flow rat...</td>\n",
       "      <td>Brief Hospital Course: Acute diastolic heart f...</td>\n",
       "      <td>[Brief Hospital Course:, Acute diastolic heart...</td>\n",
       "      <td>Brief Hospital Course:</td>\n",
       "      <td>[0, 1, 0, 0, 1, 0, 0, 1, 0, 0, 0]</td>\n",
       "    </tr>\n",
       "    <tr>\n",
       "      <th>2</th>\n",
       "      <td>3</td>\n",
       "      <td>he is continously irritated and has headache w...</td>\n",
       "      <td>What is the expected course of recovery for him?</td>\n",
       "      <td>Discharge Instructions: You were admitted to t...</td>\n",
       "      <td>[Discharge Instructions: You were admitted to ...</td>\n",
       "      <td>Discharge Instructions: You were admitted to t...</td>\n",
       "      <td>[0, 0, 0, 0, 1, 1, 0, 0, 0, 0]</td>\n",
       "    </tr>\n",
       "    <tr>\n",
       "      <th>3</th>\n",
       "      <td>4</td>\n",
       "      <td>My doctor performed a cardiac catherization.</td>\n",
       "      <td>Why was cardiac catheterization recommended to...</td>\n",
       "      <td>History of Present Illness: On the cardiology ...</td>\n",
       "      <td>[History of Present Illness:, On the cardiolog...</td>\n",
       "      <td>History of Present Illness:</td>\n",
       "      <td>[0, 0, 0, 0, 1, 0, 0, 0, 0, 0, 0, 0, 0, 0, 0, ...</td>\n",
       "    </tr>\n",
       "    <tr>\n",
       "      <th>4</th>\n",
       "      <td>5</td>\n",
       "      <td>I overdosed October 4th on trihexyphenidyl, th...</td>\n",
       "      <td>Is the pain connected to the overdose or somet...</td>\n",
       "      <td>Brief Hospital Course: # Bipolar d/o, PTSD, sc...</td>\n",
       "      <td>[Brief Hospital Course:, # Bipolar d/o, PTSD, ...</td>\n",
       "      <td>Brief Hospital Course:</td>\n",
       "      <td>[0, 0, 1, 0, 0, 0, 0, 0, 1, 1, 1, 1, 1, 0, 0, ...</td>\n",
       "    </tr>\n",
       "  </tbody>\n",
       "</table>\n",
       "</div>"
      ],
      "text/plain": [
       "   case_id                                   patient_question  \\\n",
       "0        1  My question is if the sludge was there does no...   \n",
       "1        2  dad given multiple shots of lasciks after he w...   \n",
       "2        3  he is continously irritated and has headache w...   \n",
       "3        4       My doctor performed a cardiac catherization.   \n",
       "4        5  I overdosed October 4th on trihexyphenidyl, th...   \n",
       "\n",
       "                                  clinician_question  \\\n",
       "0  Why was ERCP recommended to him over continuin...   \n",
       "1  Why was he given lasix and his oxygen flow rat...   \n",
       "2   What is the expected course of recovery for him?   \n",
       "3  Why was cardiac catheterization recommended to...   \n",
       "4  Is the pain connected to the overdose or somet...   \n",
       "\n",
       "                                        note_excerpt  \\\n",
       "0  Brief Hospital Course: During the ERCP a pancr...   \n",
       "1  Brief Hospital Course: Acute diastolic heart f...   \n",
       "2  Discharge Instructions: You were admitted to t...   \n",
       "3  History of Present Illness: On the cardiology ...   \n",
       "4  Brief Hospital Course: # Bipolar d/o, PTSD, sc...   \n",
       "\n",
       "                                           sentences  \\\n",
       "0  [Brief Hospital Course:, During the ERCP a pan...   \n",
       "1  [Brief Hospital Course:, Acute diastolic heart...   \n",
       "2  [Discharge Instructions: You were admitted to ...   \n",
       "3  [History of Present Illness:, On the cardiolog...   \n",
       "4  [Brief Hospital Course:, # Bipolar d/o, PTSD, ...   \n",
       "\n",
       "                                       sentence_text  \\\n",
       "0                             Brief Hospital Course:   \n",
       "1                             Brief Hospital Course:   \n",
       "2  Discharge Instructions: You were admitted to t...   \n",
       "3                        History of Present Illness:   \n",
       "4                             Brief Hospital Course:   \n",
       "\n",
       "                                              labels  \n",
       "0                        [0, 1, 0, 0, 0, 1, 1, 1, 0]  \n",
       "1                  [0, 1, 0, 0, 1, 0, 0, 1, 0, 0, 0]  \n",
       "2                     [0, 0, 0, 0, 1, 1, 0, 0, 0, 0]  \n",
       "3  [0, 0, 0, 0, 1, 0, 0, 0, 0, 0, 0, 0, 0, 0, 0, ...  \n",
       "4  [0, 0, 1, 0, 0, 0, 0, 0, 1, 1, 1, 1, 1, 0, 0, ...  "
      ]
     },
     "execution_count": 99,
     "metadata": {},
     "output_type": "execute_result"
    }
   ],
   "source": [
    "notes.head()"
   ]
  },
  {
   "cell_type": "code",
   "execution_count": 100,
   "id": "fb691883-04f3-4a39-85de-b19c7d99deb2",
   "metadata": {
    "tags": []
   },
   "outputs": [
    {
     "name": "stdout",
     "output_type": "stream",
     "text": [
      "Here are examples on how to turn a clinical note excerpt into a patient‑style question, a clinician‑style question, and the sentences needed to answer it:\n",
      "\n",
      "{example_qas}\n",
      "\n",
      "---\n",
      "\n",
      "Now you are given a new clinical note excerpt from a patient’s electronic health record (EHR):\n",
      "\n",
      "---\n",
      "{note}\n",
      "---\n",
      "\n",
      "Your task is to:\n",
      "1. Write **exactly one** realistic patient‑style question someone might ask after reading this note.\n",
      "2. Rewrite that question in a formal, clinician‑friendly format.\n",
      "3. Identify which sentences in the note are **directly and literally** used to answer your question.\n",
      "\n",
      "Don’t repeat the note itself in your answer—only output the three fields, exactly in this format:\n",
      "\n",
      "Patient Question: <your patient question>  \n",
      "Clinician Question: <your clinician question>  \n",
      "Relevant Sentences: [<num1>, <num2>, …]\n"
     ]
    }
   ],
   "source": [
    "print(prompt_template)"
   ]
  },
  {
   "cell_type": "markdown",
   "id": "24fb1a48-5cea-4938-89b7-2463d4bb8ae0",
   "metadata": {},
   "source": [
    "# Post Processing "
   ]
  },
  {
   "cell_type": "code",
   "execution_count": 101,
   "id": "a334a9f9-a41e-4f2d-b16b-becd9d9c2fc3",
   "metadata": {
    "tags": []
   },
   "outputs": [],
   "source": [
    "df_questions = pd.DataFrame(outputs)"
   ]
  },
  {
   "cell_type": "markdown",
   "id": "5314ef39-051d-4846-a3d9-a51aea90727c",
   "metadata": {},
   "source": [
    "**Rename the output column** "
   ]
  },
  {
   "cell_type": "code",
   "execution_count": 102,
   "id": "d03cc273-7eb5-4d70-8c99-c653a0e7c094",
   "metadata": {
    "tags": []
   },
   "outputs": [],
   "source": [
    "df_questions = df_questions.rename(columns={'output':'question'})"
   ]
  },
  {
   "cell_type": "markdown",
   "id": "3bbec92d-2641-4c77-b52b-61a23b061718",
   "metadata": {},
   "source": [
    "**Remove Seperators from notes**"
   ]
  },
  {
   "cell_type": "code",
   "execution_count": 103,
   "id": "b5a3cd33-dfa5-4431-ad95-bc0f5861593a",
   "metadata": {
    "tags": []
   },
   "outputs": [],
   "source": [
    "df_questions['note_excerpt'] = df_questions['note_excerpt'].str.replace(r'\\|', '', regex=True)"
   ]
  },
  {
   "cell_type": "code",
   "execution_count": 104,
   "id": "99499c1b-00d5-4a00-8f50-bef041b698a2",
   "metadata": {
    "tags": []
   },
   "outputs": [
    {
     "data": {
      "text/html": [
       "<div>\n",
       "<style scoped>\n",
       "    .dataframe tbody tr th:only-of-type {\n",
       "        vertical-align: middle;\n",
       "    }\n",
       "\n",
       "    .dataframe tbody tr th {\n",
       "        vertical-align: top;\n",
       "    }\n",
       "\n",
       "    .dataframe thead th {\n",
       "        text-align: right;\n",
       "    }\n",
       "</style>\n",
       "<table border=\"1\" class=\"dataframe\">\n",
       "  <thead>\n",
       "    <tr style=\"text-align: right;\">\n",
       "      <th></th>\n",
       "      <th>id</th>\n",
       "      <th>note_excerpt</th>\n",
       "      <th>sentences</th>\n",
       "      <th>question</th>\n",
       "    </tr>\n",
       "  </thead>\n",
       "  <tbody>\n",
       "    <tr>\n",
       "      <th>0</th>\n",
       "      <td>0</td>\n",
       "      <td>Brief Hospital Course: During the ERCP a pancr...</td>\n",
       "      <td>[Brief Hospital Course:, During the ERCP a pan...</td>\n",
       "      <td>Patient Question: Why did I need a stent for m...</td>\n",
       "    </tr>\n",
       "    <tr>\n",
       "      <th>1</th>\n",
       "      <td>0</td>\n",
       "      <td>Brief Hospital Course: During the ERCP a pancr...</td>\n",
       "      <td>[Brief Hospital Course:, During the ERCP a pan...</td>\n",
       "      <td>Patient Question: Why did I need another proce...</td>\n",
       "    </tr>\n",
       "    <tr>\n",
       "      <th>2</th>\n",
       "      <td>0</td>\n",
       "      <td>Brief Hospital Course: During the ERCP a pancr...</td>\n",
       "      <td>[Brief Hospital Course:, During the ERCP a pan...</td>\n",
       "      <td>Patient Question: Why did I need a stent place...</td>\n",
       "    </tr>\n",
       "    <tr>\n",
       "      <th>3</th>\n",
       "      <td>0</td>\n",
       "      <td>Brief Hospital Course: During the ERCP a pancr...</td>\n",
       "      <td>[Brief Hospital Course:, During the ERCP a pan...</td>\n",
       "      <td>Patient Question: Why did I need a stent if I ...</td>\n",
       "    </tr>\n",
       "    <tr>\n",
       "      <th>4</th>\n",
       "      <td>0</td>\n",
       "      <td>Brief Hospital Course: During the ERCP a pancr...</td>\n",
       "      <td>[Brief Hospital Course:, During the ERCP a pan...</td>\n",
       "      <td>Patient Question: Why did I need a stent durin...</td>\n",
       "    </tr>\n",
       "  </tbody>\n",
       "</table>\n",
       "</div>"
      ],
      "text/plain": [
       "   id                                       note_excerpt  \\\n",
       "0   0  Brief Hospital Course: During the ERCP a pancr...   \n",
       "1   0  Brief Hospital Course: During the ERCP a pancr...   \n",
       "2   0  Brief Hospital Course: During the ERCP a pancr...   \n",
       "3   0  Brief Hospital Course: During the ERCP a pancr...   \n",
       "4   0  Brief Hospital Course: During the ERCP a pancr...   \n",
       "\n",
       "                                           sentences  \\\n",
       "0  [Brief Hospital Course:, During the ERCP a pan...   \n",
       "1  [Brief Hospital Course:, During the ERCP a pan...   \n",
       "2  [Brief Hospital Course:, During the ERCP a pan...   \n",
       "3  [Brief Hospital Course:, During the ERCP a pan...   \n",
       "4  [Brief Hospital Course:, During the ERCP a pan...   \n",
       "\n",
       "                                            question  \n",
       "0  Patient Question: Why did I need a stent for m...  \n",
       "1  Patient Question: Why did I need another proce...  \n",
       "2  Patient Question: Why did I need a stent place...  \n",
       "3  Patient Question: Why did I need a stent if I ...  \n",
       "4  Patient Question: Why did I need a stent durin...  "
      ]
     },
     "execution_count": 104,
     "metadata": {},
     "output_type": "execute_result"
    }
   ],
   "source": [
    "df_questions.head()"
   ]
  },
  {
   "cell_type": "markdown",
   "id": "246a4f63-3b24-4311-bbe5-62519072f3b4",
   "metadata": {},
   "source": [
    "**Split question into: Patient Q, Clinician Q and Relevant Sentences**"
   ]
  },
  {
   "cell_type": "code",
   "execution_count": 105,
   "id": "37832d1f-1bbb-4fc1-bb54-7eda8f8a09bd",
   "metadata": {
    "tags": []
   },
   "outputs": [],
   "source": [
    "df_questions[\n",
    "    ['patient_question','clinician_question','relevant_sentences']\n",
    "] = df_questions['question'].str.extract(\n",
    "    r'Patient Question:\\s*(.*?)\\n'\n",
    "    r'Clinician Question:\\s*(.*?)\\n'\n",
    "    r'Relevant Sentences:\\s*(.*)'\n",
    ")"
   ]
  },
  {
   "cell_type": "markdown",
   "id": "f7afd209-4e87-48cf-8d0b-1edb7686482c",
   "metadata": {
    "tags": []
   },
   "source": [
    "**Drop old question column**"
   ]
  },
  {
   "cell_type": "code",
   "execution_count": 106,
   "id": "b3125430-7c60-402b-a99e-4384a1f08823",
   "metadata": {
    "tags": []
   },
   "outputs": [],
   "source": [
    "df_questions = df_questions.drop(columns='question')"
   ]
  },
  {
   "cell_type": "markdown",
   "id": "58257adb-9753-4423-b678-37d6e6486724",
   "metadata": {
    "tags": []
   },
   "source": [
    "**Convert relevant_sentences from decimal to binary** "
   ]
  },
  {
   "cell_type": "code",
   "execution_count": 107,
   "id": "1f1b92c5-9428-4515-90ba-c94af4096d0b",
   "metadata": {
    "tags": []
   },
   "outputs": [],
   "source": [
    "# parse the literal list‐strings into actual lists\n",
    "df_questions['relevant_sentences'] = (\n",
    "    df_questions['relevant_sentences']\n",
    "      .apply(ast.literal_eval)\n",
    ")"
   ]
  },
  {
   "cell_type": "code",
   "execution_count": 108,
   "id": "a00151aa-ccd6-46d6-b6f0-7ee6c0f37184",
   "metadata": {
    "tags": []
   },
   "outputs": [],
   "source": [
    "df_questions['labels'] = df_questions.apply(\n",
    "  lambda row: [\n",
    "    1 if (i+1) in row['relevant_sentences'] else 0\n",
    "    for i in range(len(row['sentences']))\n",
    "  ],\n",
    "  axis=1\n",
    ")"
   ]
  },
  {
   "cell_type": "markdown",
   "id": "5972973c-ab9e-4436-9894-7540ca16e211",
   "metadata": {},
   "source": [
    "**Drop old relevant sentences column**"
   ]
  },
  {
   "cell_type": "code",
   "execution_count": 109,
   "id": "c5c1690f-e9b4-45bd-87c1-41be57e6b1e8",
   "metadata": {
    "tags": []
   },
   "outputs": [
    {
     "data": {
      "text/html": [
       "<div>\n",
       "<style scoped>\n",
       "    .dataframe tbody tr th:only-of-type {\n",
       "        vertical-align: middle;\n",
       "    }\n",
       "\n",
       "    .dataframe tbody tr th {\n",
       "        vertical-align: top;\n",
       "    }\n",
       "\n",
       "    .dataframe thead th {\n",
       "        text-align: right;\n",
       "    }\n",
       "</style>\n",
       "<table border=\"1\" class=\"dataframe\">\n",
       "  <thead>\n",
       "    <tr style=\"text-align: right;\">\n",
       "      <th></th>\n",
       "      <th>id</th>\n",
       "      <th>note_excerpt</th>\n",
       "      <th>sentences</th>\n",
       "      <th>patient_question</th>\n",
       "      <th>clinician_question</th>\n",
       "      <th>relevant_sentences</th>\n",
       "      <th>labels</th>\n",
       "    </tr>\n",
       "  </thead>\n",
       "  <tbody>\n",
       "    <tr>\n",
       "      <th>0</th>\n",
       "      <td>0</td>\n",
       "      <td>Brief Hospital Course: During the ERCP a pancr...</td>\n",
       "      <td>[Brief Hospital Course:, During the ERCP a pan...</td>\n",
       "      <td>Why did I need a stent for my bile duct, and w...</td>\n",
       "      <td>What findings were observed during the ERCP re...</td>\n",
       "      <td>[2, 4, 6, 7, 8]</td>\n",
       "      <td>[0, 1, 0, 1, 0, 1, 1, 1, 0]</td>\n",
       "    </tr>\n",
       "    <tr>\n",
       "      <th>1</th>\n",
       "      <td>0</td>\n",
       "      <td>Brief Hospital Course: During the ERCP a pancr...</td>\n",
       "      <td>[Brief Hospital Course:, During the ERCP a pan...</td>\n",
       "      <td>Why did I need another procedure after the fir...</td>\n",
       "      <td>What were the reasons for the re-evaluation of...</td>\n",
       "      <td>[2, 3, 4, 6, 7, 8]</td>\n",
       "      <td>[0, 1, 1, 1, 0, 1, 1, 1, 0]</td>\n",
       "    </tr>\n",
       "    <tr>\n",
       "      <th>2</th>\n",
       "      <td>0</td>\n",
       "      <td>Brief Hospital Course: During the ERCP a pancr...</td>\n",
       "      <td>[Brief Hospital Course:, During the ERCP a pan...</td>\n",
       "      <td>Why did I need a stent placed in my bile duct?</td>\n",
       "      <td>What was the indication for placing a stent in...</td>\n",
       "      <td>[2, 3]</td>\n",
       "      <td>[0, 1, 1, 0, 0, 0, 0, 0, 0]</td>\n",
       "    </tr>\n",
       "    <tr>\n",
       "      <th>3</th>\n",
       "      <td>0</td>\n",
       "      <td>Brief Hospital Course: During the ERCP a pancr...</td>\n",
       "      <td>[Brief Hospital Course:, During the ERCP a pan...</td>\n",
       "      <td>Why did I need a stent if I had stones and slu...</td>\n",
       "      <td>What was the rationale for placing a stent dur...</td>\n",
       "      <td>[2, 3, 7]</td>\n",
       "      <td>[0, 1, 1, 0, 0, 0, 1, 0, 0]</td>\n",
       "    </tr>\n",
       "    <tr>\n",
       "      <th>4</th>\n",
       "      <td>0</td>\n",
       "      <td>Brief Hospital Course: During the ERCP a pancr...</td>\n",
       "      <td>[Brief Hospital Course:, During the ERCP a pan...</td>\n",
       "      <td>Why did I need a stent during the procedure?</td>\n",
       "      <td>What were the indications for placing a biliar...</td>\n",
       "      <td>[2, 3]</td>\n",
       "      <td>[0, 1, 1, 0, 0, 0, 0, 0, 0]</td>\n",
       "    </tr>\n",
       "  </tbody>\n",
       "</table>\n",
       "</div>"
      ],
      "text/plain": [
       "   id                                       note_excerpt  \\\n",
       "0   0  Brief Hospital Course: During the ERCP a pancr...   \n",
       "1   0  Brief Hospital Course: During the ERCP a pancr...   \n",
       "2   0  Brief Hospital Course: During the ERCP a pancr...   \n",
       "3   0  Brief Hospital Course: During the ERCP a pancr...   \n",
       "4   0  Brief Hospital Course: During the ERCP a pancr...   \n",
       "\n",
       "                                           sentences  \\\n",
       "0  [Brief Hospital Course:, During the ERCP a pan...   \n",
       "1  [Brief Hospital Course:, During the ERCP a pan...   \n",
       "2  [Brief Hospital Course:, During the ERCP a pan...   \n",
       "3  [Brief Hospital Course:, During the ERCP a pan...   \n",
       "4  [Brief Hospital Course:, During the ERCP a pan...   \n",
       "\n",
       "                                    patient_question  \\\n",
       "0  Why did I need a stent for my bile duct, and w...   \n",
       "1  Why did I need another procedure after the fir...   \n",
       "2   Why did I need a stent placed in my bile duct?     \n",
       "3  Why did I need a stent if I had stones and slu...   \n",
       "4     Why did I need a stent during the procedure?     \n",
       "\n",
       "                                  clinician_question  relevant_sentences  \\\n",
       "0  What findings were observed during the ERCP re...     [2, 4, 6, 7, 8]   \n",
       "1  What were the reasons for the re-evaluation of...  [2, 3, 4, 6, 7, 8]   \n",
       "2  What was the indication for placing a stent in...              [2, 3]   \n",
       "3  What was the rationale for placing a stent dur...           [2, 3, 7]   \n",
       "4  What were the indications for placing a biliar...              [2, 3]   \n",
       "\n",
       "                        labels  \n",
       "0  [0, 1, 0, 1, 0, 1, 1, 1, 0]  \n",
       "1  [0, 1, 1, 1, 0, 1, 1, 1, 0]  \n",
       "2  [0, 1, 1, 0, 0, 0, 0, 0, 0]  \n",
       "3  [0, 1, 1, 0, 0, 0, 1, 0, 0]  \n",
       "4  [0, 1, 1, 0, 0, 0, 0, 0, 0]  "
      ]
     },
     "execution_count": 109,
     "metadata": {},
     "output_type": "execute_result"
    }
   ],
   "source": [
    "df_questions.head()"
   ]
  },
  {
   "cell_type": "code",
   "execution_count": 110,
   "id": "01b8a330-6727-472f-89db-7b74a4bc9385",
   "metadata": {
    "tags": []
   },
   "outputs": [],
   "source": [
    "df_questions = df_questions.drop(columns='relevant_sentences')"
   ]
  },
  {
   "cell_type": "markdown",
   "id": "1f2e712e-cead-488c-bc21-e2db6a37bcf1",
   "metadata": {},
   "source": [
    "**Clean generated text columns**"
   ]
  },
  {
   "cell_type": "code",
   "execution_count": 111,
   "id": "5ae6c8da-be16-4bb0-89ce-0cdee76ef2e3",
   "metadata": {},
   "outputs": [],
   "source": [
    "text_columns = [\"patient_question\", \"clinician_question\", \"note_excerpt\"]\n",
    "list_columns = [\"sentences\"]"
   ]
  },
  {
   "cell_type": "code",
   "execution_count": 112,
   "id": "cc3b5cb6-658d-44b6-b041-7edb01e791ea",
   "metadata": {},
   "outputs": [],
   "source": [
    "df_questions = util.clean_text_df(df_questions, text_columns = text_columns, list_columns = list_columns)"
   ]
  },
  {
   "cell_type": "markdown",
   "id": "62c32290-1d7f-4fed-b053-c41fb2a8eb99",
   "metadata": {},
   "source": [
    "**Reorder columns to improve readability**"
   ]
  },
  {
   "cell_type": "code",
   "execution_count": 113,
   "id": "4f7dcc93-8f02-4b39-ac4d-bba192c92c2b",
   "metadata": {
    "tags": []
   },
   "outputs": [],
   "source": [
    "df_questions = df_questions[[\n",
    "    \"patient_question\",\n",
    "    \"clinician_question\",\n",
    "    \"sentences\",\n",
    "    \"note_excerpt\",\n",
    "    \"labels\"\n",
    "]]"
   ]
  },
  {
   "cell_type": "markdown",
   "id": "dbd89add-52db-46d6-b5a7-c24e137fc031",
   "metadata": {},
   "source": [
    "**Last quick check**"
   ]
  },
  {
   "cell_type": "code",
   "execution_count": 114,
   "id": "0816c380-703d-4de0-b814-3658f5ec8df7",
   "metadata": {
    "tags": []
   },
   "outputs": [
    {
     "data": {
      "text/html": [
       "<div>\n",
       "<style scoped>\n",
       "    .dataframe tbody tr th:only-of-type {\n",
       "        vertical-align: middle;\n",
       "    }\n",
       "\n",
       "    .dataframe tbody tr th {\n",
       "        vertical-align: top;\n",
       "    }\n",
       "\n",
       "    .dataframe thead th {\n",
       "        text-align: right;\n",
       "    }\n",
       "</style>\n",
       "<table border=\"1\" class=\"dataframe\">\n",
       "  <thead>\n",
       "    <tr style=\"text-align: right;\">\n",
       "      <th></th>\n",
       "      <th>patient_question</th>\n",
       "      <th>clinician_question</th>\n",
       "      <th>sentences</th>\n",
       "      <th>note_excerpt</th>\n",
       "      <th>labels</th>\n",
       "    </tr>\n",
       "  </thead>\n",
       "  <tbody>\n",
       "    <tr>\n",
       "      <th>0</th>\n",
       "      <td>Why did I need a stent for my bile duct, and w...</td>\n",
       "      <td>What findings were observed during the ERCP re...</td>\n",
       "      <td>[Brief Hospital Course:, During the ERCP a pan...</td>\n",
       "      <td>Brief Hospital Course: During the ERCP a pancr...</td>\n",
       "      <td>[0, 1, 0, 1, 0, 1, 1, 1, 0]</td>\n",
       "    </tr>\n",
       "    <tr>\n",
       "      <th>1</th>\n",
       "      <td>Why did I need another procedure after the fir...</td>\n",
       "      <td>What were the reasons for the re-evaluation of...</td>\n",
       "      <td>[Brief Hospital Course:, During the ERCP a pan...</td>\n",
       "      <td>Brief Hospital Course: During the ERCP a pancr...</td>\n",
       "      <td>[0, 1, 1, 1, 0, 1, 1, 1, 0]</td>\n",
       "    </tr>\n",
       "    <tr>\n",
       "      <th>2</th>\n",
       "      <td>Why did I need a stent placed in my bile duct?</td>\n",
       "      <td>What was the indication for placing a stent in...</td>\n",
       "      <td>[Brief Hospital Course:, During the ERCP a pan...</td>\n",
       "      <td>Brief Hospital Course: During the ERCP a pancr...</td>\n",
       "      <td>[0, 1, 1, 0, 0, 0, 0, 0, 0]</td>\n",
       "    </tr>\n",
       "    <tr>\n",
       "      <th>3</th>\n",
       "      <td>Why did I need a stent if I had stones and slu...</td>\n",
       "      <td>What was the rationale for placing a stent dur...</td>\n",
       "      <td>[Brief Hospital Course:, During the ERCP a pan...</td>\n",
       "      <td>Brief Hospital Course: During the ERCP a pancr...</td>\n",
       "      <td>[0, 1, 1, 0, 0, 0, 1, 0, 0]</td>\n",
       "    </tr>\n",
       "    <tr>\n",
       "      <th>4</th>\n",
       "      <td>Why did I need a stent during the procedure?</td>\n",
       "      <td>What were the indications for placing a biliar...</td>\n",
       "      <td>[Brief Hospital Course:, During the ERCP a pan...</td>\n",
       "      <td>Brief Hospital Course: During the ERCP a pancr...</td>\n",
       "      <td>[0, 1, 1, 0, 0, 0, 0, 0, 0]</td>\n",
       "    </tr>\n",
       "  </tbody>\n",
       "</table>\n",
       "</div>"
      ],
      "text/plain": [
       "                                    patient_question  \\\n",
       "0  Why did I need a stent for my bile duct, and w...   \n",
       "1  Why did I need another procedure after the fir...   \n",
       "2     Why did I need a stent placed in my bile duct?   \n",
       "3  Why did I need a stent if I had stones and slu...   \n",
       "4       Why did I need a stent during the procedure?   \n",
       "\n",
       "                                  clinician_question  \\\n",
       "0  What findings were observed during the ERCP re...   \n",
       "1  What were the reasons for the re-evaluation of...   \n",
       "2  What was the indication for placing a stent in...   \n",
       "3  What was the rationale for placing a stent dur...   \n",
       "4  What were the indications for placing a biliar...   \n",
       "\n",
       "                                           sentences  \\\n",
       "0  [Brief Hospital Course:, During the ERCP a pan...   \n",
       "1  [Brief Hospital Course:, During the ERCP a pan...   \n",
       "2  [Brief Hospital Course:, During the ERCP a pan...   \n",
       "3  [Brief Hospital Course:, During the ERCP a pan...   \n",
       "4  [Brief Hospital Course:, During the ERCP a pan...   \n",
       "\n",
       "                                        note_excerpt  \\\n",
       "0  Brief Hospital Course: During the ERCP a pancr...   \n",
       "1  Brief Hospital Course: During the ERCP a pancr...   \n",
       "2  Brief Hospital Course: During the ERCP a pancr...   \n",
       "3  Brief Hospital Course: During the ERCP a pancr...   \n",
       "4  Brief Hospital Course: During the ERCP a pancr...   \n",
       "\n",
       "                        labels  \n",
       "0  [0, 1, 0, 1, 0, 1, 1, 1, 0]  \n",
       "1  [0, 1, 1, 1, 0, 1, 1, 1, 0]  \n",
       "2  [0, 1, 1, 0, 0, 0, 0, 0, 0]  \n",
       "3  [0, 1, 1, 0, 0, 0, 1, 0, 0]  \n",
       "4  [0, 1, 1, 0, 0, 0, 0, 0, 0]  "
      ]
     },
     "execution_count": 114,
     "metadata": {},
     "output_type": "execute_result"
    }
   ],
   "source": [
    "df_questions.head()"
   ]
  },
  {
   "cell_type": "markdown",
   "id": "9e5b0aec-ca72-4bfa-b97c-471ccf6fc301",
   "metadata": {},
   "source": [
    "# Save"
   ]
  },
  {
   "cell_type": "code",
   "execution_count": 115,
   "id": "eacfa3f0-d74e-4634-8b64-d027cdcbb984",
   "metadata": {
    "tags": []
   },
   "outputs": [
    {
     "name": "stdout",
     "output_type": "stream",
     "text": [
      "Saved to: ../data/synthetic/questions/real-notes-6-qs.csv\n"
     ]
    }
   ],
   "source": [
    "out_file  = OUTPUT_DIR / \"real-notes-6-qs.csv\"\n",
    "df_questions.to_csv(out_file, index=False)\n",
    "print(f\"Saved to: {out_file}\")"
   ]
  },
  {
   "cell_type": "markdown",
   "id": "4f7296da-fd4d-4b0d-a5f5-817471897ad8",
   "metadata": {},
   "source": [
    "# Backup"
   ]
  },
  {
   "cell_type": "code",
   "execution_count": 101,
   "id": "1969945f-dc58-4eaf-984a-61c636ea9209",
   "metadata": {
    "tags": []
   },
   "outputs": [],
   "source": [
    "def generate_from_vllm(prompt: str,\n",
    "                       temperature: float = 0.7,\n",
    "                       max_tokens: int = 1024,\n",
    "                       retries: int = 3,\n",
    "                       delay: int = 2) -> str:\n",
    "    payload = {\n",
    "        \"prompt\":     prompt,\n",
    "        \"temperature\": temperature,\n",
    "        \"max_tokens\":  max_tokens,\n",
    "        \"top_p\":       0.9,\n",
    "    }\n",
    "    for attempt in range(retries):\n",
    "        try:\n",
    "            r = requests.post(VLLM_URL, json=payload)\n",
    "            r.raise_for_status()            \n",
    "            return r.json()[\"choices\"][0][\"text\"].strip()        \n",
    "        except Exception as e:\n",
    "            print(f\"[Warning] Attempt {attempt+1} failed: {e}\")\n",
    "            time.sleep(delay)\n",
    "    return \"\""
   ]
  },
  {
   "cell_type": "code",
   "execution_count": null,
   "id": "3b21eb4d-2376-4929-bbee-2aa1ea0255e6",
   "metadata": {},
   "outputs": [],
   "source": [
    "# Generate questions for each note\n",
    "outputs = []\n",
    "for idx, row in tqdm(notes_test.iterrows(), total=len(notes_test), desc=\"Generating\"):\n",
    "    numbered = \"\\n\".join(f\"{i+1}. {s}\" for i, s in enumerate(row.sentences))\n",
    "    prompt = prompt_template.format(\n",
    "        example_qas=few_shot_block,\n",
    "        note=numbered\n",
    "    )\n",
    "    gen = generate_from_vllm(prompt)\n",
    "\n",
    "    if is_valid_generation(gen):\n",
    "        print(gen)\n",
    "        break\n",
    "        outputs.append({\n",
    "            \"id\":           idx,\n",
    "            \"note_excerpt\": row.note_excerpt,\n",
    "            \"sentences\":    row.sentences,\n",
    "            \"output\":       split_output(gen)\n",
    "        })\n",
    "    else:\n",
    "        print(f\"[Warning] Invalid output for idx {idx}\")\n",
    "        print(\"Generation: \" + gen)"
   ]
  }
 ],
 "metadata": {
  "kernelspec": {
   "display_name": "Python 3 (ipykernel)",
   "language": "python",
   "name": "python3"
  },
  "language_info": {
   "codemirror_mode": {
    "name": "ipython",
    "version": 3
   },
   "file_extension": ".py",
   "mimetype": "text/x-python",
   "name": "python",
   "nbconvert_exporter": "python",
   "pygments_lexer": "ipython3",
   "version": "3.10.14"
  }
 },
 "nbformat": 4,
 "nbformat_minor": 5
}
