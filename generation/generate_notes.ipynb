{
 "cells": [
  {
   "cell_type": "code",
   "execution_count": 2,
   "id": "1dda9d14-09c0-4142-88e9-562a9778a6a8",
   "metadata": {
    "tags": []
   },
   "outputs": [],
   "source": [
    "import re\n",
    "import time\n",
    "import requests\n",
    "import random\n",
    "from pathlib import Path\n",
    "from datetime import datetime\n",
    "import pandas as pd\n",
    "from tqdm.notebook import tqdm\n",
    "import openai\n",
    "\n",
    "sys.path.append(\"../configs\")\n",
    "from hf_config import hf_token, openai_token"
   ]
  },
  {
   "cell_type": "markdown",
   "id": "ac55dbe9-f0aa-4400-82cc-1034d86bf718",
   "metadata": {},
   "source": [
    "# Setup"
   ]
  },
  {
   "cell_type": "code",
   "execution_count": 10,
   "id": "b76cdf05-ff27-4761-918d-af13d24a8533",
   "metadata": {
    "tags": []
   },
   "outputs": [],
   "source": [
    "VLLM_URL = \"http://localhost:8000/v1/completions\"\n",
    "PROMPTS_DIR = Path(\"prompts\")\n",
    "PROMPT_FILE    = PROMPTS_DIR / \"generate_notes-few-shot.txt\"\n",
    "OUTPUT_DIR = Path(\"../data/synthetic/note-excerpts\")\n",
    "OUTPUT_DIR.mkdir(exist_ok=True)"
   ]
  },
  {
   "cell_type": "markdown",
   "id": "7e4ef507-d3d7-490b-8001-6c01f02202de",
   "metadata": {},
   "source": [
    "# Build Prompt"
   ]
  },
  {
   "cell_type": "markdown",
   "id": "09782b1b-c031-4c7a-ba34-ce4dbc537601",
   "metadata": {
    "tags": []
   },
   "source": [
    "**Define Prompt Template**"
   ]
  },
  {
   "cell_type": "code",
   "execution_count": 11,
   "id": "e6867ec7-ed2a-4779-a0a4-c8cee3b42b3a",
   "metadata": {
    "tags": []
   },
   "outputs": [],
   "source": [
    "prompt = PROMPT_FILE.read_text()"
   ]
  },
  {
   "cell_type": "code",
   "execution_count": 12,
   "id": "beea4620-dc03-4a1b-bf81-c4ac1831525c",
   "metadata": {
    "tags": []
   },
   "outputs": [
    {
     "data": {
      "text/plain": [
       "'Below are 4 note excerpts. Replicate their style, header selection, noise patterns and scenario variety.\\n\\n--- Example 1 ---  \\nbrief hospital course during the ercp a pancreatic stent was required to facilitate access to the biliary system removed at the end of the procedure and a common bile duct stent was placed to allow drainage of the biliary obstruction caused by stones and sludge however due to the patients elevated inr no sphincterotomy or stone removal was performed frank pus was noted to be draining from the common bile duct and postercp it was recommended that the patient remain on iv zosyn for at least a week the vancomycin was discontinued on hospital day 4 postprocedure day 3 the patient returned to ercp for reevaluation of her biliary stent as her lfts and bilirubin continued an upward trend on ercp the previous biliary stent was noted to be acutely obstructed by biliary sludge and stones as the patients inr was normalized to 12 a sphincterotomy was safely performed with removal of several biliary stones in addition to the common bile duct stent at the conclusion of the procedure retrograde cholangiogram was negative for filling defects\\n\\n--- Example 2 ---  \\nhistory of present illness mr known lastname 47367 is a 58yearold man with a history of aml sp allogeneic transplant 2142 complicated by graftversushost disease multiple vertebral fractures and ultimately development of paraplegia in the setting of a vertebral fracture during a code situation admitted multiple times most recently 82148 for bacteremia and upper resp infection cx staph epi and completed a course of vancomcyin aztreonam discharged from rehab and home wheelchair bound with recent clinic followup 926 noting baseline health pertinent results bloodfungal culture preliminary female first name un  torulopsis glabrata brief hospital course  goals of care after frequent discussions with family and physicians involved in the pts case and gradual reduction in number of interventions performed it was decided to transition to comfort measures only on 1012 the below medical treaments lab draws and imaging procedures were held the pt was kept in iv morphine tylenol and ativan to keep comfortable he died peacefully on the morning of 21481013  pneumonia productive cough followed by somnolence in the setting of starting ambien and valium in addition to his home oxycontin cxr with lll consolidation sputum gram stain with gpcs in clusters gpcs in pairs and chains and gnrs and yeast started on vanco last name un 2830 day 1 930 mica day 1 103 in consultation with id due to worsening cxr vanco was changed to linezolid day 1 106 per id recs also question of possible pulmonary congestion so pt was started on iv lasix on 108 the pt appeared to have worsening wbc and respiratory distress he was started on ambisome and given a dose of tobramycin the tobramycin was thereafter uptitrated with little effect antibiotics were continued despite little improvement  tachycardia continues to be in sinus tachycardia in the 130s initially in the 160s but has improved with fluids likely multifactorial with pe pain hypovolemia and withdrawal from opioids all contributing he was given several doses of narcan at osh and his home narcotics were initially held in the setting of hypotension morphine drip was started to relieve any pain without any improvement in tachycardia\\n\\n--- Example 3 ---  \\ndischarge instructions you were admitted to the hospital with a partial small bowel obstruction with time your obstruction dramatically improved and you were able to eat regular food constipation will worsen your symptoms unfortunately you have trouble tolerating stool softeners and you get diarrhea very easily fiber is the most gentle treatment for constipation please take fiber supplements metamucil twice daily consider also taking  each day if you can tolerate it but start with a small dose half a scoop you will follow up with your oncologist dr  for consideration of further treatment of your bladder cancer you will also follow up with your gastroenterologist dr\\n\\n--- Example 4 --- \\nmajor surgical or invasive procedure thyroidectomy to remove multinodular goiter performed by  on  brief hospital course  hypercarbic respiratory failure multifactorial  multinodular goiter  obstructive sleep apnea severe the patient has had severe obstructive sleep apnea diagnosed in  for which he has been on various forms of pap he has a history of noncompliance with his cpap the patient lives in a group home due to his schizophrenia where he was found almost completely unresponsive and was therefore brought to osh where initial abg resulted as 72868 a ct scan revealed a large multi nodular thyroid with compression on the trachea and the patient was transferred to  on  for further evaluation the patients hypercarbia at  was thought to be multifactorial at baseline he has longstanding severe osa with cpap noncompliance his new multinodular goiter which is compressing the trachea is likely causing upper airway obstruction that is exacerbating the pts hypoventilation ent endocrinology and sleep medicine consultants evaluated the goiter and recommended surgical removal given concern for obstruction due to tracheal compression as well as the potential for malignancy an ultrasound was performed which confirmed multinodular anatomy of goiter with tracheal compression no biopsy was taken as there was already planning to remove the thyroid importantly all teams expressed to the patient that it would be unsafe to discharge the patient prior to surgery as the patient would be at high risk to return from his group home with hypercarbic respiratory failure again which has happened multiple times after several family meetings the patient and his mother legal guardian were in agreement that surgery would be indicated on  the patient underwent thyroidectomy performed by ent postop he was transferred to the sicu where he remained stable he was subsequently transferred to the medical floor  subclinical hyperthyroidism tsh found to be 01 with normal t3t4 free t4 this problem became irrelevant after the surgery and endocrinology would like close follow up in the outpatient setting to manage hypothyroidism sp thyroidectomy he was started on levothyroxine discharge medicationsmedications 1 calcium carbonate 1250 mg po tid please separate administration time from levothyroxine by at least 4 hours rx calcium carbonate 500 mg calcium 1250 mg 1 tablets by mouth three times a day disp 90 tablet refills0 2 levothyroxine sodium 150 mcg po daily please separate administration from calcium by at least 4 hours rx levothyroxine 150 mcg 1 tablets by mouth daily disp 30 tablet refills0 3 oxcarbazepine 300 mg po bid rx oxcarbazepine 300 mg 1 tablets by mouth twice a day disp 60 tablet refills0 4 vitamin d  unit po 1xweek sa rx ergocalciferol vitamin d2 50000 unit 1 capsules by mouth once weekly disp 4 capsule refills0 5 fluphenazine 25 mg po q4hprn agitationfrank psychosis 6 clozapine 250 mg po qhs 7 fluticasone propionate 110mcg 2 puff ih bid 8 fluticasone propionate nasal 1 spry nu bid 9 omeprazole 20 mg po daily 10outpatient lab work diagnosis hypothyroidism e890 lab tsh calcium magnesium phosphate albumin vitamin d 25 hydroxy date  please fax to  at  11cpap autocpap apap at  anytime patient sleeps discharge instructions what we did for you  the neurology doctors earsnosethroat doctors endocrine doctors sleep doctors and  medicine doctors  recommended surgery to remove your thyroid goiter in order to improve your sleep apnea the earsnosethroat doctors removed the  thyroid gland goiter from your neck you tolerated the surgery well what you should do when you leave  please follow up with the all your appointments as scheduled pcp  neurology pulmonary and ent  please take your medications as prescribed in the discharge paperwork  make sure to have your labs checked one week prior to your endocrinology appointment the results should be faxed to dr  at\\n\\nNow generate **exactly one** new, standalone note excerpt (rushed sentences, same noise patterns, random header, clinical tags optional), **insert the marker | after each sentence**, and end with `***END NOTE***`'"
      ]
     },
     "execution_count": 12,
     "metadata": {},
     "output_type": "execute_result"
    }
   ],
   "source": [
    "prompt"
   ]
  },
  {
   "cell_type": "markdown",
   "id": "678806a5-22e4-4af9-aa31-6071c3f0be2f",
   "metadata": {},
   "source": [
    "**Building the prompt**"
   ]
  },
  {
   "cell_type": "code",
   "execution_count": 204,
   "id": "72ceda04-77bc-45c2-b3f5-6731edd4258f",
   "metadata": {
    "tags": []
   },
   "outputs": [],
   "source": [
    "openai.api_key = openai_token"
   ]
  },
  {
   "cell_type": "code",
   "execution_count": 205,
   "id": "ed9689a8-c264-448b-bcf4-4265e7a72a37",
   "metadata": {
    "tags": []
   },
   "outputs": [],
   "source": [
    "'''\n",
    "resp = openai.models.list()\n",
    "for m in resp.data:\n",
    "    print(m.id)\n",
    "''';"
   ]
  },
  {
   "cell_type": "code",
   "execution_count": 206,
   "id": "1cc4fa17-717f-494a-85b8-59021e6591c4",
   "metadata": {
    "tags": []
   },
   "outputs": [],
   "source": [
    "def generate_with_openai(\n",
    "    prompt: str,\n",
    "    model: str = \"gpt-4o\",\n",
    "    temperature: float = 0.7,\n",
    "    max_tokens: int = 1024,\n",
    "    top_p: float = 0.95,\n",
    "    n: int = 1,             # total number of completions you want\n",
    "    batch_size: int = 1,    # how many to ask for per API call (<= model limit)\n",
    "    retries: int = 3,\n",
    "    backoff: float = 2.0,\n",
    ") -> list[str]:\n",
    "    \"\"\"\n",
    "    Generate `n` completions for the given prompt, in batches of at most `batch_size`.\n",
    "    Returns exactly `n` strings (or raises on repeated failure).\n",
    "    \"\"\"\n",
    "    results: list[str] = []\n",
    "    while len(results) < n:\n",
    "        to_request = min(batch_size, n - len(results))\n",
    "        for attempt in range(1, retries + 1):\n",
    "            try:\n",
    "                resp = openai.chat.completions.create(\n",
    "                    model=model,\n",
    "                    messages=[\n",
    "                        {\"role\": \"system\", \"content\": \"You are a clinical-note generator.\"},\n",
    "                        {\"role\": \"user\",   \"content\": prompt},\n",
    "                    ],\n",
    "                    temperature=temperature,\n",
    "                    max_tokens=max_tokens,\n",
    "                    top_p=top_p,\n",
    "                    n=to_request,           # ask for this many completions\n",
    "                )\n",
    "                chunk = [c.message.content.strip() for c in resp.choices]\n",
    "                results.extend(chunk)\n",
    "                break  # success: break out of the retry loop\n",
    "            except Exception as e:\n",
    "                print(f\"[Warning] OpenAI API error (attempt {attempt}/{retries}): {e}\")\n",
    "                if attempt == retries:\n",
    "                    raise\n",
    "                time.sleep(backoff ** attempt)\n",
    "    return results\n"
   ]
  },
  {
   "cell_type": "code",
   "execution_count": 207,
   "id": "1e3ad6d1-2b44-4f2d-b90b-668fd5791a5f",
   "metadata": {
    "tags": []
   },
   "outputs": [],
   "source": [
    "def strip_example_intro(text: str) -> str:\n",
    "    \"\"\"\n",
    "    Remove any leading lines like “— Example 5 —” (or the dashes block)\n",
    "    up to and including the first blank line.\n",
    "    \"\"\"\n",
    "    # cut everything before the first blank line\n",
    "    parts = re.split(r'^\\s*[-—]{3,}.*\\n', text, flags=re.MULTILINE)\n",
    "    # if we found fragments, take the last piece\n",
    "    return parts[-1].lstrip()"
   ]
  },
  {
   "cell_type": "code",
   "execution_count": 208,
   "id": "3570e2cf-b90e-4a0f-aa48-5562bcb5b757",
   "metadata": {
    "tags": []
   },
   "outputs": [],
   "source": [
    "def remove_end_tag(raw_output: str, end_token: str = \"***END NOTE***\") -> str:\n",
    "    \"\"\"\n",
    "    Extracts the clinical note from a raw LLM response by\n",
    "    removing everything starting with the end_token.\n",
    "    \"\"\"\n",
    "    # Find the position of the end token\n",
    "    idx = raw_output.find(end_token)\n",
    "    if idx != -1:\n",
    "        # Return everything before the end token, stripped of extra whitespace\n",
    "        return raw_output[:idx].strip()\n",
    "    # If no end token found, just return the trimmed raw output\n",
    "    return raw_output.strip()"
   ]
  },
  {
   "cell_type": "code",
   "execution_count": 209,
   "id": "2aef33d9-e9e7-43f2-906e-38ec3ebd6281",
   "metadata": {
    "tags": []
   },
   "outputs": [],
   "source": [
    "def clean_note(text: str) -> str:\n",
    "    return remove_end_tag(strip_example_intro(text))"
   ]
  },
  {
   "cell_type": "code",
   "execution_count": 219,
   "id": "42c92657-5e5b-46c9-84ba-22a2b1dcd04c",
   "metadata": {
    "tags": []
   },
   "outputs": [],
   "source": [
    "n = 300\n",
    "batch_size = 10"
   ]
  },
  {
   "cell_type": "code",
   "execution_count": 220,
   "id": "ffd3e773-da94-4de8-88bb-97e7d027b539",
   "metadata": {
    "tags": []
   },
   "outputs": [],
   "source": [
    "notes = generate_with_openai(prompt, model=\"gpt-4o\", temperature=0.9, max_tokens=1024, n=n, batch_size=batch_size)"
   ]
  },
  {
   "cell_type": "code",
   "execution_count": 223,
   "id": "285ae53b-342e-4dab-8d08-5afe027eff49",
   "metadata": {
    "tags": []
   },
   "outputs": [],
   "source": [
    "sampled_outputs = random.sample(notes, min(n, 5))"
   ]
  },
  {
   "cell_type": "code",
   "execution_count": null,
   "id": "c26928dd-9a1d-4e30-a35a-9cd7fdc94763",
   "metadata": {
    "tags": []
   },
   "outputs": [],
   "source": [
    "for note in sampled_outputs:\n",
    "    print(clean_note(note))\n",
    "    print(\"\\n\")\n",
    "    print(\"xxxxxxxxxxxxxxxxxxxxxxxxxxxxxxxxxxxxxxxxxxxxxxxxxxxxxxxxxxxxxxxxxxxxxxxxxxxxxxxxxxxxxxxxxxxxxxxxxxxxxxxxxxxxxxxx\")\n",
    "    print(\"\\n\")"
   ]
  },
  {
   "cell_type": "markdown",
   "id": "e45b1c6c-b686-4179-bbd1-4fd8c2d2cf25",
   "metadata": {
    "tags": []
   },
   "source": [
    "# Save"
   ]
  },
  {
   "cell_type": "code",
   "execution_count": 229,
   "id": "800e8a98-0ab8-41a9-81f6-10b75f877363",
   "metadata": {
    "tags": []
   },
   "outputs": [],
   "source": [
    "name = \"few_shot_gpt4_separated.csv\""
   ]
  },
  {
   "cell_type": "code",
   "execution_count": 225,
   "id": "61c4349f-bc1d-4ae0-8bf5-5871fbcafc7b",
   "metadata": {
    "tags": []
   },
   "outputs": [],
   "source": [
    "cleaned_notes = []\n",
    "for note in notes:\n",
    "    cleaned_notes.append(clean_note(note))"
   ]
  },
  {
   "cell_type": "code",
   "execution_count": 232,
   "id": "94f28c42-740f-4a5b-bb0d-65221dbe92f1",
   "metadata": {
    "tags": []
   },
   "outputs": [
    {
     "name": "stdout",
     "output_type": "stream",
     "text": [
      "surgical pathology consult the patient a 72yearold female presented with hematuria and was found to have a 6 cm complex cystic lesion on her right kidney via ct scan | history includes stage 2 breast cancer sp lumpectomy and adjuvant radiation in 7191 | the renal mass raised suspicion for malignancy and a nephrectomy was advised by her oncologist dr | pathology report confirmed clear cell renal carcinoma grade 2 with negative margins | patient was then referred to medical oncology for adjuvant therapy considerations | brief hospital course patient was admitted for elective right radical nephrectomy performed by urology on | intraoperatively no significant complications occurred | postoperative recovery was uneventful and the patient was advanced to a regular diet by pod 2 | on pod 3 patient developed a fever of 38.5c and tachycardia | blood cultures were positive for klebsiella pneumoniae and pt was started on iv ceftriaxone | fever resolved by pod 5 and patient completed a full 7day antibiotic course | patient was discharged home with oral antibiotics to complete 14 days total | follow up with urology in 2 weeks and oncology in 4 weeks planned | discharge medications include acetaminophen for pain prn and ciprofloxacin to complete the antibiotic course |\n"
     ]
    }
   ],
   "source": [
    "for note in cleaned_notes:\n",
    "    print(note)\n",
    "    break"
   ]
  },
  {
   "cell_type": "code",
   "execution_count": 233,
   "id": "c98894e0-a761-484a-ad78-c33ec56f300f",
   "metadata": {
    "tags": []
   },
   "outputs": [
    {
     "name": "stdout",
     "output_type": "stream",
     "text": [
      "✅ Saved: ../data/synthetic/note-excerpts/few_shot_gpt4_separated.csv\n"
     ]
    }
   ],
   "source": [
    "out_path = OUTPUT_DIR / name\n",
    "df = pd.DataFrame(cleaned_notes, columns=[\"note_excerpt\"])\n",
    "df.to_csv(out_path, index=False)\n",
    "print(f\"✅ Saved: {out_path}\")"
   ]
  }
 ],
 "metadata": {
  "kernelspec": {
   "display_name": "Python 3 (ipykernel)",
   "language": "python",
   "name": "python3"
  },
  "language_info": {
   "codemirror_mode": {
    "name": "ipython",
    "version": 3
   },
   "file_extension": ".py",
   "mimetype": "text/x-python",
   "name": "python",
   "nbconvert_exporter": "python",
   "pygments_lexer": "ipython3",
   "version": "3.10.14"
  }
 },
 "nbformat": 4,
 "nbformat_minor": 5
}
