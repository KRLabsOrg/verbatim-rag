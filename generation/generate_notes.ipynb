{
 "cells": [
  {
   "cell_type": "code",
   "execution_count": 1,
   "id": "1dda9d14-09c0-4142-88e9-562a9778a6a8",
   "metadata": {
    "tags": []
   },
   "outputs": [],
   "source": [
    "import re\n",
    "import time\n",
    "import requests\n",
    "import random\n",
    "from pathlib import Path\n",
    "from datetime import datetime\n",
    "import pandas as pd\n",
    "from tqdm.notebook import tqdm\n",
    "import openai\n",
    "\n",
    "sys.path.append(\"../configs\")\n",
    "from hf_config import hf_token, openai_token"
   ]
  },
  {
   "cell_type": "markdown",
   "id": "ac55dbe9-f0aa-4400-82cc-1034d86bf718",
   "metadata": {},
   "source": [
    "# Setup"
   ]
  },
  {
   "cell_type": "code",
   "execution_count": 2,
   "id": "b76cdf05-ff27-4761-918d-af13d24a8533",
   "metadata": {
    "tags": []
   },
   "outputs": [],
   "source": [
    "VLLM_URL = \"http://localhost:8000/v1/completions\"\n",
    "PROMPTS_DIR = Path(\"prompts\")\n",
    "PROMPT_FILE    = PROMPTS_DIR / \"generate_notes-few-shot.txt\"\n",
    "OUTPUT_DIR = Path(\"../data/synthetic/note-excerpts\")\n",
    "OUTPUT_DIR.mkdir(exist_ok=True)"
   ]
  },
  {
   "cell_type": "markdown",
   "id": "7e4ef507-d3d7-490b-8001-6c01f02202de",
   "metadata": {},
   "source": [
    "# Build Prompt"
   ]
  },
  {
   "cell_type": "markdown",
   "id": "09782b1b-c031-4c7a-ba34-ce4dbc537601",
   "metadata": {
    "tags": []
   },
   "source": [
    "**Define Prompt Template**"
   ]
  },
  {
   "cell_type": "code",
   "execution_count": 3,
   "id": "e6867ec7-ed2a-4779-a0a4-c8cee3b42b3a",
   "metadata": {
    "tags": []
   },
   "outputs": [],
   "source": [
    "prompt = PROMPT_FILE.read_text()"
   ]
  },
  {
   "cell_type": "markdown",
   "id": "678806a5-22e4-4af9-aa31-6071c3f0be2f",
   "metadata": {},
   "source": [
    "**Building the prompt**"
   ]
  },
  {
   "cell_type": "code",
   "execution_count": 4,
   "id": "72ceda04-77bc-45c2-b3f5-6731edd4258f",
   "metadata": {
    "tags": []
   },
   "outputs": [],
   "source": [
    "openai.api_key = openai_token"
   ]
  },
  {
   "cell_type": "code",
   "execution_count": 5,
   "id": "ed9689a8-c264-448b-bcf4-4265e7a72a37",
   "metadata": {
    "tags": []
   },
   "outputs": [],
   "source": [
    "'''\n",
    "resp = openai.models.list()\n",
    "for m in resp.data:\n",
    "    print(m.id)\n",
    "''';"
   ]
  },
  {
   "cell_type": "code",
   "execution_count": 6,
   "id": "1cc4fa17-717f-494a-85b8-59021e6591c4",
   "metadata": {
    "tags": []
   },
   "outputs": [],
   "source": [
    "def generate_with_openai(\n",
    "    prompt: str,\n",
    "    model: str = \"gpt-4o\",\n",
    "    temperature: float = 0.7,\n",
    "    max_tokens: int = 1024,\n",
    "    top_p: float = 0.95,\n",
    "    n: int = 1,             # total number of completions you want\n",
    "    batch_size: int = 1,    # how many to ask for per API call (<= model limit)\n",
    "    retries: int = 3,\n",
    "    backoff: float = 2.0,\n",
    ") -> list[str]:\n",
    "    \"\"\"\n",
    "    Generate `n` completions for the given prompt, in batches of at most `batch_size`.\n",
    "    Returns exactly `n` strings (or raises on repeated failure).\n",
    "    \"\"\"\n",
    "    results: list[str] = []\n",
    "    while len(results) < n:\n",
    "        to_request = min(batch_size, n - len(results))\n",
    "        for attempt in range(1, retries + 1):\n",
    "            try:\n",
    "                resp = openai.chat.completions.create(\n",
    "                    model=model,\n",
    "                    messages=[\n",
    "                        {\"role\": \"system\", \"content\": \"You are a clinical-note generator.\"},\n",
    "                        {\"role\": \"user\",   \"content\": prompt},\n",
    "                    ],\n",
    "                    temperature=temperature,\n",
    "                    max_tokens=max_tokens,\n",
    "                    top_p=top_p,\n",
    "                    n=to_request,           # ask for this many completions\n",
    "                )\n",
    "                chunk = [c.message.content.strip() for c in resp.choices]\n",
    "                results.extend(chunk)\n",
    "                break  # success: break out of the retry loop\n",
    "            except Exception as e:\n",
    "                print(f\"[Warning] OpenAI API error (attempt {attempt}/{retries}): {e}\")\n",
    "                if attempt == retries:\n",
    "                    raise\n",
    "                time.sleep(backoff ** attempt)\n",
    "    return results\n"
   ]
  },
  {
   "cell_type": "code",
   "execution_count": 8,
   "id": "1e3ad6d1-2b44-4f2d-b90b-668fd5791a5f",
   "metadata": {
    "tags": []
   },
   "outputs": [],
   "source": [
    "def strip_example_intro(text: str) -> str:\n",
    "    \"\"\"\n",
    "    Remove any leading lines like “— Example 5 —” (or the dashes block)\n",
    "    up to and including the first blank line.\n",
    "    \"\"\"\n",
    "    # cut everything before the first blank line\n",
    "    parts = re.split(r'^\\s*[-—]{3,}.*\\n', text, flags=re.MULTILINE)\n",
    "    # if we found fragments, take the last piece\n",
    "    return parts[-1].lstrip()"
   ]
  },
  {
   "cell_type": "code",
   "execution_count": 9,
   "id": "3570e2cf-b90e-4a0f-aa48-5562bcb5b757",
   "metadata": {
    "tags": []
   },
   "outputs": [],
   "source": [
    "def remove_end_tag(raw_output: str, end_token: str = \"***END NOTE***\") -> str:\n",
    "    \"\"\"\n",
    "    Extracts the clinical note from a raw LLM response by\n",
    "    removing everything starting with the end_token.\n",
    "    \"\"\"\n",
    "    # Find the position of the end token\n",
    "    idx = raw_output.find(end_token)\n",
    "    if idx != -1:\n",
    "        # Return everything before the end token, stripped of extra whitespace\n",
    "        return raw_output[:idx].strip()\n",
    "    # If no end token found, just return the trimmed raw output\n",
    "    return raw_output.strip()"
   ]
  },
  {
   "cell_type": "code",
   "execution_count": 10,
   "id": "2aef33d9-e9e7-43f2-906e-38ec3ebd6281",
   "metadata": {
    "tags": []
   },
   "outputs": [],
   "source": [
    "def remove_intro_and_tags(text: str) -> str:\n",
    "    return remove_end_tag(strip_example_intro(text))"
   ]
  },
  {
   "cell_type": "code",
   "execution_count": 11,
   "id": "42c92657-5e5b-46c9-84ba-22a2b1dcd04c",
   "metadata": {
    "tags": []
   },
   "outputs": [],
   "source": [
    "n = 1200\n",
    "batch_size = 10"
   ]
  },
  {
   "cell_type": "code",
   "execution_count": 12,
   "id": "ffd3e773-da94-4de8-88bb-97e7d027b539",
   "metadata": {
    "tags": []
   },
   "outputs": [],
   "source": [
    "notes = generate_with_openai(prompt, model=\"gpt-4o\", temperature=0.9, max_tokens=1024, n=n, batch_size=batch_size)"
   ]
  },
  {
   "cell_type": "code",
   "execution_count": 37,
   "id": "be8242ba-1b12-430e-82f5-92d54ef680ae",
   "metadata": {
    "tags": []
   },
   "outputs": [],
   "source": [
    "cleaned_notes = [remove_intro_and_tags(note) for note in notes]"
   ]
  },
  {
   "cell_type": "code",
   "execution_count": 38,
   "id": "285ae53b-342e-4dab-8d08-5afe027eff49",
   "metadata": {
    "tags": []
   },
   "outputs": [],
   "source": [
    "sampled_outputs = random.sample(notes, min(n, 10))"
   ]
  },
  {
   "cell_type": "code",
   "execution_count": 39,
   "id": "c26928dd-9a1d-4e30-a35a-9cd7fdc94763",
   "metadata": {
    "tags": []
   },
   "outputs": [
    {
     "name": "stdout",
     "output_type": "stream",
     "text": [
      "operative report the patient presented with worsening abdominal pain nausea and vomiting over the course of three days | an exploratory laparotomy revealed a perforated diverticulum in the sigmoid colon | sigmoid resection with primary anastomosis was performed without complications by dr lastname on | brief hospital course postoperatively the patient required a prolonged course of iv antibiotics due to peritoneal contamination as evidenced by leukocytosis and fever persisting despite initial therapy | the patient was placed on tpn on hospital day 2 due to ileus and was gradually advanced to oral intake by day 7 | wound care was performed daily due to copious serosanguinous drainage from the surgical site | the patient’s hemoglobin decreased postoperatively requiring transfusion of two units of packed red blood cells on hospital day 5 | on hospital day 10 the patient developed atrial fibrillation with rapid ventricular response necessitating initiation of metoprolol and anticoagulation therapy | discharge instructions the patient is to continue a low-residue diet and follow up with colorectal surgery in two weeks for suture removal and further management of her diverticular disease | avoid lifting anything heavier than 10 pounds for the next six weeks to prevent wound dehiscence |\n",
      "\n",
      "\n",
      "xxxxxxxxxxxxxxxxxxxxxxxxxxxxxxxxxxxxxxxxxxxxxxxxxxxxxxxxxxxxxxxxxxxxxxxxxxxxxxxxxxxxxxxxxxxxxxxxxxxxxxxxxxxxxxxx\n",
      "\n",
      "\n",
      "assessment and plan 1 heart failure patient with known dilated cardiomyopathy presenting with exacerbation likely secondary to dietary indiscretion and medication noncompliance admitted on  for close monitoring and treatment initiated on iv diuretics with good response | transitioned to oral diuretics with stable weight and improved symptoms | discharge on lasix 40 mg po bid | advised low sodium diet and to closely follow up with cardiology | echocardiogram revealed ejection fraction approximately 30 unchanged from previous | 2 diabetes mellitus poorly controlled a1c 9.8 elevated on admission | sliding scale insulin initiated and transitioned to metformin 500 mg po bid and glipizide 5 mg po daily with plan to increase doses as tolerated | follow up with endocrinology for further management | patient education on carbohydrate counting and lifestyle modification provided | 3 hypertension suboptimally controlled on lisinopril 20 mg po daily and amlodipine 5 mg po daily | blood pressure improved on admission with better adherence | encourage self-monitoring and regular follow-up with primary care physician | additional diagnoses include anemia of chronic disease and chronic kidney disease stage 3 both of which to be monitored by primary care physician | discharge medications include aspirin 81 mg po daily atorvastatin 40 mg po daily and allopurinol 100 mg po daily | ensure proper follow-up appointments with cardiology endocrinology and primary care physician are scheduled | patient instructed on signs of fluid overload and importance of adherence to prescribed regimen |\n",
      "\n",
      "\n",
      "xxxxxxxxxxxxxxxxxxxxxxxxxxxxxxxxxxxxxxxxxxxxxxxxxxxxxxxxxxxxxxxxxxxxxxxxxxxxxxxxxxxxxxxxxxxxxxxxxxxxxxxxxxxxxxxx\n",
      "\n",
      "\n",
      "chief complaint acute abdominal pain on admission the patient presented with severe right upper quadrant pain radiating to the back | she has a history of cholelithiasis and was advised for elective cholecystectomy in the past but did not follow up | labs were significant for elevated white cell count and bilirubin levels suggestive of acute cholecystitis | a bedside ultrasound performed in the emergency department confirmed the presence of gallstones with wall thickening but no pericholecystic fluid | due to concerns of worsening infection a surgical consult was obtained and the patient underwent laparoscopic cholecystectomy on hospital day 2 | the procedure was complicated by significant adhesions noted around the gallbladder requiring conversion to open cholecystectomy | intraoperative cholangiogram was normal and there was no evidence of choledocholithiasis | postoperatively the patient was started on ceftriaxone and metronidazole for coverage of potential biliary pathogens | she has been recovering well post-surgery with gradual improvement in pain and return of bowel function | she is anticipated to discharge on post-op day 3 with instructions to follow up with her surgeon in 1 week | discharge medications include acetaminophen as needed for pain and continuation of antibiotics for 5 days | she is encouraged to maintain hydration and avoid fatty foods to prevent any gastrointestinal upset |\n",
      "\n",
      "\n",
      "xxxxxxxxxxxxxxxxxxxxxxxxxxxxxxxxxxxxxxxxxxxxxxxxxxxxxxxxxxxxxxxxxxxxxxxxxxxxxxxxxxxxxxxxxxxxxxxxxxxxxxxxxxxxxxxx\n",
      "\n",
      "\n",
      "discharge medicationsmedications 1 amlodipine 5 mg po daily rx amlodipine 5 mg 1 tablets by mouth daily disp 30 tablet refills0 | 2 metoprolol tartrate 25 mg po bid rx metoprolol tartrate 25 mg 1 tablets by mouth twice a day disp 60 tablet refills0 | 3 atorvastatin 40 mg po qhs rx atorvastatin 40 mg 1 tablets by mouth at bedtime disp 30 tablet refills0 | 4 lisinopril 10 mg po daily rx lisinopril 10 mg 1 tablets by mouth daily disp 30 tablet refills0 | discharge instructions you were admitted for acute coronary syndrome with st elevation myocardial infarction and underwent successful pci with drug-eluting stent placement | please avoid strenuous activities for at least two weeks and gradually resume exercise as tolerated | follow up with your cardiologist dr  in two weeks | stop smoking and avoid alcohol consumption | take all medications as prescribed and carry your nitroglycerin spray at all times | seek immediate medical attention if you experience chest pain that does not resolve with nitroglycerin | dietary modifications to lower cholesterol and salt intake are recommended | your follow-up appointments with cardiology and primary care have been scheduled | please have fasting lipid panel drawn one week before your cardiology appointment | results should be faxed to dr  at | major procedure performed percutaneous coronary intervention with stent placement on | brief hospital course the patient presented with chest pain and was found to have inferior st elevation on ecg consistent with myocardial infarction | emergent cardiac catheterization showed a 95 occlusion of the right coronary artery | a drug-eluting stent was placed with good result and the patient was transferred to ccu for monitoring | postoperative course was uneventful and the patient was hemodynamically stable | patient education on lifestyle modifications and adherence to medications was emphasized prior to discharge |\n",
      "\n",
      "\n",
      "xxxxxxxxxxxxxxxxxxxxxxxxxxxxxxxxxxxxxxxxxxxxxxxxxxxxxxxxxxxxxxxxxxxxxxxxxxxxxxxxxxxxxxxxxxxxxxxxxxxxxxxxxxxxxxxx\n",
      "\n",
      "\n",
      "history of present illness  ms lastname 58392 is a 42yearold woman with a significant history of multiple sclerosis s/p recent exacerbation currently on iv steroids admitted for acute urinary retention and autonomic dysreflexia.| she has a neurogenic bladder and requires intermittent catheterization which was ineffective in resolving her current retention.| on admission foley catheter was placed with immediate relief and 500 ml of urine output noted.| ongoing concerns regarding bladder management discussed with urology.| brief hospital course  her condition stabilized over the course of her hospital stay with the foley catheter in place.| neurology recommended to taper steroids over the next 7 days and consider starting on rituximab for long-term management of ms.| the patient was discharged on hospital day 5 with a leg bag and home health services to assist with catheter care.| discharge medicationsmedications  1 oxybutynin 5 mg po tid for bladder spasticity.| 2 prednisone taper starting at 60 mg po daily.| 3 gabapentin 300 mg po tid.| outpatient followup with neurology in 2 weeks.| the patient was advised to return immediately if she experiences any signs of infection or worsening neurological symptoms.| discharge instructions  you were admitted to help manage urinary retention related to your multiple sclerosis.| you should continue using the foley catheter as instructed and ensure proper hygiene to prevent infections.| follow up with your neurologist for further management of your ms and discuss starting rituximab.| make sure to take your medications as directed and attend all scheduled appointments to monitor your condition closely.| remember to have your catheter supplies handy and reach out to home health if you need further assistance.|\n",
      "\n",
      "\n",
      "xxxxxxxxxxxxxxxxxxxxxxxxxxxxxxxxxxxxxxxxxxxxxxxxxxxxxxxxxxxxxxxxxxxxxxxxxxxxxxxxxxxxxxxxxxxxxxxxxxxxxxxxxxxxxxxx\n",
      "\n",
      "\n",
      "operative procedure left knee arthroscopy with partial meniscectomy performed on  | preoperative diagnosis meniscal tear  history of present illness patient lastname un  52yearold male with history of recurrent left knee pain episodes worse with weightbearing and lateral movement | noted clicking and popping inside the knee joint prior to presentation | the patient has failed conservative management including physical therapy and antiinflammatory medication | intraoperative findings large horizontal cleavage tear of the lateral meniscus with associated chondral defect | the damaged portion of the meniscus was excised and the remaining stable meniscus edges were smoothed | brief hospital course postoperatively patient did well in pacu with minimal pain controlled by oral analgesics | no immediate postoperative complications observed | vitals stable and within normal limits | discharge instructions weightbearing as tolerated with crutches for additional support | initiate physical therapy as soon as possible focusing on range of motion and quadriceps strengthening | pain management with acetaminophen or ibuprofen as needed | follow up with orthopedic surgeon in two weeks | resume normal activities in four to six weeks pending clearance | avoid highimpact activities until follow up |\n",
      "\n",
      "\n",
      "xxxxxxxxxxxxxxxxxxxxxxxxxxxxxxxxxxxxxxxxxxxxxxxxxxxxxxxxxxxxxxxxxxxxxxxxxxxxxxxxxxxxxxxxxxxxxxxxxxxxxxxxxxxxxxxx\n",
      "\n",
      "\n",
      "discharge summary patient is a 65yearold female with a history of copd presented with worsening dyspnea and productive cough for three days | she was admitted for treatment of acute exacerbation of copd | initial labs showed elevated wbc count and chest xray revealed right lower lobe consolidation | she was started on iv antibiotics zosyn and azithromycin as well as bronchodilators | patient reported some relief from dyspnea with frequent use of nebulizer treatments | due to significant improvement in respiratory symptoms and stabilization of oxygen saturation patient was weaned off supplemental oxygen and transitioned to oral antibiotics | notable hospital course  development of peripheral edema which was managed with diuretics | discharge medications include albuterol inhaler 2 puffs every 4 hours as needed for shortness of breath prednisone taper over 12 days and home cpap | patient discharged with instructions to follow up with pulmonology in one week and repeat chest xray in two weeks | patient to remain on low sodium diet and monitor weight daily to prevent fluid overload | she was instructed to return to the er if symptoms worsen |\n",
      "\n",
      "\n",
      "xxxxxxxxxxxxxxxxxxxxxxxxxxxxxxxxxxxxxxxxxxxxxxxxxxxxxxxxxxxxxxxxxxxxxxxxxxxxxxxxxxxxxxxxxxxxxxxxxxxxxxxxxxxxxxxx\n",
      "\n",
      "\n",
      "procedure consult this consult was requested for evaluation of the patients increasing ascites in the context of cirrhosis | the patients medical history is significant for alcohol-related cirrhosis diagnosed in 2017 hepatic encephalopathy and esophageal varices | on admission the patients inr was elevated at 1.5 with a platelet count of 88 the ascites was causing significant abdominal distension and discomfort | paracentesis was performed removing approximately 5 liters of straw-colored ascitic fluid with an albumin of 1.5 and pmn count of 180 indicating spontaneous bacterial peritonitis | the patient was started on iv cefotaxime and oral spironolactone and furosemide for diuresis | given the low albumin levels iv albumin was also administered post-paracentesis | discussion was held with the patients family regarding the progression of liver disease and potential need for liver transplantation referral | | follow up recommendations include regular monitoring of lft coagulation profile and electrolytes and assessment by hepatology and transplant services | | | |\n",
      "\n",
      "\n",
      "xxxxxxxxxxxxxxxxxxxxxxxxxxxxxxxxxxxxxxxxxxxxxxxxxxxxxxxxxxxxxxxxxxxxxxxxxxxxxxxxxxxxxxxxxxxxxxxxxxxxxxxxxxxxxxxx\n",
      "\n",
      "\n",
      "discharge summary mr known lastname 52190 is a 66yearold male with ischemic cardiomyopathy undergoing lvad placement due to worsening heart failure | due to recurrent episodes of vtach he was started on amiodarone prior to surgery | postoperatively he experienced a brief episode of atrial fibrillation which resolved without intervention | he is to remain on metoprolol to maintain heart rate control | he was seen by cardiology and received instructions regarding his new device | mr known lastname 52190 will require anticoagulation with warfarin as an outpatient with inr checks twice weekly until stable | social history patient is a smoker with a 40packyear history advised to stop given his cardiac condition | family is supportive and aware of necessary lifestyle modifications | discharge medicationsmedications 1 metoprolol 50 mg po bid 2 amiodarone 200 mg po daily 3 warfarin 5 mg po daily 4 atorvastatin 40 mg po qhs 5 lisinopril 10 mg po daily 6 spironolactone 25 mg po daily 7 furosemide 40 mg po qd discharge instructions please follow up with cardiology within one week of discharge to evaluate lvad function and anticoagulation status | please take medications as directed and avoid excessive vitamin k intake | plan to avoid heavy lifting and strenuous activities for at least 8 weeks | make sure to have your inr checked as scheduled | results should be communicated to dr |\n",
      "\n",
      "\n",
      "xxxxxxxxxxxxxxxxxxxxxxxxxxxxxxxxxxxxxxxxxxxxxxxxxxxxxxxxxxxxxxxxxxxxxxxxxxxxxxxxxxxxxxxxxxxxxxxxxxxxxxxxxxxxxxxx\n",
      "\n",
      "\n",
      "physical exam  the patient is a 62yearold female with a history of copd diabetes and hypertension who presented to the ed with worsening dyspnea | on arrival she was found to have oxygen saturation of 88 on room air and was started on 4 liters of oxygen via nasal cannula | the patient appears to be in mild respiratory distress but is alert and oriented | lungs have decreased breath sounds bilaterally with diffuse wheezing | cardiovascular exam shows regular rate and rhythm with no murmurs | abdomen is soft and nondistended with positive bowel sounds |  skin is warm and dry with no rashes | neurologically the patient is intact with no focal deficits |  the patient was admitted for copd exacerbation likely triggered by recent upper respiratory infection | the patient was started on nebulized albuterol ipratropium and iv steroids | a plan to transition to oral prednisone was discussed upon improvement of symptoms | cultures obtained to rule out any bacterial infection were negative and antibiotics were deescalated accordingly | the patient will be monitored for improvement in respiratory status with a goal to wean off supplemental oxygen | discharge planning includes followup with pulmonology and close monitoring of home oxygen needs | discharge medications have been adjusted to include a tapering course of oral steroids along with maintenance inhalers | ensure patient education on use of inhalers and rescue medications |\n",
      "\n",
      "\n",
      "xxxxxxxxxxxxxxxxxxxxxxxxxxxxxxxxxxxxxxxxxxxxxxxxxxxxxxxxxxxxxxxxxxxxxxxxxxxxxxxxxxxxxxxxxxxxxxxxxxxxxxxxxxxxxxxx\n",
      "\n",
      "\n"
     ]
    }
   ],
   "source": [
    "for note in sampled_outputs:\n",
    "    print(remove_intro_and_tags(note))\n",
    "    print(\"\\n\")\n",
    "    print(\"xxxxxxxxxxxxxxxxxxxxxxxxxxxxxxxxxxxxxxxxxxxxxxxxxxxxxxxxxxxxxxxxxxxxxxxxxxxxxxxxxxxxxxxxxxxxxxxxxxxxxxxxxxxxxxxx\")\n",
    "    print(\"\\n\")"
   ]
  },
  {
   "cell_type": "markdown",
   "id": "e45b1c6c-b686-4179-bbd1-4fd8c2d2cf25",
   "metadata": {
    "tags": []
   },
   "source": [
    "# Save"
   ]
  },
  {
   "cell_type": "code",
   "execution_count": 17,
   "id": "800e8a98-0ab8-41a9-81f6-10b75f877363",
   "metadata": {
    "tags": []
   },
   "outputs": [],
   "source": [
    "name = \"few_shot_gpt4_separated_V2.csv\""
   ]
  },
  {
   "cell_type": "code",
   "execution_count": 19,
   "id": "dec12f22-e48c-4136-9997-3f998edc3e49",
   "metadata": {
    "tags": []
   },
   "outputs": [
    {
     "data": {
      "text/plain": [
       "1200"
      ]
     },
     "execution_count": 19,
     "metadata": {},
     "output_type": "execute_result"
    }
   ],
   "source": [
    "len(notes)"
   ]
  },
  {
   "cell_type": "code",
   "execution_count": 40,
   "id": "c98894e0-a761-484a-ad78-c33ec56f300f",
   "metadata": {
    "tags": []
   },
   "outputs": [
    {
     "name": "stdout",
     "output_type": "stream",
     "text": [
      "✅ Saved: ../data/synthetic/note-excerpts/few_shot_gpt4_separated_V2.csv\n"
     ]
    }
   ],
   "source": [
    "out_path = OUTPUT_DIR / name\n",
    "df = pd.DataFrame(cleaned_notes, columns=[\"note_excerpt\"])\n",
    "df.to_csv(out_path, index=False)\n",
    "print(f\"✅ Saved: {out_path}\")"
   ]
  },
  {
   "cell_type": "code",
   "execution_count": null,
   "id": "93534feb-e383-4931-9373-e78d2cb0ddc7",
   "metadata": {},
   "outputs": [],
   "source": []
  }
 ],
 "metadata": {
  "kernelspec": {
   "display_name": "Python 3 (ipykernel)",
   "language": "python",
   "name": "python3"
  },
  "language_info": {
   "codemirror_mode": {
    "name": "ipython",
    "version": 3
   },
   "file_extension": ".py",
   "mimetype": "text/x-python",
   "name": "python",
   "nbconvert_exporter": "python",
   "pygments_lexer": "ipython3",
   "version": "3.10.14"
  }
 },
 "nbformat": 4,
 "nbformat_minor": 5
}
