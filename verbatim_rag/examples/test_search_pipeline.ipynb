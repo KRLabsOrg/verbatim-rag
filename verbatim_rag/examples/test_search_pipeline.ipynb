{
 "cells": [
  {
   "cell_type": "code",
   "execution_count": 1,
   "id": "3ab37b96",
   "metadata": {},
   "outputs": [
    {
     "name": "stderr",
     "output_type": "stream",
     "text": [
      "/Users/adamkovacs/miniconda3/envs/verbatim/lib/python3.11/site-packages/tqdm/auto.py:21: TqdmWarning: IProgress not found. Please update jupyter and ipywidgets. See https://ipywidgets.readthedocs.io/en/stable/user_install.html\n",
      "  from .autonotebook import tqdm as notebook_tqdm\n"
     ]
    }
   ],
   "source": [
    "from docling.document_converter import DocumentConverter\n",
    "from chonkie import RecursiveChunker\n",
    "from verbatim_rag.document import (\n",
    "    Document,\n",
    "    Chunk,\n",
    "    ProcessedChunk,\n",
    "    DocumentType,\n",
    "    ChunkType,\n",
    ")\n",
    "from verbatim_rag.index import VerbatimIndex\n",
    "\n",
    "# Paper URL\n",
    "paper_url = \"https://aclanthology.org/2020.lrec-1.448.pdf\""
   ]
  },
  {
   "cell_type": "code",
   "execution_count": 2,
   "id": "4dcfa776",
   "metadata": {},
   "outputs": [
    {
     "name": "stderr",
     "output_type": "stream",
     "text": [
      "/Users/adamkovacs/miniconda3/envs/verbatim/lib/python3.11/site-packages/torch/utils/data/dataloader.py:683: UserWarning: 'pin_memory' argument is set as true but not supported on MPS now, then device pinned memory won't be used.\n",
      "  warnings.warn(warn_msg)\n"
     ]
    }
   ],
   "source": [
    "converter = DocumentConverter()\n",
    "result = converter.convert(paper_url)\n",
    "result_md = result.document.export_to_markdown()"
   ]
  },
  {
   "cell_type": "code",
   "execution_count": 3,
   "id": "3ce131fa",
   "metadata": {},
   "outputs": [],
   "source": [
    "# Now we can create a Document with the content\n",
    "document = Document(\n",
    "    title=\"Better Together: Modern Methods Plus Traditional Thinking in NP Alignment\",\n",
    "    source=paper_url,\n",
    "    content_type=DocumentType.PDF,\n",
    "    raw_content=result_md,\n",
    "    metadata={\n",
    "        \"authors\": [\"Ádám Kovács\", \"Judit Ács\", \"András Kornai\", \"Gábor Recski\"],\n",
    "        \"venue\": \"LREC 2020\",\n",
    "        \"year\": 2020,\n",
    "    },\n",
    ")"
   ]
  },
  {
   "cell_type": "code",
   "execution_count": 4,
   "id": "ca88e62e",
   "metadata": {},
   "outputs": [],
   "source": [
    "# Lets chunk the raw content with chonkie\n",
    "chunker = RecursiveChunker.from_recipe(\"markdown\", lang=\"en\")\n",
    "chunks = chunker(result_md)"
   ]
  },
  {
   "cell_type": "code",
   "execution_count": 5,
   "id": "66a2ca88",
   "metadata": {},
   "outputs": [
    {
     "data": {
      "text/plain": [
       "RecursiveChunk(text=c © European Language Resources Association (ELRA), licensed under CC-BY-NC\n",
       "\n",
       "## Better Together: Modern Methods Plus Traditional Thinking in NP Alignment\n",
       "\n",
       "´ Ad´ am Kov´ acs 1 , 2 , Judit ´ Acs 1 , 2 , Andr´ as Kornai 2 , G´ abor Recski 1 , 3\n",
       "\n",
       "1 BME Dept. of Automation and Applied Informatics, 2 SZTAKI Institute of Computer Science, 3 Apollo.AI lastname.firstname@aut.bme.hu, andras@kornai.com, gabor@apollo.ai\n",
       "\n",
       "## Abstract\n",
       "\n",
       "We study a typical intermediary task to Machine Translation, the alignment of NPs in the bitext. After arguing that the task remains relevant even in an end-to-end paradigm, we present simple, dictionary- and word vector-based baselines and a BERT-based system. Our results make clear that even state of the art systems relying on the best end-to-end methods can be improved by bringing in old-fashioned methods such as stopword removal, lemmatization, and dictionaries\n",
       "\n",
       "Keywords: NP-alignment, rule-based, BERT, hybrid\n",
       "\n",
       ", start_index=0, end_index=947, token_count=947, level=0)"
      ]
     },
     "execution_count": 5,
     "metadata": {},
     "output_type": "execute_result"
    }
   ],
   "source": [
    "chunks[0]"
   ]
  },
  {
   "cell_type": "code",
   "execution_count": 6,
   "id": "d843deb8",
   "metadata": {},
   "outputs": [],
   "source": [
    "# Process each chunk and create the structure\n",
    "for i, chunk in enumerate(chunks):\n",
    "    # Create basic Chunk\n",
    "    doc_chunk = Chunk(\n",
    "        document_id=document.id,\n",
    "        content=chunk.text,\n",
    "        chunk_number=i,\n",
    "        chunk_type=ChunkType.PARAGRAPH,\n",
    "    )\n",
    "\n",
    "    # Create basic ProcessedChunk\n",
    "    processed_chunk = ProcessedChunk(\n",
    "        chunk_id=doc_chunk.id,\n",
    "        enhanced_content=chunk.text,  # Use original text directly\n",
    "    )\n",
    "\n",
    "    # Add to document\n",
    "    doc_chunk.add_processed_chunk(processed_chunk)\n",
    "    document.add_chunk(doc_chunk)"
   ]
  },
  {
   "cell_type": "code",
   "execution_count": 7,
   "id": "5822c1f2",
   "metadata": {},
   "outputs": [],
   "source": [
    "# Create the index with a sparse model\n",
    "index = VerbatimIndex(\n",
    "    dense_model=None, sparse_model=\"naver/splade-v3\", db_path=\"./index.db\"\n",
    ")"
   ]
  },
  {
   "cell_type": "code",
   "execution_count": 8,
   "id": "79b3cf97",
   "metadata": {},
   "outputs": [],
   "source": [
    "# Add documents\n",
    "index.add_documents([document])"
   ]
  },
  {
   "cell_type": "code",
   "execution_count": 9,
   "id": "b44e83c4",
   "metadata": {},
   "outputs": [
    {
     "name": "stdout",
     "output_type": "stream",
     "text": [
      "\n",
      "🔍 'main contributions':\n",
      "  1. Score: 4.25\n",
      "     Text: In this paper we argue that using traditional, structure-based thinking, even about tasks such as MT...\n",
      "  2. Score: 2.89\n",
      "     Text: ## 5. Conclusion\n",
      "\n",
      "The results presented in Table 2 make clear that even SOTA systems relying on the ...\n",
      "\n",
      "🔍 'methodology approach':\n",
      "  1. Score: 9.28\n",
      "     Text: c © European Language Resources Association (ELRA), licensed under CC-BY-NC\n",
      "\n",
      "## Better Together: Mod...\n",
      "  2. Score: 8.46\n",
      "     Text: ## 5. Conclusion\n",
      "\n",
      "The results presented in Table 2 make clear that even SOTA systems relying on the ...\n",
      "\n",
      "🔍 'experimental results':\n",
      "  1. Score: 9.50\n",
      "     Text: ## 3.2. BERT\n",
      "\n",
      "Our second method maps English and Hungarian NPs to vectors using the multilingual BER...\n",
      "  2. Score: 9.41\n",
      "     Text: ## 4. Results\n",
      "\n",
      "We split the set of labeled NP pairs extracted from the 1984 dataset into train and t...\n"
     ]
    }
   ],
   "source": [
    "queries = [\n",
    "    \"main contributions\",\n",
    "    \"methodology approach\",\n",
    "    \"experimental results\",\n",
    "]\n",
    "\n",
    "for query in queries:\n",
    "    print(f\"\\n🔍 '{query}':\")\n",
    "    results = index.search(query, k=2)\n",
    "\n",
    "    for i, result in enumerate(results):\n",
    "        print(f\"  {i + 1}. Score: {result.score:.2f}\")\n",
    "        print(f\"     Text: {result.text[:100]}...\")"
   ]
  },
  {
   "cell_type": "code",
   "execution_count": null,
   "id": "a966adb9",
   "metadata": {},
   "outputs": [],
   "source": []
  },
  {
   "cell_type": "code",
   "execution_count": null,
   "id": "da266e0f",
   "metadata": {},
   "outputs": [],
   "source": []
  }
 ],
 "metadata": {
  "kernelspec": {
   "display_name": "Python 3",
   "language": "python",
   "name": "python3"
  },
  "language_info": {
   "codemirror_mode": {
    "name": "ipython",
    "version": 3
   },
   "file_extension": ".py",
   "mimetype": "text/x-python",
   "name": "python",
   "nbconvert_exporter": "python",
   "pygments_lexer": "ipython3",
   "version": "3.11.13"
  }
 },
 "nbformat": 4,
 "nbformat_minor": 5
}
