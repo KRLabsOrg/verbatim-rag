{
 "cells": [
  {
   "cell_type": "code",
   "execution_count": 1,
   "metadata": {
    "collapsed": true
   },
   "outputs": [],
   "source": [
    "%load_ext autoreload"
   ]
  },
  {
   "cell_type": "code",
   "execution_count": 2,
   "outputs": [],
   "source": [
    "import re\n",
    "import unicodedata\n",
    "import pandas as pd\n",
    "from pathlib import Path\n",
    "import xml.etree.ElementTree as ET\n",
    "\n",
    "import sys\n",
    "sys.path.append('../../')"
   ],
   "metadata": {
    "collapsed": false
   }
  },
  {
   "cell_type": "code",
   "execution_count": 3,
   "outputs": [],
   "source": [
    "DATA_DIR = Path(\"../data/dev\")\n",
    "input_dir = DATA_DIR / \"raw\"\n",
    "output_dir = DATA_DIR / \"processed\"\n",
    "data_file_name = \"archehr-qa.xml\"\n",
    "key_file_name = \"archehr-qa_key.json\"\n",
    "mapping_file_name = \"archehr-qa_mapping.json\""
   ],
   "metadata": {
    "collapsed": false
   }
  },
  {
   "cell_type": "markdown",
   "source": [
    "# Extract & Organize"
   ],
   "metadata": {
    "collapsed": false
   }
  },
  {
   "cell_type": "markdown",
   "source": [
    "**Key-File:**\n",
    "- Provides sentence-level answer annotations.\n",
    "- Labels answers as \"essential\" or \"not-relevant\"."
   ],
   "metadata": {
    "collapsed": false
   }
  },
  {
   "cell_type": "markdown",
   "source": [
    "Load from json file"
   ],
   "metadata": {
    "collapsed": false
   }
  },
  {
   "cell_type": "code",
   "execution_count": 4,
   "outputs": [
    {
     "ename": "FileNotFoundError",
     "evalue": "[Errno 2] No such file or directory: '../../data/dev/raw/archehr-qa_key.json'",
     "output_type": "error",
     "traceback": [
      "\u001B[0;31m---------------------------------------------------------------------------\u001B[0m",
      "\u001B[0;31mFileNotFoundError\u001B[0m                         Traceback (most recent call last)",
      "Cell \u001B[0;32mIn[4], line 4\u001B[0m\n\u001B[1;32m      1\u001B[0m \u001B[38;5;28;01mimport\u001B[39;00m\u001B[38;5;250m \u001B[39m\u001B[38;5;21;01mjson\u001B[39;00m\n\u001B[1;32m      3\u001B[0m json_file \u001B[38;5;241m=\u001B[39m input_dir \u001B[38;5;241m/\u001B[39m key_file_name\n\u001B[0;32m----> 4\u001B[0m \u001B[38;5;28;01mwith\u001B[39;00m \u001B[38;5;28;43mopen\u001B[39;49m\u001B[43m(\u001B[49m\u001B[43mjson_file\u001B[49m\u001B[43m,\u001B[49m\u001B[43m \u001B[49m\u001B[38;5;124;43m\"\u001B[39;49m\u001B[38;5;124;43mr\u001B[39;49m\u001B[38;5;124;43m\"\u001B[39;49m\u001B[43m)\u001B[49m \u001B[38;5;28;01mas\u001B[39;00m f:\n\u001B[1;32m      5\u001B[0m     key_data \u001B[38;5;241m=\u001B[39m json\u001B[38;5;241m.\u001B[39mload(f)\n\u001B[1;32m      7\u001B[0m \u001B[38;5;66;03m# Print the first few key-value pairs\u001B[39;00m\n",
      "File \u001B[0;32m~/miniforge3/envs/verbatim-rag/lib/python3.9/site-packages/IPython/core/interactiveshell.py:284\u001B[0m, in \u001B[0;36m_modified_open\u001B[0;34m(file, *args, **kwargs)\u001B[0m\n\u001B[1;32m    277\u001B[0m \u001B[38;5;28;01mif\u001B[39;00m file \u001B[38;5;129;01min\u001B[39;00m {\u001B[38;5;241m0\u001B[39m, \u001B[38;5;241m1\u001B[39m, \u001B[38;5;241m2\u001B[39m}:\n\u001B[1;32m    278\u001B[0m     \u001B[38;5;28;01mraise\u001B[39;00m \u001B[38;5;167;01mValueError\u001B[39;00m(\n\u001B[1;32m    279\u001B[0m         \u001B[38;5;124mf\u001B[39m\u001B[38;5;124m\"\u001B[39m\u001B[38;5;124mIPython won\u001B[39m\u001B[38;5;124m'\u001B[39m\u001B[38;5;124mt let you open fd=\u001B[39m\u001B[38;5;132;01m{\u001B[39;00mfile\u001B[38;5;132;01m}\u001B[39;00m\u001B[38;5;124m by default \u001B[39m\u001B[38;5;124m\"\u001B[39m\n\u001B[1;32m    280\u001B[0m         \u001B[38;5;124m\"\u001B[39m\u001B[38;5;124mas it is likely to crash IPython. If you know what you are doing, \u001B[39m\u001B[38;5;124m\"\u001B[39m\n\u001B[1;32m    281\u001B[0m         \u001B[38;5;124m\"\u001B[39m\u001B[38;5;124myou can use builtins\u001B[39m\u001B[38;5;124m'\u001B[39m\u001B[38;5;124m open.\u001B[39m\u001B[38;5;124m\"\u001B[39m\n\u001B[1;32m    282\u001B[0m     )\n\u001B[0;32m--> 284\u001B[0m \u001B[38;5;28;01mreturn\u001B[39;00m \u001B[43mio_open\u001B[49m\u001B[43m(\u001B[49m\u001B[43mfile\u001B[49m\u001B[43m,\u001B[49m\u001B[43m \u001B[49m\u001B[38;5;241;43m*\u001B[39;49m\u001B[43margs\u001B[49m\u001B[43m,\u001B[49m\u001B[43m \u001B[49m\u001B[38;5;241;43m*\u001B[39;49m\u001B[38;5;241;43m*\u001B[39;49m\u001B[43mkwargs\u001B[49m\u001B[43m)\u001B[49m\n",
      "\u001B[0;31mFileNotFoundError\u001B[0m: [Errno 2] No such file or directory: '../../data/dev/raw/archehr-qa_key.json'"
     ]
    }
   ],
   "source": [
    "import json\n",
    "\n",
    "json_file = input_dir / key_file_name\n",
    "with open(json_file, \"r\") as f:\n",
    "    key_data = json.load(f)\n",
    "\n",
    "# Print the first few key-value pairs\n",
    "print(json.dumps(key_data, indent=2))"
   ],
   "metadata": {
    "collapsed": false
   }
  },
  {
   "cell_type": "markdown",
   "source": [
    "Convert to pandas dataframe"
   ],
   "metadata": {
    "collapsed": false
   }
  },
  {
   "cell_type": "code",
   "execution_count": 5,
   "outputs": [],
   "source": [
    "# Convert JSON into a structured DataFrame\n",
    "structured_key_data = []\n",
    "\n",
    "for case in key_data:\n",
    "    case_id = case[\"case_id\"]\n",
    "    for answer in case[\"answers\"]:\n",
    "        structured_key_data.append({\n",
    "            \"case_id\": case_id,\n",
    "            \"sentence_id\": answer[\"sentence_id\"],\n",
    "            \"relevance\": answer[\"relevance\"]\n",
    "        })\n",
    "\n",
    "# Create Pandas DataFrame\n",
    "df_key = pd.DataFrame(structured_key_data)"
   ],
   "metadata": {
    "collapsed": false
   }
  },
  {
   "cell_type": "code",
   "execution_count": 6,
   "outputs": [
    {
     "data": {
      "text/plain": "  case_id sentence_id     relevance\n0       1           0  not-relevant\n1       1           1     essential\n2       1           2  not-relevant\n3       1           3  not-relevant\n4       1           4  not-relevant",
      "text/html": "<div>\n<style scoped>\n    .dataframe tbody tr th:only-of-type {\n        vertical-align: middle;\n    }\n\n    .dataframe tbody tr th {\n        vertical-align: top;\n    }\n\n    .dataframe thead th {\n        text-align: right;\n    }\n</style>\n<table border=\"1\" class=\"dataframe\">\n  <thead>\n    <tr style=\"text-align: right;\">\n      <th></th>\n      <th>case_id</th>\n      <th>sentence_id</th>\n      <th>relevance</th>\n    </tr>\n  </thead>\n  <tbody>\n    <tr>\n      <th>0</th>\n      <td>1</td>\n      <td>0</td>\n      <td>not-relevant</td>\n    </tr>\n    <tr>\n      <th>1</th>\n      <td>1</td>\n      <td>1</td>\n      <td>essential</td>\n    </tr>\n    <tr>\n      <th>2</th>\n      <td>1</td>\n      <td>2</td>\n      <td>not-relevant</td>\n    </tr>\n    <tr>\n      <th>3</th>\n      <td>1</td>\n      <td>3</td>\n      <td>not-relevant</td>\n    </tr>\n    <tr>\n      <th>4</th>\n      <td>1</td>\n      <td>4</td>\n      <td>not-relevant</td>\n    </tr>\n  </tbody>\n</table>\n</div>"
     },
     "execution_count": 6,
     "metadata": {},
     "output_type": "execute_result"
    }
   ],
   "source": [
    "df_key.head()"
   ],
   "metadata": {
    "collapsed": false
   }
  },
  {
   "cell_type": "markdown",
   "source": [
    "**Mapping-File:**\n",
    "- Maps case IDs to specific documents from MIMIC-III.\n",
    "- Shows where the context for each question is located."
   ],
   "metadata": {
    "collapsed": false
   }
  },
  {
   "cell_type": "markdown",
   "source": [
    "Load from json file"
   ],
   "metadata": {
    "collapsed": false
   }
  },
  {
   "cell_type": "code",
   "execution_count": 7,
   "outputs": [
    {
     "name": "stdout",
     "output_type": "stream",
     "text": [
      "[\n",
      "  {\n",
      "    \"case_id\": \"1\",\n",
      "    \"document_id\": \"179164_41762\",\n",
      "    \"document_source\": \"mimic-iii\"\n",
      "  },\n",
      "  {\n",
      "    \"case_id\": \"2\",\n",
      "    \"document_id\": \"191708_35669\",\n",
      "    \"document_source\": \"mimic-iii\"\n",
      "  },\n",
      "  {\n",
      "    \"case_id\": \"3\",\n",
      "    \"document_id\": \"132786_42206\",\n",
      "    \"document_source\": \"mimic-iii\"\n",
      "  },\n",
      "  {\n",
      "    \"case_id\": \"4\",\n",
      "    \"document_id\": \"180932_37135\",\n",
      "    \"document_source\": \"mimic-iii\"\n",
      "  },\n",
      "  {\n",
      "    \"case_id\": \"5\",\n",
      "    \"document_id\": \"190179_39908\",\n",
      "    \"document_source\": \"mimic-iii\"\n",
      "  },\n",
      "  {\n",
      "    \"case_id\": \"6\",\n",
      "    \"document_id\": \"104041_30389\",\n",
      "    \"document_source\": \"mimic-iii\"\n",
      "  },\n",
      "  {\n",
      "    \"case_id\": \"7\",\n",
      "    \"document_id\": \"137866_53960\",\n",
      "    \"document_source\": \"mimic-iii\"\n",
      "  },\n",
      "  {\n",
      "    \"case_id\": \"8\",\n",
      "    \"document_id\": \"169976_23897\",\n",
      "    \"document_source\": \"mimic-iii\"\n",
      "  },\n",
      "  {\n",
      "    \"case_id\": \"9\",\n",
      "    \"document_id\": \"139801_38724\",\n",
      "    \"document_source\": \"mimic-iii\"\n",
      "  },\n",
      "  {\n",
      "    \"case_id\": \"10\",\n",
      "    \"document_id\": \"100035_41331\",\n",
      "    \"document_source\": \"mimic-iii\"\n",
      "  },\n",
      "  {\n",
      "    \"case_id\": \"11\",\n",
      "    \"document_id\": \"22805349\",\n",
      "    \"document_source\": \"mimic-iv\"\n",
      "  },\n",
      "  {\n",
      "    \"case_id\": \"12\",\n",
      "    \"document_id\": \"25926743\",\n",
      "    \"document_source\": \"mimic-iv\"\n",
      "  },\n",
      "  {\n",
      "    \"case_id\": \"13\",\n",
      "    \"document_id\": \"21866822\",\n",
      "    \"document_source\": \"mimic-iv\"\n",
      "  },\n",
      "  {\n",
      "    \"case_id\": \"14\",\n",
      "    \"document_id\": \"20361094\",\n",
      "    \"document_source\": \"mimic-iv\"\n",
      "  },\n",
      "  {\n",
      "    \"case_id\": \"15\",\n",
      "    \"document_id\": \"27422858\",\n",
      "    \"document_source\": \"mimic-iv\"\n",
      "  },\n",
      "  {\n",
      "    \"case_id\": \"16\",\n",
      "    \"document_id\": \"22086761\",\n",
      "    \"document_source\": \"mimic-iv\"\n",
      "  },\n",
      "  {\n",
      "    \"case_id\": \"17\",\n",
      "    \"document_id\": \"26520572\",\n",
      "    \"document_source\": \"mimic-iv\"\n",
      "  },\n",
      "  {\n",
      "    \"case_id\": \"18\",\n",
      "    \"document_id\": \"23831520\",\n",
      "    \"document_source\": \"mimic-iv\"\n",
      "  },\n",
      "  {\n",
      "    \"case_id\": \"19\",\n",
      "    \"document_id\": \"20746225\",\n",
      "    \"document_source\": \"mimic-iv\"\n",
      "  },\n",
      "  {\n",
      "    \"case_id\": \"20\",\n",
      "    \"document_id\": \"22494097\",\n",
      "    \"document_source\": \"mimic-iv\"\n",
      "  }\n",
      "]\n"
     ]
    }
   ],
   "source": [
    "json_mapping_file = input_dir / mapping_file_name\n",
    "with open(json_mapping_file, \"r\") as f:\n",
    "    mapping_data = json.load(f)\n",
    "\n",
    "# Print first few mappings\n",
    "print(json.dumps(mapping_data, indent=2))"
   ],
   "metadata": {
    "collapsed": false
   }
  },
  {
   "cell_type": "markdown",
   "source": [
    "Convert to pandas dataframe"
   ],
   "metadata": {
    "collapsed": false
   }
  },
  {
   "cell_type": "code",
   "execution_count": 8,
   "outputs": [],
   "source": [
    "# Convert JSON into a structured DataFrame\n",
    "structured_mapping_data = []\n",
    "\n",
    "for case in mapping_data:\n",
    "    structured_mapping_data.append({\n",
    "        \"case_id\": case[\"case_id\"],\n",
    "        \"document_id\": case[\"document_id\"],\n",
    "        \"document_source\": case[\"document_source\"]\n",
    "    })\n",
    "\n",
    "# Create Pandas DataFrame\n",
    "df_mapping = pd.DataFrame(structured_mapping_data)"
   ],
   "metadata": {
    "collapsed": false
   }
  },
  {
   "cell_type": "code",
   "execution_count": 9,
   "outputs": [
    {
     "data": {
      "text/plain": "  case_id   document_id document_source\n0       1  179164_41762       mimic-iii\n1       2  191708_35669       mimic-iii\n2       3  132786_42206       mimic-iii\n3       4  180932_37135       mimic-iii\n4       5  190179_39908       mimic-iii",
      "text/html": "<div>\n<style scoped>\n    .dataframe tbody tr th:only-of-type {\n        vertical-align: middle;\n    }\n\n    .dataframe tbody tr th {\n        vertical-align: top;\n    }\n\n    .dataframe thead th {\n        text-align: right;\n    }\n</style>\n<table border=\"1\" class=\"dataframe\">\n  <thead>\n    <tr style=\"text-align: right;\">\n      <th></th>\n      <th>case_id</th>\n      <th>document_id</th>\n      <th>document_source</th>\n    </tr>\n  </thead>\n  <tbody>\n    <tr>\n      <th>0</th>\n      <td>1</td>\n      <td>179164_41762</td>\n      <td>mimic-iii</td>\n    </tr>\n    <tr>\n      <th>1</th>\n      <td>2</td>\n      <td>191708_35669</td>\n      <td>mimic-iii</td>\n    </tr>\n    <tr>\n      <th>2</th>\n      <td>3</td>\n      <td>132786_42206</td>\n      <td>mimic-iii</td>\n    </tr>\n    <tr>\n      <th>3</th>\n      <td>4</td>\n      <td>180932_37135</td>\n      <td>mimic-iii</td>\n    </tr>\n    <tr>\n      <th>4</th>\n      <td>5</td>\n      <td>190179_39908</td>\n      <td>mimic-iii</td>\n    </tr>\n  </tbody>\n</table>\n</div>"
     },
     "execution_count": 9,
     "metadata": {},
     "output_type": "execute_result"
    }
   ],
   "source": [
    "df_mapping.head()"
   ],
   "metadata": {
    "collapsed": false
   }
  },
  {
   "cell_type": "markdown",
   "source": [
    "**Train-set:**\n",
    "Contains cases with unique ids.\n",
    "Stores questions, associated clinical context"
   ],
   "metadata": {
    "collapsed": false
   }
  },
  {
   "cell_type": "markdown",
   "source": [
    "Load from XML file"
   ],
   "metadata": {
    "collapsed": false
   }
  },
  {
   "cell_type": "code",
   "execution_count": 10,
   "outputs": [],
   "source": [
    "def parse_xml_to_dataframe(path_to_xml):\n",
    "    tree = ET.parse(path_to_xml)\n",
    "    root = tree.getroot()\n",
    "\n",
    "    structured_data = []\n",
    "\n",
    "    for case in root.findall(\"case\"):\n",
    "        case_id = case.attrib[\"id\"]\n",
    "\n",
    "        # Extract patient details\n",
    "        patient_narrative = case.find(\"patient_narrative\").text if case.find(\"patient_narrative\") is not None else \"No patient narrative\"\n",
    "        patient_question = case.find(\"patient_question/phrase\").text if case.find(\"patient_question/phrase\") is not None else \"No patient question\"\n",
    "        clinician_question = case.find(\"clinician_question\").text if case.find(\"clinician_question\") is not None else \"No clinician question\"\n",
    "\n",
    "        # Extract clinical note excerpts\n",
    "        note_excerpt = case.find(\"note_excerpt\").text if case.find(\"note_excerpt\") is not None else \"No note excerpt\"\n",
    "\n",
    "        # Extract sentence-level details from note excerpts\n",
    "        for sentence in case.findall(\"note_excerpt_sentences/sentence\"):\n",
    "            sentence_id = sentence.attrib[\"id\"]\n",
    "            paragraph_id = sentence.attrib[\"paragraph_id\"]\n",
    "            start_char_index = sentence.attrib[\"start_char_index\"]\n",
    "            length = sentence.attrib[\"length\"]\n",
    "            sentence_text = sentence.text if sentence.text is not None else \"No sentence text\"\n",
    "\n",
    "            structured_data.append({\n",
    "                \"case_id\": case_id,\n",
    "                \"patient_narrative\": patient_narrative,\n",
    "                \"patient_question\": patient_question,\n",
    "                \"clinician_question\": clinician_question,\n",
    "                \"note_excerpt\": note_excerpt,\n",
    "                \"sentence_id\": sentence_id,\n",
    "                \"sentence_text\": sentence_text,\n",
    "                \"paragraph_id\": paragraph_id,\n",
    "                \"start_char_index\": start_char_index,\n",
    "                \"length\": length\n",
    "            })\n",
    "\n",
    "    return pd.DataFrame(structured_data)"
   ],
   "metadata": {
    "collapsed": false
   }
  },
  {
   "cell_type": "code",
   "execution_count": 11,
   "outputs": [],
   "source": [
    "df_data = parse_xml_to_dataframe(input_dir / data_file_name)"
   ],
   "metadata": {
    "collapsed": false
   }
  },
  {
   "cell_type": "code",
   "execution_count": 12,
   "outputs": [
    {
     "data": {
      "text/plain": "  case_id                                  patient_narrative  \\\n0       1  \\nI had severe abdomen pain and was hospitalis...   \n1       1  \\nI had severe abdomen pain and was hospitalis...   \n2       1  \\nI had severe abdomen pain and was hospitalis...   \n3       1  \\nI had severe abdomen pain and was hospitalis...   \n4       1  \\nI had severe abdomen pain and was hospitalis...   \n5       1  \\nI had severe abdomen pain and was hospitalis...   \n6       1  \\nI had severe abdomen pain and was hospitalis...   \n7       1  \\nI had severe abdomen pain and was hospitalis...   \n8       1  \\nI had severe abdomen pain and was hospitalis...   \n9       2  \\nI just wrote about my dad given multiple sho...   \n\n                                    patient_question  \\\n0  \\nMy question is if the sludge was there does ...   \n1  \\nMy question is if the sludge was there does ...   \n2  \\nMy question is if the sludge was there does ...   \n3  \\nMy question is if the sludge was there does ...   \n4  \\nMy question is if the sludge was there does ...   \n5  \\nMy question is if the sludge was there does ...   \n6  \\nMy question is if the sludge was there does ...   \n7  \\nMy question is if the sludge was there does ...   \n8  \\nMy question is if the sludge was there does ...   \n9  \\ndad given multiple shots of lasciks after he...   \n\n                                  clinician_question  \\\n0  \\nWhy was ERCP recommended to him over continu...   \n1  \\nWhy was ERCP recommended to him over continu...   \n2  \\nWhy was ERCP recommended to him over continu...   \n3  \\nWhy was ERCP recommended to him over continu...   \n4  \\nWhy was ERCP recommended to him over continu...   \n5  \\nWhy was ERCP recommended to him over continu...   \n6  \\nWhy was ERCP recommended to him over continu...   \n7  \\nWhy was ERCP recommended to him over continu...   \n8  \\nWhy was ERCP recommended to him over continu...   \n9  \\nWhy was he given lasix and his oxygen flow r...   \n\n                                        note_excerpt sentence_id  \\\n0  \\nBrief Hospital Course:\\n\\nDuring the ERCP a ...           0   \n1  \\nBrief Hospital Course:\\n\\nDuring the ERCP a ...           1   \n2  \\nBrief Hospital Course:\\n\\nDuring the ERCP a ...           2   \n3  \\nBrief Hospital Course:\\n\\nDuring the ERCP a ...           3   \n4  \\nBrief Hospital Course:\\n\\nDuring the ERCP a ...           4   \n5  \\nBrief Hospital Course:\\n\\nDuring the ERCP a ...           5   \n6  \\nBrief Hospital Course:\\n\\nDuring the ERCP a ...           6   \n7  \\nBrief Hospital Course:\\n\\nDuring the ERCP a ...           7   \n8  \\nBrief Hospital Course:\\n\\nDuring the ERCP a ...           8   \n9  \\nBrief Hospital Course:\\n\\nAcute diastolic he...           0   \n\n                                       sentence_text paragraph_id  \\\n0             \\nBrief Hospital Course:\\n                        0   \n1  \\nDuring the ERCP a pancreatic stent was requi...            1   \n2  \\nHowever, due to the patient's elevated INR, ...            1   \n3  \\nFrank pus was noted to be draining\\nfrom the...            1   \n4  \\nThe\\nVancomycin was discontinued.\\n                        1   \n5  \\nOn hospital day 4 (post-procedure day 3) the...            2   \n6  \\nOn ERCP the previous\\nbiliary stent was note...            2   \n7  \\nAs the patient's INR was normalized to 1.2, ...            2   \n8  \\nAt the\\nconclusion of the procedure, retrogr...            2   \n9             \\nBrief Hospital Course:\\n                        0   \n\n  start_char_index length  \n0                0     22  \n1                0    243  \n2              244     93  \n3              338    151  \n4              490     32  \n5                0    161  \n6              162     99  \n7              262    164  \n8              427     94  \n9                0     22  ",
      "text/html": "<div>\n<style scoped>\n    .dataframe tbody tr th:only-of-type {\n        vertical-align: middle;\n    }\n\n    .dataframe tbody tr th {\n        vertical-align: top;\n    }\n\n    .dataframe thead th {\n        text-align: right;\n    }\n</style>\n<table border=\"1\" class=\"dataframe\">\n  <thead>\n    <tr style=\"text-align: right;\">\n      <th></th>\n      <th>case_id</th>\n      <th>patient_narrative</th>\n      <th>patient_question</th>\n      <th>clinician_question</th>\n      <th>note_excerpt</th>\n      <th>sentence_id</th>\n      <th>sentence_text</th>\n      <th>paragraph_id</th>\n      <th>start_char_index</th>\n      <th>length</th>\n    </tr>\n  </thead>\n  <tbody>\n    <tr>\n      <th>0</th>\n      <td>1</td>\n      <td>\\nI had severe abdomen pain and was hospitalis...</td>\n      <td>\\nMy question is if the sludge was there does ...</td>\n      <td>\\nWhy was ERCP recommended to him over continu...</td>\n      <td>\\nBrief Hospital Course:\\n\\nDuring the ERCP a ...</td>\n      <td>0</td>\n      <td>\\nBrief Hospital Course:\\n</td>\n      <td>0</td>\n      <td>0</td>\n      <td>22</td>\n    </tr>\n    <tr>\n      <th>1</th>\n      <td>1</td>\n      <td>\\nI had severe abdomen pain and was hospitalis...</td>\n      <td>\\nMy question is if the sludge was there does ...</td>\n      <td>\\nWhy was ERCP recommended to him over continu...</td>\n      <td>\\nBrief Hospital Course:\\n\\nDuring the ERCP a ...</td>\n      <td>1</td>\n      <td>\\nDuring the ERCP a pancreatic stent was requi...</td>\n      <td>1</td>\n      <td>0</td>\n      <td>243</td>\n    </tr>\n    <tr>\n      <th>2</th>\n      <td>1</td>\n      <td>\\nI had severe abdomen pain and was hospitalis...</td>\n      <td>\\nMy question is if the sludge was there does ...</td>\n      <td>\\nWhy was ERCP recommended to him over continu...</td>\n      <td>\\nBrief Hospital Course:\\n\\nDuring the ERCP a ...</td>\n      <td>2</td>\n      <td>\\nHowever, due to the patient's elevated INR, ...</td>\n      <td>1</td>\n      <td>244</td>\n      <td>93</td>\n    </tr>\n    <tr>\n      <th>3</th>\n      <td>1</td>\n      <td>\\nI had severe abdomen pain and was hospitalis...</td>\n      <td>\\nMy question is if the sludge was there does ...</td>\n      <td>\\nWhy was ERCP recommended to him over continu...</td>\n      <td>\\nBrief Hospital Course:\\n\\nDuring the ERCP a ...</td>\n      <td>3</td>\n      <td>\\nFrank pus was noted to be draining\\nfrom the...</td>\n      <td>1</td>\n      <td>338</td>\n      <td>151</td>\n    </tr>\n    <tr>\n      <th>4</th>\n      <td>1</td>\n      <td>\\nI had severe abdomen pain and was hospitalis...</td>\n      <td>\\nMy question is if the sludge was there does ...</td>\n      <td>\\nWhy was ERCP recommended to him over continu...</td>\n      <td>\\nBrief Hospital Course:\\n\\nDuring the ERCP a ...</td>\n      <td>4</td>\n      <td>\\nThe\\nVancomycin was discontinued.\\n</td>\n      <td>1</td>\n      <td>490</td>\n      <td>32</td>\n    </tr>\n    <tr>\n      <th>5</th>\n      <td>1</td>\n      <td>\\nI had severe abdomen pain and was hospitalis...</td>\n      <td>\\nMy question is if the sludge was there does ...</td>\n      <td>\\nWhy was ERCP recommended to him over continu...</td>\n      <td>\\nBrief Hospital Course:\\n\\nDuring the ERCP a ...</td>\n      <td>5</td>\n      <td>\\nOn hospital day 4 (post-procedure day 3) the...</td>\n      <td>2</td>\n      <td>0</td>\n      <td>161</td>\n    </tr>\n    <tr>\n      <th>6</th>\n      <td>1</td>\n      <td>\\nI had severe abdomen pain and was hospitalis...</td>\n      <td>\\nMy question is if the sludge was there does ...</td>\n      <td>\\nWhy was ERCP recommended to him over continu...</td>\n      <td>\\nBrief Hospital Course:\\n\\nDuring the ERCP a ...</td>\n      <td>6</td>\n      <td>\\nOn ERCP the previous\\nbiliary stent was note...</td>\n      <td>2</td>\n      <td>162</td>\n      <td>99</td>\n    </tr>\n    <tr>\n      <th>7</th>\n      <td>1</td>\n      <td>\\nI had severe abdomen pain and was hospitalis...</td>\n      <td>\\nMy question is if the sludge was there does ...</td>\n      <td>\\nWhy was ERCP recommended to him over continu...</td>\n      <td>\\nBrief Hospital Course:\\n\\nDuring the ERCP a ...</td>\n      <td>7</td>\n      <td>\\nAs the patient's INR was normalized to 1.2, ...</td>\n      <td>2</td>\n      <td>262</td>\n      <td>164</td>\n    </tr>\n    <tr>\n      <th>8</th>\n      <td>1</td>\n      <td>\\nI had severe abdomen pain and was hospitalis...</td>\n      <td>\\nMy question is if the sludge was there does ...</td>\n      <td>\\nWhy was ERCP recommended to him over continu...</td>\n      <td>\\nBrief Hospital Course:\\n\\nDuring the ERCP a ...</td>\n      <td>8</td>\n      <td>\\nAt the\\nconclusion of the procedure, retrogr...</td>\n      <td>2</td>\n      <td>427</td>\n      <td>94</td>\n    </tr>\n    <tr>\n      <th>9</th>\n      <td>2</td>\n      <td>\\nI just wrote about my dad given multiple sho...</td>\n      <td>\\ndad given multiple shots of lasciks after he...</td>\n      <td>\\nWhy was he given lasix and his oxygen flow r...</td>\n      <td>\\nBrief Hospital Course:\\n\\nAcute diastolic he...</td>\n      <td>0</td>\n      <td>\\nBrief Hospital Course:\\n</td>\n      <td>0</td>\n      <td>0</td>\n      <td>22</td>\n    </tr>\n  </tbody>\n</table>\n</div>"
     },
     "execution_count": 12,
     "metadata": {},
     "output_type": "execute_result"
    }
   ],
   "source": [
    "df_data.head(10)"
   ],
   "metadata": {
    "collapsed": false
   }
  },
  {
   "cell_type": "markdown",
   "source": [
    "Cast types to int for merging"
   ],
   "metadata": {
    "collapsed": false
   }
  },
  {
   "cell_type": "code",
   "execution_count": 13,
   "outputs": [],
   "source": [
    "df_data[\"case_id\"] = df_data[\"case_id\"].astype(int)\n",
    "df_data[\"sentence_id\"] = df_data[\"sentence_id\"].astype(int)\n",
    "df_key[\"case_id\"] = df_key[\"case_id\"].astype(int)\n",
    "df_key[\"sentence_id\"] = df_key[\"sentence_id\"].astype(int)\n",
    "df_mapping[\"case_id\"] = df_mapping[\"case_id\"].astype(int)"
   ],
   "metadata": {
    "collapsed": false
   }
  },
  {
   "cell_type": "markdown",
   "source": [
    "Merge the dataframes into one"
   ],
   "metadata": {
    "collapsed": false
   }
  },
  {
   "cell_type": "code",
   "execution_count": 14,
   "outputs": [],
   "source": [
    "# Merge XML data with answer relevance labels\n",
    "df_temp = df_data.merge(df_key, on=[\"case_id\", \"sentence_id\"], how=\"left\")\n",
    "\n",
    "# Merge with document mapping\n",
    "df_all = df_temp.merge(df_mapping, on=\"case_id\", how=\"left\")"
   ],
   "metadata": {
    "collapsed": false
   }
  },
  {
   "cell_type": "markdown",
   "source": [
    "# Data View"
   ],
   "metadata": {
    "collapsed": false
   }
  },
  {
   "cell_type": "markdown",
   "source": [
    "Routine check for missing values"
   ],
   "metadata": {
    "collapsed": false
   }
  },
  {
   "cell_type": "code",
   "execution_count": 15,
   "outputs": [],
   "source": [
    "df_all.isna().sum();"
   ],
   "metadata": {
    "collapsed": false
   }
  },
  {
   "cell_type": "markdown",
   "source": [
    "List categories of relevance"
   ],
   "metadata": {
    "collapsed": false
   }
  },
  {
   "cell_type": "code",
   "execution_count": 28,
   "outputs": [
    {
     "data": {
      "text/plain": "relevance\nnot-relevant     239\nessential        138\nsupplementary     51\nName: count, dtype: int64"
     },
     "execution_count": 28,
     "metadata": {},
     "output_type": "execute_result"
    }
   ],
   "source": [
    "df_all[\"relevance\"].value_counts()"
   ],
   "metadata": {
    "collapsed": false
   }
  },
  {
   "cell_type": "markdown",
   "source": [
    "List distribution of different documents"
   ],
   "metadata": {
    "collapsed": false
   }
  },
  {
   "cell_type": "code",
   "execution_count": 17,
   "outputs": [],
   "source": [
    "df_all[\"document_id\"].value_counts();"
   ],
   "metadata": {
    "collapsed": false
   }
  },
  {
   "cell_type": "code",
   "execution_count": 18,
   "outputs": [],
   "source": [
    "observation = df_all.iloc[0]"
   ],
   "metadata": {
    "collapsed": false
   }
  },
  {
   "cell_type": "code",
   "execution_count": 19,
   "outputs": [
    {
     "data": {
      "text/plain": "case_id                                                               1\npatient_narrative     \\nI had severe abdomen pain and was hospitalis...\npatient_question      \\nMy question is if the sludge was there does ...\nclinician_question    \\nWhy was ERCP recommended to him over continu...\nnote_excerpt          \\nBrief Hospital Course:\\n\\nDuring the ERCP a ...\nsentence_id                                                           0\nsentence_text                    \\nBrief Hospital Course:\\n            \nparagraph_id                                                          0\nstart_char_index                                                      0\nlength                                                               22\nrelevance                                                  not-relevant\ndocument_id                                                179164_41762\ndocument_source                                               mimic-iii\nName: 0, dtype: object"
     },
     "execution_count": 19,
     "metadata": {},
     "output_type": "execute_result"
    }
   ],
   "source": [
    "observation"
   ],
   "metadata": {
    "collapsed": false
   }
  },
  {
   "cell_type": "code",
   "execution_count": 20,
   "outputs": [
    {
     "data": {
      "text/plain": "'\\nI had severe abdomen pain and was hospitalised for 15 days in ICU, diagnoised with CBD sludge thereafter on udiliv. Doctor advised for ERCP. My question is if the sludge was there does not the medication help in flushing it out? Whether ERCP was the only cure?\\n        '"
     },
     "execution_count": 20,
     "metadata": {},
     "output_type": "execute_result"
    }
   ],
   "source": [
    "observation.patient_narrative"
   ],
   "metadata": {
    "collapsed": false
   }
  },
  {
   "cell_type": "code",
   "execution_count": 21,
   "outputs": [
    {
     "data": {
      "text/plain": "'\\nMy question is if the sludge was there does not the medication help in flushing it out? Whether ERCP was the only cure?\\n            '"
     },
     "execution_count": 21,
     "metadata": {},
     "output_type": "execute_result"
    }
   ],
   "source": [
    "observation.patient_question"
   ],
   "metadata": {
    "collapsed": false
   }
  },
  {
   "cell_type": "code",
   "execution_count": 22,
   "outputs": [
    {
     "data": {
      "text/plain": "'\\nWhy was ERCP recommended to him over continuing a medication-based treatment?\\n        '"
     },
     "execution_count": 22,
     "metadata": {},
     "output_type": "execute_result"
    }
   ],
   "source": [
    "observation.clinician_question"
   ],
   "metadata": {
    "collapsed": false
   }
  },
  {
   "cell_type": "code",
   "execution_count": 23,
   "outputs": [
    {
     "data": {
      "text/plain": "\"\\nBrief Hospital Course:\\n\\nDuring the ERCP a pancreatic stent was required to facilitate\\naccess to the biliary system (removed at the end of the\\nprocedure), and a common bile duct stent was placed to allow\\ndrainage of the biliary obstruction caused by stones and sludge.\\nHowever, due to the patient's elevated INR, no sphincterotomy or\\nstone removal was performed. Frank pus was noted to be draining\\nfrom the common bile duct, and post-ERCP it was recommended that\\nthe patient remain on IV Zosyn for at least a week. The\\nVancomycin was discontinued.\\n\\nOn hospital day 4 (post-procedure day 3) the patient returned to\\nERCP for re-evaluation of her biliary stent as her LFTs and\\nbilirubin continued an upward trend. On ERCP the previous\\nbiliary stent was noted to be acutely obstructed by biliary\\nsludge and stones. As the patient's INR was normalized to 1.2, a\\nsphincterotomy was safely performed, with removal of several\\nbiliary stones in addition to the common bile duct stent. At the\\nconclusion of the procedure, retrograde cholangiogram was\\nnegative for filling defects.\\n        \""
     },
     "execution_count": 23,
     "metadata": {},
     "output_type": "execute_result"
    }
   ],
   "source": [
    "observation.note_excerpt"
   ],
   "metadata": {
    "collapsed": false
   }
  },
  {
   "cell_type": "code",
   "execution_count": 24,
   "outputs": [
    {
     "data": {
      "text/plain": "'\\nBrief Hospital Course:\\n            '"
     },
     "execution_count": 24,
     "metadata": {},
     "output_type": "execute_result"
    }
   ],
   "source": [
    "observation.sentence_text"
   ],
   "metadata": {
    "collapsed": false
   }
  },
  {
   "cell_type": "markdown",
   "source": [
    "# Data Cleaning"
   ],
   "metadata": {
    "collapsed": false
   }
  },
  {
   "cell_type": "markdown",
   "source": [
    "**We apply:**\n",
    "\n",
    "- Lowercasing\n",
    "- Removing extra newlines & whitespace\n",
    "- Unicode normalization\n",
    "- Removing punctuation"
   ],
   "metadata": {
    "collapsed": false
   }
  },
  {
   "cell_type": "markdown",
   "source": [
    "Convert text to lowercase"
   ],
   "metadata": {
    "collapsed": false
   }
  },
  {
   "cell_type": "code",
   "execution_count": 188,
   "outputs": [],
   "source": [
    "text_columns = [\"patient_narrative\", \"patient_question\", \"clinician_question\", \"note_excerpt\", \"sentence_text\"]\n",
    "\n",
    "# Apply lowercasing to all text columns\n",
    "df_all[text_columns] = df_all[text_columns].apply(lambda x: x.str.lower())"
   ],
   "metadata": {
    "collapsed": false
   }
  },
  {
   "cell_type": "markdown",
   "source": [
    "Remove extra newlines (\\n) and excessive whitespace"
   ],
   "metadata": {
    "collapsed": false
   }
  },
  {
   "cell_type": "code",
   "execution_count": 189,
   "outputs": [],
   "source": [
    "# Function to clean newlines & extra spaces\n",
    "def clean_text(text):\n",
    "    if isinstance(text, str):  # Ensure it's a string before processing\n",
    "        text = text.replace(\"\\n\", \" \")  # Replace newlines with space\n",
    "        text = \" \".join(text.split())   # Remove extra spaces\n",
    "    return text"
   ],
   "metadata": {
    "collapsed": false
   }
  },
  {
   "cell_type": "code",
   "execution_count": 190,
   "outputs": [],
   "source": [
    "df_all[text_columns] = df_all[text_columns].apply(lambda col: col.map(clean_text))"
   ],
   "metadata": {
    "collapsed": false
   }
  },
  {
   "cell_type": "code",
   "execution_count": 191,
   "outputs": [
    {
     "data": {
      "text/plain": "     case_id                                  patient_narrative  \\\n0          1  i had severe abdomen pain and was hospitalised...   \n1          1  i had severe abdomen pain and was hospitalised...   \n2          1  i had severe abdomen pain and was hospitalised...   \n3          1  i had severe abdomen pain and was hospitalised...   \n4          1  i had severe abdomen pain and was hospitalised...   \n..       ...                                                ...   \n423       20  last week my 61 yr old sister woke up with a t...   \n424       20  last week my 61 yr old sister woke up with a t...   \n425       20  last week my 61 yr old sister woke up with a t...   \n426       20  last week my 61 yr old sister woke up with a t...   \n427       20  last week my 61 yr old sister woke up with a t...   \n\n                                      patient_question  \\\n0    my question is if the sludge was there does no...   \n1    my question is if the sludge was there does no...   \n2    my question is if the sludge was there does no...   \n3    my question is if the sludge was there does no...   \n4    my question is if the sludge was there does no...   \n..                                                 ...   \n423  so what is the dizziness from i never heard of...   \n424  so what is the dizziness from i never heard of...   \n425  so what is the dizziness from i never heard of...   \n426  so what is the dizziness from i never heard of...   \n427  so what is the dizziness from i never heard of...   \n\n                                    clinician_question  \\\n0    why was ercp recommended to him over continuin...   \n1    why was ercp recommended to him over continuin...   \n2    why was ercp recommended to him over continuin...   \n3    why was ercp recommended to him over continuin...   \n4    why was ercp recommended to him over continuin...   \n..                                                 ...   \n423  how did they diagnose her with migraine for sp...   \n424  how did they diagnose her with migraine for sp...   \n425  how did they diagnose her with migraine for sp...   \n426  how did they diagnose her with migraine for sp...   \n427  how did they diagnose her with migraine for sp...   \n\n                                          note_excerpt  sentence_id  \\\n0    brief hospital course during the ercp a pancre...            0   \n1    brief hospital course during the ercp a pancre...            1   \n2    brief hospital course during the ercp a pancre...            2   \n3    brief hospital course during the ercp a pancre...            3   \n4    brief hospital course during the ercp a pancre...            4   \n..                                                 ...          ...   \n423  discharge instructions you were evaluated in t...            4   \n424  discharge instructions you were evaluated in t...            5   \n425  discharge instructions you were evaluated in t...            6   \n426  discharge instructions you were evaluated in t...            7   \n427  discharge instructions you were evaluated in t...            8   \n\n                                         sentence_text paragraph_id  \\\n0                               brief hospital course:            0   \n1    during the ercp a pancreatic stent was require...            1   \n2    however, due to the patient's elevated inr, no...            1   \n3    frank pus was noted to be draining from the co...            1   \n4                     the vancomycin was discontinued.            1   \n..                                                 ...          ...   \n423  - we started you on a new medication called ve...            0   \n424  take this once daily even if you do not have h...            0   \n425  - inform your pcp of this change, and please f...            0   \n426  - you can request your pcp to set up a referra...            0   \n427  - to achieve optimal control of your migraines...            0   \n\n    start_char_index length      relevance   document_id document_source  \n0                  0     22   not-relevant  179164_41762       mimic-iii  \n1                  0    243      essential  179164_41762       mimic-iii  \n2                244     93   not-relevant  179164_41762       mimic-iii  \n3                338    151   not-relevant  179164_41762       mimic-iii  \n4                490     32   not-relevant  179164_41762       mimic-iii  \n..               ...    ...            ...           ...             ...  \n423              657     54      essential      22494097        mimic-iv  \n424              712     76   not-relevant      22494097        mimic-iv  \n425              789    116  supplementary      22494097        mimic-iv  \n426              906    115   not-relevant      22494097        mimic-iv  \n427             1022    155  supplementary      22494097        mimic-iv  \n\n[428 rows x 13 columns]",
      "text/html": "<div>\n<style scoped>\n    .dataframe tbody tr th:only-of-type {\n        vertical-align: middle;\n    }\n\n    .dataframe tbody tr th {\n        vertical-align: top;\n    }\n\n    .dataframe thead th {\n        text-align: right;\n    }\n</style>\n<table border=\"1\" class=\"dataframe\">\n  <thead>\n    <tr style=\"text-align: right;\">\n      <th></th>\n      <th>case_id</th>\n      <th>patient_narrative</th>\n      <th>patient_question</th>\n      <th>clinician_question</th>\n      <th>note_excerpt</th>\n      <th>sentence_id</th>\n      <th>sentence_text</th>\n      <th>paragraph_id</th>\n      <th>start_char_index</th>\n      <th>length</th>\n      <th>relevance</th>\n      <th>document_id</th>\n      <th>document_source</th>\n    </tr>\n  </thead>\n  <tbody>\n    <tr>\n      <th>0</th>\n      <td>1</td>\n      <td>i had severe abdomen pain and was hospitalised...</td>\n      <td>my question is if the sludge was there does no...</td>\n      <td>why was ercp recommended to him over continuin...</td>\n      <td>brief hospital course during the ercp a pancre...</td>\n      <td>0</td>\n      <td>brief hospital course:</td>\n      <td>0</td>\n      <td>0</td>\n      <td>22</td>\n      <td>not-relevant</td>\n      <td>179164_41762</td>\n      <td>mimic-iii</td>\n    </tr>\n    <tr>\n      <th>1</th>\n      <td>1</td>\n      <td>i had severe abdomen pain and was hospitalised...</td>\n      <td>my question is if the sludge was there does no...</td>\n      <td>why was ercp recommended to him over continuin...</td>\n      <td>brief hospital course during the ercp a pancre...</td>\n      <td>1</td>\n      <td>during the ercp a pancreatic stent was require...</td>\n      <td>1</td>\n      <td>0</td>\n      <td>243</td>\n      <td>essential</td>\n      <td>179164_41762</td>\n      <td>mimic-iii</td>\n    </tr>\n    <tr>\n      <th>2</th>\n      <td>1</td>\n      <td>i had severe abdomen pain and was hospitalised...</td>\n      <td>my question is if the sludge was there does no...</td>\n      <td>why was ercp recommended to him over continuin...</td>\n      <td>brief hospital course during the ercp a pancre...</td>\n      <td>2</td>\n      <td>however, due to the patient's elevated inr, no...</td>\n      <td>1</td>\n      <td>244</td>\n      <td>93</td>\n      <td>not-relevant</td>\n      <td>179164_41762</td>\n      <td>mimic-iii</td>\n    </tr>\n    <tr>\n      <th>3</th>\n      <td>1</td>\n      <td>i had severe abdomen pain and was hospitalised...</td>\n      <td>my question is if the sludge was there does no...</td>\n      <td>why was ercp recommended to him over continuin...</td>\n      <td>brief hospital course during the ercp a pancre...</td>\n      <td>3</td>\n      <td>frank pus was noted to be draining from the co...</td>\n      <td>1</td>\n      <td>338</td>\n      <td>151</td>\n      <td>not-relevant</td>\n      <td>179164_41762</td>\n      <td>mimic-iii</td>\n    </tr>\n    <tr>\n      <th>4</th>\n      <td>1</td>\n      <td>i had severe abdomen pain and was hospitalised...</td>\n      <td>my question is if the sludge was there does no...</td>\n      <td>why was ercp recommended to him over continuin...</td>\n      <td>brief hospital course during the ercp a pancre...</td>\n      <td>4</td>\n      <td>the vancomycin was discontinued.</td>\n      <td>1</td>\n      <td>490</td>\n      <td>32</td>\n      <td>not-relevant</td>\n      <td>179164_41762</td>\n      <td>mimic-iii</td>\n    </tr>\n    <tr>\n      <th>...</th>\n      <td>...</td>\n      <td>...</td>\n      <td>...</td>\n      <td>...</td>\n      <td>...</td>\n      <td>...</td>\n      <td>...</td>\n      <td>...</td>\n      <td>...</td>\n      <td>...</td>\n      <td>...</td>\n      <td>...</td>\n      <td>...</td>\n    </tr>\n    <tr>\n      <th>423</th>\n      <td>20</td>\n      <td>last week my 61 yr old sister woke up with a t...</td>\n      <td>so what is the dizziness from i never heard of...</td>\n      <td>how did they diagnose her with migraine for sp...</td>\n      <td>discharge instructions you were evaluated in t...</td>\n      <td>4</td>\n      <td>- we started you on a new medication called ve...</td>\n      <td>0</td>\n      <td>657</td>\n      <td>54</td>\n      <td>essential</td>\n      <td>22494097</td>\n      <td>mimic-iv</td>\n    </tr>\n    <tr>\n      <th>424</th>\n      <td>20</td>\n      <td>last week my 61 yr old sister woke up with a t...</td>\n      <td>so what is the dizziness from i never heard of...</td>\n      <td>how did they diagnose her with migraine for sp...</td>\n      <td>discharge instructions you were evaluated in t...</td>\n      <td>5</td>\n      <td>take this once daily even if you do not have h...</td>\n      <td>0</td>\n      <td>712</td>\n      <td>76</td>\n      <td>not-relevant</td>\n      <td>22494097</td>\n      <td>mimic-iv</td>\n    </tr>\n    <tr>\n      <th>425</th>\n      <td>20</td>\n      <td>last week my 61 yr old sister woke up with a t...</td>\n      <td>so what is the dizziness from i never heard of...</td>\n      <td>how did they diagnose her with migraine for sp...</td>\n      <td>discharge instructions you were evaluated in t...</td>\n      <td>6</td>\n      <td>- inform your pcp of this change, and please f...</td>\n      <td>0</td>\n      <td>789</td>\n      <td>116</td>\n      <td>supplementary</td>\n      <td>22494097</td>\n      <td>mimic-iv</td>\n    </tr>\n    <tr>\n      <th>426</th>\n      <td>20</td>\n      <td>last week my 61 yr old sister woke up with a t...</td>\n      <td>so what is the dizziness from i never heard of...</td>\n      <td>how did they diagnose her with migraine for sp...</td>\n      <td>discharge instructions you were evaluated in t...</td>\n      <td>7</td>\n      <td>- you can request your pcp to set up a referra...</td>\n      <td>0</td>\n      <td>906</td>\n      <td>115</td>\n      <td>not-relevant</td>\n      <td>22494097</td>\n      <td>mimic-iv</td>\n    </tr>\n    <tr>\n      <th>427</th>\n      <td>20</td>\n      <td>last week my 61 yr old sister woke up with a t...</td>\n      <td>so what is the dizziness from i never heard of...</td>\n      <td>how did they diagnose her with migraine for sp...</td>\n      <td>discharge instructions you were evaluated in t...</td>\n      <td>8</td>\n      <td>- to achieve optimal control of your migraines...</td>\n      <td>0</td>\n      <td>1022</td>\n      <td>155</td>\n      <td>supplementary</td>\n      <td>22494097</td>\n      <td>mimic-iv</td>\n    </tr>\n  </tbody>\n</table>\n<p>428 rows × 13 columns</p>\n</div>"
     },
     "execution_count": 191,
     "metadata": {},
     "output_type": "execute_result"
    }
   ],
   "source": [
    "df_all"
   ],
   "metadata": {
    "collapsed": false
   }
  },
  {
   "cell_type": "markdown",
   "source": [
    "Normalize Unicode Characters:\n",
    "- NFKC-Normalization Form KC converts similar-looking characters to a common form"
   ],
   "metadata": {
    "collapsed": false
   }
  },
  {
   "cell_type": "code",
   "execution_count": 192,
   "outputs": [],
   "source": [
    "def normalize_unicode(text):\n",
    "    if isinstance(text, str):  # Ensure it's a string before processing\n",
    "        return unicodedata.normalize(\"NFKC\", text)  # Normalize to standard form\n",
    "    return text  # Return unchanged if not a string"
   ],
   "metadata": {
    "collapsed": false
   }
  },
  {
   "cell_type": "code",
   "execution_count": 193,
   "outputs": [],
   "source": [
    "df_all[text_columns] = df_all[text_columns].apply(lambda col: col.map(normalize_unicode))"
   ],
   "metadata": {
    "collapsed": false
   }
  },
  {
   "cell_type": "code",
   "execution_count": 194,
   "outputs": [
    {
     "name": "stdout",
     "output_type": "stream",
     "text": [
      "   case_id                                  patient_narrative  \\\n",
      "0        1  i had severe abdomen pain and was hospitalised...   \n",
      "1        1  i had severe abdomen pain and was hospitalised...   \n",
      "2        1  i had severe abdomen pain and was hospitalised...   \n",
      "3        1  i had severe abdomen pain and was hospitalised...   \n",
      "4        1  i had severe abdomen pain and was hospitalised...   \n",
      "\n",
      "                                    patient_question  \\\n",
      "0  my question is if the sludge was there does no...   \n",
      "1  my question is if the sludge was there does no...   \n",
      "2  my question is if the sludge was there does no...   \n",
      "3  my question is if the sludge was there does no...   \n",
      "4  my question is if the sludge was there does no...   \n",
      "\n",
      "                                  clinician_question  \\\n",
      "0  why was ercp recommended to him over continuin...   \n",
      "1  why was ercp recommended to him over continuin...   \n",
      "2  why was ercp recommended to him over continuin...   \n",
      "3  why was ercp recommended to him over continuin...   \n",
      "4  why was ercp recommended to him over continuin...   \n",
      "\n",
      "                                        note_excerpt  sentence_id  \\\n",
      "0  brief hospital course during the ercp a pancre...            0   \n",
      "1  brief hospital course during the ercp a pancre...            1   \n",
      "2  brief hospital course during the ercp a pancre...            2   \n",
      "3  brief hospital course during the ercp a pancre...            3   \n",
      "4  brief hospital course during the ercp a pancre...            4   \n",
      "\n",
      "                                       sentence_text paragraph_id  \\\n",
      "0                             brief hospital course:            0   \n",
      "1  during the ercp a pancreatic stent was require...            1   \n",
      "2  however, due to the patient's elevated inr, no...            1   \n",
      "3  frank pus was noted to be draining from the co...            1   \n",
      "4                   the vancomycin was discontinued.            1   \n",
      "\n",
      "  start_char_index length     relevance   document_id document_source  \n",
      "0                0     22  not-relevant  179164_41762       mimic-iii  \n",
      "1                0    243     essential  179164_41762       mimic-iii  \n",
      "2              244     93  not-relevant  179164_41762       mimic-iii  \n",
      "3              338    151  not-relevant  179164_41762       mimic-iii  \n",
      "4              490     32  not-relevant  179164_41762       mimic-iii  \n"
     ]
    }
   ],
   "source": [
    "print(df_all.head())"
   ],
   "metadata": {
    "collapsed": false
   }
  },
  {
   "cell_type": "code",
   "execution_count": 195,
   "outputs": [],
   "source": [
    "# Function to remove punctuation\n",
    "def remove_punctuation(text):\n",
    "    if isinstance(text, str):  # Ensure it's a string before processing\n",
    "        return re.sub(r\"[^\\w\\s]\", \"\", text)  # Keep only words & spaces\n",
    "    return text"
   ],
   "metadata": {
    "collapsed": false
   }
  },
  {
   "cell_type": "code",
   "execution_count": 196,
   "outputs": [],
   "source": [
    "df_all[text_columns] = df_all[text_columns].apply(lambda col: col.map(remove_punctuation))"
   ],
   "metadata": {
    "collapsed": false
   }
  },
  {
   "cell_type": "code",
   "execution_count": 197,
   "outputs": [
    {
     "data": {
      "text/plain": "   case_id                                  patient_narrative  \\\n0        1  i had severe abdomen pain and was hospitalised...   \n1        1  i had severe abdomen pain and was hospitalised...   \n2        1  i had severe abdomen pain and was hospitalised...   \n3        1  i had severe abdomen pain and was hospitalised...   \n4        1  i had severe abdomen pain and was hospitalised...   \n\n                                    patient_question  \\\n0  my question is if the sludge was there does no...   \n1  my question is if the sludge was there does no...   \n2  my question is if the sludge was there does no...   \n3  my question is if the sludge was there does no...   \n4  my question is if the sludge was there does no...   \n\n                                  clinician_question  \\\n0  why was ercp recommended to him over continuin...   \n1  why was ercp recommended to him over continuin...   \n2  why was ercp recommended to him over continuin...   \n3  why was ercp recommended to him over continuin...   \n4  why was ercp recommended to him over continuin...   \n\n                                        note_excerpt  sentence_id  \\\n0  brief hospital course during the ercp a pancre...            0   \n1  brief hospital course during the ercp a pancre...            1   \n2  brief hospital course during the ercp a pancre...            2   \n3  brief hospital course during the ercp a pancre...            3   \n4  brief hospital course during the ercp a pancre...            4   \n\n                                       sentence_text paragraph_id  \\\n0                              brief hospital course            0   \n1  during the ercp a pancreatic stent was require...            1   \n2  however due to the patients elevated inr no sp...            1   \n3  frank pus was noted to be draining from the co...            1   \n4                    the vancomycin was discontinued            1   \n\n  start_char_index length     relevance   document_id document_source  \n0                0     22  not-relevant  179164_41762       mimic-iii  \n1                0    243     essential  179164_41762       mimic-iii  \n2              244     93  not-relevant  179164_41762       mimic-iii  \n3              338    151  not-relevant  179164_41762       mimic-iii  \n4              490     32  not-relevant  179164_41762       mimic-iii  ",
      "text/html": "<div>\n<style scoped>\n    .dataframe tbody tr th:only-of-type {\n        vertical-align: middle;\n    }\n\n    .dataframe tbody tr th {\n        vertical-align: top;\n    }\n\n    .dataframe thead th {\n        text-align: right;\n    }\n</style>\n<table border=\"1\" class=\"dataframe\">\n  <thead>\n    <tr style=\"text-align: right;\">\n      <th></th>\n      <th>case_id</th>\n      <th>patient_narrative</th>\n      <th>patient_question</th>\n      <th>clinician_question</th>\n      <th>note_excerpt</th>\n      <th>sentence_id</th>\n      <th>sentence_text</th>\n      <th>paragraph_id</th>\n      <th>start_char_index</th>\n      <th>length</th>\n      <th>relevance</th>\n      <th>document_id</th>\n      <th>document_source</th>\n    </tr>\n  </thead>\n  <tbody>\n    <tr>\n      <th>0</th>\n      <td>1</td>\n      <td>i had severe abdomen pain and was hospitalised...</td>\n      <td>my question is if the sludge was there does no...</td>\n      <td>why was ercp recommended to him over continuin...</td>\n      <td>brief hospital course during the ercp a pancre...</td>\n      <td>0</td>\n      <td>brief hospital course</td>\n      <td>0</td>\n      <td>0</td>\n      <td>22</td>\n      <td>not-relevant</td>\n      <td>179164_41762</td>\n      <td>mimic-iii</td>\n    </tr>\n    <tr>\n      <th>1</th>\n      <td>1</td>\n      <td>i had severe abdomen pain and was hospitalised...</td>\n      <td>my question is if the sludge was there does no...</td>\n      <td>why was ercp recommended to him over continuin...</td>\n      <td>brief hospital course during the ercp a pancre...</td>\n      <td>1</td>\n      <td>during the ercp a pancreatic stent was require...</td>\n      <td>1</td>\n      <td>0</td>\n      <td>243</td>\n      <td>essential</td>\n      <td>179164_41762</td>\n      <td>mimic-iii</td>\n    </tr>\n    <tr>\n      <th>2</th>\n      <td>1</td>\n      <td>i had severe abdomen pain and was hospitalised...</td>\n      <td>my question is if the sludge was there does no...</td>\n      <td>why was ercp recommended to him over continuin...</td>\n      <td>brief hospital course during the ercp a pancre...</td>\n      <td>2</td>\n      <td>however due to the patients elevated inr no sp...</td>\n      <td>1</td>\n      <td>244</td>\n      <td>93</td>\n      <td>not-relevant</td>\n      <td>179164_41762</td>\n      <td>mimic-iii</td>\n    </tr>\n    <tr>\n      <th>3</th>\n      <td>1</td>\n      <td>i had severe abdomen pain and was hospitalised...</td>\n      <td>my question is if the sludge was there does no...</td>\n      <td>why was ercp recommended to him over continuin...</td>\n      <td>brief hospital course during the ercp a pancre...</td>\n      <td>3</td>\n      <td>frank pus was noted to be draining from the co...</td>\n      <td>1</td>\n      <td>338</td>\n      <td>151</td>\n      <td>not-relevant</td>\n      <td>179164_41762</td>\n      <td>mimic-iii</td>\n    </tr>\n    <tr>\n      <th>4</th>\n      <td>1</td>\n      <td>i had severe abdomen pain and was hospitalised...</td>\n      <td>my question is if the sludge was there does no...</td>\n      <td>why was ercp recommended to him over continuin...</td>\n      <td>brief hospital course during the ercp a pancre...</td>\n      <td>4</td>\n      <td>the vancomycin was discontinued</td>\n      <td>1</td>\n      <td>490</td>\n      <td>32</td>\n      <td>not-relevant</td>\n      <td>179164_41762</td>\n      <td>mimic-iii</td>\n    </tr>\n  </tbody>\n</table>\n</div>"
     },
     "execution_count": 197,
     "metadata": {},
     "output_type": "execute_result"
    }
   ],
   "source": [
    "df_all.head()"
   ],
   "metadata": {
    "collapsed": false
   }
  },
  {
   "cell_type": "markdown",
   "source": [
    "Stemming and lemmatization are not necessary for your use case because ModernBERT and other transformer-based models already handle word variations through subword tokenization (e.g., WordPiece). These models learn contextual word meanings, making additional text normalization redundant and potentially harmful by removing important morphological distinctions.\n",
    "\n",
    "**Note:** But might experiment with such things later on"
   ],
   "metadata": {
    "collapsed": false
   }
  },
  {
   "cell_type": "markdown",
   "source": [
    "Save the processed data (using csv instead of pickle for now since dataset is fairly small)"
   ],
   "metadata": {
    "collapsed": false
   }
  },
  {
   "cell_type": "code",
   "execution_count": null,
   "outputs": [],
   "source": [
    "'''\n",
    "df_all.to_csv(output_dir / \"medical_data.csv\", index=False)\n",
    "print(\"Cleaned dataset saved successfully!\")\n",
    "''';"
   ],
   "metadata": {
    "collapsed": false,
    "pycharm": {
     "is_executing": true
    }
   }
  },
  {
   "cell_type": "code",
   "execution_count": null,
   "outputs": [],
   "source": [],
   "metadata": {
    "collapsed": false
   }
  }
 ],
 "metadata": {
  "kernelspec": {
   "display_name": "Python 3",
   "language": "python",
   "name": "python3"
  },
  "language_info": {
   "codemirror_mode": {
    "name": "ipython",
    "version": 2
   },
   "file_extension": ".py",
   "mimetype": "text/x-python",
   "name": "python",
   "nbconvert_exporter": "python",
   "pygments_lexer": "ipython2",
   "version": "2.7.6"
  }
 },
 "nbformat": 4,
 "nbformat_minor": 0
}
