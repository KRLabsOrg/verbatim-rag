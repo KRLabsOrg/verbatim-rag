{
 "cells": [
  {
   "cell_type": "markdown",
   "metadata": {},
   "source": [
    "# Setup"
   ]
  },
  {
   "cell_type": "code",
   "execution_count": 49,
   "metadata": {
    "tags": []
   },
   "outputs": [
    {
     "name": "stdout",
     "output_type": "stream",
     "text": [
      "The autoreload extension is already loaded. To reload it, use:\n",
      "  %reload_ext autoreload\n"
     ]
    }
   ],
   "source": [
    "%load_ext autoreload\n",
    "%autoreload 2"
   ]
  },
  {
   "cell_type": "code",
   "execution_count": 1,
   "metadata": {
    "tags": []
   },
   "outputs": [],
   "source": [
    "%reload_ext autoreload"
   ]
  },
  {
   "cell_type": "code",
   "execution_count": 2,
   "metadata": {
    "tags": []
   },
   "outputs": [],
   "source": [
    "import re\n",
    "import os\n",
    "import wandb\n",
    "import string\n",
    "import numpy as np\n",
    "import unicodedata\n",
    "import pandas as pd\n",
    "from pathlib import Path\n",
    "from datasets import load_dataset\n",
    "from collections import defaultdict\n",
    "from tqdm.notebook import tqdm\n",
    "import matplotlib.pyplot as plt\n",
    "import seaborn as sns\n",
    "from tqdm.notebook import tqdm\n",
    "\n",
    "import pandas as pd\n",
    "\n",
    "import sys\n",
    "sys.path.append(\"../../src\")\n",
    "\n",
    "import util.preprocessing_util as util"
   ]
  },
  {
   "cell_type": "code",
   "execution_count": 3,
   "metadata": {
    "tags": []
   },
   "outputs": [
    {
     "name": "stderr",
     "output_type": "stream",
     "text": [
      "[nltk_data] Downloading package punkt_tab to\n",
      "[nltk_data]     /home/paul.schmitt/nltk_data...\n",
      "[nltk_data]   Package punkt_tab is already up-to-date!\n"
     ]
    },
    {
     "data": {
      "text/plain": [
       "True"
      ]
     },
     "execution_count": 3,
     "metadata": {},
     "output_type": "execute_result"
    }
   ],
   "source": [
    "import nltk\n",
    "nltk.download('punkt_tab')"
   ]
  },
  {
   "cell_type": "code",
   "execution_count": 4,
   "metadata": {
    "collapsed": false,
    "jupyter": {
     "outputs_hidden": false
    },
    "tags": []
   },
   "outputs": [],
   "source": [
    "data = load_dataset(\"Eladio/emrqa-msquad\")"
   ]
  },
  {
   "cell_type": "code",
   "execution_count": 5,
   "metadata": {},
   "outputs": [],
   "source": [
    "train_data = data[\"train\"].to_pandas()\n",
    "test_data = data[\"validation\"].to_pandas()"
   ]
  },
  {
   "cell_type": "markdown",
   "metadata": {
    "tags": []
   },
   "source": [
    "# Inital Exploration"
   ]
  },
  {
   "cell_type": "code",
   "execution_count": 6,
   "metadata": {
    "tags": []
   },
   "outputs": [
    {
     "data": {
      "text/html": [
       "<div>\n",
       "<style scoped>\n",
       "    .dataframe tbody tr th:only-of-type {\n",
       "        vertical-align: middle;\n",
       "    }\n",
       "\n",
       "    .dataframe tbody tr th {\n",
       "        vertical-align: top;\n",
       "    }\n",
       "\n",
       "    .dataframe thead th {\n",
       "        text-align: right;\n",
       "    }\n",
       "</style>\n",
       "<table border=\"1\" class=\"dataframe\">\n",
       "  <thead>\n",
       "    <tr style=\"text-align: right;\">\n",
       "      <th></th>\n",
       "      <th>context</th>\n",
       "      <th>question</th>\n",
       "      <th>answers</th>\n",
       "    </tr>\n",
       "  </thead>\n",
       "  <tbody>\n",
       "    <tr>\n",
       "      <th>0</th>\n",
       "      <td>The patient was admitted on 5/5/2006 with a hi...</td>\n",
       "      <td>What is her current dose of lasix ( furosemide )</td>\n",
       "      <td>{'answer_end': [2598], 'answer_start': [2564],...</td>\n",
       "    </tr>\n",
       "    <tr>\n",
       "      <th>1</th>\n",
       "      <td>This 57-year-old female with a distant history...</td>\n",
       "      <td>Is the patient currently or have they ever tak...</td>\n",
       "      <td>{'answer_end': [541], 'answer_start': [532], '...</td>\n",
       "    </tr>\n",
       "    <tr>\n",
       "      <th>2</th>\n",
       "      <td>An 81-year-old woman with Atrial Fibrillation ...</td>\n",
       "      <td>Has a patient had morphine</td>\n",
       "      <td>{'answer_end': [1342], 'answer_start': [1319],...</td>\n",
       "    </tr>\n",
       "    <tr>\n",
       "      <th>3</th>\n",
       "      <td>A 59 year-old woman with metastatic breast can...</td>\n",
       "      <td>Why was tessalon perles ( benzonatate ) origin...</td>\n",
       "      <td>{'answer_end': [1007], 'answer_start': [988], ...</td>\n",
       "    </tr>\n",
       "    <tr>\n",
       "      <th>4</th>\n",
       "      <td>Ms. Elter is an 83-year-old Spanish-speaking f...</td>\n",
       "      <td>Is there history of use of allopurinol</td>\n",
       "      <td>{'answer_end': [539], 'answer_start': [475], '...</td>\n",
       "    </tr>\n",
       "  </tbody>\n",
       "</table>\n",
       "</div>"
      ],
      "text/plain": [
       "                                             context  \\\n",
       "0  The patient was admitted on 5/5/2006 with a hi...   \n",
       "1  This 57-year-old female with a distant history...   \n",
       "2  An 81-year-old woman with Atrial Fibrillation ...   \n",
       "3  A 59 year-old woman with metastatic breast can...   \n",
       "4  Ms. Elter is an 83-year-old Spanish-speaking f...   \n",
       "\n",
       "                                            question  \\\n",
       "0   What is her current dose of lasix ( furosemide )   \n",
       "1  Is the patient currently or have they ever tak...   \n",
       "2                         Has a patient had morphine   \n",
       "3  Why was tessalon perles ( benzonatate ) origin...   \n",
       "4             Is there history of use of allopurinol   \n",
       "\n",
       "                                             answers  \n",
       "0  {'answer_end': [2598], 'answer_start': [2564],...  \n",
       "1  {'answer_end': [541], 'answer_start': [532], '...  \n",
       "2  {'answer_end': [1342], 'answer_start': [1319],...  \n",
       "3  {'answer_end': [1007], 'answer_start': [988], ...  \n",
       "4  {'answer_end': [539], 'answer_start': [475], '...  "
      ]
     },
     "execution_count": 6,
     "metadata": {},
     "output_type": "execute_result"
    }
   ],
   "source": [
    "train_data.head()"
   ]
  },
  {
   "cell_type": "code",
   "execution_count": 7,
   "metadata": {
    "tags": []
   },
   "outputs": [],
   "source": [
    "sample = train_data.iloc[0]"
   ]
  },
  {
   "cell_type": "code",
   "execution_count": 8,
   "metadata": {
    "tags": []
   },
   "outputs": [
    {
     "name": "stdout",
     "output_type": "stream",
     "text": [
      "Q: What is her current dose of lasix ( furosemide )\n",
      "A: {'answer_end': array([2598]), 'answer_start': array([2564]), 'text': array(['LASIX (FUROSEMIDE) 20 MG PO DAILY,'], dtype=object)}\n"
     ]
    }
   ],
   "source": [
    "print(f\"Q: {sample.question}\")\n",
    "print(f\"A: {sample.answers}\")"
   ]
  },
  {
   "cell_type": "code",
   "execution_count": 9,
   "metadata": {
    "tags": []
   },
   "outputs": [
    {
     "name": "stdout",
     "output_type": "stream",
     "text": [
      "---------- Train-Set ----------\n",
      "130956\n",
      "---------- Test-Set ----------\n",
      "32739\n"
     ]
    }
   ],
   "source": [
    "print(\"---------- Train-Set ----------\")\n",
    "print(len(train_data))\n",
    "print(\"---------- Test-Set ----------\")\n",
    "print(len(test_data))"
   ]
  },
  {
   "cell_type": "code",
   "execution_count": 10,
   "metadata": {
    "tags": []
   },
   "outputs": [],
   "source": [
    "selected = [\"context\", \"question\"]"
   ]
  },
  {
   "cell_type": "code",
   "execution_count": 11,
   "metadata": {
    "tags": []
   },
   "outputs": [],
   "source": [
    "dropped = train_data[selected].drop_duplicates()"
   ]
  },
  {
   "cell_type": "code",
   "execution_count": 12,
   "metadata": {
    "tags": []
   },
   "outputs": [
    {
     "data": {
      "text/html": [
       "<div>\n",
       "<style scoped>\n",
       "    .dataframe tbody tr th:only-of-type {\n",
       "        vertical-align: middle;\n",
       "    }\n",
       "\n",
       "    .dataframe tbody tr th {\n",
       "        vertical-align: top;\n",
       "    }\n",
       "\n",
       "    .dataframe thead th {\n",
       "        text-align: right;\n",
       "    }\n",
       "</style>\n",
       "<table border=\"1\" class=\"dataframe\">\n",
       "  <thead>\n",
       "    <tr style=\"text-align: right;\">\n",
       "      <th></th>\n",
       "      <th>context</th>\n",
       "      <th>question</th>\n",
       "    </tr>\n",
       "  </thead>\n",
       "  <tbody>\n",
       "    <tr>\n",
       "      <th>0</th>\n",
       "      <td>The patient was admitted on 5/5/2006 with a hi...</td>\n",
       "      <td>What is her current dose of lasix ( furosemide )</td>\n",
       "    </tr>\n",
       "    <tr>\n",
       "      <th>1</th>\n",
       "      <td>This 57-year-old female with a distant history...</td>\n",
       "      <td>Is the patient currently or have they ever tak...</td>\n",
       "    </tr>\n",
       "    <tr>\n",
       "      <th>2</th>\n",
       "      <td>An 81-year-old woman with Atrial Fibrillation ...</td>\n",
       "      <td>Has a patient had morphine</td>\n",
       "    </tr>\n",
       "    <tr>\n",
       "      <th>3</th>\n",
       "      <td>A 59 year-old woman with metastatic breast can...</td>\n",
       "      <td>Why was tessalon perles ( benzonatate ) origin...</td>\n",
       "    </tr>\n",
       "    <tr>\n",
       "      <th>4</th>\n",
       "      <td>Ms. Elter is an 83-year-old Spanish-speaking f...</td>\n",
       "      <td>Is there history of use of allopurinol</td>\n",
       "    </tr>\n",
       "    <tr>\n",
       "      <th>...</th>\n",
       "      <td>...</td>\n",
       "      <td>...</td>\n",
       "    </tr>\n",
       "    <tr>\n",
       "      <th>130951</th>\n",
       "      <td>This is a 48-year-old female who was admitted ...</td>\n",
       "      <td>What types of medications have been tried for ...</td>\n",
       "    </tr>\n",
       "    <tr>\n",
       "      <th>130952</th>\n",
       "      <td>A 58 year old female smoker with a history of ...</td>\n",
       "      <td>Is there a mention of of zetia usage/prescript...</td>\n",
       "    </tr>\n",
       "    <tr>\n",
       "      <th>130953</th>\n",
       "      <td>The patient was admitted on 5/5/2006 with a hi...</td>\n",
       "      <td>What medications has patient been on for const...</td>\n",
       "    </tr>\n",
       "    <tr>\n",
       "      <th>130954</th>\n",
       "      <td>Mr. Kanaan is a 68-year-old gentleman with sta...</td>\n",
       "      <td>Is there history of use of prilosec</td>\n",
       "    </tr>\n",
       "    <tr>\n",
       "      <th>130955</th>\n",
       "      <td>The 65-year-old female patient with a history ...</td>\n",
       "      <td>What was the dosage prescribed of ferrous gluc...</td>\n",
       "    </tr>\n",
       "  </tbody>\n",
       "</table>\n",
       "<p>127175 rows × 2 columns</p>\n",
       "</div>"
      ],
      "text/plain": [
       "                                                  context  \\\n",
       "0       The patient was admitted on 5/5/2006 with a hi...   \n",
       "1       This 57-year-old female with a distant history...   \n",
       "2       An 81-year-old woman with Atrial Fibrillation ...   \n",
       "3       A 59 year-old woman with metastatic breast can...   \n",
       "4       Ms. Elter is an 83-year-old Spanish-speaking f...   \n",
       "...                                                   ...   \n",
       "130951  This is a 48-year-old female who was admitted ...   \n",
       "130952  A 58 year old female smoker with a history of ...   \n",
       "130953  The patient was admitted on 5/5/2006 with a hi...   \n",
       "130954  Mr. Kanaan is a 68-year-old gentleman with sta...   \n",
       "130955  The 65-year-old female patient with a history ...   \n",
       "\n",
       "                                                 question  \n",
       "0        What is her current dose of lasix ( furosemide )  \n",
       "1       Is the patient currently or have they ever tak...  \n",
       "2                              Has a patient had morphine  \n",
       "3       Why was tessalon perles ( benzonatate ) origin...  \n",
       "4                  Is there history of use of allopurinol  \n",
       "...                                                   ...  \n",
       "130951  What types of medications have been tried for ...  \n",
       "130952  Is there a mention of of zetia usage/prescript...  \n",
       "130953  What medications has patient been on for const...  \n",
       "130954                Is there history of use of prilosec  \n",
       "130955  What was the dosage prescribed of ferrous gluc...  \n",
       "\n",
       "[127175 rows x 2 columns]"
      ]
     },
     "execution_count": 12,
     "metadata": {},
     "output_type": "execute_result"
    }
   ],
   "source": [
    "dropped"
   ]
  },
  {
   "cell_type": "code",
   "execution_count": 13,
   "metadata": {
    "tags": []
   },
   "outputs": [
    {
     "data": {
      "text/html": [
       "<div>\n",
       "<style scoped>\n",
       "    .dataframe tbody tr th:only-of-type {\n",
       "        vertical-align: middle;\n",
       "    }\n",
       "\n",
       "    .dataframe tbody tr th {\n",
       "        vertical-align: top;\n",
       "    }\n",
       "\n",
       "    .dataframe thead th {\n",
       "        text-align: right;\n",
       "    }\n",
       "</style>\n",
       "<table border=\"1\" class=\"dataframe\">\n",
       "  <thead>\n",
       "    <tr style=\"text-align: right;\">\n",
       "      <th></th>\n",
       "      <th>question</th>\n",
       "    </tr>\n",
       "    <tr>\n",
       "      <th>context</th>\n",
       "      <th></th>\n",
       "    </tr>\n",
       "  </thead>\n",
       "  <tbody>\n",
       "    <tr>\n",
       "      <th>Ms. Kolppa was a 58-year-old woman with a history of non-ischemic cardiomyopathy and ejection fraction of 15% who was initially admitted to the Faharb Medical Center Of following a cardiac arrest. On arrival in the emergency department she was found to have recurrent ventricular tachycardia and was defibrillated, and required pressor medications, an intraaortic balloon pump, and ventilator support to maintain her blood pressure, as her condition affected multiple organ systems. Due to poor neurological status and poor prognosis, and in conjunction with the patient's previously expressed wishes, medical care was withdrawn on 6/14 after many discussions with family, and the intraaortic balloon pump was turned off. Pressure medications were held and the mechanical ventilator was stopped, and the patient passed away on 0/14/07 shortly after removal of mechanical support.</th>\n",
       "      <td>39</td>\n",
       "    </tr>\n",
       "    <tr>\n",
       "      <th>A 26-year-old male with a history of hypertension, obesity, and sleep apnea who was in a nursing home until two days prior to admission presented with shortness of breath. He also reported palpitations, cough with sputum, and right leg pain. His vital signs were temperature 101.2, pulse 110, blood pressure 128/72, and oxygen saturation 95% on room air and 98% while ambulating. Examination revealed dry mucous membranes, decreased breath sounds at the right lower base without wheezing, tachycardia, regular rhythm, and non-tender abdomen with no edema in the right calf. Labs showed a WBC of 14, MCV of 70, HCT of 47, and BNP of 2. The EKG was sinus tachycardia with T wave inversion in III and unchanged from prior. CXR was normal. The diagnosis was likely viral upper respiratory infection and the patient was given IBUPROFEN 600-800 MG PO TID PRN Pain for pain control. A lower extremity ultrasound of the right leg was negative for deep venous thrombus. The patient was discharged on 3/26/05 at 2:00 PM with instructions to resume regular exercise and follow up with his primary care doctor on October 25th. He was also advised to elevate his leg and use IBUPROFEN 600-800 MG PO TID PRN Pain as needed for pain control.</th>\n",
       "      <td>54</td>\n",
       "    </tr>\n",
       "    <tr>\n",
       "      <th>This 63-year-old female patient presented with a history of a failed right hip hemiarthroplasty from 1992 and was admitted for a conversion to a total hip replacement. She tolerated the procedure well and was transferred to the Orthopaedic Floor postoperatively for pain control and physical therapy. She progressed rapidly over the next several days and was ambulating with assistance and partial weightbearing with physical therapy. Her wound was clean, dry, and intact with minimal drainage. She was afebrile throughout her hospital course and required one unit of blood during her hospital course to maintain her blood count greater than 30. Her discharge medications were Percocet 1-2 tabs p.o. q. 4-6 p.r.n. and she was also discharged on Coumadin 3.5 mg p.o. q. day and should maintain Coumadin therapy for six weeks time. The patient should have a prothrombin time checked biweekly to maintain an INR between 14 and 17. She was seen back in the office in six weeks time for x-rays and follow-up.</th>\n",
       "      <td>79</td>\n",
       "    </tr>\n",
       "    <tr>\n",
       "      <th>The patient is a 60 year old black female presenting with a chief complaint of dizziness and syncope. She was initially seen in 1989, and pacer insertion was performed after an episode of asystole on the monitor. In March 1994, she was seen by the pacer service and found to have a high failure rate necessitating a new pacer insertion. Today, she passed out while walking back to bed and denied any trauma, chest pain, shortness of breath or palpitations. On admission, physical exam was normal and laboratory data showed K 3.9, mag 2.1, Hematocrit 38.9. EKG showed normal sinus rhythm and left ventricular hypertrophy. The patient was admitted and the story was most consistent with an arrhythmia induced syncope. Right upper extremity venogram showed patent vessels and pacemaker insertion was performed without any complications on 4 of October. The patient was discharged to home the following day on Keflex 500 mg q8h for nine doses and Percocet 1-2 p.o. q6h p.r.n. pain, with follow-up in the Pacemaker Clinic.</th>\n",
       "      <td>80</td>\n",
       "    </tr>\n",
       "    <tr>\n",
       "      <th>The patient is a 40 year old female with a history of cholelithiasis who was recently discharged from Asce Medical Center after an incisional hernia repair. She soon after noted onset of right upper quadrant pain, vomiting, and fever and was readmitted with an ultrasound showing two 8-9 mm gallstones in the right upper quadrant. She was treated with intravenous antibiotics but deferred surgery at that time and was discharged home after defervescing. Approximately six weeks prior to admission, she was seen in the Emergency Ward for recurrent right upper quadrant pain without nausea, vomiting, or fever. She was subsequently seen by Dr. Bellman in the Chica Onant Hospital and a cholecystectomy was scheduled on a routine basis. On admission, the patient was afebrile with stable vital signs. Her EKG showed normal sinus rhythm, her chest X-Ray was clear, and her laboratory examination was within normal limits. She was placed under general anesthesia and her intubation was particularly difficult secondary to obesity requiring fiberoptic intubation and Anesthesia elected to place both an A-line and a central venous access. She then underwent a very uncomplicated cholecystectomy and was taken to the Recovery Room in stable condition. She received two doses of Gentamicin as prophylaxis post-operatively and had an unremarkable post-operative course. She was discharged to home on post-operative day number five with an appointment to follow-up in the Ingtondi Community Healthcare.</th>\n",
       "      <td>97</td>\n",
       "    </tr>\n",
       "    <tr>\n",
       "      <th>...</th>\n",
       "      <td>...</td>\n",
       "    </tr>\n",
       "    <tr>\n",
       "      <th>Dion Scarberry (926-57-39-3) was admitted on 9/0/2005 with a diagnosis of COPD flare and right heart failure and was discharged on 5/28/05 at 02:00 PM with a disposition of Home w/ services. He had a number of medications including Acetylsalicylic Acid 81mg PO QD Starting in AM (7/17), Elavil (Amitriptyline HCL) 10mg PO QHS, Atenolol 25mg PO QD Starting in AM (7/17), Colace (Docusate Sodium) 100mg PO BID, Furosemide 20mg PO QD Starting Today (6/25), Guaifenesin 10ml PO TID Starting Today (6/25) PRN Other:cough, Oxycodone 5mg PO TID Starting Today (6/25) PRN Pain, Quinine Sulfate 325mg PO HS Starting Today (6/25), Senna Tablets (Sennosides) 2 Tab PO BID, MVI Therapeutic (Therapeutic Multivitamins) 1 Tab PO QD, POTENTIALLY SERIOUS INTERACTION: SIMVASTATIN &amp; NIACIN, VIT. B-3 Reason for override: will monitor, Zocor (Simvastatin) 20mg PO QHS, Morphine Controlled Release 15mg PO Q12H, Felodipine 5mg PO QD Food/Drug Interaction Instruction, Flonase (Fluticasone Nasal Spray) 1 Spray INH QD, Advair Diskus 500/50 (Fluticasone Propionate/...) 1 Puff INH BID, Caltrate+D (Calcium Carbonate 1,500mg (600...) 1 Tab PO BID, Novolog Mix 70/30 (Insulin Aspart 70/30) 35 Units QAM; 22 Units QPM SC 35 Units QAM 22 Units QPM, Prednisone Taper PO Give 60mg q 24 h X 5 dose(s), then Give 50mg q 24 h X 3 dose(s), then Give 40mg q 24 h X 3 dose(s), then Give 30mg q 24 h X 3 dose(s), then Give 20mg q 24 h X 3 dose(s), then Give 10mg q 24 h X 3 dose(s), then Give 5mg q 24 h X 3 dose(s), then Starting Today (6/25), Combivent (Ipratropium and Albuterol Sulfate) 2 Puff INH QID. He was also given a diet of 4 gram Sodium, activity to resume regular exercise, and follow up appointment(s) with primary care doctor at the BCCMC early next week. He had allergies to Erythromycins and was given Azithromycin and supplemental O2 and Levofloxacin and admitted with a diagnosis of COPD flare. Home meds include Atenolol 25mg PO qd, HCTZ 25mg PO qd, Felodipine 5mg PO qd, Zocor 20mg PO qhs, ASA 81mg PO qd, Advair 1 puff bid, Combivent 2 puffs qid, Loratidine 10mg PO qd, Guqifenesin 600mg PO q12h, Morphine 15mg PO q8-12h, Percocet 1-2 tab PO q6h, Quinine Sulfate 325mg PO qhs, Colace 100mg PO bid, Senna 2 tab PO qd, Calcium+Vim D 125 units PO qd, Elavil 10mg PO qhs. He was treated for COPD flare with supplemental O2, DuoNebs, and steroids and received a V/Q scan which reported a low probability of PE, as well as a cardiac MRI which demonstrated normal cardiac anatomy and function, with an LVEF of 73% and no valvular dysfunction. His diabetes was managed with his home regimen of Novolog and chronic pain and insomnia were managed with his out-pt regimen of morphine and oxycodone, and he was given Elavil for sleep. Because of his history of cancer, he was placed on Lovenox for anticoagulation. Additional Comments include the instruction to use his home oxygen when sleeping at night, the addition of Combivent inhalers and a steroid taper to his medicines, and to stop the hydrochlorathiazide (HCTZ) 25mg and take Lasix 20mg once a day. His discharge condition was stable, and he was instructed to continue Lasix 40mg PO QD at home and D/C home HCTZ, to do a slow prednisone</th>\n",
       "      <td>1230</td>\n",
       "    </tr>\n",
       "    <tr>\n",
       "      <th>Ms. Watterson, a 75 year old female with a history of CHF/CAD, A-fib, lung CA s/p R wedge resection, basal cell CA on lip s/p resection, and uterine CA s/p TAH, was admitted to the hospital with increasing SOB, weight gain, orthopnea, fever, chills, decreased UOP x1-2 days, L leg swelling, and a T98.6, P72, BP121/65, RR18. In the ED she was given O2 and 40mg of Lasix IV, and her daily meds included Acetylsalicylic Acid 325mg PO daily, Allopurinol 100mg PO daily, Docusate Sodium 100mg PO BID, Esomeprazole 20mg PO daily, Ferrous Sulfate 325mg PO TID, Glipizide 5mg PO BID, KCL Slow Release 20MEQ PO BID, Levothyroxine Sodium 100mcg PO daily, Lorazepam 0.5mg PO daily PRN Insomnia/Anxiety, Metolazone 2.5mg PO daily, Metoprolol Succinate Extended Release 100mg PO daily, Multivitamins 1tab PO daily, Pravastatin 40mg PO bedtime, Torsemide 20mg PO BID, and Warfarin Sodium 2mg PO QPM. CXR, diuresis with IV medications, EKG, R/O MI, and Abdo CT were performed and the patient improved clinically. Antibiotics such as Azithromycin and Levofloxacin were initiated for PNA, and Cefpodoxime 200mg PO QD x 7 days was added for gram pos coverage. In addition, she was given Tessalon Perels 100mg PO TID PRN cough, Guiatuss 10ml PO Q4H PRN cough, Loperamide 2mg PO Q6H PRN diarrhea, and Metolazone 2.5mg PO daily PRN weight gain. The patient was supertheraputic on Coumadin and it was held throughout her admission, INR remained 3.9 to 4.0 in the setting of hemoptysis, started on 1/2 her home coumadin with VNA/PCP f/u in 2 days, d/ced on Coumadin 1mg qpm, UA and urine CTX were negative, developed diarrhea concerning for c.diff but had only been on azithromycin x1 day, all stool studies were negative, presumed viral gastroenteritis, started on loperamide before discharge to be continued prn diarrhea, pt's po DM rx were held during her admission covered with Lantus and Insulin Asp SS, HgA1c was sent and was in nl range, home po rx were restarted on discharge, kept on her home dose of levoxyl, TSH was rechecked and within nl range, home po rx Allopurinol was also continued, the following antibiotics were added: Levofloxacin 500mg by mouth every 48 hours for 7 days, Cefpodoxime 200mg by mouth once daily for 7 days, Tessalon Perels 100mg by mouth three times daily as needed for cough, Guiatuss 10ml by mouth every 4 hours as needed for cough, Loperamide 2mg by mouth every 6 hours as needed for diarrhea, Coumadin: Were taking 2mg by mouth in the pm, now take 1mg by mouth in the pm, and instructions, pt took Metolazone 2.5mg and Torsamide 40mg x1 which did. During her stay the patient remained in afib with good rate control on her bblocker, rx of betablocker, ASA, statin, was diuresed with IV Lasix in the ED, Metolazone 2.5mg and Torsamide 40mg x1, on 2/22 pt's weight increased to 72.9 kg from 70.6kg, restarted on her home rx of torsemide 20mg po bid, was roughly negative 1.3L, pt's daily weights decreased off diuretics, was found to be supertheraputic on her coumadin which was held throughout admission, PNA was initially treated with azithromycin but as her cough and o2 levels persisted, pt was begun on ceftaz and levo for gram pos coverage (levo) double gram neg coverage, and ceftaz changed to cefpodoxime 200mg po qd x 7 days, however pt had only been on azithromycin x 1 day, all stool studies were negative, presumed viral gastroenteritis</th>\n",
       "      <td>1242</td>\n",
       "    </tr>\n",
       "    <tr>\n",
       "      <th>This is a 46-year-old morbidly obese female with a history of insulin-dependent diabetes mellitus complicated by BKA on two prior occasions, who was admitted to the MICU with BKA, urosepsis, and a non-Q-wave MI. On presentation to the Emergency Department, her vital signs were notable for a blood pressure of 189/92, pulse rate of 120, respiratory rate of 20, and an O2 sat of 90%. She was given insulin, sublingual nitroglycerin x three, 4 mg of morphine, 5 mg of Lopressor, and started on a heparin drip and IV antibiotics, and admitted to the MICU for further management. Her past medical history included insulin-dependent diabetes mellitus for how many years, positive ethanol use, approximately one drink per week, and denied IV drug use or other illicit drug use. She was placed on an insulin drip and hydrated with intravenous fluids, with improvement, and eventually transitioned to NPH with insulin sliding scale coverage. Despite escalating her dose of NPH up to 65 U subcu b.i.d. on the day of discharge, she continued to have elevated blood sugars &gt;200 and required coverage with insulin sliding scale. This issue will need to be addressed as an outpatient. She was also placed on cefotaxime for gram negative coverage, with both her blood cultures and urine cultures growing out E. coli which were sensitive to cefotaxime and gentamycin. As she initially continued to be febrile and continued to have positive blood cultures, one dose of gentamycin was given for synergy, and she was eventually transitioned to p.o. levofloxacin and will take 7 days of p.o. levofloxacin to complete a total 14-day course of antibiotics for urosepsis. She was initially placed on aspirin, heparin, and a beta blocker, and once her creatinine normalized, an ACE inhibitor was also added. Heparin was discontinued once the concern for PE was alleviated, and her beta blocker and ACE inhibitor were titrated up for a goal systolic blood pressure of &lt;140 and a pulse of &lt;70. On admission, the patient was on several pain medicines, including amitriptyline, Flexeril, and Valium for reported history of sciatica and low back pain, which were discontinued and she was placed on Neurontin for likely diabetic neuropathy. She was also placed on GI prophylaxis with Carafate and treated symptomatically with Imodium p.r.n. diarrhea. The patient was discharged with enteric coated aspirin 325 mg p.o. q.d., NPH Humulin insulin 65 U subcu b.i.d., human insulin sliding scale: for blood sugars 151-200 give 4 U, for blood sugars 201-250 give 6 U, for blood sugars 251-300 give 8 U, for blood sugars 301-350 give 10 U, Imodium 2 mg p.o. q. 6 hrs. p.r.n. diarrhea, Niferex 150 mg p.o. b.i.d., nitroglycerin 1/150 one tab sublingual q. 5 min. x 3 p.r.n. chest pain, multivitamin one tab p.o. q.d., simvastatin 10 mg p.o. q.h.s., Neurontin 600 mg p.o. t.i.d., levofloxacin 500 mg p.o. q.d. x 5 days, Toprol XL 400 mg p.o. q.d., lisinopril 40 mg p.o. q.d. The patient was evaluated by the physical therapist, who noted her to walk around the hospital without significant difficulty.</th>\n",
       "      <td>1248</td>\n",
       "    </tr>\n",
       "    <tr>\n",
       "      <th>A 79-year-old male with history of non-insulin dependent diabetes, coronary artery disease, congestive heart failure, hypertension, chronic renal failure, and left toe amputation on 7/1/06 was admitted for debridement and antibiotics. An MRA on 10/3/06 demonstrated on the right a multifocal high-grade stenosis of the proximal, anterior tibial, the tibioperoneal trunk and the proximal, posterior tibial arteries and included peroneal artery at the midcalf, two-vessel runoff and on the left diffuse high-grade stenoses of the anterior tibial, posterior tibial arteries and occlusion of the peroneal artery in the dorsalis pedis. The patient presented with bleeding from the site of the left toe amputation beginning two weeks ago associated with throbbing pain, soreness, erythema and swelling and exacerbated blood pressure when walking and only treated by narcotics. Neuro and Psych: The patient has delirium postoperatively for which he was placed on soft restraints and received Zyprexa. Cardiac: Upon admission, potassium was noted to be elevated and the patient had EKG changes associated with hyperkalemia and received Aspirin, Lopressor, Norvasc, Zocor, Plavix, PhosLo, Prandin for coronary artery disease related event prophylaxis. Blood pressure was controlled with isosorbide dinitrate, Norvasc, lisinopril, and Lopressor. Pulmonary: No events. Maintained oxygen saturation greater than 90% on room air. Renal: Creatinine was stable in the mid 3s and trended down to 2.6 at the time of discharge below his baseline of 4-5. Voiding without difficulty at the time of discharge. Maintained on his renal medications. FEN/GI: Tolerated regular diet. Lactulose and Colace to prevent constipation while taking narcotics, also had Dulcolax p.r.n. Zinc and Vitamin C was started per the Nutrition consult. Hematology: He received heparin for DVT prophylaxis. His hematocrit remained stable. He had some oozing from the right thigh but this resolved with a pressure dressing. ID: He was treated throughout his hospitalization with vancomycin, levofloxacin and Flagyl for methicillin-resistant Staphylococcus aureus that grew from the wound after the first and second irrigation and debridement. The levofloxacin and Flagyl were discontinued prior to discharge. He will continue his vancomycin at the time of discharge. Endocrine: Diabetes controlled. He was maintained on his Prandin and insulin sliding scale for glycemic control. He also received Vitamin D, Calcitriol, Nephrocaps, Epogen, and Aranesp. His incision remained clean, dry and intact without erythema or exudate. He was afebrile with stable signs at the time of discharge. ACTIVITY INSTRUCTIONS: He is nonweightbearing on the left lower extremity to protect the open toe. COMPLICATIONS: None. DISCHARGE LABS: Laboratory tests at the time of discharge include sodium 138, potassium 4.1, chloride 111, bicarbonate 21, BUN 35, creatinine 2.6, calcium 9.0, magnesium 1.9, vancomycin 19.5, white blood cell count 7.3, hemoglobin 9.9, hematocrit 30.2, platelets 221. DISCHARGE MEDICATIONS: His medications at discharge include aspirin 325 mg p.o. daily, vitamin C 500 mg p.o. b.i.d., calcitriol 0.5 mcg p.o. daily, Colace 100 mg p.o. daily, heparin 5000 units subcutaneous t.i.d., isosorbide dinitrate 10 mg p.o. t.i.d., lactulose 30 mL p.o. t.i.d., lisinopril 50 mg p.o. daily, Lopressor 50 mg p.o. q.6h., Prandin 0.5 mg p.o. with each meal, Aranesp 40 mcg subcutaneous every week, sliding scale insulin, insulin aspart 4 units, Tylenol p.r.n., Dilaudid 2-4 mg p.o. q.4h. as needed for pain, milk of magnesia as needed for constipation, Reglan for nausea, oxycodone for pain 5-10 mg p.o. q.4h. hours</th>\n",
       "      <td>1252</td>\n",
       "    </tr>\n",
       "    <tr>\n",
       "      <th>Ms. Dozois is a 64-year-old female admitted to MICU on 2/19/2005 for neutropenia, nausea, vomiting, abdominal pain, and shortness of breath, requiring intubation and pressors. Her medical problems included severe COPD (on home O2 2 liters baseline sat below 90s), nonsmall cell lung cancer (diagnosed in 1999, status post multiple chemotherapy regimens, most recently ALIMTA from 1/29/2005 to 09), diabetes, obesity, and chronic renal insufficiency. Her MEDICATIONS ON ADMISSION included Avapro, Lipitor, Decadron, ranitidine, Humalog, allopurinol, Alimta, Flonase, Vitamin D, B12, and Colace. She was initially treated with vancomycin, Levaquin, and aztreonam along with Flagyl empirically, and later changed to Levaquin only on 10/25/2005 to treat an enterococcal UTI and possible nosocomial pneumonia. She had thrombocytopenia and required multiple red blood transfusions to maintain her hematocrit greater than 26, though she was never hemodynamically unstable. She also required multiple platelet transfusions to keep her platelets greater than 30,000. She responded well initially to three units of packed red blood cells over 7/28/2005 and 09. However, in the setting of her GI bleed from a sloughing mucosa secondary to resolving neutropenic enteritis and recent chemo, she required multiple further RBC transfusions to keep her hematocrit greater than 30. Hematology was consulted secondary to suboptimal busted platelet levels status post transfusions, which was felt to be secondary to poor marrow response in the setting of recent chemo (workup was negative for other possible causes refractory thrombocytopenia, nystatin, allopurinol, were held given possible worsening of her thrombocytopenia). Surgery was consulted and she was managed conservatively with antibiotics initially and then with bowel rest. TPN was started on 4/21/2005, given her bowel rest for a neutropenic enteritis. She was changed to standing insulin on 10/25/2005 and her Lantus was up titrated along with sliding scale insulin to maintain blood sugars in the 80s to 120s. She is no longer neutropenic and was off Neupogen for one week and will stay and finish the 14-day course of Levaquin for coverage. On discharge her hematocrit and platelets were stable respectively at 29.8 and 46,000 and she had not required a transfusion in greater than 24 hours prior to discharge. Her DISCHARGE MEDICATIONS included Tylenol 650 to 1000 mg PO q. 6h PRN pain, headache, if fever is greater than 101, Peridex mouth wash 10 mL twice a day, nystatin mouth wash 10 mL swish and swallow 4 x day as needed, oxycodone 5 mg PO q. 6h PRN pain, simethicone 80 mg PO q.i.d. PRN gaseousness, trazodone 25 mg PO at bedtime, miconazole nitrate 2% powder topical BID to areas between skin folds including under the right breast, Nexium 20 mg PO daily, Lantus 30 mg subcutaneous daily, DuoNeb 3/0.5 mg Nebs q. 3 h. PRN shortness of breath, aspart 4 units before each meal subcutaneously, folate 3 mg PO daily, Avapro 150 mg PO daily, meclizine 25 mg PO TID, Combivent 2 puffs inhaled q.i.d., Vitamin D 125 0.25 mcg PO daily. She will follow up with infectious disease and hematology for her neutropenia, which has since resolved, and will stay and finish the 14-day course of Levaquin for UTI coverage.</th>\n",
       "      <td>1296</td>\n",
       "    </tr>\n",
       "  </tbody>\n",
       "</table>\n",
       "<p>253 rows × 1 columns</p>\n",
       "</div>"
      ],
      "text/plain": [
       "                                                    question\n",
       "context                                                     \n",
       "Ms. Kolppa was a 58-year-old woman with a histo...        39\n",
       "A 26-year-old male with a history of hypertensi...        54\n",
       "This 63-year-old female patient presented with ...        79\n",
       "The patient is a 60 year old black female prese...        80\n",
       "The patient is a 40 year old female with a hist...        97\n",
       "...                                                      ...\n",
       "Dion Scarberry (926-57-39-3) was admitted on 9/...      1230\n",
       "Ms. Watterson, a 75 year old female with a hist...      1242\n",
       "This is a 46-year-old morbidly obese female wit...      1248\n",
       "A 79-year-old male with history of non-insulin ...      1252\n",
       "Ms. Dozois is a 64-year-old female admitted to ...      1296\n",
       "\n",
       "[253 rows x 1 columns]"
      ]
     },
     "execution_count": 13,
     "metadata": {},
     "output_type": "execute_result"
    }
   ],
   "source": [
    "dropped.groupby(\"context\").count().sort_values(\"question\", ascending=True)"
   ]
  },
  {
   "cell_type": "markdown",
   "metadata": {},
   "source": [
    "Lets look at one note-excerpt + the questions related to it"
   ]
  },
  {
   "cell_type": "code",
   "execution_count": 14,
   "metadata": {
    "tags": []
   },
   "outputs": [],
   "source": [
    "context = \"A 26-year-old male with a history of hypertension, obesity, and sleep apnea who was in a nursing home until two days prior to admission presented with shortness of breath. He also reported palpitations, cough with sputum, and right leg pain. His vital signs were temperature 101.2, pulse 110, blood pressure 128/72, and oxygen saturation 95% on room air and 98% while ambulating. Examination revealed dry mucous membranes, decreased breath sounds at the right lower base without wheezing, tachycardia, regular rhythm, and non-tender abdomen with no edema in the right calf. Labs showed a WBC of 14, MCV of 70, HCT of 47, and BNP of 2. The EKG was sinus tachycardia with T wave inversion in III and unchanged from prior. CXR was normal. The diagnosis was likely viral upper respiratory infection and the patient was given IBUPROFEN 600-800 MG PO TID PRN Pain for pain control. A lower extremity ultrasound of the right leg was negative for deep venous thrombus. The patient was discharged on 3/26/05 at 2:00 PM with instructions to resume regular exercise and follow up with his primary care doctor on October 25th. He was also advised to elevate his leg and use IBUPROFEN 600-800 MG PO TID PRN Pain as needed for pain control.\""
   ]
  },
  {
   "cell_type": "code",
   "execution_count": 15,
   "metadata": {
    "collapsed": false,
    "jupyter": {
     "outputs_hidden": false
    },
    "tags": []
   },
   "outputs": [],
   "source": [
    "selected_rows = train_data[train_data[\"context\"] == context]"
   ]
  },
  {
   "cell_type": "code",
   "execution_count": 16,
   "metadata": {
    "tags": []
   },
   "outputs": [
    {
     "data": {
      "text/plain": [
       "'A 26-year-old male with a history of hypertension, obesity, and sleep apnea who was in a nursing home until two days prior to admission presented with shortness of breath. He also reported palpitations, cough with sputum, and right leg pain. His vital signs were temperature 101.2, pulse 110, blood pressure 128/72, and oxygen saturation 95% on room air and 98% while ambulating. Examination revealed dry mucous membranes, decreased breath sounds at the right lower base without wheezing, tachycardia, regular rhythm, and non-tender abdomen with no edema in the right calf. Labs showed a WBC of 14, MCV of 70, HCT of 47, and BNP of 2. The EKG was sinus tachycardia with T wave inversion in III and unchanged from prior. CXR was normal. The diagnosis was likely viral upper respiratory infection and the patient was given IBUPROFEN 600-800 MG PO TID PRN Pain for pain control. A lower extremity ultrasound of the right leg was negative for deep venous thrombus. The patient was discharged on 3/26/05 at 2:00 PM with instructions to resume regular exercise and follow up with his primary care doctor on October 25th. He was also advised to elevate his leg and use IBUPROFEN 600-800 MG PO TID PRN Pain as needed for pain control.'"
      ]
     },
     "execution_count": 16,
     "metadata": {},
     "output_type": "execute_result"
    }
   ],
   "source": [
    "context"
   ]
  },
  {
   "cell_type": "code",
   "execution_count": 17,
   "metadata": {
    "tags": []
   },
   "outputs": [
    {
     "name": "stdout",
     "output_type": "stream",
     "text": [
      "Questions related to this excerpt: 57\n"
     ]
    }
   ],
   "source": [
    "print(f\"Questions related to this excerpt: {len(selected_rows)}\")"
   ]
  },
  {
   "cell_type": "code",
   "execution_count": 18,
   "metadata": {
    "tags": []
   },
   "outputs": [
    {
     "name": "stdout",
     "output_type": "stream",
     "text": [
      "Q: Why was the patient prescribed ibuprofen\n",
      "A: {'answer_end': array([875]), 'answer_start': array([821]), 'text': array(['IBUPROFEN 600-800 MG PO TID PRN Pain for pain control.'],\n",
      "      dtype=object)}\n",
      "------------------\n",
      "Q: Has the patient had previous ibuprofen\n",
      "A: {'answer_end': array([875]), 'answer_start': array([821]), 'text': array(['IBUPROFEN 600-800 MG PO TID PRN Pain for pain control.'],\n",
      "      dtype=object)}\n",
      "------------------\n",
      "Q: Has the patient ever tried ibuprofen\n",
      "A: {'answer_end': array([875]), 'answer_start': array([821]), 'text': array(['IBUPROFEN 600-800 MG PO TID PRN Pain for pain control.'],\n",
      "      dtype=object)}\n",
      "------------------\n",
      "Q: What pain meds has vet tried in past\n",
      "A: {'answer_end': array([875]), 'answer_start': array([821]), 'text': array(['IBUPROFEN 600-800 MG PO TID PRN Pain for pain control.'],\n",
      "      dtype=object)}\n",
      "------------------\n",
      "Q: How often does the patient take ibuprofen\n",
      "A: {'answer_end': array([875]), 'answer_start': array([821]), 'text': array(['IBUPROFEN 600-800 MG PO TID PRN Pain for pain control.'],\n",
      "      dtype=object)}\n",
      "------------------\n",
      "Q: What medications, if any, has the patient tried for pain in the past\n",
      "A: {'answer_end': array([875]), 'answer_start': array([821]), 'text': array(['IBUPROFEN 600-800 MG PO TID PRN Pain for pain control.'],\n",
      "      dtype=object)}\n",
      "------------------\n",
      "Q: Previous ibuprofen\n",
      "A: {'answer_end': array([875]), 'answer_start': array([821]), 'text': array(['IBUPROFEN 600-800 MG PO TID PRN Pain for pain control.'],\n",
      "      dtype=object)}\n",
      "------------------\n"
     ]
    }
   ],
   "source": [
    "upper_bound = 5\n",
    "for i, item in enumerate(selected_rows.iterrows()):\n",
    "    print(f\"Q: {item[1].question}\")\n",
    "    print(f\"A: {item[1].answers}\")\n",
    "    print(\"------------------\")\n",
    "    if i > upper_bound:\n",
    "        break"
   ]
  },
  {
   "cell_type": "markdown",
   "metadata": {},
   "source": [
    "# Transformation"
   ]
  },
  {
   "cell_type": "code",
   "execution_count": 19,
   "metadata": {
    "tags": []
   },
   "outputs": [
    {
     "data": {
      "application/vnd.jupyter.widget-view+json": {
       "model_id": "8c48185ceb184420b9ad80ad59888085",
       "version_major": 2,
       "version_minor": 0
      },
      "text/plain": [
       "  0%|          | 0/130956 [00:00<?, ?it/s]"
      ]
     },
     "metadata": {},
     "output_type": "display_data"
    },
    {
     "data": {
      "application/vnd.jupyter.widget-view+json": {
       "model_id": "0cc212112c214f608c0778787232cad4",
       "version_major": 2,
       "version_minor": 0
      },
      "text/plain": [
       "  0%|          | 0/32739 [00:00<?, ?it/s]"
      ]
     },
     "metadata": {},
     "output_type": "display_data"
    }
   ],
   "source": [
    "train_data = util.transform_dataset_emrqa(train_data)\n",
    "test_data = util.transform_dataset_emrqa(test_data)"
   ]
  },
  {
   "cell_type": "code",
   "execution_count": 20,
   "metadata": {
    "tags": []
   },
   "outputs": [
    {
     "data": {
      "text/html": [
       "<div>\n",
       "<style scoped>\n",
       "    .dataframe tbody tr th:only-of-type {\n",
       "        vertical-align: middle;\n",
       "    }\n",
       "\n",
       "    .dataframe tbody tr th {\n",
       "        vertical-align: top;\n",
       "    }\n",
       "\n",
       "    .dataframe thead th {\n",
       "        text-align: right;\n",
       "    }\n",
       "</style>\n",
       "<table border=\"1\" class=\"dataframe\">\n",
       "  <thead>\n",
       "    <tr style=\"text-align: right;\">\n",
       "      <th></th>\n",
       "      <th>question</th>\n",
       "      <th>context</th>\n",
       "      <th>target_sentence</th>\n",
       "      <th>target_index</th>\n",
       "      <th>label</th>\n",
       "    </tr>\n",
       "  </thead>\n",
       "  <tbody>\n",
       "    <tr>\n",
       "      <th>0</th>\n",
       "      <td>What is her current dose of lasix ( furosemide )</td>\n",
       "      <td>The patient was admitted on 5/5/2006 with a hi...</td>\n",
       "      <td>The patient was admitted on 5/5/2006 with a hi...</td>\n",
       "      <td>0</td>\n",
       "      <td>0</td>\n",
       "    </tr>\n",
       "    <tr>\n",
       "      <th>1</th>\n",
       "      <td>What is her current dose of lasix ( furosemide )</td>\n",
       "      <td>The patient was admitted on 5/5/2006 with a hi...</td>\n",
       "      <td>Medications on Admission included Amiodarone 1...</td>\n",
       "      <td>1</td>\n",
       "      <td>0</td>\n",
       "    </tr>\n",
       "    <tr>\n",
       "      <th>2</th>\n",
       "      <td>What is her current dose of lasix ( furosemide )</td>\n",
       "      <td>The patient was admitted on 5/5/2006 with a hi...</td>\n",
       "      <td>An override was added on 10/2/06 by Gerad E. D...</td>\n",
       "      <td>2</td>\n",
       "      <td>0</td>\n",
       "    </tr>\n",
       "    <tr>\n",
       "      <th>3</th>\n",
       "      <td>What is her current dose of lasix ( furosemide )</td>\n",
       "      <td>The patient was admitted on 5/5/2006 with a hi...</td>\n",
       "      <td>The patient was rehydrated with IVF and PO's w...</td>\n",
       "      <td>3</td>\n",
       "      <td>0</td>\n",
       "    </tr>\n",
       "    <tr>\n",
       "      <th>4</th>\n",
       "      <td>What is her current dose of lasix ( furosemide )</td>\n",
       "      <td>The patient was admitted on 5/5/2006 with a hi...</td>\n",
       "      <td>Pain was controlled with TYLENOL (ACETAMINOPHE...</td>\n",
       "      <td>4</td>\n",
       "      <td>0</td>\n",
       "    </tr>\n",
       "  </tbody>\n",
       "</table>\n",
       "</div>"
      ],
      "text/plain": [
       "                                           question  \\\n",
       "0  What is her current dose of lasix ( furosemide )   \n",
       "1  What is her current dose of lasix ( furosemide )   \n",
       "2  What is her current dose of lasix ( furosemide )   \n",
       "3  What is her current dose of lasix ( furosemide )   \n",
       "4  What is her current dose of lasix ( furosemide )   \n",
       "\n",
       "                                             context  \\\n",
       "0  The patient was admitted on 5/5/2006 with a hi...   \n",
       "1  The patient was admitted on 5/5/2006 with a hi...   \n",
       "2  The patient was admitted on 5/5/2006 with a hi...   \n",
       "3  The patient was admitted on 5/5/2006 with a hi...   \n",
       "4  The patient was admitted on 5/5/2006 with a hi...   \n",
       "\n",
       "                                     target_sentence  target_index  label  \n",
       "0  The patient was admitted on 5/5/2006 with a hi...             0      0  \n",
       "1  Medications on Admission included Amiodarone 1...             1      0  \n",
       "2  An override was added on 10/2/06 by Gerad E. D...             2      0  \n",
       "3  The patient was rehydrated with IVF and PO's w...             3      0  \n",
       "4  Pain was controlled with TYLENOL (ACETAMINOPHE...             4      0  "
      ]
     },
     "execution_count": 20,
     "metadata": {},
     "output_type": "execute_result"
    }
   ],
   "source": [
    "train_data.head()"
   ]
  },
  {
   "cell_type": "code",
   "execution_count": 21,
   "metadata": {
    "tags": []
   },
   "outputs": [],
   "source": [
    "row = train_data.iloc[0]"
   ]
  },
  {
   "cell_type": "code",
   "execution_count": 22,
   "metadata": {
    "tags": []
   },
   "outputs": [
    {
     "data": {
      "text/plain": [
       "'What is her current dose of lasix ( furosemide )'"
      ]
     },
     "execution_count": 22,
     "metadata": {},
     "output_type": "execute_result"
    }
   ],
   "source": [
    "row.question"
   ]
  },
  {
   "cell_type": "code",
   "execution_count": 23,
   "metadata": {
    "tags": []
   },
   "outputs": [
    {
     "data": {
      "text/plain": [
       "\"The patient was admitted on 5/5/2006 with a history of mechanical fall, with the attending physician being Dr. Clemente Armand Bolstad, with a full code status and disposition of Rehabilitation. Medications on Admission included Amiodarone 100 QD, Colace 100 bid, lasix 40mg QD, Glyburide 5mg bid, Plaquenil 200mg bid, Isordil 20mg tid, Lisinopril 20mg QD, Coumadin 5mg 3dys/week, 2.5mg 4dys/week, Norvasc 10mg QD, Neurontin 300mg TID, with APAP prn. An override was added on 10/2/06 by Gerad E. Dancy, PA for POTENTIALLY SERIOUS INTERACTION: AMIODARONE HCL & WARFARIN with the reason for override being monitoring. The patient was rehydrated with IVF and PO's were encouraged, holding Glypizide while in house, Novolog sliding scale was started on 1/2, Low dose NPH 6 units BID was started on 1/2, bridged with lovenox and INR therapeutic 1/2 and restarted on home regimen of 5/2.5mg variable dose. Pain was controlled with TYLENOL (ACETAMINOPHEN) 650 MG PO Q4H PRN Pain, Headache. A CT pelvis showed a right adnexal cyst which will need further characterization by US and outpatient follow up. The patient has an extensive cardiac history and the fall is not likely related to a cardiac issue as it appears mechanical, with no syncope, chest pain, etc. She was diagnosed with an NSTEMI with a small TnI leak, likely demand related in the setting of hypovolemia and the fall. Enzymes trended down. She was dry on admission and rehydrated with IVF, PO's encouraged, and became euvolemic by 1/2. Her JVP was up to 12cm, although it was difficult to gauge her volume status due to TR. She had a prolonged QT on admission, on telemetry, of unclear etiology, possibly starvation. This was monitored on telemetry until ROMI and drugs that confound were avoided. The QTc resolved to low 500s and a DDD pacer was functioning with V-pacing at 60bpm. Additional medications included NATURAL TEARS (ARTIFICIAL TEARS) 2 DROP OU BID, COLACE (DOCUSATE SODIUM) 100 MG PO BID, PLAQUENIL SULFATE (HYDROXYCHLOROQUINE) 200 MG PO BID, ISORDIL (ISOSORBIDE DINITRATE) 20 MG PO TID, LISINOPRIL 20 MG PO DAILY HOLD IF: SBP <110, MILK OF MAGNESIA (MAGNESIUM HYDROXIDE) 30 MILLILITERS PO DAILY PRN Constipation, COUMADIN (WARFARIN SODIUM) 2.5 MG PO QPM, NORVASC (AMLODIPINE) 10 MG PO DAILY HOLD IF: SBP <110, NEURONTIN (GABAPENTIN) 300 MG PO TID, NEXIUM (ESOMEPRAZOLE) 20 MG PO DAILY, MAALOX-TABLETS QUICK DISSOLVE/CHEWABLE 1-2 TAB PO Q6H PRN Upset Stomach, DULCOLAX RECTAL (BISACODYL RECTAL) 10 MG PR DAILY PRN Constipation, CLOTRIMAZOLE 1% TOPICAL TOPICAL TP BID, GLYBURIDE 5 MG PO BID, LASIX (FUROSEMIDE) 20 MG PO DAILY, and corrected pt restarted on lasix 20 qd on d/c. A PT consult was obtained 3/21 and to follow daily at rehab. Labs showed Na 146, CK 3320, CKMB 12.9, Trop 0.23--->0.10, AST 107, Cr 1.2-->1.6. Pain was controlled with TYLENOL (ACETAMINOPHEN) 650 MG PO Q4H PRN Pain, Headache, rehydrated with IVF, po's encouraged, holding Glypizide while in house, Novolog sliding scale was started on 1/2, Low dose NPH 6 units BID was started on 1/2, bridged with lovenox and INR therapeutic 1/2 and restarted on home regimen of 5/2.5mg variable\""
      ]
     },
     "execution_count": 23,
     "metadata": {},
     "output_type": "execute_result"
    }
   ],
   "source": [
    "row.context"
   ]
  },
  {
   "cell_type": "code",
   "execution_count": 24,
   "metadata": {
    "tags": []
   },
   "outputs": [
    {
     "data": {
      "text/plain": [
       "0"
      ]
     },
     "execution_count": 24,
     "metadata": {},
     "output_type": "execute_result"
    }
   ],
   "source": [
    "int(row.target_index)"
   ]
  },
  {
   "cell_type": "code",
   "execution_count": 25,
   "metadata": {
    "tags": []
   },
   "outputs": [
    {
     "data": {
      "text/plain": [
       "'The patient was admitted on 5/5/2006 with a history of mechanical fall, with the attending physician being Dr. Clemente Armand Bolstad, with a full code status and disposition of Rehabilitation.'"
      ]
     },
     "execution_count": 25,
     "metadata": {},
     "output_type": "execute_result"
    }
   ],
   "source": [
    "row.target_sentence"
   ]
  },
  {
   "cell_type": "markdown",
   "metadata": {},
   "source": [
    "# Further Exploration"
   ]
  },
  {
   "cell_type": "code",
   "execution_count": 26,
   "metadata": {
    "tags": []
   },
   "outputs": [
    {
     "name": "stdout",
     "output_type": "stream",
     "text": [
      "Number of samples: 2285795\n"
     ]
    }
   ],
   "source": [
    "print(f\"Number of samples: {len(train_data)}\")"
   ]
  },
  {
   "cell_type": "markdown",
   "metadata": {
    "tags": []
   },
   "source": [
    "## Class balance"
   ]
  },
  {
   "cell_type": "code",
   "execution_count": 27,
   "metadata": {
    "tags": []
   },
   "outputs": [],
   "source": [
    "label_counts = train_data['label'].value_counts(normalize=True).sort_index()"
   ]
  },
  {
   "cell_type": "code",
   "execution_count": 28,
   "metadata": {
    "tags": []
   },
   "outputs": [
    {
     "data": {
      "image/png": "[encoded data removed]",
      "text/plain": [
       "<Figure size 640x480 with 1 Axes>"
      ]
     },
     "metadata": {},
     "output_type": "display_data"
    },
    {
     "name": "stdout",
     "output_type": "stream",
     "text": [
      "Label counts:\n",
      " label\n",
      "0    0.952057\n",
      "1    0.047943\n",
      "Name: proportion, dtype: float64\n"
     ]
    }
   ],
   "source": [
    "label_names = [\"Not Relevant\", \"Relevant\"]\n",
    "\n",
    "sns.barplot(x=label_names, y=label_counts.values)\n",
    "plt.title(\"Label Distribution in Training Data\")\n",
    "plt.ylabel(\"Count\")\n",
    "plt.show()\n",
    "\n",
    "print(\"Label counts:\\n\", label_counts)"
   ]
  },
  {
   "cell_type": "markdown",
   "metadata": {},
   "source": [
    "Most of the data is label = 0 (irrelevant) → **classic class imbalance**\n",
    "\n",
    "**For later (options):**\n",
    "- Class weighting in loss functio\n",
    "- Undersampling negatives during training"
   ]
  },
  {
   "cell_type": "markdown",
   "metadata": {},
   "source": [
    "## Sentence Length Distribution"
   ]
  },
  {
   "cell_type": "markdown",
   "metadata": {},
   "source": [
    "typical size of input sentences (in tokens/words)"
   ]
  },
  {
   "cell_type": "code",
   "execution_count": 29,
   "metadata": {
    "tags": []
   },
   "outputs": [
    {
     "data": {
      "image/png": "[encoded data removed]",
      "text/plain": [
       "<Figure size 640x480 with 1 Axes>"
      ]
     },
     "metadata": {},
     "output_type": "display_data"
    }
   ],
   "source": [
    "train_data['sent_len'] = train_data['target_sentence'].str.split().apply(len)\n",
    "train_data['sent_len'].hist(bins=50)\n",
    "train_data = train_data.drop('sent_len', axis=1).reset_index(drop=True)"
   ]
  },
  {
   "cell_type": "markdown",
   "metadata": {},
   "source": [
    "## Relevant Sentences per Question"
   ]
  },
  {
   "cell_type": "code",
   "execution_count": 30,
   "metadata": {
    "tags": []
   },
   "outputs": [
    {
     "data": {
      "text/plain": [
       "count    50727.000000\n",
       "mean         2.160349\n",
       "std          4.283482\n",
       "min          0.000000\n",
       "25%          1.000000\n",
       "50%          1.000000\n",
       "75%          2.000000\n",
       "max        177.000000\n",
       "Name: label, dtype: float64"
      ]
     },
     "execution_count": 30,
     "metadata": {},
     "output_type": "execute_result"
    }
   ],
   "source": [
    "train_data.groupby('question')['label'].sum().describe()"
   ]
  },
  {
   "cell_type": "markdown",
   "metadata": {},
   "source": [
    "Most questions are answered by just 1–2 sentences -> aligns well with **ArchEHR-QA**"
   ]
  },
  {
   "cell_type": "markdown",
   "metadata": {},
   "source": [
    "## Duplicate Sentence Check"
   ]
  },
  {
   "cell_type": "code",
   "execution_count": 31,
   "metadata": {
    "tags": []
   },
   "outputs": [
    {
     "name": "stdout",
     "output_type": "stream",
     "text": [
      "Percentage of duplicates: 32827.0\n"
     ]
    }
   ],
   "source": [
    "print(f\"Percentage of duplicates: {int(train_data.duplicated().sum()) / len(data)}\")"
   ]
  },
  {
   "cell_type": "markdown",
   "metadata": {},
   "source": [
    "Not to many dupliactes but we still going to **remove them** since we are somehow prone to overfitting with the model on the PubMED dataset"
   ]
  },
  {
   "cell_type": "code",
   "execution_count": 32,
   "metadata": {
    "tags": []
   },
   "outputs": [],
   "source": [
    "train_data = train_data.drop_duplicates().reset_index(drop=True)\n",
    "test_data = test_data.drop_duplicates().reset_index(drop=True)"
   ]
  },
  {
   "cell_type": "code",
   "execution_count": 33,
   "metadata": {
    "tags": []
   },
   "outputs": [
    {
     "name": "stdout",
     "output_type": "stream",
     "text": [
      "Number of samples in train (final): 2220141\n",
      "Number of samples in test (final): 570608\n"
     ]
    }
   ],
   "source": [
    "print(f\"Number of samples in train (final): {len(train_data)}\")\n",
    "print(f\"Number of samples in test (final): {len(test_data)}\")"
   ]
  },
  {
   "cell_type": "code",
   "execution_count": 34,
   "metadata": {
    "tags": []
   },
   "outputs": [
    {
     "data": {
      "text/html": [
       "<div>\n",
       "<style scoped>\n",
       "    .dataframe tbody tr th:only-of-type {\n",
       "        vertical-align: middle;\n",
       "    }\n",
       "\n",
       "    .dataframe tbody tr th {\n",
       "        vertical-align: top;\n",
       "    }\n",
       "\n",
       "    .dataframe thead th {\n",
       "        text-align: right;\n",
       "    }\n",
       "</style>\n",
       "<table border=\"1\" class=\"dataframe\">\n",
       "  <thead>\n",
       "    <tr style=\"text-align: right;\">\n",
       "      <th></th>\n",
       "      <th>question</th>\n",
       "      <th>context</th>\n",
       "      <th>target_sentence</th>\n",
       "      <th>target_index</th>\n",
       "      <th>label</th>\n",
       "    </tr>\n",
       "  </thead>\n",
       "  <tbody>\n",
       "    <tr>\n",
       "      <th>0</th>\n",
       "      <td>What is her current dose of lasix ( furosemide )</td>\n",
       "      <td>The patient was admitted on 5/5/2006 with a hi...</td>\n",
       "      <td>The patient was admitted on 5/5/2006 with a hi...</td>\n",
       "      <td>0</td>\n",
       "      <td>0</td>\n",
       "    </tr>\n",
       "    <tr>\n",
       "      <th>1</th>\n",
       "      <td>What is her current dose of lasix ( furosemide )</td>\n",
       "      <td>The patient was admitted on 5/5/2006 with a hi...</td>\n",
       "      <td>Medications on Admission included Amiodarone 1...</td>\n",
       "      <td>1</td>\n",
       "      <td>0</td>\n",
       "    </tr>\n",
       "    <tr>\n",
       "      <th>2</th>\n",
       "      <td>What is her current dose of lasix ( furosemide )</td>\n",
       "      <td>The patient was admitted on 5/5/2006 with a hi...</td>\n",
       "      <td>An override was added on 10/2/06 by Gerad E. D...</td>\n",
       "      <td>2</td>\n",
       "      <td>0</td>\n",
       "    </tr>\n",
       "    <tr>\n",
       "      <th>3</th>\n",
       "      <td>What is her current dose of lasix ( furosemide )</td>\n",
       "      <td>The patient was admitted on 5/5/2006 with a hi...</td>\n",
       "      <td>The patient was rehydrated with IVF and PO's w...</td>\n",
       "      <td>3</td>\n",
       "      <td>0</td>\n",
       "    </tr>\n",
       "    <tr>\n",
       "      <th>4</th>\n",
       "      <td>What is her current dose of lasix ( furosemide )</td>\n",
       "      <td>The patient was admitted on 5/5/2006 with a hi...</td>\n",
       "      <td>Pain was controlled with TYLENOL (ACETAMINOPHE...</td>\n",
       "      <td>4</td>\n",
       "      <td>0</td>\n",
       "    </tr>\n",
       "  </tbody>\n",
       "</table>\n",
       "</div>"
      ],
      "text/plain": [
       "                                           question  \\\n",
       "0  What is her current dose of lasix ( furosemide )   \n",
       "1  What is her current dose of lasix ( furosemide )   \n",
       "2  What is her current dose of lasix ( furosemide )   \n",
       "3  What is her current dose of lasix ( furosemide )   \n",
       "4  What is her current dose of lasix ( furosemide )   \n",
       "\n",
       "                                             context  \\\n",
       "0  The patient was admitted on 5/5/2006 with a hi...   \n",
       "1  The patient was admitted on 5/5/2006 with a hi...   \n",
       "2  The patient was admitted on 5/5/2006 with a hi...   \n",
       "3  The patient was admitted on 5/5/2006 with a hi...   \n",
       "4  The patient was admitted on 5/5/2006 with a hi...   \n",
       "\n",
       "                                     target_sentence  target_index  label  \n",
       "0  The patient was admitted on 5/5/2006 with a hi...             0      0  \n",
       "1  Medications on Admission included Amiodarone 1...             1      0  \n",
       "2  An override was added on 10/2/06 by Gerad E. D...             2      0  \n",
       "3  The patient was rehydrated with IVF and PO's w...             3      0  \n",
       "4  Pain was controlled with TYLENOL (ACETAMINOPHE...             4      0  "
      ]
     },
     "execution_count": 34,
     "metadata": {},
     "output_type": "execute_result"
    }
   ],
   "source": [
    "train_data.head()"
   ]
  },
  {
   "cell_type": "markdown",
   "metadata": {},
   "source": [
    "# Preprocessing"
   ]
  },
  {
   "cell_type": "code",
   "execution_count": 35,
   "metadata": {
    "collapsed": false,
    "jupyter": {
     "outputs_hidden": false
    },
    "tags": []
   },
   "outputs": [
    {
     "data": {
      "text/plain": [
       "question           object\n",
       "context            object\n",
       "target_sentence    object\n",
       "target_index        int64\n",
       "label               int64\n",
       "dtype: object"
      ]
     },
     "execution_count": 35,
     "metadata": {},
     "output_type": "execute_result"
    }
   ],
   "source": [
    "train_data.dtypes"
   ]
  },
  {
   "cell_type": "code",
   "execution_count": 36,
   "metadata": {
    "tags": []
   },
   "outputs": [],
   "source": [
    "text_column_names = (\"question\", \"target_sentence\", \"context\")"
   ]
  },
  {
   "cell_type": "code",
   "execution_count": 37,
   "metadata": {
    "tags": []
   },
   "outputs": [],
   "source": [
    "train_data = util.clean_text_df(train_data, text_column_names)\n",
    "test_data = util.clean_text_df(test_data, text_column_names)"
   ]
  },
  {
   "cell_type": "markdown",
   "metadata": {},
   "source": [
    "Check for potential missing values"
   ]
  },
  {
   "cell_type": "code",
   "execution_count": 38,
   "metadata": {
    "tags": []
   },
   "outputs": [
    {
     "name": "stdout",
     "output_type": "stream",
     "text": [
      "---- Train Set ----\n",
      "question           0\n",
      "context            0\n",
      "target_sentence    0\n",
      "target_index       0\n",
      "label              0\n",
      "dtype: int64\n",
      "---- Test Set ----\n",
      "question           0\n",
      "context            0\n",
      "target_sentence    0\n",
      "target_index       0\n",
      "label              0\n",
      "dtype: int64\n"
     ]
    }
   ],
   "source": [
    "print(\"---- Train Set ----\")\n",
    "print(train_data.isnull().sum())\n",
    "print(\"---- Test Set ----\")\n",
    "print(test_data.isnull().sum())"
   ]
  },
  {
   "cell_type": "code",
   "execution_count": 39,
   "metadata": {
    "collapsed": false,
    "jupyter": {
     "outputs_hidden": false
    },
    "tags": []
   },
   "outputs": [
    {
     "data": {
      "text/html": [
       "<div>\n",
       "<style scoped>\n",
       "    .dataframe tbody tr th:only-of-type {\n",
       "        vertical-align: middle;\n",
       "    }\n",
       "\n",
       "    .dataframe tbody tr th {\n",
       "        vertical-align: top;\n",
       "    }\n",
       "\n",
       "    .dataframe thead th {\n",
       "        text-align: right;\n",
       "    }\n",
       "</style>\n",
       "<table border=\"1\" class=\"dataframe\">\n",
       "  <thead>\n",
       "    <tr style=\"text-align: right;\">\n",
       "      <th></th>\n",
       "      <th>question</th>\n",
       "      <th>context</th>\n",
       "      <th>target_sentence</th>\n",
       "      <th>target_index</th>\n",
       "      <th>label</th>\n",
       "    </tr>\n",
       "  </thead>\n",
       "  <tbody>\n",
       "    <tr>\n",
       "      <th>0</th>\n",
       "      <td>what is her current dose of lasix  furosemide</td>\n",
       "      <td>the patient was admitted on 552006 with a hist...</td>\n",
       "      <td>the patient was admitted on 552006 with a hist...</td>\n",
       "      <td>0</td>\n",
       "      <td>0</td>\n",
       "    </tr>\n",
       "    <tr>\n",
       "      <th>1</th>\n",
       "      <td>what is her current dose of lasix  furosemide</td>\n",
       "      <td>the patient was admitted on 552006 with a hist...</td>\n",
       "      <td>medications on admission included amiodarone 1...</td>\n",
       "      <td>1</td>\n",
       "      <td>0</td>\n",
       "    </tr>\n",
       "    <tr>\n",
       "      <th>2</th>\n",
       "      <td>what is her current dose of lasix  furosemide</td>\n",
       "      <td>the patient was admitted on 552006 with a hist...</td>\n",
       "      <td>an override was added on 10206 by gerad e danc...</td>\n",
       "      <td>2</td>\n",
       "      <td>0</td>\n",
       "    </tr>\n",
       "    <tr>\n",
       "      <th>3</th>\n",
       "      <td>what is her current dose of lasix  furosemide</td>\n",
       "      <td>the patient was admitted on 552006 with a hist...</td>\n",
       "      <td>the patient was rehydrated with ivf and pos we...</td>\n",
       "      <td>3</td>\n",
       "      <td>0</td>\n",
       "    </tr>\n",
       "    <tr>\n",
       "      <th>4</th>\n",
       "      <td>what is her current dose of lasix  furosemide</td>\n",
       "      <td>the patient was admitted on 552006 with a hist...</td>\n",
       "      <td>pain was controlled with tylenol acetaminophen...</td>\n",
       "      <td>4</td>\n",
       "      <td>0</td>\n",
       "    </tr>\n",
       "  </tbody>\n",
       "</table>\n",
       "</div>"
      ],
      "text/plain": [
       "                                         question  \\\n",
       "0  what is her current dose of lasix  furosemide    \n",
       "1  what is her current dose of lasix  furosemide    \n",
       "2  what is her current dose of lasix  furosemide    \n",
       "3  what is her current dose of lasix  furosemide    \n",
       "4  what is her current dose of lasix  furosemide    \n",
       "\n",
       "                                             context  \\\n",
       "0  the patient was admitted on 552006 with a hist...   \n",
       "1  the patient was admitted on 552006 with a hist...   \n",
       "2  the patient was admitted on 552006 with a hist...   \n",
       "3  the patient was admitted on 552006 with a hist...   \n",
       "4  the patient was admitted on 552006 with a hist...   \n",
       "\n",
       "                                     target_sentence  target_index  label  \n",
       "0  the patient was admitted on 552006 with a hist...             0      0  \n",
       "1  medications on admission included amiodarone 1...             1      0  \n",
       "2  an override was added on 10206 by gerad e danc...             2      0  \n",
       "3  the patient was rehydrated with ivf and pos we...             3      0  \n",
       "4  pain was controlled with tylenol acetaminophen...             4      0  "
      ]
     },
     "execution_count": 39,
     "metadata": {},
     "output_type": "execute_result"
    }
   ],
   "source": [
    "train_data.head()"
   ]
  },
  {
   "cell_type": "code",
   "execution_count": 42,
   "metadata": {
    "tags": []
   },
   "outputs": [],
   "source": [
    "aggregated_train_data = util.aggregate_sentences_by_question_and_context(train_data)\n",
    "aggregated_test_data = util.aggregate_sentences_by_question_and_context(test_data)"
   ]
  },
  {
   "cell_type": "markdown",
   "metadata": {},
   "source": [
    "**Persist if necessary**"
   ]
  },
  {
   "cell_type": "code",
   "execution_count": 44,
   "metadata": {
    "tags": []
   },
   "outputs": [],
   "source": [
    "data_output_dir = Path(\"../../data/dev/processed/\")\n",
    "data_output_dir.mkdir(parents=True, exist_ok=True)"
   ]
  },
  {
   "cell_type": "code",
   "execution_count": 45,
   "metadata": {
    "tags": []
   },
   "outputs": [],
   "source": [
    "aggregated_train_data.to_csv(data_output_dir / \"emrqa-msquad_train.csv\", index=False)\n",
    "aggregated_test_data.to_csv(data_output_dir / \"emrqa-msquad_test.csv\", index=False)"
   ]
  },
  {
   "cell_type": "code",
   "execution_count": null,
   "metadata": {},
   "outputs": [],
   "source": []
  }
 ],
 "metadata": {
  "kernelspec": {
   "display_name": "Python 3 (ipykernel)",
   "language": "python",
   "name": "python3"
  },
  "language_info": {
   "codemirror_mode": {
    "name": "ipython",
    "version": 3
   },
   "file_extension": ".py",
   "mimetype": "text/x-python",
   "name": "python",
   "nbconvert_exporter": "python",
   "pygments_lexer": "ipython3",
   "version": "3.10.14"
  }
 },
 "nbformat": 4,
 "nbformat_minor": 4
}
