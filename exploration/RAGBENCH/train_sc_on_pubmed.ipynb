{
 "cells": [
  {
   "cell_type": "code",
   "execution_count": 1,
   "metadata": {
    "tags": []
   },
   "outputs": [],
   "source": [
    "import re\n",
    "import os\n",
    "import wandb\n",
    "import string\n",
    "import numpy as np\n",
    "import unicodedata\n",
    "import pandas as pd\n",
    "from pathlib import Path\n",
    "from datasets import load_dataset\n",
    "from collections import defaultdict\n",
    "from tqdm.notebook import tqdm\n",
    "import matplotlib.pyplot as plt\n",
    "import seaborn as sns\n",
    "\n",
    "import torch\n",
    "import flash_attn\n",
    "from datasets import Dataset\n",
    "from torch.utils.data import DataLoader\n",
    "from transformers import EarlyStoppingCallback\n",
    "from transformers import AutoTokenizer, TrainingArguments, Trainer\n",
    "from sklearn.model_selection import train_test_split\n",
    "from transformers import AutoModelForSequenceClassification\n",
    "\n",
    "from sklearn.linear_model import LogisticRegression\n",
    "from sklearn.feature_extraction.text import TfidfVectorizer\n",
    "from sklearn.metrics import classification_report, confusion_matrix, accuracy_score, f1_score, precision_score, recall_score\n",
    "\n",
    "import sys\n",
    "sys.path.append('../../../')"
   ]
  },
  {
   "cell_type": "markdown",
   "metadata": {},
   "source": [
    "Check versions of important packages"
   ]
  },
  {
   "cell_type": "code",
   "execution_count": 2,
   "metadata": {
    "tags": []
   },
   "outputs": [
    {
     "name": "stdout",
     "output_type": "stream",
     "text": [
      "PyTorch version: 2.6.0+cu124\n",
      "CUDA version: 12.4\n",
      "Flash Attention version: 2.7.4.post1\n"
     ]
    }
   ],
   "source": [
    "print(\"PyTorch version:\", torch.__version__)\n",
    "print(\"CUDA version:\", torch.version.cuda)\n",
    "print(\"Flash Attention version:\", flash_attn.__version__)"
   ]
  },
  {
   "cell_type": "markdown",
   "metadata": {},
   "source": [
    "Check which python we are using"
   ]
  },
  {
   "cell_type": "code",
   "execution_count": 3,
   "metadata": {
    "tags": []
   },
   "outputs": [
    {
     "name": "stdout",
     "output_type": "stream",
     "text": [
      "/share/miniforge3/bin/python3.10\n"
     ]
    }
   ],
   "source": [
    "print(sys.executable)"
   ]
  },
  {
   "cell_type": "markdown",
   "metadata": {},
   "source": [
    "REMOVE BEFORE PUSHING OR MAKING PUBLIC IN ANY FORM !!!"
   ]
  },
  {
   "cell_type": "code",
   "execution_count": 4,
   "metadata": {},
   "outputs": [],
   "source": [
    "hg_token = \"\""
   ]
  },
  {
   "cell_type": "code",
   "execution_count": 5,
   "metadata": {
    "collapsed": false,
    "jupyter": {
     "outputs_hidden": false
    },
    "tags": []
   },
   "outputs": [],
   "source": [
    "dataset_names = ['covidqa', 'cuad', 'delucionqa', 'emanual', 'expertqa', 'finqa', 'hagrid', 'hotpotqa', 'msmarco', 'pubmedqa', 'tatqa', 'techqa']\n",
    "\n",
    "# load pubmedqa from RAGBENCH\n",
    "pubmedqa = load_dataset(\"rungalileo/ragbench\", \"pubmedqa\")"
   ]
  },
  {
   "cell_type": "code",
   "execution_count": 6,
   "metadata": {
    "collapsed": false,
    "jupyter": {
     "outputs_hidden": false
    },
    "tags": []
   },
   "outputs": [],
   "source": [
    "train_data_raw = pubmedqa['train'].to_pandas()\n",
    "test_data_raw = pubmedqa['test'].to_pandas()"
   ]
  },
  {
   "cell_type": "markdown",
   "metadata": {},
   "source": [
    "# Exploration"
   ]
  },
  {
   "cell_type": "code",
   "execution_count": 7,
   "metadata": {
    "collapsed": false,
    "jupyter": {
     "outputs_hidden": false
    },
    "tags": []
   },
   "outputs": [
    {
     "data": {
      "text/html": [
       "<div>\n",
       "<style scoped>\n",
       "    .dataframe tbody tr th:only-of-type {\n",
       "        vertical-align: middle;\n",
       "    }\n",
       "\n",
       "    .dataframe tbody tr th {\n",
       "        vertical-align: top;\n",
       "    }\n",
       "\n",
       "    .dataframe thead th {\n",
       "        text-align: right;\n",
       "    }\n",
       "</style>\n",
       "<table border=\"1\" class=\"dataframe\">\n",
       "  <thead>\n",
       "    <tr style=\"text-align: right;\">\n",
       "      <th></th>\n",
       "      <th>id</th>\n",
       "      <th>question</th>\n",
       "      <th>documents</th>\n",
       "      <th>response</th>\n",
       "      <th>generation_model_name</th>\n",
       "      <th>annotating_model_name</th>\n",
       "      <th>dataset_name</th>\n",
       "      <th>documents_sentences</th>\n",
       "      <th>response_sentences</th>\n",
       "      <th>sentence_support_information</th>\n",
       "      <th>...</th>\n",
       "      <th>trulens_groundedness</th>\n",
       "      <th>trulens_context_relevance</th>\n",
       "      <th>ragas_faithfulness</th>\n",
       "      <th>ragas_context_relevance</th>\n",
       "      <th>gpt3_adherence</th>\n",
       "      <th>gpt3_context_relevance</th>\n",
       "      <th>gpt35_utilization</th>\n",
       "      <th>relevance_score</th>\n",
       "      <th>utilization_score</th>\n",
       "      <th>completeness_score</th>\n",
       "    </tr>\n",
       "  </thead>\n",
       "  <tbody>\n",
       "    <tr>\n",
       "      <th>0</th>\n",
       "      <td>pubmedqa_39085</td>\n",
       "      <td>Is there a functional neural correlate of indi...</td>\n",
       "      <td>[The present study tested whether individuals ...</td>\n",
       "      <td>Yes, the study mentioned in the first piece of...</td>\n",
       "      <td>gpt-3.5-turbo-0125</td>\n",
       "      <td>gpt-4o</td>\n",
       "      <td>pubmedqa_train</td>\n",
       "      <td>[[[0a, The present study tested whether indivi...</td>\n",
       "      <td>[[a, Yes, the study mentioned in the first pie...</td>\n",
       "      <td>[{'explanation': 'This sentence is directly su...</td>\n",
       "      <td>...</td>\n",
       "      <td>NaN</td>\n",
       "      <td>NaN</td>\n",
       "      <td>NaN</td>\n",
       "      <td>NaN</td>\n",
       "      <td>NaN</td>\n",
       "      <td>NaN</td>\n",
       "      <td>NaN</td>\n",
       "      <td>0.142857</td>\n",
       "      <td>0.142857</td>\n",
       "      <td>1.000000</td>\n",
       "    </tr>\n",
       "    <tr>\n",
       "      <th>1</th>\n",
       "      <td>pubmedqa_42813</td>\n",
       "      <td>Can we use the Omron T9P automated blood press...</td>\n",
       "      <td>[Recent events in our hospital, combined with ...</td>\n",
       "      <td>Yes, based on the context provided, we can use...</td>\n",
       "      <td>gpt-3.5-turbo-0125</td>\n",
       "      <td>gpt-4o</td>\n",
       "      <td>pubmedqa_train</td>\n",
       "      <td>[[[0a, Recent events in our hospital, combined...</td>\n",
       "      <td>[[a, Yes, based on the context provided, we ca...</td>\n",
       "      <td>[{'explanation': 'This sentence summarizes the...</td>\n",
       "      <td>...</td>\n",
       "      <td>NaN</td>\n",
       "      <td>NaN</td>\n",
       "      <td>NaN</td>\n",
       "      <td>NaN</td>\n",
       "      <td>NaN</td>\n",
       "      <td>NaN</td>\n",
       "      <td>NaN</td>\n",
       "      <td>0.454545</td>\n",
       "      <td>0.181818</td>\n",
       "      <td>0.400000</td>\n",
       "    </tr>\n",
       "    <tr>\n",
       "      <th>2</th>\n",
       "      <td>pubmedqa_57525</td>\n",
       "      <td>Intraabdominal vascular injury: are we getting...</td>\n",
       "      <td>[Intraabdominal vascular injury (IAVI) as a re...</td>\n",
       "      <td>Based on the pieces of context provided, the s...</td>\n",
       "      <td>gpt-3.5-turbo-0125</td>\n",
       "      <td>gpt-4o</td>\n",
       "      <td>pubmedqa_train</td>\n",
       "      <td>[[[0a, Intraabdominal vascular injury (IAVI) a...</td>\n",
       "      <td>[[a, Based on the pieces of context provided, ...</td>\n",
       "      <td>[{'explanation': 'This sentence is partially s...</td>\n",
       "      <td>...</td>\n",
       "      <td>NaN</td>\n",
       "      <td>NaN</td>\n",
       "      <td>NaN</td>\n",
       "      <td>NaN</td>\n",
       "      <td>NaN</td>\n",
       "      <td>NaN</td>\n",
       "      <td>NaN</td>\n",
       "      <td>0.461538</td>\n",
       "      <td>0.307692</td>\n",
       "      <td>0.666667</td>\n",
       "    </tr>\n",
       "    <tr>\n",
       "      <th>3</th>\n",
       "      <td>pubmedqa_29863</td>\n",
       "      <td>Hand grip and pinch strength in patients with ...</td>\n",
       "      <td>[The hand grip strength test and pinch was sig...</td>\n",
       "      <td>Yes, according to the context provided, the ha...</td>\n",
       "      <td>gpt-3.5-turbo-0125</td>\n",
       "      <td>gpt-4o</td>\n",
       "      <td>pubmedqa_train</td>\n",
       "      <td>[[[0a, The hand grip strength test and pinch w...</td>\n",
       "      <td>[[a, Yes, according to the context provided, t...</td>\n",
       "      <td>[{'explanation': 'This sentence is supported b...</td>\n",
       "      <td>...</td>\n",
       "      <td>NaN</td>\n",
       "      <td>NaN</td>\n",
       "      <td>NaN</td>\n",
       "      <td>NaN</td>\n",
       "      <td>NaN</td>\n",
       "      <td>NaN</td>\n",
       "      <td>NaN</td>\n",
       "      <td>0.818182</td>\n",
       "      <td>0.181818</td>\n",
       "      <td>0.222222</td>\n",
       "    </tr>\n",
       "    <tr>\n",
       "      <th>4</th>\n",
       "      <td>pubmedqa_36126</td>\n",
       "      <td>Is Canada ready for patient accessible electro...</td>\n",
       "      <td>[Access to personal health information through...</td>\n",
       "      <td>Based on the information provided, Canada is n...</td>\n",
       "      <td>gpt-3.5-turbo-0125</td>\n",
       "      <td>gpt-4o</td>\n",
       "      <td>pubmedqa_train</td>\n",
       "      <td>[[[0a, Access to personal health information t...</td>\n",
       "      <td>[[a, Based on the information provided, Canada...</td>\n",
       "      <td>[{'explanation': 'The sentence is supported by...</td>\n",
       "      <td>...</td>\n",
       "      <td>NaN</td>\n",
       "      <td>NaN</td>\n",
       "      <td>NaN</td>\n",
       "      <td>NaN</td>\n",
       "      <td>NaN</td>\n",
       "      <td>NaN</td>\n",
       "      <td>NaN</td>\n",
       "      <td>0.636364</td>\n",
       "      <td>0.454545</td>\n",
       "      <td>0.714286</td>\n",
       "    </tr>\n",
       "  </tbody>\n",
       "</table>\n",
       "<p>5 rows × 26 columns</p>\n",
       "</div>"
      ],
      "text/plain": [
       "               id                                           question  \\\n",
       "0  pubmedqa_39085  Is there a functional neural correlate of indi...   \n",
       "1  pubmedqa_42813  Can we use the Omron T9P automated blood press...   \n",
       "2  pubmedqa_57525  Intraabdominal vascular injury: are we getting...   \n",
       "3  pubmedqa_29863  Hand grip and pinch strength in patients with ...   \n",
       "4  pubmedqa_36126  Is Canada ready for patient accessible electro...   \n",
       "\n",
       "                                           documents  \\\n",
       "0  [The present study tested whether individuals ...   \n",
       "1  [Recent events in our hospital, combined with ...   \n",
       "2  [Intraabdominal vascular injury (IAVI) as a re...   \n",
       "3  [The hand grip strength test and pinch was sig...   \n",
       "4  [Access to personal health information through...   \n",
       "\n",
       "                                            response generation_model_name  \\\n",
       "0  Yes, the study mentioned in the first piece of...    gpt-3.5-turbo-0125   \n",
       "1  Yes, based on the context provided, we can use...    gpt-3.5-turbo-0125   \n",
       "2  Based on the pieces of context provided, the s...    gpt-3.5-turbo-0125   \n",
       "3  Yes, according to the context provided, the ha...    gpt-3.5-turbo-0125   \n",
       "4  Based on the information provided, Canada is n...    gpt-3.5-turbo-0125   \n",
       "\n",
       "  annotating_model_name    dataset_name  \\\n",
       "0                gpt-4o  pubmedqa_train   \n",
       "1                gpt-4o  pubmedqa_train   \n",
       "2                gpt-4o  pubmedqa_train   \n",
       "3                gpt-4o  pubmedqa_train   \n",
       "4                gpt-4o  pubmedqa_train   \n",
       "\n",
       "                                 documents_sentences  \\\n",
       "0  [[[0a, The present study tested whether indivi...   \n",
       "1  [[[0a, Recent events in our hospital, combined...   \n",
       "2  [[[0a, Intraabdominal vascular injury (IAVI) a...   \n",
       "3  [[[0a, The hand grip strength test and pinch w...   \n",
       "4  [[[0a, Access to personal health information t...   \n",
       "\n",
       "                                  response_sentences  \\\n",
       "0  [[a, Yes, the study mentioned in the first pie...   \n",
       "1  [[a, Yes, based on the context provided, we ca...   \n",
       "2  [[a, Based on the pieces of context provided, ...   \n",
       "3  [[a, Yes, according to the context provided, t...   \n",
       "4  [[a, Based on the information provided, Canada...   \n",
       "\n",
       "                        sentence_support_information  ...  \\\n",
       "0  [{'explanation': 'This sentence is directly su...  ...   \n",
       "1  [{'explanation': 'This sentence summarizes the...  ...   \n",
       "2  [{'explanation': 'This sentence is partially s...  ...   \n",
       "3  [{'explanation': 'This sentence is supported b...  ...   \n",
       "4  [{'explanation': 'The sentence is supported by...  ...   \n",
       "\n",
       "  trulens_groundedness  trulens_context_relevance ragas_faithfulness  \\\n",
       "0                  NaN                        NaN                NaN   \n",
       "1                  NaN                        NaN                NaN   \n",
       "2                  NaN                        NaN                NaN   \n",
       "3                  NaN                        NaN                NaN   \n",
       "4                  NaN                        NaN                NaN   \n",
       "\n",
       "  ragas_context_relevance gpt3_adherence gpt3_context_relevance  \\\n",
       "0                     NaN            NaN                    NaN   \n",
       "1                     NaN            NaN                    NaN   \n",
       "2                     NaN            NaN                    NaN   \n",
       "3                     NaN            NaN                    NaN   \n",
       "4                     NaN            NaN                    NaN   \n",
       "\n",
       "   gpt35_utilization  relevance_score  utilization_score  completeness_score  \n",
       "0                NaN         0.142857           0.142857            1.000000  \n",
       "1                NaN         0.454545           0.181818            0.400000  \n",
       "2                NaN         0.461538           0.307692            0.666667  \n",
       "3                NaN         0.818182           0.181818            0.222222  \n",
       "4                NaN         0.636364           0.454545            0.714286  \n",
       "\n",
       "[5 rows x 26 columns]"
      ]
     },
     "execution_count": 7,
     "metadata": {},
     "output_type": "execute_result"
    }
   ],
   "source": [
    "train_data_raw.head()"
   ]
  },
  {
   "cell_type": "code",
   "execution_count": 8,
   "metadata": {
    "collapsed": false,
    "jupyter": {
     "outputs_hidden": false
    },
    "tags": []
   },
   "outputs": [
    {
     "data": {
      "text/plain": [
       "(19600, 26)"
      ]
     },
     "execution_count": 8,
     "metadata": {},
     "output_type": "execute_result"
    }
   ],
   "source": [
    "train_data_raw.shape"
   ]
  },
  {
   "cell_type": "code",
   "execution_count": 9,
   "metadata": {
    "collapsed": false,
    "jupyter": {
     "outputs_hidden": false
    },
    "tags": []
   },
   "outputs": [
    {
     "data": {
      "text/plain": [
       "Index(['id', 'question', 'documents', 'response', 'generation_model_name',\n",
       "       'annotating_model_name', 'dataset_name', 'documents_sentences',\n",
       "       'response_sentences', 'sentence_support_information',\n",
       "       'unsupported_response_sentence_keys', 'adherence_score',\n",
       "       'overall_supported_explanation', 'relevance_explanation',\n",
       "       'all_relevant_sentence_keys', 'all_utilized_sentence_keys',\n",
       "       'trulens_groundedness', 'trulens_context_relevance',\n",
       "       'ragas_faithfulness', 'ragas_context_relevance', 'gpt3_adherence',\n",
       "       'gpt3_context_relevance', 'gpt35_utilization', 'relevance_score',\n",
       "       'utilization_score', 'completeness_score'],\n",
       "      dtype='object')"
      ]
     },
     "execution_count": 9,
     "metadata": {},
     "output_type": "execute_result"
    }
   ],
   "source": [
    "train_data_raw.columns"
   ]
  },
  {
   "cell_type": "code",
   "execution_count": 10,
   "metadata": {
    "collapsed": false,
    "jupyter": {
     "outputs_hidden": false
    },
    "tags": []
   },
   "outputs": [],
   "source": [
    "observation = train_data_raw.iloc[0]"
   ]
  },
  {
   "cell_type": "code",
   "execution_count": 11,
   "metadata": {
    "collapsed": false,
    "jupyter": {
     "outputs_hidden": false
    },
    "tags": []
   },
   "outputs": [
    {
     "data": {
      "text/plain": [
       "'Is there a functional neural correlate of individual differences in cardiovascular reactivity?'"
      ]
     },
     "execution_count": 11,
     "metadata": {},
     "output_type": "execute_result"
    }
   ],
   "source": [
    "observation.question"
   ]
  },
  {
   "cell_type": "code",
   "execution_count": 12,
   "metadata": {
    "collapsed": false,
    "jupyter": {
     "outputs_hidden": false
    },
    "tags": []
   },
   "outputs": [
    {
     "data": {
      "text/plain": [
       "0                                        [0a]\n",
       "1                        [0a, 1a, 3a, 3b, 4a]\n",
       "2                    [0a, 0b, 2a, 3c, 3e, 4a]\n",
       "3        [0a, 0b, 1a, 2a, 2b, 2c, 2d, 2e, 2f]\n",
       "4                [0a, 0b, 0c, 0d, 1a, 1b, 1c]\n",
       "                         ...                 \n",
       "19595        [0a, 0b, 1a, 1b, 2a, 2c, 2d, 3a]\n",
       "19596                    [0a, 0b, 0c, 0d, 1b]\n",
       "19597                [0a, 1a, 2a, 3a, 3d, 4c]\n",
       "19598        [0b, 0c, 0d, 0e, 1a, 1b, 1c, 1d]\n",
       "19599                [0b, 1a, 1b, 1c, 4a, 4f]\n",
       "Name: all_relevant_sentence_keys, Length: 19600, dtype: object"
      ]
     },
     "execution_count": 12,
     "metadata": {},
     "output_type": "execute_result"
    }
   ],
   "source": [
    "train_data_raw.all_relevant_sentence_keys"
   ]
  },
  {
   "cell_type": "markdown",
   "metadata": {},
   "source": [
    "# Attributes"
   ]
  },
  {
   "cell_type": "code",
   "execution_count": 13,
   "metadata": {},
   "outputs": [],
   "source": [
    "relevant_cols = [\"question\", \"documents_sentences\", \"all_relevant_sentence_keys\"]"
   ]
  },
  {
   "cell_type": "markdown",
   "metadata": {},
   "source": [
    "**Columns**:\n",
    "\n",
    "- **question:** The medical question being asked. (Used as input)\n",
    "- **documents_sentences:** Contains the sentences from the source documents. (Context for classification)\n",
    "- **all_relevant_sentence_keys:**\tIdentifies which sentences are relevant. (Binary label for classification)"
   ]
  },
  {
   "cell_type": "markdown",
   "metadata": {},
   "source": [
    "**Goal:**\n",
    "\n",
    "- Pair each question with its individual document sentences → (question, sentence) pairs.\n",
    "- Label each sentence as relevant (1) or not relevant (0) → Using all_relevant_sentence_keys.\n",
    "- Train a classifier using BERT embeddings to classify each sentence.\n"
   ]
  },
  {
   "cell_type": "code",
   "execution_count": 14,
   "metadata": {
    "collapsed": false,
    "jupyter": {
     "outputs_hidden": false
    },
    "tags": []
   },
   "outputs": [],
   "source": [
    "train_data = train_data_raw[relevant_cols]\n",
    "test_data = test_data_raw[relevant_cols]"
   ]
  },
  {
   "cell_type": "code",
   "execution_count": 15,
   "metadata": {
    "collapsed": false,
    "jupyter": {
     "outputs_hidden": false
    },
    "tags": []
   },
   "outputs": [
    {
     "data": {
      "text/html": [
       "<div>\n",
       "<style scoped>\n",
       "    .dataframe tbody tr th:only-of-type {\n",
       "        vertical-align: middle;\n",
       "    }\n",
       "\n",
       "    .dataframe tbody tr th {\n",
       "        vertical-align: top;\n",
       "    }\n",
       "\n",
       "    .dataframe thead th {\n",
       "        text-align: right;\n",
       "    }\n",
       "</style>\n",
       "<table border=\"1\" class=\"dataframe\">\n",
       "  <thead>\n",
       "    <tr style=\"text-align: right;\">\n",
       "      <th></th>\n",
       "      <th>question</th>\n",
       "      <th>documents_sentences</th>\n",
       "      <th>all_relevant_sentence_keys</th>\n",
       "    </tr>\n",
       "  </thead>\n",
       "  <tbody>\n",
       "    <tr>\n",
       "      <th>0</th>\n",
       "      <td>Is there a functional neural correlate of indi...</td>\n",
       "      <td>[[[0a, The present study tested whether indivi...</td>\n",
       "      <td>[0a]</td>\n",
       "    </tr>\n",
       "    <tr>\n",
       "      <th>1</th>\n",
       "      <td>Can we use the Omron T9P automated blood press...</td>\n",
       "      <td>[[[0a, Recent events in our hospital, combined...</td>\n",
       "      <td>[0a, 1a, 3a, 3b, 4a]</td>\n",
       "    </tr>\n",
       "    <tr>\n",
       "      <th>2</th>\n",
       "      <td>Intraabdominal vascular injury: are we getting...</td>\n",
       "      <td>[[[0a, Intraabdominal vascular injury (IAVI) a...</td>\n",
       "      <td>[0a, 0b, 2a, 3c, 3e, 4a]</td>\n",
       "    </tr>\n",
       "    <tr>\n",
       "      <th>3</th>\n",
       "      <td>Hand grip and pinch strength in patients with ...</td>\n",
       "      <td>[[[0a, The hand grip strength test and pinch w...</td>\n",
       "      <td>[0a, 0b, 1a, 2a, 2b, 2c, 2d, 2e, 2f]</td>\n",
       "    </tr>\n",
       "    <tr>\n",
       "      <th>4</th>\n",
       "      <td>Is Canada ready for patient accessible electro...</td>\n",
       "      <td>[[[0a, Access to personal health information t...</td>\n",
       "      <td>[0a, 0b, 0c, 0d, 1a, 1b, 1c]</td>\n",
       "    </tr>\n",
       "  </tbody>\n",
       "</table>\n",
       "</div>"
      ],
      "text/plain": [
       "                                            question  \\\n",
       "0  Is there a functional neural correlate of indi...   \n",
       "1  Can we use the Omron T9P automated blood press...   \n",
       "2  Intraabdominal vascular injury: are we getting...   \n",
       "3  Hand grip and pinch strength in patients with ...   \n",
       "4  Is Canada ready for patient accessible electro...   \n",
       "\n",
       "                                 documents_sentences  \\\n",
       "0  [[[0a, The present study tested whether indivi...   \n",
       "1  [[[0a, Recent events in our hospital, combined...   \n",
       "2  [[[0a, Intraabdominal vascular injury (IAVI) a...   \n",
       "3  [[[0a, The hand grip strength test and pinch w...   \n",
       "4  [[[0a, Access to personal health information t...   \n",
       "\n",
       "             all_relevant_sentence_keys  \n",
       "0                                  [0a]  \n",
       "1                  [0a, 1a, 3a, 3b, 4a]  \n",
       "2              [0a, 0b, 2a, 3c, 3e, 4a]  \n",
       "3  [0a, 0b, 1a, 2a, 2b, 2c, 2d, 2e, 2f]  \n",
       "4          [0a, 0b, 0c, 0d, 1a, 1b, 1c]  "
      ]
     },
     "execution_count": 15,
     "metadata": {},
     "output_type": "execute_result"
    }
   ],
   "source": [
    "train_data.head()"
   ]
  },
  {
   "cell_type": "code",
   "execution_count": 16,
   "metadata": {
    "tags": []
   },
   "outputs": [
    {
     "name": "stdout",
     "output_type": "stream",
     "text": [
      "Number of rows: 19600\n"
     ]
    }
   ],
   "source": [
    "print(f\"Number of rows: {len(train_data)}\")"
   ]
  },
  {
   "cell_type": "markdown",
   "metadata": {},
   "source": [
    "# Attribute Transformation"
   ]
  },
  {
   "cell_type": "code",
   "execution_count": 17,
   "metadata": {
    "collapsed": false,
    "jupyter": {
     "outputs_hidden": false
    },
    "tags": []
   },
   "outputs": [],
   "source": [
    "import ast"
   ]
  },
  {
   "cell_type": "code",
   "execution_count": 18,
   "metadata": {},
   "outputs": [],
   "source": [
    "def safe_eval(val):\n",
    "    if isinstance(val, str):  # If it's a string, evaluate it\n",
    "        return ast.literal_eval(val)\n",
    "    elif isinstance(val, list) or isinstance(val, tuple):  # If already a list, return as is\n",
    "        return list(val)\n",
    "    else:\n",
    "        return []  # Default case, return empty list"
   ]
  },
  {
   "cell_type": "code",
   "execution_count": 19,
   "metadata": {
    "collapsed": false,
    "jupyter": {
     "outputs_hidden": false
    },
    "tags": []
   },
   "outputs": [],
   "source": [
    "train_data = train_data.copy()\n",
    "train_data.loc[:, \"documents_sentences\"] = train_data[\"documents_sentences\"]\\\n",
    "    .apply(lambda x: ast.literal_eval(x) if isinstance(x, str) else x)\n",
    "\n",
    "test_data = test_data.copy()\n",
    "test_data.loc[:, \"documents_sentences\"] = test_data[\"documents_sentences\"]\\\n",
    "    .apply(lambda x: ast.literal_eval(x) if isinstance(x, str) else x)"
   ]
  },
  {
   "cell_type": "code",
   "execution_count": 20,
   "metadata": {
    "collapsed": false,
    "jupyter": {
     "outputs_hidden": false
    },
    "tags": []
   },
   "outputs": [],
   "source": [
    "def transform_dataset(train_data):\n",
    "    \"\"\"\n",
    "    Transforms the dataset into a list of (question, sentence, label) tuples.\n",
    "\n",
    "    Args:\n",
    "        train_data (pd.DataFrame): DataFrame containing 'question', 'all_relevant_sentence_keys', and 'documents_sentences'.\n",
    "\n",
    "    Returns:\n",
    "        list: A list of tuples (question, sentence_text, label).\n",
    "    \"\"\"\n",
    "    data_rows = []\n",
    "\n",
    "    for _, row in train_data.iterrows():\n",
    "        question = row[\"question\"]\n",
    "        relevant_keys = set(row[\"all_relevant_sentence_keys\"])  # Convert to set for quick lookup\n",
    "\n",
    "        for doc_sentences in row[\"documents_sentences\"]:\n",
    "            for sentence in doc_sentences:  # sentence is a list like [key, text]\n",
    "                if len(sentence) == 2:  # Ensure correct format\n",
    "                    sentence_key, sentence_text = sentence\n",
    "                    label = 1 if sentence_key in relevant_keys else 0  # Assign label\n",
    "                    data_rows.append((question, sentence_text, label))\n",
    "\n",
    "    return data_rows"
   ]
  },
  {
   "cell_type": "code",
   "execution_count": 21,
   "metadata": {
    "collapsed": false,
    "jupyter": {
     "outputs_hidden": false
    },
    "tags": []
   },
   "outputs": [],
   "source": [
    "train_data = pd.DataFrame(transform_dataset(train_data), columns=[\"question\", \"sentence\", \"label\"])\n",
    "test_data = pd.DataFrame(transform_dataset(test_data), columns=[\"question\", \"sentence\", \"label\"])"
   ]
  },
  {
   "cell_type": "code",
   "execution_count": 22,
   "metadata": {
    "tags": []
   },
   "outputs": [
    {
     "name": "stdout",
     "output_type": "stream",
     "text": [
      "Number of rows: 237544\n"
     ]
    }
   ],
   "source": [
    "print(f\"Number of rows: {len(train_data)}\")"
   ]
  },
  {
   "cell_type": "markdown",
   "metadata": {
    "tags": []
   },
   "source": [
    "**Check Class Imbalance**"
   ]
  },
  {
   "cell_type": "code",
   "execution_count": 23,
   "metadata": {
    "tags": []
   },
   "outputs": [
    {
     "data": {
      "image/png": "[encoded data removed]",
      "text/plain": [
       "<Figure size 640x480 with 1 Axes>"
      ]
     },
     "metadata": {},
     "output_type": "display_data"
    },
    {
     "name": "stdout",
     "output_type": "stream",
     "text": [
      "Label counts:\n",
      " label\n",
      "0    106989\n",
      "1    130555\n",
      "Name: count, dtype: int64\n"
     ]
    }
   ],
   "source": [
    "label_counts = train_data[\"label\"].value_counts().sort_index()\n",
    "label_names = [\"Not Relevant\", \"Relevant\"]\n",
    "\n",
    "# Plot\n",
    "sns.barplot(x=label_names, y=label_counts.values)\n",
    "plt.title(\"Label Distribution in Training Data\")\n",
    "plt.ylabel(\"Count\")\n",
    "plt.show()\n",
    "\n",
    "print(\"Label counts:\\n\", label_counts)"
   ]
  },
  {
   "cell_type": "markdown",
   "metadata": {},
   "source": [
    "# Preprocessing"
   ]
  },
  {
   "cell_type": "code",
   "execution_count": 24,
   "metadata": {
    "collapsed": false,
    "jupyter": {
     "outputs_hidden": false
    },
    "tags": []
   },
   "outputs": [
    {
     "data": {
      "text/plain": [
       "question    object\n",
       "sentence    object\n",
       "label        int64\n",
       "dtype: object"
      ]
     },
     "execution_count": 24,
     "metadata": {},
     "output_type": "execute_result"
    }
   ],
   "source": [
    "train_data.dtypes"
   ]
  },
  {
   "cell_type": "markdown",
   "metadata": {},
   "source": [
    "Ensure we are working with strings"
   ]
  },
  {
   "cell_type": "code",
   "execution_count": 25,
   "metadata": {
    "collapsed": false,
    "jupyter": {
     "outputs_hidden": false
    },
    "tags": []
   },
   "outputs": [],
   "source": [
    "train_data[\"question\"] = train_data[\"question\"].astype(str)\n",
    "train_data[\"sentence\"] = train_data[\"sentence\"].astype(str)\n",
    "test_data[\"question\"] = test_data[\"question\"].astype(str)\n",
    "test_data[\"sentence\"] = test_data[\"sentence\"].astype(str)"
   ]
  },
  {
   "cell_type": "markdown",
   "metadata": {},
   "source": [
    "Check for missing values"
   ]
  },
  {
   "cell_type": "code",
   "execution_count": 26,
   "metadata": {
    "collapsed": false,
    "jupyter": {
     "outputs_hidden": false
    },
    "tags": []
   },
   "outputs": [
    {
     "name": "stdout",
     "output_type": "stream",
     "text": [
      "question    0\n",
      "sentence    0\n",
      "label       0\n",
      "dtype: int64\n"
     ]
    }
   ],
   "source": [
    "print(train_data.isnull().sum())"
   ]
  },
  {
   "cell_type": "markdown",
   "metadata": {},
   "source": [
    "**Note:** We might want to check for duplicates here"
   ]
  },
  {
   "cell_type": "markdown",
   "metadata": {},
   "source": [
    "Convert strings to lowercase"
   ]
  },
  {
   "cell_type": "code",
   "execution_count": 27,
   "metadata": {
    "collapsed": false,
    "jupyter": {
     "outputs_hidden": false
    },
    "tags": []
   },
   "outputs": [],
   "source": [
    "train_data[\"question\"] = train_data[\"question\"].str.lower()\n",
    "train_data[\"sentence\"] = train_data[\"sentence\"].str.lower()\n",
    "test_data[\"question\"] = test_data[\"question\"].str.lower()\n",
    "test_data[\"sentence\"] = test_data[\"sentence\"].str.lower()"
   ]
  },
  {
   "cell_type": "markdown",
   "metadata": {},
   "source": [
    "Remove Extra Whitespaces & Newlines"
   ]
  },
  {
   "cell_type": "code",
   "execution_count": 28,
   "metadata": {
    "collapsed": false,
    "jupyter": {
     "outputs_hidden": false
    },
    "tags": []
   },
   "outputs": [],
   "source": [
    "def clean_whitespace(text):\n",
    "    text = re.sub(r'\\s+', ' ', text)  # Replace multiple spaces/newlines with a single space\n",
    "    return text.strip()"
   ]
  },
  {
   "cell_type": "code",
   "execution_count": 29,
   "metadata": {
    "collapsed": false,
    "jupyter": {
     "outputs_hidden": false
    },
    "tags": []
   },
   "outputs": [],
   "source": [
    "train_data[\"question\"] = train_data[\"question\"].apply(clean_whitespace)\n",
    "train_data[\"sentence\"] = train_data[\"sentence\"].apply(clean_whitespace)\n",
    "test_data[\"question\"] = test_data[\"question\"].apply(clean_whitespace)\n",
    "test_data[\"sentence\"] = test_data[\"sentence\"].apply(clean_whitespace)"
   ]
  },
  {
   "cell_type": "markdown",
   "metadata": {},
   "source": [
    "Normalize Unicode Characters"
   ]
  },
  {
   "cell_type": "code",
   "execution_count": 30,
   "metadata": {
    "collapsed": false,
    "jupyter": {
     "outputs_hidden": false
    },
    "tags": []
   },
   "outputs": [],
   "source": [
    "def normalize_unicode(text):\n",
    "    return unicodedata.normalize(\"NFKC\", text)"
   ]
  },
  {
   "cell_type": "code",
   "execution_count": 31,
   "metadata": {
    "collapsed": false,
    "jupyter": {
     "outputs_hidden": false
    },
    "tags": []
   },
   "outputs": [],
   "source": [
    "train_data[\"question\"] = train_data[\"question\"].apply(normalize_unicode)\n",
    "train_data[\"sentence\"] = train_data[\"sentence\"].apply(normalize_unicode)\n",
    "test_data[\"question\"] = test_data[\"question\"].apply(normalize_unicode)\n",
    "test_data[\"sentence\"] = test_data[\"sentence\"].apply(normalize_unicode)"
   ]
  },
  {
   "cell_type": "markdown",
   "metadata": {},
   "source": [
    "Remove Punctuation"
   ]
  },
  {
   "cell_type": "code",
   "execution_count": 32,
   "metadata": {
    "collapsed": false,
    "jupyter": {
     "outputs_hidden": false
    },
    "tags": []
   },
   "outputs": [],
   "source": [
    "def remove_punctuation(text):\n",
    "    return text.translate(str.maketrans('', '', string.punctuation))"
   ]
  },
  {
   "cell_type": "code",
   "execution_count": 33,
   "metadata": {
    "collapsed": false,
    "jupyter": {
     "outputs_hidden": false
    },
    "tags": []
   },
   "outputs": [],
   "source": [
    "train_data[\"question\"] = train_data[\"question\"].apply(remove_punctuation)\n",
    "train_data[\"sentence\"] = train_data[\"sentence\"].apply(remove_punctuation)\n",
    "test_data[\"question\"] = test_data[\"question\"].apply(remove_punctuation)\n",
    "test_data[\"sentence\"] = test_data[\"sentence\"].apply(remove_punctuation)"
   ]
  },
  {
   "cell_type": "markdown",
   "metadata": {},
   "source": [
    "Safe if necessary"
   ]
  },
  {
   "cell_type": "code",
   "execution_count": 34,
   "metadata": {
    "collapsed": false,
    "jupyter": {
     "outputs_hidden": false
    },
    "tags": []
   },
   "outputs": [],
   "source": [
    "'''\n",
    "train_data.to_csv(\"../../data/dev/processed/pubmedqa_train.csv\", index=False)\n",
    "test_data.to_csv(\"../../data/dev/processed/pubmedqa_test.csv\", index=False)\n",
    "''';"
   ]
  },
  {
   "cell_type": "code",
   "execution_count": 35,
   "metadata": {
    "collapsed": false,
    "jupyter": {
     "outputs_hidden": false
    },
    "tags": []
   },
   "outputs": [
    {
     "data": {
      "text/html": [
       "<div>\n",
       "<style scoped>\n",
       "    .dataframe tbody tr th:only-of-type {\n",
       "        vertical-align: middle;\n",
       "    }\n",
       "\n",
       "    .dataframe tbody tr th {\n",
       "        vertical-align: top;\n",
       "    }\n",
       "\n",
       "    .dataframe thead th {\n",
       "        text-align: right;\n",
       "    }\n",
       "</style>\n",
       "<table border=\"1\" class=\"dataframe\">\n",
       "  <thead>\n",
       "    <tr style=\"text-align: right;\">\n",
       "      <th></th>\n",
       "      <th>question</th>\n",
       "      <th>sentence</th>\n",
       "      <th>label</th>\n",
       "    </tr>\n",
       "  </thead>\n",
       "  <tbody>\n",
       "    <tr>\n",
       "      <th>0</th>\n",
       "      <td>is there a functional neural correlate of indi...</td>\n",
       "      <td>the present study tested whether individuals w...</td>\n",
       "      <td>1</td>\n",
       "    </tr>\n",
       "    <tr>\n",
       "      <th>1</th>\n",
       "      <td>is there a functional neural correlate of indi...</td>\n",
       "      <td>this study examined whether heightened cardiov...</td>\n",
       "      <td>0</td>\n",
       "    </tr>\n",
       "    <tr>\n",
       "      <th>2</th>\n",
       "      <td>is there a functional neural correlate of indi...</td>\n",
       "      <td>heart rate variability hrv a measure of autono...</td>\n",
       "      <td>0</td>\n",
       "    </tr>\n",
       "    <tr>\n",
       "      <th>3</th>\n",
       "      <td>is there a functional neural correlate of indi...</td>\n",
       "      <td>previous studies have also not controlled for ...</td>\n",
       "      <td>0</td>\n",
       "    </tr>\n",
       "    <tr>\n",
       "      <th>4</th>\n",
       "      <td>is there a functional neural correlate of indi...</td>\n",
       "      <td>low socioeconomic status is associated with in...</td>\n",
       "      <td>0</td>\n",
       "    </tr>\n",
       "  </tbody>\n",
       "</table>\n",
       "</div>"
      ],
      "text/plain": [
       "                                            question  \\\n",
       "0  is there a functional neural correlate of indi...   \n",
       "1  is there a functional neural correlate of indi...   \n",
       "2  is there a functional neural correlate of indi...   \n",
       "3  is there a functional neural correlate of indi...   \n",
       "4  is there a functional neural correlate of indi...   \n",
       "\n",
       "                                            sentence  label  \n",
       "0  the present study tested whether individuals w...      1  \n",
       "1  this study examined whether heightened cardiov...      0  \n",
       "2  heart rate variability hrv a measure of autono...      0  \n",
       "3  previous studies have also not controlled for ...      0  \n",
       "4  low socioeconomic status is associated with in...      0  "
      ]
     },
     "execution_count": 35,
     "metadata": {},
     "output_type": "execute_result"
    }
   ],
   "source": [
    "train_data.head()"
   ]
  },
  {
   "cell_type": "markdown",
   "metadata": {},
   "source": [
    "Aggregate Sentences Per Question"
   ]
  },
  {
   "cell_type": "code",
   "execution_count": 36,
   "metadata": {
    "tags": []
   },
   "outputs": [],
   "source": [
    "aggregated_train_data = defaultdict(lambda: {\"sentences\": [], \"labels\": []})\n",
    "aggregated_test_data = defaultdict(lambda: {\"sentences\": [], \"labels\": []})\n",
    "\n",
    "for _, row in train_data.iterrows():\n",
    "    q = row[\"question\"]\n",
    "    aggregated_train_data[q][\"sentences\"].append(row[\"sentence\"])\n",
    "    aggregated_train_data[q][\"labels\"].append(row[\"label\"])\n",
    "\n",
    "for _, row in test_data.iterrows():\n",
    "    q = row[\"question\"]\n",
    "    aggregated_test_data[q][\"sentences\"].append(row[\"sentence\"])\n",
    "    aggregated_test_data[q][\"labels\"].append(row[\"label\"])\n",
    "\n",
    "aggregated_train_df = pd.DataFrame([\n",
    "    {\"question\": q, \"sentences\": v[\"sentences\"], \"labels\": v[\"labels\"]}\n",
    "    for q, v in aggregated_train_data.items()\n",
    "])\n",
    "aggregated_test_df = pd.DataFrame([\n",
    "    {\"question\": q, \"sentences\": v[\"sentences\"], \"labels\": v[\"labels\"]}\n",
    "    for q, v in aggregated_test_data.items()\n",
    "])"
   ]
  },
  {
   "cell_type": "code",
   "execution_count": 37,
   "metadata": {
    "tags": []
   },
   "outputs": [
    {
     "data": {
      "text/html": [
       "<div>\n",
       "<style scoped>\n",
       "    .dataframe tbody tr th:only-of-type {\n",
       "        vertical-align: middle;\n",
       "    }\n",
       "\n",
       "    .dataframe tbody tr th {\n",
       "        vertical-align: top;\n",
       "    }\n",
       "\n",
       "    .dataframe thead th {\n",
       "        text-align: right;\n",
       "    }\n",
       "</style>\n",
       "<table border=\"1\" class=\"dataframe\">\n",
       "  <thead>\n",
       "    <tr style=\"text-align: right;\">\n",
       "      <th></th>\n",
       "      <th>question</th>\n",
       "      <th>sentences</th>\n",
       "      <th>labels</th>\n",
       "    </tr>\n",
       "  </thead>\n",
       "  <tbody>\n",
       "    <tr>\n",
       "      <th>0</th>\n",
       "      <td>is there a functional neural correlate of indi...</td>\n",
       "      <td>[the present study tested whether individuals ...</td>\n",
       "      <td>[1, 0, 0, 0, 0, 0, 0, 1, 1, 1, 0, 1, 1, 0]</td>\n",
       "    </tr>\n",
       "    <tr>\n",
       "      <th>1</th>\n",
       "      <td>can we use the omron t9p automated blood press...</td>\n",
       "      <td>[recent events in our hospital combined with i...</td>\n",
       "      <td>[1, 1, 0, 0, 0, 0, 0, 0, 1, 1, 1, 1, 0, 0, 0, ...</td>\n",
       "    </tr>\n",
       "    <tr>\n",
       "      <th>2</th>\n",
       "      <td>intraabdominal vascular injury are we getting ...</td>\n",
       "      <td>[intraabdominal vascular injury iavi as a resu...</td>\n",
       "      <td>[1, 1, 0, 0, 0, 1, 0, 0, 1, 0, 1, 1, 0, 1, 1, ...</td>\n",
       "    </tr>\n",
       "    <tr>\n",
       "      <th>3</th>\n",
       "      <td>hand grip and pinch strength in patients with ...</td>\n",
       "      <td>[the hand grip strength test and pinch was sig...</td>\n",
       "      <td>[1, 1, 1, 1, 1, 1, 1, 1, 1, 0, 0, 1, 1, 1, 1, ...</td>\n",
       "    </tr>\n",
       "    <tr>\n",
       "      <th>4</th>\n",
       "      <td>is canada ready for patient accessible electro...</td>\n",
       "      <td>[access to personal health information through...</td>\n",
       "      <td>[1, 1, 1, 1, 1, 1, 1, 0, 0, 0, 0, 1, 1, 1, 1, ...</td>\n",
       "    </tr>\n",
       "  </tbody>\n",
       "</table>\n",
       "</div>"
      ],
      "text/plain": [
       "                                            question  \\\n",
       "0  is there a functional neural correlate of indi...   \n",
       "1  can we use the omron t9p automated blood press...   \n",
       "2  intraabdominal vascular injury are we getting ...   \n",
       "3  hand grip and pinch strength in patients with ...   \n",
       "4  is canada ready for patient accessible electro...   \n",
       "\n",
       "                                           sentences  \\\n",
       "0  [the present study tested whether individuals ...   \n",
       "1  [recent events in our hospital combined with i...   \n",
       "2  [intraabdominal vascular injury iavi as a resu...   \n",
       "3  [the hand grip strength test and pinch was sig...   \n",
       "4  [access to personal health information through...   \n",
       "\n",
       "                                              labels  \n",
       "0         [1, 0, 0, 0, 0, 0, 0, 1, 1, 1, 0, 1, 1, 0]  \n",
       "1  [1, 1, 0, 0, 0, 0, 0, 0, 1, 1, 1, 1, 0, 0, 0, ...  \n",
       "2  [1, 1, 0, 0, 0, 1, 0, 0, 1, 0, 1, 1, 0, 1, 1, ...  \n",
       "3  [1, 1, 1, 1, 1, 1, 1, 1, 1, 0, 0, 1, 1, 1, 1, ...  \n",
       "4  [1, 1, 1, 1, 1, 1, 1, 0, 0, 0, 0, 1, 1, 1, 1, ...  "
      ]
     },
     "execution_count": 37,
     "metadata": {},
     "output_type": "execute_result"
    }
   ],
   "source": [
    "aggregated_train_df.head()"
   ]
  },
  {
   "cell_type": "markdown",
   "metadata": {},
   "source": [
    "# Further Processing"
   ]
  },
  {
   "cell_type": "markdown",
   "metadata": {},
   "source": [
    "We’ll create one row per sentence: full context + label for only that sentence\n",
    "\n",
    "And add [START] and [END] markers around the target sentence"
   ]
  },
  {
   "cell_type": "code",
   "execution_count": 38,
   "metadata": {
    "tags": []
   },
   "outputs": [],
   "source": [
    "def expand_to_sentence_level(df, sep=\". \", window=1):\n",
    "    expanded = []\n",
    "\n",
    "    for _, row in df.iterrows():\n",
    "        question = row[\"question\"]\n",
    "        sentences = row[\"sentences\"]\n",
    "        labels = row[\"labels\"]\n",
    "\n",
    "        for i, (sentence, label) in enumerate(zip(sentences, labels)):\n",
    "            # Get window range\n",
    "            start = max(0, i - window)\n",
    "            end = min(len(sentences), i + window + 1)\n",
    "\n",
    "            # Clone to avoid in-place edit\n",
    "            context_slice = sentences[start:end].copy()\n",
    "            target_local_idx = i - start\n",
    "            context_slice[target_local_idx] = f\"[START] {context_slice[target_local_idx]} [END]\"\n",
    "\n",
    "            expanded.append({\n",
    "                \"question\": question,\n",
    "                \"context\": sep.join(context_slice),\n",
    "                \"target_sentence\": sentence,\n",
    "                \"target_index\": i,\n",
    "                \"label\": label\n",
    "            })\n",
    "\n",
    "    return pd.DataFrame(expanded)\n"
   ]
  },
  {
   "cell_type": "code",
   "execution_count": 39,
   "metadata": {
    "tags": []
   },
   "outputs": [],
   "source": [
    "WINDOW_SIZE = 0"
   ]
  },
  {
   "cell_type": "code",
   "execution_count": 40,
   "metadata": {
    "tags": []
   },
   "outputs": [],
   "source": [
    "train_df = expand_to_sentence_level(aggregated_train_df, window=WINDOW_SIZE)\n",
    "test_df = expand_to_sentence_level(aggregated_test_df, window=WINDOW_SIZE)"
   ]
  },
  {
   "cell_type": "code",
   "execution_count": 41,
   "metadata": {
    "tags": []
   },
   "outputs": [
    {
     "data": {
      "text/html": [
       "<div>\n",
       "<style scoped>\n",
       "    .dataframe tbody tr th:only-of-type {\n",
       "        vertical-align: middle;\n",
       "    }\n",
       "\n",
       "    .dataframe tbody tr th {\n",
       "        vertical-align: top;\n",
       "    }\n",
       "\n",
       "    .dataframe thead th {\n",
       "        text-align: right;\n",
       "    }\n",
       "</style>\n",
       "<table border=\"1\" class=\"dataframe\">\n",
       "  <thead>\n",
       "    <tr style=\"text-align: right;\">\n",
       "      <th></th>\n",
       "      <th>question</th>\n",
       "      <th>context</th>\n",
       "      <th>target_sentence</th>\n",
       "      <th>target_index</th>\n",
       "      <th>label</th>\n",
       "    </tr>\n",
       "  </thead>\n",
       "  <tbody>\n",
       "    <tr>\n",
       "      <th>0</th>\n",
       "      <td>is there a functional neural correlate of indi...</td>\n",
       "      <td>[START] the present study tested whether indiv...</td>\n",
       "      <td>the present study tested whether individuals w...</td>\n",
       "      <td>0</td>\n",
       "      <td>1</td>\n",
       "    </tr>\n",
       "    <tr>\n",
       "      <th>1</th>\n",
       "      <td>is there a functional neural correlate of indi...</td>\n",
       "      <td>[START] this study examined whether heightened...</td>\n",
       "      <td>this study examined whether heightened cardiov...</td>\n",
       "      <td>1</td>\n",
       "      <td>0</td>\n",
       "    </tr>\n",
       "    <tr>\n",
       "      <th>2</th>\n",
       "      <td>is there a functional neural correlate of indi...</td>\n",
       "      <td>[START] heart rate variability hrv a measure o...</td>\n",
       "      <td>heart rate variability hrv a measure of autono...</td>\n",
       "      <td>2</td>\n",
       "      <td>0</td>\n",
       "    </tr>\n",
       "    <tr>\n",
       "      <th>3</th>\n",
       "      <td>is there a functional neural correlate of indi...</td>\n",
       "      <td>[START] previous studies have also not control...</td>\n",
       "      <td>previous studies have also not controlled for ...</td>\n",
       "      <td>3</td>\n",
       "      <td>0</td>\n",
       "    </tr>\n",
       "    <tr>\n",
       "      <th>4</th>\n",
       "      <td>is there a functional neural correlate of indi...</td>\n",
       "      <td>[START] low socioeconomic status is associated...</td>\n",
       "      <td>low socioeconomic status is associated with in...</td>\n",
       "      <td>4</td>\n",
       "      <td>0</td>\n",
       "    </tr>\n",
       "  </tbody>\n",
       "</table>\n",
       "</div>"
      ],
      "text/plain": [
       "                                            question  \\\n",
       "0  is there a functional neural correlate of indi...   \n",
       "1  is there a functional neural correlate of indi...   \n",
       "2  is there a functional neural correlate of indi...   \n",
       "3  is there a functional neural correlate of indi...   \n",
       "4  is there a functional neural correlate of indi...   \n",
       "\n",
       "                                             context  \\\n",
       "0  [START] the present study tested whether indiv...   \n",
       "1  [START] this study examined whether heightened...   \n",
       "2  [START] heart rate variability hrv a measure o...   \n",
       "3  [START] previous studies have also not control...   \n",
       "4  [START] low socioeconomic status is associated...   \n",
       "\n",
       "                                     target_sentence  target_index  label  \n",
       "0  the present study tested whether individuals w...             0      1  \n",
       "1  this study examined whether heightened cardiov...             1      0  \n",
       "2  heart rate variability hrv a measure of autono...             2      0  \n",
       "3  previous studies have also not controlled for ...             3      0  \n",
       "4  low socioeconomic status is associated with in...             4      0  "
      ]
     },
     "execution_count": 41,
     "metadata": {},
     "output_type": "execute_result"
    }
   ],
   "source": [
    "train_df.head()"
   ]
  },
  {
   "cell_type": "markdown",
   "metadata": {},
   "source": [
    "# Training End-To-End"
   ]
  },
  {
   "cell_type": "markdown",
   "metadata": {},
   "source": [
    "Important Configs"
   ]
  },
  {
   "cell_type": "code",
   "execution_count": 42,
   "metadata": {
    "tags": []
   },
   "outputs": [],
   "source": [
    "CONTEXT_LENGTH = 512\n",
    "BATCH_SIZE = 64"
   ]
  },
  {
   "cell_type": "code",
   "execution_count": 43,
   "metadata": {
    "tags": []
   },
   "outputs": [],
   "source": [
    "tokenizer = AutoTokenizer.from_pretrained(\"answerdotai/ModernBERT-base\", token=hg_token)\n",
    "special_tokens = {\"additional_special_tokens\": [\"[START]\", \"[END]\"]}\n",
    "tokenizer.add_special_tokens(special_tokens);"
   ]
  },
  {
   "cell_type": "markdown",
   "metadata": {},
   "source": [
    "Load ModernBERT Model (Trainable Embeddings)"
   ]
  },
  {
   "cell_type": "code",
   "execution_count": 44,
   "metadata": {
    "collapsed": false,
    "jupyter": {
     "outputs_hidden": false
    },
    "tags": []
   },
   "outputs": [
    {
     "name": "stderr",
     "output_type": "stream",
     "text": [
      "You are attempting to use Flash Attention 2.0 with a model not initialized on GPU. Make sure to move the model to GPU after initializing it on CPU with `model.to('cuda')`.\n",
      "Some weights of ModernBertForSequenceClassification were not initialized from the model checkpoint at answerdotai/ModernBERT-base and are newly initialized: ['classifier.bias', 'classifier.weight']\n",
      "You should probably TRAIN this model on a down-stream task to be able to use it for predictions and inference.\n"
     ]
    }
   ],
   "source": [
    "model = AutoModelForSequenceClassification.from_pretrained(\n",
    "    \"answerdotai/ModernBERT-base\", num_labels=2, token=hg_token, attn_implementation=\"flash_attention_2\"\n",
    ")"
   ]
  },
  {
   "cell_type": "code",
   "execution_count": 45,
   "metadata": {
    "tags": []
   },
   "outputs": [
    {
     "name": "stderr",
     "output_type": "stream",
     "text": [
      "The new embeddings will be initialized from a multivariate normal distribution that has old embeddings' mean and covariance. As described in this article: https://nlp.stanford.edu/~johnhew/vocab-expansion.html. To disable this, use `mean_resizing=False`\n"
     ]
    },
    {
     "data": {
      "text/plain": [
       "Embedding(50370, 768, padding_idx=50283)"
      ]
     },
     "execution_count": 45,
     "metadata": {},
     "output_type": "execute_result"
    }
   ],
   "source": [
    "# Resize model embeddings to match new special tokens\n",
    "model.resize_token_embeddings(len(tokenizer))"
   ]
  },
  {
   "cell_type": "markdown",
   "metadata": {},
   "source": [
    "Check if model parameters are trainable (Ensure We Are Training End-to-End)"
   ]
  },
  {
   "cell_type": "code",
   "execution_count": 46,
   "metadata": {
    "collapsed": false,
    "jupyter": {
     "outputs_hidden": false
    },
    "tags": []
   },
   "outputs": [],
   "source": [
    "for param in model.parameters():\n",
    "    param.requires_grad = True  # Ensure the entire model is updated"
   ]
  },
  {
   "cell_type": "markdown",
   "metadata": {},
   "source": [
    "Prepare the dataset"
   ]
  },
  {
   "cell_type": "code",
   "execution_count": 47,
   "metadata": {
    "collapsed": false,
    "jupyter": {
     "outputs_hidden": false
    },
    "tags": []
   },
   "outputs": [],
   "source": [
    "dataset_train = Dataset.from_pandas(train_df)\n",
    "dataset_test = Dataset.from_pandas(test_df)"
   ]
  },
  {
   "cell_type": "code",
   "execution_count": 48,
   "metadata": {
    "collapsed": false,
    "jupyter": {
     "outputs_hidden": false
    },
    "tags": []
   },
   "outputs": [
    {
     "data": {
      "application/vnd.jupyter.widget-view+json": {
       "model_id": "35161b02e95046db93800b14b047f189",
       "version_major": 2,
       "version_minor": 0
      },
      "text/plain": [
       "Tokenizing:   0%|          | 0/267410 [00:00<?, ?it/s]"
      ]
     },
     "metadata": {},
     "output_type": "display_data"
    }
   ],
   "source": [
    "progress_bar = tqdm(total=((len(dataset_train)+len(dataset_test))),\n",
    "                    desc=\"Tokenizing\", position=0, leave=True)"
   ]
  },
  {
   "cell_type": "code",
   "execution_count": 49,
   "metadata": {
    "collapsed": false,
    "jupyter": {
     "outputs_hidden": false
    },
    "tags": []
   },
   "outputs": [],
   "source": [
    "def tokenize_batch(batch):\n",
    "    encodings = tokenizer(\n",
    "        batch[\"question\"],\n",
    "        batch[\"context\"],\n",
    "        padding=\"max_length\",\n",
    "        truncation=True,\n",
    "        max_length=CONTEXT_LENGTH,\n",
    "        return_tensors=\"pt\"\n",
    "    )\n",
    "    return {\n",
    "        \"input_ids\": encodings[\"input_ids\"].tolist(),\n",
    "        \"attention_mask\": encodings[\"attention_mask\"].tolist(),\n",
    "        \"labels\": batch[\"label\"]\n",
    "    }\n",
    "\n",
    "def tokenize_with_progress(batch):\n",
    "    out = tokenize_batch(batch)\n",
    "    progress_bar.update(len(batch[\"question\"]))\n",
    "    return out"
   ]
  },
  {
   "cell_type": "code",
   "execution_count": 50,
   "metadata": {
    "tags": []
   },
   "outputs": [
    {
     "name": "stderr",
     "output_type": "stream",
     "text": [
      "Parameter 'function'=<function tokenize_with_progress at 0x149d11443e20> of the transform datasets.arrow_dataset.Dataset._map_single couldn't be hashed properly, a random hash was used instead. Make sure your transforms and parameters are serializable with pickle or dill for the dataset fingerprinting and caching to work. If you reuse this transform, the caching mechanism will consider it to be different from the previous calls and recompute everything. This warning is only showed once. Subsequent hashing failures won't be showed.\n"
     ]
    },
    {
     "data": {
      "application/vnd.jupyter.widget-view+json": {
       "model_id": "537007ead2364d569fa49b7fb0e8bbf9",
       "version_major": 2,
       "version_minor": 0
      },
      "text/plain": [
       "Map:   0%|          | 0/237544 [00:00<?, ? examples/s]"
      ]
     },
     "metadata": {},
     "output_type": "display_data"
    },
    {
     "data": {
      "application/vnd.jupyter.widget-view+json": {
       "model_id": "7ac7b26a62e749dfbf2a2f6751a00808",
       "version_major": 2,
       "version_minor": 0
      },
      "text/plain": [
       "Map:   0%|          | 0/29866 [00:00<?, ? examples/s]"
      ]
     },
     "metadata": {},
     "output_type": "display_data"
    }
   ],
   "source": [
    "tokenized_dataset_train = dataset_train.map(tokenize_with_progress, batched=True, batch_size=BATCH_SIZE)\n",
    "tokenized_dataset_test = dataset_test.map(tokenize_with_progress, batched=True, batch_size=BATCH_SIZE)"
   ]
  },
  {
   "cell_type": "code",
   "execution_count": 51,
   "metadata": {
    "tags": []
   },
   "outputs": [],
   "source": [
    "progress_bar.close()"
   ]
  },
  {
   "cell_type": "markdown",
   "metadata": {},
   "source": [
    "Convert to PyTorch Dataset (Ensure dataset is set to PyTorch format)"
   ]
  },
  {
   "cell_type": "code",
   "execution_count": 52,
   "metadata": {
    "collapsed": false,
    "jupyter": {
     "outputs_hidden": false
    },
    "tags": []
   },
   "outputs": [],
   "source": [
    "tokenized_dataset_train.set_format(type=\"torch\", columns=[\"input_ids\", \"attention_mask\", \"labels\"])\n",
    "tokenized_dataset_test.set_format(type=\"torch\", columns=[\"input_ids\", \"attention_mask\", \"labels\"])"
   ]
  },
  {
   "cell_type": "markdown",
   "metadata": {},
   "source": [
    "Create DataLoader for Batching"
   ]
  },
  {
   "cell_type": "code",
   "execution_count": 53,
   "metadata": {
    "collapsed": false,
    "jupyter": {
     "outputs_hidden": false
    },
    "tags": []
   },
   "outputs": [
    {
     "name": "stdout",
     "output_type": "stream",
     "text": [
      "{'input_ids': torch.Size([64, 512]), 'attention_mask': torch.Size([64, 512]), 'labels': torch.Size([64])}\n"
     ]
    }
   ],
   "source": [
    "train_dataloader = DataLoader(tokenized_dataset_train, batch_size=BATCH_SIZE, shuffle=True)\n",
    "test_dataloader = DataLoader(tokenized_dataset_test, batch_size=BATCH_SIZE)\n",
    "\n",
    "# Check one batch\n",
    "batch = next(iter(train_dataloader))\n",
    "print({key: value.shape for key, value in batch.items()})"
   ]
  },
  {
   "cell_type": "markdown",
   "metadata": {},
   "source": [
    "Quick check if everything is correct before training"
   ]
  },
  {
   "cell_type": "code",
   "execution_count": 54,
   "metadata": {
    "collapsed": false,
    "jupyter": {
     "outputs_hidden": false
    },
    "tags": []
   },
   "outputs": [
    {
     "name": "stdout",
     "output_type": "stream",
     "text": [
      "----- Training Set -----\n",
      "Dataset({\n",
      "    features: ['question', 'context', 'target_sentence', 'target_index', 'label', 'input_ids', 'attention_mask', 'labels'],\n",
      "    num_rows: 237544\n",
      "})\n",
      "['question', 'context', 'target_sentence', 'target_index', 'label', 'input_ids', 'attention_mask', 'labels']\n",
      "----- Test Set -----\n",
      "Dataset({\n",
      "    features: ['question', 'context', 'target_sentence', 'target_index', 'label', 'input_ids', 'attention_mask', 'labels'],\n",
      "    num_rows: 29866\n",
      "})\n",
      "['question', 'context', 'target_sentence', 'target_index', 'label', 'input_ids', 'attention_mask', 'labels']\n"
     ]
    }
   ],
   "source": [
    "print(\"----- Training Set -----\")\n",
    "print(tokenized_dataset_train)\n",
    "print(tokenized_dataset_train.column_names)\n",
    "print(\"----- Test Set -----\")\n",
    "print(tokenized_dataset_test)\n",
    "print(tokenized_dataset_test.column_names)"
   ]
  },
  {
   "cell_type": "code",
   "execution_count": 55,
   "metadata": {
    "collapsed": false,
    "jupyter": {
     "outputs_hidden": false
    },
    "tags": []
   },
   "outputs": [],
   "source": [
    "output_dir = Path(\"../../checkpoints\")\n",
    "output_dir.mkdir(parents=True, exist_ok=True)"
   ]
  },
  {
   "cell_type": "markdown",
   "metadata": {},
   "source": [
    "# Training Configurations"
   ]
  },
  {
   "cell_type": "markdown",
   "metadata": {},
   "source": [
    "Define training arguments & initialize trainer"
   ]
  },
  {
   "cell_type": "code",
   "execution_count": 56,
   "metadata": {
    "tags": []
   },
   "outputs": [],
   "source": [
    "NUM_EPOCHS = 3\n",
    "BATCH_SIZE = 64\n",
    "LEARNING_RATE = 5e-5\n",
    "DATASET_NAME = \"pubmedqa\"\n",
    "\n",
    "WANDB_PROJECT_NAME = \"RAGBENCH-PUBMED\"\n",
    "WANDB_RUN_NAME = f\"Train-Improved-WindowSize:{WINDOW_SIZE}-03\"\n",
    "WANDB_NOTEBOOK_NAME = \"train_sc_on_pubmed\""
   ]
  },
  {
   "cell_type": "markdown",
   "metadata": {},
   "source": [
    "Setup W&B"
   ]
  },
  {
   "cell_type": "code",
   "execution_count": 57,
   "metadata": {},
   "outputs": [
    {
     "name": "stderr",
     "output_type": "stream",
     "text": [
      "\u001b[34m\u001b[1mwandb\u001b[0m: Using wandb-core as the SDK backend.  Please refer to https://wandb.me/wandb-core for more information.\n",
      "\u001b[34m\u001b[1mwandb\u001b[0m: Currently logged in as: \u001b[33mflackojodye\u001b[0m (\u001b[33masap\u001b[0m) to \u001b[32mhttps://api.wandb.ai\u001b[0m. Use \u001b[1m`wandb login --relogin`\u001b[0m to force relogin\n"
     ]
    },
    {
     "data": {
      "text/plain": [
       "True"
      ]
     },
     "execution_count": 57,
     "metadata": {},
     "output_type": "execute_result"
    }
   ],
   "source": [
    "os.environ[\"WANDB_NOTEBOOK_NAME\"] = \"train_sc_on_pubmed.ipynb\"\n",
    "wandb.login()"
   ]
  },
  {
   "cell_type": "code",
   "execution_count": 58,
   "metadata": {},
   "outputs": [],
   "source": [
    "config = dict(\n",
    "    epochs=NUM_EPOCHS,\n",
    "    batch_size=BATCH_SIZE,\n",
    "    learning_rate=LEARNING_RATE,\n",
    "    dataset=DATASET_NAME,\n",
    "    architecture=\"MODERN-BERT\",\n",
    "    window_size=WINDOW_SIZE,\n",
    "    early_stopping=True,\n",
    "    eval_steps=500,\n",
    "    label_smoothing_factor=0.0,\n",
    "    gradient_clipping=1.0,\n",
    "    load_best_model=True,\n",
    "    metric_for_best_model=\"f1\",\n",
    "    input_format=\"question + context with [START]/[END]\"\n",
    ")\n"
   ]
  },
  {
   "cell_type": "markdown",
   "metadata": {},
   "source": [
    "Generate run-id to resume same run after training "
   ]
  },
  {
   "cell_type": "code",
   "execution_count": 59,
   "metadata": {
    "tags": []
   },
   "outputs": [],
   "source": [
    "run_id = wandb.util.generate_id()"
   ]
  },
  {
   "cell_type": "code",
   "execution_count": 60,
   "metadata": {},
   "outputs": [
    {
     "data": {
      "text/html": [
       "Tracking run with wandb version 0.19.9"
      ],
      "text/plain": [
       "<IPython.core.display.HTML object>"
      ]
     },
     "metadata": {},
     "output_type": "display_data"
    },
    {
     "data": {
      "text/html": [
       "Run data is saved locally in <code>/home/paul.schmitt/verbatim-rag/exploration/RAGBENCH/wandb/run-20250406_155303-6hgr88p4</code>"
      ],
      "text/plain": [
       "<IPython.core.display.HTML object>"
      ]
     },
     "metadata": {},
     "output_type": "display_data"
    },
    {
     "data": {
      "text/html": [
       "Syncing run <strong><a href='https://wandb.ai/asap/RAGBENCH-PUBMED/runs/6hgr88p4' target=\"_blank\">Train-Improved-WindowSize:0-03</a></strong> to <a href='https://wandb.ai/asap/RAGBENCH-PUBMED' target=\"_blank\">Weights & Biases</a> (<a href='https://wandb.me/developer-guide' target=\"_blank\">docs</a>)<br>"
      ],
      "text/plain": [
       "<IPython.core.display.HTML object>"
      ]
     },
     "metadata": {},
     "output_type": "display_data"
    },
    {
     "data": {
      "text/html": [
       " View project at <a href='https://wandb.ai/asap/RAGBENCH-PUBMED' target=\"_blank\">https://wandb.ai/asap/RAGBENCH-PUBMED</a>"
      ],
      "text/plain": [
       "<IPython.core.display.HTML object>"
      ]
     },
     "metadata": {},
     "output_type": "display_data"
    },
    {
     "data": {
      "text/html": [
       " View run at <a href='https://wandb.ai/asap/RAGBENCH-PUBMED/runs/6hgr88p4' target=\"_blank\">https://wandb.ai/asap/RAGBENCH-PUBMED/runs/6hgr88p4</a>"
      ],
      "text/plain": [
       "<IPython.core.display.HTML object>"
      ]
     },
     "metadata": {},
     "output_type": "display_data"
    },
    {
     "data": {
      "text/html": [
       "<button onClick=\"this.nextSibling.style.display='block';this.style.display='none';\">Display W&B run</button><iframe src='https://wandb.ai/asap/RAGBENCH-PUBMED/runs/6hgr88p4?jupyter=true' style='border:none;width:100%;height:420px;display:none;'></iframe>"
      ],
      "text/plain": [
       "<wandb.sdk.wandb_run.Run at 0x149d114e8040>"
      ]
     },
     "execution_count": 60,
     "metadata": {},
     "output_type": "execute_result"
    }
   ],
   "source": [
    "wandb.init(\n",
    "    project=WANDB_PROJECT_NAME,\n",
    "    name=WANDB_RUN_NAME,\n",
    "    config=config,\n",
    "    id=run_id,\n",
    "    resume=\"allow\"               # resume if it exists, else start new\n",
    ")"
   ]
  },
  {
   "cell_type": "code",
   "execution_count": 61,
   "metadata": {
    "tags": []
   },
   "outputs": [],
   "source": [
    "def compute_metrics(eval_pred):\n",
    "    logits, labels = eval_pred\n",
    "    predictions = logits.argmax(axis=-1)\n",
    "\n",
    "    return {\n",
    "        \"accuracy\": accuracy_score(labels, predictions),\n",
    "        \"f1\": f1_score(labels, predictions),\n",
    "        \"precision\": precision_score(labels, predictions),\n",
    "        \"recall\": recall_score(labels, predictions),\n",
    "    }"
   ]
  },
  {
   "cell_type": "code",
   "execution_count": 62,
   "metadata": {
    "collapsed": false,
    "jupyter": {
     "outputs_hidden": false
    },
    "tags": []
   },
   "outputs": [
    {
     "name": "stderr",
     "output_type": "stream",
     "text": [
      "/home/paul.schmitt/.local/lib/python3.10/site-packages/transformers/training_args.py:1594: FutureWarning: `evaluation_strategy` is deprecated and will be removed in version 4.46 of 🤗 Transformers. Use `eval_strategy` instead\n",
      "  warnings.warn(\n",
      "Some weights of ModernBertForSequenceClassification were not initialized from the model checkpoint at answerdotai/ModernBERT-base and are newly initialized: ['classifier.bias', 'classifier.weight']\n",
      "You should probably TRAIN this model on a down-stream task to be able to use it for predictions and inference.\n"
     ]
    }
   ],
   "source": [
    "training_args = TrainingArguments(\n",
    "    output_dir=output_dir,                        # Where model checkpoints will be saved\n",
    "    run_name=WANDB_RUN_NAME,                      # Name for W&B tracking\n",
    "    learning_rate=LEARNING_RATE,                  # Base learning rate\n",
    "    per_device_train_batch_size=BATCH_SIZE,       # Training batch size\n",
    "    per_device_eval_batch_size=(2 * BATCH_SIZE),  # Larger eval batch size to speed up\n",
    "    num_train_epochs=NUM_EPOCHS,                  # Total training epochs\n",
    "    weight_decay=0.01,                            # L2 regularization\n",
    "    \n",
    "    # Evaluation and saving settings\n",
    "    evaluation_strategy=\"steps\",                  # Evaluate every N steps\n",
    "    eval_steps=500,                               # Eval frequency\n",
    "    save_strategy=\"steps\",                        # Save checkpoints every N steps\n",
    "    save_steps=500,\n",
    "    \n",
    "    # Logging\n",
    "    logging_dir=\"./logs\",                         # Log folder\n",
    "    logging_strategy=\"steps\",\n",
    "    logging_steps=250,\n",
    "    report_to=\"wandb\",                            # Log to Weights & Biases\n",
    "\n",
    "    # Smart checkpointing\n",
    "    load_best_model_at_end=True,                  # Load the best model after training\n",
    "    metric_for_best_model=\"f1\",                   # Focus on F1 (False positives and false negatives both matter)\n",
    "    greater_is_better=True,                       # Higher F1 is better\n",
    "\n",
    "    # Optimization tweaks\n",
    "    gradient_accumulation_steps=1,                # For effective batch size\n",
    "    label_smoothing_factor=0.0,                   # Helps generalization for classification\n",
    "    fp16=True,                                    # Mixed precision for faster training (if supported)\n",
    "    gradient_checkpointing=True,                  # Reduce memory usage during training\n",
    "    max_grad_norm=1.0                             # Clip gradients to avoid instability\n",
    ")\n",
    "\n",
    "\n",
    "\n",
    "trainer = Trainer(\n",
    "    model=model,\n",
    "    args=training_args,\n",
    "    train_dataset=tokenized_dataset_train,\n",
    "    eval_dataset=tokenized_dataset_test,\n",
    "    compute_metrics=compute_metrics,\n",
    "    callbacks=[EarlyStoppingCallback(early_stopping_patience=4)] # Prevent overfitting by stopping when eval loss stops improving\n",
    ")\n",
    "\n",
    "\n",
    "model = AutoModelForSequenceClassification.from_pretrained(\n",
    "    \"answerdotai/ModernBERT-base\", num_labels=2, token=hg_token, attn_implementation=\"flash_attention_2\"\n",
    ")"
   ]
  },
  {
   "cell_type": "markdown",
   "metadata": {},
   "source": [
    "Make sure we are using the GPU"
   ]
  },
  {
   "cell_type": "code",
   "execution_count": 63,
   "metadata": {
    "tags": []
   },
   "outputs": [
    {
     "name": "stdout",
     "output_type": "stream",
     "text": [
      "GPU Available: True\n",
      "GPU Name: NVIDIA A40\n"
     ]
    }
   ],
   "source": [
    "print(\"GPU Available:\", torch.cuda.is_available())  \n",
    "print(\"GPU Name:\", torch.cuda.get_device_name(0) if torch.cuda.is_available() else \"No GPU detected\")"
   ]
  },
  {
   "cell_type": "code",
   "execution_count": 64,
   "metadata": {
    "tags": []
   },
   "outputs": [],
   "source": [
    "model.to(\"cuda\");"
   ]
  },
  {
   "cell_type": "code",
   "execution_count": 65,
   "metadata": {
    "collapsed": false,
    "jupyter": {
     "outputs_hidden": false
    },
    "tags": []
   },
   "outputs": [
    {
     "data": {
      "text/html": [
       "\n",
       "    <div>\n",
       "      \n",
       "      <progress value='8500' max='11136' style='width:300px; height:20px; vertical-align: middle;'></progress>\n",
       "      [ 8500/11136 18:48 < 05:49, 7.53 it/s, Epoch 2/3]\n",
       "    </div>\n",
       "    <table border=\"1\" class=\"dataframe\">\n",
       "  <thead>\n",
       " <tr style=\"text-align: left;\">\n",
       "      <th>Step</th>\n",
       "      <th>Training Loss</th>\n",
       "      <th>Validation Loss</th>\n",
       "      <th>Accuracy</th>\n",
       "      <th>F1</th>\n",
       "      <th>Precision</th>\n",
       "      <th>Recall</th>\n",
       "    </tr>\n",
       "  </thead>\n",
       "  <tbody>\n",
       "    <tr>\n",
       "      <td>500</td>\n",
       "      <td>0.687000</td>\n",
       "      <td>0.696534</td>\n",
       "      <td>0.477566</td>\n",
       "      <td>0.569608</td>\n",
       "      <td>0.429029</td>\n",
       "      <td>0.847214</td>\n",
       "    </tr>\n",
       "    <tr>\n",
       "      <td>1000</td>\n",
       "      <td>0.675800</td>\n",
       "      <td>0.706886</td>\n",
       "      <td>0.489486</td>\n",
       "      <td>0.574403</td>\n",
       "      <td>0.435274</td>\n",
       "      <td>0.844260</td>\n",
       "    </tr>\n",
       "    <tr>\n",
       "      <td>1500</td>\n",
       "      <td>0.646600</td>\n",
       "      <td>0.647403</td>\n",
       "      <td>0.624657</td>\n",
       "      <td>0.543455</td>\n",
       "      <td>0.539500</td>\n",
       "      <td>0.547469</td>\n",
       "    </tr>\n",
       "    <tr>\n",
       "      <td>2000</td>\n",
       "      <td>0.619100</td>\n",
       "      <td>0.645990</td>\n",
       "      <td>0.637548</td>\n",
       "      <td>0.583349</td>\n",
       "      <td>0.549369</td>\n",
       "      <td>0.621810</td>\n",
       "    </tr>\n",
       "    <tr>\n",
       "      <td>2500</td>\n",
       "      <td>0.599700</td>\n",
       "      <td>0.687109</td>\n",
       "      <td>0.625561</td>\n",
       "      <td>0.610715</td>\n",
       "      <td>0.530351</td>\n",
       "      <td>0.719783</td>\n",
       "    </tr>\n",
       "    <tr>\n",
       "      <td>3000</td>\n",
       "      <td>0.583400</td>\n",
       "      <td>0.665958</td>\n",
       "      <td>0.633262</td>\n",
       "      <td>0.617015</td>\n",
       "      <td>0.537594</td>\n",
       "      <td>0.723968</td>\n",
       "    </tr>\n",
       "    <tr>\n",
       "      <td>3500</td>\n",
       "      <td>0.573300</td>\n",
       "      <td>0.640495</td>\n",
       "      <td>0.638418</td>\n",
       "      <td>0.615434</td>\n",
       "      <td>0.543664</td>\n",
       "      <td>0.709034</td>\n",
       "    </tr>\n",
       "    <tr>\n",
       "      <td>4000</td>\n",
       "      <td>0.514600</td>\n",
       "      <td>0.695179</td>\n",
       "      <td>0.619701</td>\n",
       "      <td>0.619599</td>\n",
       "      <td>0.523457</td>\n",
       "      <td>0.759005</td>\n",
       "    </tr>\n",
       "    <tr>\n",
       "      <td>4500</td>\n",
       "      <td>0.513400</td>\n",
       "      <td>0.748803</td>\n",
       "      <td>0.619233</td>\n",
       "      <td>0.622067</td>\n",
       "      <td>0.522762</td>\n",
       "      <td>0.767949</td>\n",
       "    </tr>\n",
       "    <tr>\n",
       "      <td>5000</td>\n",
       "      <td>0.492400</td>\n",
       "      <td>0.714757</td>\n",
       "      <td>0.627670</td>\n",
       "      <td>0.618499</td>\n",
       "      <td>0.531455</td>\n",
       "      <td>0.739641</td>\n",
       "    </tr>\n",
       "    <tr>\n",
       "      <td>5500</td>\n",
       "      <td>0.495800</td>\n",
       "      <td>0.704065</td>\n",
       "      <td>0.633396</td>\n",
       "      <td>0.622773</td>\n",
       "      <td>0.536762</td>\n",
       "      <td>0.741610</td>\n",
       "    </tr>\n",
       "    <tr>\n",
       "      <td>6000</td>\n",
       "      <td>0.480500</td>\n",
       "      <td>0.693973</td>\n",
       "      <td>0.641432</td>\n",
       "      <td>0.621309</td>\n",
       "      <td>0.545923</td>\n",
       "      <td>0.720850</td>\n",
       "    </tr>\n",
       "    <tr>\n",
       "      <td>6500</td>\n",
       "      <td>0.477200</td>\n",
       "      <td>0.732227</td>\n",
       "      <td>0.622949</td>\n",
       "      <td>0.625843</td>\n",
       "      <td>0.525851</td>\n",
       "      <td>0.772791</td>\n",
       "    </tr>\n",
       "    <tr>\n",
       "      <td>7000</td>\n",
       "      <td>0.477600</td>\n",
       "      <td>0.716353</td>\n",
       "      <td>0.626364</td>\n",
       "      <td>0.623833</td>\n",
       "      <td>0.529408</td>\n",
       "      <td>0.759252</td>\n",
       "    </tr>\n",
       "    <tr>\n",
       "      <td>7500</td>\n",
       "      <td>0.428600</td>\n",
       "      <td>0.832649</td>\n",
       "      <td>0.630449</td>\n",
       "      <td>0.619637</td>\n",
       "      <td>0.534165</td>\n",
       "      <td>0.737671</td>\n",
       "    </tr>\n",
       "    <tr>\n",
       "      <td>8000</td>\n",
       "      <td>0.338700</td>\n",
       "      <td>0.856002</td>\n",
       "      <td>0.628373</td>\n",
       "      <td>0.618394</td>\n",
       "      <td>0.532193</td>\n",
       "      <td>0.737917</td>\n",
       "    </tr>\n",
       "    <tr>\n",
       "      <td>8500</td>\n",
       "      <td>0.348100</td>\n",
       "      <td>0.796840</td>\n",
       "      <td>0.638954</td>\n",
       "      <td>0.614052</td>\n",
       "      <td>0.544566</td>\n",
       "      <td>0.703865</td>\n",
       "    </tr>\n",
       "  </tbody>\n",
       "</table><p>"
      ],
      "text/plain": [
       "<IPython.core.display.HTML object>"
      ]
     },
     "metadata": {},
     "output_type": "display_data"
    },
    {
     "data": {
      "text/plain": [
       "TrainOutput(global_step=8500, training_loss=0.5313046587775735, metrics={'train_runtime': 1129.6541, 'train_samples_per_second': 630.841, 'train_steps_per_second': 9.858, 'total_flos': 1.8535591185609523e+17, 'train_loss': 0.5313046587775735, 'epoch': 2.2898706896551726})"
      ]
     },
     "execution_count": 65,
     "metadata": {},
     "output_type": "execute_result"
    }
   ],
   "source": [
    "trainer.train()"
   ]
  },
  {
   "cell_type": "markdown",
   "metadata": {},
   "source": [
    "Save the model (optional)"
   ]
  },
  {
   "cell_type": "code",
   "execution_count": 66,
   "metadata": {
    "tags": []
   },
   "outputs": [],
   "source": [
    "models_dir = Path(\"../../models/\")\n",
    "models_dir.mkdir(parents=True, exist_ok=True)"
   ]
  },
  {
   "cell_type": "code",
   "execution_count": 67,
   "metadata": {
    "tags": []
   },
   "outputs": [
    {
     "data": {
      "text/plain": [
       "('../../models/tokenizer_config.json',\n",
       " '../../models/special_tokens_map.json',\n",
       " '../../models/tokenizer.json')"
      ]
     },
     "execution_count": 67,
     "metadata": {},
     "output_type": "execute_result"
    }
   ],
   "source": [
    "model.save_pretrained(models_dir)\n",
    "tokenizer.save_pretrained(models_dir)"
   ]
  },
  {
   "cell_type": "markdown",
   "metadata": {},
   "source": [
    "**Check Results**"
   ]
  },
  {
   "cell_type": "markdown",
   "metadata": {},
   "source": [
    "Initialize this one more time because wandb closes automatically after training"
   ]
  },
  {
   "cell_type": "code",
   "execution_count": 68,
   "metadata": {
    "tags": []
   },
   "outputs": [
    {
     "data": {
      "text/html": [],
      "text/plain": [
       "<IPython.core.display.HTML object>"
      ]
     },
     "metadata": {},
     "output_type": "display_data"
    },
    {
     "data": {
      "text/html": [
       "<br>    <style><br>        .wandb-row {<br>            display: flex;<br>            flex-direction: row;<br>            flex-wrap: wrap;<br>            justify-content: flex-start;<br>            width: 100%;<br>        }<br>        .wandb-col {<br>            display: flex;<br>            flex-direction: column;<br>            flex-basis: 100%;<br>            flex: 1;<br>            padding: 10px;<br>        }<br>    </style><br><div class=\"wandb-row\"><div class=\"wandb-col\"><h3>Run history:</h3><br/><table class=\"wandb\"><tr><td>eval/accuracy</td><td>▁▂▇█▇██▇▇▇██▇▇█▇█</td></tr><tr><td>eval/f1</td><td>▃▄▁▄▇▇▇▇█▇████▇▇▇</td></tr><tr><td>eval/loss</td><td>▃▃▁▁▃▂▁▃▅▃▃▃▄▃▇█▆</td></tr><tr><td>eval/precision</td><td>▁▁▇█▇▇█▆▆▇▇█▇▇▇▇█</td></tr><tr><td>eval/recall</td><td>██▁▃▅▅▅▆▆▅▆▅▆▆▅▅▅</td></tr><tr><td>eval/runtime</td><td>▁▆▃▅▃▄▃▄▄▃▅▅▄▄█▇█</td></tr><tr><td>eval/samples_per_second</td><td>█▃▆▄▆▅▆▅▅▆▄▄▅▅▁▂▁</td></tr><tr><td>eval/steps_per_second</td><td>█▃▆▄▆▅▆▅▅▆▄▄▅▅▁▂▁</td></tr><tr><td>train/epoch</td><td>▁▁▁▂▂▂▂▂▂▂▃▃▃▃▃▄▄▄▄▅▅▅▅▅▅▆▆▆▆▆▇▇▇▇▇█████</td></tr><tr><td>train/global_step</td><td>▁▁▁▁▂▂▂▂▂▂▃▃▃▃▃▄▄▄▄▄▅▅▅▅▅▅▆▆▆▆▆▇▇▇▇▇████</td></tr><tr><td>train/grad_norm</td><td>▁▁▃▁▃▂▃▃▃▃▂▄▃▂▆▄▅▄▄▄▅▅▆▅▄▅▄▇▅█▇█▆▇</td></tr><tr><td>train/learning_rate</td><td>███▇▇▇▇▇▆▆▆▆▅▅▅▅▅▄▄▄▄▄▃▃▃▃▂▂▂▂▂▁▁▁</td></tr><tr><td>train/loss</td><td>███▇▇▇▇▆▆▆▆▆▆▆▅▄▄▄▄▄▄▄▄▄▄▄▄▄▃▃▁▁▁▁</td></tr></table><br/></div><div class=\"wandb-col\"><h3>Run summary:</h3><br/><table class=\"wandb\"><tr><td>eval/accuracy</td><td>0.63895</td></tr><tr><td>eval/f1</td><td>0.61405</td></tr><tr><td>eval/loss</td><td>0.79684</td></tr><tr><td>eval/precision</td><td>0.54457</td></tr><tr><td>eval/recall</td><td>0.70386</td></tr><tr><td>eval/runtime</td><td>9.9053</td></tr><tr><td>eval/samples_per_second</td><td>3015.157</td></tr><tr><td>eval/steps_per_second</td><td>23.624</td></tr><tr><td>total_flos</td><td>1.8535591185609523e+17</td></tr><tr><td>train/epoch</td><td>2.28987</td></tr><tr><td>train/global_step</td><td>8500</td></tr><tr><td>train/grad_norm</td><td>5.99268</td></tr><tr><td>train/learning_rate</td><td>1e-05</td></tr><tr><td>train/loss</td><td>0.3481</td></tr><tr><td>train_loss</td><td>0.5313</td></tr><tr><td>train_runtime</td><td>1129.6541</td></tr><tr><td>train_samples_per_second</td><td>630.841</td></tr><tr><td>train_steps_per_second</td><td>9.858</td></tr></table><br/></div></div>"
      ],
      "text/plain": [
       "<IPython.core.display.HTML object>"
      ]
     },
     "metadata": {},
     "output_type": "display_data"
    },
    {
     "data": {
      "text/html": [
       " View run <strong style=\"color:#cdcd00\">Train-Improved-WindowSize:0-03</strong> at: <a href='https://wandb.ai/asap/RAGBENCH-PUBMED/runs/6hgr88p4' target=\"_blank\">https://wandb.ai/asap/RAGBENCH-PUBMED/runs/6hgr88p4</a><br> View project at: <a href='https://wandb.ai/asap/RAGBENCH-PUBMED' target=\"_blank\">https://wandb.ai/asap/RAGBENCH-PUBMED</a><br>Synced 5 W&B file(s), 0 media file(s), 0 artifact file(s) and 0 other file(s)"
      ],
      "text/plain": [
       "<IPython.core.display.HTML object>"
      ]
     },
     "metadata": {},
     "output_type": "display_data"
    },
    {
     "data": {
      "text/html": [
       "Find logs at: <code>./wandb/run-20250406_155303-6hgr88p4/logs</code>"
      ],
      "text/plain": [
       "<IPython.core.display.HTML object>"
      ]
     },
     "metadata": {},
     "output_type": "display_data"
    },
    {
     "data": {
      "text/html": [
       "Tracking run with wandb version 0.19.9"
      ],
      "text/plain": [
       "<IPython.core.display.HTML object>"
      ]
     },
     "metadata": {},
     "output_type": "display_data"
    },
    {
     "data": {
      "text/html": [
       "Run data is saved locally in <code>/home/paul.schmitt/verbatim-rag/exploration/RAGBENCH/wandb/run-20250406_161156-6hgr88p4</code>"
      ],
      "text/plain": [
       "<IPython.core.display.HTML object>"
      ]
     },
     "metadata": {},
     "output_type": "display_data"
    },
    {
     "data": {
      "text/html": [
       "Resuming run <strong><a href='https://wandb.ai/asap/RAGBENCH-PUBMED/runs/6hgr88p4' target=\"_blank\">Train-Improved-WindowSize:0-03</a></strong> to <a href='https://wandb.ai/asap/RAGBENCH-PUBMED' target=\"_blank\">Weights & Biases</a> (<a href='https://wandb.me/developer-guide' target=\"_blank\">docs</a>)<br>"
      ],
      "text/plain": [
       "<IPython.core.display.HTML object>"
      ]
     },
     "metadata": {},
     "output_type": "display_data"
    },
    {
     "data": {
      "text/html": [
       " View project at <a href='https://wandb.ai/asap/RAGBENCH-PUBMED' target=\"_blank\">https://wandb.ai/asap/RAGBENCH-PUBMED</a>"
      ],
      "text/plain": [
       "<IPython.core.display.HTML object>"
      ]
     },
     "metadata": {},
     "output_type": "display_data"
    },
    {
     "data": {
      "text/html": [
       " View run at <a href='https://wandb.ai/asap/RAGBENCH-PUBMED/runs/6hgr88p4' target=\"_blank\">https://wandb.ai/asap/RAGBENCH-PUBMED/runs/6hgr88p4</a>"
      ],
      "text/plain": [
       "<IPython.core.display.HTML object>"
      ]
     },
     "metadata": {},
     "output_type": "display_data"
    }
   ],
   "source": [
    "run = wandb.init(\n",
    "    project=WANDB_PROJECT_NAME,\n",
    "    id=run_id,\n",
    "    resume=\"must\"  # must resume, or error if run doesn't exist\n",
    ")"
   ]
  },
  {
   "cell_type": "code",
   "execution_count": 69,
   "metadata": {
    "tags": []
   },
   "outputs": [
    {
     "data": {
      "text/html": [],
      "text/plain": [
       "<IPython.core.display.HTML object>"
      ]
     },
     "metadata": {},
     "output_type": "display_data"
    }
   ],
   "source": [
    "results = trainer.evaluate()\n",
    "df_results = pd.DataFrame([results])"
   ]
  },
  {
   "cell_type": "code",
   "execution_count": 70,
   "metadata": {
    "tags": []
   },
   "outputs": [],
   "source": [
    "label_names = [\"Not Relevant\", \"Essential\"]"
   ]
  },
  {
   "cell_type": "markdown",
   "metadata": {},
   "source": [
    "## Main Model"
   ]
  },
  {
   "cell_type": "markdown",
   "metadata": {},
   "source": [
    "Load model & tokenizer"
   ]
  },
  {
   "cell_type": "code",
   "execution_count": 71,
   "metadata": {
    "tags": []
   },
   "outputs": [],
   "source": [
    "'''\n",
    "model = AutoModelForSequenceClassification.from_pretrained(models_dir)\n",
    "# tokenizer = AutoTokenizer.from_pretrained(models_dir)\n",
    "''';"
   ]
  },
  {
   "cell_type": "markdown",
   "metadata": {},
   "source": [
    "Define training arguments"
   ]
  },
  {
   "cell_type": "code",
   "execution_count": 72,
   "metadata": {
    "tags": []
   },
   "outputs": [],
   "source": [
    "'''\n",
    "training_args = TrainingArguments(\n",
    "    output_dir=output_dir,\n",
    "    eval_strategy=\"epoch\",\n",
    "    save_strategy=\"epoch\",\n",
    "    learning_rate=5e-5,\n",
    "    per_device_train_batch_size=BATCH_SIZE,\n",
    "    per_device_eval_batch_size=(2 * BATCH_SIZE),\n",
    "    num_train_epochs=3,\n",
    "    weight_decay=0.01,\n",
    "    logging_dir=\"./logs\",\n",
    "    fp16=True,                            \n",
    "    gradient_accumulation_steps=1,\n",
    ")\n",
    "\n",
    "# Initialize Trainer\n",
    "trainer = Trainer(\n",
    "    model=model,\n",
    "    args=training_args,\n",
    "    train_dataset=tokenized_dataset_train,\n",
    "    eval_dataset=tokenized_dataset_test,\n",
    ")\n",
    "''';"
   ]
  },
  {
   "cell_type": "markdown",
   "metadata": {},
   "source": [
    "**Results**"
   ]
  },
  {
   "cell_type": "code",
   "execution_count": 73,
   "metadata": {
    "tags": []
   },
   "outputs": [
    {
     "data": {
      "text/html": [
       "<div>\n",
       "<style scoped>\n",
       "    .dataframe tbody tr th:only-of-type {\n",
       "        vertical-align: middle;\n",
       "    }\n",
       "\n",
       "    .dataframe tbody tr th {\n",
       "        vertical-align: top;\n",
       "    }\n",
       "\n",
       "    .dataframe thead th {\n",
       "        text-align: right;\n",
       "    }\n",
       "</style>\n",
       "<table border=\"1\" class=\"dataframe\">\n",
       "  <thead>\n",
       "    <tr style=\"text-align: right;\">\n",
       "      <th></th>\n",
       "      <th>eval_loss</th>\n",
       "      <th>eval_accuracy</th>\n",
       "      <th>eval_f1</th>\n",
       "      <th>eval_precision</th>\n",
       "      <th>eval_recall</th>\n",
       "      <th>eval_runtime</th>\n",
       "      <th>eval_samples_per_second</th>\n",
       "      <th>eval_steps_per_second</th>\n",
       "      <th>epoch</th>\n",
       "    </tr>\n",
       "  </thead>\n",
       "  <tbody>\n",
       "    <tr>\n",
       "      <th>0</th>\n",
       "      <td>0.732227</td>\n",
       "      <td>0.622949</td>\n",
       "      <td>0.625843</td>\n",
       "      <td>0.525851</td>\n",
       "      <td>0.772791</td>\n",
       "      <td>9.8062</td>\n",
       "      <td>3045.628</td>\n",
       "      <td>23.862</td>\n",
       "      <td>2.289871</td>\n",
       "    </tr>\n",
       "  </tbody>\n",
       "</table>\n",
       "</div>"
      ],
      "text/plain": [
       "   eval_loss  eval_accuracy   eval_f1  eval_precision  eval_recall  \\\n",
       "0   0.732227       0.622949  0.625843        0.525851     0.772791   \n",
       "\n",
       "   eval_runtime  eval_samples_per_second  eval_steps_per_second     epoch  \n",
       "0        9.8062                 3045.628                 23.862  2.289871  "
      ]
     },
     "execution_count": 73,
     "metadata": {},
     "output_type": "execute_result"
    }
   ],
   "source": [
    "df_results"
   ]
  },
  {
   "cell_type": "markdown",
   "metadata": {},
   "source": [
    "**Classification Report**"
   ]
  },
  {
   "cell_type": "code",
   "execution_count": 74,
   "metadata": {
    "tags": []
   },
   "outputs": [
    {
     "data": {
      "text/html": [
       "<div>\n",
       "<style scoped>\n",
       "    .dataframe tbody tr th:only-of-type {\n",
       "        vertical-align: middle;\n",
       "    }\n",
       "\n",
       "    .dataframe tbody tr th {\n",
       "        vertical-align: top;\n",
       "    }\n",
       "\n",
       "    .dataframe thead th {\n",
       "        text-align: right;\n",
       "    }\n",
       "</style>\n",
       "<table border=\"1\" class=\"dataframe\">\n",
       "  <thead>\n",
       "    <tr style=\"text-align: right;\">\n",
       "      <th></th>\n",
       "      <th>precision</th>\n",
       "      <th>recall</th>\n",
       "      <th>f1-score</th>\n",
       "      <th>support</th>\n",
       "    </tr>\n",
       "  </thead>\n",
       "  <tbody>\n",
       "    <tr>\n",
       "      <th>0</th>\n",
       "      <td>0.768401</td>\n",
       "      <td>0.519656</td>\n",
       "      <td>0.620010</td>\n",
       "      <td>17679.000000</td>\n",
       "    </tr>\n",
       "    <tr>\n",
       "      <th>1</th>\n",
       "      <td>0.525851</td>\n",
       "      <td>0.772791</td>\n",
       "      <td>0.625843</td>\n",
       "      <td>12187.000000</td>\n",
       "    </tr>\n",
       "    <tr>\n",
       "      <th>accuracy</th>\n",
       "      <td>0.622949</td>\n",
       "      <td>0.622949</td>\n",
       "      <td>0.622949</td>\n",
       "      <td>0.622949</td>\n",
       "    </tr>\n",
       "    <tr>\n",
       "      <th>macro avg</th>\n",
       "      <td>0.647126</td>\n",
       "      <td>0.646223</td>\n",
       "      <td>0.622927</td>\n",
       "      <td>29866.000000</td>\n",
       "    </tr>\n",
       "    <tr>\n",
       "      <th>weighted avg</th>\n",
       "      <td>0.669427</td>\n",
       "      <td>0.622949</td>\n",
       "      <td>0.622390</td>\n",
       "      <td>29866.000000</td>\n",
       "    </tr>\n",
       "  </tbody>\n",
       "</table>\n",
       "</div>"
      ],
      "text/plain": [
       "              precision    recall  f1-score       support\n",
       "0              0.768401  0.519656  0.620010  17679.000000\n",
       "1              0.525851  0.772791  0.625843  12187.000000\n",
       "accuracy       0.622949  0.622949  0.622949      0.622949\n",
       "macro avg      0.647126  0.646223  0.622927  29866.000000\n",
       "weighted avg   0.669427  0.622949  0.622390  29866.000000"
      ]
     },
     "metadata": {},
     "output_type": "display_data"
    }
   ],
   "source": [
    "predictions = trainer.predict(tokenized_dataset_test)\n",
    "preds = predictions.predictions.argmax(axis=-1)\n",
    "labels = predictions.label_ids\n",
    "report = pd.DataFrame(classification_report(labels, preds, output_dict=True)).transpose()\n",
    "display(report)"
   ]
  },
  {
   "cell_type": "code",
   "execution_count": 75,
   "metadata": {
    "tags": []
   },
   "outputs": [
    {
     "data": {
      "image/png": "[encoded data removed]",
      "text/plain": [
       "<Figure size 640x480 with 2 Axes>"
      ]
     },
     "metadata": {},
     "output_type": "display_data"
    }
   ],
   "source": [
    "cm = confusion_matrix(predictions.label_ids, preds)\n",
    "sns.heatmap(cm, annot=True, fmt='d')\n",
    "plt.xlabel('Predicted')\n",
    "plt.ylabel('True')\n",
    "plt.show()"
   ]
  },
  {
   "cell_type": "markdown",
   "metadata": {},
   "source": [
    "### Persist Results"
   ]
  },
  {
   "cell_type": "code",
   "execution_count": 76,
   "metadata": {
    "tags": []
   },
   "outputs": [],
   "source": [
    "eval_results_dir = f\"./results/{WANDB_RUN_NAME}\"\n",
    "os.makedirs(eval_results_dir, exist_ok=True)"
   ]
  },
  {
   "cell_type": "markdown",
   "metadata": {},
   "source": [
    "**Locally**"
   ]
  },
  {
   "cell_type": "code",
   "execution_count": 77,
   "metadata": {
    "tags": []
   },
   "outputs": [],
   "source": [
    "report.to_csv(os.path.join(eval_results_dir, \"classification_report.csv\"))\n",
    "\n",
    "# Save Confusion Matrix \n",
    "plt.figure(figsize=(6, 6))\n",
    "sns.heatmap(cm, annot=True, fmt='d')\n",
    "plt.xlabel(\"Predicted\")\n",
    "plt.ylabel(\"True\")\n",
    "plt.title(\"Confusion Matrix\")\n",
    "plt.tight_layout()\n",
    "plt.savefig(os.path.join(eval_results_dir, \"confusion_matrix.png\"))\n",
    "plt.close()"
   ]
  },
  {
   "cell_type": "markdown",
   "metadata": {},
   "source": [
    "**To Wandb**"
   ]
  },
  {
   "cell_type": "code",
   "execution_count": 78,
   "metadata": {
    "tags": []
   },
   "outputs": [],
   "source": [
    "metrics_to_log = {\n",
    "    \"eval/accuracy\": report.loc[\"accuracy\", \"f1-score\"],\n",
    "    \"eval/f1_weighted\": report.loc[\"weighted avg\", \"f1-score\"],\n",
    "    \"eval/f1_class_0\": report.loc[\"0\", \"f1-score\"],\n",
    "    \"eval/f1_class_1\": report.loc[\"1\", \"f1-score\"],\n",
    "    \"eval/recall_class_0\": report.loc[\"0\", \"recall\"],\n",
    "    \"eval/recall_class_1\": report.loc[\"1\", \"recall\"]\n",
    "}\n",
    "\n",
    "wandb.log(metrics_to_log)\n",
    "wandb.log({\n",
    "    \"confusion_matrix\": wandb.Image(os.path.join(eval_results_dir, \"confusion_matrix.png\"))\n",
    "})"
   ]
  },
  {
   "cell_type": "code",
   "execution_count": 79,
   "metadata": {
    "tags": []
   },
   "outputs": [
    {
     "data": {
      "text/html": [],
      "text/plain": [
       "<IPython.core.display.HTML object>"
      ]
     },
     "metadata": {},
     "output_type": "display_data"
    },
    {
     "data": {
      "text/html": [
       "<br>    <style><br>        .wandb-row {<br>            display: flex;<br>            flex-direction: row;<br>            flex-wrap: wrap;<br>            justify-content: flex-start;<br>            width: 100%;<br>        }<br>        .wandb-col {<br>            display: flex;<br>            flex-direction: column;<br>            flex-basis: 100%;<br>            flex: 1;<br>            padding: 10px;<br>        }<br>    </style><br><div class=\"wandb-row\"><div class=\"wandb-col\"><h3>Run history:</h3><br/><table class=\"wandb\"><tr><td>eval/accuracy</td><td>▁▁</td></tr><tr><td>eval/f1</td><td>▁</td></tr><tr><td>eval/f1_class_0</td><td>▁</td></tr><tr><td>eval/f1_class_1</td><td>▁</td></tr><tr><td>eval/f1_weighted</td><td>▁</td></tr><tr><td>eval/loss</td><td>▁</td></tr><tr><td>eval/precision</td><td>▁</td></tr><tr><td>eval/recall</td><td>▁</td></tr><tr><td>eval/recall_class_0</td><td>▁</td></tr><tr><td>eval/recall_class_1</td><td>▁</td></tr><tr><td>eval/runtime</td><td>▁</td></tr><tr><td>eval/samples_per_second</td><td>▁</td></tr><tr><td>eval/steps_per_second</td><td>▁</td></tr><tr><td>test/accuracy</td><td>▁</td></tr><tr><td>test/f1</td><td>▁</td></tr><tr><td>test/loss</td><td>▁</td></tr><tr><td>test/precision</td><td>▁</td></tr><tr><td>test/recall</td><td>▁</td></tr><tr><td>test/runtime</td><td>▁</td></tr><tr><td>test/samples_per_second</td><td>▁</td></tr><tr><td>test/steps_per_second</td><td>▁</td></tr><tr><td>train/epoch</td><td>▁</td></tr><tr><td>train/global_step</td><td>▁</td></tr></table><br/></div><div class=\"wandb-col\"><h3>Run summary:</h3><br/><table class=\"wandb\"><tr><td>eval/accuracy</td><td>0.62295</td></tr><tr><td>eval/f1</td><td>0.62584</td></tr><tr><td>eval/f1_class_0</td><td>0.62001</td></tr><tr><td>eval/f1_class_1</td><td>0.62584</td></tr><tr><td>eval/f1_weighted</td><td>0.62239</td></tr><tr><td>eval/loss</td><td>0.73223</td></tr><tr><td>eval/precision</td><td>0.52585</td></tr><tr><td>eval/recall</td><td>0.77279</td></tr><tr><td>eval/recall_class_0</td><td>0.51966</td></tr><tr><td>eval/recall_class_1</td><td>0.77279</td></tr><tr><td>eval/runtime</td><td>9.8062</td></tr><tr><td>eval/samples_per_second</td><td>3045.628</td></tr><tr><td>eval/steps_per_second</td><td>23.862</td></tr><tr><td>test/accuracy</td><td>0.62295</td></tr><tr><td>test/f1</td><td>0.62584</td></tr><tr><td>test/loss</td><td>0.73223</td></tr><tr><td>test/precision</td><td>0.52585</td></tr><tr><td>test/recall</td><td>0.77279</td></tr><tr><td>test/runtime</td><td>10.1664</td></tr><tr><td>test/samples_per_second</td><td>2937.712</td></tr><tr><td>test/steps_per_second</td><td>23.017</td></tr><tr><td>total_flos</td><td>185355911856095230</td></tr><tr><td>train/epoch</td><td>2.28987</td></tr><tr><td>train/global_step</td><td>8500</td></tr><tr><td>train/grad_norm</td><td>5.99268</td></tr><tr><td>train/learning_rate</td><td>1e-05</td></tr><tr><td>train/loss</td><td>0.3481</td></tr><tr><td>train_loss</td><td>0.5313</td></tr><tr><td>train_runtime</td><td>1129.6541</td></tr><tr><td>train_samples_per_second</td><td>630.841</td></tr><tr><td>train_steps_per_second</td><td>9.858</td></tr></table><br/></div></div>"
      ],
      "text/plain": [
       "<IPython.core.display.HTML object>"
      ]
     },
     "metadata": {},
     "output_type": "display_data"
    },
    {
     "data": {
      "text/html": [
       " View run <strong style=\"color:#cdcd00\">Train-Improved-WindowSize:0-03</strong> at: <a href='https://wandb.ai/asap/RAGBENCH-PUBMED/runs/6hgr88p4' target=\"_blank\">https://wandb.ai/asap/RAGBENCH-PUBMED/runs/6hgr88p4</a><br> View project at: <a href='https://wandb.ai/asap/RAGBENCH-PUBMED' target=\"_blank\">https://wandb.ai/asap/RAGBENCH-PUBMED</a><br>Synced 5 W&B file(s), 1 media file(s), 0 artifact file(s) and 0 other file(s)"
      ],
      "text/plain": [
       "<IPython.core.display.HTML object>"
      ]
     },
     "metadata": {},
     "output_type": "display_data"
    },
    {
     "data": {
      "text/html": [
       "Find logs at: <code>./wandb/run-20250406_161156-6hgr88p4/logs</code>"
      ],
      "text/plain": [
       "<IPython.core.display.HTML object>"
      ]
     },
     "metadata": {},
     "output_type": "display_data"
    }
   ],
   "source": [
    "wandb.finish()"
   ]
  },
  {
   "cell_type": "markdown",
   "metadata": {},
   "source": [
    "# Baseline Model"
   ]
  },
  {
   "cell_type": "markdown",
   "metadata": {},
   "source": [
    "Vectorize the sentence with TF-IDF and train a logistic regression model. Fast and interpretable + a classic ML baseline"
   ]
  },
  {
   "cell_type": "code",
   "execution_count": 80,
   "metadata": {
    "tags": []
   },
   "outputs": [],
   "source": [
    "train_baseline_texts = (train_data[\"question\"] + \" [SEP] \" + train_data[\"sentence\"]).tolist()\n",
    "test_baseline_texts = (test_data[\"question\"] + \" [SEP] \" + test_data[\"sentence\"]).tolist()"
   ]
  },
  {
   "cell_type": "code",
   "execution_count": 81,
   "metadata": {
    "tags": []
   },
   "outputs": [],
   "source": [
    "train_labels = train_data[\"label\"].tolist()\n",
    "test_labels = test_data[\"label\"].tolist()"
   ]
  },
  {
   "cell_type": "code",
   "execution_count": 82,
   "metadata": {
    "tags": []
   },
   "outputs": [],
   "source": [
    "from sklearn.pipeline import Pipeline"
   ]
  },
  {
   "cell_type": "code",
   "execution_count": 83,
   "metadata": {
    "tags": []
   },
   "outputs": [],
   "source": [
    "baseline_pipeline = Pipeline([\n",
    "    (\"tfidf\", TfidfVectorizer(max_features=10000, ngram_range=(1, 2))),\n",
    "    (\"clf\", LogisticRegression(max_iter=1000, class_weight=\"balanced\"))\n",
    "])"
   ]
  },
  {
   "cell_type": "code",
   "execution_count": 84,
   "metadata": {
    "tags": []
   },
   "outputs": [],
   "source": [
    "# Train baseline model"
   ]
  },
  {
   "cell_type": "code",
   "execution_count": 85,
   "metadata": {
    "tags": []
   },
   "outputs": [
    {
     "data": {
      "text/html": [
       "<style>#sk-container-id-1 {\n",
       "  /* Definition of color scheme common for light and dark mode */\n",
       "  --sklearn-color-text: #000;\n",
       "  --sklearn-color-text-muted: #666;\n",
       "  --sklearn-color-line: gray;\n",
       "  /* Definition of color scheme for unfitted estimators */\n",
       "  --sklearn-color-unfitted-level-0: #fff5e6;\n",
       "  --sklearn-color-unfitted-level-1: #f6e4d2;\n",
       "  --sklearn-color-unfitted-level-2: #ffe0b3;\n",
       "  --sklearn-color-unfitted-level-3: chocolate;\n",
       "  /* Definition of color scheme for fitted estimators */\n",
       "  --sklearn-color-fitted-level-0: #f0f8ff;\n",
       "  --sklearn-color-fitted-level-1: #d4ebff;\n",
       "  --sklearn-color-fitted-level-2: #b3dbfd;\n",
       "  --sklearn-color-fitted-level-3: cornflowerblue;\n",
       "\n",
       "  /* Specific color for light theme */\n",
       "  --sklearn-color-text-on-default-background: var(--sg-text-color, var(--theme-code-foreground, var(--jp-content-font-color1, black)));\n",
       "  --sklearn-color-background: var(--sg-background-color, var(--theme-background, var(--jp-layout-color0, white)));\n",
       "  --sklearn-color-border-box: var(--sg-text-color, var(--theme-code-foreground, var(--jp-content-font-color1, black)));\n",
       "  --sklearn-color-icon: #696969;\n",
       "\n",
       "  @media (prefers-color-scheme: dark) {\n",
       "    /* Redefinition of color scheme for dark theme */\n",
       "    --sklearn-color-text-on-default-background: var(--sg-text-color, var(--theme-code-foreground, var(--jp-content-font-color1, white)));\n",
       "    --sklearn-color-background: var(--sg-background-color, var(--theme-background, var(--jp-layout-color0, #111)));\n",
       "    --sklearn-color-border-box: var(--sg-text-color, var(--theme-code-foreground, var(--jp-content-font-color1, white)));\n",
       "    --sklearn-color-icon: #878787;\n",
       "  }\n",
       "}\n",
       "\n",
       "#sk-container-id-1 {\n",
       "  color: var(--sklearn-color-text);\n",
       "}\n",
       "\n",
       "#sk-container-id-1 pre {\n",
       "  padding: 0;\n",
       "}\n",
       "\n",
       "#sk-container-id-1 input.sk-hidden--visually {\n",
       "  border: 0;\n",
       "  clip: rect(1px 1px 1px 1px);\n",
       "  clip: rect(1px, 1px, 1px, 1px);\n",
       "  height: 1px;\n",
       "  margin: -1px;\n",
       "  overflow: hidden;\n",
       "  padding: 0;\n",
       "  position: absolute;\n",
       "  width: 1px;\n",
       "}\n",
       "\n",
       "#sk-container-id-1 div.sk-dashed-wrapped {\n",
       "  border: 1px dashed var(--sklearn-color-line);\n",
       "  margin: 0 0.4em 0.5em 0.4em;\n",
       "  box-sizing: border-box;\n",
       "  padding-bottom: 0.4em;\n",
       "  background-color: var(--sklearn-color-background);\n",
       "}\n",
       "\n",
       "#sk-container-id-1 div.sk-container {\n",
       "  /* jupyter's `normalize.less` sets `[hidden] { display: none; }`\n",
       "     but bootstrap.min.css set `[hidden] { display: none !important; }`\n",
       "     so we also need the `!important` here to be able to override the\n",
       "     default hidden behavior on the sphinx rendered scikit-learn.org.\n",
       "     See: https://github.com/scikit-learn/scikit-learn/issues/21755 */\n",
       "  display: inline-block !important;\n",
       "  position: relative;\n",
       "}\n",
       "\n",
       "#sk-container-id-1 div.sk-text-repr-fallback {\n",
       "  display: none;\n",
       "}\n",
       "\n",
       "div.sk-parallel-item,\n",
       "div.sk-serial,\n",
       "div.sk-item {\n",
       "  /* draw centered vertical line to link estimators */\n",
       "  background-image: linear-gradient(var(--sklearn-color-text-on-default-background), var(--sklearn-color-text-on-default-background));\n",
       "  background-size: 2px 100%;\n",
       "  background-repeat: no-repeat;\n",
       "  background-position: center center;\n",
       "}\n",
       "\n",
       "/* Parallel-specific style estimator block */\n",
       "\n",
       "#sk-container-id-1 div.sk-parallel-item::after {\n",
       "  content: \"\";\n",
       "  width: 100%;\n",
       "  border-bottom: 2px solid var(--sklearn-color-text-on-default-background);\n",
       "  flex-grow: 1;\n",
       "}\n",
       "\n",
       "#sk-container-id-1 div.sk-parallel {\n",
       "  display: flex;\n",
       "  align-items: stretch;\n",
       "  justify-content: center;\n",
       "  background-color: var(--sklearn-color-background);\n",
       "  position: relative;\n",
       "}\n",
       "\n",
       "#sk-container-id-1 div.sk-parallel-item {\n",
       "  display: flex;\n",
       "  flex-direction: column;\n",
       "}\n",
       "\n",
       "#sk-container-id-1 div.sk-parallel-item:first-child::after {\n",
       "  align-self: flex-end;\n",
       "  width: 50%;\n",
       "}\n",
       "\n",
       "#sk-container-id-1 div.sk-parallel-item:last-child::after {\n",
       "  align-self: flex-start;\n",
       "  width: 50%;\n",
       "}\n",
       "\n",
       "#sk-container-id-1 div.sk-parallel-item:only-child::after {\n",
       "  width: 0;\n",
       "}\n",
       "\n",
       "/* Serial-specific style estimator block */\n",
       "\n",
       "#sk-container-id-1 div.sk-serial {\n",
       "  display: flex;\n",
       "  flex-direction: column;\n",
       "  align-items: center;\n",
       "  background-color: var(--sklearn-color-background);\n",
       "  padding-right: 1em;\n",
       "  padding-left: 1em;\n",
       "}\n",
       "\n",
       "\n",
       "/* Toggleable style: style used for estimator/Pipeline/ColumnTransformer box that is\n",
       "clickable and can be expanded/collapsed.\n",
       "- Pipeline and ColumnTransformer use this feature and define the default style\n",
       "- Estimators will overwrite some part of the style using the `sk-estimator` class\n",
       "*/\n",
       "\n",
       "/* Pipeline and ColumnTransformer style (default) */\n",
       "\n",
       "#sk-container-id-1 div.sk-toggleable {\n",
       "  /* Default theme specific background. It is overwritten whether we have a\n",
       "  specific estimator or a Pipeline/ColumnTransformer */\n",
       "  background-color: var(--sklearn-color-background);\n",
       "}\n",
       "\n",
       "/* Toggleable label */\n",
       "#sk-container-id-1 label.sk-toggleable__label {\n",
       "  cursor: pointer;\n",
       "  display: flex;\n",
       "  width: 100%;\n",
       "  margin-bottom: 0;\n",
       "  padding: 0.5em;\n",
       "  box-sizing: border-box;\n",
       "  text-align: center;\n",
       "  align-items: start;\n",
       "  justify-content: space-between;\n",
       "  gap: 0.5em;\n",
       "}\n",
       "\n",
       "#sk-container-id-1 label.sk-toggleable__label .caption {\n",
       "  font-size: 0.6rem;\n",
       "  font-weight: lighter;\n",
       "  color: var(--sklearn-color-text-muted);\n",
       "}\n",
       "\n",
       "#sk-container-id-1 label.sk-toggleable__label-arrow:before {\n",
       "  /* Arrow on the left of the label */\n",
       "  content: \"▸\";\n",
       "  float: left;\n",
       "  margin-right: 0.25em;\n",
       "  color: var(--sklearn-color-icon);\n",
       "}\n",
       "\n",
       "#sk-container-id-1 label.sk-toggleable__label-arrow:hover:before {\n",
       "  color: var(--sklearn-color-text);\n",
       "}\n",
       "\n",
       "/* Toggleable content - dropdown */\n",
       "\n",
       "#sk-container-id-1 div.sk-toggleable__content {\n",
       "  max-height: 0;\n",
       "  max-width: 0;\n",
       "  overflow: hidden;\n",
       "  text-align: left;\n",
       "  /* unfitted */\n",
       "  background-color: var(--sklearn-color-unfitted-level-0);\n",
       "}\n",
       "\n",
       "#sk-container-id-1 div.sk-toggleable__content.fitted {\n",
       "  /* fitted */\n",
       "  background-color: var(--sklearn-color-fitted-level-0);\n",
       "}\n",
       "\n",
       "#sk-container-id-1 div.sk-toggleable__content pre {\n",
       "  margin: 0.2em;\n",
       "  border-radius: 0.25em;\n",
       "  color: var(--sklearn-color-text);\n",
       "  /* unfitted */\n",
       "  background-color: var(--sklearn-color-unfitted-level-0);\n",
       "}\n",
       "\n",
       "#sk-container-id-1 div.sk-toggleable__content.fitted pre {\n",
       "  /* unfitted */\n",
       "  background-color: var(--sklearn-color-fitted-level-0);\n",
       "}\n",
       "\n",
       "#sk-container-id-1 input.sk-toggleable__control:checked~div.sk-toggleable__content {\n",
       "  /* Expand drop-down */\n",
       "  max-height: 200px;\n",
       "  max-width: 100%;\n",
       "  overflow: auto;\n",
       "}\n",
       "\n",
       "#sk-container-id-1 input.sk-toggleable__control:checked~label.sk-toggleable__label-arrow:before {\n",
       "  content: \"▾\";\n",
       "}\n",
       "\n",
       "/* Pipeline/ColumnTransformer-specific style */\n",
       "\n",
       "#sk-container-id-1 div.sk-label input.sk-toggleable__control:checked~label.sk-toggleable__label {\n",
       "  color: var(--sklearn-color-text);\n",
       "  background-color: var(--sklearn-color-unfitted-level-2);\n",
       "}\n",
       "\n",
       "#sk-container-id-1 div.sk-label.fitted input.sk-toggleable__control:checked~label.sk-toggleable__label {\n",
       "  background-color: var(--sklearn-color-fitted-level-2);\n",
       "}\n",
       "\n",
       "/* Estimator-specific style */\n",
       "\n",
       "/* Colorize estimator box */\n",
       "#sk-container-id-1 div.sk-estimator input.sk-toggleable__control:checked~label.sk-toggleable__label {\n",
       "  /* unfitted */\n",
       "  background-color: var(--sklearn-color-unfitted-level-2);\n",
       "}\n",
       "\n",
       "#sk-container-id-1 div.sk-estimator.fitted input.sk-toggleable__control:checked~label.sk-toggleable__label {\n",
       "  /* fitted */\n",
       "  background-color: var(--sklearn-color-fitted-level-2);\n",
       "}\n",
       "\n",
       "#sk-container-id-1 div.sk-label label.sk-toggleable__label,\n",
       "#sk-container-id-1 div.sk-label label {\n",
       "  /* The background is the default theme color */\n",
       "  color: var(--sklearn-color-text-on-default-background);\n",
       "}\n",
       "\n",
       "/* On hover, darken the color of the background */\n",
       "#sk-container-id-1 div.sk-label:hover label.sk-toggleable__label {\n",
       "  color: var(--sklearn-color-text);\n",
       "  background-color: var(--sklearn-color-unfitted-level-2);\n",
       "}\n",
       "\n",
       "/* Label box, darken color on hover, fitted */\n",
       "#sk-container-id-1 div.sk-label.fitted:hover label.sk-toggleable__label.fitted {\n",
       "  color: var(--sklearn-color-text);\n",
       "  background-color: var(--sklearn-color-fitted-level-2);\n",
       "}\n",
       "\n",
       "/* Estimator label */\n",
       "\n",
       "#sk-container-id-1 div.sk-label label {\n",
       "  font-family: monospace;\n",
       "  font-weight: bold;\n",
       "  display: inline-block;\n",
       "  line-height: 1.2em;\n",
       "}\n",
       "\n",
       "#sk-container-id-1 div.sk-label-container {\n",
       "  text-align: center;\n",
       "}\n",
       "\n",
       "/* Estimator-specific */\n",
       "#sk-container-id-1 div.sk-estimator {\n",
       "  font-family: monospace;\n",
       "  border: 1px dotted var(--sklearn-color-border-box);\n",
       "  border-radius: 0.25em;\n",
       "  box-sizing: border-box;\n",
       "  margin-bottom: 0.5em;\n",
       "  /* unfitted */\n",
       "  background-color: var(--sklearn-color-unfitted-level-0);\n",
       "}\n",
       "\n",
       "#sk-container-id-1 div.sk-estimator.fitted {\n",
       "  /* fitted */\n",
       "  background-color: var(--sklearn-color-fitted-level-0);\n",
       "}\n",
       "\n",
       "/* on hover */\n",
       "#sk-container-id-1 div.sk-estimator:hover {\n",
       "  /* unfitted */\n",
       "  background-color: var(--sklearn-color-unfitted-level-2);\n",
       "}\n",
       "\n",
       "#sk-container-id-1 div.sk-estimator.fitted:hover {\n",
       "  /* fitted */\n",
       "  background-color: var(--sklearn-color-fitted-level-2);\n",
       "}\n",
       "\n",
       "/* Specification for estimator info (e.g. \"i\" and \"?\") */\n",
       "\n",
       "/* Common style for \"i\" and \"?\" */\n",
       "\n",
       ".sk-estimator-doc-link,\n",
       "a:link.sk-estimator-doc-link,\n",
       "a:visited.sk-estimator-doc-link {\n",
       "  float: right;\n",
       "  font-size: smaller;\n",
       "  line-height: 1em;\n",
       "  font-family: monospace;\n",
       "  background-color: var(--sklearn-color-background);\n",
       "  border-radius: 1em;\n",
       "  height: 1em;\n",
       "  width: 1em;\n",
       "  text-decoration: none !important;\n",
       "  margin-left: 0.5em;\n",
       "  text-align: center;\n",
       "  /* unfitted */\n",
       "  border: var(--sklearn-color-unfitted-level-1) 1pt solid;\n",
       "  color: var(--sklearn-color-unfitted-level-1);\n",
       "}\n",
       "\n",
       ".sk-estimator-doc-link.fitted,\n",
       "a:link.sk-estimator-doc-link.fitted,\n",
       "a:visited.sk-estimator-doc-link.fitted {\n",
       "  /* fitted */\n",
       "  border: var(--sklearn-color-fitted-level-1) 1pt solid;\n",
       "  color: var(--sklearn-color-fitted-level-1);\n",
       "}\n",
       "\n",
       "/* On hover */\n",
       "div.sk-estimator:hover .sk-estimator-doc-link:hover,\n",
       ".sk-estimator-doc-link:hover,\n",
       "div.sk-label-container:hover .sk-estimator-doc-link:hover,\n",
       ".sk-estimator-doc-link:hover {\n",
       "  /* unfitted */\n",
       "  background-color: var(--sklearn-color-unfitted-level-3);\n",
       "  color: var(--sklearn-color-background);\n",
       "  text-decoration: none;\n",
       "}\n",
       "\n",
       "div.sk-estimator.fitted:hover .sk-estimator-doc-link.fitted:hover,\n",
       ".sk-estimator-doc-link.fitted:hover,\n",
       "div.sk-label-container:hover .sk-estimator-doc-link.fitted:hover,\n",
       ".sk-estimator-doc-link.fitted:hover {\n",
       "  /* fitted */\n",
       "  background-color: var(--sklearn-color-fitted-level-3);\n",
       "  color: var(--sklearn-color-background);\n",
       "  text-decoration: none;\n",
       "}\n",
       "\n",
       "/* Span, style for the box shown on hovering the info icon */\n",
       ".sk-estimator-doc-link span {\n",
       "  display: none;\n",
       "  z-index: 9999;\n",
       "  position: relative;\n",
       "  font-weight: normal;\n",
       "  right: .2ex;\n",
       "  padding: .5ex;\n",
       "  margin: .5ex;\n",
       "  width: min-content;\n",
       "  min-width: 20ex;\n",
       "  max-width: 50ex;\n",
       "  color: var(--sklearn-color-text);\n",
       "  box-shadow: 2pt 2pt 4pt #999;\n",
       "  /* unfitted */\n",
       "  background: var(--sklearn-color-unfitted-level-0);\n",
       "  border: .5pt solid var(--sklearn-color-unfitted-level-3);\n",
       "}\n",
       "\n",
       ".sk-estimator-doc-link.fitted span {\n",
       "  /* fitted */\n",
       "  background: var(--sklearn-color-fitted-level-0);\n",
       "  border: var(--sklearn-color-fitted-level-3);\n",
       "}\n",
       "\n",
       ".sk-estimator-doc-link:hover span {\n",
       "  display: block;\n",
       "}\n",
       "\n",
       "/* \"?\"-specific style due to the `<a>` HTML tag */\n",
       "\n",
       "#sk-container-id-1 a.estimator_doc_link {\n",
       "  float: right;\n",
       "  font-size: 1rem;\n",
       "  line-height: 1em;\n",
       "  font-family: monospace;\n",
       "  background-color: var(--sklearn-color-background);\n",
       "  border-radius: 1rem;\n",
       "  height: 1rem;\n",
       "  width: 1rem;\n",
       "  text-decoration: none;\n",
       "  /* unfitted */\n",
       "  color: var(--sklearn-color-unfitted-level-1);\n",
       "  border: var(--sklearn-color-unfitted-level-1) 1pt solid;\n",
       "}\n",
       "\n",
       "#sk-container-id-1 a.estimator_doc_link.fitted {\n",
       "  /* fitted */\n",
       "  border: var(--sklearn-color-fitted-level-1) 1pt solid;\n",
       "  color: var(--sklearn-color-fitted-level-1);\n",
       "}\n",
       "\n",
       "/* On hover */\n",
       "#sk-container-id-1 a.estimator_doc_link:hover {\n",
       "  /* unfitted */\n",
       "  background-color: var(--sklearn-color-unfitted-level-3);\n",
       "  color: var(--sklearn-color-background);\n",
       "  text-decoration: none;\n",
       "}\n",
       "\n",
       "#sk-container-id-1 a.estimator_doc_link.fitted:hover {\n",
       "  /* fitted */\n",
       "  background-color: var(--sklearn-color-fitted-level-3);\n",
       "}\n",
       "</style><div id=\"sk-container-id-1\" class=\"sk-top-container\"><div class=\"sk-text-repr-fallback\"><pre>Pipeline(steps=[(&#x27;tfidf&#x27;,\n",
       "                 TfidfVectorizer(max_features=10000, ngram_range=(1, 2))),\n",
       "                (&#x27;clf&#x27;,\n",
       "                 LogisticRegression(class_weight=&#x27;balanced&#x27;, max_iter=1000))])</pre><b>In a Jupyter environment, please rerun this cell to show the HTML representation or trust the notebook. <br />On GitHub, the HTML representation is unable to render, please try loading this page with nbviewer.org.</b></div><div class=\"sk-container\" hidden><div class=\"sk-item sk-dashed-wrapped\"><div class=\"sk-label-container\"><div class=\"sk-label fitted sk-toggleable\"><input class=\"sk-toggleable__control sk-hidden--visually\" id=\"sk-estimator-id-1\" type=\"checkbox\" ><label for=\"sk-estimator-id-1\" class=\"sk-toggleable__label fitted sk-toggleable__label-arrow\"><div><div>Pipeline</div></div><div><a class=\"sk-estimator-doc-link fitted\" rel=\"noreferrer\" target=\"_blank\" href=\"https://scikit-learn.org/1.6/modules/generated/sklearn.pipeline.Pipeline.html\">?<span>Documentation for Pipeline</span></a><span class=\"sk-estimator-doc-link fitted\">i<span>Fitted</span></span></div></label><div class=\"sk-toggleable__content fitted\"><pre>Pipeline(steps=[(&#x27;tfidf&#x27;,\n",
       "                 TfidfVectorizer(max_features=10000, ngram_range=(1, 2))),\n",
       "                (&#x27;clf&#x27;,\n",
       "                 LogisticRegression(class_weight=&#x27;balanced&#x27;, max_iter=1000))])</pre></div> </div></div><div class=\"sk-serial\"><div class=\"sk-item\"><div class=\"sk-estimator fitted sk-toggleable\"><input class=\"sk-toggleable__control sk-hidden--visually\" id=\"sk-estimator-id-2\" type=\"checkbox\" ><label for=\"sk-estimator-id-2\" class=\"sk-toggleable__label fitted sk-toggleable__label-arrow\"><div><div>TfidfVectorizer</div></div><div><a class=\"sk-estimator-doc-link fitted\" rel=\"noreferrer\" target=\"_blank\" href=\"https://scikit-learn.org/1.6/modules/generated/sklearn.feature_extraction.text.TfidfVectorizer.html\">?<span>Documentation for TfidfVectorizer</span></a></div></label><div class=\"sk-toggleable__content fitted\"><pre>TfidfVectorizer(max_features=10000, ngram_range=(1, 2))</pre></div> </div></div><div class=\"sk-item\"><div class=\"sk-estimator fitted sk-toggleable\"><input class=\"sk-toggleable__control sk-hidden--visually\" id=\"sk-estimator-id-3\" type=\"checkbox\" ><label for=\"sk-estimator-id-3\" class=\"sk-toggleable__label fitted sk-toggleable__label-arrow\"><div><div>LogisticRegression</div></div><div><a class=\"sk-estimator-doc-link fitted\" rel=\"noreferrer\" target=\"_blank\" href=\"https://scikit-learn.org/1.6/modules/generated/sklearn.linear_model.LogisticRegression.html\">?<span>Documentation for LogisticRegression</span></a></div></label><div class=\"sk-toggleable__content fitted\"><pre>LogisticRegression(class_weight=&#x27;balanced&#x27;, max_iter=1000)</pre></div> </div></div></div></div></div></div>"
      ],
      "text/plain": [
       "Pipeline(steps=[('tfidf',\n",
       "                 TfidfVectorizer(max_features=10000, ngram_range=(1, 2))),\n",
       "                ('clf',\n",
       "                 LogisticRegression(class_weight='balanced', max_iter=1000))])"
      ]
     },
     "execution_count": 85,
     "metadata": {},
     "output_type": "execute_result"
    }
   ],
   "source": [
    "baseline_pipeline.fit(train_baseline_texts, train_labels)"
   ]
  },
  {
   "cell_type": "code",
   "execution_count": 86,
   "metadata": {
    "tags": []
   },
   "outputs": [
    {
     "data": {
      "text/html": [
       "<div>\n",
       "<style scoped>\n",
       "    .dataframe tbody tr th:only-of-type {\n",
       "        vertical-align: middle;\n",
       "    }\n",
       "\n",
       "    .dataframe tbody tr th {\n",
       "        vertical-align: top;\n",
       "    }\n",
       "\n",
       "    .dataframe thead th {\n",
       "        text-align: right;\n",
       "    }\n",
       "</style>\n",
       "<table border=\"1\" class=\"dataframe\">\n",
       "  <thead>\n",
       "    <tr style=\"text-align: right;\">\n",
       "      <th></th>\n",
       "      <th>precision</th>\n",
       "      <th>recall</th>\n",
       "      <th>f1-score</th>\n",
       "      <th>support</th>\n",
       "    </tr>\n",
       "  </thead>\n",
       "  <tbody>\n",
       "    <tr>\n",
       "      <th>0</th>\n",
       "      <td>0.661992</td>\n",
       "      <td>0.536739</td>\n",
       "      <td>0.592822</td>\n",
       "      <td>17679.000000</td>\n",
       "    </tr>\n",
       "    <tr>\n",
       "      <th>1</th>\n",
       "      <td>0.472702</td>\n",
       "      <td>0.602445</td>\n",
       "      <td>0.529745</td>\n",
       "      <td>12187.000000</td>\n",
       "    </tr>\n",
       "    <tr>\n",
       "      <th>accuracy</th>\n",
       "      <td>0.563551</td>\n",
       "      <td>0.563551</td>\n",
       "      <td>0.563551</td>\n",
       "      <td>0.563551</td>\n",
       "    </tr>\n",
       "    <tr>\n",
       "      <th>macro avg</th>\n",
       "      <td>0.567347</td>\n",
       "      <td>0.569592</td>\n",
       "      <td>0.561283</td>\n",
       "      <td>29866.000000</td>\n",
       "    </tr>\n",
       "    <tr>\n",
       "      <th>weighted avg</th>\n",
       "      <td>0.584751</td>\n",
       "      <td>0.563551</td>\n",
       "      <td>0.567083</td>\n",
       "      <td>29866.000000</td>\n",
       "    </tr>\n",
       "  </tbody>\n",
       "</table>\n",
       "</div>"
      ],
      "text/plain": [
       "              precision    recall  f1-score       support\n",
       "0              0.661992  0.536739  0.592822  17679.000000\n",
       "1              0.472702  0.602445  0.529745  12187.000000\n",
       "accuracy       0.563551  0.563551  0.563551      0.563551\n",
       "macro avg      0.567347  0.569592  0.561283  29866.000000\n",
       "weighted avg   0.584751  0.563551  0.567083  29866.000000"
      ]
     },
     "metadata": {},
     "output_type": "display_data"
    }
   ],
   "source": [
    "test_preds = baseline_pipeline.predict(test_baseline_texts)\n",
    "report = pd.DataFrame(classification_report(test_labels, test_preds, output_dict=True)).transpose()\n",
    "display(report)"
   ]
  },
  {
   "cell_type": "code",
   "execution_count": 87,
   "metadata": {
    "tags": []
   },
   "outputs": [
    {
     "data": {
      "image/png": "[encoded data removed]",
      "text/plain": [
       "<Figure size 600x500 with 2 Axes>"
      ]
     },
     "metadata": {},
     "output_type": "display_data"
    }
   ],
   "source": [
    "# Compute confusion matrix\n",
    "cm = confusion_matrix(test_labels, test_preds)\n",
    "labels = [\"Not Relevant\", \"Relevant\"]\n",
    "\n",
    "# Plot heatmap\n",
    "plt.figure(figsize=(6, 5))\n",
    "sns.heatmap(cm, annot=True, fmt='d', cmap=\"Blues\", xticklabels=labels, yticklabels=labels)\n",
    "plt.xlabel(\"Predicted Label\")\n",
    "plt.ylabel(\"True Label\")\n",
    "plt.title(\"Confusion Matrix (Baseline Model)\")\n",
    "plt.tight_layout()\n",
    "plt.show()"
   ]
  },
  {
   "cell_type": "code",
   "execution_count": null,
   "metadata": {},
   "outputs": [],
   "source": []
  }
 ],
 "metadata": {
  "kernelspec": {
   "display_name": "Python 3 (ipykernel)",
   "language": "python",
   "name": "python3"
  },
  "language_info": {
   "codemirror_mode": {
    "name": "ipython",
    "version": 3
   },
   "file_extension": ".py",
   "mimetype": "text/x-python",
   "name": "python",
   "nbconvert_exporter": "python",
   "pygments_lexer": "ipython3",
   "version": "3.10.14"
  }
 },
 "nbformat": 4,
 "nbformat_minor": 4
}
