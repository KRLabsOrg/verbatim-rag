{
 "cells": [
  {
   "cell_type": "code",
   "execution_count": 1,
   "id": "48bca62b-2cef-45df-b97f-ae6298788d07",
   "metadata": {
    "tags": []
   },
   "outputs": [],
   "source": [
    "%load_ext autoreload\n",
    "%autoreload 2"
   ]
  },
  {
   "cell_type": "markdown",
   "id": "b187840b-e403-41c9-bf00-f4377fcdf4ba",
   "metadata": {},
   "source": [
    "# Setup"
   ]
  },
  {
   "cell_type": "code",
   "execution_count": 1,
   "id": "3d846225-5fce-4ae0-aa4c-9e97972c103e",
   "metadata": {
    "tags": []
   },
   "outputs": [],
   "source": [
    "import re\n",
    "import os\n",
    "import ast\n",
    "import json\n",
    "import wandb\n",
    "import unicodedata\n",
    "import pandas as pd\n",
    "from pathlib import Path\n",
    "import xml.etree.ElementTree as ET\n",
    "import seaborn as sns\n",
    "import matplotlib.pyplot as plt\n",
    "from tqdm.notebook import tqdm\n",
    "\n",
    "import torch\n",
    "import flash_attn\n",
    "from datasets import Dataset\n",
    "from torch.utils.data import DataLoader\n",
    "from transformers import EarlyStoppingCallback\n",
    "from transformers import AutoTokenizer, TrainingArguments, Trainer, AutoModelForSequenceClassification\n",
    "from sklearn.model_selection import train_test_split\n",
    "\n",
    "from sklearn.linear_model import LogisticRegression\n",
    "from sklearn.feature_extraction.text import TfidfVectorizer\n",
    "from sklearn.metrics import classification_report, confusion_matrix, accuracy_score, f1_score, precision_score, recall_score\n",
    "\n",
    "import sys\n",
    "sys.path.append(\"../../src\")\n",
    "sys.path.append(\"../../configs\")\n",
    "import util.preprocessing_util as util\n",
    "from hf_config import hf_token"
   ]
  },
  {
   "cell_type": "markdown",
   "id": "b74a954a-7b62-4a62-af94-4dba54cffb66",
   "metadata": {},
   "source": [
    "**Check versions of important packages**"
   ]
  },
  {
   "cell_type": "code",
   "execution_count": 3,
   "id": "b95c5543-c4a4-4430-8fe1-25005e75a2b8",
   "metadata": {
    "tags": []
   },
   "outputs": [
    {
     "name": "stdout",
     "output_type": "stream",
     "text": [
      "PyTorch version: 2.6.0+cu124\n",
      "CUDA version: 12.4\n",
      "Flash Attention version: 2.7.4.post1\n"
     ]
    }
   ],
   "source": [
    "print(\"PyTorch version:\", torch.__version__)\n",
    "print(\"CUDA version:\", torch.version.cuda)\n",
    "print(\"Flash Attention version:\", flash_attn.__version__)"
   ]
  },
  {
   "cell_type": "markdown",
   "id": "27c886b7-697c-46bf-ae26-4137c7cd7d5b",
   "metadata": {},
   "source": [
    "**Check which python we are using**"
   ]
  },
  {
   "cell_type": "code",
   "execution_count": 93,
   "id": "93d657f2-98bb-4f9a-a4e7-a1f83fdcfc5e",
   "metadata": {
    "tags": []
   },
   "outputs": [
    {
     "name": "stdout",
     "output_type": "stream",
     "text": [
      "/share/miniforge3/bin/python3.10\n"
     ]
    }
   ],
   "source": [
    "print(sys.executable)"
   ]
  },
  {
   "cell_type": "markdown",
   "id": "04e27ade-b35b-4bab-bdeb-f842f842cac9",
   "metadata": {},
   "source": [
    "**Load the data**"
   ]
  },
  {
   "cell_type": "code",
   "execution_count": 94,
   "id": "9db553dc-a141-472f-9bb3-c222a440e988",
   "metadata": {
    "tags": []
   },
   "outputs": [],
   "source": [
    "DATA_DIR = Path(\"../../data\")\n",
    "SYNTHETIC_TRAIN_DATA_DIR = DATA_DIR / \"synthetic\" / \"questions\"\n",
    "TEST_DATA_DIR = DATA_DIR / \"dev\" / \"processed\"\n",
    "\n",
    "TRAIN_DATA_FILE_NAME = \"generated_questions_RUN01.csv\"\n",
    "TEST_DATA_FILE_NAME = \"medical_data.csv\"\n",
    "\n",
    "MODELS_DIR = Path(\"../../models/\")\n",
    "MODELS_DIR.mkdir(parents=True, exist_ok=True)"
   ]
  },
  {
   "cell_type": "code",
   "execution_count": 95,
   "id": "7915f8f4-6916-4d60-92dd-b2896176ff6e",
   "metadata": {
    "tags": []
   },
   "outputs": [],
   "source": [
    "train_data = pd.read_csv(SYNTHETIC_TRAIN_DATA_DIR / TRAIN_DATA_FILE_NAME)\n",
    "test_data = pd.read_csv(TEST_DATA_DIR / TEST_DATA_FILE_NAME)"
   ]
  },
  {
   "cell_type": "markdown",
   "id": "c5abd676-9da4-4f38-8aed-a61d81c5d670",
   "metadata": {},
   "source": [
    "Sentences and labels are still stringified lists --> back to actual Python lists"
   ]
  },
  {
   "cell_type": "code",
   "execution_count": 96,
   "id": "ef6ed30a-5761-481f-99d0-2c596a966d14",
   "metadata": {
    "tags": []
   },
   "outputs": [],
   "source": [
    "train_data[\"sentences\"] = train_data[\"sentences\"].apply(ast.literal_eval)\n",
    "train_data[\"labels\"] = train_data[\"labels\"].apply(ast.literal_eval)\n",
    "\n",
    "test_data[\"sentences\"] = test_data[\"sentences\"].apply(ast.literal_eval)\n",
    "test_data[\"labels\"] = test_data[\"labels\"].apply(ast.literal_eval)"
   ]
  },
  {
   "cell_type": "markdown",
   "id": "0963419e-52e0-4565-acfd-037313887687",
   "metadata": {},
   "source": [
    "**TO BE REMOVED LATER - WE ALREADY DO THIS IN Q-GENERATION**"
   ]
  },
  {
   "cell_type": "code",
   "execution_count": 97,
   "id": "3cd68db9-07e3-4192-a69d-5336548fb70f",
   "metadata": {
    "tags": []
   },
   "outputs": [],
   "source": [
    "train_data = train_data[[\n",
    "    \"patient_question\",\n",
    "    \"clinician_question\",\n",
    "    \"sentences\",\n",
    "    \"note_excerpt\",\n",
    "    \"labels\"\n",
    "]]"
   ]
  },
  {
   "cell_type": "markdown",
   "id": "09a2233f-c9e5-4c3b-8962-94523527e581",
   "metadata": {},
   "source": [
    "# Exploration"
   ]
  },
  {
   "cell_type": "code",
   "execution_count": 98,
   "id": "4fc936be-75d5-466d-8a9c-8df1b9543626",
   "metadata": {
    "tags": []
   },
   "outputs": [
    {
     "data": {
      "text/html": [
       "<div>\n",
       "<style scoped>\n",
       "    .dataframe tbody tr th:only-of-type {\n",
       "        vertical-align: middle;\n",
       "    }\n",
       "\n",
       "    .dataframe tbody tr th {\n",
       "        vertical-align: top;\n",
       "    }\n",
       "\n",
       "    .dataframe thead th {\n",
       "        text-align: right;\n",
       "    }\n",
       "</style>\n",
       "<table border=\"1\" class=\"dataframe\">\n",
       "  <thead>\n",
       "    <tr style=\"text-align: right;\">\n",
       "      <th></th>\n",
       "      <th>patient_question</th>\n",
       "      <th>clinician_question</th>\n",
       "      <th>sentences</th>\n",
       "      <th>note_excerpt</th>\n",
       "      <th>labels</th>\n",
       "    </tr>\n",
       "  </thead>\n",
       "  <tbody>\n",
       "    <tr>\n",
       "      <th>0</th>\n",
       "      <td>I had surgery for a kidney tumor and then got ...</td>\n",
       "      <td>What was the etiology of the patient’s postope...</td>\n",
       "      <td>[surgical pathology consult the patient a 72ye...</td>\n",
       "      <td>surgical pathology consult the patient a 72yea...</td>\n",
       "      <td>[0, 0, 0, 0, 0, 0, 0, 0, 1, 1, 1, 1, 0, 0]</td>\n",
       "    </tr>\n",
       "    <tr>\n",
       "      <th>1</th>\n",
       "      <td>I have kidney problems and high blood pressure...</td>\n",
       "      <td>What is the relationship between the patient's...</td>\n",
       "      <td>[admission date the patient arrived on 471830 ...</td>\n",
       "      <td>admission date the patient arrived on 471830 w...</td>\n",
       "      <td>[0, 0, 0, 0, 0, 0, 0, 1, 1, 0]</td>\n",
       "    </tr>\n",
       "    <tr>\n",
       "      <th>2</th>\n",
       "      <td>I am worried about infection, and I live alone...</td>\n",
       "      <td>What are the key discharge instructions regard...</td>\n",
       "      <td>[postoperative assessment patient underwent ex...</td>\n",
       "      <td>postoperative assessment patient underwent exp...</td>\n",
       "      <td>[0, 0, 0, 0, 0, 0, 0, 0, 0, 0, 0, 0, 0, 0, 0, ...</td>\n",
       "    </tr>\n",
       "  </tbody>\n",
       "</table>\n",
       "</div>"
      ],
      "text/plain": [
       "                                    patient_question  \\\n",
       "0  I had surgery for a kidney tumor and then got ...   \n",
       "1  I have kidney problems and high blood pressure...   \n",
       "2  I am worried about infection, and I live alone...   \n",
       "\n",
       "                                  clinician_question  \\\n",
       "0  What was the etiology of the patient’s postope...   \n",
       "1  What is the relationship between the patient's...   \n",
       "2  What are the key discharge instructions regard...   \n",
       "\n",
       "                                           sentences  \\\n",
       "0  [surgical pathology consult the patient a 72ye...   \n",
       "1  [admission date the patient arrived on 471830 ...   \n",
       "2  [postoperative assessment patient underwent ex...   \n",
       "\n",
       "                                        note_excerpt  \\\n",
       "0  surgical pathology consult the patient a 72yea...   \n",
       "1  admission date the patient arrived on 471830 w...   \n",
       "2  postoperative assessment patient underwent exp...   \n",
       "\n",
       "                                              labels  \n",
       "0         [0, 0, 0, 0, 0, 0, 0, 0, 1, 1, 1, 1, 0, 0]  \n",
       "1                     [0, 0, 0, 0, 0, 0, 0, 1, 1, 0]  \n",
       "2  [0, 0, 0, 0, 0, 0, 0, 0, 0, 0, 0, 0, 0, 0, 0, ...  "
      ]
     },
     "execution_count": 98,
     "metadata": {},
     "output_type": "execute_result"
    }
   ],
   "source": [
    "train_data.head(3)"
   ]
  },
  {
   "cell_type": "code",
   "execution_count": 99,
   "id": "6cc8d03c-88d1-415b-9bbe-323a9ef25311",
   "metadata": {
    "tags": []
   },
   "outputs": [
    {
     "data": {
      "text/html": [
       "<div>\n",
       "<style scoped>\n",
       "    .dataframe tbody tr th:only-of-type {\n",
       "        vertical-align: middle;\n",
       "    }\n",
       "\n",
       "    .dataframe tbody tr th {\n",
       "        vertical-align: top;\n",
       "    }\n",
       "\n",
       "    .dataframe thead th {\n",
       "        text-align: right;\n",
       "    }\n",
       "</style>\n",
       "<table border=\"1\" class=\"dataframe\">\n",
       "  <thead>\n",
       "    <tr style=\"text-align: right;\">\n",
       "      <th></th>\n",
       "      <th>case_id</th>\n",
       "      <th>patient_question</th>\n",
       "      <th>clinician_question</th>\n",
       "      <th>note_excerpt</th>\n",
       "      <th>sentences</th>\n",
       "      <th>sentence_text</th>\n",
       "      <th>labels</th>\n",
       "    </tr>\n",
       "  </thead>\n",
       "  <tbody>\n",
       "    <tr>\n",
       "      <th>0</th>\n",
       "      <td>1</td>\n",
       "      <td>My question is if the sludge was there does no...</td>\n",
       "      <td>Why was ERCP recommended to him over continuin...</td>\n",
       "      <td>Brief Hospital Course: During the ERCP a pancr...</td>\n",
       "      <td>[Brief Hospital Course:, During the ERCP a pan...</td>\n",
       "      <td>Brief Hospital Course:</td>\n",
       "      <td>[0, 1, 0, 0, 0, 1, 1, 1, 0]</td>\n",
       "    </tr>\n",
       "    <tr>\n",
       "      <th>1</th>\n",
       "      <td>2</td>\n",
       "      <td>dad given multiple shots of lasciks after he w...</td>\n",
       "      <td>Why was he given lasix and his oxygen flow rat...</td>\n",
       "      <td>Brief Hospital Course: Acute diastolic heart f...</td>\n",
       "      <td>[Brief Hospital Course:, Acute diastolic heart...</td>\n",
       "      <td>Brief Hospital Course:</td>\n",
       "      <td>[0, 1, 0, 0, 1, 0, 0, 1, 0, 0, 0]</td>\n",
       "    </tr>\n",
       "    <tr>\n",
       "      <th>2</th>\n",
       "      <td>3</td>\n",
       "      <td>he is continously irritated and has headache w...</td>\n",
       "      <td>What is the expected course of recovery for him?</td>\n",
       "      <td>Discharge Instructions: You were admitted to t...</td>\n",
       "      <td>[Discharge Instructions: You were admitted to ...</td>\n",
       "      <td>Discharge Instructions: You were admitted to t...</td>\n",
       "      <td>[0, 0, 0, 0, 1, 1, 0, 0, 0, 0]</td>\n",
       "    </tr>\n",
       "  </tbody>\n",
       "</table>\n",
       "</div>"
      ],
      "text/plain": [
       "   case_id                                   patient_question  \\\n",
       "0        1  My question is if the sludge was there does no...   \n",
       "1        2  dad given multiple shots of lasciks after he w...   \n",
       "2        3  he is continously irritated and has headache w...   \n",
       "\n",
       "                                  clinician_question  \\\n",
       "0  Why was ERCP recommended to him over continuin...   \n",
       "1  Why was he given lasix and his oxygen flow rat...   \n",
       "2   What is the expected course of recovery for him?   \n",
       "\n",
       "                                        note_excerpt  \\\n",
       "0  Brief Hospital Course: During the ERCP a pancr...   \n",
       "1  Brief Hospital Course: Acute diastolic heart f...   \n",
       "2  Discharge Instructions: You were admitted to t...   \n",
       "\n",
       "                                           sentences  \\\n",
       "0  [Brief Hospital Course:, During the ERCP a pan...   \n",
       "1  [Brief Hospital Course:, Acute diastolic heart...   \n",
       "2  [Discharge Instructions: You were admitted to ...   \n",
       "\n",
       "                                       sentence_text  \\\n",
       "0                             Brief Hospital Course:   \n",
       "1                             Brief Hospital Course:   \n",
       "2  Discharge Instructions: You were admitted to t...   \n",
       "\n",
       "                              labels  \n",
       "0        [0, 1, 0, 0, 0, 1, 1, 1, 0]  \n",
       "1  [0, 1, 0, 0, 1, 0, 0, 1, 0, 0, 0]  \n",
       "2     [0, 0, 0, 0, 1, 1, 0, 0, 0, 0]  "
      ]
     },
     "execution_count": 99,
     "metadata": {},
     "output_type": "execute_result"
    }
   ],
   "source": [
    "test_data.head(3)"
   ]
  },
  {
   "cell_type": "code",
   "execution_count": 100,
   "id": "c384351a-b301-4a92-bb7f-b243f537bb62",
   "metadata": {
    "tags": []
   },
   "outputs": [
    {
     "data": {
      "text/html": [
       "<div>\n",
       "<style scoped>\n",
       "    .dataframe tbody tr th:only-of-type {\n",
       "        vertical-align: middle;\n",
       "    }\n",
       "\n",
       "    .dataframe tbody tr th {\n",
       "        vertical-align: top;\n",
       "    }\n",
       "\n",
       "    .dataframe thead th {\n",
       "        text-align: right;\n",
       "    }\n",
       "</style>\n",
       "<table border=\"1\" class=\"dataframe\">\n",
       "  <thead>\n",
       "    <tr style=\"text-align: right;\">\n",
       "      <th></th>\n",
       "      <th>patient_question</th>\n",
       "      <th>clinician_question</th>\n",
       "      <th>sentences</th>\n",
       "      <th>note_excerpt</th>\n",
       "      <th>labels</th>\n",
       "    </tr>\n",
       "  </thead>\n",
       "  <tbody>\n",
       "    <tr>\n",
       "      <th>0</th>\n",
       "      <td>I had surgery for a kidney tumor and then got ...</td>\n",
       "      <td>What was the etiology of the patient’s postope...</td>\n",
       "      <td>[surgical pathology consult the patient a 72ye...</td>\n",
       "      <td>surgical pathology consult the patient a 72yea...</td>\n",
       "      <td>[0, 0, 0, 0, 0, 0, 0, 0, 1, 1, 1, 1, 0, 0]</td>\n",
       "    </tr>\n",
       "    <tr>\n",
       "      <th>1</th>\n",
       "      <td>I have kidney problems and high blood pressure...</td>\n",
       "      <td>What is the relationship between the patient's...</td>\n",
       "      <td>[admission date the patient arrived on 471830 ...</td>\n",
       "      <td>admission date the patient arrived on 471830 w...</td>\n",
       "      <td>[0, 0, 0, 0, 0, 0, 0, 1, 1, 0]</td>\n",
       "    </tr>\n",
       "    <tr>\n",
       "      <th>2</th>\n",
       "      <td>I am worried about infection, and I live alone...</td>\n",
       "      <td>What are the key discharge instructions regard...</td>\n",
       "      <td>[postoperative assessment patient underwent ex...</td>\n",
       "      <td>postoperative assessment patient underwent exp...</td>\n",
       "      <td>[0, 0, 0, 0, 0, 0, 0, 0, 0, 0, 0, 0, 0, 0, 0, ...</td>\n",
       "    </tr>\n",
       "    <tr>\n",
       "      <th>3</th>\n",
       "      <td>Why do I have to take so many medications?</td>\n",
       "      <td>What is the rationale for the patient's curren...</td>\n",
       "      <td>[### Impression and Plan patient is a 65yearol...</td>\n",
       "      <td>### Impression and Plan patient is a 65yearold...</td>\n",
       "      <td>[0, 0, 0, 0, 0, 0, 0, 0, 1, 0, 0]</td>\n",
       "    </tr>\n",
       "    <tr>\n",
       "      <th>4</th>\n",
       "      <td>I am confused about all these heart and kidney...</td>\n",
       "      <td>What is the rationale for initiating sacubitri...</td>\n",
       "      <td>[physical exam on admission, the patient is a ...</td>\n",
       "      <td>physical exam on admission the patient is a 74...</td>\n",
       "      <td>[0, 0, 1, 0, 0, 0, 0, 1, 1, 0, 0, 0, 1, 1, 0]</td>\n",
       "    </tr>\n",
       "    <tr>\n",
       "      <th>...</th>\n",
       "      <td>...</td>\n",
       "      <td>...</td>\n",
       "      <td>...</td>\n",
       "      <td>...</td>\n",
       "      <td>...</td>\n",
       "    </tr>\n",
       "    <tr>\n",
       "      <th>295</th>\n",
       "      <td>Why was I given medication for my blood pressu...</td>\n",
       "      <td>What is the rationale for continuing losartan ...</td>\n",
       "      <td>[surgical procedure summary under went laminec...</td>\n",
       "      <td>surgical procedure summary under went laminect...</td>\n",
       "      <td>[0, 0, 0, 0, 0, 0, 0, 0, 0, 0, 0, 0, 0, 1, 0]</td>\n",
       "    </tr>\n",
       "    <tr>\n",
       "      <th>296</th>\n",
       "      <td>My mom was really uncomfortable at the end, wh...</td>\n",
       "      <td>What interventions were used to manage the pat...</td>\n",
       "      <td>[history of present illness patient known as m...</td>\n",
       "      <td>history of present illness patient known as ms...</td>\n",
       "      <td>[0, 0, 0, 0, 0, 0, 0, 0, 0, 1, 1, 0, 0, 0]</td>\n",
       "    </tr>\n",
       "    <tr>\n",
       "      <th>297</th>\n",
       "      <td>I was feeling really down during the hospital ...</td>\n",
       "      <td>What is the plan for titration of the patient’...</td>\n",
       "      <td>[major surgical or invasive procedure subtotal...</td>\n",
       "      <td>major surgical or invasive procedure subtotal ...</td>\n",
       "      <td>[0, 0, 0, 0, 1, 1, 0, 0, 0, 1, 0, 0, 0, 0]</td>\n",
       "    </tr>\n",
       "    <tr>\n",
       "      <th>298</th>\n",
       "      <td>I’m worried about the cells they found. What d...</td>\n",
       "      <td>What is the differential diagnosis given the a...</td>\n",
       "      <td>[the patient underwent ct imaging which reveal...</td>\n",
       "      <td>the patient underwent ct imaging which reveale...</td>\n",
       "      <td>[0, 0, 0, 0, 0, 1, 1, 0]</td>\n",
       "    </tr>\n",
       "    <tr>\n",
       "      <th>299</th>\n",
       "      <td>I was on a blood pressure medicine, lisinopril...</td>\n",
       "      <td>What is the rationale for holding lisinopril p...</td>\n",
       "      <td>[patient progress notes mr johnson 87654 is a ...</td>\n",
       "      <td>patient progress notes mr johnson 87654 is a 6...</td>\n",
       "      <td>[0, 0, 0, 0, 0, 0, 0, 0, 0, 1, 1, 0, 0, 0]</td>\n",
       "    </tr>\n",
       "  </tbody>\n",
       "</table>\n",
       "<p>300 rows × 5 columns</p>\n",
       "</div>"
      ],
      "text/plain": [
       "                                      patient_question  \\\n",
       "0    I had surgery for a kidney tumor and then got ...   \n",
       "1    I have kidney problems and high blood pressure...   \n",
       "2    I am worried about infection, and I live alone...   \n",
       "3           Why do I have to take so many medications?   \n",
       "4    I am confused about all these heart and kidney...   \n",
       "..                                                 ...   \n",
       "295  Why was I given medication for my blood pressu...   \n",
       "296  My mom was really uncomfortable at the end, wh...   \n",
       "297  I was feeling really down during the hospital ...   \n",
       "298  I’m worried about the cells they found. What d...   \n",
       "299  I was on a blood pressure medicine, lisinopril...   \n",
       "\n",
       "                                    clinician_question  \\\n",
       "0    What was the etiology of the patient’s postope...   \n",
       "1    What is the relationship between the patient's...   \n",
       "2    What are the key discharge instructions regard...   \n",
       "3    What is the rationale for the patient's curren...   \n",
       "4    What is the rationale for initiating sacubitri...   \n",
       "..                                                 ...   \n",
       "295  What is the rationale for continuing losartan ...   \n",
       "296  What interventions were used to manage the pat...   \n",
       "297  What is the plan for titration of the patient’...   \n",
       "298  What is the differential diagnosis given the a...   \n",
       "299  What is the rationale for holding lisinopril p...   \n",
       "\n",
       "                                             sentences  \\\n",
       "0    [surgical pathology consult the patient a 72ye...   \n",
       "1    [admission date the patient arrived on 471830 ...   \n",
       "2    [postoperative assessment patient underwent ex...   \n",
       "3    [### Impression and Plan patient is a 65yearol...   \n",
       "4    [physical exam on admission, the patient is a ...   \n",
       "..                                                 ...   \n",
       "295  [surgical procedure summary under went laminec...   \n",
       "296  [history of present illness patient known as m...   \n",
       "297  [major surgical or invasive procedure subtotal...   \n",
       "298  [the patient underwent ct imaging which reveal...   \n",
       "299  [patient progress notes mr johnson 87654 is a ...   \n",
       "\n",
       "                                          note_excerpt  \\\n",
       "0    surgical pathology consult the patient a 72yea...   \n",
       "1    admission date the patient arrived on 471830 w...   \n",
       "2    postoperative assessment patient underwent exp...   \n",
       "3    ### Impression and Plan patient is a 65yearold...   \n",
       "4    physical exam on admission the patient is a 74...   \n",
       "..                                                 ...   \n",
       "295  surgical procedure summary under went laminect...   \n",
       "296  history of present illness patient known as ms...   \n",
       "297  major surgical or invasive procedure subtotal ...   \n",
       "298  the patient underwent ct imaging which reveale...   \n",
       "299  patient progress notes mr johnson 87654 is a 6...   \n",
       "\n",
       "                                                labels  \n",
       "0           [0, 0, 0, 0, 0, 0, 0, 0, 1, 1, 1, 1, 0, 0]  \n",
       "1                       [0, 0, 0, 0, 0, 0, 0, 1, 1, 0]  \n",
       "2    [0, 0, 0, 0, 0, 0, 0, 0, 0, 0, 0, 0, 0, 0, 0, ...  \n",
       "3                    [0, 0, 0, 0, 0, 0, 0, 0, 1, 0, 0]  \n",
       "4        [0, 0, 1, 0, 0, 0, 0, 1, 1, 0, 0, 0, 1, 1, 0]  \n",
       "..                                                 ...  \n",
       "295      [0, 0, 0, 0, 0, 0, 0, 0, 0, 0, 0, 0, 0, 1, 0]  \n",
       "296         [0, 0, 0, 0, 0, 0, 0, 0, 0, 1, 1, 0, 0, 0]  \n",
       "297         [0, 0, 0, 0, 1, 1, 0, 0, 0, 1, 0, 0, 0, 0]  \n",
       "298                           [0, 0, 0, 0, 0, 1, 1, 0]  \n",
       "299         [0, 0, 0, 0, 0, 0, 0, 0, 0, 1, 1, 0, 0, 0]  \n",
       "\n",
       "[300 rows x 5 columns]"
      ]
     },
     "execution_count": 100,
     "metadata": {},
     "output_type": "execute_result"
    }
   ],
   "source": [
    "train_data"
   ]
  },
  {
   "cell_type": "markdown",
   "id": "655d90ff-aedb-4d57-b1fc-83e5173b5ca1",
   "metadata": {},
   "source": [
    "# Aggregate "
   ]
  },
  {
   "cell_type": "code",
   "execution_count": 101,
   "id": "70528706-ee7f-4350-be4e-f28598df0156",
   "metadata": {
    "tags": []
   },
   "outputs": [],
   "source": [
    "'''\n",
    "train_data_agg = (\n",
    "    train_data[\n",
    "        ['note_excerpt', 'patient_question', 'clinician_question', 'sentences', 'labels']\n",
    "    ]\n",
    "    .assign(sentences_full=lambda df: df['sentences'])\n",
    "    .explode(['sentences', 'labels'])\n",
    "    .rename(columns={'sentences': 'sentence', 'labels': 'label'})\n",
    "    .reset_index(drop=True)\n",
    ")\n",
    "train_data_agg = train_data_agg.rename(columns={'sentences_full': 'sentences'})\n",
    "\n",
    "test_data_agg = (\n",
    "    test_data[\n",
    "        ['note_excerpt', 'patient_question', 'clinician_question', 'sentences', 'labels']\n",
    "    ]\n",
    "    .assign(sentences_full=lambda df: df['sentences'])\n",
    "    .explode(['sentences', 'labels'])\n",
    "    .rename(columns={'sentences': 'sentence', 'labels': 'label'})\n",
    "    .reset_index(drop=True)\n",
    ")\n",
    "test_data_agg = test_data_agg.rename(columns={'sentences_full': 'sentences'})\n",
    "''';"
   ]
  },
  {
   "cell_type": "markdown",
   "id": "7ccd9228-3b74-4d9f-8e05-f99d1558e484",
   "metadata": {},
   "source": [
    "# Masking"
   ]
  },
  {
   "cell_type": "markdown",
   "id": "67dd8370-debb-4459-958f-f3a400eb8e64",
   "metadata": {},
   "source": [
    "We’ll create one row per sentence: full context + label for only that sentence\n",
    "\n",
    "And add **[START]** and **[END]** markers around the target sentence"
   ]
  },
  {
   "cell_type": "code",
   "execution_count": 102,
   "id": "530a5760-6988-4609-b96b-e6d3f7158637",
   "metadata": {
    "tags": []
   },
   "outputs": [],
   "source": [
    "WINDOW_SIZE = 0"
   ]
  },
  {
   "cell_type": "code",
   "execution_count": 103,
   "id": "3efa69cb-2b68-47a1-ad56-56c11d7b41bc",
   "metadata": {
    "tags": []
   },
   "outputs": [],
   "source": [
    "train_data_masked = util.mask_on_sentence_level(train_data, window=WINDOW_SIZE)\n",
    "test_data_masked = util.mask_on_sentence_level(test_data, window=WINDOW_SIZE)"
   ]
  },
  {
   "cell_type": "code",
   "execution_count": 104,
   "id": "3d1f77ac-3e90-46f1-b561-595b92bbd719",
   "metadata": {
    "tags": []
   },
   "outputs": [
    {
     "data": {
      "text/html": [
       "<div>\n",
       "<style scoped>\n",
       "    .dataframe tbody tr th:only-of-type {\n",
       "        vertical-align: middle;\n",
       "    }\n",
       "\n",
       "    .dataframe tbody tr th {\n",
       "        vertical-align: top;\n",
       "    }\n",
       "\n",
       "    .dataframe thead th {\n",
       "        text-align: right;\n",
       "    }\n",
       "</style>\n",
       "<table border=\"1\" class=\"dataframe\">\n",
       "  <thead>\n",
       "    <tr style=\"text-align: right;\">\n",
       "      <th></th>\n",
       "      <th>question</th>\n",
       "      <th>context</th>\n",
       "      <th>target_sentence</th>\n",
       "      <th>target_index</th>\n",
       "      <th>label</th>\n",
       "    </tr>\n",
       "  </thead>\n",
       "  <tbody>\n",
       "    <tr>\n",
       "      <th>0</th>\n",
       "      <td>I had surgery for a kidney tumor and then got ...</td>\n",
       "      <td>surgical pathology consult the patient a 72yea...</td>\n",
       "      <td>surgical pathology consult the patient a 72yea...</td>\n",
       "      <td>0</td>\n",
       "      <td>0</td>\n",
       "    </tr>\n",
       "    <tr>\n",
       "      <th>1</th>\n",
       "      <td>I had surgery for a kidney tumor and then got ...</td>\n",
       "      <td>history includes stage 2 breast cancer sp lump...</td>\n",
       "      <td>history includes stage 2 breast cancer sp lump...</td>\n",
       "      <td>1</td>\n",
       "      <td>0</td>\n",
       "    </tr>\n",
       "    <tr>\n",
       "      <th>2</th>\n",
       "      <td>I had surgery for a kidney tumor and then got ...</td>\n",
       "      <td>the renal mass raised suspicion for malignancy...</td>\n",
       "      <td>the renal mass raised suspicion for malignancy...</td>\n",
       "      <td>2</td>\n",
       "      <td>0</td>\n",
       "    </tr>\n",
       "    <tr>\n",
       "      <th>3</th>\n",
       "      <td>I had surgery for a kidney tumor and then got ...</td>\n",
       "      <td>pathology report confirmed clear cell renal ca...</td>\n",
       "      <td>pathology report confirmed clear cell renal ca...</td>\n",
       "      <td>3</td>\n",
       "      <td>0</td>\n",
       "    </tr>\n",
       "    <tr>\n",
       "      <th>4</th>\n",
       "      <td>I had surgery for a kidney tumor and then got ...</td>\n",
       "      <td>patient was then referred to medical oncology ...</td>\n",
       "      <td>patient was then referred to medical oncology ...</td>\n",
       "      <td>4</td>\n",
       "      <td>0</td>\n",
       "    </tr>\n",
       "  </tbody>\n",
       "</table>\n",
       "</div>"
      ],
      "text/plain": [
       "                                            question  \\\n",
       "0  I had surgery for a kidney tumor and then got ...   \n",
       "1  I had surgery for a kidney tumor and then got ...   \n",
       "2  I had surgery for a kidney tumor and then got ...   \n",
       "3  I had surgery for a kidney tumor and then got ...   \n",
       "4  I had surgery for a kidney tumor and then got ...   \n",
       "\n",
       "                                             context  \\\n",
       "0  surgical pathology consult the patient a 72yea...   \n",
       "1  history includes stage 2 breast cancer sp lump...   \n",
       "2  the renal mass raised suspicion for malignancy...   \n",
       "3  pathology report confirmed clear cell renal ca...   \n",
       "4  patient was then referred to medical oncology ...   \n",
       "\n",
       "                                     target_sentence  target_index  label  \n",
       "0  surgical pathology consult the patient a 72yea...             0      0  \n",
       "1  history includes stage 2 breast cancer sp lump...             1      0  \n",
       "2  the renal mass raised suspicion for malignancy...             2      0  \n",
       "3  pathology report confirmed clear cell renal ca...             3      0  \n",
       "4  patient was then referred to medical oncology ...             4      0  "
      ]
     },
     "execution_count": 104,
     "metadata": {},
     "output_type": "execute_result"
    }
   ],
   "source": [
    "train_data_masked.head()"
   ]
  },
  {
   "cell_type": "code",
   "execution_count": 107,
   "id": "ab64ae7a-a1d5-4fc9-87a7-26dcdeadea86",
   "metadata": {
    "tags": []
   },
   "outputs": [
    {
     "data": {
      "text/plain": [
       "label\n",
       "0    3299\n",
       "1     857\n",
       "Name: count, dtype: int64"
      ]
     },
     "execution_count": 107,
     "metadata": {},
     "output_type": "execute_result"
    }
   ],
   "source": [
    "train_data_masked['label'].value_counts()"
   ]
  },
  {
   "cell_type": "code",
   "execution_count": 108,
   "id": "90b1ef92-8470-43d5-a275-73c71cd80509",
   "metadata": {
    "tags": []
   },
   "outputs": [
    {
     "data": {
      "text/plain": [
       "label\n",
       "0    290\n",
       "1    138\n",
       "Name: count, dtype: int64"
      ]
     },
     "execution_count": 108,
     "metadata": {},
     "output_type": "execute_result"
    }
   ],
   "source": [
    "test_data_masked['label'].value_counts()"
   ]
  },
  {
   "cell_type": "code",
   "execution_count": 105,
   "id": "e771952f-f620-4d74-9956-fa0ff0c85b65",
   "metadata": {
    "tags": []
   },
   "outputs": [
    {
     "data": {
      "text/html": [
       "<div>\n",
       "<style scoped>\n",
       "    .dataframe tbody tr th:only-of-type {\n",
       "        vertical-align: middle;\n",
       "    }\n",
       "\n",
       "    .dataframe tbody tr th {\n",
       "        vertical-align: top;\n",
       "    }\n",
       "\n",
       "    .dataframe thead th {\n",
       "        text-align: right;\n",
       "    }\n",
       "</style>\n",
       "<table border=\"1\" class=\"dataframe\">\n",
       "  <thead>\n",
       "    <tr style=\"text-align: right;\">\n",
       "      <th></th>\n",
       "      <th>question</th>\n",
       "      <th>context</th>\n",
       "      <th>target_sentence</th>\n",
       "      <th>target_index</th>\n",
       "      <th>label</th>\n",
       "    </tr>\n",
       "  </thead>\n",
       "  <tbody>\n",
       "    <tr>\n",
       "      <th>0</th>\n",
       "      <td>My question is if the sludge was there does no...</td>\n",
       "      <td>Brief Hospital Course:</td>\n",
       "      <td>Brief Hospital Course:</td>\n",
       "      <td>0</td>\n",
       "      <td>0</td>\n",
       "    </tr>\n",
       "    <tr>\n",
       "      <th>1</th>\n",
       "      <td>My question is if the sludge was there does no...</td>\n",
       "      <td>During the ERCP a pancreatic stent was require...</td>\n",
       "      <td>During the ERCP a pancreatic stent was require...</td>\n",
       "      <td>1</td>\n",
       "      <td>1</td>\n",
       "    </tr>\n",
       "    <tr>\n",
       "      <th>2</th>\n",
       "      <td>My question is if the sludge was there does no...</td>\n",
       "      <td>However, due to the patient's elevated INR, no...</td>\n",
       "      <td>However, due to the patient's elevated INR, no...</td>\n",
       "      <td>2</td>\n",
       "      <td>0</td>\n",
       "    </tr>\n",
       "    <tr>\n",
       "      <th>3</th>\n",
       "      <td>My question is if the sludge was there does no...</td>\n",
       "      <td>Frank pus was noted to be draining from the co...</td>\n",
       "      <td>Frank pus was noted to be draining from the co...</td>\n",
       "      <td>3</td>\n",
       "      <td>0</td>\n",
       "    </tr>\n",
       "    <tr>\n",
       "      <th>4</th>\n",
       "      <td>My question is if the sludge was there does no...</td>\n",
       "      <td>The Vancomycin was discontinued.</td>\n",
       "      <td>The Vancomycin was discontinued.</td>\n",
       "      <td>4</td>\n",
       "      <td>0</td>\n",
       "    </tr>\n",
       "  </tbody>\n",
       "</table>\n",
       "</div>"
      ],
      "text/plain": [
       "                                            question  \\\n",
       "0  My question is if the sludge was there does no...   \n",
       "1  My question is if the sludge was there does no...   \n",
       "2  My question is if the sludge was there does no...   \n",
       "3  My question is if the sludge was there does no...   \n",
       "4  My question is if the sludge was there does no...   \n",
       "\n",
       "                                             context  \\\n",
       "0                             Brief Hospital Course:   \n",
       "1  During the ERCP a pancreatic stent was require...   \n",
       "2  However, due to the patient's elevated INR, no...   \n",
       "3  Frank pus was noted to be draining from the co...   \n",
       "4                   The Vancomycin was discontinued.   \n",
       "\n",
       "                                     target_sentence  target_index  label  \n",
       "0                             Brief Hospital Course:             0      0  \n",
       "1  During the ERCP a pancreatic stent was require...             1      1  \n",
       "2  However, due to the patient's elevated INR, no...             2      0  \n",
       "3  Frank pus was noted to be draining from the co...             3      0  \n",
       "4                   The Vancomycin was discontinued.             4      0  "
      ]
     },
     "execution_count": 105,
     "metadata": {},
     "output_type": "execute_result"
    }
   ],
   "source": [
    "test_data_masked.head()"
   ]
  },
  {
   "cell_type": "markdown",
   "id": "4fcd5f90-d649-4122-8547-8d22c9c258a6",
   "metadata": {},
   "source": [
    "# Undersample Class 0"
   ]
  },
  {
   "cell_type": "code",
   "execution_count": 109,
   "id": "a6c5f64f-b5ac-421a-b76c-044b8fe88378",
   "metadata": {
    "tags": []
   },
   "outputs": [
    {
     "name": "stdout",
     "output_type": "stream",
     "text": [
      "New class balance:\n",
      "label\n",
      "0    857\n",
      "1    857\n",
      "Name: count, dtype: int64\n"
     ]
    }
   ],
   "source": [
    "df = train_data_masked.copy()\n",
    "\n",
    "# split positives & negatives\n",
    "df_pos = df[df.label == 1]\n",
    "df_neg = df[df.label == 0]\n",
    "\n",
    "# undersample negatives 1:1 to positives\n",
    "df_neg_sub = df_neg.sample(n=len(df_pos), random_state=1050)\n",
    "\n",
    "# recombine & shuffle\n",
    "df_balanced = pd.concat([df_pos, df_neg_sub], axis=0)\n",
    "df_balanced = df_balanced.sample(frac=1, random_state=1050).reset_index(drop=True)\n",
    "\n",
    "print(\"New class balance:\")\n",
    "print(df_balanced.label.value_counts())"
   ]
  },
  {
   "cell_type": "code",
   "execution_count": 110,
   "id": "d5aede3d-50f2-434a-8667-0fb19315c838",
   "metadata": {
    "tags": []
   },
   "outputs": [],
   "source": [
    "train_data_masked = df_balanced"
   ]
  },
  {
   "cell_type": "code",
   "execution_count": 112,
   "id": "45bcf322-a33e-447e-9c3f-3ded4ff87519",
   "metadata": {
    "tags": []
   },
   "outputs": [
    {
     "data": {
      "text/html": [
       "<div>\n",
       "<style scoped>\n",
       "    .dataframe tbody tr th:only-of-type {\n",
       "        vertical-align: middle;\n",
       "    }\n",
       "\n",
       "    .dataframe tbody tr th {\n",
       "        vertical-align: top;\n",
       "    }\n",
       "\n",
       "    .dataframe thead th {\n",
       "        text-align: right;\n",
       "    }\n",
       "</style>\n",
       "<table border=\"1\" class=\"dataframe\">\n",
       "  <thead>\n",
       "    <tr style=\"text-align: right;\">\n",
       "      <th></th>\n",
       "      <th>question</th>\n",
       "      <th>context</th>\n",
       "      <th>target_sentence</th>\n",
       "      <th>target_index</th>\n",
       "      <th>label</th>\n",
       "    </tr>\n",
       "  </thead>\n",
       "  <tbody>\n",
       "    <tr>\n",
       "      <th>0</th>\n",
       "      <td>Is it possible this is not a heart problem, bu...</td>\n",
       "      <td>stay hydrated and maintain a balanced diet to ...</td>\n",
       "      <td>stay hydrated and maintain a balanced diet to ...</td>\n",
       "      <td>15</td>\n",
       "      <td>0</td>\n",
       "    </tr>\n",
       "    <tr>\n",
       "      <th>1</th>\n",
       "      <td>Is it okay to start smoking again if I feel be...</td>\n",
       "      <td>smoking cessation resources given and encouraged</td>\n",
       "      <td>smoking cessation resources given and encouraged</td>\n",
       "      <td>12</td>\n",
       "      <td>1</td>\n",
       "    </tr>\n",
       "    <tr>\n",
       "      <th>2</th>\n",
       "      <td>I was taking a blood thinner before surgery, a...</td>\n",
       "      <td>co-management with hematology for evaluation o...</td>\n",
       "      <td>co-management with hematology for evaluation o...</td>\n",
       "      <td>10</td>\n",
       "      <td>0</td>\n",
       "    </tr>\n",
       "    <tr>\n",
       "      <th>3</th>\n",
       "      <td>I have diabetes, and my A1C is high. What can ...</td>\n",
       "      <td>she was advised to monitor her blood pressure ...</td>\n",
       "      <td>she was advised to monitor her blood pressure ...</td>\n",
       "      <td>9</td>\n",
       "      <td>1</td>\n",
       "    </tr>\n",
       "    <tr>\n",
       "      <th>4</th>\n",
       "      <td>I was confused and could barely walk, and my k...</td>\n",
       "      <td>hypertension</td>\n",
       "      <td>hypertension</td>\n",
       "      <td>3</td>\n",
       "      <td>0</td>\n",
       "    </tr>\n",
       "  </tbody>\n",
       "</table>\n",
       "</div>"
      ],
      "text/plain": [
       "                                            question  \\\n",
       "0  Is it possible this is not a heart problem, bu...   \n",
       "1  Is it okay to start smoking again if I feel be...   \n",
       "2  I was taking a blood thinner before surgery, a...   \n",
       "3  I have diabetes, and my A1C is high. What can ...   \n",
       "4  I was confused and could barely walk, and my k...   \n",
       "\n",
       "                                             context  \\\n",
       "0  stay hydrated and maintain a balanced diet to ...   \n",
       "1   smoking cessation resources given and encouraged   \n",
       "2  co-management with hematology for evaluation o...   \n",
       "3  she was advised to monitor her blood pressure ...   \n",
       "4                                       hypertension   \n",
       "\n",
       "                                     target_sentence  target_index  label  \n",
       "0  stay hydrated and maintain a balanced diet to ...            15      0  \n",
       "1   smoking cessation resources given and encouraged            12      1  \n",
       "2  co-management with hematology for evaluation o...            10      0  \n",
       "3  she was advised to monitor her blood pressure ...             9      1  \n",
       "4                                       hypertension             3      0  "
      ]
     },
     "execution_count": 112,
     "metadata": {},
     "output_type": "execute_result"
    }
   ],
   "source": [
    "train_data_masked.head()"
   ]
  },
  {
   "cell_type": "markdown",
   "id": "8cf22a41-8dfb-4993-a16d-0764c6665a66",
   "metadata": {},
   "source": [
    "# Dataset Preperation"
   ]
  },
  {
   "cell_type": "markdown",
   "id": "6de7a787-4037-418c-b86e-adcba920a54b",
   "metadata": {},
   "source": [
    "- Fine-tuning both the model weights and using a tokenizer whose vocabulary matches your task/domain.\n",
    "\n",
    "- All components — embeddings, encoder layers, and classifier head — are updated during training."
   ]
  },
  {
   "cell_type": "markdown",
   "id": "9a76ad6b-19b9-4fd4-b4cb-22fae688dc92",
   "metadata": {},
   "source": [
    "**Configs**"
   ]
  },
  {
   "cell_type": "code",
   "execution_count": 113,
   "id": "2c2361ac-2521-484d-9b72-68d863240680",
   "metadata": {
    "tags": []
   },
   "outputs": [],
   "source": [
    "MODEL = \"microsoft/BiomedNLP-PubMedBERT-base-uncased-abstract\"\n",
    "BATCH_SIZE = 64\n",
    "CONTEXT_LENGTH = 512"
   ]
  },
  {
   "cell_type": "code",
   "execution_count": 114,
   "id": "fbd0e71d-ed55-4ffd-8e92-bbeef052c458",
   "metadata": {
    "tags": []
   },
   "outputs": [],
   "source": [
    "tokenizer = AutoTokenizer.from_pretrained(MODEL, token=hf_token)"
   ]
  },
  {
   "cell_type": "markdown",
   "id": "b7898647-1343-4907-af96-5db01515059d",
   "metadata": {},
   "source": [
    "**Load trainable embeddings**"
   ]
  },
  {
   "cell_type": "code",
   "execution_count": 115,
   "id": "e33cfd03-2fdc-4c8d-873d-91729bca81f9",
   "metadata": {
    "tags": []
   },
   "outputs": [
    {
     "name": "stderr",
     "output_type": "stream",
     "text": [
      "Some weights of BertForSequenceClassification were not initialized from the model checkpoint at microsoft/BiomedNLP-PubMedBERT-base-uncased-abstract and are newly initialized: ['classifier.bias', 'classifier.weight']\n",
      "You should probably TRAIN this model on a down-stream task to be able to use it for predictions and inference.\n"
     ]
    }
   ],
   "source": [
    "model = AutoModelForSequenceClassification.from_pretrained(\n",
    "    MODEL, num_labels=2, token=hf_token\n",
    ")"
   ]
  },
  {
   "cell_type": "code",
   "execution_count": 116,
   "id": "a7f96d80-9dae-46ab-9c19-e613f94bc7e5",
   "metadata": {
    "tags": []
   },
   "outputs": [],
   "source": [
    "# Resize model embeddings to match new special tokens\n",
    "if WINDOW_SIZE > 0:\n",
    "    special_tokens = {\"additional_special_tokens\": [\"[START]\", \"[END]\"]}\n",
    "    tokenizer.add_special_tokens(special_tokens);\n",
    "    model.resize_token_embeddings(len(tokenizer))"
   ]
  },
  {
   "cell_type": "markdown",
   "id": "9d19c82a-701a-499a-95ca-20087b11acce",
   "metadata": {},
   "source": [
    "Check if model parameters are trainable (Ensure We Are Training End-to-End)"
   ]
  },
  {
   "cell_type": "code",
   "execution_count": 117,
   "id": "5df12e51-7d34-4788-a754-962d201d42b2",
   "metadata": {
    "tags": []
   },
   "outputs": [],
   "source": [
    "for param in model.parameters():\n",
    "    param.requires_grad = True  # Ensure the entire model is updated"
   ]
  },
  {
   "cell_type": "markdown",
   "id": "aaff887f-b79c-4465-9d6a-bc8a92242ed2",
   "metadata": {},
   "source": [
    "**Prepare the dataset**"
   ]
  },
  {
   "cell_type": "code",
   "execution_count": 118,
   "id": "15b33d74-b8da-4e5e-9258-c85001d1cf15",
   "metadata": {
    "tags": []
   },
   "outputs": [],
   "source": [
    "dataset_train = Dataset.from_pandas(train_data_masked)\n",
    "dataset_test = Dataset.from_pandas(test_data_masked)"
   ]
  },
  {
   "cell_type": "code",
   "execution_count": 119,
   "id": "61799f86-d211-4ca2-a901-f8424b6d7bec",
   "metadata": {
    "tags": []
   },
   "outputs": [
    {
     "data": {
      "application/vnd.jupyter.widget-view+json": {
       "model_id": "42304a4e50584daaa3b8983de0322a0a",
       "version_major": 2,
       "version_minor": 0
      },
      "text/plain": [
       "Tokenizing:   0%|          | 0/2142 [00:00<?, ?it/s]"
      ]
     },
     "metadata": {},
     "output_type": "display_data"
    }
   ],
   "source": [
    "progress_bar = tqdm(total=((len(dataset_train)+len(dataset_test))),\n",
    "                    desc=\"Tokenizing\", position=0, leave=True)"
   ]
  },
  {
   "cell_type": "code",
   "execution_count": 120,
   "id": "4d06721a-57d6-4019-82d1-7b3e51482cea",
   "metadata": {
    "tags": []
   },
   "outputs": [],
   "source": [
    "def tokenize_batch(batch):\n",
    "    encodings = tokenizer(\n",
    "        batch[\"question\"],\n",
    "        batch[\"context\"],\n",
    "        padding=\"max_length\",\n",
    "        truncation=True,\n",
    "        max_length=CONTEXT_LENGTH,\n",
    "        return_tensors=\"pt\"\n",
    "    )\n",
    "    return {\n",
    "        \"input_ids\": encodings[\"input_ids\"].tolist(),\n",
    "        \"attention_mask\": encodings[\"attention_mask\"].tolist(),\n",
    "        \"labels\": batch[\"label\"]\n",
    "    }\n",
    "\n",
    "def tokenize_with_progress(batch):\n",
    "    out = tokenize_batch(batch)\n",
    "    progress_bar.update(len(batch[\"question\"]))\n",
    "    return out"
   ]
  },
  {
   "cell_type": "code",
   "execution_count": 121,
   "id": "60913fc8-73ec-4187-8f39-5dbcb4867835",
   "metadata": {
    "tags": []
   },
   "outputs": [
    {
     "data": {
      "application/vnd.jupyter.widget-view+json": {
       "model_id": "5888889f05ba4a2d9d2d01a6d217a780",
       "version_major": 2,
       "version_minor": 0
      },
      "text/plain": [
       "Map:   0%|          | 0/1714 [00:00<?, ? examples/s]"
      ]
     },
     "metadata": {},
     "output_type": "display_data"
    },
    {
     "data": {
      "application/vnd.jupyter.widget-view+json": {
       "model_id": "935b6eea47334e9ba1da82792939b37a",
       "version_major": 2,
       "version_minor": 0
      },
      "text/plain": [
       "Map:   0%|          | 0/428 [00:00<?, ? examples/s]"
      ]
     },
     "metadata": {},
     "output_type": "display_data"
    }
   ],
   "source": [
    "tokenized_dataset_train = dataset_train.map(tokenize_with_progress, batched=True, batch_size=BATCH_SIZE)\n",
    "tokenized_dataset_test = dataset_test.map(tokenize_with_progress, batched=True, batch_size=BATCH_SIZE)"
   ]
  },
  {
   "cell_type": "code",
   "execution_count": 122,
   "id": "6f2affd8-f430-4568-9742-c14607ad280c",
   "metadata": {
    "tags": []
   },
   "outputs": [],
   "source": [
    "progress_bar.close()"
   ]
  },
  {
   "cell_type": "markdown",
   "id": "1fea3d62-cd35-4b19-a740-3ca4fb88c4a0",
   "metadata": {},
   "source": [
    "**Convert to PyTorch Dataset (Ensure dataset is set to PyTorch format)**"
   ]
  },
  {
   "cell_type": "code",
   "execution_count": 123,
   "id": "97474983-8df9-43f5-a97f-4f53a98bcb49",
   "metadata": {
    "tags": []
   },
   "outputs": [],
   "source": [
    "tokenized_dataset_train.set_format(type=\"torch\", columns=[\"input_ids\", \"attention_mask\", \"labels\"])\n",
    "tokenized_dataset_test.set_format(type=\"torch\", columns=[\"input_ids\", \"attention_mask\", \"labels\"])"
   ]
  },
  {
   "cell_type": "markdown",
   "id": "ff634acb-a0da-4b54-86d8-9a3d0b781586",
   "metadata": {},
   "source": [
    "**Create DataLoader for Batching**"
   ]
  },
  {
   "cell_type": "code",
   "execution_count": 124,
   "id": "7128b7fa-316d-417e-a589-2ca65f3571fb",
   "metadata": {
    "tags": []
   },
   "outputs": [],
   "source": [
    "train_dataloader = DataLoader(tokenized_dataset_train, batch_size=BATCH_SIZE, shuffle=True)\n",
    "test_dataloader = DataLoader(tokenized_dataset_test, batch_size=BATCH_SIZE)"
   ]
  },
  {
   "cell_type": "markdown",
   "id": "3ffc8860-46ea-479d-a4e0-ce55a112678b",
   "metadata": {},
   "source": [
    "Check one batch"
   ]
  },
  {
   "cell_type": "code",
   "execution_count": 125,
   "id": "59518f61-068b-4487-ace1-eb52c1f269d5",
   "metadata": {
    "tags": []
   },
   "outputs": [
    {
     "name": "stdout",
     "output_type": "stream",
     "text": [
      "{'input_ids': torch.Size([64, 512]), 'attention_mask': torch.Size([64, 512]), 'labels': torch.Size([64])}\n"
     ]
    }
   ],
   "source": [
    "batch = next(iter(train_dataloader))\n",
    "print({key: value.shape for key, value in batch.items()})"
   ]
  },
  {
   "cell_type": "markdown",
   "id": "00d4fe19-38fb-4529-aebd-5059820f7147",
   "metadata": {},
   "source": [
    "**Sanity check to verify that everything is correct before training**"
   ]
  },
  {
   "cell_type": "code",
   "execution_count": 126,
   "id": "4a2a3b6c-eed2-4a57-b36c-dc0cf05d3595",
   "metadata": {
    "tags": []
   },
   "outputs": [
    {
     "name": "stdout",
     "output_type": "stream",
     "text": [
      "----- Training Set -----\n",
      "Dataset({\n",
      "    features: ['question', 'context', 'target_sentence', 'target_index', 'label', 'input_ids', 'attention_mask', 'labels'],\n",
      "    num_rows: 1714\n",
      "})\n",
      "['question', 'context', 'target_sentence', 'target_index', 'label', 'input_ids', 'attention_mask', 'labels']\n",
      "----- Test Set -----\n",
      "Dataset({\n",
      "    features: ['question', 'context', 'target_sentence', 'target_index', 'label', 'input_ids', 'attention_mask', 'labels'],\n",
      "    num_rows: 428\n",
      "})\n",
      "['question', 'context', 'target_sentence', 'target_index', 'label', 'input_ids', 'attention_mask', 'labels']\n"
     ]
    }
   ],
   "source": [
    "print(\"----- Training Set -----\")\n",
    "print(tokenized_dataset_train)\n",
    "print(tokenized_dataset_train.column_names)\n",
    "print(\"----- Test Set -----\")\n",
    "print(tokenized_dataset_test)\n",
    "print(tokenized_dataset_test.column_names)"
   ]
  },
  {
   "cell_type": "markdown",
   "id": "89b62903-c4ec-4051-a41b-904869f47aae",
   "metadata": {},
   "source": [
    "# Training"
   ]
  },
  {
   "cell_type": "markdown",
   "id": "90eaceeb-8625-4c90-aaaa-12242fd6869b",
   "metadata": {},
   "source": [
    "**Define directory for temporary checkpoints**"
   ]
  },
  {
   "cell_type": "code",
   "execution_count": 127,
   "id": "2d2421f6-2dfe-46cd-b53c-79752cf6153b",
   "metadata": {
    "tags": []
   },
   "outputs": [],
   "source": [
    "output_dir = Path(\"../../checkpoints\")\n",
    "output_dir.mkdir(parents=True, exist_ok=True)"
   ]
  },
  {
   "cell_type": "markdown",
   "id": "70094213-d9b3-47ee-846f-b9a636d0fd5f",
   "metadata": {},
   "source": [
    "**Define training arguments & initialize trainer**"
   ]
  },
  {
   "cell_type": "code",
   "execution_count": 128,
   "id": "04b5516a-5cbd-46fd-95b1-b3757dc7dbf3",
   "metadata": {
    "tags": []
   },
   "outputs": [],
   "source": [
    "NUM_EPOCHS = 3\n",
    "BATCH_SIZE = 64\n",
    "LEARNING_RATE = 2e-5\n",
    "DATASET_NAME = \"synthetic-V1\"\n",
    "\n",
    "WANDB_PROJECT_NAME = \"Sythetic-Med\"\n",
    "WANDB_RUN_NAME = f\"BioMedBert-SyntheticV1-RunV1\"\n",
    "WANDB_NOTEBOOK_NAME = \"train_and_eval\""
   ]
  },
  {
   "cell_type": "markdown",
   "id": "494073f2-2e48-472e-99bc-27991d6592a9",
   "metadata": {},
   "source": [
    "**Setup W&B**"
   ]
  },
  {
   "cell_type": "code",
   "execution_count": 129,
   "id": "454aafbf-12f0-4c96-b47a-82176a5d480d",
   "metadata": {
    "tags": []
   },
   "outputs": [
    {
     "name": "stderr",
     "output_type": "stream",
     "text": [
      "\u001b[34m\u001b[1mwandb\u001b[0m: \u001b[33mWARNING\u001b[0m Calling wandb.login() after wandb.init() has no effect.\n"
     ]
    },
    {
     "data": {
      "text/plain": [
       "True"
      ]
     },
     "execution_count": 129,
     "metadata": {},
     "output_type": "execute_result"
    }
   ],
   "source": [
    "os.environ[\"WANDB_NOTEBOOK_NAME\"] = WANDB_NOTEBOOK_NAME\n",
    "wandb.login()"
   ]
  },
  {
   "cell_type": "code",
   "execution_count": 130,
   "id": "61c45513-6980-4ac5-a121-e101fa286f17",
   "metadata": {
    "tags": []
   },
   "outputs": [],
   "source": [
    "config = dict(\n",
    "    epochs=NUM_EPOCHS,\n",
    "    batch_size=BATCH_SIZE,\n",
    "    learning_rate=LEARNING_RATE,\n",
    "    dataset=DATASET_NAME,\n",
    "    architecture=MODEL,\n",
    "    window_size=WINDOW_SIZE,\n",
    "    early_stopping=True,\n",
    "    eval_steps=500,\n",
    "    label_smoothing_factor=0.0,\n",
    "    gradient_clipping=1.0,\n",
    "    load_best_model=True,\n",
    "    metric_for_best_model=\"f1\",\n",
    "    input_format=\"question + context with [START]/[END]\"\n",
    ")"
   ]
  },
  {
   "cell_type": "markdown",
   "id": "5f3ff571-960f-409a-9abf-9ba55caf1335",
   "metadata": {},
   "source": [
    "**Generate run-id to resume same run after training**"
   ]
  },
  {
   "cell_type": "code",
   "execution_count": 131,
   "id": "4888709c-6965-4f52-b684-7e776b6794e7",
   "metadata": {
    "tags": []
   },
   "outputs": [],
   "source": [
    "run_id = wandb.util.generate_id()"
   ]
  },
  {
   "cell_type": "code",
   "execution_count": 132,
   "id": "5eedd064-f35d-4691-a16d-47db748ebdef",
   "metadata": {
    "tags": []
   },
   "outputs": [
    {
     "data": {
      "text/html": [],
      "text/plain": [
       "<IPython.core.display.HTML object>"
      ]
     },
     "metadata": {},
     "output_type": "display_data"
    },
    {
     "data": {
      "text/html": [
       "<br>    <style><br>        .wandb-row {<br>            display: flex;<br>            flex-direction: row;<br>            flex-wrap: wrap;<br>            justify-content: flex-start;<br>            width: 100%;<br>        }<br>        .wandb-col {<br>            display: flex;<br>            flex-direction: column;<br>            flex-basis: 100%;<br>            flex: 1;<br>            padding: 10px;<br>        }<br>    </style><br><div class=\"wandb-row\"><div class=\"wandb-col\"><h3>Run history:</h3><br/><table class=\"wandb\"><tr><td>eval/accuracy</td><td>▁</td></tr><tr><td>eval/f1</td><td>▁</td></tr><tr><td>eval/loss</td><td>▁</td></tr><tr><td>eval/precision</td><td>▁</td></tr><tr><td>eval/recall</td><td>▁</td></tr><tr><td>eval/runtime</td><td>▁</td></tr><tr><td>eval/samples_per_second</td><td>▁</td></tr><tr><td>eval/steps_per_second</td><td>▁</td></tr><tr><td>train/epoch</td><td>▁█</td></tr><tr><td>train/global_step</td><td>▁█</td></tr></table><br/></div><div class=\"wandb-col\"><h3>Run summary:</h3><br/><table class=\"wandb\"><tr><td>eval/accuracy</td><td>0.67757</td></tr><tr><td>eval/f1</td><td>0.1039</td></tr><tr><td>eval/loss</td><td>0.78254</td></tr><tr><td>eval/precision</td><td>0.5</td></tr><tr><td>eval/recall</td><td>0.05797</td></tr><tr><td>eval/runtime</td><td>0.3843</td></tr><tr><td>eval/samples_per_second</td><td>1113.646</td></tr><tr><td>eval/steps_per_second</td><td>10.408</td></tr><tr><td>total_flos</td><td>3280468638228480.0</td></tr><tr><td>train/epoch</td><td>3</td></tr><tr><td>train/global_step</td><td>195</td></tr><tr><td>train_loss</td><td>0.39947</td></tr><tr><td>train_runtime</td><td>50.6023</td></tr><tr><td>train_samples_per_second</td><td>246.392</td></tr><tr><td>train_steps_per_second</td><td>3.854</td></tr></table><br/></div></div>"
      ],
      "text/plain": [
       "<IPython.core.display.HTML object>"
      ]
     },
     "metadata": {},
     "output_type": "display_data"
    },
    {
     "data": {
      "text/html": [
       " View run <strong style=\"color:#cdcd00\">BioMedBert-SyntheticV1-RunV1</strong> at: <a href='https://wandb.ai/asap/Sythetic-Med/runs/g6ce7k8p' target=\"_blank\">https://wandb.ai/asap/Sythetic-Med/runs/g6ce7k8p</a><br> View project at: <a href='https://wandb.ai/asap/Sythetic-Med' target=\"_blank\">https://wandb.ai/asap/Sythetic-Med</a><br>Synced 5 W&B file(s), 0 media file(s), 0 artifact file(s) and 0 other file(s)"
      ],
      "text/plain": [
       "<IPython.core.display.HTML object>"
      ]
     },
     "metadata": {},
     "output_type": "display_data"
    },
    {
     "data": {
      "text/html": [
       "Find logs at: <code>./wandb/run-20250421_165115-g6ce7k8p/logs</code>"
      ],
      "text/plain": [
       "<IPython.core.display.HTML object>"
      ]
     },
     "metadata": {},
     "output_type": "display_data"
    },
    {
     "data": {
      "text/html": [
       "Tracking run with wandb version 0.19.9"
      ],
      "text/plain": [
       "<IPython.core.display.HTML object>"
      ]
     },
     "metadata": {},
     "output_type": "display_data"
    },
    {
     "data": {
      "text/html": [
       "Run data is saved locally in <code>/home/paul.schmitt/verbatim-rag/exploration/Synthetic-Data/wandb/run-20250421_170732-ols6jaan</code>"
      ],
      "text/plain": [
       "<IPython.core.display.HTML object>"
      ]
     },
     "metadata": {},
     "output_type": "display_data"
    },
    {
     "data": {
      "text/html": [
       "Syncing run <strong><a href='https://wandb.ai/asap/Sythetic-Med/runs/ols6jaan' target=\"_blank\">BioMedBert-SyntheticV1-RunV1</a></strong> to <a href='https://wandb.ai/asap/Sythetic-Med' target=\"_blank\">Weights & Biases</a> (<a href='https://wandb.me/developer-guide' target=\"_blank\">docs</a>)<br>"
      ],
      "text/plain": [
       "<IPython.core.display.HTML object>"
      ]
     },
     "metadata": {},
     "output_type": "display_data"
    },
    {
     "data": {
      "text/html": [
       " View project at <a href='https://wandb.ai/asap/Sythetic-Med' target=\"_blank\">https://wandb.ai/asap/Sythetic-Med</a>"
      ],
      "text/plain": [
       "<IPython.core.display.HTML object>"
      ]
     },
     "metadata": {},
     "output_type": "display_data"
    },
    {
     "data": {
      "text/html": [
       " View run at <a href='https://wandb.ai/asap/Sythetic-Med/runs/ols6jaan' target=\"_blank\">https://wandb.ai/asap/Sythetic-Med/runs/ols6jaan</a>"
      ],
      "text/plain": [
       "<IPython.core.display.HTML object>"
      ]
     },
     "metadata": {},
     "output_type": "display_data"
    },
    {
     "data": {
      "text/html": [
       "<button onClick=\"this.nextSibling.style.display='block';this.style.display='none';\">Display W&B run</button><iframe src='https://wandb.ai/asap/Sythetic-Med/runs/ols6jaan?jupyter=true' style='border:none;width:100%;height:420px;display:none;'></iframe>"
      ],
      "text/plain": [
       "<wandb.sdk.wandb_run.Run at 0x150e539efca0>"
      ]
     },
     "execution_count": 132,
     "metadata": {},
     "output_type": "execute_result"
    }
   ],
   "source": [
    "wandb.init(\n",
    "    project=WANDB_PROJECT_NAME,\n",
    "    name=WANDB_RUN_NAME,\n",
    "    config=config,\n",
    "    id=run_id,\n",
    "    resume=\"allow\"               # resume if it exists, else start new\n",
    ")"
   ]
  },
  {
   "cell_type": "code",
   "execution_count": 133,
   "id": "1472721c-77ed-4848-a8ba-efb341b040fe",
   "metadata": {
    "tags": []
   },
   "outputs": [],
   "source": [
    "def compute_metrics(eval_pred):\n",
    "    logits, labels = eval_pred\n",
    "    predictions = logits.argmax(axis=-1)\n",
    "\n",
    "    return {\n",
    "        \"accuracy\": accuracy_score(labels, predictions),\n",
    "        \"f1\": f1_score(labels, predictions),\n",
    "        \"precision\": precision_score(labels, predictions),\n",
    "        \"recall\": recall_score(labels, predictions),\n",
    "    }"
   ]
  },
  {
   "cell_type": "code",
   "execution_count": 134,
   "id": "b16052e1-b1b8-4248-ade9-de70f6dc5e39",
   "metadata": {
    "tags": []
   },
   "outputs": [
    {
     "name": "stdout",
     "output_type": "stream",
     "text": [
      "4.51.3\n"
     ]
    }
   ],
   "source": [
    "import transformers\n",
    "print(transformers.__version__)"
   ]
  },
  {
   "cell_type": "code",
   "execution_count": 135,
   "id": "04a7ced5-dfe8-4774-828b-1b0ddb3a25e7",
   "metadata": {
    "tags": []
   },
   "outputs": [],
   "source": [
    "training_args = TrainingArguments(\n",
    "    output_dir=output_dir,                        # Where model checkpoints will be saved\n",
    "    run_name=WANDB_RUN_NAME,                      # Name for W&B tracking\n",
    "    learning_rate=LEARNING_RATE,                  # Base learning rate\n",
    "    per_device_train_batch_size=BATCH_SIZE,       # Training batch size\n",
    "    per_device_eval_batch_size=(2 * BATCH_SIZE),  # Larger eval batch size to speed up\n",
    "    num_train_epochs=NUM_EPOCHS,                  # Total training epochs\n",
    "    weight_decay=0.01,                            # L2 regularization\n",
    "    \n",
    "    # Evaluation and saving settings\n",
    "    eval_strategy=\"steps\",                        # Evaluate every N steps\n",
    "    eval_steps=100,                               # Eval frequency\n",
    "    save_strategy=\"steps\",                        # Save checkpoints every N steps\n",
    "    save_steps=500,\n",
    "    \n",
    "    # Logging\n",
    "    logging_dir=\"./logs\",                         # Log folder\n",
    "    logging_strategy=\"steps\",\n",
    "    logging_steps=250,\n",
    "    report_to=\"wandb\",                            # Log to Weights & Biases\n",
    "\n",
    "    # Smart checkpointing\n",
    "    load_best_model_at_end=True,                  # Load the best model after training\n",
    "    metric_for_best_model=\"f1\",                   # Focus on F1 (False positives and false negatives both matter)\n",
    "    greater_is_better=True,                       # Higher F1 is better\n",
    "\n",
    "    # Optimization tweaks\n",
    "    gradient_accumulation_steps=1,                # For effective batch size\n",
    "    label_smoothing_factor=0.0,                   # Helps generalization for classification\n",
    "    fp16=True,                                    # Mixed precision for faster training (if supported)\n",
    "    gradient_checkpointing=True,                  # Reduce memory usage during training\n",
    "    max_grad_norm=1.0                             # Clip gradients to avoid instability\n",
    ")"
   ]
  },
  {
   "cell_type": "code",
   "execution_count": 136,
   "id": "f1839dda-15a0-4326-aa8b-d6d1c6d18766",
   "metadata": {
    "tags": []
   },
   "outputs": [],
   "source": [
    "trainer = Trainer(\n",
    "    model=model,\n",
    "    args=training_args,\n",
    "    train_dataset=tokenized_dataset_train,\n",
    "    eval_dataset=tokenized_dataset_test,\n",
    "    compute_metrics=compute_metrics\n",
    "    #callbacks=[EarlyStoppingCallback(early_stopping_patience=4)] # Prevent overfitting by stopping when eval loss stops improving\n",
    ")"
   ]
  },
  {
   "cell_type": "markdown",
   "id": "7e61252d-62ef-4232-bb82-bf2be385fa94",
   "metadata": {},
   "source": [
    "**Make sure we are using the GPU**"
   ]
  },
  {
   "cell_type": "code",
   "execution_count": 137,
   "id": "e9abbf3a-e418-4864-8abf-92c5f30bc5dc",
   "metadata": {
    "tags": []
   },
   "outputs": [
    {
     "name": "stdout",
     "output_type": "stream",
     "text": [
      "GPU Available: True\n",
      "GPU Name: NVIDIA A100-SXM4-80GB\n"
     ]
    }
   ],
   "source": [
    "print(\"GPU Available:\", torch.cuda.is_available())  \n",
    "print(\"GPU Name:\", torch.cuda.get_device_name(0) if torch.cuda.is_available() else \"No GPU detected\")"
   ]
  },
  {
   "cell_type": "code",
   "execution_count": 138,
   "id": "e277cd4a-f444-446c-94ad-28653a8670d3",
   "metadata": {
    "tags": []
   },
   "outputs": [],
   "source": [
    "model.to(\"cuda\");"
   ]
  },
  {
   "cell_type": "code",
   "execution_count": 139,
   "id": "921d3e56-a422-4eb7-b0e4-a7988676a53f",
   "metadata": {
    "tags": []
   },
   "outputs": [
    {
     "data": {
      "text/html": [
       "\n",
       "    <div>\n",
       "      \n",
       "      <progress value='81' max='81' style='width:300px; height:20px; vertical-align: middle;'></progress>\n",
       "      [81/81 00:21, Epoch 3/3]\n",
       "    </div>\n",
       "    <table border=\"1\" class=\"dataframe\">\n",
       "  <thead>\n",
       " <tr style=\"text-align: left;\">\n",
       "      <th>Step</th>\n",
       "      <th>Training Loss</th>\n",
       "      <th>Validation Loss</th>\n",
       "    </tr>\n",
       "  </thead>\n",
       "  <tbody>\n",
       "  </tbody>\n",
       "</table><p>"
      ],
      "text/plain": [
       "<IPython.core.display.HTML object>"
      ]
     },
     "metadata": {},
     "output_type": "display_data"
    },
    {
     "data": {
      "text/plain": [
       "TrainOutput(global_step=81, training_loss=0.5878026043927228, metrics={'train_runtime': 21.4383, 'train_samples_per_second': 239.851, 'train_steps_per_second': 3.778, 'total_flos': 1352917046661120.0, 'train_loss': 0.5878026043927228, 'epoch': 3.0})"
      ]
     },
     "execution_count": 139,
     "metadata": {},
     "output_type": "execute_result"
    }
   ],
   "source": [
    "trainer.train()"
   ]
  },
  {
   "cell_type": "markdown",
   "id": "ca63f2cb-d598-4df2-801a-7a8312ac9b08",
   "metadata": {},
   "source": [
    "**Save the model (optional)**"
   ]
  },
  {
   "cell_type": "code",
   "execution_count": 140,
   "id": "104817ea-ac6a-420b-8b61-9b4686538962",
   "metadata": {
    "tags": []
   },
   "outputs": [
    {
     "data": {
      "text/plain": [
       "('../../models/tokenizer_config.json',\n",
       " '../../models/special_tokens_map.json',\n",
       " '../../models/vocab.txt',\n",
       " '../../models/added_tokens.json',\n",
       " '../../models/tokenizer.json')"
      ]
     },
     "execution_count": 140,
     "metadata": {},
     "output_type": "execute_result"
    }
   ],
   "source": [
    "model.save_pretrained(MODELS_DIR)\n",
    "tokenizer.save_pretrained(MODELS_DIR)"
   ]
  },
  {
   "cell_type": "markdown",
   "id": "71248ee9-99aa-4700-b182-73e5f8fb2ba1",
   "metadata": {},
   "source": [
    "# Evaluation"
   ]
  },
  {
   "cell_type": "markdown",
   "id": "ed30239e-2b05-4d06-8251-4c9a3371b255",
   "metadata": {
    "tags": []
   },
   "source": [
    "## Configurations"
   ]
  },
  {
   "cell_type": "code",
   "execution_count": 141,
   "id": "a3ccc1e2-bd6a-4aad-a2c7-020d365aa9b9",
   "metadata": {
    "tags": []
   },
   "outputs": [
    {
     "data": {
      "text/html": [],
      "text/plain": [
       "<IPython.core.display.HTML object>"
      ]
     },
     "metadata": {},
     "output_type": "display_data"
    },
    {
     "data": {
      "text/html": [
       "<br>    <style><br>        .wandb-row {<br>            display: flex;<br>            flex-direction: row;<br>            flex-wrap: wrap;<br>            justify-content: flex-start;<br>            width: 100%;<br>        }<br>        .wandb-col {<br>            display: flex;<br>            flex-direction: column;<br>            flex-basis: 100%;<br>            flex: 1;<br>            padding: 10px;<br>        }<br>    </style><br><div class=\"wandb-row\"><div class=\"wandb-col\"><h3>Run history:</h3><br/><table class=\"wandb\"><tr><td>train/epoch</td><td>▁</td></tr><tr><td>train/global_step</td><td>▁</td></tr></table><br/></div><div class=\"wandb-col\"><h3>Run summary:</h3><br/><table class=\"wandb\"><tr><td>total_flos</td><td>1352917046661120.0</td></tr><tr><td>train/epoch</td><td>3</td></tr><tr><td>train/global_step</td><td>81</td></tr><tr><td>train_loss</td><td>0.5878</td></tr><tr><td>train_runtime</td><td>21.4383</td></tr><tr><td>train_samples_per_second</td><td>239.851</td></tr><tr><td>train_steps_per_second</td><td>3.778</td></tr></table><br/></div></div>"
      ],
      "text/plain": [
       "<IPython.core.display.HTML object>"
      ]
     },
     "metadata": {},
     "output_type": "display_data"
    },
    {
     "data": {
      "text/html": [
       " View run <strong style=\"color:#cdcd00\">BioMedBert-SyntheticV1-RunV1</strong> at: <a href='https://wandb.ai/asap/Sythetic-Med/runs/ols6jaan' target=\"_blank\">https://wandb.ai/asap/Sythetic-Med/runs/ols6jaan</a><br> View project at: <a href='https://wandb.ai/asap/Sythetic-Med' target=\"_blank\">https://wandb.ai/asap/Sythetic-Med</a><br>Synced 5 W&B file(s), 0 media file(s), 0 artifact file(s) and 0 other file(s)"
      ],
      "text/plain": [
       "<IPython.core.display.HTML object>"
      ]
     },
     "metadata": {},
     "output_type": "display_data"
    },
    {
     "data": {
      "text/html": [
       "Find logs at: <code>./wandb/run-20250421_170732-ols6jaan/logs</code>"
      ],
      "text/plain": [
       "<IPython.core.display.HTML object>"
      ]
     },
     "metadata": {},
     "output_type": "display_data"
    },
    {
     "data": {
      "text/html": [
       "Tracking run with wandb version 0.19.9"
      ],
      "text/plain": [
       "<IPython.core.display.HTML object>"
      ]
     },
     "metadata": {},
     "output_type": "display_data"
    },
    {
     "data": {
      "text/html": [
       "Run data is saved locally in <code>/home/paul.schmitt/verbatim-rag/exploration/Synthetic-Data/wandb/run-20250421_170828-ols6jaan</code>"
      ],
      "text/plain": [
       "<IPython.core.display.HTML object>"
      ]
     },
     "metadata": {},
     "output_type": "display_data"
    },
    {
     "data": {
      "text/html": [
       "Resuming run <strong><a href='https://wandb.ai/asap/Sythetic-Med/runs/ols6jaan' target=\"_blank\">BioMedBert-SyntheticV1-RunV1</a></strong> to <a href='https://wandb.ai/asap/Sythetic-Med' target=\"_blank\">Weights & Biases</a> (<a href='https://wandb.me/developer-guide' target=\"_blank\">docs</a>)<br>"
      ],
      "text/plain": [
       "<IPython.core.display.HTML object>"
      ]
     },
     "metadata": {},
     "output_type": "display_data"
    },
    {
     "data": {
      "text/html": [
       " View project at <a href='https://wandb.ai/asap/Sythetic-Med' target=\"_blank\">https://wandb.ai/asap/Sythetic-Med</a>"
      ],
      "text/plain": [
       "<IPython.core.display.HTML object>"
      ]
     },
     "metadata": {},
     "output_type": "display_data"
    },
    {
     "data": {
      "text/html": [
       " View run at <a href='https://wandb.ai/asap/Sythetic-Med/runs/ols6jaan' target=\"_blank\">https://wandb.ai/asap/Sythetic-Med/runs/ols6jaan</a>"
      ],
      "text/plain": [
       "<IPython.core.display.HTML object>"
      ]
     },
     "metadata": {},
     "output_type": "display_data"
    }
   ],
   "source": [
    "run = wandb.init(\n",
    "    project=WANDB_PROJECT_NAME,\n",
    "    id=run_id,\n",
    "    resume=\"must\"  # must resume, or error if run doesn't exist\n",
    ")"
   ]
  },
  {
   "cell_type": "code",
   "execution_count": 142,
   "id": "ae3d051a-5608-4f69-92b1-e816a828f5cd",
   "metadata": {
    "tags": []
   },
   "outputs": [
    {
     "data": {
      "text/html": [],
      "text/plain": [
       "<IPython.core.display.HTML object>"
      ]
     },
     "metadata": {},
     "output_type": "display_data"
    }
   ],
   "source": [
    "results = trainer.evaluate()\n",
    "df_results = pd.DataFrame([results])"
   ]
  },
  {
   "cell_type": "code",
   "execution_count": 143,
   "id": "a431569e-8b02-4d88-8ff9-6e124cbcd88e",
   "metadata": {
    "tags": []
   },
   "outputs": [],
   "source": [
    "label_names = [\"Not Relevant\", \"Essential\"]"
   ]
  },
  {
   "cell_type": "code",
   "execution_count": 144,
   "id": "318bc131-c56f-422e-9f97-8179eabf0b74",
   "metadata": {
    "tags": []
   },
   "outputs": [
    {
     "data": {
      "text/html": [
       "<div>\n",
       "<style scoped>\n",
       "    .dataframe tbody tr th:only-of-type {\n",
       "        vertical-align: middle;\n",
       "    }\n",
       "\n",
       "    .dataframe tbody tr th {\n",
       "        vertical-align: top;\n",
       "    }\n",
       "\n",
       "    .dataframe thead th {\n",
       "        text-align: right;\n",
       "    }\n",
       "</style>\n",
       "<table border=\"1\" class=\"dataframe\">\n",
       "  <thead>\n",
       "    <tr style=\"text-align: right;\">\n",
       "      <th></th>\n",
       "      <th>eval_loss</th>\n",
       "      <th>eval_accuracy</th>\n",
       "      <th>eval_f1</th>\n",
       "      <th>eval_precision</th>\n",
       "      <th>eval_recall</th>\n",
       "      <th>eval_runtime</th>\n",
       "      <th>eval_samples_per_second</th>\n",
       "      <th>eval_steps_per_second</th>\n",
       "      <th>epoch</th>\n",
       "    </tr>\n",
       "  </thead>\n",
       "  <tbody>\n",
       "    <tr>\n",
       "      <th>0</th>\n",
       "      <td>0.702541</td>\n",
       "      <td>0.577103</td>\n",
       "      <td>0.382253</td>\n",
       "      <td>0.36129</td>\n",
       "      <td>0.405797</td>\n",
       "      <td>0.3993</td>\n",
       "      <td>1071.86</td>\n",
       "      <td>10.017</td>\n",
       "      <td>3.0</td>\n",
       "    </tr>\n",
       "  </tbody>\n",
       "</table>\n",
       "</div>"
      ],
      "text/plain": [
       "   eval_loss  eval_accuracy   eval_f1  eval_precision  eval_recall  \\\n",
       "0   0.702541       0.577103  0.382253         0.36129     0.405797   \n",
       "\n",
       "   eval_runtime  eval_samples_per_second  eval_steps_per_second  epoch  \n",
       "0        0.3993                  1071.86                 10.017    3.0  "
      ]
     },
     "execution_count": 144,
     "metadata": {},
     "output_type": "execute_result"
    }
   ],
   "source": [
    "df_results"
   ]
  },
  {
   "cell_type": "markdown",
   "id": "d9e62755-8146-4866-98cd-9983462e9411",
   "metadata": {},
   "source": [
    "## Classification Report"
   ]
  },
  {
   "cell_type": "code",
   "execution_count": 145,
   "id": "f43680c1-3216-401c-8b33-0fc6df11346d",
   "metadata": {
    "tags": []
   },
   "outputs": [
    {
     "data": {
      "text/html": [
       "<div>\n",
       "<style scoped>\n",
       "    .dataframe tbody tr th:only-of-type {\n",
       "        vertical-align: middle;\n",
       "    }\n",
       "\n",
       "    .dataframe tbody tr th {\n",
       "        vertical-align: top;\n",
       "    }\n",
       "\n",
       "    .dataframe thead th {\n",
       "        text-align: right;\n",
       "    }\n",
       "</style>\n",
       "<table border=\"1\" class=\"dataframe\">\n",
       "  <thead>\n",
       "    <tr style=\"text-align: right;\">\n",
       "      <th></th>\n",
       "      <th>precision</th>\n",
       "      <th>recall</th>\n",
       "      <th>f1-score</th>\n",
       "      <th>support</th>\n",
       "    </tr>\n",
       "  </thead>\n",
       "  <tbody>\n",
       "    <tr>\n",
       "      <th>0</th>\n",
       "      <td>0.699634</td>\n",
       "      <td>0.658621</td>\n",
       "      <td>0.678508</td>\n",
       "      <td>290.000000</td>\n",
       "    </tr>\n",
       "    <tr>\n",
       "      <th>1</th>\n",
       "      <td>0.361290</td>\n",
       "      <td>0.405797</td>\n",
       "      <td>0.382253</td>\n",
       "      <td>138.000000</td>\n",
       "    </tr>\n",
       "    <tr>\n",
       "      <th>accuracy</th>\n",
       "      <td>0.577103</td>\n",
       "      <td>0.577103</td>\n",
       "      <td>0.577103</td>\n",
       "      <td>0.577103</td>\n",
       "    </tr>\n",
       "    <tr>\n",
       "      <th>macro avg</th>\n",
       "      <td>0.530462</td>\n",
       "      <td>0.532209</td>\n",
       "      <td>0.530380</td>\n",
       "      <td>428.000000</td>\n",
       "    </tr>\n",
       "    <tr>\n",
       "      <th>weighted avg</th>\n",
       "      <td>0.590542</td>\n",
       "      <td>0.577103</td>\n",
       "      <td>0.582986</td>\n",
       "      <td>428.000000</td>\n",
       "    </tr>\n",
       "  </tbody>\n",
       "</table>\n",
       "</div>"
      ],
      "text/plain": [
       "              precision    recall  f1-score     support\n",
       "0              0.699634  0.658621  0.678508  290.000000\n",
       "1              0.361290  0.405797  0.382253  138.000000\n",
       "accuracy       0.577103  0.577103  0.577103    0.577103\n",
       "macro avg      0.530462  0.532209  0.530380  428.000000\n",
       "weighted avg   0.590542  0.577103  0.582986  428.000000"
      ]
     },
     "metadata": {},
     "output_type": "display_data"
    }
   ],
   "source": [
    "predictions = trainer.predict(tokenized_dataset_test)\n",
    "preds = predictions.predictions.argmax(axis=-1)\n",
    "labels = predictions.label_ids\n",
    "report = pd.DataFrame(classification_report(labels, preds, output_dict=True)).transpose()\n",
    "display(report)"
   ]
  },
  {
   "cell_type": "markdown",
   "id": "87c2fca7-024a-44ae-9e89-6a0db9cb12c4",
   "metadata": {},
   "source": [
    "## Confusion Matrix"
   ]
  },
  {
   "cell_type": "code",
   "execution_count": 46,
   "id": "c5f64c41-8fc7-4dfb-8e2b-de054058f567",
   "metadata": {
    "tags": []
   },
   "outputs": [
    {
     "data": {
      "image/png": "[encoded data removed]",
      "text/plain": [
       "<Figure size 640x480 with 2 Axes>"
      ]
     },
     "metadata": {},
     "output_type": "display_data"
    }
   ],
   "source": [
    "cm = confusion_matrix(predictions.label_ids, preds)\n",
    "sns.heatmap(cm, annot=True, fmt='d')\n",
    "plt.xlabel('Predicted')\n",
    "plt.ylabel('True')\n",
    "plt.show()"
   ]
  },
  {
   "cell_type": "markdown",
   "id": "373ece8a-65cd-4881-b75e-d703fef68c64",
   "metadata": {},
   "source": [
    "## Persisting Results"
   ]
  },
  {
   "cell_type": "code",
   "execution_count": 47,
   "id": "3c7c6792-1f8d-4b16-89e4-e0b871def3be",
   "metadata": {
    "tags": []
   },
   "outputs": [],
   "source": [
    "eval_results_dir = f\"./results/{WANDB_RUN_NAME}\"\n",
    "os.makedirs(eval_results_dir, exist_ok=True)"
   ]
  },
  {
   "cell_type": "markdown",
   "id": "dac135b4-510c-4361-83e6-0e5c22fb7461",
   "metadata": {},
   "source": [
    "**Step-1: Locally**"
   ]
  },
  {
   "cell_type": "code",
   "execution_count": 48,
   "id": "9f9a1736-d46e-4c5e-90f9-15b1ef2aa758",
   "metadata": {
    "tags": []
   },
   "outputs": [],
   "source": [
    "report.to_csv(os.path.join(eval_results_dir, \"classification_report.csv\"))\n",
    "\n",
    "# Save Confusion Matrix \n",
    "plt.figure(figsize=(6, 6))\n",
    "sns.heatmap(cm, annot=True, fmt='d')\n",
    "plt.xlabel(\"Predicted\")\n",
    "plt.ylabel(\"True\")\n",
    "plt.title(\"Confusion Matrix\")\n",
    "plt.tight_layout()\n",
    "plt.savefig(os.path.join(eval_results_dir, \"confusion_matrix.png\"))\n",
    "plt.close()"
   ]
  },
  {
   "cell_type": "markdown",
   "id": "8759c253-e6a5-4329-8569-547b11a1e50b",
   "metadata": {},
   "source": [
    "**Step-2: Wandb**"
   ]
  },
  {
   "cell_type": "code",
   "execution_count": 49,
   "id": "68172d8c-3574-4afe-af7d-a924b233de72",
   "metadata": {
    "tags": []
   },
   "outputs": [],
   "source": [
    "metrics_to_log = {\n",
    "    \"eval/accuracy\": report.loc[\"accuracy\", \"f1-score\"],\n",
    "    \"eval/f1_weighted\": report.loc[\"weighted avg\", \"f1-score\"],\n",
    "    \"eval/f1_class_0\": report.loc[\"0\", \"f1-score\"],\n",
    "    \"eval/f1_class_1\": report.loc[\"1\", \"f1-score\"],\n",
    "    \"eval/recall_class_0\": report.loc[\"0\", \"recall\"],\n",
    "    \"eval/recall_class_1\": report.loc[\"1\", \"recall\"]\n",
    "}\n",
    "\n",
    "wandb.log(metrics_to_log)\n",
    "wandb.log({\n",
    "    \"confusion_matrix\": wandb.Image(os.path.join(eval_results_dir, \"confusion_matrix.png\"))\n",
    "})"
   ]
  },
  {
   "cell_type": "code",
   "execution_count": 50,
   "id": "f1e7cc0a-7099-408b-a540-1f85828f6d1c",
   "metadata": {
    "tags": []
   },
   "outputs": [
    {
     "data": {
      "text/html": [],
      "text/plain": [
       "<IPython.core.display.HTML object>"
      ]
     },
     "metadata": {},
     "output_type": "display_data"
    },
    {
     "data": {
      "text/html": [
       "<br>    <style><br>        .wandb-row {<br>            display: flex;<br>            flex-direction: row;<br>            flex-wrap: wrap;<br>            justify-content: flex-start;<br>            width: 100%;<br>        }<br>        .wandb-col {<br>            display: flex;<br>            flex-direction: column;<br>            flex-basis: 100%;<br>            flex: 1;<br>            padding: 10px;<br>        }<br>    </style><br><div class=\"wandb-row\"><div class=\"wandb-col\"><h3>Run history:</h3><br/><table class=\"wandb\"><tr><td>eval/accuracy</td><td>▁▁</td></tr><tr><td>eval/f1</td><td>▁</td></tr><tr><td>eval/f1_class_0</td><td>▁</td></tr><tr><td>eval/f1_class_1</td><td>▁</td></tr><tr><td>eval/f1_weighted</td><td>▁</td></tr><tr><td>eval/loss</td><td>▁</td></tr><tr><td>eval/precision</td><td>▁</td></tr><tr><td>eval/recall</td><td>▁</td></tr><tr><td>eval/recall_class_0</td><td>▁</td></tr><tr><td>eval/recall_class_1</td><td>▁</td></tr><tr><td>eval/runtime</td><td>▁</td></tr><tr><td>eval/samples_per_second</td><td>▁</td></tr><tr><td>eval/steps_per_second</td><td>▁</td></tr><tr><td>test/accuracy</td><td>▁</td></tr><tr><td>test/f1</td><td>▁</td></tr><tr><td>test/loss</td><td>▁</td></tr><tr><td>test/precision</td><td>▁</td></tr><tr><td>test/recall</td><td>▁</td></tr><tr><td>test/runtime</td><td>▁</td></tr><tr><td>test/samples_per_second</td><td>▁</td></tr><tr><td>test/steps_per_second</td><td>▁</td></tr><tr><td>train/epoch</td><td>▁</td></tr><tr><td>train/global_step</td><td>▁</td></tr></table><br/></div><div class=\"wandb-col\"><h3>Run summary:</h3><br/><table class=\"wandb\"><tr><td>eval/accuracy</td><td>0.64252</td></tr><tr><td>eval/f1</td><td>0.12571</td></tr><tr><td>eval/f1_class_0</td><td>0.77533</td></tr><tr><td>eval/f1_class_1</td><td>0.12571</td></tr><tr><td>eval/f1_weighted</td><td>0.56587</td></tr><tr><td>eval/loss</td><td>0.80364</td></tr><tr><td>eval/precision</td><td>0.2973</td></tr><tr><td>eval/recall</td><td>0.07971</td></tr><tr><td>eval/recall_class_0</td><td>0.91034</td></tr><tr><td>eval/recall_class_1</td><td>0.07971</td></tr><tr><td>eval/runtime</td><td>0.3985</td></tr><tr><td>eval/samples_per_second</td><td>1074.005</td></tr><tr><td>eval/steps_per_second</td><td>10.037</td></tr><tr><td>test/accuracy</td><td>0.64252</td></tr><tr><td>test/f1</td><td>0.12571</td></tr><tr><td>test/loss</td><td>0.80364</td></tr><tr><td>test/precision</td><td>0.2973</td></tr><tr><td>test/recall</td><td>0.07971</td></tr><tr><td>test/runtime</td><td>0.3854</td></tr><tr><td>test/samples_per_second</td><td>1110.563</td></tr><tr><td>test/steps_per_second</td><td>10.379</td></tr><tr><td>total_flos</td><td>3280468638228480</td></tr><tr><td>train/epoch</td><td>3</td></tr><tr><td>train/global_step</td><td>195</td></tr><tr><td>train_loss</td><td>0.42458</td></tr><tr><td>train_runtime</td><td>50.3861</td></tr><tr><td>train_samples_per_second</td><td>247.449</td></tr><tr><td>train_steps_per_second</td><td>3.87</td></tr></table><br/></div></div>"
      ],
      "text/plain": [
       "<IPython.core.display.HTML object>"
      ]
     },
     "metadata": {},
     "output_type": "display_data"
    },
    {
     "data": {
      "text/html": [
       " View run <strong style=\"color:#cdcd00\">BioMedBert-SyntheticV1-RunV1</strong> at: <a href='https://wandb.ai/asap/Sythetic-Med/runs/7vag1kq7' target=\"_blank\">https://wandb.ai/asap/Sythetic-Med/runs/7vag1kq7</a><br> View project at: <a href='https://wandb.ai/asap/Sythetic-Med' target=\"_blank\">https://wandb.ai/asap/Sythetic-Med</a><br>Synced 5 W&B file(s), 1 media file(s), 0 artifact file(s) and 0 other file(s)"
      ],
      "text/plain": [
       "<IPython.core.display.HTML object>"
      ]
     },
     "metadata": {},
     "output_type": "display_data"
    },
    {
     "data": {
      "text/html": [
       "Find logs at: <code>./wandb/run-20250421_155320-7vag1kq7/logs</code>"
      ],
      "text/plain": [
       "<IPython.core.display.HTML object>"
      ]
     },
     "metadata": {},
     "output_type": "display_data"
    }
   ],
   "source": [
    "wandb.finish()"
   ]
  },
  {
   "cell_type": "code",
   "execution_count": null,
   "id": "a3151034-e923-4118-9490-2adda8263542",
   "metadata": {},
   "outputs": [],
   "source": []
  }
 ],
 "metadata": {
  "kernelspec": {
   "display_name": "Python 3 (ipykernel)",
   "language": "python",
   "name": "python3"
  },
  "language_info": {
   "codemirror_mode": {
    "name": "ipython",
    "version": 3
   },
   "file_extension": ".py",
   "mimetype": "text/x-python",
   "name": "python",
   "nbconvert_exporter": "python",
   "pygments_lexer": "ipython3",
   "version": "3.10.14"
  }
 },
 "nbformat": 4,
 "nbformat_minor": 5
}
