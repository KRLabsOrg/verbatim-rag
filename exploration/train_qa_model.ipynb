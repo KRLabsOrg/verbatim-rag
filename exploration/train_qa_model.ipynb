{
 "cells": [
  {
   "cell_type": "code",
   "execution_count": 1,
   "metadata": {
    "collapsed": true
   },
   "outputs": [],
   "source": [
    "%load_ext autoreload"
   ]
  },
  {
   "cell_type": "code",
   "execution_count": 1,
   "outputs": [],
   "source": [
    "import nltk\n",
    "import pandas as pd\n",
    "import seaborn as sns\n",
    "from pathlib import Path\n",
    "import matplotlib.pyplot as plt\n",
    "\n",
    "import sys\n",
    "sys.path.append('../../')"
   ],
   "metadata": {
    "collapsed": false
   }
  },
  {
   "cell_type": "code",
   "execution_count": 2,
   "outputs": [],
   "source": [
    "DATA_DIR = Path(\"../data/dev\")\n",
    "input_dir = DATA_DIR / \"processed\"\n",
    "file_name = \"medical_data.csv\""
   ],
   "metadata": {
    "collapsed": false
   }
  },
  {
   "cell_type": "code",
   "execution_count": 3,
   "outputs": [],
   "source": [
    "data =  pd.read_csv(input_dir / file_name)"
   ],
   "metadata": {
    "collapsed": false
   }
  },
  {
   "cell_type": "code",
   "execution_count": 4,
   "outputs": [
    {
     "data": {
      "text/plain": "   case_id                                  patient_narrative  \\\n0        1  i had severe abdomen pain and was hospitalised...   \n1        1  i had severe abdomen pain and was hospitalised...   \n2        1  i had severe abdomen pain and was hospitalised...   \n3        1  i had severe abdomen pain and was hospitalised...   \n4        1  i had severe abdomen pain and was hospitalised...   \n\n                                    patient_question  \\\n0  my question is if the sludge was there does no...   \n1  my question is if the sludge was there does no...   \n2  my question is if the sludge was there does no...   \n3  my question is if the sludge was there does no...   \n4  my question is if the sludge was there does no...   \n\n                                  clinician_question  \\\n0  why was ercp recommended to him over continuin...   \n1  why was ercp recommended to him over continuin...   \n2  why was ercp recommended to him over continuin...   \n3  why was ercp recommended to him over continuin...   \n4  why was ercp recommended to him over continuin...   \n\n                                        note_excerpt  sentence_id  \\\n0  brief hospital course during the ercp a pancre...            0   \n1  brief hospital course during the ercp a pancre...            1   \n2  brief hospital course during the ercp a pancre...            2   \n3  brief hospital course during the ercp a pancre...            3   \n4  brief hospital course during the ercp a pancre...            4   \n\n                                       sentence_text  paragraph_id  \\\n0                              brief hospital course             0   \n1  during the ercp a pancreatic stent was require...             1   \n2  however due to the patients elevated inr no sp...             1   \n3  frank pus was noted to be draining from the co...             1   \n4                    the vancomycin was discontinued             1   \n\n   start_char_index  length     relevance   document_id document_source  \n0                 0      22  not-relevant  179164_41762       mimic-iii  \n1                 0     243     essential  179164_41762       mimic-iii  \n2               244      93  not-relevant  179164_41762       mimic-iii  \n3               338     151  not-relevant  179164_41762       mimic-iii  \n4               490      32  not-relevant  179164_41762       mimic-iii  ",
      "text/html": "<div>\n<style scoped>\n    .dataframe tbody tr th:only-of-type {\n        vertical-align: middle;\n    }\n\n    .dataframe tbody tr th {\n        vertical-align: top;\n    }\n\n    .dataframe thead th {\n        text-align: right;\n    }\n</style>\n<table border=\"1\" class=\"dataframe\">\n  <thead>\n    <tr style=\"text-align: right;\">\n      <th></th>\n      <th>case_id</th>\n      <th>patient_narrative</th>\n      <th>patient_question</th>\n      <th>clinician_question</th>\n      <th>note_excerpt</th>\n      <th>sentence_id</th>\n      <th>sentence_text</th>\n      <th>paragraph_id</th>\n      <th>start_char_index</th>\n      <th>length</th>\n      <th>relevance</th>\n      <th>document_id</th>\n      <th>document_source</th>\n    </tr>\n  </thead>\n  <tbody>\n    <tr>\n      <th>0</th>\n      <td>1</td>\n      <td>i had severe abdomen pain and was hospitalised...</td>\n      <td>my question is if the sludge was there does no...</td>\n      <td>why was ercp recommended to him over continuin...</td>\n      <td>brief hospital course during the ercp a pancre...</td>\n      <td>0</td>\n      <td>brief hospital course</td>\n      <td>0</td>\n      <td>0</td>\n      <td>22</td>\n      <td>not-relevant</td>\n      <td>179164_41762</td>\n      <td>mimic-iii</td>\n    </tr>\n    <tr>\n      <th>1</th>\n      <td>1</td>\n      <td>i had severe abdomen pain and was hospitalised...</td>\n      <td>my question is if the sludge was there does no...</td>\n      <td>why was ercp recommended to him over continuin...</td>\n      <td>brief hospital course during the ercp a pancre...</td>\n      <td>1</td>\n      <td>during the ercp a pancreatic stent was require...</td>\n      <td>1</td>\n      <td>0</td>\n      <td>243</td>\n      <td>essential</td>\n      <td>179164_41762</td>\n      <td>mimic-iii</td>\n    </tr>\n    <tr>\n      <th>2</th>\n      <td>1</td>\n      <td>i had severe abdomen pain and was hospitalised...</td>\n      <td>my question is if the sludge was there does no...</td>\n      <td>why was ercp recommended to him over continuin...</td>\n      <td>brief hospital course during the ercp a pancre...</td>\n      <td>2</td>\n      <td>however due to the patients elevated inr no sp...</td>\n      <td>1</td>\n      <td>244</td>\n      <td>93</td>\n      <td>not-relevant</td>\n      <td>179164_41762</td>\n      <td>mimic-iii</td>\n    </tr>\n    <tr>\n      <th>3</th>\n      <td>1</td>\n      <td>i had severe abdomen pain and was hospitalised...</td>\n      <td>my question is if the sludge was there does no...</td>\n      <td>why was ercp recommended to him over continuin...</td>\n      <td>brief hospital course during the ercp a pancre...</td>\n      <td>3</td>\n      <td>frank pus was noted to be draining from the co...</td>\n      <td>1</td>\n      <td>338</td>\n      <td>151</td>\n      <td>not-relevant</td>\n      <td>179164_41762</td>\n      <td>mimic-iii</td>\n    </tr>\n    <tr>\n      <th>4</th>\n      <td>1</td>\n      <td>i had severe abdomen pain and was hospitalised...</td>\n      <td>my question is if the sludge was there does no...</td>\n      <td>why was ercp recommended to him over continuin...</td>\n      <td>brief hospital course during the ercp a pancre...</td>\n      <td>4</td>\n      <td>the vancomycin was discontinued</td>\n      <td>1</td>\n      <td>490</td>\n      <td>32</td>\n      <td>not-relevant</td>\n      <td>179164_41762</td>\n      <td>mimic-iii</td>\n    </tr>\n  </tbody>\n</table>\n</div>"
     },
     "execution_count": 4,
     "metadata": {},
     "output_type": "execute_result"
    }
   ],
   "source": [
    "data.head()"
   ],
   "metadata": {
    "collapsed": false
   }
  },
  {
   "cell_type": "markdown",
   "source": [
    "# QA Model"
   ],
   "metadata": {
    "collapsed": false
   }
  },
  {
   "cell_type": "markdown",
   "source": [
    "**Conceptual Overview: What Are We Trying to Do?**\n",
    "\n",
    "We are building a sentence-level relevance classifier to support medical question answering (QA) without using an LLM. Instead, we rely on traditional machine learning methods to mark relevant sentences in a clinical document."
   ],
   "metadata": {
    "collapsed": false
   }
  },
  {
   "cell_type": "markdown",
   "source": [
    "**Problem Definition**\n",
    "\n",
    "**Input:**\n",
    "A medical question (e.g., from a patient or clinician).\n",
    "A clinical document (context) (e.g., medical notes, discharge summaries).\n",
    "Each document contains multiple sentences, some of which are relevant to the question.\n",
    "\n",
    "**Goal:**\n",
    "Identify and highlight sentences in the document that contain relevant information.\n",
    "This helps in extracting meaningful answers from medical records.\n",
    "\n",
    "**Expected Output:**\n",
    "The same document, but with relevant sentences marked.\n"
   ],
   "metadata": {
    "collapsed": false
   }
  },
  {
   "cell_type": "markdown",
   "source": [
    "## Convert Context into Structured Data"
   ],
   "metadata": {
    "collapsed": false
   }
  },
  {
   "cell_type": "markdown",
   "source": [
    "- We split the clinical document into sentences.\n",
    "- Each (question, sentence) pair is labeled as:\n",
    "    - \"essential\" (1) → If the sentence contains relevant information.\n",
    "    - \"not-relevant\" (0) → If the sentence is irrelevant."
   ],
   "metadata": {
    "collapsed": false
   }
  },
  {
   "cell_type": "code",
   "execution_count": 5,
   "outputs": [
    {
     "name": "stderr",
     "output_type": "stream",
     "text": [
      "[nltk_data] Downloading package punkt to\n",
      "[nltk_data]     /Users/paulschmitt/nltk_data...\n",
      "[nltk_data]   Package punkt is already up-to-date!\n"
     ]
    },
    {
     "data": {
      "text/plain": "True"
     },
     "execution_count": 5,
     "metadata": {},
     "output_type": "execute_result"
    }
   ],
   "source": [
    "nltk.download(\"punkt\")"
   ],
   "metadata": {
    "collapsed": false
   }
  },
  {
   "cell_type": "code",
   "execution_count": 6,
   "outputs": [
    {
     "data": {
      "text/plain": "Index(['case_id', 'patient_narrative', 'patient_question',\n       'clinician_question', 'note_excerpt', 'sentence_id', 'sentence_text',\n       'paragraph_id', 'start_char_index', 'length', 'relevance',\n       'document_id', 'document_source'],\n      dtype='object')"
     },
     "execution_count": 6,
     "metadata": {},
     "output_type": "execute_result"
    }
   ],
   "source": [
    "data.columns"
   ],
   "metadata": {
    "collapsed": false
   }
  },
  {
   "cell_type": "code",
   "execution_count": 7,
   "outputs": [
    {
     "data": {
      "text/plain": "   case_id                                  patient_narrative  \\\n0        1  i had severe abdomen pain and was hospitalised...   \n1        1  i had severe abdomen pain and was hospitalised...   \n2        1  i had severe abdomen pain and was hospitalised...   \n3        1  i had severe abdomen pain and was hospitalised...   \n4        1  i had severe abdomen pain and was hospitalised...   \n\n                                    patient_question  \\\n0  my question is if the sludge was there does no...   \n1  my question is if the sludge was there does no...   \n2  my question is if the sludge was there does no...   \n3  my question is if the sludge was there does no...   \n4  my question is if the sludge was there does no...   \n\n                                  clinician_question  \\\n0  why was ercp recommended to him over continuin...   \n1  why was ercp recommended to him over continuin...   \n2  why was ercp recommended to him over continuin...   \n3  why was ercp recommended to him over continuin...   \n4  why was ercp recommended to him over continuin...   \n\n                                        note_excerpt  sentence_id  \\\n0  brief hospital course during the ercp a pancre...            0   \n1  brief hospital course during the ercp a pancre...            1   \n2  brief hospital course during the ercp a pancre...            2   \n3  brief hospital course during the ercp a pancre...            3   \n4  brief hospital course during the ercp a pancre...            4   \n\n                                       sentence_text  paragraph_id  \\\n0                              brief hospital course             0   \n1  during the ercp a pancreatic stent was require...             1   \n2  however due to the patients elevated inr no sp...             1   \n3  frank pus was noted to be draining from the co...             1   \n4                    the vancomycin was discontinued             1   \n\n   start_char_index  length     relevance   document_id document_source  \n0                 0      22  not-relevant  179164_41762       mimic-iii  \n1                 0     243     essential  179164_41762       mimic-iii  \n2               244      93  not-relevant  179164_41762       mimic-iii  \n3               338     151  not-relevant  179164_41762       mimic-iii  \n4               490      32  not-relevant  179164_41762       mimic-iii  ",
      "text/html": "<div>\n<style scoped>\n    .dataframe tbody tr th:only-of-type {\n        vertical-align: middle;\n    }\n\n    .dataframe tbody tr th {\n        vertical-align: top;\n    }\n\n    .dataframe thead th {\n        text-align: right;\n    }\n</style>\n<table border=\"1\" class=\"dataframe\">\n  <thead>\n    <tr style=\"text-align: right;\">\n      <th></th>\n      <th>case_id</th>\n      <th>patient_narrative</th>\n      <th>patient_question</th>\n      <th>clinician_question</th>\n      <th>note_excerpt</th>\n      <th>sentence_id</th>\n      <th>sentence_text</th>\n      <th>paragraph_id</th>\n      <th>start_char_index</th>\n      <th>length</th>\n      <th>relevance</th>\n      <th>document_id</th>\n      <th>document_source</th>\n    </tr>\n  </thead>\n  <tbody>\n    <tr>\n      <th>0</th>\n      <td>1</td>\n      <td>i had severe abdomen pain and was hospitalised...</td>\n      <td>my question is if the sludge was there does no...</td>\n      <td>why was ercp recommended to him over continuin...</td>\n      <td>brief hospital course during the ercp a pancre...</td>\n      <td>0</td>\n      <td>brief hospital course</td>\n      <td>0</td>\n      <td>0</td>\n      <td>22</td>\n      <td>not-relevant</td>\n      <td>179164_41762</td>\n      <td>mimic-iii</td>\n    </tr>\n    <tr>\n      <th>1</th>\n      <td>1</td>\n      <td>i had severe abdomen pain and was hospitalised...</td>\n      <td>my question is if the sludge was there does no...</td>\n      <td>why was ercp recommended to him over continuin...</td>\n      <td>brief hospital course during the ercp a pancre...</td>\n      <td>1</td>\n      <td>during the ercp a pancreatic stent was require...</td>\n      <td>1</td>\n      <td>0</td>\n      <td>243</td>\n      <td>essential</td>\n      <td>179164_41762</td>\n      <td>mimic-iii</td>\n    </tr>\n    <tr>\n      <th>2</th>\n      <td>1</td>\n      <td>i had severe abdomen pain and was hospitalised...</td>\n      <td>my question is if the sludge was there does no...</td>\n      <td>why was ercp recommended to him over continuin...</td>\n      <td>brief hospital course during the ercp a pancre...</td>\n      <td>2</td>\n      <td>however due to the patients elevated inr no sp...</td>\n      <td>1</td>\n      <td>244</td>\n      <td>93</td>\n      <td>not-relevant</td>\n      <td>179164_41762</td>\n      <td>mimic-iii</td>\n    </tr>\n    <tr>\n      <th>3</th>\n      <td>1</td>\n      <td>i had severe abdomen pain and was hospitalised...</td>\n      <td>my question is if the sludge was there does no...</td>\n      <td>why was ercp recommended to him over continuin...</td>\n      <td>brief hospital course during the ercp a pancre...</td>\n      <td>3</td>\n      <td>frank pus was noted to be draining from the co...</td>\n      <td>1</td>\n      <td>338</td>\n      <td>151</td>\n      <td>not-relevant</td>\n      <td>179164_41762</td>\n      <td>mimic-iii</td>\n    </tr>\n    <tr>\n      <th>4</th>\n      <td>1</td>\n      <td>i had severe abdomen pain and was hospitalised...</td>\n      <td>my question is if the sludge was there does no...</td>\n      <td>why was ercp recommended to him over continuin...</td>\n      <td>brief hospital course during the ercp a pancre...</td>\n      <td>4</td>\n      <td>the vancomycin was discontinued</td>\n      <td>1</td>\n      <td>490</td>\n      <td>32</td>\n      <td>not-relevant</td>\n      <td>179164_41762</td>\n      <td>mimic-iii</td>\n    </tr>\n  </tbody>\n</table>\n</div>"
     },
     "execution_count": 7,
     "metadata": {},
     "output_type": "execute_result"
    }
   ],
   "source": [
    "data.head()"
   ],
   "metadata": {
    "collapsed": false
   }
  },
  {
   "cell_type": "code",
   "execution_count": 8,
   "outputs": [],
   "source": [
    "from nltk import sent_tokenize\n",
    "\n",
    "def create_sentence_pairs(df):\n",
    "    data = []\n",
    "    for _, row in df.iterrows():\n",
    "        question = row[\"patient_question\"]  # Use \"clinician_question\" if needed\n",
    "        sentences = sent_tokenize(row[\"note_excerpt\"])  # Split context into sentences\n",
    "\n",
    "        for sentence in sentences:\n",
    "            # Check if the sentence is marked as relevant\n",
    "            label = 1 if sentence in row[\"sentence_text\"] else 0\n",
    "            data.append([question, sentence, label])\n",
    "\n",
    "    return pd.DataFrame(data, columns=[\"question\", \"sentence\", \"label\"])"
   ],
   "metadata": {
    "collapsed": false
   }
  },
  {
   "cell_type": "code",
   "execution_count": 9,
   "outputs": [],
   "source": [
    "observation = data.iloc[0]"
   ],
   "metadata": {
    "collapsed": false
   }
  },
  {
   "cell_type": "code",
   "execution_count": 10,
   "outputs": [
    {
     "data": {
      "text/plain": "case_id                                                               1\npatient_narrative     i had severe abdomen pain and was hospitalised...\npatient_question      my question is if the sludge was there does no...\nclinician_question    why was ercp recommended to him over continuin...\nnote_excerpt          brief hospital course during the ercp a pancre...\nsentence_id                                                           0\nsentence_text                                     brief hospital course\nparagraph_id                                                          0\nstart_char_index                                                      0\nlength                                                               22\nrelevance                                                  not-relevant\ndocument_id                                                179164_41762\ndocument_source                                               mimic-iii\nName: 0, dtype: object"
     },
     "execution_count": 10,
     "metadata": {},
     "output_type": "execute_result"
    }
   ],
   "source": [
    "observation"
   ],
   "metadata": {
    "collapsed": false
   }
  },
  {
   "cell_type": "code",
   "execution_count": 11,
   "outputs": [
    {
     "data": {
      "text/plain": "'my question is if the sludge was there does not the medication help in flushing it out whether ercp was the only cure'"
     },
     "execution_count": 11,
     "metadata": {},
     "output_type": "execute_result"
    }
   ],
   "source": [
    "observation.patient_question"
   ],
   "metadata": {
    "collapsed": false
   }
  },
  {
   "cell_type": "code",
   "execution_count": 12,
   "outputs": [
    {
     "data": {
      "text/plain": "'brief hospital course'"
     },
     "execution_count": 12,
     "metadata": {},
     "output_type": "execute_result"
    }
   ],
   "source": [
    "observation.sentence_text"
   ],
   "metadata": {
    "collapsed": false
   }
  },
  {
   "cell_type": "code",
   "execution_count": 13,
   "outputs": [
    {
     "data": {
      "text/plain": "'not-relevant'"
     },
     "execution_count": 13,
     "metadata": {},
     "output_type": "execute_result"
    }
   ],
   "source": [
    "observation.relevance"
   ],
   "metadata": {
    "collapsed": false
   }
  },
  {
   "cell_type": "code",
   "execution_count": 14,
   "outputs": [
    {
     "data": {
      "text/plain": "relevance\nnot-relevant     239\nessential        138\nsupplementary     51\nName: count, dtype: int64"
     },
     "execution_count": 14,
     "metadata": {},
     "output_type": "execute_result"
    }
   ],
   "source": [
    "data[\"relevance\"].value_counts()"
   ],
   "metadata": {
    "collapsed": false
   }
  },
  {
   "cell_type": "markdown",
   "source": [
    "We first encode the relevance labels in binary form to keep it simple for now"
   ],
   "metadata": {
    "collapsed": false
   }
  },
  {
   "cell_type": "code",
   "execution_count": 15,
   "outputs": [],
   "source": [
    "data[\"relevance\"] = data[\"relevance\"].map({\n",
    "    \"not-relevant\": 0,\n",
    "    \"essential\": 1,\n",
    "    \"supplementary\": 1  # Treat supplementary as relevant\n",
    "})"
   ],
   "metadata": {
    "collapsed": false
   }
  },
  {
   "cell_type": "code",
   "execution_count": 16,
   "outputs": [
    {
     "data": {
      "text/plain": "<Figure size 640x480 with 1 Axes>",
      "image/png": "[encoded data removed]"
     },
     "metadata": {},
     "output_type": "display_data"
    }
   ],
   "source": [
    "# Count class occurrences\n",
    "class_counts = data[\"relevance\"].value_counts()\n",
    "\n",
    "# Example of plotting with seaborn\n",
    "sns.barplot(x=[0, 1], y=class_counts)  # Replace with actual data\n",
    "plt.xticks(ticks=[0, 1], labels=[\"Not Relevant\", \"Relevant\"])  # Update labels\n",
    "plt.xlabel(\"Relevance Class\")\n",
    "plt.ylabel(\"Count\")\n",
    "plt.title(\"Class Distribution of Relevance Labels\")\n",
    "\n",
    "plt.show()"
   ],
   "metadata": {
    "collapsed": false
   }
  },
  {
   "cell_type": "markdown",
   "source": [
    "# Prepare Data for Training"
   ],
   "metadata": {
    "collapsed": false
   }
  },
  {
   "cell_type": "markdown",
   "source": [
    "Split the dataset"
   ],
   "metadata": {
    "collapsed": false
   }
  },
  {
   "cell_type": "code",
   "execution_count": 17,
   "outputs": [],
   "source": [
    "from sklearn.model_selection import train_test_split"
   ],
   "metadata": {
    "collapsed": false
   }
  },
  {
   "cell_type": "code",
   "execution_count": 18,
   "outputs": [],
   "source": [
    "X_train, X_test, y_train, y_test = train_test_split(\n",
    "    data[[\"patient_question\", \"sentence_text\"]], data[\"relevance\"], test_size=0.2, random_state=1050\n",
    ")"
   ],
   "metadata": {
    "collapsed": false
   }
  },
  {
   "cell_type": "markdown",
   "source": [
    "**Convert Text into Features:**\n",
    "\n",
    "We use pretrained BERT-based models to generate dense vector embeddings for:\n",
    "- The question (question column).\n",
    "- The sentence (sentence_text column).\n",
    "\n",
    "Then, we concatenate the embeddings and feed them into a classifier.\n"
   ],
   "metadata": {
    "collapsed": false
   }
  },
  {
   "cell_type": "code",
   "execution_count": 19,
   "outputs": [],
   "source": [
    "from sentence_transformers import SentenceTransformer\n",
    "import numpy as np"
   ],
   "metadata": {
    "collapsed": false
   }
  },
  {
   "cell_type": "markdown",
   "source": [
    "Generate Sentence Embeddings with BERT"
   ],
   "metadata": {
    "collapsed": false
   }
  },
  {
   "cell_type": "code",
   "execution_count": 24,
   "outputs": [
    {
     "name": "stdout",
     "output_type": "stream",
     "text": [
      "BERT embeddings shape: (342, 768)\n"
     ]
    }
   ],
   "source": [
    "# Load a pretrained SBERT model (optimized for sentence embeddings)\n",
    "bert_model = SentenceTransformer(\"all-MiniLM-L6-v2\")  # Small & fast, but effective\n",
    "\n",
    "# Function to generate embeddings for (question, sentence) pairs\n",
    "def encode_text_pairs(df):\n",
    "    questions = df[\"patient_question\"].tolist()\n",
    "    sentences = df[\"sentence_text\"].tolist()\n",
    "\n",
    "    # Encode question and sentence separately\n",
    "    question_embeddings = bert_model.encode(questions, convert_to_numpy=True)\n",
    "    sentence_embeddings = bert_model.encode(sentences, convert_to_numpy=True)\n",
    "\n",
    "    # Concatenate both embeddings (shape: [num_samples, embedding_size * 2])\n",
    "    return np.hstack((question_embeddings, sentence_embeddings))\n",
    "\n",
    "# Convert text to BERT embeddings\n",
    "X_train_bert = encode_text_pairs(X_train)\n",
    "X_test_bert = encode_text_pairs(X_test)\n",
    "\n",
    "# Verify shape\n",
    "print(\"BERT embeddings shape:\", X_train_bert.shape)"
   ],
   "metadata": {
    "collapsed": false
   }
  },
  {
   "cell_type": "markdown",
   "source": [
    "Train a Classifier Using BERT Embeddings"
   ],
   "metadata": {
    "collapsed": false
   }
  },
  {
   "cell_type": "code",
   "execution_count": 25,
   "outputs": [
    {
     "name": "stdout",
     "output_type": "stream",
     "text": [
      "Accuracy with BERT embeddings: 0.6046511627906976\n",
      "              precision    recall  f1-score   support\n",
      "\n",
      "           0       0.56      0.80      0.66        41\n",
      "           1       0.70      0.42      0.53        45\n",
      "\n",
      "    accuracy                           0.60        86\n",
      "   macro avg       0.63      0.61      0.59        86\n",
      "weighted avg       0.63      0.60      0.59        86\n",
      "\n"
     ]
    }
   ],
   "source": [
    "from sklearn.linear_model import LogisticRegression\n",
    "from sklearn.metrics import accuracy_score, classification_report\n",
    "\n",
    "# Train Logistic Regression\n",
    "clf_bert = LogisticRegression(max_iter=500)\n",
    "clf_bert.fit(X_train_bert, y_train)\n",
    "\n",
    "# Predict on test data\n",
    "y_pred_bert = clf_bert.predict(X_test_bert)\n",
    "\n",
    "# Evaluate performance\n",
    "print(\"Accuracy with BERT embeddings:\", accuracy_score(y_test, y_pred_bert))\n",
    "print(classification_report(y_test, y_pred_bert))"
   ],
   "metadata": {
    "collapsed": false
   }
  },
  {
   "cell_type": "code",
   "execution_count": 26,
   "outputs": [
    {
     "name": "stdout",
     "output_type": "stream",
     "text": [
      "relevance\n",
      "0    0.578947\n",
      "1    0.421053\n",
      "Name: proportion, dtype: float64\n",
      "relevance\n",
      "1    0.523256\n",
      "0    0.476744\n",
      "Name: proportion, dtype: float64\n"
     ]
    }
   ],
   "source": [
    "print(y_train.value_counts(normalize=True))\n",
    "print(y_test.value_counts(normalize=True))"
   ],
   "metadata": {
    "collapsed": false
   }
  },
  {
   "cell_type": "code",
   "execution_count": 27,
   "outputs": [
    {
     "data": {
      "text/plain": "<Figure size 640x480 with 2 Axes>",
      "image/png": "[encoded data removed]"
     },
     "metadata": {},
     "output_type": "display_data"
    }
   ],
   "source": [
    "from sklearn.metrics import confusion_matrix\n",
    "import seaborn as sns\n",
    "import matplotlib.pyplot as plt\n",
    "\n",
    "cm = confusion_matrix(y_test, y_pred_bert)\n",
    "sns.heatmap(cm, annot=True, fmt=\"d\", cmap=\"Blues\", xticklabels=[0, 1], yticklabels=[0, 1])\n",
    "plt.xlabel(\"Predicted\")\n",
    "plt.ylabel(\"Actual\")\n",
    "plt.show()"
   ],
   "metadata": {
    "collapsed": false
   }
  },
  {
   "cell_type": "code",
   "execution_count": null,
   "outputs": [],
   "source": [],
   "metadata": {
    "collapsed": false
   }
  }
 ],
 "metadata": {
  "kernelspec": {
   "display_name": "Python 3",
   "language": "python",
   "name": "python3"
  },
  "language_info": {
   "codemirror_mode": {
    "name": "ipython",
    "version": 2
   },
   "file_extension": ".py",
   "mimetype": "text/x-python",
   "name": "python",
   "nbconvert_exporter": "python",
   "pygments_lexer": "ipython2",
   "version": "2.7.6"
  }
 },
 "nbformat": 4,
 "nbformat_minor": 0
}
