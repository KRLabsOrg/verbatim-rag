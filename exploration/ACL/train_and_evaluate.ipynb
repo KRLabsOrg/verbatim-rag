{
 "cells": [
  {
   "cell_type": "code",
   "execution_count": 86,
   "id": "c3a6d427-a6d1-490f-8018-dde828c4e790",
   "metadata": {
    "tags": []
   },
   "outputs": [
    {
     "name": "stdout",
     "output_type": "stream",
     "text": [
      "The autoreload extension is already loaded. To reload it, use:\n",
      "  %reload_ext autoreload\n"
     ]
    }
   ],
   "source": [
    "%load_ext autoreload\n",
    "%autoreload 2"
   ]
  },
  {
   "cell_type": "code",
   "execution_count": 136,
   "id": "69eb1830-f83f-4bc9-9ec5-404922e5b4a0",
   "metadata": {
    "tags": []
   },
   "outputs": [],
   "source": [
    "import re\n",
    "import os\n",
    "import wandb\n",
    "import string\n",
    "import numpy as np\n",
    "import unicodedata\n",
    "import pandas as pd\n",
    "from pathlib import Path\n",
    "from datasets import load_dataset\n",
    "from collections import defaultdict\n",
    "from tqdm.notebook import tqdm\n",
    "import matplotlib.pyplot as plt\n",
    "import seaborn as sns\n",
    "\n",
    "import torch\n",
    "import flash_attn\n",
    "from datasets import Dataset\n",
    "from torch.utils.data import DataLoader\n",
    "from transformers import AutoTokenizer, TrainingArguments, Trainer, AutoModelForSequenceClassification\n",
    "from sklearn.model_selection import train_test_split\n",
    "\n",
    "from sklearn.linear_model import LogisticRegression\n",
    "from sklearn.feature_extraction.text import TfidfVectorizer\n",
    "from sklearn.metrics import classification_report, confusion_matrix, accuracy_score, f1_score, precision_score, recall_score\n",
    "\n",
    "import sys\n",
    "sys.path.append(\"../../src\")\n",
    "import util.preprocessing_util as util"
   ]
  },
  {
   "cell_type": "markdown",
   "id": "cc59a037-58d2-4359-b5b1-4a2efbfcf798",
   "metadata": {},
   "source": [
    "# Setup"
   ]
  },
  {
   "cell_type": "code",
   "execution_count": 137,
   "id": "701e8688-82a4-4fc5-ab25-9d0247128f5a",
   "metadata": {
    "tags": []
   },
   "outputs": [],
   "source": [
    "DATA_DIR = Path(\"../../data/dev/processed\")\n",
    "DATASET_NAME = \"medical_data.csv\""
   ]
  },
  {
   "cell_type": "code",
   "execution_count": 138,
   "id": "a2ed7e6b-fb08-4e9f-baed-13e8c37261b2",
   "metadata": {
    "tags": []
   },
   "outputs": [
    {
     "data": {
      "text/html": [
       "<div>\n",
       "<style scoped>\n",
       "    .dataframe tbody tr th:only-of-type {\n",
       "        vertical-align: middle;\n",
       "    }\n",
       "\n",
       "    .dataframe tbody tr th {\n",
       "        vertical-align: top;\n",
       "    }\n",
       "\n",
       "    .dataframe thead th {\n",
       "        text-align: right;\n",
       "    }\n",
       "</style>\n",
       "<table border=\"1\" class=\"dataframe\">\n",
       "  <thead>\n",
       "    <tr style=\"text-align: right;\">\n",
       "      <th></th>\n",
       "      <th>case_id</th>\n",
       "      <th>patient_question</th>\n",
       "      <th>note_excerpt</th>\n",
       "      <th>sentence_id</th>\n",
       "      <th>sentence_text</th>\n",
       "      <th>relevance</th>\n",
       "      <th>start_char_index</th>\n",
       "      <th>length</th>\n",
       "    </tr>\n",
       "  </thead>\n",
       "  <tbody>\n",
       "    <tr>\n",
       "      <th>0</th>\n",
       "      <td>1</td>\n",
       "      <td>my question is if the sludge was there does no...</td>\n",
       "      <td>brief hospital course during the ercp a pancre...</td>\n",
       "      <td>0</td>\n",
       "      <td>brief hospital course</td>\n",
       "      <td>not-relevant</td>\n",
       "      <td>0</td>\n",
       "      <td>22</td>\n",
       "    </tr>\n",
       "    <tr>\n",
       "      <th>1</th>\n",
       "      <td>1</td>\n",
       "      <td>my question is if the sludge was there does no...</td>\n",
       "      <td>brief hospital course during the ercp a pancre...</td>\n",
       "      <td>1</td>\n",
       "      <td>during the ercp a pancreatic stent was require...</td>\n",
       "      <td>essential</td>\n",
       "      <td>0</td>\n",
       "      <td>243</td>\n",
       "    </tr>\n",
       "    <tr>\n",
       "      <th>2</th>\n",
       "      <td>1</td>\n",
       "      <td>my question is if the sludge was there does no...</td>\n",
       "      <td>brief hospital course during the ercp a pancre...</td>\n",
       "      <td>2</td>\n",
       "      <td>however due to the patients elevated inr no sp...</td>\n",
       "      <td>not-relevant</td>\n",
       "      <td>244</td>\n",
       "      <td>93</td>\n",
       "    </tr>\n",
       "    <tr>\n",
       "      <th>3</th>\n",
       "      <td>1</td>\n",
       "      <td>my question is if the sludge was there does no...</td>\n",
       "      <td>brief hospital course during the ercp a pancre...</td>\n",
       "      <td>3</td>\n",
       "      <td>frank pus was noted to be draining from the co...</td>\n",
       "      <td>not-relevant</td>\n",
       "      <td>338</td>\n",
       "      <td>151</td>\n",
       "    </tr>\n",
       "    <tr>\n",
       "      <th>4</th>\n",
       "      <td>1</td>\n",
       "      <td>my question is if the sludge was there does no...</td>\n",
       "      <td>brief hospital course during the ercp a pancre...</td>\n",
       "      <td>4</td>\n",
       "      <td>the vancomycin was discontinued</td>\n",
       "      <td>not-relevant</td>\n",
       "      <td>490</td>\n",
       "      <td>32</td>\n",
       "    </tr>\n",
       "  </tbody>\n",
       "</table>\n",
       "</div>"
      ],
      "text/plain": [
       "   case_id                                   patient_question  \\\n",
       "0        1  my question is if the sludge was there does no...   \n",
       "1        1  my question is if the sludge was there does no...   \n",
       "2        1  my question is if the sludge was there does no...   \n",
       "3        1  my question is if the sludge was there does no...   \n",
       "4        1  my question is if the sludge was there does no...   \n",
       "\n",
       "                                        note_excerpt  sentence_id  \\\n",
       "0  brief hospital course during the ercp a pancre...            0   \n",
       "1  brief hospital course during the ercp a pancre...            1   \n",
       "2  brief hospital course during the ercp a pancre...            2   \n",
       "3  brief hospital course during the ercp a pancre...            3   \n",
       "4  brief hospital course during the ercp a pancre...            4   \n",
       "\n",
       "                                       sentence_text     relevance  \\\n",
       "0                              brief hospital course  not-relevant   \n",
       "1  during the ercp a pancreatic stent was require...     essential   \n",
       "2  however due to the patients elevated inr no sp...  not-relevant   \n",
       "3  frank pus was noted to be draining from the co...  not-relevant   \n",
       "4                    the vancomycin was discontinued  not-relevant   \n",
       "\n",
       "   start_char_index  length  \n",
       "0                 0      22  \n",
       "1                 0     243  \n",
       "2               244      93  \n",
       "3               338     151  \n",
       "4               490      32  "
      ]
     },
     "execution_count": 138,
     "metadata": {},
     "output_type": "execute_result"
    }
   ],
   "source": [
    "data = pd.read_csv(DATA_DIR / DATASET_NAME)\n",
    "data.head()"
   ]
  },
  {
   "cell_type": "code",
   "execution_count": 139,
   "id": "940c0345-97fe-4fb3-a038-3abca561e836",
   "metadata": {},
   "outputs": [
    {
     "name": "stderr",
     "output_type": "stream",
     "text": [
      "/tmp/ipykernel_938630/2774396375.py:15: DeprecationWarning: DataFrameGroupBy.apply operated on the grouping columns. This behavior is deprecated, and in a future version of pandas the grouping columns will be excluded from the operation. Either pass `include_groups=False` to exclude the groupings or explicitly select the grouping columns after groupby to silence this warning.\n",
      "  .apply(aggregate_case)\n"
     ]
    }
   ],
   "source": [
    "# Group by case_id and build sentence list + label list\n",
    "def aggregate_case(group):\n",
    "    sentences = group[\"sentence_text\"].tolist()\n",
    "    labels = [1 if rel in [\"essential\", \"relevant\"] else 0 for rel in group[\"relevance\"]]\n",
    "    return pd.Series({\n",
    "        \"question\": group[\"patient_question\"].iloc[0],\n",
    "        \"sentences\": sentences,\n",
    "        \"labels\": labels\n",
    "    })\n",
    "\n",
    "# Select only needed columns before grouping to silence the warning\n",
    "data = (\n",
    "    data[[\"case_id\", \"patient_question\", \"sentence_text\", \"relevance\"]]\n",
    "    .groupby(\"case_id\")\n",
    "    .apply(aggregate_case)\n",
    "    .reset_index()\n",
    ")"
   ]
  },
  {
   "cell_type": "code",
   "execution_count": 140,
   "id": "691c75c7-0204-4d55-9f6d-e6e96d64a36d",
   "metadata": {
    "tags": []
   },
   "outputs": [
    {
     "data": {
      "text/html": [
       "<div>\n",
       "<style scoped>\n",
       "    .dataframe tbody tr th:only-of-type {\n",
       "        vertical-align: middle;\n",
       "    }\n",
       "\n",
       "    .dataframe tbody tr th {\n",
       "        vertical-align: top;\n",
       "    }\n",
       "\n",
       "    .dataframe thead th {\n",
       "        text-align: right;\n",
       "    }\n",
       "</style>\n",
       "<table border=\"1\" class=\"dataframe\">\n",
       "  <thead>\n",
       "    <tr style=\"text-align: right;\">\n",
       "      <th></th>\n",
       "      <th>case_id</th>\n",
       "      <th>question</th>\n",
       "      <th>sentences</th>\n",
       "      <th>labels</th>\n",
       "    </tr>\n",
       "  </thead>\n",
       "  <tbody>\n",
       "    <tr>\n",
       "      <th>0</th>\n",
       "      <td>1</td>\n",
       "      <td>my question is if the sludge was there does no...</td>\n",
       "      <td>[brief hospital course, during the ercp a panc...</td>\n",
       "      <td>[0, 1, 0, 0, 0, 1, 1, 1, 0]</td>\n",
       "    </tr>\n",
       "    <tr>\n",
       "      <th>1</th>\n",
       "      <td>2</td>\n",
       "      <td>dad given multiple shots of lasciks after he w...</td>\n",
       "      <td>[brief hospital course, acute diastolic heart ...</td>\n",
       "      <td>[0, 1, 0, 0, 1, 0, 0, 1, 0, 0, 0]</td>\n",
       "    </tr>\n",
       "    <tr>\n",
       "      <th>2</th>\n",
       "      <td>3</td>\n",
       "      <td>he is continously irritated and has headache w...</td>\n",
       "      <td>[discharge instructions you were admitted to t...</td>\n",
       "      <td>[0, 0, 0, 0, 1, 1, 0, 0, 0, 0]</td>\n",
       "    </tr>\n",
       "    <tr>\n",
       "      <th>3</th>\n",
       "      <td>4</td>\n",
       "      <td>my doctor performed a cardiac catherization</td>\n",
       "      <td>[history of present illness, on the cardiology...</td>\n",
       "      <td>[0, 0, 0, 0, 1, 0, 0, 0, 0, 0, 0, 0, 0, 0, 0, ...</td>\n",
       "    </tr>\n",
       "    <tr>\n",
       "      <th>4</th>\n",
       "      <td>5</td>\n",
       "      <td>i overdosed october 4th on trihexyphenidyl tho...</td>\n",
       "      <td>[brief hospital course,  bipolar do ptsd schiz...</td>\n",
       "      <td>[0, 0, 1, 0, 0, 0, 0, 0, 1, 1, 1, 1, 1, 0, 0, ...</td>\n",
       "    </tr>\n",
       "  </tbody>\n",
       "</table>\n",
       "</div>"
      ],
      "text/plain": [
       "   case_id                                           question  \\\n",
       "0        1  my question is if the sludge was there does no...   \n",
       "1        2  dad given multiple shots of lasciks after he w...   \n",
       "2        3  he is continously irritated and has headache w...   \n",
       "3        4        my doctor performed a cardiac catherization   \n",
       "4        5  i overdosed october 4th on trihexyphenidyl tho...   \n",
       "\n",
       "                                           sentences  \\\n",
       "0  [brief hospital course, during the ercp a panc...   \n",
       "1  [brief hospital course, acute diastolic heart ...   \n",
       "2  [discharge instructions you were admitted to t...   \n",
       "3  [history of present illness, on the cardiology...   \n",
       "4  [brief hospital course,  bipolar do ptsd schiz...   \n",
       "\n",
       "                                              labels  \n",
       "0                        [0, 1, 0, 0, 0, 1, 1, 1, 0]  \n",
       "1                  [0, 1, 0, 0, 1, 0, 0, 1, 0, 0, 0]  \n",
       "2                     [0, 0, 0, 0, 1, 1, 0, 0, 0, 0]  \n",
       "3  [0, 0, 0, 0, 1, 0, 0, 0, 0, 0, 0, 0, 0, 0, 0, ...  \n",
       "4  [0, 0, 1, 0, 0, 0, 0, 0, 1, 1, 1, 1, 1, 0, 0, ...  "
      ]
     },
     "execution_count": 140,
     "metadata": {},
     "output_type": "execute_result"
    }
   ],
   "source": [
    "data.head()"
   ]
  },
  {
   "cell_type": "code",
   "execution_count": 141,
   "id": "0b981b61-99b9-4a71-b795-0b21325dcf37",
   "metadata": {
    "tags": []
   },
   "outputs": [
    {
     "data": {
      "text/plain": [
       "['brief hospital course',\n",
       " 'during the ercp a pancreatic stent was required to facilitate access to the biliary system removed at the end of the procedure and a common bile duct stent was placed to allow drainage of the biliary obstruction caused by stones and sludge',\n",
       " 'however due to the patients elevated inr no sphincterotomy or stone removal was performed',\n",
       " 'frank pus was noted to be draining from the common bile duct and postercp it was recommended that the patient remain on iv zosyn for at least a week',\n",
       " 'the vancomycin was discontinued',\n",
       " 'on hospital day 4 postprocedure day 3 the patient returned to ercp for reevaluation of her biliary stent as her lfts and bilirubin continued an upward trend',\n",
       " 'on ercp the previous biliary stent was noted to be acutely obstructed by biliary sludge and stones',\n",
       " 'as the patients inr was normalized to 12 a sphincterotomy was safely performed with removal of several biliary stones in addition to the common bile duct stent',\n",
       " 'at the conclusion of the procedure retrograde cholangiogram was negative for filling defects']"
      ]
     },
     "execution_count": 141,
     "metadata": {},
     "output_type": "execute_result"
    }
   ],
   "source": [
    "data.iloc[0].sentences"
   ]
  },
  {
   "cell_type": "markdown",
   "id": "3b662121-e972-4649-bc2d-de0e4b40d709",
   "metadata": {},
   "source": [
    "# Masking"
   ]
  },
  {
   "cell_type": "code",
   "execution_count": 142,
   "id": "25cff802-3968-427e-b0a0-6b08c15b16a8",
   "metadata": {
    "tags": []
   },
   "outputs": [],
   "source": [
    "WINDOW_SIZE = 1"
   ]
  },
  {
   "cell_type": "code",
   "execution_count": 143,
   "id": "122d87a7-9128-4b26-b56e-f11094d98a51",
   "metadata": {
    "tags": []
   },
   "outputs": [],
   "source": [
    "test_df = util.mask_on_sentence_level(data, window=WINDOW_SIZE)"
   ]
  },
  {
   "cell_type": "code",
   "execution_count": 144,
   "id": "cd64aec9-9688-4a31-8c5e-e93ab96004f2",
   "metadata": {
    "tags": []
   },
   "outputs": [
    {
     "data": {
      "text/html": [
       "<div>\n",
       "<style scoped>\n",
       "    .dataframe tbody tr th:only-of-type {\n",
       "        vertical-align: middle;\n",
       "    }\n",
       "\n",
       "    .dataframe tbody tr th {\n",
       "        vertical-align: top;\n",
       "    }\n",
       "\n",
       "    .dataframe thead th {\n",
       "        text-align: right;\n",
       "    }\n",
       "</style>\n",
       "<table border=\"1\" class=\"dataframe\">\n",
       "  <thead>\n",
       "    <tr style=\"text-align: right;\">\n",
       "      <th></th>\n",
       "      <th>question</th>\n",
       "      <th>context</th>\n",
       "      <th>target_sentence</th>\n",
       "      <th>target_index</th>\n",
       "      <th>label</th>\n",
       "    </tr>\n",
       "  </thead>\n",
       "  <tbody>\n",
       "    <tr>\n",
       "      <th>0</th>\n",
       "      <td>my question is if the sludge was there does no...</td>\n",
       "      <td>[START] brief hospital course [END]. during th...</td>\n",
       "      <td>brief hospital course</td>\n",
       "      <td>0</td>\n",
       "      <td>0</td>\n",
       "    </tr>\n",
       "    <tr>\n",
       "      <th>1</th>\n",
       "      <td>my question is if the sludge was there does no...</td>\n",
       "      <td>brief hospital course. [START] during the ercp...</td>\n",
       "      <td>during the ercp a pancreatic stent was require...</td>\n",
       "      <td>1</td>\n",
       "      <td>1</td>\n",
       "    </tr>\n",
       "    <tr>\n",
       "      <th>2</th>\n",
       "      <td>my question is if the sludge was there does no...</td>\n",
       "      <td>during the ercp a pancreatic stent was require...</td>\n",
       "      <td>however due to the patients elevated inr no sp...</td>\n",
       "      <td>2</td>\n",
       "      <td>0</td>\n",
       "    </tr>\n",
       "    <tr>\n",
       "      <th>3</th>\n",
       "      <td>my question is if the sludge was there does no...</td>\n",
       "      <td>however due to the patients elevated inr no sp...</td>\n",
       "      <td>frank pus was noted to be draining from the co...</td>\n",
       "      <td>3</td>\n",
       "      <td>0</td>\n",
       "    </tr>\n",
       "    <tr>\n",
       "      <th>4</th>\n",
       "      <td>my question is if the sludge was there does no...</td>\n",
       "      <td>frank pus was noted to be draining from the co...</td>\n",
       "      <td>the vancomycin was discontinued</td>\n",
       "      <td>4</td>\n",
       "      <td>0</td>\n",
       "    </tr>\n",
       "  </tbody>\n",
       "</table>\n",
       "</div>"
      ],
      "text/plain": [
       "                                            question  \\\n",
       "0  my question is if the sludge was there does no...   \n",
       "1  my question is if the sludge was there does no...   \n",
       "2  my question is if the sludge was there does no...   \n",
       "3  my question is if the sludge was there does no...   \n",
       "4  my question is if the sludge was there does no...   \n",
       "\n",
       "                                             context  \\\n",
       "0  [START] brief hospital course [END]. during th...   \n",
       "1  brief hospital course. [START] during the ercp...   \n",
       "2  during the ercp a pancreatic stent was require...   \n",
       "3  however due to the patients elevated inr no sp...   \n",
       "4  frank pus was noted to be draining from the co...   \n",
       "\n",
       "                                     target_sentence  target_index  label  \n",
       "0                              brief hospital course             0      0  \n",
       "1  during the ercp a pancreatic stent was require...             1      1  \n",
       "2  however due to the patients elevated inr no sp...             2      0  \n",
       "3  frank pus was noted to be draining from the co...             3      0  \n",
       "4                    the vancomycin was discontinued             4      0  "
      ]
     },
     "execution_count": 144,
     "metadata": {},
     "output_type": "execute_result"
    }
   ],
   "source": [
    "test_df.head()"
   ]
  },
  {
   "cell_type": "markdown",
   "id": "066f6064-1fd5-49b1-83c6-7fcdd98d665e",
   "metadata": {},
   "source": [
    "# Prepare Dataset"
   ]
  },
  {
   "cell_type": "code",
   "execution_count": 145,
   "id": "ca370c2e-4ebd-4598-ab09-7a2efe8b3ff0",
   "metadata": {
    "tags": []
   },
   "outputs": [],
   "source": [
    "BATCH_SIZE = 64\n",
    "CONTEXT_LENGTH = 512"
   ]
  },
  {
   "cell_type": "code",
   "execution_count": 146,
   "id": "07cc1971-20fe-4ef5-a177-17606c8357af",
   "metadata": {
    "tags": []
   },
   "outputs": [],
   "source": [
    "dataset_test = Dataset.from_pandas(test_df)"
   ]
  },
  {
   "cell_type": "code",
   "execution_count": 147,
   "id": "649ab135-1e4d-4e22-a475-f11b706bbbb9",
   "metadata": {
    "tags": []
   },
   "outputs": [
    {
     "data": {
      "application/vnd.jupyter.widget-view+json": {
       "model_id": "fce379b642ac4e51b6ef29ab544cdec3",
       "version_major": 2,
       "version_minor": 0
      },
      "text/plain": [
       "Tokenizing:   0%|          | 0/428 [00:00<?, ?it/s]"
      ]
     },
     "metadata": {},
     "output_type": "display_data"
    }
   ],
   "source": [
    "progress_bar = tqdm(total=(len(dataset_test)),\n",
    "                    desc=\"Tokenizing\", position=0, leave=True)"
   ]
  },
  {
   "cell_type": "code",
   "execution_count": 148,
   "id": "df12ea36-4399-4227-8c0e-36fc99e7e7d0",
   "metadata": {
    "tags": []
   },
   "outputs": [],
   "source": [
    "def tokenize_batch(batch):\n",
    "    encodings = tokenizer(\n",
    "        batch[\"question\"],\n",
    "        batch[\"context\"],\n",
    "        padding=\"max_length\",\n",
    "        truncation=True,\n",
    "        max_length=CONTEXT_LENGTH,\n",
    "        return_tensors=\"pt\"\n",
    "    )\n",
    "    return {\n",
    "        \"input_ids\": encodings[\"input_ids\"].tolist(),\n",
    "        \"attention_mask\": encodings[\"attention_mask\"].tolist(),\n",
    "        \"labels\": batch[\"label\"]\n",
    "    }\n",
    "\n",
    "def tokenize_with_progress(batch):\n",
    "    out = tokenize_batch(batch)\n",
    "    progress_bar.update(len(batch[\"question\"]))\n",
    "    return out"
   ]
  },
  {
   "cell_type": "code",
   "execution_count": 149,
   "id": "feaf9a57-e19a-4a08-b48a-b4cb1f139f8d",
   "metadata": {
    "tags": []
   },
   "outputs": [
    {
     "data": {
      "application/vnd.jupyter.widget-view+json": {
       "model_id": "e70f90c767754355819a672ff73b9c61",
       "version_major": 2,
       "version_minor": 0
      },
      "text/plain": [
       "Map:   0%|          | 0/428 [00:00<?, ? examples/s]"
      ]
     },
     "metadata": {},
     "output_type": "display_data"
    }
   ],
   "source": [
    "tokenized_dataset_test = dataset_test.map(tokenize_with_progress, batched=True, batch_size=BATCH_SIZE)"
   ]
  },
  {
   "cell_type": "code",
   "execution_count": 150,
   "id": "0d57f9cc-0fa9-4857-875a-3c7b3bd4e7e9",
   "metadata": {
    "tags": []
   },
   "outputs": [],
   "source": [
    "progress_bar.close()"
   ]
  },
  {
   "cell_type": "code",
   "execution_count": 151,
   "id": "50d99482-5bc1-47e2-be05-a7774e6112c1",
   "metadata": {
    "tags": []
   },
   "outputs": [],
   "source": [
    "tokenized_dataset_test.set_format(type=\"torch\", columns=[\"input_ids\", \"attention_mask\", \"labels\"])"
   ]
  },
  {
   "cell_type": "code",
   "execution_count": 158,
   "id": "59aec735-814c-4d0e-ae52-924a36740949",
   "metadata": {
    "tags": []
   },
   "outputs": [],
   "source": [
    "test_dataloader = DataLoader(tokenized_dataset_test, batch_size=BATCH_SIZE)"
   ]
  },
  {
   "cell_type": "code",
   "execution_count": 153,
   "id": "d8c07cce-6866-4c0c-bccd-8f5974b63ec1",
   "metadata": {
    "tags": []
   },
   "outputs": [
    {
     "name": "stdout",
     "output_type": "stream",
     "text": [
      "{'input_ids': torch.Size([64, 512]), 'attention_mask': torch.Size([64, 512]), 'labels': torch.Size([64])}\n"
     ]
    }
   ],
   "source": [
    "# Check one batch\n",
    "batch = next(iter(test_dataloader))\n",
    "print({key: value.shape for key, value in batch.items()})"
   ]
  },
  {
   "cell_type": "code",
   "execution_count": 154,
   "id": "48e84b65-a467-45ab-ba09-1746157f2efb",
   "metadata": {
    "tags": []
   },
   "outputs": [
    {
     "name": "stdout",
     "output_type": "stream",
     "text": [
      "----- Test Set -----\n",
      "Dataset({\n",
      "    features: ['question', 'context', 'target_sentence', 'target_index', 'label', 'input_ids', 'attention_mask', 'labels'],\n",
      "    num_rows: 428\n",
      "})\n",
      "['question', 'context', 'target_sentence', 'target_index', 'label', 'input_ids', 'attention_mask', 'labels']\n"
     ]
    }
   ],
   "source": [
    "print(\"----- Test Set -----\")\n",
    "print(tokenized_dataset_test)\n",
    "print(tokenized_dataset_test.column_names)"
   ]
  },
  {
   "cell_type": "markdown",
   "id": "566f3f8c-64cf-4610-bf90-f2e52a4d0304",
   "metadata": {},
   "source": [
    "# Model"
   ]
  },
  {
   "cell_type": "code",
   "execution_count": 155,
   "id": "bac9370c-bd15-40bc-8188-bb1f8d0f7a8c",
   "metadata": {
    "tags": []
   },
   "outputs": [],
   "source": [
    "model_dir = \"../../models\"\n",
    "\n",
    "model = AutoModelForSequenceClassification.from_pretrained(model_dir, num_labels=2)\n",
    "tokenizer = AutoTokenizer.from_pretrained(model_dir)"
   ]
  },
  {
   "cell_type": "code",
   "execution_count": 156,
   "id": "d1443a42-6a84-4c26-8648-8c48d003e457",
   "metadata": {
    "tags": []
   },
   "outputs": [],
   "source": [
    "model.eval()\n",
    "device = torch.device(\"cuda\" if torch.cuda.is_available() else \"cpu\")\n",
    "model.to(device);"
   ]
  },
  {
   "cell_type": "code",
   "execution_count": 159,
   "id": "9e8042c2-5a71-43da-8b12-c8a48c2c111b",
   "metadata": {
    "tags": []
   },
   "outputs": [
    {
     "data": {
      "application/vnd.jupyter.widget-view+json": {
       "model_id": "8b3c2da4eaa5475883abd977a582f8c1",
       "version_major": 2,
       "version_minor": 0
      },
      "text/plain": [
       "  0%|          | 0/7 [00:00<?, ?it/s]"
      ]
     },
     "metadata": {},
     "output_type": "display_data"
    }
   ],
   "source": [
    "all_preds = []\n",
    "all_labels = []\n",
    "\n",
    "with torch.no_grad():\n",
    "    for batch in tqdm(test_dataloader):\n",
    "        input_ids = batch[\"input_ids\"].to(device)\n",
    "        attention_mask = batch[\"attention_mask\"].to(device)\n",
    "        labels = batch[\"labels\"].to(device)\n",
    "\n",
    "        outputs = model(input_ids=input_ids, attention_mask=attention_mask)\n",
    "        logits = outputs.logits\n",
    "        preds = torch.argmax(logits, dim=1)\n",
    "\n",
    "        # Avoid CUDA-related errors\n",
    "        all_preds.extend(preds.cpu().numpy())\n",
    "        all_labels.extend(labels.cpu().numpy())\n",
    "\n",
    "report = pd.DataFrame(classification_report(all_labels, all_preds, digits=4, output_dict=True)).transpose()"
   ]
  },
  {
   "cell_type": "code",
   "execution_count": 160,
   "id": "de32dad2-f7f6-4afa-9f1c-65c78fb8509e",
   "metadata": {
    "tags": []
   },
   "outputs": [
    {
     "data": {
      "text/html": [
       "<div>\n",
       "<style scoped>\n",
       "    .dataframe tbody tr th:only-of-type {\n",
       "        vertical-align: middle;\n",
       "    }\n",
       "\n",
       "    .dataframe tbody tr th {\n",
       "        vertical-align: top;\n",
       "    }\n",
       "\n",
       "    .dataframe thead th {\n",
       "        text-align: right;\n",
       "    }\n",
       "</style>\n",
       "<table border=\"1\" class=\"dataframe\">\n",
       "  <thead>\n",
       "    <tr style=\"text-align: right;\">\n",
       "      <th></th>\n",
       "      <th>precision</th>\n",
       "      <th>recall</th>\n",
       "      <th>f1-score</th>\n",
       "      <th>support</th>\n",
       "    </tr>\n",
       "  </thead>\n",
       "  <tbody>\n",
       "    <tr>\n",
       "      <th>0</th>\n",
       "      <td>0.700521</td>\n",
       "      <td>0.927586</td>\n",
       "      <td>0.798220</td>\n",
       "      <td>290.000000</td>\n",
       "    </tr>\n",
       "    <tr>\n",
       "      <th>1</th>\n",
       "      <td>0.522727</td>\n",
       "      <td>0.166667</td>\n",
       "      <td>0.252747</td>\n",
       "      <td>138.000000</td>\n",
       "    </tr>\n",
       "    <tr>\n",
       "      <th>accuracy</th>\n",
       "      <td>0.682243</td>\n",
       "      <td>0.682243</td>\n",
       "      <td>0.682243</td>\n",
       "      <td>0.682243</td>\n",
       "    </tr>\n",
       "    <tr>\n",
       "      <th>macro avg</th>\n",
       "      <td>0.611624</td>\n",
       "      <td>0.547126</td>\n",
       "      <td>0.525483</td>\n",
       "      <td>428.000000</td>\n",
       "    </tr>\n",
       "    <tr>\n",
       "      <th>weighted avg</th>\n",
       "      <td>0.643195</td>\n",
       "      <td>0.682243</td>\n",
       "      <td>0.622343</td>\n",
       "      <td>428.000000</td>\n",
       "    </tr>\n",
       "  </tbody>\n",
       "</table>\n",
       "</div>"
      ],
      "text/plain": [
       "              precision    recall  f1-score     support\n",
       "0              0.700521  0.927586  0.798220  290.000000\n",
       "1              0.522727  0.166667  0.252747  138.000000\n",
       "accuracy       0.682243  0.682243  0.682243    0.682243\n",
       "macro avg      0.611624  0.547126  0.525483  428.000000\n",
       "weighted avg   0.643195  0.682243  0.622343  428.000000"
      ]
     },
     "metadata": {},
     "output_type": "display_data"
    }
   ],
   "source": [
    "display(report)"
   ]
  },
  {
   "cell_type": "code",
   "execution_count": null,
   "id": "aa339458-0d34-426c-9e72-3019479dbf48",
   "metadata": {},
   "outputs": [],
   "source": []
  }
 ],
 "metadata": {
  "kernelspec": {
   "display_name": "Python 3 (ipykernel)",
   "language": "python",
   "name": "python3"
  },
  "language_info": {
   "codemirror_mode": {
    "name": "ipython",
    "version": 3
   },
   "file_extension": ".py",
   "mimetype": "text/x-python",
   "name": "python",
   "nbconvert_exporter": "python",
   "pygments_lexer": "ipython3",
   "version": "3.10.14"
  }
 },
 "nbformat": 4,
 "nbformat_minor": 5
}
