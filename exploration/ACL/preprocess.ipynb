{
 "cells": [
  {
   "cell_type": "code",
   "execution_count": 72,
   "metadata": {
    "tags": []
   },
   "outputs": [
    {
     "name": "stdout",
     "output_type": "stream",
     "text": [
      "The autoreload extension is already loaded. To reload it, use:\n",
      "  %reload_ext autoreload\n"
     ]
    }
   ],
   "source": [
    "%load_ext autoreload\n",
    "%autoreload 2"
   ]
  },
  {
   "cell_type": "code",
   "execution_count": 73,
   "metadata": {
    "collapsed": false,
    "jupyter": {
     "outputs_hidden": false
    },
    "tags": []
   },
   "outputs": [],
   "source": [
    "import re\n",
    "import json\n",
    "import unicodedata\n",
    "import pandas as pd\n",
    "from pathlib import Path\n",
    "import xml.etree.ElementTree as ET\n",
    "import seaborn as sns\n",
    "import matplotlib.pyplot as plt\n",
    "\n",
    "import sys\n",
    "sys.path.append(\"../../src\")\n",
    "import util.preprocessing_util as util"
   ]
  },
  {
   "cell_type": "code",
   "execution_count": 74,
   "metadata": {
    "collapsed": false,
    "jupyter": {
     "outputs_hidden": false
    },
    "tags": []
   },
   "outputs": [],
   "source": [
    "DATA_DIR = Path(\"../../data/dev\")\n",
    "input_dir = DATA_DIR / \"raw\"\n",
    "output_dir = DATA_DIR / \"processed\"\n",
    "data_file_name = \"archehr-qa.xml\"\n",
    "key_file_name = \"archehr-qa_key.json\"\n",
    "mapping_file_name = \"archehr-qa_mapping.json\""
   ]
  },
  {
   "cell_type": "markdown",
   "metadata": {},
   "source": [
    "# Extract & Organize"
   ]
  },
  {
   "cell_type": "markdown",
   "metadata": {},
   "source": [
    "**Key-File:**\n",
    "- Provides sentence-level answer annotations.\n",
    "- Labels answers as \"essential\" or \"not-relevant\"."
   ]
  },
  {
   "cell_type": "markdown",
   "metadata": {},
   "source": [
    "Load from json file"
   ]
  },
  {
   "cell_type": "code",
   "execution_count": 75,
   "metadata": {
    "collapsed": false,
    "jupyter": {
     "outputs_hidden": false
    },
    "tags": []
   },
   "outputs": [],
   "source": [
    "key_file_path = input_dir / key_file_name\n",
    "with open(key_file_path, \"r\") as f:\n",
    "    key_data = json.load(f)"
   ]
  },
  {
   "cell_type": "markdown",
   "metadata": {},
   "source": [
    "Convert to dataframe"
   ]
  },
  {
   "cell_type": "code",
   "execution_count": 76,
   "metadata": {
    "collapsed": false,
    "jupyter": {
     "outputs_hidden": false
    },
    "tags": []
   },
   "outputs": [],
   "source": [
    "structured_key_data = []\n",
    "\n",
    "for case in key_data:\n",
    "    case_id = case[\"case_id\"]\n",
    "    for answer in case[\"answers\"]:\n",
    "        structured_key_data.append({\n",
    "            \"case_id\": case_id,\n",
    "            \"sentence_id\": answer[\"sentence_id\"],\n",
    "            \"relevance\": answer[\"relevance\"]\n",
    "        })\n",
    "\n",
    "# Create Pandas DataFrame\n",
    "key_df = pd.DataFrame(structured_key_data)"
   ]
  },
  {
   "cell_type": "code",
   "execution_count": 77,
   "metadata": {
    "collapsed": false,
    "jupyter": {
     "outputs_hidden": false
    },
    "tags": []
   },
   "outputs": [
    {
     "data": {
      "text/html": [
       "<div>\n",
       "<style scoped>\n",
       "    .dataframe tbody tr th:only-of-type {\n",
       "        vertical-align: middle;\n",
       "    }\n",
       "\n",
       "    .dataframe tbody tr th {\n",
       "        vertical-align: top;\n",
       "    }\n",
       "\n",
       "    .dataframe thead th {\n",
       "        text-align: right;\n",
       "    }\n",
       "</style>\n",
       "<table border=\"1\" class=\"dataframe\">\n",
       "  <thead>\n",
       "    <tr style=\"text-align: right;\">\n",
       "      <th></th>\n",
       "      <th>case_id</th>\n",
       "      <th>sentence_id</th>\n",
       "      <th>relevance</th>\n",
       "    </tr>\n",
       "  </thead>\n",
       "  <tbody>\n",
       "    <tr>\n",
       "      <th>0</th>\n",
       "      <td>1</td>\n",
       "      <td>0</td>\n",
       "      <td>not-relevant</td>\n",
       "    </tr>\n",
       "    <tr>\n",
       "      <th>1</th>\n",
       "      <td>1</td>\n",
       "      <td>1</td>\n",
       "      <td>essential</td>\n",
       "    </tr>\n",
       "    <tr>\n",
       "      <th>2</th>\n",
       "      <td>1</td>\n",
       "      <td>2</td>\n",
       "      <td>not-relevant</td>\n",
       "    </tr>\n",
       "    <tr>\n",
       "      <th>3</th>\n",
       "      <td>1</td>\n",
       "      <td>3</td>\n",
       "      <td>not-relevant</td>\n",
       "    </tr>\n",
       "    <tr>\n",
       "      <th>4</th>\n",
       "      <td>1</td>\n",
       "      <td>4</td>\n",
       "      <td>not-relevant</td>\n",
       "    </tr>\n",
       "  </tbody>\n",
       "</table>\n",
       "</div>"
      ],
      "text/plain": [
       "  case_id sentence_id     relevance\n",
       "0       1           0  not-relevant\n",
       "1       1           1     essential\n",
       "2       1           2  not-relevant\n",
       "3       1           3  not-relevant\n",
       "4       1           4  not-relevant"
      ]
     },
     "execution_count": 77,
     "metadata": {},
     "output_type": "execute_result"
    }
   ],
   "source": [
    "key_df.head()"
   ]
  },
  {
   "cell_type": "markdown",
   "metadata": {},
   "source": [
    "**Mapping-File:**\n",
    "- Maps case IDs to specific documents from MIMIC-III.\n",
    "- Shows where the context for each question is located."
   ]
  },
  {
   "cell_type": "markdown",
   "metadata": {},
   "source": [
    "Load from json file"
   ]
  },
  {
   "cell_type": "code",
   "execution_count": 78,
   "metadata": {
    "collapsed": false,
    "jupyter": {
     "outputs_hidden": false
    },
    "tags": []
   },
   "outputs": [],
   "source": [
    "mapping_file_path = input_dir / mapping_file_name\n",
    "with open(mapping_file_path, \"r\") as f:\n",
    "    mapping_data = json.load(f)"
   ]
  },
  {
   "cell_type": "markdown",
   "metadata": {},
   "source": [
    "Convert to dataframe"
   ]
  },
  {
   "cell_type": "code",
   "execution_count": 79,
   "metadata": {
    "collapsed": false,
    "jupyter": {
     "outputs_hidden": false
    },
    "tags": []
   },
   "outputs": [],
   "source": [
    "structured_mapping_data = []\n",
    "\n",
    "for case in mapping_data:\n",
    "    structured_mapping_data.append({\n",
    "        \"case_id\": case[\"case_id\"],\n",
    "        \"document_id\": case[\"document_id\"],\n",
    "        \"document_source\": case[\"document_source\"]\n",
    "    })\n",
    "\n",
    "# Create Pandas DataFrame\n",
    "mapping_df = pd.DataFrame(structured_mapping_data)"
   ]
  },
  {
   "cell_type": "code",
   "execution_count": 80,
   "metadata": {
    "collapsed": false,
    "jupyter": {
     "outputs_hidden": false
    },
    "tags": []
   },
   "outputs": [
    {
     "data": {
      "text/html": [
       "<div>\n",
       "<style scoped>\n",
       "    .dataframe tbody tr th:only-of-type {\n",
       "        vertical-align: middle;\n",
       "    }\n",
       "\n",
       "    .dataframe tbody tr th {\n",
       "        vertical-align: top;\n",
       "    }\n",
       "\n",
       "    .dataframe thead th {\n",
       "        text-align: right;\n",
       "    }\n",
       "</style>\n",
       "<table border=\"1\" class=\"dataframe\">\n",
       "  <thead>\n",
       "    <tr style=\"text-align: right;\">\n",
       "      <th></th>\n",
       "      <th>case_id</th>\n",
       "      <th>document_id</th>\n",
       "      <th>document_source</th>\n",
       "    </tr>\n",
       "  </thead>\n",
       "  <tbody>\n",
       "    <tr>\n",
       "      <th>0</th>\n",
       "      <td>1</td>\n",
       "      <td>179164_41762</td>\n",
       "      <td>mimic-iii</td>\n",
       "    </tr>\n",
       "    <tr>\n",
       "      <th>1</th>\n",
       "      <td>2</td>\n",
       "      <td>191708_35669</td>\n",
       "      <td>mimic-iii</td>\n",
       "    </tr>\n",
       "    <tr>\n",
       "      <th>2</th>\n",
       "      <td>3</td>\n",
       "      <td>132786_42206</td>\n",
       "      <td>mimic-iii</td>\n",
       "    </tr>\n",
       "    <tr>\n",
       "      <th>3</th>\n",
       "      <td>4</td>\n",
       "      <td>180932_37135</td>\n",
       "      <td>mimic-iii</td>\n",
       "    </tr>\n",
       "    <tr>\n",
       "      <th>4</th>\n",
       "      <td>5</td>\n",
       "      <td>190179_39908</td>\n",
       "      <td>mimic-iii</td>\n",
       "    </tr>\n",
       "  </tbody>\n",
       "</table>\n",
       "</div>"
      ],
      "text/plain": [
       "  case_id   document_id document_source\n",
       "0       1  179164_41762       mimic-iii\n",
       "1       2  191708_35669       mimic-iii\n",
       "2       3  132786_42206       mimic-iii\n",
       "3       4  180932_37135       mimic-iii\n",
       "4       5  190179_39908       mimic-iii"
      ]
     },
     "execution_count": 80,
     "metadata": {},
     "output_type": "execute_result"
    }
   ],
   "source": [
    "mapping_df.head()"
   ]
  },
  {
   "cell_type": "markdown",
   "metadata": {},
   "source": [
    "**Train-set:**\n",
    "\n",
    "Contains cases with unique ids.\n",
    "Stores questions, associated clinical context"
   ]
  },
  {
   "cell_type": "markdown",
   "metadata": {},
   "source": [
    "Load from XML file"
   ]
  },
  {
   "cell_type": "code",
   "execution_count": 81,
   "metadata": {
    "collapsed": false,
    "jupyter": {
     "outputs_hidden": false
    },
    "tags": []
   },
   "outputs": [],
   "source": [
    "def parse_xml_to_dataframe(path_to_xml):\n",
    "    tree = ET.parse(path_to_xml)\n",
    "    root = tree.getroot()\n",
    "\n",
    "    structured_data = []\n",
    "\n",
    "    for case in root.findall(\"case\"):\n",
    "        case_id = case.attrib[\"id\"]\n",
    "\n",
    "        # Extract patient details\n",
    "        patient_narrative = case.find(\"patient_narrative\").text if case.find(\"patient_narrative\") is not None else \"No patient narrative\"\n",
    "        patient_question = case.find(\"patient_question/phrase\").text if case.find(\"patient_question/phrase\") is not None else \"No patient question\"\n",
    "        clinician_question = case.find(\"clinician_question\").text if case.find(\"clinician_question\") is not None else \"No clinician question\"\n",
    "\n",
    "        # Extract clinical note excerpts\n",
    "        note_excerpt = case.find(\"note_excerpt\").text if case.find(\"note_excerpt\") is not None else \"No note excerpt\"\n",
    "\n",
    "        # Extract sentence-level details from note excerpts\n",
    "        for sentence in case.findall(\"note_excerpt_sentences/sentence\"):\n",
    "            sentence_id = sentence.attrib[\"id\"]\n",
    "            paragraph_id = sentence.attrib[\"paragraph_id\"]\n",
    "            start_char_index = sentence.attrib[\"start_char_index\"]\n",
    "            length = sentence.attrib[\"length\"]\n",
    "            sentence_text = sentence.text if sentence.text is not None else \"No sentence text\"\n",
    "\n",
    "            structured_data.append({\n",
    "                \"case_id\": case_id,\n",
    "                \"patient_narrative\": patient_narrative,\n",
    "                \"patient_question\": patient_question,\n",
    "                \"clinician_question\": clinician_question,\n",
    "                \"note_excerpt\": note_excerpt,\n",
    "                \"sentence_id\": sentence_id,\n",
    "                \"sentence_text\": sentence_text,\n",
    "                \"paragraph_id\": paragraph_id,\n",
    "                \"start_char_index\": start_char_index,\n",
    "                \"length\": length\n",
    "            })\n",
    "\n",
    "    return pd.DataFrame(structured_data)"
   ]
  },
  {
   "cell_type": "code",
   "execution_count": 82,
   "metadata": {
    "collapsed": false,
    "jupyter": {
     "outputs_hidden": false
    },
    "tags": []
   },
   "outputs": [],
   "source": [
    "data_file_path = input_dir / data_file_name\n",
    "data_df = parse_xml_to_dataframe(data_file_path)"
   ]
  },
  {
   "cell_type": "markdown",
   "metadata": {},
   "source": [
    "Cast attributes to int for merging"
   ]
  },
  {
   "cell_type": "code",
   "execution_count": 83,
   "metadata": {
    "collapsed": false,
    "jupyter": {
     "outputs_hidden": false
    },
    "tags": []
   },
   "outputs": [],
   "source": [
    "data_df[\"case_id\"] = data_df[\"case_id\"].astype(int)\n",
    "data_df[\"sentence_id\"] = data_df[\"sentence_id\"].astype(int)\n",
    "key_df[\"case_id\"] = key_df[\"case_id\"].astype(int)\n",
    "key_df[\"sentence_id\"] = key_df[\"sentence_id\"].astype(int)\n",
    "mapping_df[\"case_id\"] = mapping_df[\"case_id\"].astype(int)"
   ]
  },
  {
   "cell_type": "markdown",
   "metadata": {},
   "source": [
    "Merge the dataframes into one"
   ]
  },
  {
   "cell_type": "code",
   "execution_count": 84,
   "metadata": {
    "collapsed": false,
    "jupyter": {
     "outputs_hidden": false
    },
    "tags": []
   },
   "outputs": [],
   "source": [
    "# Merge XML data with answer relevance labels\n",
    "temp_df = data_df.merge(key_df, on=[\"case_id\", \"sentence_id\"], how=\"left\")\n",
    "\n",
    "# Merge with document mapping\n",
    "all_df = temp_df.merge(mapping_df, on=\"case_id\", how=\"left\")"
   ]
  },
  {
   "cell_type": "code",
   "execution_count": 85,
   "metadata": {
    "tags": []
   },
   "outputs": [
    {
     "data": {
      "text/html": [
       "<div>\n",
       "<style scoped>\n",
       "    .dataframe tbody tr th:only-of-type {\n",
       "        vertical-align: middle;\n",
       "    }\n",
       "\n",
       "    .dataframe tbody tr th {\n",
       "        vertical-align: top;\n",
       "    }\n",
       "\n",
       "    .dataframe thead th {\n",
       "        text-align: right;\n",
       "    }\n",
       "</style>\n",
       "<table border=\"1\" class=\"dataframe\">\n",
       "  <thead>\n",
       "    <tr style=\"text-align: right;\">\n",
       "      <th></th>\n",
       "      <th>case_id</th>\n",
       "      <th>patient_narrative</th>\n",
       "      <th>patient_question</th>\n",
       "      <th>clinician_question</th>\n",
       "      <th>note_excerpt</th>\n",
       "      <th>sentence_id</th>\n",
       "      <th>sentence_text</th>\n",
       "      <th>paragraph_id</th>\n",
       "      <th>start_char_index</th>\n",
       "      <th>length</th>\n",
       "      <th>relevance</th>\n",
       "      <th>document_id</th>\n",
       "      <th>document_source</th>\n",
       "    </tr>\n",
       "  </thead>\n",
       "  <tbody>\n",
       "    <tr>\n",
       "      <th>0</th>\n",
       "      <td>1</td>\n",
       "      <td>\\nI had severe abdomen pain and was hospitalis...</td>\n",
       "      <td>\\nMy question is if the sludge was there does ...</td>\n",
       "      <td>\\nWhy was ERCP recommended to him over continu...</td>\n",
       "      <td>\\nBrief Hospital Course:\\n\\nDuring the ERCP a ...</td>\n",
       "      <td>0</td>\n",
       "      <td>\\nBrief Hospital Course:\\n</td>\n",
       "      <td>0</td>\n",
       "      <td>0</td>\n",
       "      <td>22</td>\n",
       "      <td>not-relevant</td>\n",
       "      <td>179164_41762</td>\n",
       "      <td>mimic-iii</td>\n",
       "    </tr>\n",
       "    <tr>\n",
       "      <th>1</th>\n",
       "      <td>1</td>\n",
       "      <td>\\nI had severe abdomen pain and was hospitalis...</td>\n",
       "      <td>\\nMy question is if the sludge was there does ...</td>\n",
       "      <td>\\nWhy was ERCP recommended to him over continu...</td>\n",
       "      <td>\\nBrief Hospital Course:\\n\\nDuring the ERCP a ...</td>\n",
       "      <td>1</td>\n",
       "      <td>\\nDuring the ERCP a pancreatic stent was requi...</td>\n",
       "      <td>1</td>\n",
       "      <td>0</td>\n",
       "      <td>243</td>\n",
       "      <td>essential</td>\n",
       "      <td>179164_41762</td>\n",
       "      <td>mimic-iii</td>\n",
       "    </tr>\n",
       "    <tr>\n",
       "      <th>2</th>\n",
       "      <td>1</td>\n",
       "      <td>\\nI had severe abdomen pain and was hospitalis...</td>\n",
       "      <td>\\nMy question is if the sludge was there does ...</td>\n",
       "      <td>\\nWhy was ERCP recommended to him over continu...</td>\n",
       "      <td>\\nBrief Hospital Course:\\n\\nDuring the ERCP a ...</td>\n",
       "      <td>2</td>\n",
       "      <td>\\nHowever, due to the patient's elevated INR, ...</td>\n",
       "      <td>1</td>\n",
       "      <td>244</td>\n",
       "      <td>93</td>\n",
       "      <td>not-relevant</td>\n",
       "      <td>179164_41762</td>\n",
       "      <td>mimic-iii</td>\n",
       "    </tr>\n",
       "    <tr>\n",
       "      <th>3</th>\n",
       "      <td>1</td>\n",
       "      <td>\\nI had severe abdomen pain and was hospitalis...</td>\n",
       "      <td>\\nMy question is if the sludge was there does ...</td>\n",
       "      <td>\\nWhy was ERCP recommended to him over continu...</td>\n",
       "      <td>\\nBrief Hospital Course:\\n\\nDuring the ERCP a ...</td>\n",
       "      <td>3</td>\n",
       "      <td>\\nFrank pus was noted to be draining\\nfrom the...</td>\n",
       "      <td>1</td>\n",
       "      <td>338</td>\n",
       "      <td>151</td>\n",
       "      <td>not-relevant</td>\n",
       "      <td>179164_41762</td>\n",
       "      <td>mimic-iii</td>\n",
       "    </tr>\n",
       "    <tr>\n",
       "      <th>4</th>\n",
       "      <td>1</td>\n",
       "      <td>\\nI had severe abdomen pain and was hospitalis...</td>\n",
       "      <td>\\nMy question is if the sludge was there does ...</td>\n",
       "      <td>\\nWhy was ERCP recommended to him over continu...</td>\n",
       "      <td>\\nBrief Hospital Course:\\n\\nDuring the ERCP a ...</td>\n",
       "      <td>4</td>\n",
       "      <td>\\nThe\\nVancomycin was discontinued.\\n</td>\n",
       "      <td>1</td>\n",
       "      <td>490</td>\n",
       "      <td>32</td>\n",
       "      <td>not-relevant</td>\n",
       "      <td>179164_41762</td>\n",
       "      <td>mimic-iii</td>\n",
       "    </tr>\n",
       "  </tbody>\n",
       "</table>\n",
       "</div>"
      ],
      "text/plain": [
       "   case_id                                  patient_narrative  \\\n",
       "0        1  \\nI had severe abdomen pain and was hospitalis...   \n",
       "1        1  \\nI had severe abdomen pain and was hospitalis...   \n",
       "2        1  \\nI had severe abdomen pain and was hospitalis...   \n",
       "3        1  \\nI had severe abdomen pain and was hospitalis...   \n",
       "4        1  \\nI had severe abdomen pain and was hospitalis...   \n",
       "\n",
       "                                    patient_question  \\\n",
       "0  \\nMy question is if the sludge was there does ...   \n",
       "1  \\nMy question is if the sludge was there does ...   \n",
       "2  \\nMy question is if the sludge was there does ...   \n",
       "3  \\nMy question is if the sludge was there does ...   \n",
       "4  \\nMy question is if the sludge was there does ...   \n",
       "\n",
       "                                  clinician_question  \\\n",
       "0  \\nWhy was ERCP recommended to him over continu...   \n",
       "1  \\nWhy was ERCP recommended to him over continu...   \n",
       "2  \\nWhy was ERCP recommended to him over continu...   \n",
       "3  \\nWhy was ERCP recommended to him over continu...   \n",
       "4  \\nWhy was ERCP recommended to him over continu...   \n",
       "\n",
       "                                        note_excerpt  sentence_id  \\\n",
       "0  \\nBrief Hospital Course:\\n\\nDuring the ERCP a ...            0   \n",
       "1  \\nBrief Hospital Course:\\n\\nDuring the ERCP a ...            1   \n",
       "2  \\nBrief Hospital Course:\\n\\nDuring the ERCP a ...            2   \n",
       "3  \\nBrief Hospital Course:\\n\\nDuring the ERCP a ...            3   \n",
       "4  \\nBrief Hospital Course:\\n\\nDuring the ERCP a ...            4   \n",
       "\n",
       "                                       sentence_text paragraph_id  \\\n",
       "0             \\nBrief Hospital Course:\\n                        0   \n",
       "1  \\nDuring the ERCP a pancreatic stent was requi...            1   \n",
       "2  \\nHowever, due to the patient's elevated INR, ...            1   \n",
       "3  \\nFrank pus was noted to be draining\\nfrom the...            1   \n",
       "4  \\nThe\\nVancomycin was discontinued.\\n                        1   \n",
       "\n",
       "  start_char_index length     relevance   document_id document_source  \n",
       "0                0     22  not-relevant  179164_41762       mimic-iii  \n",
       "1                0    243     essential  179164_41762       mimic-iii  \n",
       "2              244     93  not-relevant  179164_41762       mimic-iii  \n",
       "3              338    151  not-relevant  179164_41762       mimic-iii  \n",
       "4              490     32  not-relevant  179164_41762       mimic-iii  "
      ]
     },
     "execution_count": 85,
     "metadata": {},
     "output_type": "execute_result"
    }
   ],
   "source": [
    "all_df.head()"
   ]
  },
  {
   "cell_type": "code",
   "execution_count": 86,
   "metadata": {
    "tags": []
   },
   "outputs": [
    {
     "data": {
      "text/plain": [
       "\"\\nBrief Hospital Course:\\n\\nDuring the ERCP a pancreatic stent was required to facilitate\\naccess to the biliary system (removed at the end of the\\nprocedure), and a common bile duct stent was placed to allow\\ndrainage of the biliary obstruction caused by stones and sludge.\\nHowever, due to the patient's elevated INR, no sphincterotomy or\\nstone removal was performed. Frank pus was noted to be draining\\nfrom the common bile duct, and post-ERCP it was recommended that\\nthe patient remain on IV Zosyn for at least a week. The\\nVancomycin was discontinued.\\n\\nOn hospital day 4 (post-procedure day 3) the patient returned to\\nERCP for re-evaluation of her biliary stent as her LFTs and\\nbilirubin continued an upward trend. On ERCP the previous\\nbiliary stent was noted to be acutely obstructed by biliary\\nsludge and stones. As the patient's INR was normalized to 1.2, a\\nsphincterotomy was safely performed, with removal of several\\nbiliary stones in addition to the common bile duct stent. At the\\nconclusion of the procedure, retrograde cholangiogram was\\nnegative for filling defects.\\n        \""
      ]
     },
     "execution_count": 86,
     "metadata": {},
     "output_type": "execute_result"
    }
   ],
   "source": [
    "all_df.iloc[0].note_excerpt"
   ]
  },
  {
   "cell_type": "markdown",
   "metadata": {},
   "source": [
    "# Data View"
   ]
  },
  {
   "cell_type": "markdown",
   "metadata": {},
   "source": [
    "Routine check for missing values"
   ]
  },
  {
   "cell_type": "code",
   "execution_count": 87,
   "metadata": {
    "collapsed": false,
    "jupyter": {
     "outputs_hidden": false
    },
    "tags": []
   },
   "outputs": [
    {
     "data": {
      "text/plain": [
       "case_id               0\n",
       "patient_narrative     0\n",
       "patient_question      0\n",
       "clinician_question    0\n",
       "note_excerpt          0\n",
       "sentence_id           0\n",
       "sentence_text         0\n",
       "paragraph_id          0\n",
       "start_char_index      0\n",
       "length                0\n",
       "relevance             0\n",
       "document_id           0\n",
       "document_source       0\n",
       "dtype: int64"
      ]
     },
     "execution_count": 87,
     "metadata": {},
     "output_type": "execute_result"
    }
   ],
   "source": [
    "all_df.isna().sum()"
   ]
  },
  {
   "cell_type": "markdown",
   "metadata": {},
   "source": [
    "List categories of relevance"
   ]
  },
  {
   "cell_type": "code",
   "execution_count": 88,
   "metadata": {
    "collapsed": false,
    "jupyter": {
     "outputs_hidden": false
    },
    "tags": []
   },
   "outputs": [
    {
     "data": {
      "text/plain": [
       "relevance\n",
       "not-relevant     239\n",
       "essential        138\n",
       "supplementary     51\n",
       "Name: count, dtype: int64"
      ]
     },
     "execution_count": 88,
     "metadata": {},
     "output_type": "execute_result"
    }
   ],
   "source": [
    "all_df[\"relevance\"].value_counts()"
   ]
  },
  {
   "cell_type": "markdown",
   "metadata": {},
   "source": [
    "List distribution of different documents"
   ]
  },
  {
   "cell_type": "code",
   "execution_count": 89,
   "metadata": {
    "collapsed": false,
    "jupyter": {
     "outputs_hidden": false
    },
    "tags": []
   },
   "outputs": [
    {
     "data": {
      "text/plain": [
       "document_id\n",
       "169976_23897    54\n",
       "26520572        38\n",
       "100035_41331    32\n",
       "137866_53960    30\n",
       "22086761        30\n",
       "22805349        27\n",
       "104041_30389    25\n",
       "190179_39908    23\n",
       "23831520        23\n",
       "139801_38724    21\n",
       "180932_37135    21\n",
       "20746225        18\n",
       "25926743        14\n",
       "21866822        12\n",
       "27422858        12\n",
       "191708_35669    11\n",
       "132786_42206    10\n",
       "179164_41762     9\n",
       "20361094         9\n",
       "22494097         9\n",
       "Name: count, dtype: int64"
      ]
     },
     "execution_count": 89,
     "metadata": {},
     "output_type": "execute_result"
    }
   ],
   "source": [
    "all_df[\"document_id\"].value_counts()"
   ]
  },
  {
   "cell_type": "markdown",
   "metadata": {},
   "source": [
    "# Data Cleaning"
   ]
  },
  {
   "cell_type": "markdown",
   "metadata": {},
   "source": [
    "**We apply:**\n",
    "\n",
    "- Lowercasing\n",
    "- Removing extra newlines & whitespace\n",
    "- Unicode normalization\n",
    "- Removing punctuation"
   ]
  },
  {
   "cell_type": "markdown",
   "metadata": {},
   "source": [
    "Convert text to lowercase"
   ]
  },
  {
   "cell_type": "code",
   "execution_count": 90,
   "metadata": {
    "collapsed": false,
    "jupyter": {
     "outputs_hidden": false
    },
    "tags": []
   },
   "outputs": [],
   "source": [
    "text_columns = [\"patient_narrative\", \"patient_question\", \"clinician_question\", \"note_excerpt\", \"sentence_text\"]"
   ]
  },
  {
   "cell_type": "code",
   "execution_count": 91,
   "metadata": {
    "tags": []
   },
   "outputs": [],
   "source": [
    "cleaned_data = util.clean_text_df(all_df, text_columns, list_columns=[])"
   ]
  },
  {
   "cell_type": "code",
   "execution_count": 92,
   "metadata": {
    "tags": []
   },
   "outputs": [
    {
     "data": {
      "text/plain": [
       "\"Brief Hospital Course: During the ERCP a pancreatic stent was required to facilitate access to the biliary system (removed at the end of the procedure), and a common bile duct stent was placed to allow drainage of the biliary obstruction caused by stones and sludge. However, due to the patient's elevated INR, no sphincterotomy or stone removal was performed. Frank pus was noted to be draining from the common bile duct, and post-ERCP it was recommended that the patient remain on IV Zosyn for at least a week. The Vancomycin was discontinued. On hospital day 4 (post-procedure day 3) the patient returned to ERCP for re-evaluation of her biliary stent as her LFTs and bilirubin continued an upward trend. On ERCP the previous biliary stent was noted to be acutely obstructed by biliary sludge and stones. As the patient's INR was normalized to 1.2, a sphincterotomy was safely performed, with removal of several biliary stones in addition to the common bile duct stent. At the conclusion of the procedure, retrograde cholangiogram was negative for filling defects.\""
      ]
     },
     "execution_count": 92,
     "metadata": {},
     "output_type": "execute_result"
    }
   ],
   "source": [
    "cleaned_data.iloc[0].note_excerpt"
   ]
  },
  {
   "cell_type": "markdown",
   "metadata": {},
   "source": [
    "Save the processed data (using csv instead of pickle for now since dataset is fairly small)"
   ]
  },
  {
   "cell_type": "code",
   "execution_count": 93,
   "metadata": {
    "tags": []
   },
   "outputs": [
    {
     "data": {
      "text/plain": [
       "20"
      ]
     },
     "execution_count": 93,
     "metadata": {},
     "output_type": "execute_result"
    }
   ],
   "source": [
    "cleaned_data[\"case_id\"].nunique()"
   ]
  },
  {
   "cell_type": "code",
   "execution_count": 94,
   "metadata": {
    "tags": []
   },
   "outputs": [
    {
     "data": {
      "text/plain": [
       "20"
      ]
     },
     "execution_count": 94,
     "metadata": {},
     "output_type": "execute_result"
    }
   ],
   "source": [
    "cleaned_data[\"note_excerpt\"].nunique()"
   ]
  },
  {
   "cell_type": "markdown",
   "metadata": {},
   "source": [
    "# Attribute Selection "
   ]
  },
  {
   "cell_type": "code",
   "execution_count": 95,
   "metadata": {
    "tags": []
   },
   "outputs": [],
   "source": [
    "relevant_columns = [\"case_id\", \"patient_question\", \"clinician_question\", \"note_excerpt\", \"sentence_id\", \"sentence_text\", \"relevance\", \"start_char_index\", \"length\"]"
   ]
  },
  {
   "cell_type": "code",
   "execution_count": 96,
   "metadata": {
    "tags": []
   },
   "outputs": [],
   "source": [
    "cleaned_data = cleaned_data[relevant_columns]"
   ]
  },
  {
   "cell_type": "code",
   "execution_count": 97,
   "metadata": {
    "tags": []
   },
   "outputs": [
    {
     "data": {
      "text/plain": [
       "relevance\n",
       "not-relevant     239\n",
       "essential        138\n",
       "supplementary     51\n",
       "Name: count, dtype: int64"
      ]
     },
     "execution_count": 97,
     "metadata": {},
     "output_type": "execute_result"
    }
   ],
   "source": [
    "cleaned_data[\"relevance\"].value_counts()"
   ]
  },
  {
   "cell_type": "code",
   "execution_count": 98,
   "metadata": {
    "tags": []
   },
   "outputs": [
    {
     "data": {
      "image/png": "[encoded data removed]",
      "text/plain": [
       "<Figure size 640x480 with 1 Axes>"
      ]
     },
     "metadata": {},
     "output_type": "display_data"
    }
   ],
   "source": [
    "sns.countplot(x=\"relevance\", data=cleaned_data)\n",
    "plt.title(\"Class Distribution in 'relevance'\")\n",
    "plt.xlabel(\"Relevance\")\n",
    "plt.ylabel(\"Count\")\n",
    "plt.show()"
   ]
  },
  {
   "cell_type": "markdown",
   "metadata": {},
   "source": [
    "# Transform to right format "
   ]
  },
  {
   "cell_type": "code",
   "execution_count": 109,
   "metadata": {
    "tags": []
   },
   "outputs": [],
   "source": [
    "# Group by case_id and build sentence list + label list\n",
    "def aggregate_case(group):\n",
    "    sentences = group[\"sentence_text\"].tolist()\n",
    "    labels = [1 if rel in [\"essential\", \"relevant\"] else 0 for rel in group[\"relevance\"]]\n",
    "    return pd.Series({\n",
    "        \"patient_question\": group[\"patient_question\"].iloc[0],\n",
    "        \"clinician_question\": group[\"clinician_question\"].iloc[0],\n",
    "        \"note_excerpt\": group[\"note_excerpt\"].iloc[0],\n",
    "        \"sentences\": sentences,\n",
    "        \"sentence_text\": group[\"sentence_text\"].iloc[0],\n",
    "        \"labels\": labels\n",
    "    })"
   ]
  },
  {
   "cell_type": "code",
   "execution_count": 110,
   "metadata": {
    "tags": []
   },
   "outputs": [
    {
     "name": "stderr",
     "output_type": "stream",
     "text": [
      "/tmp/ipykernel_1147050/2107528943.py:4: DeprecationWarning: DataFrameGroupBy.apply operated on the grouping columns. This behavior is deprecated, and in a future version of pandas the grouping columns will be excluded from the operation. Either pass `include_groups=False` to exclude the groupings or explicitly select the grouping columns after groupby to silence this warning.\n",
      "  .apply(aggregate_case)\n"
     ]
    }
   ],
   "source": [
    "data_agg = (\n",
    "    cleaned_data[[\"case_id\", \"patient_question\", \"clinician_question\", \"note_excerpt\", \"sentence_text\", \"relevance\"]]\n",
    "    .groupby(\"case_id\")\n",
    "    .apply(aggregate_case)\n",
    "    .reset_index()\n",
    ")"
   ]
  },
  {
   "cell_type": "markdown",
   "metadata": {},
   "source": [
    "**Quick sanity check**"
   ]
  },
  {
   "cell_type": "code",
   "execution_count": 114,
   "metadata": {
    "tags": []
   },
   "outputs": [
    {
     "data": {
      "text/html": [
       "<div>\n",
       "<style scoped>\n",
       "    .dataframe tbody tr th:only-of-type {\n",
       "        vertical-align: middle;\n",
       "    }\n",
       "\n",
       "    .dataframe tbody tr th {\n",
       "        vertical-align: top;\n",
       "    }\n",
       "\n",
       "    .dataframe thead th {\n",
       "        text-align: right;\n",
       "    }\n",
       "</style>\n",
       "<table border=\"1\" class=\"dataframe\">\n",
       "  <thead>\n",
       "    <tr style=\"text-align: right;\">\n",
       "      <th></th>\n",
       "      <th>case_id</th>\n",
       "      <th>patient_question</th>\n",
       "      <th>clinician_question</th>\n",
       "      <th>note_excerpt</th>\n",
       "      <th>sentences</th>\n",
       "      <th>sentence_text</th>\n",
       "      <th>labels</th>\n",
       "    </tr>\n",
       "  </thead>\n",
       "  <tbody>\n",
       "    <tr>\n",
       "      <th>0</th>\n",
       "      <td>1</td>\n",
       "      <td>My question is if the sludge was there does no...</td>\n",
       "      <td>Why was ERCP recommended to him over continuin...</td>\n",
       "      <td>Brief Hospital Course: During the ERCP a pancr...</td>\n",
       "      <td>[Brief Hospital Course:, During the ERCP a pan...</td>\n",
       "      <td>Brief Hospital Course:</td>\n",
       "      <td>[0, 1, 0, 0, 0, 1, 1, 1, 0]</td>\n",
       "    </tr>\n",
       "    <tr>\n",
       "      <th>1</th>\n",
       "      <td>2</td>\n",
       "      <td>dad given multiple shots of lasciks after he w...</td>\n",
       "      <td>Why was he given lasix and his oxygen flow rat...</td>\n",
       "      <td>Brief Hospital Course: Acute diastolic heart f...</td>\n",
       "      <td>[Brief Hospital Course:, Acute diastolic heart...</td>\n",
       "      <td>Brief Hospital Course:</td>\n",
       "      <td>[0, 1, 0, 0, 1, 0, 0, 1, 0, 0, 0]</td>\n",
       "    </tr>\n",
       "    <tr>\n",
       "      <th>2</th>\n",
       "      <td>3</td>\n",
       "      <td>he is continously irritated and has headache w...</td>\n",
       "      <td>What is the expected course of recovery for him?</td>\n",
       "      <td>Discharge Instructions: You were admitted to t...</td>\n",
       "      <td>[Discharge Instructions: You were admitted to ...</td>\n",
       "      <td>Discharge Instructions: You were admitted to t...</td>\n",
       "      <td>[0, 0, 0, 0, 1, 1, 0, 0, 0, 0]</td>\n",
       "    </tr>\n",
       "    <tr>\n",
       "      <th>3</th>\n",
       "      <td>4</td>\n",
       "      <td>My doctor performed a cardiac catherization.</td>\n",
       "      <td>Why was cardiac catheterization recommended to...</td>\n",
       "      <td>History of Present Illness: On the cardiology ...</td>\n",
       "      <td>[History of Present Illness:, On the cardiolog...</td>\n",
       "      <td>History of Present Illness:</td>\n",
       "      <td>[0, 0, 0, 0, 1, 0, 0, 0, 0, 0, 0, 0, 0, 0, 0, ...</td>\n",
       "    </tr>\n",
       "    <tr>\n",
       "      <th>4</th>\n",
       "      <td>5</td>\n",
       "      <td>I overdosed October 4th on trihexyphenidyl, th...</td>\n",
       "      <td>Is the pain connected to the overdose or somet...</td>\n",
       "      <td>Brief Hospital Course: # Bipolar d/o, PTSD, sc...</td>\n",
       "      <td>[Brief Hospital Course:, # Bipolar d/o, PTSD, ...</td>\n",
       "      <td>Brief Hospital Course:</td>\n",
       "      <td>[0, 0, 1, 0, 0, 0, 0, 0, 1, 1, 1, 1, 1, 0, 0, ...</td>\n",
       "    </tr>\n",
       "  </tbody>\n",
       "</table>\n",
       "</div>"
      ],
      "text/plain": [
       "   case_id                                   patient_question  \\\n",
       "0        1  My question is if the sludge was there does no...   \n",
       "1        2  dad given multiple shots of lasciks after he w...   \n",
       "2        3  he is continously irritated and has headache w...   \n",
       "3        4       My doctor performed a cardiac catherization.   \n",
       "4        5  I overdosed October 4th on trihexyphenidyl, th...   \n",
       "\n",
       "                                  clinician_question  \\\n",
       "0  Why was ERCP recommended to him over continuin...   \n",
       "1  Why was he given lasix and his oxygen flow rat...   \n",
       "2   What is the expected course of recovery for him?   \n",
       "3  Why was cardiac catheterization recommended to...   \n",
       "4  Is the pain connected to the overdose or somet...   \n",
       "\n",
       "                                        note_excerpt  \\\n",
       "0  Brief Hospital Course: During the ERCP a pancr...   \n",
       "1  Brief Hospital Course: Acute diastolic heart f...   \n",
       "2  Discharge Instructions: You were admitted to t...   \n",
       "3  History of Present Illness: On the cardiology ...   \n",
       "4  Brief Hospital Course: # Bipolar d/o, PTSD, sc...   \n",
       "\n",
       "                                           sentences  \\\n",
       "0  [Brief Hospital Course:, During the ERCP a pan...   \n",
       "1  [Brief Hospital Course:, Acute diastolic heart...   \n",
       "2  [Discharge Instructions: You were admitted to ...   \n",
       "3  [History of Present Illness:, On the cardiolog...   \n",
       "4  [Brief Hospital Course:, # Bipolar d/o, PTSD, ...   \n",
       "\n",
       "                                       sentence_text  \\\n",
       "0                             Brief Hospital Course:   \n",
       "1                             Brief Hospital Course:   \n",
       "2  Discharge Instructions: You were admitted to t...   \n",
       "3                        History of Present Illness:   \n",
       "4                             Brief Hospital Course:   \n",
       "\n",
       "                                              labels  \n",
       "0                        [0, 1, 0, 0, 0, 1, 1, 1, 0]  \n",
       "1                  [0, 1, 0, 0, 1, 0, 0, 1, 0, 0, 0]  \n",
       "2                     [0, 0, 0, 0, 1, 1, 0, 0, 0, 0]  \n",
       "3  [0, 0, 0, 0, 1, 0, 0, 0, 0, 0, 0, 0, 0, 0, 0, ...  \n",
       "4  [0, 0, 1, 0, 0, 0, 0, 0, 1, 1, 1, 1, 1, 0, 0, ...  "
      ]
     },
     "execution_count": 114,
     "metadata": {},
     "output_type": "execute_result"
    }
   ],
   "source": [
    "data_agg.head()"
   ]
  },
  {
   "cell_type": "markdown",
   "metadata": {},
   "source": [
    "**Save only if needed**"
   ]
  },
  {
   "cell_type": "code",
   "execution_count": 115,
   "metadata": {
    "collapsed": false,
    "jupyter": {
     "outputs_hidden": false
    },
    "pycharm": {
     "is_executing": true
    },
    "tags": []
   },
   "outputs": [
    {
     "name": "stdout",
     "output_type": "stream",
     "text": [
      "Cleaned dataset saved successfully!\n"
     ]
    }
   ],
   "source": [
    "'''\n",
    "data_agg.to_csv(output_dir / \"medical_data.csv\", index=False)\n",
    "print(\"Cleaned dataset saved successfully!\")\n",
    "''';"
   ]
  },
  {
   "cell_type": "markdown",
   "metadata": {},
   "source": [
    "# In-Depth Look at the Questions"
   ]
  },
  {
   "cell_type": "code",
   "execution_count": 26,
   "metadata": {},
   "outputs": [],
   "source": [
    "questions = data[[\"patient_question\", \"clinician_question\"]].drop_duplicates()"
   ]
  },
  {
   "cell_type": "code",
   "execution_count": 27,
   "metadata": {
    "tags": []
   },
   "outputs": [
    {
     "name": "stdout",
     "output_type": "stream",
     "text": [
      "my question is if the sludge was there does not the medication help in flushing it out whether ercp was the only cure\n",
      "---\n",
      "why was ercp recommended to him over continuing a medicationbased treatment\n",
      "------------------------\n",
      "\n",
      "dad given multiple shots of lasciks after he was already so swelled his shin looked like it would burst open why would they give him so much\n",
      "---\n",
      "why was he given lasix and his oxygen flow rate was reduced\n",
      "------------------------\n",
      "\n",
      "he is continously irritated and has headache when awake what do ido\n",
      "---\n",
      "what is the expected course of recovery for him\n",
      "------------------------\n",
      "\n",
      "my doctor performed a cardiac catherization\n",
      "---\n",
      "why was cardiac catheterization recommended to the patient\n",
      "------------------------\n",
      "\n",
      "i overdosed october 4th on trihexyphenidyl thorazine and cocaine\n",
      "---\n",
      "is the pain connected to the overdose or something else\n",
      "------------------------\n",
      "\n",
      "my question is if the dr fail to diagonise the lung infection in time\n",
      "---\n",
      "why did they find out later that he had fungal pneumonia\n",
      "------------------------\n",
      "\n",
      "are there any specific instructions about stopping coumadin\n",
      "---\n",
      "are there specific instructions about blood thinners due to her subarachnoid brain hemorrhage\n",
      "------------------------\n",
      "\n",
      "my main question if i had posion in my bloodstream does it remain in my system and i am very concerned about my writing capabilities\n",
      "---\n",
      "will the poison damage to his body last and is the confusion related to it\n",
      "------------------------\n",
      "\n",
      "what treatment provide me at hospitalthis is any problem me later\n",
      "---\n",
      "what treatments did she receive for complications during her delivery will the treatments cause any problems later\n",
      "------------------------\n",
      "\n",
      "i realize he most likely sustained some brain damage  but do you think he mte be able to continue breathing for long and survive\n",
      "---\n",
      "did she sustain any brain damage from the heart attack\n",
      "------------------------\n",
      "\n",
      "is this fall back today a normal part of the recovery process or is it a sign of a possible relapse\n",
      "---\n",
      "what is the expected course of her recovery\n",
      "------------------------\n",
      "\n",
      "stomach pain that extends up to her chest and back\n",
      "---\n",
      "what can cause her persistent stomach pain\n",
      "------------------------\n",
      "\n",
      "now my legs cant move and im in severe pain\n",
      "---\n",
      "what should the patient do if she is in in pain and cannot move her legs\n",
      "------------------------\n",
      "\n",
      "what would you say about cancer in the stomach\n",
      "---\n",
      "was there any evidence for stomach cancer\n",
      "------------------------\n",
      "\n",
      "i came to the hospital with testicle pain and swelling and got antibiotics for a penis skin infection\n",
      "---\n",
      "did his infection spread to other anatomies causing infertility\n",
      "------------------------\n",
      "\n",
      "the pain presented in may and has worsened to its present state today\n",
      "---\n",
      "could her back pain and dizziness be concerning for a stroke\n",
      "------------------------\n",
      "\n",
      "my palpitations are benign i’m told fine how can i slow them or stop them without some antiarrhythmic meds\n",
      "---\n",
      "what should he do to relieve palpitations and anxiety\n",
      "------------------------\n",
      "\n",
      "at hospital i seemed fine but now i am vomiting and have diarrhea should i go back to er\n",
      "---\n",
      "should he go back to the er if he has diarrhea and vomiting\n",
      "------------------------\n",
      "\n",
      "i went to er for a bladder infection the doctor asked if i had irregular heartbeats or afib which lead me getting very panicky\n",
      "---\n",
      "are her symptoms related to anxiety or cardiovascular process\n",
      "------------------------\n",
      "\n",
      "so what is the dizziness from i never heard of a migraine that can cause your head to spin like that\n",
      "---\n",
      "how did they diagnose her with migraine for spinning sensation\n",
      "------------------------\n",
      "\n"
     ]
    }
   ],
   "source": [
    "for _, question in questions.iterrows():\n",
    "    print(question[\"patient_question\"])\n",
    "    print(\"---\")\n",
    "    print(question[\"clinician_question\"])\n",
    "    print(\"------------------------\\n\")"
   ]
  },
  {
   "cell_type": "code",
   "execution_count": 30,
   "metadata": {
    "tags": []
   },
   "outputs": [
    {
     "name": "stdout",
     "output_type": "stream",
     "text": [
      "why was ercp recommended to him over continuing a medicationbased treatment\n",
      "------------\n",
      "why was he given lasix and his oxygen flow rate was reduced\n",
      "------------\n",
      "what is the expected course of recovery for him\n",
      "------------\n",
      "why was cardiac catheterization recommended to the patient\n",
      "------------\n",
      "is the pain connected to the overdose or something else\n",
      "------------\n",
      "why did they find out later that he had fungal pneumonia\n",
      "------------\n",
      "are there specific instructions about blood thinners due to her subarachnoid brain hemorrhage\n",
      "------------\n",
      "will the poison damage to his body last and is the confusion related to it\n",
      "------------\n",
      "what treatments did she receive for complications during her delivery will the treatments cause any problems later\n",
      "------------\n",
      "did she sustain any brain damage from the heart attack\n",
      "------------\n",
      "what is the expected course of her recovery\n",
      "------------\n",
      "what can cause her persistent stomach pain\n",
      "------------\n",
      "what should the patient do if she is in in pain and cannot move her legs\n",
      "------------\n",
      "was there any evidence for stomach cancer\n",
      "------------\n",
      "did his infection spread to other anatomies causing infertility\n",
      "------------\n",
      "could her back pain and dizziness be concerning for a stroke\n",
      "------------\n",
      "what should he do to relieve palpitations and anxiety\n",
      "------------\n",
      "should he go back to the er if he has diarrhea and vomiting\n",
      "------------\n",
      "are her symptoms related to anxiety or cardiovascular process\n",
      "------------\n",
      "how did they diagnose her with migraine for spinning sensation\n",
      "------------\n"
     ]
    }
   ],
   "source": [
    "for question in questions[\"clinician_question\"]:\n",
    "    print(question)\n",
    "    print(\"------------\")"
   ]
  },
  {
   "cell_type": "code",
   "execution_count": null,
   "metadata": {},
   "outputs": [],
   "source": []
  }
 ],
 "metadata": {
  "kernelspec": {
   "display_name": "Python 3 (ipykernel)",
   "language": "python",
   "name": "python3"
  },
  "language_info": {
   "codemirror_mode": {
    "name": "ipython",
    "version": 3
   },
   "file_extension": ".py",
   "mimetype": "text/x-python",
   "name": "python",
   "nbconvert_exporter": "python",
   "pygments_lexer": "ipython3",
   "version": "3.10.14"
  }
 },
 "nbformat": 4,
 "nbformat_minor": 4
}
