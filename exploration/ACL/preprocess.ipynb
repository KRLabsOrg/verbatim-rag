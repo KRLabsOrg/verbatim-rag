{
 "cells": [
  {
   "cell_type": "code",
   "execution_count": 2,
   "metadata": {
    "tags": []
   },
   "outputs": [],
   "source": [
    "%load_ext autoreload\n",
    "%autoreload 2"
   ]
  },
  {
   "cell_type": "code",
   "execution_count": 3,
   "metadata": {
    "collapsed": false,
    "jupyter": {
     "outputs_hidden": false
    },
    "tags": []
   },
   "outputs": [],
   "source": [
    "import re\n",
    "import json\n",
    "import unicodedata\n",
    "import pandas as pd\n",
    "from pathlib import Path\n",
    "import xml.etree.ElementTree as ET\n",
    "\n",
    "import sys\n",
    "sys.path.append(\"../../src\")\n",
    "import util.preprocessing_util as util"
   ]
  },
  {
   "cell_type": "code",
   "execution_count": 4,
   "metadata": {
    "collapsed": false,
    "jupyter": {
     "outputs_hidden": false
    },
    "tags": []
   },
   "outputs": [],
   "source": [
    "DATA_DIR = Path(\"../../data/dev\")\n",
    "input_dir = DATA_DIR / \"raw\"\n",
    "output_dir = DATA_DIR / \"processed\"\n",
    "data_file_name = \"archehr-qa.xml\"\n",
    "key_file_name = \"archehr-qa_key.json\"\n",
    "mapping_file_name = \"archehr-qa_mapping.json\""
   ]
  },
  {
   "cell_type": "markdown",
   "metadata": {},
   "source": [
    "# Extract & Organize"
   ]
  },
  {
   "cell_type": "markdown",
   "metadata": {},
   "source": [
    "**Key-File:**\n",
    "- Provides sentence-level answer annotations.\n",
    "- Labels answers as \"essential\" or \"not-relevant\"."
   ]
  },
  {
   "cell_type": "markdown",
   "metadata": {},
   "source": [
    "Load from json file"
   ]
  },
  {
   "cell_type": "code",
   "execution_count": 5,
   "metadata": {
    "collapsed": false,
    "jupyter": {
     "outputs_hidden": false
    },
    "tags": []
   },
   "outputs": [],
   "source": [
    "key_file_path = input_dir / key_file_name\n",
    "with open(key_file_path, \"r\") as f:\n",
    "    key_data = json.load(f)"
   ]
  },
  {
   "cell_type": "markdown",
   "metadata": {},
   "source": [
    "Convert to dataframe"
   ]
  },
  {
   "cell_type": "code",
   "execution_count": 6,
   "metadata": {
    "collapsed": false,
    "jupyter": {
     "outputs_hidden": false
    },
    "tags": []
   },
   "outputs": [],
   "source": [
    "structured_key_data = []\n",
    "\n",
    "for case in key_data:\n",
    "    case_id = case[\"case_id\"]\n",
    "    for answer in case[\"answers\"]:\n",
    "        structured_key_data.append({\n",
    "            \"case_id\": case_id,\n",
    "            \"sentence_id\": answer[\"sentence_id\"],\n",
    "            \"relevance\": answer[\"relevance\"]\n",
    "        })\n",
    "\n",
    "# Create Pandas DataFrame\n",
    "key_df = pd.DataFrame(structured_key_data)"
   ]
  },
  {
   "cell_type": "code",
   "execution_count": 7,
   "metadata": {
    "collapsed": false,
    "jupyter": {
     "outputs_hidden": false
    },
    "tags": []
   },
   "outputs": [
    {
     "data": {
      "text/html": [
       "<div>\n",
       "<style scoped>\n",
       "    .dataframe tbody tr th:only-of-type {\n",
       "        vertical-align: middle;\n",
       "    }\n",
       "\n",
       "    .dataframe tbody tr th {\n",
       "        vertical-align: top;\n",
       "    }\n",
       "\n",
       "    .dataframe thead th {\n",
       "        text-align: right;\n",
       "    }\n",
       "</style>\n",
       "<table border=\"1\" class=\"dataframe\">\n",
       "  <thead>\n",
       "    <tr style=\"text-align: right;\">\n",
       "      <th></th>\n",
       "      <th>case_id</th>\n",
       "      <th>sentence_id</th>\n",
       "      <th>relevance</th>\n",
       "    </tr>\n",
       "  </thead>\n",
       "  <tbody>\n",
       "    <tr>\n",
       "      <th>0</th>\n",
       "      <td>1</td>\n",
       "      <td>0</td>\n",
       "      <td>not-relevant</td>\n",
       "    </tr>\n",
       "    <tr>\n",
       "      <th>1</th>\n",
       "      <td>1</td>\n",
       "      <td>1</td>\n",
       "      <td>essential</td>\n",
       "    </tr>\n",
       "    <tr>\n",
       "      <th>2</th>\n",
       "      <td>1</td>\n",
       "      <td>2</td>\n",
       "      <td>not-relevant</td>\n",
       "    </tr>\n",
       "    <tr>\n",
       "      <th>3</th>\n",
       "      <td>1</td>\n",
       "      <td>3</td>\n",
       "      <td>not-relevant</td>\n",
       "    </tr>\n",
       "    <tr>\n",
       "      <th>4</th>\n",
       "      <td>1</td>\n",
       "      <td>4</td>\n",
       "      <td>not-relevant</td>\n",
       "    </tr>\n",
       "  </tbody>\n",
       "</table>\n",
       "</div>"
      ],
      "text/plain": [
       "  case_id sentence_id     relevance\n",
       "0       1           0  not-relevant\n",
       "1       1           1     essential\n",
       "2       1           2  not-relevant\n",
       "3       1           3  not-relevant\n",
       "4       1           4  not-relevant"
      ]
     },
     "execution_count": 7,
     "metadata": {},
     "output_type": "execute_result"
    }
   ],
   "source": [
    "key_df.head()"
   ]
  },
  {
   "cell_type": "markdown",
   "metadata": {},
   "source": [
    "**Mapping-File:**\n",
    "- Maps case IDs to specific documents from MIMIC-III.\n",
    "- Shows where the context for each question is located."
   ]
  },
  {
   "cell_type": "markdown",
   "metadata": {},
   "source": [
    "Load from json file"
   ]
  },
  {
   "cell_type": "code",
   "execution_count": 8,
   "metadata": {
    "collapsed": false,
    "jupyter": {
     "outputs_hidden": false
    },
    "tags": []
   },
   "outputs": [],
   "source": [
    "mapping_file_path = input_dir / mapping_file_name\n",
    "with open(mapping_file_path, \"r\") as f:\n",
    "    mapping_data = json.load(f)"
   ]
  },
  {
   "cell_type": "markdown",
   "metadata": {},
   "source": [
    "Convert to dataframe"
   ]
  },
  {
   "cell_type": "code",
   "execution_count": 9,
   "metadata": {
    "collapsed": false,
    "jupyter": {
     "outputs_hidden": false
    },
    "tags": []
   },
   "outputs": [],
   "source": [
    "structured_mapping_data = []\n",
    "\n",
    "for case in mapping_data:\n",
    "    structured_mapping_data.append({\n",
    "        \"case_id\": case[\"case_id\"],\n",
    "        \"document_id\": case[\"document_id\"],\n",
    "        \"document_source\": case[\"document_source\"]\n",
    "    })\n",
    "\n",
    "# Create Pandas DataFrame\n",
    "mapping_df = pd.DataFrame(structured_mapping_data)"
   ]
  },
  {
   "cell_type": "code",
   "execution_count": 10,
   "metadata": {
    "collapsed": false,
    "jupyter": {
     "outputs_hidden": false
    },
    "tags": []
   },
   "outputs": [
    {
     "data": {
      "text/html": [
       "<div>\n",
       "<style scoped>\n",
       "    .dataframe tbody tr th:only-of-type {\n",
       "        vertical-align: middle;\n",
       "    }\n",
       "\n",
       "    .dataframe tbody tr th {\n",
       "        vertical-align: top;\n",
       "    }\n",
       "\n",
       "    .dataframe thead th {\n",
       "        text-align: right;\n",
       "    }\n",
       "</style>\n",
       "<table border=\"1\" class=\"dataframe\">\n",
       "  <thead>\n",
       "    <tr style=\"text-align: right;\">\n",
       "      <th></th>\n",
       "      <th>case_id</th>\n",
       "      <th>document_id</th>\n",
       "      <th>document_source</th>\n",
       "    </tr>\n",
       "  </thead>\n",
       "  <tbody>\n",
       "    <tr>\n",
       "      <th>0</th>\n",
       "      <td>1</td>\n",
       "      <td>179164_41762</td>\n",
       "      <td>mimic-iii</td>\n",
       "    </tr>\n",
       "    <tr>\n",
       "      <th>1</th>\n",
       "      <td>2</td>\n",
       "      <td>191708_35669</td>\n",
       "      <td>mimic-iii</td>\n",
       "    </tr>\n",
       "    <tr>\n",
       "      <th>2</th>\n",
       "      <td>3</td>\n",
       "      <td>132786_42206</td>\n",
       "      <td>mimic-iii</td>\n",
       "    </tr>\n",
       "    <tr>\n",
       "      <th>3</th>\n",
       "      <td>4</td>\n",
       "      <td>180932_37135</td>\n",
       "      <td>mimic-iii</td>\n",
       "    </tr>\n",
       "    <tr>\n",
       "      <th>4</th>\n",
       "      <td>5</td>\n",
       "      <td>190179_39908</td>\n",
       "      <td>mimic-iii</td>\n",
       "    </tr>\n",
       "  </tbody>\n",
       "</table>\n",
       "</div>"
      ],
      "text/plain": [
       "  case_id   document_id document_source\n",
       "0       1  179164_41762       mimic-iii\n",
       "1       2  191708_35669       mimic-iii\n",
       "2       3  132786_42206       mimic-iii\n",
       "3       4  180932_37135       mimic-iii\n",
       "4       5  190179_39908       mimic-iii"
      ]
     },
     "execution_count": 10,
     "metadata": {},
     "output_type": "execute_result"
    }
   ],
   "source": [
    "mapping_df.head()"
   ]
  },
  {
   "cell_type": "markdown",
   "metadata": {},
   "source": [
    "**Train-set:**\n",
    "\n",
    "Contains cases with unique ids.\n",
    "Stores questions, associated clinical context"
   ]
  },
  {
   "cell_type": "markdown",
   "metadata": {},
   "source": [
    "Load from XML file"
   ]
  },
  {
   "cell_type": "code",
   "execution_count": 11,
   "metadata": {
    "collapsed": false,
    "jupyter": {
     "outputs_hidden": false
    },
    "tags": []
   },
   "outputs": [],
   "source": [
    "def parse_xml_to_dataframe(path_to_xml):\n",
    "    tree = ET.parse(path_to_xml)\n",
    "    root = tree.getroot()\n",
    "\n",
    "    structured_data = []\n",
    "\n",
    "    for case in root.findall(\"case\"):\n",
    "        case_id = case.attrib[\"id\"]\n",
    "\n",
    "        # Extract patient details\n",
    "        patient_narrative = case.find(\"patient_narrative\").text if case.find(\"patient_narrative\") is not None else \"No patient narrative\"\n",
    "        patient_question = case.find(\"patient_question/phrase\").text if case.find(\"patient_question/phrase\") is not None else \"No patient question\"\n",
    "        clinician_question = case.find(\"clinician_question\").text if case.find(\"clinician_question\") is not None else \"No clinician question\"\n",
    "\n",
    "        # Extract clinical note excerpts\n",
    "        note_excerpt = case.find(\"note_excerpt\").text if case.find(\"note_excerpt\") is not None else \"No note excerpt\"\n",
    "\n",
    "        # Extract sentence-level details from note excerpts\n",
    "        for sentence in case.findall(\"note_excerpt_sentences/sentence\"):\n",
    "            sentence_id = sentence.attrib[\"id\"]\n",
    "            paragraph_id = sentence.attrib[\"paragraph_id\"]\n",
    "            start_char_index = sentence.attrib[\"start_char_index\"]\n",
    "            length = sentence.attrib[\"length\"]\n",
    "            sentence_text = sentence.text if sentence.text is not None else \"No sentence text\"\n",
    "\n",
    "            structured_data.append({\n",
    "                \"case_id\": case_id,\n",
    "                \"patient_narrative\": patient_narrative,\n",
    "                \"patient_question\": patient_question,\n",
    "                \"clinician_question\": clinician_question,\n",
    "                \"note_excerpt\": note_excerpt,\n",
    "                \"sentence_id\": sentence_id,\n",
    "                \"sentence_text\": sentence_text,\n",
    "                \"paragraph_id\": paragraph_id,\n",
    "                \"start_char_index\": start_char_index,\n",
    "                \"length\": length\n",
    "            })\n",
    "\n",
    "    return pd.DataFrame(structured_data)"
   ]
  },
  {
   "cell_type": "code",
   "execution_count": 12,
   "metadata": {
    "collapsed": false,
    "jupyter": {
     "outputs_hidden": false
    },
    "tags": []
   },
   "outputs": [],
   "source": [
    "data_file_path = input_dir / data_file_name\n",
    "data_df = parse_xml_to_dataframe(data_file_path)"
   ]
  },
  {
   "cell_type": "markdown",
   "metadata": {},
   "source": [
    "Cast attributes to int for merging"
   ]
  },
  {
   "cell_type": "code",
   "execution_count": 13,
   "metadata": {
    "collapsed": false,
    "jupyter": {
     "outputs_hidden": false
    },
    "tags": []
   },
   "outputs": [],
   "source": [
    "data_df[\"case_id\"] = data_df[\"case_id\"].astype(int)\n",
    "data_df[\"sentence_id\"] = data_df[\"sentence_id\"].astype(int)\n",
    "key_df[\"case_id\"] = key_df[\"case_id\"].astype(int)\n",
    "key_df[\"sentence_id\"] = key_df[\"sentence_id\"].astype(int)\n",
    "mapping_df[\"case_id\"] = mapping_df[\"case_id\"].astype(int)"
   ]
  },
  {
   "cell_type": "markdown",
   "metadata": {},
   "source": [
    "Merge the dataframes into one"
   ]
  },
  {
   "cell_type": "code",
   "execution_count": 14,
   "metadata": {
    "collapsed": false,
    "jupyter": {
     "outputs_hidden": false
    },
    "tags": []
   },
   "outputs": [],
   "source": [
    "# Merge XML data with answer relevance labels\n",
    "temp_df = data_df.merge(key_df, on=[\"case_id\", \"sentence_id\"], how=\"left\")\n",
    "\n",
    "# Merge with document mapping\n",
    "all_df = temp_df.merge(mapping_df, on=\"case_id\", how=\"left\")"
   ]
  },
  {
   "cell_type": "code",
   "execution_count": 15,
   "metadata": {
    "tags": []
   },
   "outputs": [
    {
     "data": {
      "text/html": [
       "<div>\n",
       "<style scoped>\n",
       "    .dataframe tbody tr th:only-of-type {\n",
       "        vertical-align: middle;\n",
       "    }\n",
       "\n",
       "    .dataframe tbody tr th {\n",
       "        vertical-align: top;\n",
       "    }\n",
       "\n",
       "    .dataframe thead th {\n",
       "        text-align: right;\n",
       "    }\n",
       "</style>\n",
       "<table border=\"1\" class=\"dataframe\">\n",
       "  <thead>\n",
       "    <tr style=\"text-align: right;\">\n",
       "      <th></th>\n",
       "      <th>case_id</th>\n",
       "      <th>patient_narrative</th>\n",
       "      <th>patient_question</th>\n",
       "      <th>clinician_question</th>\n",
       "      <th>note_excerpt</th>\n",
       "      <th>sentence_id</th>\n",
       "      <th>sentence_text</th>\n",
       "      <th>paragraph_id</th>\n",
       "      <th>start_char_index</th>\n",
       "      <th>length</th>\n",
       "      <th>relevance</th>\n",
       "      <th>document_id</th>\n",
       "      <th>document_source</th>\n",
       "    </tr>\n",
       "  </thead>\n",
       "  <tbody>\n",
       "    <tr>\n",
       "      <th>0</th>\n",
       "      <td>1</td>\n",
       "      <td>\\nI had severe abdomen pain and was hospitalis...</td>\n",
       "      <td>\\nMy question is if the sludge was there does ...</td>\n",
       "      <td>\\nWhy was ERCP recommended to him over continu...</td>\n",
       "      <td>\\nBrief Hospital Course:\\n\\nDuring the ERCP a ...</td>\n",
       "      <td>0</td>\n",
       "      <td>\\nBrief Hospital Course:\\n</td>\n",
       "      <td>0</td>\n",
       "      <td>0</td>\n",
       "      <td>22</td>\n",
       "      <td>not-relevant</td>\n",
       "      <td>179164_41762</td>\n",
       "      <td>mimic-iii</td>\n",
       "    </tr>\n",
       "    <tr>\n",
       "      <th>1</th>\n",
       "      <td>1</td>\n",
       "      <td>\\nI had severe abdomen pain and was hospitalis...</td>\n",
       "      <td>\\nMy question is if the sludge was there does ...</td>\n",
       "      <td>\\nWhy was ERCP recommended to him over continu...</td>\n",
       "      <td>\\nBrief Hospital Course:\\n\\nDuring the ERCP a ...</td>\n",
       "      <td>1</td>\n",
       "      <td>\\nDuring the ERCP a pancreatic stent was requi...</td>\n",
       "      <td>1</td>\n",
       "      <td>0</td>\n",
       "      <td>243</td>\n",
       "      <td>essential</td>\n",
       "      <td>179164_41762</td>\n",
       "      <td>mimic-iii</td>\n",
       "    </tr>\n",
       "    <tr>\n",
       "      <th>2</th>\n",
       "      <td>1</td>\n",
       "      <td>\\nI had severe abdomen pain and was hospitalis...</td>\n",
       "      <td>\\nMy question is if the sludge was there does ...</td>\n",
       "      <td>\\nWhy was ERCP recommended to him over continu...</td>\n",
       "      <td>\\nBrief Hospital Course:\\n\\nDuring the ERCP a ...</td>\n",
       "      <td>2</td>\n",
       "      <td>\\nHowever, due to the patient's elevated INR, ...</td>\n",
       "      <td>1</td>\n",
       "      <td>244</td>\n",
       "      <td>93</td>\n",
       "      <td>not-relevant</td>\n",
       "      <td>179164_41762</td>\n",
       "      <td>mimic-iii</td>\n",
       "    </tr>\n",
       "    <tr>\n",
       "      <th>3</th>\n",
       "      <td>1</td>\n",
       "      <td>\\nI had severe abdomen pain and was hospitalis...</td>\n",
       "      <td>\\nMy question is if the sludge was there does ...</td>\n",
       "      <td>\\nWhy was ERCP recommended to him over continu...</td>\n",
       "      <td>\\nBrief Hospital Course:\\n\\nDuring the ERCP a ...</td>\n",
       "      <td>3</td>\n",
       "      <td>\\nFrank pus was noted to be draining\\nfrom the...</td>\n",
       "      <td>1</td>\n",
       "      <td>338</td>\n",
       "      <td>151</td>\n",
       "      <td>not-relevant</td>\n",
       "      <td>179164_41762</td>\n",
       "      <td>mimic-iii</td>\n",
       "    </tr>\n",
       "    <tr>\n",
       "      <th>4</th>\n",
       "      <td>1</td>\n",
       "      <td>\\nI had severe abdomen pain and was hospitalis...</td>\n",
       "      <td>\\nMy question is if the sludge was there does ...</td>\n",
       "      <td>\\nWhy was ERCP recommended to him over continu...</td>\n",
       "      <td>\\nBrief Hospital Course:\\n\\nDuring the ERCP a ...</td>\n",
       "      <td>4</td>\n",
       "      <td>\\nThe\\nVancomycin was discontinued.\\n</td>\n",
       "      <td>1</td>\n",
       "      <td>490</td>\n",
       "      <td>32</td>\n",
       "      <td>not-relevant</td>\n",
       "      <td>179164_41762</td>\n",
       "      <td>mimic-iii</td>\n",
       "    </tr>\n",
       "  </tbody>\n",
       "</table>\n",
       "</div>"
      ],
      "text/plain": [
       "   case_id                                  patient_narrative  \\\n",
       "0        1  \\nI had severe abdomen pain and was hospitalis...   \n",
       "1        1  \\nI had severe abdomen pain and was hospitalis...   \n",
       "2        1  \\nI had severe abdomen pain and was hospitalis...   \n",
       "3        1  \\nI had severe abdomen pain and was hospitalis...   \n",
       "4        1  \\nI had severe abdomen pain and was hospitalis...   \n",
       "\n",
       "                                    patient_question  \\\n",
       "0  \\nMy question is if the sludge was there does ...   \n",
       "1  \\nMy question is if the sludge was there does ...   \n",
       "2  \\nMy question is if the sludge was there does ...   \n",
       "3  \\nMy question is if the sludge was there does ...   \n",
       "4  \\nMy question is if the sludge was there does ...   \n",
       "\n",
       "                                  clinician_question  \\\n",
       "0  \\nWhy was ERCP recommended to him over continu...   \n",
       "1  \\nWhy was ERCP recommended to him over continu...   \n",
       "2  \\nWhy was ERCP recommended to him over continu...   \n",
       "3  \\nWhy was ERCP recommended to him over continu...   \n",
       "4  \\nWhy was ERCP recommended to him over continu...   \n",
       "\n",
       "                                        note_excerpt  sentence_id  \\\n",
       "0  \\nBrief Hospital Course:\\n\\nDuring the ERCP a ...            0   \n",
       "1  \\nBrief Hospital Course:\\n\\nDuring the ERCP a ...            1   \n",
       "2  \\nBrief Hospital Course:\\n\\nDuring the ERCP a ...            2   \n",
       "3  \\nBrief Hospital Course:\\n\\nDuring the ERCP a ...            3   \n",
       "4  \\nBrief Hospital Course:\\n\\nDuring the ERCP a ...            4   \n",
       "\n",
       "                                       sentence_text paragraph_id  \\\n",
       "0             \\nBrief Hospital Course:\\n                        0   \n",
       "1  \\nDuring the ERCP a pancreatic stent was requi...            1   \n",
       "2  \\nHowever, due to the patient's elevated INR, ...            1   \n",
       "3  \\nFrank pus was noted to be draining\\nfrom the...            1   \n",
       "4  \\nThe\\nVancomycin was discontinued.\\n                        1   \n",
       "\n",
       "  start_char_index length     relevance   document_id document_source  \n",
       "0                0     22  not-relevant  179164_41762       mimic-iii  \n",
       "1                0    243     essential  179164_41762       mimic-iii  \n",
       "2              244     93  not-relevant  179164_41762       mimic-iii  \n",
       "3              338    151  not-relevant  179164_41762       mimic-iii  \n",
       "4              490     32  not-relevant  179164_41762       mimic-iii  "
      ]
     },
     "execution_count": 15,
     "metadata": {},
     "output_type": "execute_result"
    }
   ],
   "source": [
    "all_df.head()"
   ]
  },
  {
   "cell_type": "markdown",
   "metadata": {},
   "source": [
    "# Data View"
   ]
  },
  {
   "cell_type": "markdown",
   "metadata": {},
   "source": [
    "Routine check for missing values"
   ]
  },
  {
   "cell_type": "code",
   "execution_count": 16,
   "metadata": {
    "collapsed": false,
    "jupyter": {
     "outputs_hidden": false
    },
    "tags": []
   },
   "outputs": [
    {
     "data": {
      "text/plain": [
       "case_id               0\n",
       "patient_narrative     0\n",
       "patient_question      0\n",
       "clinician_question    0\n",
       "note_excerpt          0\n",
       "sentence_id           0\n",
       "sentence_text         0\n",
       "paragraph_id          0\n",
       "start_char_index      0\n",
       "length                0\n",
       "relevance             0\n",
       "document_id           0\n",
       "document_source       0\n",
       "dtype: int64"
      ]
     },
     "execution_count": 16,
     "metadata": {},
     "output_type": "execute_result"
    }
   ],
   "source": [
    "all_df.isna().sum()"
   ]
  },
  {
   "cell_type": "markdown",
   "metadata": {},
   "source": [
    "List categories of relevance"
   ]
  },
  {
   "cell_type": "code",
   "execution_count": 17,
   "metadata": {
    "collapsed": false,
    "jupyter": {
     "outputs_hidden": false
    },
    "tags": []
   },
   "outputs": [
    {
     "data": {
      "text/plain": [
       "relevance\n",
       "not-relevant     239\n",
       "essential        138\n",
       "supplementary     51\n",
       "Name: count, dtype: int64"
      ]
     },
     "execution_count": 17,
     "metadata": {},
     "output_type": "execute_result"
    }
   ],
   "source": [
    "all_df[\"relevance\"].value_counts()"
   ]
  },
  {
   "cell_type": "markdown",
   "metadata": {},
   "source": [
    "List distribution of different documents"
   ]
  },
  {
   "cell_type": "code",
   "execution_count": 18,
   "metadata": {
    "collapsed": false,
    "jupyter": {
     "outputs_hidden": false
    },
    "tags": []
   },
   "outputs": [
    {
     "data": {
      "text/plain": [
       "document_id\n",
       "169976_23897    54\n",
       "26520572        38\n",
       "100035_41331    32\n",
       "137866_53960    30\n",
       "22086761        30\n",
       "22805349        27\n",
       "104041_30389    25\n",
       "190179_39908    23\n",
       "23831520        23\n",
       "139801_38724    21\n",
       "180932_37135    21\n",
       "20746225        18\n",
       "25926743        14\n",
       "21866822        12\n",
       "27422858        12\n",
       "191708_35669    11\n",
       "132786_42206    10\n",
       "179164_41762     9\n",
       "20361094         9\n",
       "22494097         9\n",
       "Name: count, dtype: int64"
      ]
     },
     "execution_count": 18,
     "metadata": {},
     "output_type": "execute_result"
    }
   ],
   "source": [
    "all_df[\"document_id\"].value_counts()"
   ]
  },
  {
   "cell_type": "code",
   "execution_count": 19,
   "metadata": {
    "collapsed": false,
    "jupyter": {
     "outputs_hidden": false
    },
    "tags": []
   },
   "outputs": [],
   "source": [
    "observation = all_df.iloc[0]"
   ]
  },
  {
   "cell_type": "code",
   "execution_count": 20,
   "metadata": {
    "collapsed": false,
    "jupyter": {
     "outputs_hidden": false
    },
    "tags": []
   },
   "outputs": [
    {
     "data": {
      "text/plain": [
       "case_id                                                               1\n",
       "patient_narrative     \\nI had severe abdomen pain and was hospitalis...\n",
       "patient_question      \\nMy question is if the sludge was there does ...\n",
       "clinician_question    \\nWhy was ERCP recommended to him over continu...\n",
       "note_excerpt          \\nBrief Hospital Course:\\n\\nDuring the ERCP a ...\n",
       "sentence_id                                                           0\n",
       "sentence_text                    \\nBrief Hospital Course:\\n            \n",
       "paragraph_id                                                          0\n",
       "start_char_index                                                      0\n",
       "length                                                               22\n",
       "relevance                                                  not-relevant\n",
       "document_id                                                179164_41762\n",
       "document_source                                               mimic-iii\n",
       "Name: 0, dtype: object"
      ]
     },
     "execution_count": 20,
     "metadata": {},
     "output_type": "execute_result"
    }
   ],
   "source": [
    "observation"
   ]
  },
  {
   "cell_type": "code",
   "execution_count": 21,
   "metadata": {
    "collapsed": false,
    "jupyter": {
     "outputs_hidden": false
    },
    "tags": []
   },
   "outputs": [
    {
     "data": {
      "text/plain": [
       "'\\nI had severe abdomen pain and was hospitalised for 15 days in ICU, diagnoised with CBD sludge thereafter on udiliv. Doctor advised for ERCP. My question is if the sludge was there does not the medication help in flushing it out? Whether ERCP was the only cure?\\n        '"
      ]
     },
     "execution_count": 21,
     "metadata": {},
     "output_type": "execute_result"
    }
   ],
   "source": [
    "observation.patient_narrative"
   ]
  },
  {
   "cell_type": "code",
   "execution_count": 22,
   "metadata": {
    "collapsed": false,
    "jupyter": {
     "outputs_hidden": false
    },
    "tags": []
   },
   "outputs": [
    {
     "data": {
      "text/plain": [
       "'\\nMy question is if the sludge was there does not the medication help in flushing it out? Whether ERCP was the only cure?\\n            '"
      ]
     },
     "execution_count": 22,
     "metadata": {},
     "output_type": "execute_result"
    }
   ],
   "source": [
    "observation.patient_question"
   ]
  },
  {
   "cell_type": "code",
   "execution_count": 23,
   "metadata": {
    "collapsed": false,
    "jupyter": {
     "outputs_hidden": false
    },
    "tags": []
   },
   "outputs": [
    {
     "data": {
      "text/plain": [
       "'\\nWhy was ERCP recommended to him over continuing a medication-based treatment?\\n        '"
      ]
     },
     "execution_count": 23,
     "metadata": {},
     "output_type": "execute_result"
    }
   ],
   "source": [
    "observation.clinician_question"
   ]
  },
  {
   "cell_type": "code",
   "execution_count": 24,
   "metadata": {
    "collapsed": false,
    "jupyter": {
     "outputs_hidden": false
    },
    "tags": []
   },
   "outputs": [
    {
     "data": {
      "text/plain": [
       "\"\\nBrief Hospital Course:\\n\\nDuring the ERCP a pancreatic stent was required to facilitate\\naccess to the biliary system (removed at the end of the\\nprocedure), and a common bile duct stent was placed to allow\\ndrainage of the biliary obstruction caused by stones and sludge.\\nHowever, due to the patient's elevated INR, no sphincterotomy or\\nstone removal was performed. Frank pus was noted to be draining\\nfrom the common bile duct, and post-ERCP it was recommended that\\nthe patient remain on IV Zosyn for at least a week. The\\nVancomycin was discontinued.\\n\\nOn hospital day 4 (post-procedure day 3) the patient returned to\\nERCP for re-evaluation of her biliary stent as her LFTs and\\nbilirubin continued an upward trend. On ERCP the previous\\nbiliary stent was noted to be acutely obstructed by biliary\\nsludge and stones. As the patient's INR was normalized to 1.2, a\\nsphincterotomy was safely performed, with removal of several\\nbiliary stones in addition to the common bile duct stent. At the\\nconclusion of the procedure, retrograde cholangiogram was\\nnegative for filling defects.\\n        \""
      ]
     },
     "execution_count": 24,
     "metadata": {},
     "output_type": "execute_result"
    }
   ],
   "source": [
    "observation.note_excerpt"
   ]
  },
  {
   "cell_type": "code",
   "execution_count": 25,
   "metadata": {
    "collapsed": false,
    "jupyter": {
     "outputs_hidden": false
    },
    "tags": []
   },
   "outputs": [
    {
     "data": {
      "text/plain": [
       "'\\nBrief Hospital Course:\\n            '"
      ]
     },
     "execution_count": 25,
     "metadata": {},
     "output_type": "execute_result"
    }
   ],
   "source": [
    "observation.sentence_text"
   ]
  },
  {
   "cell_type": "markdown",
   "metadata": {},
   "source": [
    "# Data Cleaning"
   ]
  },
  {
   "cell_type": "markdown",
   "metadata": {},
   "source": [
    "**We apply:**\n",
    "\n",
    "- Lowercasing\n",
    "- Removing extra newlines & whitespace\n",
    "- Unicode normalization\n",
    "- Removing punctuation"
   ]
  },
  {
   "cell_type": "markdown",
   "metadata": {},
   "source": [
    "Convert text to lowercase"
   ]
  },
  {
   "cell_type": "code",
   "execution_count": 26,
   "metadata": {
    "collapsed": false,
    "jupyter": {
     "outputs_hidden": false
    },
    "tags": []
   },
   "outputs": [],
   "source": [
    "text_columns = [\"patient_narrative\", \"patient_question\", \"clinician_question\", \"note_excerpt\", \"sentence_text\"]"
   ]
  },
  {
   "cell_type": "code",
   "execution_count": 27,
   "metadata": {
    "tags": []
   },
   "outputs": [],
   "source": [
    "cleaned_data = util.clean_text_df(all_df, text_columns)"
   ]
  },
  {
   "cell_type": "code",
   "execution_count": 28,
   "metadata": {
    "tags": []
   },
   "outputs": [
    {
     "data": {
      "text/html": [
       "<div>\n",
       "<style scoped>\n",
       "    .dataframe tbody tr th:only-of-type {\n",
       "        vertical-align: middle;\n",
       "    }\n",
       "\n",
       "    .dataframe tbody tr th {\n",
       "        vertical-align: top;\n",
       "    }\n",
       "\n",
       "    .dataframe thead th {\n",
       "        text-align: right;\n",
       "    }\n",
       "</style>\n",
       "<table border=\"1\" class=\"dataframe\">\n",
       "  <thead>\n",
       "    <tr style=\"text-align: right;\">\n",
       "      <th></th>\n",
       "      <th>case_id</th>\n",
       "      <th>patient_narrative</th>\n",
       "      <th>patient_question</th>\n",
       "      <th>clinician_question</th>\n",
       "      <th>note_excerpt</th>\n",
       "      <th>sentence_id</th>\n",
       "      <th>sentence_text</th>\n",
       "      <th>paragraph_id</th>\n",
       "      <th>start_char_index</th>\n",
       "      <th>length</th>\n",
       "      <th>relevance</th>\n",
       "      <th>document_id</th>\n",
       "      <th>document_source</th>\n",
       "    </tr>\n",
       "  </thead>\n",
       "  <tbody>\n",
       "    <tr>\n",
       "      <th>0</th>\n",
       "      <td>1</td>\n",
       "      <td>i had severe abdomen pain and was hospitalised...</td>\n",
       "      <td>my question is if the sludge was there does no...</td>\n",
       "      <td>why was ercp recommended to him over continuin...</td>\n",
       "      <td>brief hospital course during the ercp a pancre...</td>\n",
       "      <td>0</td>\n",
       "      <td>brief hospital course</td>\n",
       "      <td>0</td>\n",
       "      <td>0</td>\n",
       "      <td>22</td>\n",
       "      <td>not-relevant</td>\n",
       "      <td>179164_41762</td>\n",
       "      <td>mimic-iii</td>\n",
       "    </tr>\n",
       "    <tr>\n",
       "      <th>1</th>\n",
       "      <td>1</td>\n",
       "      <td>i had severe abdomen pain and was hospitalised...</td>\n",
       "      <td>my question is if the sludge was there does no...</td>\n",
       "      <td>why was ercp recommended to him over continuin...</td>\n",
       "      <td>brief hospital course during the ercp a pancre...</td>\n",
       "      <td>1</td>\n",
       "      <td>during the ercp a pancreatic stent was require...</td>\n",
       "      <td>1</td>\n",
       "      <td>0</td>\n",
       "      <td>243</td>\n",
       "      <td>essential</td>\n",
       "      <td>179164_41762</td>\n",
       "      <td>mimic-iii</td>\n",
       "    </tr>\n",
       "    <tr>\n",
       "      <th>2</th>\n",
       "      <td>1</td>\n",
       "      <td>i had severe abdomen pain and was hospitalised...</td>\n",
       "      <td>my question is if the sludge was there does no...</td>\n",
       "      <td>why was ercp recommended to him over continuin...</td>\n",
       "      <td>brief hospital course during the ercp a pancre...</td>\n",
       "      <td>2</td>\n",
       "      <td>however due to the patients elevated inr no sp...</td>\n",
       "      <td>1</td>\n",
       "      <td>244</td>\n",
       "      <td>93</td>\n",
       "      <td>not-relevant</td>\n",
       "      <td>179164_41762</td>\n",
       "      <td>mimic-iii</td>\n",
       "    </tr>\n",
       "    <tr>\n",
       "      <th>3</th>\n",
       "      <td>1</td>\n",
       "      <td>i had severe abdomen pain and was hospitalised...</td>\n",
       "      <td>my question is if the sludge was there does no...</td>\n",
       "      <td>why was ercp recommended to him over continuin...</td>\n",
       "      <td>brief hospital course during the ercp a pancre...</td>\n",
       "      <td>3</td>\n",
       "      <td>frank pus was noted to be draining from the co...</td>\n",
       "      <td>1</td>\n",
       "      <td>338</td>\n",
       "      <td>151</td>\n",
       "      <td>not-relevant</td>\n",
       "      <td>179164_41762</td>\n",
       "      <td>mimic-iii</td>\n",
       "    </tr>\n",
       "    <tr>\n",
       "      <th>4</th>\n",
       "      <td>1</td>\n",
       "      <td>i had severe abdomen pain and was hospitalised...</td>\n",
       "      <td>my question is if the sludge was there does no...</td>\n",
       "      <td>why was ercp recommended to him over continuin...</td>\n",
       "      <td>brief hospital course during the ercp a pancre...</td>\n",
       "      <td>4</td>\n",
       "      <td>the vancomycin was discontinued</td>\n",
       "      <td>1</td>\n",
       "      <td>490</td>\n",
       "      <td>32</td>\n",
       "      <td>not-relevant</td>\n",
       "      <td>179164_41762</td>\n",
       "      <td>mimic-iii</td>\n",
       "    </tr>\n",
       "  </tbody>\n",
       "</table>\n",
       "</div>"
      ],
      "text/plain": [
       "   case_id                                  patient_narrative  \\\n",
       "0        1  i had severe abdomen pain and was hospitalised...   \n",
       "1        1  i had severe abdomen pain and was hospitalised...   \n",
       "2        1  i had severe abdomen pain and was hospitalised...   \n",
       "3        1  i had severe abdomen pain and was hospitalised...   \n",
       "4        1  i had severe abdomen pain and was hospitalised...   \n",
       "\n",
       "                                    patient_question  \\\n",
       "0  my question is if the sludge was there does no...   \n",
       "1  my question is if the sludge was there does no...   \n",
       "2  my question is if the sludge was there does no...   \n",
       "3  my question is if the sludge was there does no...   \n",
       "4  my question is if the sludge was there does no...   \n",
       "\n",
       "                                  clinician_question  \\\n",
       "0  why was ercp recommended to him over continuin...   \n",
       "1  why was ercp recommended to him over continuin...   \n",
       "2  why was ercp recommended to him over continuin...   \n",
       "3  why was ercp recommended to him over continuin...   \n",
       "4  why was ercp recommended to him over continuin...   \n",
       "\n",
       "                                        note_excerpt  sentence_id  \\\n",
       "0  brief hospital course during the ercp a pancre...            0   \n",
       "1  brief hospital course during the ercp a pancre...            1   \n",
       "2  brief hospital course during the ercp a pancre...            2   \n",
       "3  brief hospital course during the ercp a pancre...            3   \n",
       "4  brief hospital course during the ercp a pancre...            4   \n",
       "\n",
       "                                       sentence_text paragraph_id  \\\n",
       "0                              brief hospital course            0   \n",
       "1  during the ercp a pancreatic stent was require...            1   \n",
       "2  however due to the patients elevated inr no sp...            1   \n",
       "3  frank pus was noted to be draining from the co...            1   \n",
       "4                    the vancomycin was discontinued            1   \n",
       "\n",
       "  start_char_index length     relevance   document_id document_source  \n",
       "0                0     22  not-relevant  179164_41762       mimic-iii  \n",
       "1                0    243     essential  179164_41762       mimic-iii  \n",
       "2              244     93  not-relevant  179164_41762       mimic-iii  \n",
       "3              338    151  not-relevant  179164_41762       mimic-iii  \n",
       "4              490     32  not-relevant  179164_41762       mimic-iii  "
      ]
     },
     "execution_count": 28,
     "metadata": {},
     "output_type": "execute_result"
    }
   ],
   "source": [
    "cleaned_data.head()"
   ]
  },
  {
   "cell_type": "markdown",
   "metadata": {},
   "source": [
    "Save the processed data (using csv instead of pickle for now since dataset is fairly small)"
   ]
  },
  {
   "cell_type": "markdown",
   "metadata": {},
   "source": [
    "# Attribute Selection "
   ]
  },
  {
   "cell_type": "code",
   "execution_count": 29,
   "metadata": {
    "tags": []
   },
   "outputs": [],
   "source": [
    "relevant_columns = [\"case_id\", \"patient_question\", \"note_excerpt\", \"sentence_id\", \"sentence_text\", \"relevance\", \"start_char_index\", \"length\"]"
   ]
  },
  {
   "cell_type": "code",
   "execution_count": 30,
   "metadata": {
    "tags": []
   },
   "outputs": [],
   "source": [
    "data = cleaned_data[relevant_columns]"
   ]
  },
  {
   "cell_type": "code",
   "execution_count": 31,
   "metadata": {
    "tags": []
   },
   "outputs": [
    {
     "data": {
      "text/html": [
       "<div>\n",
       "<style scoped>\n",
       "    .dataframe tbody tr th:only-of-type {\n",
       "        vertical-align: middle;\n",
       "    }\n",
       "\n",
       "    .dataframe tbody tr th {\n",
       "        vertical-align: top;\n",
       "    }\n",
       "\n",
       "    .dataframe thead th {\n",
       "        text-align: right;\n",
       "    }\n",
       "</style>\n",
       "<table border=\"1\" class=\"dataframe\">\n",
       "  <thead>\n",
       "    <tr style=\"text-align: right;\">\n",
       "      <th></th>\n",
       "      <th>case_id</th>\n",
       "      <th>patient_question</th>\n",
       "      <th>note_excerpt</th>\n",
       "      <th>sentence_id</th>\n",
       "      <th>sentence_text</th>\n",
       "      <th>relevance</th>\n",
       "      <th>start_char_index</th>\n",
       "      <th>length</th>\n",
       "    </tr>\n",
       "  </thead>\n",
       "  <tbody>\n",
       "    <tr>\n",
       "      <th>0</th>\n",
       "      <td>1</td>\n",
       "      <td>my question is if the sludge was there does no...</td>\n",
       "      <td>brief hospital course during the ercp a pancre...</td>\n",
       "      <td>0</td>\n",
       "      <td>brief hospital course</td>\n",
       "      <td>not-relevant</td>\n",
       "      <td>0</td>\n",
       "      <td>22</td>\n",
       "    </tr>\n",
       "    <tr>\n",
       "      <th>1</th>\n",
       "      <td>1</td>\n",
       "      <td>my question is if the sludge was there does no...</td>\n",
       "      <td>brief hospital course during the ercp a pancre...</td>\n",
       "      <td>1</td>\n",
       "      <td>during the ercp a pancreatic stent was require...</td>\n",
       "      <td>essential</td>\n",
       "      <td>0</td>\n",
       "      <td>243</td>\n",
       "    </tr>\n",
       "    <tr>\n",
       "      <th>2</th>\n",
       "      <td>1</td>\n",
       "      <td>my question is if the sludge was there does no...</td>\n",
       "      <td>brief hospital course during the ercp a pancre...</td>\n",
       "      <td>2</td>\n",
       "      <td>however due to the patients elevated inr no sp...</td>\n",
       "      <td>not-relevant</td>\n",
       "      <td>244</td>\n",
       "      <td>93</td>\n",
       "    </tr>\n",
       "    <tr>\n",
       "      <th>3</th>\n",
       "      <td>1</td>\n",
       "      <td>my question is if the sludge was there does no...</td>\n",
       "      <td>brief hospital course during the ercp a pancre...</td>\n",
       "      <td>3</td>\n",
       "      <td>frank pus was noted to be draining from the co...</td>\n",
       "      <td>not-relevant</td>\n",
       "      <td>338</td>\n",
       "      <td>151</td>\n",
       "    </tr>\n",
       "    <tr>\n",
       "      <th>4</th>\n",
       "      <td>1</td>\n",
       "      <td>my question is if the sludge was there does no...</td>\n",
       "      <td>brief hospital course during the ercp a pancre...</td>\n",
       "      <td>4</td>\n",
       "      <td>the vancomycin was discontinued</td>\n",
       "      <td>not-relevant</td>\n",
       "      <td>490</td>\n",
       "      <td>32</td>\n",
       "    </tr>\n",
       "  </tbody>\n",
       "</table>\n",
       "</div>"
      ],
      "text/plain": [
       "   case_id                                   patient_question  \\\n",
       "0        1  my question is if the sludge was there does no...   \n",
       "1        1  my question is if the sludge was there does no...   \n",
       "2        1  my question is if the sludge was there does no...   \n",
       "3        1  my question is if the sludge was there does no...   \n",
       "4        1  my question is if the sludge was there does no...   \n",
       "\n",
       "                                        note_excerpt  sentence_id  \\\n",
       "0  brief hospital course during the ercp a pancre...            0   \n",
       "1  brief hospital course during the ercp a pancre...            1   \n",
       "2  brief hospital course during the ercp a pancre...            2   \n",
       "3  brief hospital course during the ercp a pancre...            3   \n",
       "4  brief hospital course during the ercp a pancre...            4   \n",
       "\n",
       "                                       sentence_text     relevance  \\\n",
       "0                              brief hospital course  not-relevant   \n",
       "1  during the ercp a pancreatic stent was require...     essential   \n",
       "2  however due to the patients elevated inr no sp...  not-relevant   \n",
       "3  frank pus was noted to be draining from the co...  not-relevant   \n",
       "4                    the vancomycin was discontinued  not-relevant   \n",
       "\n",
       "  start_char_index length  \n",
       "0                0     22  \n",
       "1                0    243  \n",
       "2              244     93  \n",
       "3              338    151  \n",
       "4              490     32  "
      ]
     },
     "execution_count": 31,
     "metadata": {},
     "output_type": "execute_result"
    }
   ],
   "source": [
    "data.head()"
   ]
  },
  {
   "cell_type": "code",
   "execution_count": 32,
   "metadata": {
    "collapsed": false,
    "jupyter": {
     "outputs_hidden": false
    },
    "pycharm": {
     "is_executing": true
    },
    "tags": []
   },
   "outputs": [
    {
     "name": "stdout",
     "output_type": "stream",
     "text": [
      "Cleaned dataset saved successfully!\n"
     ]
    }
   ],
   "source": [
    "data.to_csv(output_dir / \"medical_data.csv\", index=False)\n",
    "print(\"Cleaned dataset saved successfully!\")"
   ]
  },
  {
   "cell_type": "code",
   "execution_count": null,
   "metadata": {},
   "outputs": [],
   "source": []
  }
 ],
 "metadata": {
  "kernelspec": {
   "display_name": "Python 3 (ipykernel)",
   "language": "python",
   "name": "python3"
  },
  "language_info": {
   "codemirror_mode": {
    "name": "ipython",
    "version": 3
   },
   "file_extension": ".py",
   "mimetype": "text/x-python",
   "name": "python",
   "nbconvert_exporter": "python",
   "pygments_lexer": "ipython3",
   "version": "3.10.14"
  }
 },
 "nbformat": 4,
 "nbformat_minor": 4
}
