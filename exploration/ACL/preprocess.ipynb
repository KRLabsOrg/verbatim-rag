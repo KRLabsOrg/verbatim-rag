{
 "cells": [
  {
   "cell_type": "code",
   "execution_count": 1,
   "metadata": {
    "tags": []
   },
   "outputs": [],
   "source": [
    "%load_ext autoreload\n",
    "%autoreload 2"
   ]
  },
  {
   "cell_type": "code",
   "execution_count": 2,
   "metadata": {
    "collapsed": false,
    "jupyter": {
     "outputs_hidden": false
    },
    "tags": []
   },
   "outputs": [],
   "source": [
    "import re\n",
    "import json\n",
    "import unicodedata\n",
    "import pandas as pd\n",
    "from pathlib import Path\n",
    "import xml.etree.ElementTree as ET\n",
    "import seaborn as sns\n",
    "import matplotlib.pyplot as plt\n",
    "\n",
    "import sys\n",
    "sys.path.append(\"../../src\")\n",
    "import util.preprocessing_util as util"
   ]
  },
  {
   "cell_type": "code",
   "execution_count": 3,
   "metadata": {
    "collapsed": false,
    "jupyter": {
     "outputs_hidden": false
    },
    "tags": []
   },
   "outputs": [],
   "source": [
    "DATA_DIR = Path(\"../../data/dev\")\n",
    "input_dir = DATA_DIR / \"raw\"\n",
    "output_dir = DATA_DIR / \"processed\"\n",
    "data_file_name = \"archehr-qa.xml\"\n",
    "key_file_name = \"archehr-qa_key.json\"\n",
    "mapping_file_name = \"archehr-qa_mapping.json\""
   ]
  },
  {
   "cell_type": "markdown",
   "metadata": {},
   "source": [
    "# Extract & Organize"
   ]
  },
  {
   "cell_type": "markdown",
   "metadata": {},
   "source": [
    "**Key-File:**\n",
    "- Provides sentence-level answer annotations.\n",
    "- Labels answers as \"essential\" or \"not-relevant\"."
   ]
  },
  {
   "cell_type": "markdown",
   "metadata": {},
   "source": [
    "Load from json file"
   ]
  },
  {
   "cell_type": "code",
   "execution_count": 4,
   "metadata": {
    "collapsed": false,
    "jupyter": {
     "outputs_hidden": false
    },
    "tags": []
   },
   "outputs": [],
   "source": [
    "key_file_path = input_dir / key_file_name\n",
    "with open(key_file_path, \"r\") as f:\n",
    "    key_data = json.load(f)"
   ]
  },
  {
   "cell_type": "markdown",
   "metadata": {},
   "source": [
    "Convert to dataframe"
   ]
  },
  {
   "cell_type": "code",
   "execution_count": 5,
   "metadata": {
    "collapsed": false,
    "jupyter": {
     "outputs_hidden": false
    },
    "tags": []
   },
   "outputs": [],
   "source": [
    "structured_key_data = []\n",
    "\n",
    "for case in key_data:\n",
    "    case_id = case[\"case_id\"]\n",
    "    for answer in case[\"answers\"]:\n",
    "        structured_key_data.append({\n",
    "            \"case_id\": case_id,\n",
    "            \"sentence_id\": answer[\"sentence_id\"],\n",
    "            \"relevance\": answer[\"relevance\"]\n",
    "        })\n",
    "\n",
    "# Create Pandas DataFrame\n",
    "key_df = pd.DataFrame(structured_key_data)"
   ]
  },
  {
   "cell_type": "code",
   "execution_count": 6,
   "metadata": {
    "collapsed": false,
    "jupyter": {
     "outputs_hidden": false
    },
    "tags": []
   },
   "outputs": [
    {
     "data": {
      "text/html": [
       "<div>\n",
       "<style scoped>\n",
       "    .dataframe tbody tr th:only-of-type {\n",
       "        vertical-align: middle;\n",
       "    }\n",
       "\n",
       "    .dataframe tbody tr th {\n",
       "        vertical-align: top;\n",
       "    }\n",
       "\n",
       "    .dataframe thead th {\n",
       "        text-align: right;\n",
       "    }\n",
       "</style>\n",
       "<table border=\"1\" class=\"dataframe\">\n",
       "  <thead>\n",
       "    <tr style=\"text-align: right;\">\n",
       "      <th></th>\n",
       "      <th>case_id</th>\n",
       "      <th>sentence_id</th>\n",
       "      <th>relevance</th>\n",
       "    </tr>\n",
       "  </thead>\n",
       "  <tbody>\n",
       "    <tr>\n",
       "      <th>0</th>\n",
       "      <td>1</td>\n",
       "      <td>0</td>\n",
       "      <td>not-relevant</td>\n",
       "    </tr>\n",
       "    <tr>\n",
       "      <th>1</th>\n",
       "      <td>1</td>\n",
       "      <td>1</td>\n",
       "      <td>essential</td>\n",
       "    </tr>\n",
       "    <tr>\n",
       "      <th>2</th>\n",
       "      <td>1</td>\n",
       "      <td>2</td>\n",
       "      <td>not-relevant</td>\n",
       "    </tr>\n",
       "    <tr>\n",
       "      <th>3</th>\n",
       "      <td>1</td>\n",
       "      <td>3</td>\n",
       "      <td>not-relevant</td>\n",
       "    </tr>\n",
       "    <tr>\n",
       "      <th>4</th>\n",
       "      <td>1</td>\n",
       "      <td>4</td>\n",
       "      <td>not-relevant</td>\n",
       "    </tr>\n",
       "  </tbody>\n",
       "</table>\n",
       "</div>"
      ],
      "text/plain": [
       "  case_id sentence_id     relevance\n",
       "0       1           0  not-relevant\n",
       "1       1           1     essential\n",
       "2       1           2  not-relevant\n",
       "3       1           3  not-relevant\n",
       "4       1           4  not-relevant"
      ]
     },
     "execution_count": 6,
     "metadata": {},
     "output_type": "execute_result"
    }
   ],
   "source": [
    "key_df.head()"
   ]
  },
  {
   "cell_type": "markdown",
   "metadata": {},
   "source": [
    "**Mapping-File:**\n",
    "- Maps case IDs to specific documents from MIMIC-III.\n",
    "- Shows where the context for each question is located."
   ]
  },
  {
   "cell_type": "markdown",
   "metadata": {},
   "source": [
    "Load from json file"
   ]
  },
  {
   "cell_type": "code",
   "execution_count": 7,
   "metadata": {
    "collapsed": false,
    "jupyter": {
     "outputs_hidden": false
    },
    "tags": []
   },
   "outputs": [],
   "source": [
    "mapping_file_path = input_dir / mapping_file_name\n",
    "with open(mapping_file_path, \"r\") as f:\n",
    "    mapping_data = json.load(f)"
   ]
  },
  {
   "cell_type": "markdown",
   "metadata": {},
   "source": [
    "Convert to dataframe"
   ]
  },
  {
   "cell_type": "code",
   "execution_count": 8,
   "metadata": {
    "collapsed": false,
    "jupyter": {
     "outputs_hidden": false
    },
    "tags": []
   },
   "outputs": [],
   "source": [
    "structured_mapping_data = []\n",
    "\n",
    "for case in mapping_data:\n",
    "    structured_mapping_data.append({\n",
    "        \"case_id\": case[\"case_id\"],\n",
    "        \"document_id\": case[\"document_id\"],\n",
    "        \"document_source\": case[\"document_source\"]\n",
    "    })\n",
    "\n",
    "# Create Pandas DataFrame\n",
    "mapping_df = pd.DataFrame(structured_mapping_data)"
   ]
  },
  {
   "cell_type": "code",
   "execution_count": 9,
   "metadata": {
    "collapsed": false,
    "jupyter": {
     "outputs_hidden": false
    },
    "tags": []
   },
   "outputs": [
    {
     "data": {
      "text/html": [
       "<div>\n",
       "<style scoped>\n",
       "    .dataframe tbody tr th:only-of-type {\n",
       "        vertical-align: middle;\n",
       "    }\n",
       "\n",
       "    .dataframe tbody tr th {\n",
       "        vertical-align: top;\n",
       "    }\n",
       "\n",
       "    .dataframe thead th {\n",
       "        text-align: right;\n",
       "    }\n",
       "</style>\n",
       "<table border=\"1\" class=\"dataframe\">\n",
       "  <thead>\n",
       "    <tr style=\"text-align: right;\">\n",
       "      <th></th>\n",
       "      <th>case_id</th>\n",
       "      <th>document_id</th>\n",
       "      <th>document_source</th>\n",
       "    </tr>\n",
       "  </thead>\n",
       "  <tbody>\n",
       "    <tr>\n",
       "      <th>0</th>\n",
       "      <td>1</td>\n",
       "      <td>179164_41762</td>\n",
       "      <td>mimic-iii</td>\n",
       "    </tr>\n",
       "    <tr>\n",
       "      <th>1</th>\n",
       "      <td>2</td>\n",
       "      <td>191708_35669</td>\n",
       "      <td>mimic-iii</td>\n",
       "    </tr>\n",
       "    <tr>\n",
       "      <th>2</th>\n",
       "      <td>3</td>\n",
       "      <td>132786_42206</td>\n",
       "      <td>mimic-iii</td>\n",
       "    </tr>\n",
       "    <tr>\n",
       "      <th>3</th>\n",
       "      <td>4</td>\n",
       "      <td>180932_37135</td>\n",
       "      <td>mimic-iii</td>\n",
       "    </tr>\n",
       "    <tr>\n",
       "      <th>4</th>\n",
       "      <td>5</td>\n",
       "      <td>190179_39908</td>\n",
       "      <td>mimic-iii</td>\n",
       "    </tr>\n",
       "  </tbody>\n",
       "</table>\n",
       "</div>"
      ],
      "text/plain": [
       "  case_id   document_id document_source\n",
       "0       1  179164_41762       mimic-iii\n",
       "1       2  191708_35669       mimic-iii\n",
       "2       3  132786_42206       mimic-iii\n",
       "3       4  180932_37135       mimic-iii\n",
       "4       5  190179_39908       mimic-iii"
      ]
     },
     "execution_count": 9,
     "metadata": {},
     "output_type": "execute_result"
    }
   ],
   "source": [
    "mapping_df.head()"
   ]
  },
  {
   "cell_type": "markdown",
   "metadata": {},
   "source": [
    "**Train-set:**\n",
    "\n",
    "Contains cases with unique ids.\n",
    "Stores questions, associated clinical context"
   ]
  },
  {
   "cell_type": "markdown",
   "metadata": {},
   "source": [
    "Load from XML file"
   ]
  },
  {
   "cell_type": "code",
   "execution_count": 10,
   "metadata": {
    "collapsed": false,
    "jupyter": {
     "outputs_hidden": false
    },
    "tags": []
   },
   "outputs": [],
   "source": [
    "def parse_xml_to_dataframe(path_to_xml):\n",
    "    tree = ET.parse(path_to_xml)\n",
    "    root = tree.getroot()\n",
    "\n",
    "    structured_data = []\n",
    "\n",
    "    for case in root.findall(\"case\"):\n",
    "        case_id = case.attrib[\"id\"]\n",
    "\n",
    "        # Extract patient details\n",
    "        patient_narrative = case.find(\"patient_narrative\").text if case.find(\"patient_narrative\") is not None else \"No patient narrative\"\n",
    "        patient_question = case.find(\"patient_question/phrase\").text if case.find(\"patient_question/phrase\") is not None else \"No patient question\"\n",
    "        clinician_question = case.find(\"clinician_question\").text if case.find(\"clinician_question\") is not None else \"No clinician question\"\n",
    "\n",
    "        # Extract clinical note excerpts\n",
    "        note_excerpt = case.find(\"note_excerpt\").text if case.find(\"note_excerpt\") is not None else \"No note excerpt\"\n",
    "\n",
    "        # Extract sentence-level details from note excerpts\n",
    "        for sentence in case.findall(\"note_excerpt_sentences/sentence\"):\n",
    "            sentence_id = sentence.attrib[\"id\"]\n",
    "            paragraph_id = sentence.attrib[\"paragraph_id\"]\n",
    "            start_char_index = sentence.attrib[\"start_char_index\"]\n",
    "            length = sentence.attrib[\"length\"]\n",
    "            sentence_text = sentence.text if sentence.text is not None else \"No sentence text\"\n",
    "\n",
    "            structured_data.append({\n",
    "                \"case_id\": case_id,\n",
    "                \"patient_narrative\": patient_narrative,\n",
    "                \"patient_question\": patient_question,\n",
    "                \"clinician_question\": clinician_question,\n",
    "                \"note_excerpt\": note_excerpt,\n",
    "                \"sentence_id\": sentence_id,\n",
    "                \"sentence_text\": sentence_text,\n",
    "                \"paragraph_id\": paragraph_id,\n",
    "                \"start_char_index\": start_char_index,\n",
    "                \"length\": length\n",
    "            })\n",
    "\n",
    "    return pd.DataFrame(structured_data)"
   ]
  },
  {
   "cell_type": "code",
   "execution_count": 11,
   "metadata": {
    "collapsed": false,
    "jupyter": {
     "outputs_hidden": false
    },
    "tags": []
   },
   "outputs": [],
   "source": [
    "data_file_path = input_dir / data_file_name\n",
    "data_df = parse_xml_to_dataframe(data_file_path)"
   ]
  },
  {
   "cell_type": "markdown",
   "metadata": {},
   "source": [
    "Cast attributes to int for merging"
   ]
  },
  {
   "cell_type": "code",
   "execution_count": 12,
   "metadata": {
    "collapsed": false,
    "jupyter": {
     "outputs_hidden": false
    },
    "tags": []
   },
   "outputs": [],
   "source": [
    "data_df[\"case_id\"] = data_df[\"case_id\"].astype(int)\n",
    "data_df[\"sentence_id\"] = data_df[\"sentence_id\"].astype(int)\n",
    "key_df[\"case_id\"] = key_df[\"case_id\"].astype(int)\n",
    "key_df[\"sentence_id\"] = key_df[\"sentence_id\"].astype(int)\n",
    "mapping_df[\"case_id\"] = mapping_df[\"case_id\"].astype(int)"
   ]
  },
  {
   "cell_type": "markdown",
   "metadata": {},
   "source": [
    "Merge the dataframes into one"
   ]
  },
  {
   "cell_type": "code",
   "execution_count": 13,
   "metadata": {
    "collapsed": false,
    "jupyter": {
     "outputs_hidden": false
    },
    "tags": []
   },
   "outputs": [],
   "source": [
    "# Merge XML data with answer relevance labels\n",
    "temp_df = data_df.merge(key_df, on=[\"case_id\", \"sentence_id\"], how=\"left\")\n",
    "\n",
    "# Merge with document mapping\n",
    "all_df = temp_df.merge(mapping_df, on=\"case_id\", how=\"left\")"
   ]
  },
  {
   "cell_type": "code",
   "execution_count": 14,
   "metadata": {
    "tags": []
   },
   "outputs": [
    {
     "data": {
      "text/html": [
       "<div>\n",
       "<style scoped>\n",
       "    .dataframe tbody tr th:only-of-type {\n",
       "        vertical-align: middle;\n",
       "    }\n",
       "\n",
       "    .dataframe tbody tr th {\n",
       "        vertical-align: top;\n",
       "    }\n",
       "\n",
       "    .dataframe thead th {\n",
       "        text-align: right;\n",
       "    }\n",
       "</style>\n",
       "<table border=\"1\" class=\"dataframe\">\n",
       "  <thead>\n",
       "    <tr style=\"text-align: right;\">\n",
       "      <th></th>\n",
       "      <th>case_id</th>\n",
       "      <th>patient_narrative</th>\n",
       "      <th>patient_question</th>\n",
       "      <th>clinician_question</th>\n",
       "      <th>note_excerpt</th>\n",
       "      <th>sentence_id</th>\n",
       "      <th>sentence_text</th>\n",
       "      <th>paragraph_id</th>\n",
       "      <th>start_char_index</th>\n",
       "      <th>length</th>\n",
       "      <th>relevance</th>\n",
       "      <th>document_id</th>\n",
       "      <th>document_source</th>\n",
       "    </tr>\n",
       "  </thead>\n",
       "  <tbody>\n",
       "    <tr>\n",
       "      <th>0</th>\n",
       "      <td>1</td>\n",
       "      <td>\\nI had severe abdomen pain and was hospitalis...</td>\n",
       "      <td>\\nMy question is if the sludge was there does ...</td>\n",
       "      <td>\\nWhy was ERCP recommended to him over continu...</td>\n",
       "      <td>\\nBrief Hospital Course:\\n\\nDuring the ERCP a ...</td>\n",
       "      <td>0</td>\n",
       "      <td>\\nBrief Hospital Course:\\n</td>\n",
       "      <td>0</td>\n",
       "      <td>0</td>\n",
       "      <td>22</td>\n",
       "      <td>not-relevant</td>\n",
       "      <td>179164_41762</td>\n",
       "      <td>mimic-iii</td>\n",
       "    </tr>\n",
       "    <tr>\n",
       "      <th>1</th>\n",
       "      <td>1</td>\n",
       "      <td>\\nI had severe abdomen pain and was hospitalis...</td>\n",
       "      <td>\\nMy question is if the sludge was there does ...</td>\n",
       "      <td>\\nWhy was ERCP recommended to him over continu...</td>\n",
       "      <td>\\nBrief Hospital Course:\\n\\nDuring the ERCP a ...</td>\n",
       "      <td>1</td>\n",
       "      <td>\\nDuring the ERCP a pancreatic stent was requi...</td>\n",
       "      <td>1</td>\n",
       "      <td>0</td>\n",
       "      <td>243</td>\n",
       "      <td>essential</td>\n",
       "      <td>179164_41762</td>\n",
       "      <td>mimic-iii</td>\n",
       "    </tr>\n",
       "    <tr>\n",
       "      <th>2</th>\n",
       "      <td>1</td>\n",
       "      <td>\\nI had severe abdomen pain and was hospitalis...</td>\n",
       "      <td>\\nMy question is if the sludge was there does ...</td>\n",
       "      <td>\\nWhy was ERCP recommended to him over continu...</td>\n",
       "      <td>\\nBrief Hospital Course:\\n\\nDuring the ERCP a ...</td>\n",
       "      <td>2</td>\n",
       "      <td>\\nHowever, due to the patient's elevated INR, ...</td>\n",
       "      <td>1</td>\n",
       "      <td>244</td>\n",
       "      <td>93</td>\n",
       "      <td>not-relevant</td>\n",
       "      <td>179164_41762</td>\n",
       "      <td>mimic-iii</td>\n",
       "    </tr>\n",
       "    <tr>\n",
       "      <th>3</th>\n",
       "      <td>1</td>\n",
       "      <td>\\nI had severe abdomen pain and was hospitalis...</td>\n",
       "      <td>\\nMy question is if the sludge was there does ...</td>\n",
       "      <td>\\nWhy was ERCP recommended to him over continu...</td>\n",
       "      <td>\\nBrief Hospital Course:\\n\\nDuring the ERCP a ...</td>\n",
       "      <td>3</td>\n",
       "      <td>\\nFrank pus was noted to be draining\\nfrom the...</td>\n",
       "      <td>1</td>\n",
       "      <td>338</td>\n",
       "      <td>151</td>\n",
       "      <td>not-relevant</td>\n",
       "      <td>179164_41762</td>\n",
       "      <td>mimic-iii</td>\n",
       "    </tr>\n",
       "    <tr>\n",
       "      <th>4</th>\n",
       "      <td>1</td>\n",
       "      <td>\\nI had severe abdomen pain and was hospitalis...</td>\n",
       "      <td>\\nMy question is if the sludge was there does ...</td>\n",
       "      <td>\\nWhy was ERCP recommended to him over continu...</td>\n",
       "      <td>\\nBrief Hospital Course:\\n\\nDuring the ERCP a ...</td>\n",
       "      <td>4</td>\n",
       "      <td>\\nThe\\nVancomycin was discontinued.\\n</td>\n",
       "      <td>1</td>\n",
       "      <td>490</td>\n",
       "      <td>32</td>\n",
       "      <td>not-relevant</td>\n",
       "      <td>179164_41762</td>\n",
       "      <td>mimic-iii</td>\n",
       "    </tr>\n",
       "  </tbody>\n",
       "</table>\n",
       "</div>"
      ],
      "text/plain": [
       "   case_id                                  patient_narrative  \\\n",
       "0        1  \\nI had severe abdomen pain and was hospitalis...   \n",
       "1        1  \\nI had severe abdomen pain and was hospitalis...   \n",
       "2        1  \\nI had severe abdomen pain and was hospitalis...   \n",
       "3        1  \\nI had severe abdomen pain and was hospitalis...   \n",
       "4        1  \\nI had severe abdomen pain and was hospitalis...   \n",
       "\n",
       "                                    patient_question  \\\n",
       "0  \\nMy question is if the sludge was there does ...   \n",
       "1  \\nMy question is if the sludge was there does ...   \n",
       "2  \\nMy question is if the sludge was there does ...   \n",
       "3  \\nMy question is if the sludge was there does ...   \n",
       "4  \\nMy question is if the sludge was there does ...   \n",
       "\n",
       "                                  clinician_question  \\\n",
       "0  \\nWhy was ERCP recommended to him over continu...   \n",
       "1  \\nWhy was ERCP recommended to him over continu...   \n",
       "2  \\nWhy was ERCP recommended to him over continu...   \n",
       "3  \\nWhy was ERCP recommended to him over continu...   \n",
       "4  \\nWhy was ERCP recommended to him over continu...   \n",
       "\n",
       "                                        note_excerpt  sentence_id  \\\n",
       "0  \\nBrief Hospital Course:\\n\\nDuring the ERCP a ...            0   \n",
       "1  \\nBrief Hospital Course:\\n\\nDuring the ERCP a ...            1   \n",
       "2  \\nBrief Hospital Course:\\n\\nDuring the ERCP a ...            2   \n",
       "3  \\nBrief Hospital Course:\\n\\nDuring the ERCP a ...            3   \n",
       "4  \\nBrief Hospital Course:\\n\\nDuring the ERCP a ...            4   \n",
       "\n",
       "                                       sentence_text paragraph_id  \\\n",
       "0             \\nBrief Hospital Course:\\n                        0   \n",
       "1  \\nDuring the ERCP a pancreatic stent was requi...            1   \n",
       "2  \\nHowever, due to the patient's elevated INR, ...            1   \n",
       "3  \\nFrank pus was noted to be draining\\nfrom the...            1   \n",
       "4  \\nThe\\nVancomycin was discontinued.\\n                        1   \n",
       "\n",
       "  start_char_index length     relevance   document_id document_source  \n",
       "0                0     22  not-relevant  179164_41762       mimic-iii  \n",
       "1                0    243     essential  179164_41762       mimic-iii  \n",
       "2              244     93  not-relevant  179164_41762       mimic-iii  \n",
       "3              338    151  not-relevant  179164_41762       mimic-iii  \n",
       "4              490     32  not-relevant  179164_41762       mimic-iii  "
      ]
     },
     "execution_count": 14,
     "metadata": {},
     "output_type": "execute_result"
    }
   ],
   "source": [
    "all_df.head()"
   ]
  },
  {
   "cell_type": "code",
   "execution_count": 15,
   "metadata": {
    "tags": []
   },
   "outputs": [
    {
     "data": {
      "text/plain": [
       "\"\\nBrief Hospital Course:\\n\\nDuring the ERCP a pancreatic stent was required to facilitate\\naccess to the biliary system (removed at the end of the\\nprocedure), and a common bile duct stent was placed to allow\\ndrainage of the biliary obstruction caused by stones and sludge.\\nHowever, due to the patient's elevated INR, no sphincterotomy or\\nstone removal was performed. Frank pus was noted to be draining\\nfrom the common bile duct, and post-ERCP it was recommended that\\nthe patient remain on IV Zosyn for at least a week. The\\nVancomycin was discontinued.\\n\\nOn hospital day 4 (post-procedure day 3) the patient returned to\\nERCP for re-evaluation of her biliary stent as her LFTs and\\nbilirubin continued an upward trend. On ERCP the previous\\nbiliary stent was noted to be acutely obstructed by biliary\\nsludge and stones. As the patient's INR was normalized to 1.2, a\\nsphincterotomy was safely performed, with removal of several\\nbiliary stones in addition to the common bile duct stent. At the\\nconclusion of the procedure, retrograde cholangiogram was\\nnegative for filling defects.\\n        \""
      ]
     },
     "execution_count": 15,
     "metadata": {},
     "output_type": "execute_result"
    }
   ],
   "source": [
    "all_df.iloc[0].note_excerpt"
   ]
  },
  {
   "cell_type": "markdown",
   "metadata": {},
   "source": [
    "# Data View"
   ]
  },
  {
   "cell_type": "markdown",
   "metadata": {},
   "source": [
    "Routine check for missing values"
   ]
  },
  {
   "cell_type": "code",
   "execution_count": 16,
   "metadata": {
    "collapsed": false,
    "jupyter": {
     "outputs_hidden": false
    },
    "tags": []
   },
   "outputs": [
    {
     "data": {
      "text/plain": [
       "case_id               0\n",
       "patient_narrative     0\n",
       "patient_question      0\n",
       "clinician_question    0\n",
       "note_excerpt          0\n",
       "sentence_id           0\n",
       "sentence_text         0\n",
       "paragraph_id          0\n",
       "start_char_index      0\n",
       "length                0\n",
       "relevance             0\n",
       "document_id           0\n",
       "document_source       0\n",
       "dtype: int64"
      ]
     },
     "execution_count": 16,
     "metadata": {},
     "output_type": "execute_result"
    }
   ],
   "source": [
    "all_df.isna().sum()"
   ]
  },
  {
   "cell_type": "markdown",
   "metadata": {},
   "source": [
    "List categories of relevance"
   ]
  },
  {
   "cell_type": "code",
   "execution_count": 17,
   "metadata": {
    "collapsed": false,
    "jupyter": {
     "outputs_hidden": false
    },
    "tags": []
   },
   "outputs": [
    {
     "data": {
      "text/plain": [
       "relevance\n",
       "not-relevant     239\n",
       "essential        138\n",
       "supplementary     51\n",
       "Name: count, dtype: int64"
      ]
     },
     "execution_count": 17,
     "metadata": {},
     "output_type": "execute_result"
    }
   ],
   "source": [
    "all_df[\"relevance\"].value_counts()"
   ]
  },
  {
   "cell_type": "markdown",
   "metadata": {},
   "source": [
    "List distribution of different documents"
   ]
  },
  {
   "cell_type": "code",
   "execution_count": 18,
   "metadata": {
    "collapsed": false,
    "jupyter": {
     "outputs_hidden": false
    },
    "tags": []
   },
   "outputs": [
    {
     "data": {
      "text/plain": [
       "document_id\n",
       "169976_23897    54\n",
       "26520572        38\n",
       "100035_41331    32\n",
       "137866_53960    30\n",
       "22086761        30\n",
       "22805349        27\n",
       "104041_30389    25\n",
       "190179_39908    23\n",
       "23831520        23\n",
       "139801_38724    21\n",
       "180932_37135    21\n",
       "20746225        18\n",
       "25926743        14\n",
       "21866822        12\n",
       "27422858        12\n",
       "191708_35669    11\n",
       "132786_42206    10\n",
       "179164_41762     9\n",
       "20361094         9\n",
       "22494097         9\n",
       "Name: count, dtype: int64"
      ]
     },
     "execution_count": 18,
     "metadata": {},
     "output_type": "execute_result"
    }
   ],
   "source": [
    "all_df[\"document_id\"].value_counts()"
   ]
  },
  {
   "cell_type": "code",
   "execution_count": 19,
   "metadata": {
    "tags": []
   },
   "outputs": [],
   "source": [
    "test = all_df[\"note_excerpt\"].unique()"
   ]
  },
  {
   "cell_type": "code",
   "execution_count": 24,
   "metadata": {
    "tags": []
   },
   "outputs": [
    {
     "name": "stdout",
     "output_type": "stream",
     "text": [
      "\n",
      "Brief Hospital Course:\n",
      "\n",
      "During the ERCP a pancreatic stent was required to facilitate\n",
      "access to the biliary system (removed at the end of the\n",
      "procedure), and a common bile duct stent was placed to allow\n",
      "drainage of the biliary obstruction caused by stones and sludge.\n",
      "However, due to the patient's elevated INR, no sphincterotomy or\n",
      "stone removal was performed. Frank pus was noted to be draining\n",
      "from the common bile duct, and post-ERCP it was recommended that\n",
      "the patient remain on IV Zosyn for at least a week. The\n",
      "Vancomycin was discontinued.\n",
      "\n",
      "On hospital day 4 (post-procedure day 3) the patient returned to\n",
      "ERCP for re-evaluation of her biliary stent as her LFTs and\n",
      "bilirubin continued an upward trend. On ERCP the previous\n",
      "biliary stent was noted to be acutely obstructed by biliary\n",
      "sludge and stones. As the patient's INR was normalized to 1.2, a\n",
      "sphincterotomy was safely performed, with removal of several\n",
      "biliary stones in addition to the common bile duct stent. At the\n",
      "conclusion of the procedure, retrograde cholangiogram was\n",
      "negative for filling defects.\n",
      "        \n"
     ]
    }
   ],
   "source": [
    "print(test[0])"
   ]
  },
  {
   "cell_type": "code",
   "execution_count": 22,
   "metadata": {
    "tags": []
   },
   "outputs": [
    {
     "name": "stdout",
     "output_type": "stream",
     "text": [
      "\n",
      "Brief Hospital Course:\n",
      "\n",
      "During the ERCP a pancreatic stent was required to facilitate\n",
      "access to the biliary system (removed at the end of the\n",
      "procedure), and a common bile duct stent was placed to allow\n",
      "drainage of the biliary obstruction caused by stones and sludge.\n",
      "However, due to the patient's elevated INR, no sphincterotomy or\n",
      "stone removal was performed. Frank pus was noted to be draining\n",
      "from the common bile duct, and post-ERCP it was recommended that\n",
      "the patient remain on IV Zosyn for at least a week. The\n",
      "Vancomycin was discontinued.\n",
      "\n",
      "On hospital day 4 (post-procedure day 3) the patient returned to\n",
      "ERCP for re-evaluation of her biliary stent as her LFTs and\n",
      "bilirubin continued an upward trend. On ERCP the previous\n",
      "biliary stent was noted to be acutely obstructed by biliary\n",
      "sludge and stones. As the patient's INR was normalized to 1.2, a\n",
      "sphincterotomy was safely performed, with removal of several\n",
      "biliary stones in addition to the common bile duct stent. At the\n",
      "conclusion of the procedure, retrograde cholangiogram was\n",
      "negative for filling defects.\n",
      "        \n",
      "------------------------------------------------------------------------------------------------------------------------------------------------\n",
      "\n",
      "Brief Hospital Course:\n",
      "\n",
      "Acute diastolic heart failure: Pt developed signs and\n",
      "symptoms of volume overload on [**2201-3-8**] with shortness of breath,\n",
      "increased oxygen requirement and lower extremity edema. Echo\n",
      "showed preserved EF, no WMA and worsening AI. CHF most likely\n",
      "secondary to worsening valvular disease. He was diuresed with\n",
      "lasix IV, intermittently on lasix gtt then transitioned to PO\n",
      "torsemide with improvement in symptoms, although remained on a\n",
      "small amount of supplemental oxygen for comfort.\n",
      "\n",
      "Respiratory failure: The patient was intubated for lethargy\n",
      "and acidosis initially and was given 8 L on his presentation to\n",
      "help maintain his BP's.  This undoubtedly contributed to his\n",
      "continued hypoxemic respiratory failure.  He was advanced to\n",
      "pressure support with stable ventilation and oxygenation. On\n",
      "transfer to the CCU patient was still intubated but off\n",
      "pressors. Patient was extubated successfully.  He was\n",
      "reintubated [**2201-3-1**] transiently for 48 hours for urgent TEE and\n",
      "subsequently extubated without adverse effect or complication.\n",
      "        \n",
      "------------------------------------------------------------------------------------------------------------------------------------------------\n",
      "\n",
      "Discharge Instructions:\n",
      "You were admitted to the hospital after sustaining a trauamtic\n",
      "brain injury due to a fall. This injury did not require any\n",
      "operations. It was also noted on chest xray that there is an\n",
      "area of consolidation in your lung. The infectious Disease\n",
      "doctors [**First Name (Titles) **] [**Last Name (Titles) 4221**] for recommendations on antibiotic\n",
      "treatment.\n",
      "\n",
      "Because of your head injury you may experience some of the\n",
      "following symptoms: drowsiness, headaches, dizziness,\n",
      "irritability, short term memory loss - these are all normal and\n",
      "should decrease over the next\n",
      "several weeks. It is being strongly recommended that you follow\n",
      "up with Dr. [**First Name8 (NamePattern2) **] [**Last Name (NamePattern1) **] who is a doctor [**First Name (Titles) **] [**Last Name (Titles) 91506**]\n",
      "in trauamtic brain injuries. His contact information has been\n",
      "provided to you.\n",
      "\n",
      "Please report any:\n",
      "\n",
      "*fever\n",
      "*new onset sweats\n",
      "*chills\n",
      "*headaches\n",
      "*cough\n",
      "*difficulty breathing\n",
      "*yellow/green sputum\n",
      "*shortness of breath\n",
      "\n",
      "Please report any:\n",
      "*visual changes\n",
      "*weakness on one side of your body\n",
      "*speech difficulty\n",
      "        \n",
      "------------------------------------------------------------------------------------------------------------------------------------------------\n",
      "\n",
      "History of Present Illness:\n",
      "\n",
      "On the cardiology service his abdominal pain, nausea, vomitting\n",
      "was felt to be secondary to congestive hepatopathy, his cough\n",
      "due to CHF vs asthma, and his syncope was felt to be secondary\n",
      "to a coughing spell leading to increased intra-abdominal\n",
      "pressures and therefore reduced preload in the setting of\n",
      "low-output state. His ICD interrogation was negative for any\n",
      "events. He was aggressively diuresed with a net 10 liters\n",
      "negative since admission. He underwent RHC for milrinone trial,\n",
      "which proved to be successful. His mean PCW went from 30 to 22,\n",
      "and his Fick C.I. went from 1.72 to 2.79.\n",
      "\n",
      "Brief Hospital Course:\n",
      "48M with idiopathic dilated cardiomyopathy (EF 25%, on coumadin\n",
      "& s/p ICD placement), HTN, CKD (baseline Cr 1.3-1.6) & asthma\n",
      "who presents with syncope, found to be in acute-on-chronic heart\n",
      "failure.\n",
      "\n",
      "#) ACUTE-ON-CHRONIC SYSTOLIC HEART FAILURE\n",
      "Underlying exacerbation of chronic heart failure [**2-1**] known\n",
      "idiopathic cardiomyopathy likely explanation for numerous\n",
      "presenting symptoms including syncope, abdominal pain, and\n",
      "dyspnea. Last echo [**8-/2119**] showed LVEF = 25%. He was admitted in\n",
      "the setting of low output heart failure, leading to increased\n",
      "intra-abdominal pressures causing congestive\n",
      "hepatopathy/abdominal pain/RUQ tenderness. Abdominal distension\n",
      "also thought to contribute to syncope. Cardiac output and wedge\n",
      "pressure significantly improved after milrinone infusion. In the\n",
      "ICU he was maintained on milrinone at a rate of 0.5 mcg/hr and\n",
      "transferred to the floor on this stable dose. Torsemide 80mg\n",
      "daily was restarted; he was discharged on milrinone and\n",
      "torsemide. Heart failure specialists had honest discussions with\n",
      "the patient about his long-term prognosis; he will continue to\n",
      "be followed closely in heart failure clinic at [**Hospital1 18**] and will\n",
      "continue work-up for potential heart transplant at [**Hospital1 3278**]/[**Hospital1 336**].\n",
      "\n",
      "Discharge Instructions:\n",
      "\n",
      "You were admitted to the hospital with worsening heart failure.\n",
      "\n",
      "You had a cardiac catheterization that showed you would benefit\n",
      "from milrinone. You were started on a milrinone drip, with\n",
      "improvement in your heart's pump function. You were also\n",
      "diuresed for 6 liters of fluid.\n",
      "        \n",
      "------------------------------------------------------------------------------------------------------------------------------------------------\n",
      "\n",
      "Brief Hospital Course:\n",
      "\n",
      "# Bipolar d/o, PTSD, schizophrenia:  Psychiatry consult\n",
      "recommended that all psych medications be held until they could\n",
      "be re-prescribed by pt's outpatient psychiatrist.  During\n",
      "hospital course, thorazine was restarted but discontinued soon\n",
      "after because pt became tachycardic; pt remained asymptomatic\n",
      "during these episodes of tachycardia. Tachycardia resolved with\n",
      "discontinuation of thorazine, IV hydration, and small dose of IV\n",
      "benzodiazepene x 1. Social work consult was obtained because pt\n",
      "did not have a PCP nor did he have a psychiatrist.  He could not\n",
      "see his former psychiatrist due to insurance reasons.  With the\n",
      "help of social work, pt was set up with a PCP who would be able\n",
      "to refer him to a new psychiatrist in a timely fashion.  He was\n",
      "instructed to follow-up with his new psychiatrist to restart his\n",
      "psychiatric medications.\n",
      "\n",
      "# Chest pain: Pt complained of chest pain during hospital course\n",
      "that appeared musculoskeletal as it was reproducible with\n",
      "palpation and pt reported more pain with movement.  EKG showed\n",
      "no ischemic changes and troponins were flat x 4.  CK was\n",
      "elevated, peaking at 1405 but downtrended without any\n",
      "intervention.  TTE was obtained due to history of cocaine use to\n",
      "rule out cardiac events.  EF was >55%; TTE was unremarkable.  He\n",
      "was monitored on telemetry without significant events.\n",
      "\n",
      "Discharge Instructions:\n",
      "It was a pleasure taking care of you at the hospital.  You were\n",
      "admitted with confusion that was likely due to a combination of\n",
      "the medications you were taking and the street drugs that you\n",
      "may have also been used.  Your heart rhythm was monitored\n",
      "because many of these drugs can affect your heart.  Your EKG and\n",
      "blood tests showed that you likely did not have a heart attack.\n",
      "An ultrasound of your heart was also normal.  Your confusion\n",
      "cleared during your hospital stay.  You were seen by our\n",
      "psychiatry team who recommended holding all of your medications\n",
      "while you were in the hospital. It is very important that you\n",
      "follow-up with a primary care doctor who can refer you to a\n",
      "psychiatrist.  This psychiatrist can then prescribe to you the\n",
      "medications you were normally taking.\n",
      "        \n",
      "------------------------------------------------------------------------------------------------------------------------------------------------\n",
      "\n",
      "History of Present Illness:\n",
      "Mr. [**Known lastname 47367**] is a 58-year-old man with a history of AML s/p\n",
      "allogeneic transplant [**2142**] complicated by graft-versus-host\n",
      "disease, multiple vertebral fractures and ultimately development\n",
      "of paraplegia in the setting of a vertebral fracture during a\n",
      "code situation. Admitted multiple times, most recently [**8-/2148**]\n",
      "for bacteremia and upper resp infection (cx: staph epi) and\n",
      "completed a course of vancomcyin, aztreonam. Discharged from\n",
      "rehab and home (wheelchair bound) with recent clinic followup\n",
      "[**9-26**] noting baseline health.\n",
      "\n",
      "Pertinent Results:\n",
      "\n",
      "BLOOD/FUNGAL CULTURE (Preliminary):\n",
      "      [**Female First Name (un) **] (TORULOPSIS) GLABRATA.\n",
      "\n",
      "Brief Hospital Course:\n",
      "\n",
      "# Goals of care: After frequent discussions with family and\n",
      "physicians involved in the pt's case and gradual reduction in\n",
      "number of interventions performed, it was decided to transition\n",
      "to comfort measures only on [**10-12**]. The below medical treaments,\n",
      "lab draws, and imaging procedures were held. The pt was kept in\n",
      "IV morphine, tylenol, and ativan to keep comfortable. He died\n",
      "peacefully on the morning of [**2148-10-13**].\n",
      "\n",
      "# Pneumonia: Productive cough followed by somnolence in the\n",
      "setting of starting Ambien and Valium in addition to his home\n",
      "oxycontin. CXR with LLL consolidation. Sputum gram stain with\n",
      "GPCs in clusters, GPCs in pairs and chains and GNRs and yeast.\n",
      "Started on vanco, [**Last Name (un) 2830**] (day 1: [**9-30**]), mica (day 1: [**10-3**]) in\n",
      "consultation with ID. Due to worsening CXR, vanco was changed to\n",
      "linezolid (day 1: [**10-6**]) per ID recs. Also question of possible\n",
      "pulmonary congestion, so pt was started on IV lasix. On [**10-8**],\n",
      "the pt appeared to have worsening WBC and respiratory distress.\n",
      "He was started on ambisome and given a dose of tobramycin. The\n",
      "tobramycin was thereafter uptitrated with little effect.\n",
      "Antibiotics were continued despite little improvement.\n",
      "\n",
      "# Tachycardia: Continues to be in sinus tachycardia in the 130s.\n",
      "Initially in the 160s, but has improved with fluids. Likely\n",
      "multifactorial with PE, pain, hypovolemia, and withdrawal from\n",
      "opioids all contributing. He was given several doses of narcan\n",
      "at OSH and his home narcotics were initially held in the setting\n",
      "of hypotension. Morphine drip was started to relieve any pain\n",
      "without any improvement in tachycardia.\n",
      "        \n",
      "------------------------------------------------------------------------------------------------------------------------------------------------\n",
      "\n",
      "Brief Hospital Course:\n",
      "\n",
      "Neuro: Patient was followed by neurosurgery through out her\n",
      "stay. Due to the extent of hemorrhage, a CTA was obtained to\n",
      "determine if an aneurysm was present, but none were visualized.\n",
      "Her neurologic status gradually improved and she was weaned from\n",
      "sedation. Her GCS was 15, though intermittently agitated. Repeat\n",
      "Head CTA showed expected evolution of the SAH with no evidence\n",
      "of vasospasm or mass effect or midline shift. She also had\n",
      "unstable fractures of T10 and T11 confirmed by MRI. She was\n",
      "taken to the OR and underwent posterior fusion on [**2194-4-1**]\n",
      "without event.  Additionally, she had a C4 transverse process\n",
      "fracture with possible ligamentous injury; she had a [**Location (un) 2848**]-J\n",
      "collar which was to be remain in place until follow-up or\n",
      "re-evaluation by Spine surgery, which will be in 6 weeks after\n",
      "discharge on [**2194-4-21**].  She was also evaluated by neurosurgery for\n",
      "her SAH with recommendations to continue Keppra until at least\n",
      "follow-up. She did not demonstrate seizure activity during her\n",
      "hospitalization.\n",
      "\n",
      "Heme: Received one unit of blood each on [**4-17**] and [**4-11**].\n",
      "This was not due to concern for acute bleed but rather due to a\n",
      "slow drift downward.  She had an IVC filter placed on [**4-16**] as\n",
      "well. She has a history of DVT on coumadin, which was\n",
      "discontinued after filter placement. Her hematocrit remained\n",
      "stable between 22-23 for several days prior to discharge and did\n",
      "not require additional transfusions beyond [**2194-4-11**]. The patient\n",
      "has a PICC line in place with good placement confirmed on CXR.\n",
      "\n",
      "Discharge Instructions:\n",
      "\n",
      "You were on  Coumadin (Warfarin) before your injury, but you\n",
      "now have a filter in place to help prevent clots from returning\n",
      "to your heart. You will not have to continue your coumadin at\n",
      "this point.\n",
      "\n",
      "Due to prolonged bedrest and the risk of developing a blood\n",
      "clot, you received an 'IVC filter' to prevent clots from\n",
      "returning to your heart.\n",
      "\n",
      "Followup Instructions:\n",
      "\n",
      "For your subarachnoid hemorrhage:\n",
      "??????Please call ([**Telephone/Fax (1) 88**] to schedule an appointment with Dr.\n",
      "[**First Name (STitle) **], to be seen in four weeks.\n",
      "??????You will need a CT scan of the brain without contrast prior to\n",
      "your appointment. This can be scheduled when you call to make\n",
      "your office visit appointment.\n",
      "??????We recommend you see Dr [**First Name (STitle) **] in the Traumatic Brain Injury\n",
      "(TBI) clinic the phone number is [**Telephone/Fax (1) 6335**]. If you have any\n",
      "problems booking this appointment please ask for [**First Name8 (NamePattern2) 16367**] [**Last Name (NamePattern1) 16368**].\n",
      "        \n",
      "------------------------------------------------------------------------------------------------------------------------------------------------\n",
      "\n",
      "Brief Hospital Course:\n",
      "\n",
      "# Hyperbilirubinemia, ascites, edema, liver failure: The patient\n",
      "had known risk factors for EtOH hepatitis, and her previous\n",
      "elevation in LFTs was in the context of admitted EtOH use.\n",
      "However, given the lack of previous history, other causes were\n",
      "investigated.  Infectious hepatitis and AIH labs were negative.\n",
      "She was treated with albumin. EGD revealed 4 cords of Grade 2\n",
      "varices.  Started nadolol [**1-7**], but d/c [**1-8**] for\n",
      "bronchoconstriction.  Propranolol was then started on [**1-19**].  Her\n",
      "MELD score reduced to 16.  Diruesis was started to reduce\n",
      "ascites and peripheral edema.  Dobhoff feeding tube placed [**1-21**]\n",
      "for tube feeding given poor nutritional status.  This came out\n",
      "on [**1-23**] and was replaced after the patient could not maintain\n",
      "caloric intake.  Tube feeds continued at goal at the time of\n",
      "discharge.\n",
      "\n",
      "# Kidney injury:  Cr elevated at 2.2 on admission, last value\n",
      "0.8 in [**2099**].  Renal ultrasound no evidence of obstruction or\n",
      "hydronephrosis.  Repeat urine lytes showed that she was\n",
      "pre-renal with UNa < 10, FeNa 0.08%.  HRS was considered and\n",
      "treatment with albumin, octreotide and midodrine was initiated.\n",
      "A course of 5 days treatment did not improve renal function and\n",
      "these treatments were therefore discontinued.  Creatinine\n",
      "improved at the time of discharge to a stable value of ~1\n",
      "\n",
      "# Respiratory distress and MICU course:  On the night of [**1-9**],\n",
      "the patient spiked a temperature to 101 and developed a new\n",
      "oxygen requirement.  She was started on vanc/zosyn for hospital\n",
      "acquired pneumonia but continued to be tachypnic.  In the early\n",
      "morning of [**1-10**], patient became acutely hypoxic with crackles\n",
      "throughout her lung fields.  A CXR was consistent with flash\n",
      "pulmonary edema.  She was treated with IV diuresis and was\n",
      "transferred to the ICU for respiratory distress.\n",
      "Echocardiography was consistent with volume overload, but there\n",
      "was no clear precipitant for flash pulmonary edema.  The patient\n",
      "recovered rapidly with diuresis and was transferred back to the\n",
      "floor on [**1-11**].  The cardiology team was consulted and\n",
      "recommended outpatient follow-up to ensure resolution of right\n",
      "ventricular distension with appropriate diuresis.\n",
      "\n",
      "# Mania:  Patient had visual hallucination [**1-12**] overnight.\n",
      "[**Date range (1) 25386**] she became more manic, was not sleeping, and exhibited\n",
      "pressured speech and disorganized thoughts.  Psychiatry\n",
      "consultation was obtained.  She was diagnosed with a mania NOS\n",
      "and was treated with Haldol.  Other medications were not started\n",
      "in the context of liver failure.  She was initially subject to\n",
      "Section 12 for 3 days, however this was discontinued as her\n",
      "mental status normalized with treatment.  This will need\n",
      "outpatient follow-up. She needs intensive outpatient\n",
      "psychotherapy (potentially dual diagnosis facility) upon leaving\n",
      "LTAC.\n",
      "\n",
      "Transitional Issues:\n",
      "\n",
      "- Per Psychiatry:  In outpatient setting, could consider the\n",
      "following non-urgent\n",
      "recommendations.  1) Neuropsychological testing to determine\n",
      "whether or not there may be longterm cognitive deficits\n",
      "associated with ETOH abuse 2) consider cross-tapering Haldol to\n",
      "another medication with more mood-stabilizing properties (e.g.\n",
      "quetiapine)\n",
      "- Assess when able to change psychiatric meds based on LFTs\n",
      "\n",
      "Discharge Instructions:\n",
      "It was a pleasure taking care of you at [**Hospital1 827**].  You came to the hospital after being found to\n",
      "have jaundice.  You were found to have liver disease, causing\n",
      "jaundice, and kidney disease, causing fluid buildup throughout\n",
      "your body.  This was treated with hydration and medications that\n",
      "reduce toxin buildup.  Tests were performed to understand the\n",
      "extent of your disease.  You were determined to have cirrhosis\n",
      "(long term damage of your liver), likely due to alcohol intake.\n",
      "You were treated with diuretics to reduce the fluid overload in\n",
      "your body.\n",
      "\n",
      "An endoscopy revealed a duodenal ulcer that was thought to be\n",
      "the cause of some slow GI bleeding.  The ulcer was cauterized\n",
      "(burned) and you were treated with omeprazole.\n",
      "\n",
      "You had an episode of respiratory distress that led to a brief\n",
      "stay in our intensive care unit.  You were there overnight and\n",
      "responded well to medical treatment.  You then returned to the\n",
      "floor.\n",
      "\n",
      "You were found to have some aspects of mania during your stay.\n",
      "Our Psychiatry team worked with you and suggested treatment with\n",
      "Haldol.  They also suggested a stay in a psychiatric facility to\n",
      "help you gain control of this disease.\n",
      "        \n",
      "------------------------------------------------------------------------------------------------------------------------------------------------\n",
      "\n",
      "Brief Hospital Course:\n",
      "The patient was initially admitted to the obstetrics and\n",
      "gynecology service for an emergent CSection in the setting of\n",
      "fetal distress and discordant growth. Her procedure was\n",
      "complicated by massive blood loss of 1.7 liters\n",
      "intraoperatively. She did not require a hysterectomy for control\n",
      "of her bleeding, but was found to have elevated LFTs (AST250\n",
      "ALT291 AP350 TBili 10.6 and INR 3.6) as well as rising\n",
      "creatinine. She was resuscitated with multiple blood product (2\n",
      "pRBC, 2 FFP, 4L NS) and was taken to the ICU intubated for\n",
      "further recovery with a tentative diagnosis of fatty liver of\n",
      "pregnancy. During this time she continued to be coagulopathic\n",
      "with worsening LFTs, and large transfusion requirements. The\n",
      "Acute Care Surgery Service was consulted, at which point she was\n",
      "noted to have an extremely distended abdomen with bladder\n",
      "pressures greater than 50 mmHg. Her Cr had improved from her\n",
      "intraoperative values, but she continued to have a rising\n",
      "lactate (5.4), evidence of end organ dysfunction (hypotension)\n",
      "and rising peak inspiratory pressures. A diagnosis of abdominal\n",
      "compartment syndrome was made and the patient taken to the\n",
      "operating room for an emergent decompressive laparotomy. She was\n",
      "found to have multiple bleeding sources including a left\n",
      "epigastric artgery, and diffuse surface bleeding from the liver\n",
      "without evidence of laceration. Due to ongoing bleeding and the\n",
      "patient's coagulopathy the patient was left with an open abdomen\n",
      "with a plan for washout following aggressive resuscitation. She\n",
      "was diagnosed with fulminant hepatic failure and transferred to\n",
      "the transplant surgery team for further management. Because the\n",
      "patient remained intubated and sedated, and no neurological\n",
      "assessment could be made, a CT Head was obtained that\n",
      "demonstrated significant cerebral edema but no evidence of\n",
      "intracranial hemorrhage, herniation or ischemia. Neurosurgery\n",
      "was consulted and a bolt placed and management per the standard\n",
      "bolt protocol. On [**2-24**] (POD#2) the patient was taken to the OR\n",
      "for abdominal washout, but continued to have significant bowel\n",
      "wall edema that prevented abdominal closure. She also required\n",
      "CVVH due to acute kidney injury, which was initiation on POD 0.\n",
      "She was managed with the fulminant hepatic failure guidelines\n",
      "and was listed for liver transplantation, with all of her\n",
      "relevant serologies negative. On [**2-25**], the patient continued to\n",
      "demonstrate no significant neurological function and an MRI was\n",
      "obtained without evidence of acute injury. She continued to be\n",
      "hypotensive and required D10 to maintain a normal blood glucose.\n",
      "Endocrinology was consulted for concern of sheehans syndrome or\n",
      "centrally mediated adrenal insufficiency, and cortisol levels\n",
      "were obtained, and were low. The patient was given a steroid\n",
      "burst with hydrocortisone and weaned to maintainence levels over\n",
      "the next several days. On [**2-27**] (POD5) the patient was taken to\n",
      "the operating room for an uneventful abdominal closure, and this\n",
      "was performed without difficulty.\n",
      "        \n",
      "------------------------------------------------------------------------------------------------------------------------------------------------\n",
      "\n",
      "Brief Hospital Course:\n",
      "\n",
      "# PEA arrest and subsequent anoxic brain injury.: Suspect that\n",
      "original OSH PEA arrest due to hypoxemia or acidosis, with [**Hospital1 18**]\n",
      "ED PEA arrest due to acidosis with admission pH 7.16 on arrival.\n",
      " TTE with evidence of RV failure to suggest PE. LVEF 30% with\n",
      "known dilated cardiomyopathy. He was cooled per protocol.\n",
      "Initially, his EEG was concerning without evident brain\n",
      "activity. On hospital day 3, there was only comatose activity\n",
      "and his prognosis was guarded. However, the patient was able to\n",
      "be weaned off the vent and over the course of the next three\n",
      "days his mental status improved.  He was alert, oriented to\n",
      "place and day of the week and moving all 4 extremities.  He\n",
      "became more interactive on transfer to the floor, was initially\n",
      "speaking in spanish and English and not always making sense but\n",
      "then started responding more appropiately and following\n",
      "commands.  On hospital day 11 he had a witnessed grand mal\n",
      "seizure and was given ativan and started on Keppra with\n",
      "neurology consult.  His mental status was worse for 24 hours\n",
      "after the seizure but then he slowly returned to his recent\n",
      "baseline.  He was somewhat aggitated so his Keppra was switched\n",
      "to Topiramate. He had a subsequent seizure on [**3-18**] with LUE\n",
      "tonic clonic activity and impaired consciousness but this\n",
      "resolved spontaneously after 1-2 minutes. He was contineud on\n",
      "topamax per neuro recommendations. OT and PT were consulted and\n",
      "worked with the patient as he will likely require a long\n",
      "rehabilitation course.  At the time of discharge the patient was\n",
      "alert, oriented (though not always to date), following commands\n",
      "but impulsive with poor motor planning leading to several falls.\n",
      " Neurology notes indicate the patient has the potential\n",
      "toimprove from a neurologic standpoint. He also may have\n",
      "recurrent seizures which should be treated with ativan IV or IM\n",
      "and do not neccessarily indicate patient needs to return to\n",
      "hospital unless they continue for greater than 5 minutes or he\n",
      "has multiple recurrent seizures or complications such as\n",
      "aspiration.\n",
      "-patient will be on Topiramate 25mg PO BID until [**3-22**] PM then\n",
      "increase to 50mg po BID for seven days then increase to 75mg [**Hospital1 **]\n",
      "ongoing.\n",
      "-patient will follow up with Dr. [**Last Name (STitle) **] [**Name (STitle) **] in his s/p\n",
      "arrest neurology clinic\n",
      "-patient will require intensive PT and OT in an anoxic brain\n",
      "injury unit.\n",
      "\n",
      "Discharge Diagnosis:\n",
      "Anoxic Brain Injury s/p PEA arrest x2\n",
      "Status Asthmaticus\n",
      "Ventilator Associated Pneumonia\n",
      "Chronic Systolic Heart Failure\n",
      "L1 compression fracture\n",
      "Seizures after hypoxic brain injury\n",
      "\n",
      "\n",
      "Discharge Condition:\n",
      "Mental Status: Confused - sometimes.\n",
      "Level of Consciousness: Alert and interactive.\n",
      "Activity Status: Ambulatory - requires assistance or aid (walker\n",
      "or cane) because he has poor motor planning\n",
      "\n",
      "\n",
      "Discharge Instructions:\n",
      "You came to the hospital after having a cardiac arrest and an\n",
      "asthma exacerbation.  You had another cardiac arrest in our\n",
      "hospital and were admitted to the MICU.  You required intubation\n",
      "but were able to wean off the machine and breathe on your own.\n",
      "We treated you for pneumonia and asthma.  Your mental status\n",
      "slowly improved, though you did have 2 seizures, last on [**3-18**].\n",
      "You were started ons eizure medications for this.\n",
      "\n",
      "Please take your medications as prescribed and follow up with\n",
      "your doctors [**Name5 (PTitle) 7928**].\n",
      "        \n",
      "------------------------------------------------------------------------------------------------------------------------------------------------\n",
      "\n",
      "Brief Hospital Course:\n",
      "___ with h/o hypothyroidism secondary to Hashimoto's, Chiari \n",
      "malformation s/p posterior fossa decompression surgery ___, \n",
      "h/o aseptic meningitis ___ p/w meningitis\n",
      "\n",
      "# Meningitis: Pt. presented with headaches, neck stiffness, and \n",
      "fevers.  Given concern for meningitis, she was initially started \n",
      "on vanc/ctx/acyclovir. Encephalitis was unlikely as patient had \n",
      "normal mental status. ___ LP on ___ showed WBCs 130s \n",
      "(70% lymphocytes). CSF HSV PCR was negative, and her blood Lyme \n",
      "serologies were negative. It was concluded that she had aseptic \n",
      "meninigitis, and she was taken off all antibiotics and \n",
      "antivirals by discharge.   \n",
      "\n",
      "She received IV dilaudid 0.5mg, ibuprofen, and tylenol for pain \n",
      "control in the hospital. She was discharge home on PO dilaudid \n",
      "___ Q4H as needed.\n",
      "\n",
      "Discharge Medications:\n",
      "1. Levothyroxine Sodium 225 mcg PO DAILY \n",
      "2. Multivitamins 1 TAB PO DAILY \n",
      "3. HYDROmorphone (Dilaudid) ___ mg PO Q4H:PRN head pain \n",
      "Please take ___ mg as needed. Do not take more than 24mg each \n",
      "day.  \n",
      "RX *hydromorphone 2 mg ___ tablet(s) by mouth every 4 hours Disp \n",
      "#*24 Tablet Refills:*0\n",
      "4. Acetaminophen 650 mg PO Q6H:PRN pain \n",
      "Do not exceed 3gm/day. \n",
      "5. Ibuprofen 400 mg PO Q6H:PRN pain \n",
      "6. Ondansetron 4 mg PO Q8H:PRN nausea \n",
      "RX *ondansetron 4 mg 1 tablet(s) by mouth every 8 hours Disp \n",
      "#*12 Tablet Refills:*0\n",
      "\n",
      "Discharge Instructions:\n",
      "Dear ___,\n",
      "\n",
      "___ were admitted to the hospital for fevers and neck stiffness. \n",
      "___ were found to have meningitis, likely caused by a virus. We \n",
      "gave ___ acyclovir, vancomycin, and ceftriaxone initially. Your \n",
      "lab tests and lumbar puncture results ruled out bacterial, HSV, \n",
      "and Lyme meningitis. \n",
      "\n",
      "___ were started on a new medication, dilaudid, for pain \n",
      "control. ___ were also on zofran for nausea. ___ can use these \n",
      "medications as needed.  \n",
      "\n",
      "All of your medications are detailed in your discharge \n",
      "medication list. ___ should review this carefully and take it \n",
      "with ___ to any follow up appointments.\n",
      "        \n",
      "------------------------------------------------------------------------------------------------------------------------------------------------\n",
      "\n",
      "Discharge Instructions:\n",
      "\n",
      "WHY WAS I IN THE HOSPITAL?\n",
      " \n",
      "===========================\n",
      "- You had abdominal pain. \n",
      "- You also had chest pain. Your EKG and cardiac markers results \n",
      "did not show changes or signs of heart problems or blockages in \n",
      "your heart vessels.\n",
      "  \n",
      "WHAT HAPPENED IN THE HOSPITAL?\n",
      " \n",
      "==============================\n",
      "- Your abdominal pain was controlled with anti-nausea medicine \n",
      "and insulin\n",
      "- All tests were reassuring that your chest pain is not caused \n",
      "by problem with your heart vessels \n",
      "- Your chest pain was managed with nitroglycerin \n",
      " \n",
      "WHAT SHOULD I DO WHEN I GO HOME?\n",
      " \n",
      "================================\n",
      " \n",
      "- Follow up with your doctors regarding additional ___ for \n",
      "your abdominal pain\n",
      "- Take all medicines as prescribed\n",
      "        \n",
      "------------------------------------------------------------------------------------------------------------------------------------------------\n",
      "\n",
      "Brief Hospital Course:\n",
      "Patient admitted to the general neurology service. MRI of the T \n",
      "and L spine were obtained which showed stable degenerative disc \n",
      "disease without spinal cord compromise. On the morning following \n",
      "admission the patient was eager to leave the hospital. We \n",
      "explained that we would like her to be evaluated by physical \n",
      "therapy before discharge. She was informed that leaving the \n",
      "hospital may result in permanent paralysis. She expressed \n",
      "understanding of this risk and left the hospital against medical \n",
      "advice.\n",
      "\n",
      "Discharge Instructions:\n",
      "\n",
      "You were seen in the hospital for leg numbness and weakness.  We \n",
      "did an MRI of your middle and lower back but did not do one of \n",
      "your neck.  We wanted you to stay in the hospital for this and a \n",
      "physical therapy evaluation, but you decided to leave against \n",
      "medical advice.  We explained to you that this would put you at \n",
      "risk for permanent paralysis if you did not stay for an \n",
      "evaluation but you decided to leave despite understanding this \n",
      "risk.\n",
      "\n",
      "We did not change any of your medications.\n",
      "        \n",
      "------------------------------------------------------------------------------------------------------------------------------------------------\n",
      "\n",
      "Discharge Instructions:\n",
      "You were admitted to the hospital with a partial small bowel \n",
      "obstruction. With time, your obstruction dramatically improved \n",
      "and you were able to eat regular food. \n",
      "\n",
      "Constipation will worsen your symptoms. Unfortunately, you have \n",
      "trouble tolerating stool softeners and you get diarrhea very \n",
      "easily. Fiber is the most gentle treatment for constipation. \n",
      "Please take fiber supplements (Metamucil) twice daily. Consider \n",
      "also taking ___ each day if you can tolerate it, but start \n",
      "with a small dose (half a scoop).\n",
      "\n",
      "You will follow up with your oncologist (Dr. ___ for \n",
      "consideration of further treatment of your bladder cancer. You \n",
      "will also follow up with your gastroenterologist (Dr. ___.\n",
      "        \n",
      "------------------------------------------------------------------------------------------------------------------------------------------------\n",
      "\n",
      "Discharge Instructions:\n",
      "\n",
      "It was a pleasure to take care of you at the ___.  You came \n",
      "for further evaluation of penis and scrotum swelling.  Further \n",
      "evaluation revealed that you likely have a skin infection on the \n",
      "surface of the penis.  Antibiotics are being prescribed to help \n",
      "take care of this infection.  You will require close follow-up \n",
      "to confirm eradication of your infection.  It is important that \n",
      "you continue to take your medications as indicated.\n",
      "\n",
      "The following changes have been made to your medications:\n",
      "\n",
      "We ADDED Bactrim and Levofloxacin for treatment of your skin \n",
      "infection, which you should take until finished with the \n",
      "prescription.\n",
      "We ADDED emtricitabine-tenofovir and lopinavir-ritonavir for \n",
      "prophylaxis for possible HIV infection.  You will take this for \n",
      "a total 2-week course.  Your new provider at ___ will \n",
      "direct you further concerning this treatment.\n",
      "        \n",
      "------------------------------------------------------------------------------------------------------------------------------------------------\n",
      "\n",
      "Brief Hospital Course:\n",
      "\n",
      "ACUTE/ACTIVE PROBLEMS:\n",
      "# Chronic Abdominal pain with flare of nausea/vomiting:\n",
      "Patient with several year history of episodic severe epigastric \n",
      "abdominal pain, nausea, and vomiting with prior gastrointestinal \n",
      "evaluation unrevealing. The patient has had an abnormal gastric \n",
      "emptying study in the past, but most recently on ___ her \n",
      "gastric emptying was normal. Prior abdominal imaging with \n",
      "pancreatic divisum but no evidence of chronic pancreatitis. She \n",
      "complained of two distinct types of back pain, upper back pain \n",
      "thought possibly related to abdominal pain but unclear. Saw \n",
      "outpatient gastroenterologist on the day of presentation, who \n",
      "scheduled EUS to rule out pancreatic cause. Consulted advanced \n",
      "endoscopy team, and they felt that pancreas divisum would not be \n",
      "a likely cause of her pain. She had an unremarkable CT A/P with \n",
      "contrast and EUS which was unrevealing for a cause of abdominal \n",
      "pain, but did note fatty pancreas. Results discussed with \n",
      "outpatient GI provider, who felt her abdominal pain at this \n",
      "point may be referred or radiating from the spine and \n",
      "recommended outpatient pain consult and followup as scheduled. \n",
      "She initially required IV dilaudid and PO oxycodone for pain \n",
      "control, and says she takes oxycodone rarely at home for pain \n",
      "flares. Received IV -> PO antiemetics. She had no episodes of \n",
      "emesis. Pain and nausea improved and she was able to tolerate PO \n",
      "by discharge. She was started on IV Famotidine, which was \n",
      "transitioned to PO and continued on discharge, though she had no \n",
      "evidence of esophagitis/gastritis on EUS so this can probably be \n",
      "quickly discontinued if no apparent benefit. Ultimately still \n",
      "unclear why she is having such severe abdominal pain.\n",
      "\n",
      "# Chronic Mid back pain:\n",
      "She noted crampy bilateral mid-back pain which seemed to flare \n",
      "both with and without abdominal pain. Patient reports massaging \n",
      "her back for hours at home with some improvement. This pain \n",
      "seemed more consistent with muscle spasm and did not seem \n",
      "necessarily related to her abdominal pain. Trialed increased \n",
      "frequency of home flexeril with unclear benefit so resumed home \n",
      "dosing on discharge. Trialed lidocaine patch. If this is MSK \n",
      "type pain, weight loss may help, this was discussed with \n",
      "patient.\n",
      "\n",
      "CHRONIC/STABLE PROBLEMS:\n",
      "# ADD: Held Adderall, resumed on discharge\n",
      "\n",
      "# Anxiety: Held clonazepam, resumed on house\n",
      "\n",
      "TRANSITIONAL ISSUES:\n",
      "===================\n",
      "[] reevalute need for famotidine at followup and stop if not \n",
      "helping\n",
      "[] rx short course of oxycodone for continued pain control\n",
      "[] started standing acetaminophen for pain, if continuing longer \n",
      "than a few weeks, please monitor LFTs and renal function\n",
      "[] recommended outpatient pain consult and integrative medicine \n",
      "consult at ___, both discussed with patient and she is \n",
      "agreeable\n",
      "[] referral for outpatient ___ provided\n",
      "[] could consider starting gabapentin if not already trialed\n",
      "\n",
      "Discharge Instructions:\n",
      "\n",
      "You also had a lot of back pain. You had pictures taken of your \n",
      "back. You should see a physical therapist as an outpatient. You \n",
      "should also go to the pain clinic.\n",
      "\n",
      "You can take the oxycodone for a short time and follow up with \n",
      "Dr. ___.\n",
      "        \n",
      "------------------------------------------------------------------------------------------------------------------------------------------------\n",
      "\n",
      "Major Surgical or Invasive Procedure:\n",
      "Thyroidectomy to remove multinodular goiter, performed by ___ on \n",
      "___\n",
      "\n",
      "Brief Hospital Course:\n",
      "\n",
      "# Hypercarbic respiratory failure, multifactorial\n",
      "# Multi-Nodular Goiter\n",
      "# Obstructive sleep apnea, severe\n",
      "\n",
      "The patient has had severe obstructive sleep apnea diagnosed in \n",
      "___ for which he has been on various forms of PAP. He has \n",
      "a history of non-compliance with his CPAP. The patient lives in \n",
      "a group home due to his schizophrenia, where he was found \n",
      "almost completely unresponsive and was therefore brought to OSH \n",
      "where initial ABG resulted as 7.28/68. A CT scan revealed a \n",
      "large multi nodular thyroid with compression on the trachea, \n",
      "and the patient was transferred to ___ on ___ for further \n",
      "evaluation. The patient's hypercarbia at ___ was thought to be \n",
      "multifactorial: at baseline, he has longstanding severe OSA \n",
      "with CPAP non-compliance; his new multinodular goiter, which is \n",
      "compressing the trachea, is likely causing upper airway \n",
      "obstruction that is exacerbating the pt's hypoventilation. ENT, \n",
      "endocrinology, and sleep medicine consultants evaluated the \n",
      "goiter and recommended surgical removal given concern for \n",
      "obstruction due to tracheal compression as well as the \n",
      "potential for malignancy. An ultrasound was performed which \n",
      "confirmed multi-nodular anatomy of goiter with tracheal \n",
      "compression; no biopsy was taken as there was already planning \n",
      "to remove the thyroid. Importantly, all teams expressed to the \n",
      "patient that it would be unsafe to discharge the patient prior \n",
      "to surgery, as the patient would be at high risk to return from \n",
      "his group home with hypercarbic respiratory failure again, \n",
      "which has happened multiple times. After several family \n",
      "meetings, the patient and his mother (legal guardian) were in \n",
      "agreement that surgery would be indicated. On ___, the \n",
      "patient underwent thyroidectomy performed by ENT. Post-op he \n",
      "was transferred to the SICU, where he remained stable. He was \n",
      "subsequently transferred to the medical floor.\n",
      "\n",
      "# Subclinical Hyperthyroidism. TSH found to be 0.1 with normal \n",
      "T3/T4, free T4. This problem became irrelevant after the \n",
      "surgery, and endocrinology would like close follow up in the \n",
      "outpatient setting to manage hypothyroidism s/p thyroidectomy. \n",
      "He was started on levothyroxine.\n",
      "\n",
      "Discharge Medications:Medications:\n",
      "1.  Calcium Carbonate 1250 mg PO TID \n",
      "Please separate administration time from Levothyroxine by at \n",
      "least 4 hours. \n",
      "RX *calcium carbonate 500 mg calcium (1,250 mg) 1 tablet(s) by \n",
      "mouth three times a day Disp #*90 Tablet Refills:*0 \n",
      "2.  Levothyroxine Sodium 150 mcg PO DAILY \n",
      "Please separate administration from calcium by at least 4 hours. \n",
      "\n",
      "RX *levothyroxine 150 mcg 1 tablet(s) by mouth daily Disp #*30 \n",
      "Tablet Refills:*0 \n",
      "3.  OXcarbazepine 300 mg PO BID \n",
      "RX *oxcarbazepine 300 mg 1 tablet(s) by mouth twice a day Disp \n",
      "#*60 Tablet Refills:*0 \n",
      "4.  Vitamin D ___ UNIT PO 1X/WEEK (SA) \n",
      "RX *ergocalciferol (vitamin D2) 50,000 unit 1 capsule(s) by \n",
      "mouth once weekly Disp #*4 Capsule Refills:*0 \n",
      "5.  Fluphenazine 2.5 mg PO Q4H:PRN agitation/frank psychosis  \n",
      "6.  Clozapine 250 mg PO QHS  \n",
      "7.  Fluticasone Propionate 110mcg 2 PUFF IH BID  \n",
      "8.  Fluticasone Propionate NASAL 1 SPRY NU BID  \n",
      "9.  Omeprazole 20 mg PO DAILY  \n",
      "10.Outpatient Lab Work\n",
      "Diagnosis: Hypothyroidism E89.0\n",
      "Lab: TSH; Calcium; Magnesium; Phosphate; Albumin; Vitamin D 25 \n",
      "Hydroxy\n",
      "Date: ___\n",
      "Please fax to ___ at ___\n",
      "11.CPAP\n",
      "Auto-CPAP \"APAP\" at ___ anytime patient sleeps.\n",
      "\n",
      "Discharge Instructions:\n",
      "\n",
      "WHAT WE DID FOR YOU:\n",
      "\n",
      "- The Neurology doctors, Ears/Nose/Throat doctors, Endocrine \n",
      "doctors, Sleep doctors, and ___ Medicine doctors ___ \n",
      "recommended surgery to remove your thyroid goiter in order to \n",
      "improve your sleep apnea. The Ears/Nose/Throat doctors removed \n",
      "the ___ thyroid gland (goiter) from your neck. You tolerated \n",
      "the surgery well.\n",
      "\n",
      "WHAT YOU SHOULD DO WHEN YOU LEAVE:\n",
      "- Please follow up with the all your appointments as scheduled \n",
      "(PCP, ___, neurology, pulmonary, and ENT).\n",
      "- Please take your medications as prescribed in the discharge \n",
      "paperwork.\n",
      "- Make sure to have your labs checked one week prior to your \n",
      "endocrinology appointment; the results should be faxed to Dr. \n",
      "___ at ___.\n",
      "        \n",
      "------------------------------------------------------------------------------------------------------------------------------------------------\n",
      "\n",
      "Brief Hospital Course:\n",
      "The patient presented to Emergency Department on ___. Pt \n",
      "was evaluated by trauma team upon arrival to ED. Given findings, \n",
      "the patient was admitted for observation and advanced \n",
      "evaluation. There were no adverse events during his stay. \n",
      "\n",
      "Neuro: The patient was alert and oriented throughout \n",
      "hospitalization; pain was managed with oral medication. He was \n",
      "evaluated by neurology, who formulated the following A/P:\n",
      "___ right-handed male with Crohn's Disease on Prednisone\n",
      "and Humera who was transferred from ___ for further\n",
      "evaluation of a pulmonary contusion after a restrained MVC.  The\n",
      "exact sequence of events leading up to the car accident are\n",
      "difficult to verify given the pt's retrograde amnesia and that\n",
      "the pt's grandmother was sleeping in the car until she heard a\n",
      "loud \"bang\" just prior to the car leaving the road and crashing\n",
      "into the tree.  The pt is currently asymptomatic save some neck\n",
      "tension suggestive of a neck strain possibly secondary to whip\n",
      "lash, but he does not have any scalp hematoma nor any focal\n",
      "features on exam.  His attention, memory and cognitive exam are\n",
      "normal and does not have any asymmetries on exam.\n",
      "\n",
      "CV: The patient remained stable from a cardiovascular \n",
      "standpoint; vital signs were routinely monitored.\n",
      "\n",
      "Pulmonary: The patient remained stable from a pulmonary \n",
      "standpoint; vital signs were routinely monitored. \n",
      "\n",
      "GI/GU/FEN: The patient tolerated well a regular diet, he did not \n",
      "suffer abdominal pain, nausea or vomit during this admission. \n",
      "Patient's intake and output were closely monitored\n",
      "\n",
      "Occupational therapy evaluated the patient, he passed TBI \n",
      "screen, no concerns from OT standpoint, no services needed. OT \n",
      "agrees with discharge when medically cleared. \n",
      "\n",
      "At the time of discharge, the patient was doing well, afebrile \n",
      "and hemodynamically stable.  The patient was tolerating a diet, \n",
      "ambulating, voiding without assistance, and pain was well \n",
      "controlled.  The patient received discharge teaching and \n",
      "follow-up instructions with understanding verbalized and \n",
      "agreement with the discharge plan.\n",
      "\n",
      "Discharge Instructions:\n",
      " \n",
      "* Take deep breaths as often as possible. This will help expand \n",
      "the small airways in your lungs and assist in coughing up \n",
      "secretions that sometimes pool in the lungs. \n",
      "\n",
      " \n",
      "* Narcotic pain medication can cause constipation therefore you \n",
      "should take a stool softener twice daily and increase your fluid \n",
      "and fiber intake if possible.\n",
      "        \n",
      "------------------------------------------------------------------------------------------------------------------------------------------------\n",
      "\n",
      "Discharge Instructions:\n",
      "\n",
      "Why was I admitted to the hospital?\n",
      "You were admitted to the hospital because you were having chest \n",
      "pain. We wanted to rule out a ___ cause.\n",
      "\n",
      "What happened while I was here?\n",
      "- We did a very thorough work up to make sure your heart isn't \n",
      "the cause of your chest pain. This included EKGs, blood tests \n",
      "that look at whether the heart is under stress, and a CAT scan \n",
      "to make sure you didn't have a tear in any major blood vessels \n",
      "or a blood clot in your lungs. These were all normal. You did a \n",
      "stress test and another special heart study called a MIBI, which \n",
      "did not show any heart problems. \n",
      "- We gave you Ativan and Tylenol, which improved your pain.\n",
      "- We also started you on a medicine called sertraline which \n",
      "helps with anxiety, which might be the cause of your chest pain.\n",
      "- We checked your thyroid function which was normal.\n",
      "- We checked your cholesterol which was normal. \n",
      "\n",
      "What should I do when I get home?\n",
      "- Continue taking all your normal medications and the new \n",
      "sertraline and Ativan to help with your chest pain. \n",
      "- You should see your primary care doctor this week. He/she will \n",
      "discuss any additional tests you may need and help manage your \n",
      "new medications. \n",
      "- While taking Ativan, you should not drive or operate heavy \n",
      "machinery since this can be very dangerous.\n",
      "        \n",
      "------------------------------------------------------------------------------------------------------------------------------------------------\n",
      "\n",
      "Discharge Instructions:\n",
      "You were evaluated in the Neurology Wards of the ___ \n",
      "___ for headaches that were of an unusual \n",
      "quality. We conducted a series of tests to investigate the cause \n",
      "of your headaches, including a CT scan and an MRI, a series of \n",
      "laboratory tests as well as a lumbar puncture. Through these \n",
      "tests, we were able to rule out serious intracranial causes that \n",
      "can cause a headache, including pseudotumor cerebri, which is a \n",
      "condition where elevated intracranial pressure can cause \n",
      "headaches and subsequent visual damage. We also checked an MRV \n",
      "(MR venogram) which ruled out cerebral venous thrombosis (a \n",
      "blood clot in the veins of your brain). \n",
      "- We started you on a new medication called verapamil. Take this \n",
      "once daily even if you do not have headaches (everyday, by \n",
      "mouth). \n",
      "- Inform your PCP of this change, and please follow up with your \n",
      "primary care appointment and neurology appointment. \n",
      "- You can request your PCP to set up a referral to see a \n",
      "neurologist in the community if you would prefer to do so. \n",
      "- To achieve optimal control of your migraines, avoid \n",
      "caffeinated products and keep a relatively regular sleep wake \n",
      "cycle (go to bed early, wake up early).\n",
      "        \n",
      "------------------------------------------------------------------------------------------------------------------------------------------------\n"
     ]
    }
   ],
   "source": [
    "for row in test:\n",
    "    print(row)\n",
    "    row\n",
    "    print(\"------------------------------------------------------------------------------------------------------------------------------------------------\")"
   ]
  },
  {
   "cell_type": "markdown",
   "metadata": {},
   "source": [
    "# Data Cleaning"
   ]
  },
  {
   "cell_type": "markdown",
   "metadata": {},
   "source": [
    "**We apply:**\n",
    "\n",
    "- Lowercasing\n",
    "- Removing extra newlines & whitespace\n",
    "- Unicode normalization\n",
    "- Removing punctuation"
   ]
  },
  {
   "cell_type": "markdown",
   "metadata": {},
   "source": [
    "Convert text to lowercase"
   ]
  },
  {
   "cell_type": "code",
   "execution_count": 90,
   "metadata": {
    "collapsed": false,
    "jupyter": {
     "outputs_hidden": false
    },
    "tags": []
   },
   "outputs": [],
   "source": [
    "text_columns = [\"patient_narrative\", \"patient_question\", \"clinician_question\", \"note_excerpt\", \"sentence_text\"]"
   ]
  },
  {
   "cell_type": "code",
   "execution_count": 91,
   "metadata": {
    "tags": []
   },
   "outputs": [],
   "source": [
    "cleaned_data = util.clean_text_df(all_df, text_columns, list_columns=[])"
   ]
  },
  {
   "cell_type": "code",
   "execution_count": 92,
   "metadata": {
    "tags": []
   },
   "outputs": [
    {
     "data": {
      "text/plain": [
       "\"Brief Hospital Course: During the ERCP a pancreatic stent was required to facilitate access to the biliary system (removed at the end of the procedure), and a common bile duct stent was placed to allow drainage of the biliary obstruction caused by stones and sludge. However, due to the patient's elevated INR, no sphincterotomy or stone removal was performed. Frank pus was noted to be draining from the common bile duct, and post-ERCP it was recommended that the patient remain on IV Zosyn for at least a week. The Vancomycin was discontinued. On hospital day 4 (post-procedure day 3) the patient returned to ERCP for re-evaluation of her biliary stent as her LFTs and bilirubin continued an upward trend. On ERCP the previous biliary stent was noted to be acutely obstructed by biliary sludge and stones. As the patient's INR was normalized to 1.2, a sphincterotomy was safely performed, with removal of several biliary stones in addition to the common bile duct stent. At the conclusion of the procedure, retrograde cholangiogram was negative for filling defects.\""
      ]
     },
     "execution_count": 92,
     "metadata": {},
     "output_type": "execute_result"
    }
   ],
   "source": [
    "cleaned_data.iloc[0].note_excerpt"
   ]
  },
  {
   "cell_type": "markdown",
   "metadata": {},
   "source": [
    "Save the processed data (using csv instead of pickle for now since dataset is fairly small)"
   ]
  },
  {
   "cell_type": "code",
   "execution_count": 93,
   "metadata": {
    "tags": []
   },
   "outputs": [
    {
     "data": {
      "text/plain": [
       "20"
      ]
     },
     "execution_count": 93,
     "metadata": {},
     "output_type": "execute_result"
    }
   ],
   "source": [
    "cleaned_data[\"case_id\"].nunique()"
   ]
  },
  {
   "cell_type": "code",
   "execution_count": 94,
   "metadata": {
    "tags": []
   },
   "outputs": [
    {
     "data": {
      "text/plain": [
       "20"
      ]
     },
     "execution_count": 94,
     "metadata": {},
     "output_type": "execute_result"
    }
   ],
   "source": [
    "cleaned_data[\"note_excerpt\"].nunique()"
   ]
  },
  {
   "cell_type": "markdown",
   "metadata": {},
   "source": [
    "# Attribute Selection "
   ]
  },
  {
   "cell_type": "code",
   "execution_count": 95,
   "metadata": {
    "tags": []
   },
   "outputs": [],
   "source": [
    "relevant_columns = [\"case_id\", \"patient_question\", \"clinician_question\", \"note_excerpt\", \"sentence_id\", \"sentence_text\", \"relevance\", \"start_char_index\", \"length\"]"
   ]
  },
  {
   "cell_type": "code",
   "execution_count": 96,
   "metadata": {
    "tags": []
   },
   "outputs": [],
   "source": [
    "cleaned_data = cleaned_data[relevant_columns]"
   ]
  },
  {
   "cell_type": "code",
   "execution_count": 97,
   "metadata": {
    "tags": []
   },
   "outputs": [
    {
     "data": {
      "text/plain": [
       "relevance\n",
       "not-relevant     239\n",
       "essential        138\n",
       "supplementary     51\n",
       "Name: count, dtype: int64"
      ]
     },
     "execution_count": 97,
     "metadata": {},
     "output_type": "execute_result"
    }
   ],
   "source": [
    "cleaned_data[\"relevance\"].value_counts()"
   ]
  },
  {
   "cell_type": "code",
   "execution_count": 98,
   "metadata": {
    "tags": []
   },
   "outputs": [
    {
     "data": {
      "image/png": "[encoded data removed]",
      "text/plain": [
       "<Figure size 640x480 with 1 Axes>"
      ]
     },
     "metadata": {},
     "output_type": "display_data"
    }
   ],
   "source": [
    "sns.countplot(x=\"relevance\", data=cleaned_data)\n",
    "plt.title(\"Class Distribution in 'relevance'\")\n",
    "plt.xlabel(\"Relevance\")\n",
    "plt.ylabel(\"Count\")\n",
    "plt.show()"
   ]
  },
  {
   "cell_type": "markdown",
   "metadata": {},
   "source": [
    "# Transform to right format "
   ]
  },
  {
   "cell_type": "code",
   "execution_count": 109,
   "metadata": {
    "tags": []
   },
   "outputs": [],
   "source": [
    "# Group by case_id and build sentence list + label list\n",
    "def aggregate_case(group):\n",
    "    sentences = group[\"sentence_text\"].tolist()\n",
    "    labels = [1 if rel in [\"essential\", \"relevant\"] else 0 for rel in group[\"relevance\"]]\n",
    "    return pd.Series({\n",
    "        \"patient_question\": group[\"patient_question\"].iloc[0],\n",
    "        \"clinician_question\": group[\"clinician_question\"].iloc[0],\n",
    "        \"note_excerpt\": group[\"note_excerpt\"].iloc[0],\n",
    "        \"sentences\": sentences,\n",
    "        \"sentence_text\": group[\"sentence_text\"].iloc[0],\n",
    "        \"labels\": labels\n",
    "    })"
   ]
  },
  {
   "cell_type": "code",
   "execution_count": 110,
   "metadata": {
    "tags": []
   },
   "outputs": [
    {
     "name": "stderr",
     "output_type": "stream",
     "text": [
      "/tmp/ipykernel_1147050/2107528943.py:4: DeprecationWarning: DataFrameGroupBy.apply operated on the grouping columns. This behavior is deprecated, and in a future version of pandas the grouping columns will be excluded from the operation. Either pass `include_groups=False` to exclude the groupings or explicitly select the grouping columns after groupby to silence this warning.\n",
      "  .apply(aggregate_case)\n"
     ]
    }
   ],
   "source": [
    "data_agg = (\n",
    "    cleaned_data[[\"case_id\", \"patient_question\", \"clinician_question\", \"note_excerpt\", \"sentence_text\", \"relevance\"]]\n",
    "    .groupby(\"case_id\")\n",
    "    .apply(aggregate_case)\n",
    "    .reset_index()\n",
    ")"
   ]
  },
  {
   "cell_type": "markdown",
   "metadata": {},
   "source": [
    "**Quick sanity check**"
   ]
  },
  {
   "cell_type": "code",
   "execution_count": 114,
   "metadata": {
    "tags": []
   },
   "outputs": [
    {
     "data": {
      "text/html": [
       "<div>\n",
       "<style scoped>\n",
       "    .dataframe tbody tr th:only-of-type {\n",
       "        vertical-align: middle;\n",
       "    }\n",
       "\n",
       "    .dataframe tbody tr th {\n",
       "        vertical-align: top;\n",
       "    }\n",
       "\n",
       "    .dataframe thead th {\n",
       "        text-align: right;\n",
       "    }\n",
       "</style>\n",
       "<table border=\"1\" class=\"dataframe\">\n",
       "  <thead>\n",
       "    <tr style=\"text-align: right;\">\n",
       "      <th></th>\n",
       "      <th>case_id</th>\n",
       "      <th>patient_question</th>\n",
       "      <th>clinician_question</th>\n",
       "      <th>note_excerpt</th>\n",
       "      <th>sentences</th>\n",
       "      <th>sentence_text</th>\n",
       "      <th>labels</th>\n",
       "    </tr>\n",
       "  </thead>\n",
       "  <tbody>\n",
       "    <tr>\n",
       "      <th>0</th>\n",
       "      <td>1</td>\n",
       "      <td>My question is if the sludge was there does no...</td>\n",
       "      <td>Why was ERCP recommended to him over continuin...</td>\n",
       "      <td>Brief Hospital Course: During the ERCP a pancr...</td>\n",
       "      <td>[Brief Hospital Course:, During the ERCP a pan...</td>\n",
       "      <td>Brief Hospital Course:</td>\n",
       "      <td>[0, 1, 0, 0, 0, 1, 1, 1, 0]</td>\n",
       "    </tr>\n",
       "    <tr>\n",
       "      <th>1</th>\n",
       "      <td>2</td>\n",
       "      <td>dad given multiple shots of lasciks after he w...</td>\n",
       "      <td>Why was he given lasix and his oxygen flow rat...</td>\n",
       "      <td>Brief Hospital Course: Acute diastolic heart f...</td>\n",
       "      <td>[Brief Hospital Course:, Acute diastolic heart...</td>\n",
       "      <td>Brief Hospital Course:</td>\n",
       "      <td>[0, 1, 0, 0, 1, 0, 0, 1, 0, 0, 0]</td>\n",
       "    </tr>\n",
       "    <tr>\n",
       "      <th>2</th>\n",
       "      <td>3</td>\n",
       "      <td>he is continously irritated and has headache w...</td>\n",
       "      <td>What is the expected course of recovery for him?</td>\n",
       "      <td>Discharge Instructions: You were admitted to t...</td>\n",
       "      <td>[Discharge Instructions: You were admitted to ...</td>\n",
       "      <td>Discharge Instructions: You were admitted to t...</td>\n",
       "      <td>[0, 0, 0, 0, 1, 1, 0, 0, 0, 0]</td>\n",
       "    </tr>\n",
       "    <tr>\n",
       "      <th>3</th>\n",
       "      <td>4</td>\n",
       "      <td>My doctor performed a cardiac catherization.</td>\n",
       "      <td>Why was cardiac catheterization recommended to...</td>\n",
       "      <td>History of Present Illness: On the cardiology ...</td>\n",
       "      <td>[History of Present Illness:, On the cardiolog...</td>\n",
       "      <td>History of Present Illness:</td>\n",
       "      <td>[0, 0, 0, 0, 1, 0, 0, 0, 0, 0, 0, 0, 0, 0, 0, ...</td>\n",
       "    </tr>\n",
       "    <tr>\n",
       "      <th>4</th>\n",
       "      <td>5</td>\n",
       "      <td>I overdosed October 4th on trihexyphenidyl, th...</td>\n",
       "      <td>Is the pain connected to the overdose or somet...</td>\n",
       "      <td>Brief Hospital Course: # Bipolar d/o, PTSD, sc...</td>\n",
       "      <td>[Brief Hospital Course:, # Bipolar d/o, PTSD, ...</td>\n",
       "      <td>Brief Hospital Course:</td>\n",
       "      <td>[0, 0, 1, 0, 0, 0, 0, 0, 1, 1, 1, 1, 1, 0, 0, ...</td>\n",
       "    </tr>\n",
       "  </tbody>\n",
       "</table>\n",
       "</div>"
      ],
      "text/plain": [
       "   case_id                                   patient_question  \\\n",
       "0        1  My question is if the sludge was there does no...   \n",
       "1        2  dad given multiple shots of lasciks after he w...   \n",
       "2        3  he is continously irritated and has headache w...   \n",
       "3        4       My doctor performed a cardiac catherization.   \n",
       "4        5  I overdosed October 4th on trihexyphenidyl, th...   \n",
       "\n",
       "                                  clinician_question  \\\n",
       "0  Why was ERCP recommended to him over continuin...   \n",
       "1  Why was he given lasix and his oxygen flow rat...   \n",
       "2   What is the expected course of recovery for him?   \n",
       "3  Why was cardiac catheterization recommended to...   \n",
       "4  Is the pain connected to the overdose or somet...   \n",
       "\n",
       "                                        note_excerpt  \\\n",
       "0  Brief Hospital Course: During the ERCP a pancr...   \n",
       "1  Brief Hospital Course: Acute diastolic heart f...   \n",
       "2  Discharge Instructions: You were admitted to t...   \n",
       "3  History of Present Illness: On the cardiology ...   \n",
       "4  Brief Hospital Course: # Bipolar d/o, PTSD, sc...   \n",
       "\n",
       "                                           sentences  \\\n",
       "0  [Brief Hospital Course:, During the ERCP a pan...   \n",
       "1  [Brief Hospital Course:, Acute diastolic heart...   \n",
       "2  [Discharge Instructions: You were admitted to ...   \n",
       "3  [History of Present Illness:, On the cardiolog...   \n",
       "4  [Brief Hospital Course:, # Bipolar d/o, PTSD, ...   \n",
       "\n",
       "                                       sentence_text  \\\n",
       "0                             Brief Hospital Course:   \n",
       "1                             Brief Hospital Course:   \n",
       "2  Discharge Instructions: You were admitted to t...   \n",
       "3                        History of Present Illness:   \n",
       "4                             Brief Hospital Course:   \n",
       "\n",
       "                                              labels  \n",
       "0                        [0, 1, 0, 0, 0, 1, 1, 1, 0]  \n",
       "1                  [0, 1, 0, 0, 1, 0, 0, 1, 0, 0, 0]  \n",
       "2                     [0, 0, 0, 0, 1, 1, 0, 0, 0, 0]  \n",
       "3  [0, 0, 0, 0, 1, 0, 0, 0, 0, 0, 0, 0, 0, 0, 0, ...  \n",
       "4  [0, 0, 1, 0, 0, 0, 0, 0, 1, 1, 1, 1, 1, 0, 0, ...  "
      ]
     },
     "execution_count": 114,
     "metadata": {},
     "output_type": "execute_result"
    }
   ],
   "source": [
    "data_agg.head()"
   ]
  },
  {
   "cell_type": "markdown",
   "metadata": {},
   "source": [
    "**Save only if needed**"
   ]
  },
  {
   "cell_type": "code",
   "execution_count": 115,
   "metadata": {
    "collapsed": false,
    "jupyter": {
     "outputs_hidden": false
    },
    "pycharm": {
     "is_executing": true
    },
    "tags": []
   },
   "outputs": [
    {
     "name": "stdout",
     "output_type": "stream",
     "text": [
      "Cleaned dataset saved successfully!\n"
     ]
    }
   ],
   "source": [
    "'''\n",
    "data_agg.to_csv(output_dir / \"medical_data.csv\", index=False)\n",
    "print(\"Cleaned dataset saved successfully!\")\n",
    "''';"
   ]
  },
  {
   "cell_type": "markdown",
   "metadata": {},
   "source": [
    "# In-Depth Look at the Questions"
   ]
  },
  {
   "cell_type": "code",
   "execution_count": 26,
   "metadata": {},
   "outputs": [],
   "source": [
    "questions = data[[\"patient_question\", \"clinician_question\"]].drop_duplicates()"
   ]
  },
  {
   "cell_type": "code",
   "execution_count": 27,
   "metadata": {
    "tags": []
   },
   "outputs": [
    {
     "name": "stdout",
     "output_type": "stream",
     "text": [
      "my question is if the sludge was there does not the medication help in flushing it out whether ercp was the only cure\n",
      "---\n",
      "why was ercp recommended to him over continuing a medicationbased treatment\n",
      "------------------------\n",
      "\n",
      "dad given multiple shots of lasciks after he was already so swelled his shin looked like it would burst open why would they give him so much\n",
      "---\n",
      "why was he given lasix and his oxygen flow rate was reduced\n",
      "------------------------\n",
      "\n",
      "he is continously irritated and has headache when awake what do ido\n",
      "---\n",
      "what is the expected course of recovery for him\n",
      "------------------------\n",
      "\n",
      "my doctor performed a cardiac catherization\n",
      "---\n",
      "why was cardiac catheterization recommended to the patient\n",
      "------------------------\n",
      "\n",
      "i overdosed october 4th on trihexyphenidyl thorazine and cocaine\n",
      "---\n",
      "is the pain connected to the overdose or something else\n",
      "------------------------\n",
      "\n",
      "my question is if the dr fail to diagonise the lung infection in time\n",
      "---\n",
      "why did they find out later that he had fungal pneumonia\n",
      "------------------------\n",
      "\n",
      "are there any specific instructions about stopping coumadin\n",
      "---\n",
      "are there specific instructions about blood thinners due to her subarachnoid brain hemorrhage\n",
      "------------------------\n",
      "\n",
      "my main question if i had posion in my bloodstream does it remain in my system and i am very concerned about my writing capabilities\n",
      "---\n",
      "will the poison damage to his body last and is the confusion related to it\n",
      "------------------------\n",
      "\n",
      "what treatment provide me at hospitalthis is any problem me later\n",
      "---\n",
      "what treatments did she receive for complications during her delivery will the treatments cause any problems later\n",
      "------------------------\n",
      "\n",
      "i realize he most likely sustained some brain damage  but do you think he mte be able to continue breathing for long and survive\n",
      "---\n",
      "did she sustain any brain damage from the heart attack\n",
      "------------------------\n",
      "\n",
      "is this fall back today a normal part of the recovery process or is it a sign of a possible relapse\n",
      "---\n",
      "what is the expected course of her recovery\n",
      "------------------------\n",
      "\n",
      "stomach pain that extends up to her chest and back\n",
      "---\n",
      "what can cause her persistent stomach pain\n",
      "------------------------\n",
      "\n",
      "now my legs cant move and im in severe pain\n",
      "---\n",
      "what should the patient do if she is in in pain and cannot move her legs\n",
      "------------------------\n",
      "\n",
      "what would you say about cancer in the stomach\n",
      "---\n",
      "was there any evidence for stomach cancer\n",
      "------------------------\n",
      "\n",
      "i came to the hospital with testicle pain and swelling and got antibiotics for a penis skin infection\n",
      "---\n",
      "did his infection spread to other anatomies causing infertility\n",
      "------------------------\n",
      "\n",
      "the pain presented in may and has worsened to its present state today\n",
      "---\n",
      "could her back pain and dizziness be concerning for a stroke\n",
      "------------------------\n",
      "\n",
      "my palpitations are benign i’m told fine how can i slow them or stop them without some antiarrhythmic meds\n",
      "---\n",
      "what should he do to relieve palpitations and anxiety\n",
      "------------------------\n",
      "\n",
      "at hospital i seemed fine but now i am vomiting and have diarrhea should i go back to er\n",
      "---\n",
      "should he go back to the er if he has diarrhea and vomiting\n",
      "------------------------\n",
      "\n",
      "i went to er for a bladder infection the doctor asked if i had irregular heartbeats or afib which lead me getting very panicky\n",
      "---\n",
      "are her symptoms related to anxiety or cardiovascular process\n",
      "------------------------\n",
      "\n",
      "so what is the dizziness from i never heard of a migraine that can cause your head to spin like that\n",
      "---\n",
      "how did they diagnose her with migraine for spinning sensation\n",
      "------------------------\n",
      "\n"
     ]
    }
   ],
   "source": [
    "for _, question in questions.iterrows():\n",
    "    print(question[\"patient_question\"])\n",
    "    print(\"---\")\n",
    "    print(question[\"clinician_question\"])\n",
    "    print(\"------------------------\\n\")"
   ]
  },
  {
   "cell_type": "code",
   "execution_count": 30,
   "metadata": {
    "tags": []
   },
   "outputs": [
    {
     "name": "stdout",
     "output_type": "stream",
     "text": [
      "why was ercp recommended to him over continuing a medicationbased treatment\n",
      "------------\n",
      "why was he given lasix and his oxygen flow rate was reduced\n",
      "------------\n",
      "what is the expected course of recovery for him\n",
      "------------\n",
      "why was cardiac catheterization recommended to the patient\n",
      "------------\n",
      "is the pain connected to the overdose or something else\n",
      "------------\n",
      "why did they find out later that he had fungal pneumonia\n",
      "------------\n",
      "are there specific instructions about blood thinners due to her subarachnoid brain hemorrhage\n",
      "------------\n",
      "will the poison damage to his body last and is the confusion related to it\n",
      "------------\n",
      "what treatments did she receive for complications during her delivery will the treatments cause any problems later\n",
      "------------\n",
      "did she sustain any brain damage from the heart attack\n",
      "------------\n",
      "what is the expected course of her recovery\n",
      "------------\n",
      "what can cause her persistent stomach pain\n",
      "------------\n",
      "what should the patient do if she is in in pain and cannot move her legs\n",
      "------------\n",
      "was there any evidence for stomach cancer\n",
      "------------\n",
      "did his infection spread to other anatomies causing infertility\n",
      "------------\n",
      "could her back pain and dizziness be concerning for a stroke\n",
      "------------\n",
      "what should he do to relieve palpitations and anxiety\n",
      "------------\n",
      "should he go back to the er if he has diarrhea and vomiting\n",
      "------------\n",
      "are her symptoms related to anxiety or cardiovascular process\n",
      "------------\n",
      "how did they diagnose her with migraine for spinning sensation\n",
      "------------\n"
     ]
    }
   ],
   "source": [
    "for question in questions[\"clinician_question\"]:\n",
    "    print(question)\n",
    "    print(\"------------\")"
   ]
  },
  {
   "cell_type": "code",
   "execution_count": null,
   "metadata": {},
   "outputs": [],
   "source": []
  }
 ],
 "metadata": {
  "kernelspec": {
   "display_name": "Python 3 (ipykernel)",
   "language": "python",
   "name": "python3"
  },
  "language_info": {
   "codemirror_mode": {
    "name": "ipython",
    "version": 3
   },
   "file_extension": ".py",
   "mimetype": "text/x-python",
   "name": "python",
   "nbconvert_exporter": "python",
   "pygments_lexer": "ipython3",
   "version": "3.10.14"
  }
 },
 "nbformat": 4,
 "nbformat_minor": 4
}
