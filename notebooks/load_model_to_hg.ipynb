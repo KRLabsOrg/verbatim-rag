{
 "cells": [
  {
   "cell_type": "code",
   "execution_count": 3,
   "id": "3dc4c049-d149-43b1-be2a-65b07ab6716e",
   "metadata": {
    "tags": []
   },
   "outputs": [],
   "source": [
    "from huggingface_hub import notebook_login, HfApi, Repository\n",
    "from pathlib import Path\n",
    "import shutil\n",
    "\n",
    "import sys\n",
    "sys.path.append(\"../configs\")\n",
    "from hf_config import repo_name, hf_username, hf_token, repo_dir"
   ]
  },
  {
   "cell_type": "markdown",
   "id": "8dd85983-6561-4eb5-9537-15cce272dd8b",
   "metadata": {},
   "source": [
    "**Configs**"
   ]
  },
  {
   "cell_type": "code",
   "execution_count": 4,
   "id": "19ad5f30-c654-4ba6-bcb2-5c9d551bf934",
   "metadata": {
    "tags": []
   },
   "outputs": [],
   "source": [
    "full_repo_id = f\"{hf_username}/{repo_name}\"\n",
    "local_model_dir = Path(\"../models/BioMedBert-RUN02\")"
   ]
  },
  {
   "cell_type": "code",
   "execution_count": 15,
   "id": "f84acf02-53d1-4b27-bbc9-87eac99b3582",
   "metadata": {
    "tags": []
   },
   "outputs": [
    {
     "data": {
      "application/vnd.jupyter.widget-view+json": {
       "model_id": "88c67d17962f44049d0708db8b31b9d3",
       "version_major": 2,
       "version_minor": 0
      },
      "text/plain": [
       "VBox(children=(HTML(value='<center> <img\\nsrc=https://huggingface.co/front/assets/huggingface_logo-noborder.sv…"
      ]
     },
     "metadata": {},
     "output_type": "display_data"
    },
    {
     "name": "stderr",
     "output_type": "stream",
     "text": [
      "/home/paul.schmitt/verbatim-rag/exploration/Verbatim-BioMedBert is already a clone of https://huggingface.co/flackojodye/Verbatim-BioMedBert. Make sure you pull the latest changes with `repo.git_pull()`.\n"
     ]
    }
   ],
   "source": [
    "# --- Login ---\n",
    "notebook_login()\n",
    "\n",
    "# --- Clone repo (no creation needed) ---\n",
    "repo = Repository(local_dir=repo_dir, clone_from=full_repo_id, token=hf_token)\n",
    "\n",
    "# --- Copy model + tokenizer files ---\n",
    "for file in local_model_dir.iterdir():\n",
    "    shutil.copy(file, repo_dir / file.name)\n",
    "\n",
    "# --- Commit + Push ---\n",
    "repo.push_to_hub(commit_message=\"Upload model and tokenizer\")"
   ]
  },
  {
   "cell_type": "code",
   "execution_count": null,
   "id": "0531fd54-a402-4002-b055-e31e4664628b",
   "metadata": {},
   "outputs": [],
   "source": []
  }
 ],
 "metadata": {
  "kernelspec": {
   "display_name": "Python 3 (ipykernel)",
   "language": "python",
   "name": "python3"
  },
  "language_info": {
   "codemirror_mode": {
    "name": "ipython",
    "version": 3
   },
   "file_extension": ".py",
   "mimetype": "text/x-python",
   "name": "python",
   "nbconvert_exporter": "python",
   "pygments_lexer": "ipython3",
   "version": "3.10.14"
  }
 },
 "nbformat": 4,
 "nbformat_minor": 5
}
