{
 "cells": [
  {
   "cell_type": "code",
   "execution_count": 33,
   "metadata": {
    "tags": []
   },
   "outputs": [
    {
     "name": "stdout",
     "output_type": "stream",
     "text": [
      "The autoreload extension is already loaded. To reload it, use:\n",
      "  %reload_ext autoreload\n"
     ]
    }
   ],
   "source": [
    "%load_ext autoreload\n",
    "%autoreload 2"
   ]
  },
  {
   "cell_type": "code",
   "execution_count": 34,
   "metadata": {
    "collapsed": false,
    "jupyter": {
     "outputs_hidden": false
    },
    "tags": []
   },
   "outputs": [],
   "source": [
    "import re\n",
    "import json\n",
    "import unicodedata\n",
    "import pandas as pd\n",
    "from pathlib import Path\n",
    "import xml.etree.ElementTree as ET\n",
    "import seaborn as sns\n",
    "import matplotlib.pyplot as plt\n",
    "\n",
    "import sys\n",
    "sys.path.append(\"../../src\")\n",
    "from verbatim_rag.util.text_processing_util import clean_text_df"
   ]
  },
  {
   "cell_type": "code",
   "execution_count": 35,
   "metadata": {
    "collapsed": false,
    "jupyter": {
     "outputs_hidden": false
    },
    "tags": []
   },
   "outputs": [],
   "source": [
    "DATA_DIR = Path(\"../../data/dev\")\n",
    "input_dir = DATA_DIR / \"raw\"\n",
    "output_dir = DATA_DIR / \"processed\"\n",
    "data_file_name = \"archehr-qa.xml\"\n",
    "key_file_name = \"archehr-qa_key.json\"\n",
    "mapping_file_name = \"archehr-qa_mapping.json\""
   ]
  },
  {
   "cell_type": "markdown",
   "metadata": {},
   "source": [
    "# Extract & Organize"
   ]
  },
  {
   "cell_type": "markdown",
   "metadata": {},
   "source": [
    "**Key-File:**\n",
    "- Provides sentence-level answer annotations.\n",
    "- Labels answers as \"essential\" or \"not-relevant\"."
   ]
  },
  {
   "cell_type": "markdown",
   "metadata": {},
   "source": [
    "Load from json file"
   ]
  },
  {
   "cell_type": "code",
   "execution_count": 36,
   "metadata": {
    "collapsed": false,
    "jupyter": {
     "outputs_hidden": false
    },
    "tags": []
   },
   "outputs": [],
   "source": [
    "key_file_path = input_dir / key_file_name\n",
    "with open(key_file_path, \"r\") as f:\n",
    "    key_data = json.load(f)"
   ]
  },
  {
   "cell_type": "markdown",
   "metadata": {},
   "source": [
    "Convert to dataframe"
   ]
  },
  {
   "cell_type": "code",
   "execution_count": 37,
   "metadata": {
    "collapsed": false,
    "jupyter": {
     "outputs_hidden": false
    },
    "tags": []
   },
   "outputs": [],
   "source": [
    "structured_key_data = []\n",
    "\n",
    "for case in key_data:\n",
    "    case_id = case[\"case_id\"]\n",
    "    for answer in case[\"answers\"]:\n",
    "        structured_key_data.append({\n",
    "            \"case_id\": case_id,\n",
    "            \"sentence_id\": answer[\"sentence_id\"],\n",
    "            \"relevance\": answer[\"relevance\"]\n",
    "        })\n",
    "\n",
    "# Create Pandas DataFrame\n",
    "key_df = pd.DataFrame(structured_key_data)"
   ]
  },
  {
   "cell_type": "code",
   "execution_count": 38,
   "metadata": {
    "collapsed": false,
    "jupyter": {
     "outputs_hidden": false
    },
    "tags": []
   },
   "outputs": [
    {
     "data": {
      "text/plain": "  case_id sentence_id     relevance\n0       1           0  not-relevant\n1       1           1     essential\n2       1           2  not-relevant\n3       1           3  not-relevant\n4       1           4  not-relevant",
      "text/html": "<div>\n<style scoped>\n    .dataframe tbody tr th:only-of-type {\n        vertical-align: middle;\n    }\n\n    .dataframe tbody tr th {\n        vertical-align: top;\n    }\n\n    .dataframe thead th {\n        text-align: right;\n    }\n</style>\n<table border=\"1\" class=\"dataframe\">\n  <thead>\n    <tr style=\"text-align: right;\">\n      <th></th>\n      <th>case_id</th>\n      <th>sentence_id</th>\n      <th>relevance</th>\n    </tr>\n  </thead>\n  <tbody>\n    <tr>\n      <th>0</th>\n      <td>1</td>\n      <td>0</td>\n      <td>not-relevant</td>\n    </tr>\n    <tr>\n      <th>1</th>\n      <td>1</td>\n      <td>1</td>\n      <td>essential</td>\n    </tr>\n    <tr>\n      <th>2</th>\n      <td>1</td>\n      <td>2</td>\n      <td>not-relevant</td>\n    </tr>\n    <tr>\n      <th>3</th>\n      <td>1</td>\n      <td>3</td>\n      <td>not-relevant</td>\n    </tr>\n    <tr>\n      <th>4</th>\n      <td>1</td>\n      <td>4</td>\n      <td>not-relevant</td>\n    </tr>\n  </tbody>\n</table>\n</div>"
     },
     "execution_count": 38,
     "metadata": {},
     "output_type": "execute_result"
    }
   ],
   "source": [
    "key_df.head()"
   ]
  },
  {
   "cell_type": "markdown",
   "metadata": {},
   "source": [
    "**Mapping-File:**\n",
    "- Maps case IDs to specific documents from MIMIC-III.\n",
    "- Shows where the context for each question is located."
   ]
  },
  {
   "cell_type": "markdown",
   "metadata": {},
   "source": [
    "Load from json file"
   ]
  },
  {
   "cell_type": "code",
   "execution_count": 39,
   "metadata": {
    "collapsed": false,
    "jupyter": {
     "outputs_hidden": false
    },
    "tags": []
   },
   "outputs": [],
   "source": [
    "mapping_file_path = input_dir / mapping_file_name\n",
    "with open(mapping_file_path, \"r\") as f:\n",
    "    mapping_data = json.load(f)"
   ]
  },
  {
   "cell_type": "markdown",
   "metadata": {},
   "source": [
    "Convert to dataframe"
   ]
  },
  {
   "cell_type": "code",
   "execution_count": 40,
   "metadata": {
    "collapsed": false,
    "jupyter": {
     "outputs_hidden": false
    },
    "tags": []
   },
   "outputs": [],
   "source": [
    "structured_mapping_data = []\n",
    "\n",
    "for case in mapping_data:\n",
    "    structured_mapping_data.append({\n",
    "        \"case_id\": case[\"case_id\"],\n",
    "        \"document_id\": case[\"document_id\"],\n",
    "        \"document_source\": case[\"document_source\"]\n",
    "    })\n",
    "\n",
    "# Create Pandas DataFrame\n",
    "mapping_df = pd.DataFrame(structured_mapping_data)"
   ]
  },
  {
   "cell_type": "code",
   "execution_count": 41,
   "metadata": {
    "collapsed": false,
    "jupyter": {
     "outputs_hidden": false
    },
    "tags": []
   },
   "outputs": [
    {
     "data": {
      "text/plain": "  case_id   document_id document_source\n0       1  179164_41762       mimic-iii\n1       2  191708_35669       mimic-iii\n2       3  132786_42206       mimic-iii\n3       4  180932_37135       mimic-iii\n4       5  190179_39908       mimic-iii",
      "text/html": "<div>\n<style scoped>\n    .dataframe tbody tr th:only-of-type {\n        vertical-align: middle;\n    }\n\n    .dataframe tbody tr th {\n        vertical-align: top;\n    }\n\n    .dataframe thead th {\n        text-align: right;\n    }\n</style>\n<table border=\"1\" class=\"dataframe\">\n  <thead>\n    <tr style=\"text-align: right;\">\n      <th></th>\n      <th>case_id</th>\n      <th>document_id</th>\n      <th>document_source</th>\n    </tr>\n  </thead>\n  <tbody>\n    <tr>\n      <th>0</th>\n      <td>1</td>\n      <td>179164_41762</td>\n      <td>mimic-iii</td>\n    </tr>\n    <tr>\n      <th>1</th>\n      <td>2</td>\n      <td>191708_35669</td>\n      <td>mimic-iii</td>\n    </tr>\n    <tr>\n      <th>2</th>\n      <td>3</td>\n      <td>132786_42206</td>\n      <td>mimic-iii</td>\n    </tr>\n    <tr>\n      <th>3</th>\n      <td>4</td>\n      <td>180932_37135</td>\n      <td>mimic-iii</td>\n    </tr>\n    <tr>\n      <th>4</th>\n      <td>5</td>\n      <td>190179_39908</td>\n      <td>mimic-iii</td>\n    </tr>\n  </tbody>\n</table>\n</div>"
     },
     "execution_count": 41,
     "metadata": {},
     "output_type": "execute_result"
    }
   ],
   "source": [
    "mapping_df.head()"
   ]
  },
  {
   "cell_type": "markdown",
   "metadata": {},
   "source": [
    "**Train-set:**\n",
    "\n",
    "Contains cases with unique ids.\n",
    "Stores questions, associated clinical context"
   ]
  },
  {
   "cell_type": "markdown",
   "metadata": {},
   "source": [
    "Load from XML file"
   ]
  },
  {
   "cell_type": "code",
   "execution_count": 42,
   "metadata": {
    "collapsed": false,
    "jupyter": {
     "outputs_hidden": false
    },
    "tags": []
   },
   "outputs": [],
   "source": [
    "def parse_xml_to_dataframe(path_to_xml):\n",
    "    tree = ET.parse(path_to_xml)\n",
    "    root = tree.getroot()\n",
    "\n",
    "    structured_data = []\n",
    "\n",
    "    for case in root.findall(\"case\"):\n",
    "        case_id = case.attrib[\"id\"]\n",
    "\n",
    "        # Extract patient details\n",
    "        patient_narrative = case.find(\"patient_narrative\").text if case.find(\"patient_narrative\") is not None else \"No patient narrative\"\n",
    "        patient_question = case.find(\"patient_question/phrase\").text if case.find(\"patient_question/phrase\") is not None else \"No patient question\"\n",
    "        clinician_question = case.find(\"clinician_question\").text if case.find(\"clinician_question\") is not None else \"No clinician question\"\n",
    "\n",
    "        # Extract clinical note excerpts\n",
    "        note_excerpt = case.find(\"note_excerpt\").text if case.find(\"note_excerpt\") is not None else \"No note excerpt\"\n",
    "\n",
    "        # Extract sentence-level details from note excerpts\n",
    "        for sentence in case.findall(\"note_excerpt_sentences/sentence\"):\n",
    "            sentence_id = sentence.attrib[\"id\"]\n",
    "            paragraph_id = sentence.attrib[\"paragraph_id\"]\n",
    "            start_char_index = sentence.attrib[\"start_char_index\"]\n",
    "            length = sentence.attrib[\"length\"]\n",
    "            sentence_text = sentence.text if sentence.text is not None else \"No sentence text\"\n",
    "\n",
    "            structured_data.append({\n",
    "                \"case_id\": case_id,\n",
    "                \"patient_narrative\": patient_narrative,\n",
    "                \"patient_question\": patient_question,\n",
    "                \"clinician_question\": clinician_question,\n",
    "                \"note_excerpt\": note_excerpt,\n",
    "                \"sentence_id\": sentence_id,\n",
    "                \"sentence_text\": sentence_text,\n",
    "                \"paragraph_id\": paragraph_id,\n",
    "                \"start_char_index\": start_char_index,\n",
    "                \"length\": length\n",
    "            })\n",
    "\n",
    "    return pd.DataFrame(structured_data)"
   ]
  },
  {
   "cell_type": "code",
   "execution_count": 43,
   "metadata": {
    "collapsed": false,
    "jupyter": {
     "outputs_hidden": false
    },
    "tags": []
   },
   "outputs": [],
   "source": [
    "data_file_path = input_dir / data_file_name\n",
    "data_df = parse_xml_to_dataframe(data_file_path)"
   ]
  },
  {
   "cell_type": "markdown",
   "metadata": {},
   "source": [
    "Cast attributes to int for merging"
   ]
  },
  {
   "cell_type": "code",
   "execution_count": 44,
   "metadata": {
    "collapsed": false,
    "jupyter": {
     "outputs_hidden": false
    },
    "tags": []
   },
   "outputs": [],
   "source": [
    "data_df[\"case_id\"] = data_df[\"case_id\"].astype(int)\n",
    "data_df[\"sentence_id\"] = data_df[\"sentence_id\"].astype(int)\n",
    "key_df[\"case_id\"] = key_df[\"case_id\"].astype(int)\n",
    "key_df[\"sentence_id\"] = key_df[\"sentence_id\"].astype(int)\n",
    "mapping_df[\"case_id\"] = mapping_df[\"case_id\"].astype(int)"
   ]
  },
  {
   "cell_type": "markdown",
   "metadata": {},
   "source": [
    "Merge the dataframes into one"
   ]
  },
  {
   "cell_type": "code",
   "execution_count": 45,
   "metadata": {
    "collapsed": false,
    "jupyter": {
     "outputs_hidden": false
    },
    "tags": []
   },
   "outputs": [],
   "source": [
    "# Merge XML data with answer relevance labels\n",
    "temp_df = data_df.merge(key_df, on=[\"case_id\", \"sentence_id\"], how=\"left\")\n",
    "\n",
    "# Merge with document mapping\n",
    "all_df = temp_df.merge(mapping_df, on=\"case_id\", how=\"left\")"
   ]
  },
  {
   "cell_type": "code",
   "execution_count": 46,
   "metadata": {
    "tags": []
   },
   "outputs": [
    {
     "data": {
      "text/plain": "   case_id                                  patient_narrative  \\\n0        1  \\nI had severe abdomen pain and was hospitalis...   \n1        1  \\nI had severe abdomen pain and was hospitalis...   \n2        1  \\nI had severe abdomen pain and was hospitalis...   \n3        1  \\nI had severe abdomen pain and was hospitalis...   \n4        1  \\nI had severe abdomen pain and was hospitalis...   \n\n                                    patient_question  \\\n0  \\nMy question is if the sludge was there does ...   \n1  \\nMy question is if the sludge was there does ...   \n2  \\nMy question is if the sludge was there does ...   \n3  \\nMy question is if the sludge was there does ...   \n4  \\nMy question is if the sludge was there does ...   \n\n                                  clinician_question  \\\n0  \\nWhy was ERCP recommended to him over continu...   \n1  \\nWhy was ERCP recommended to him over continu...   \n2  \\nWhy was ERCP recommended to him over continu...   \n3  \\nWhy was ERCP recommended to him over continu...   \n4  \\nWhy was ERCP recommended to him over continu...   \n\n                                        note_excerpt  sentence_id  \\\n0  \\nBrief Hospital Course:\\n\\nDuring the ERCP a ...            0   \n1  \\nBrief Hospital Course:\\n\\nDuring the ERCP a ...            1   \n2  \\nBrief Hospital Course:\\n\\nDuring the ERCP a ...            2   \n3  \\nBrief Hospital Course:\\n\\nDuring the ERCP a ...            3   \n4  \\nBrief Hospital Course:\\n\\nDuring the ERCP a ...            4   \n\n                                       sentence_text paragraph_id  \\\n0             \\nBrief Hospital Course:\\n                        0   \n1  \\nDuring the ERCP a pancreatic stent was requi...            1   \n2  \\nHowever, due to the patient's elevated INR, ...            1   \n3  \\nFrank pus was noted to be draining\\nfrom the...            1   \n4  \\nThe\\nVancomycin was discontinued.\\n                        1   \n\n  start_char_index length     relevance   document_id document_source  \n0                0     22  not-relevant  179164_41762       mimic-iii  \n1                0    243     essential  179164_41762       mimic-iii  \n2              244     93  not-relevant  179164_41762       mimic-iii  \n3              338    151  not-relevant  179164_41762       mimic-iii  \n4              490     32  not-relevant  179164_41762       mimic-iii  ",
      "text/html": "<div>\n<style scoped>\n    .dataframe tbody tr th:only-of-type {\n        vertical-align: middle;\n    }\n\n    .dataframe tbody tr th {\n        vertical-align: top;\n    }\n\n    .dataframe thead th {\n        text-align: right;\n    }\n</style>\n<table border=\"1\" class=\"dataframe\">\n  <thead>\n    <tr style=\"text-align: right;\">\n      <th></th>\n      <th>case_id</th>\n      <th>patient_narrative</th>\n      <th>patient_question</th>\n      <th>clinician_question</th>\n      <th>note_excerpt</th>\n      <th>sentence_id</th>\n      <th>sentence_text</th>\n      <th>paragraph_id</th>\n      <th>start_char_index</th>\n      <th>length</th>\n      <th>relevance</th>\n      <th>document_id</th>\n      <th>document_source</th>\n    </tr>\n  </thead>\n  <tbody>\n    <tr>\n      <th>0</th>\n      <td>1</td>\n      <td>\\nI had severe abdomen pain and was hospitalis...</td>\n      <td>\\nMy question is if the sludge was there does ...</td>\n      <td>\\nWhy was ERCP recommended to him over continu...</td>\n      <td>\\nBrief Hospital Course:\\n\\nDuring the ERCP a ...</td>\n      <td>0</td>\n      <td>\\nBrief Hospital Course:\\n</td>\n      <td>0</td>\n      <td>0</td>\n      <td>22</td>\n      <td>not-relevant</td>\n      <td>179164_41762</td>\n      <td>mimic-iii</td>\n    </tr>\n    <tr>\n      <th>1</th>\n      <td>1</td>\n      <td>\\nI had severe abdomen pain and was hospitalis...</td>\n      <td>\\nMy question is if the sludge was there does ...</td>\n      <td>\\nWhy was ERCP recommended to him over continu...</td>\n      <td>\\nBrief Hospital Course:\\n\\nDuring the ERCP a ...</td>\n      <td>1</td>\n      <td>\\nDuring the ERCP a pancreatic stent was requi...</td>\n      <td>1</td>\n      <td>0</td>\n      <td>243</td>\n      <td>essential</td>\n      <td>179164_41762</td>\n      <td>mimic-iii</td>\n    </tr>\n    <tr>\n      <th>2</th>\n      <td>1</td>\n      <td>\\nI had severe abdomen pain and was hospitalis...</td>\n      <td>\\nMy question is if the sludge was there does ...</td>\n      <td>\\nWhy was ERCP recommended to him over continu...</td>\n      <td>\\nBrief Hospital Course:\\n\\nDuring the ERCP a ...</td>\n      <td>2</td>\n      <td>\\nHowever, due to the patient's elevated INR, ...</td>\n      <td>1</td>\n      <td>244</td>\n      <td>93</td>\n      <td>not-relevant</td>\n      <td>179164_41762</td>\n      <td>mimic-iii</td>\n    </tr>\n    <tr>\n      <th>3</th>\n      <td>1</td>\n      <td>\\nI had severe abdomen pain and was hospitalis...</td>\n      <td>\\nMy question is if the sludge was there does ...</td>\n      <td>\\nWhy was ERCP recommended to him over continu...</td>\n      <td>\\nBrief Hospital Course:\\n\\nDuring the ERCP a ...</td>\n      <td>3</td>\n      <td>\\nFrank pus was noted to be draining\\nfrom the...</td>\n      <td>1</td>\n      <td>338</td>\n      <td>151</td>\n      <td>not-relevant</td>\n      <td>179164_41762</td>\n      <td>mimic-iii</td>\n    </tr>\n    <tr>\n      <th>4</th>\n      <td>1</td>\n      <td>\\nI had severe abdomen pain and was hospitalis...</td>\n      <td>\\nMy question is if the sludge was there does ...</td>\n      <td>\\nWhy was ERCP recommended to him over continu...</td>\n      <td>\\nBrief Hospital Course:\\n\\nDuring the ERCP a ...</td>\n      <td>4</td>\n      <td>\\nThe\\nVancomycin was discontinued.\\n</td>\n      <td>1</td>\n      <td>490</td>\n      <td>32</td>\n      <td>not-relevant</td>\n      <td>179164_41762</td>\n      <td>mimic-iii</td>\n    </tr>\n  </tbody>\n</table>\n</div>"
     },
     "execution_count": 46,
     "metadata": {},
     "output_type": "execute_result"
    }
   ],
   "source": [
    "all_df.head()"
   ]
  },
  {
   "cell_type": "code",
   "execution_count": 47,
   "metadata": {
    "tags": []
   },
   "outputs": [
    {
     "data": {
      "text/plain": "\"\\nBrief Hospital Course:\\n\\nDuring the ERCP a pancreatic stent was required to facilitate\\naccess to the biliary system (removed at the end of the\\nprocedure), and a common bile duct stent was placed to allow\\ndrainage of the biliary obstruction caused by stones and sludge.\\nHowever, due to the patient's elevated INR, no sphincterotomy or\\nstone removal was performed. Frank pus was noted to be draining\\nfrom the common bile duct, and post-ERCP it was recommended that\\nthe patient remain on IV Zosyn for at least a week. The\\nVancomycin was discontinued.\\n\\nOn hospital day 4 (post-procedure day 3) the patient returned to\\nERCP for re-evaluation of her biliary stent as her LFTs and\\nbilirubin continued an upward trend. On ERCP the previous\\nbiliary stent was noted to be acutely obstructed by biliary\\nsludge and stones. As the patient's INR was normalized to 1.2, a\\nsphincterotomy was safely performed, with removal of several\\nbiliary stones in addition to the common bile duct stent. At the\\nconclusion of the procedure, retrograde cholangiogram was\\nnegative for filling defects.\\n        \""
     },
     "execution_count": 47,
     "metadata": {},
     "output_type": "execute_result"
    }
   ],
   "source": [
    "all_df.iloc[0].note_excerpt"
   ]
  },
  {
   "cell_type": "markdown",
   "metadata": {},
   "source": [
    "# Data View"
   ]
  },
  {
   "cell_type": "markdown",
   "metadata": {},
   "source": [
    "Routine check for missing values"
   ]
  },
  {
   "cell_type": "code",
   "execution_count": 48,
   "metadata": {
    "collapsed": false,
    "jupyter": {
     "outputs_hidden": false
    },
    "tags": []
   },
   "outputs": [
    {
     "data": {
      "text/plain": "case_id               0\npatient_narrative     0\npatient_question      0\nclinician_question    0\nnote_excerpt          0\nsentence_id           0\nsentence_text         0\nparagraph_id          0\nstart_char_index      0\nlength                0\nrelevance             0\ndocument_id           0\ndocument_source       0\ndtype: int64"
     },
     "execution_count": 48,
     "metadata": {},
     "output_type": "execute_result"
    }
   ],
   "source": [
    "all_df.isna().sum()"
   ]
  },
  {
   "cell_type": "markdown",
   "metadata": {},
   "source": [
    "List categories of relevance"
   ]
  },
  {
   "cell_type": "code",
   "execution_count": 49,
   "metadata": {
    "collapsed": false,
    "jupyter": {
     "outputs_hidden": false
    },
    "tags": []
   },
   "outputs": [
    {
     "data": {
      "text/plain": "relevance\nnot-relevant     239\nessential        138\nsupplementary     51\nName: count, dtype: int64"
     },
     "execution_count": 49,
     "metadata": {},
     "output_type": "execute_result"
    }
   ],
   "source": [
    "all_df[\"relevance\"].value_counts()"
   ]
  },
  {
   "cell_type": "markdown",
   "metadata": {},
   "source": [
    "List distribution of different documents"
   ]
  },
  {
   "cell_type": "code",
   "execution_count": 50,
   "metadata": {
    "collapsed": false,
    "jupyter": {
     "outputs_hidden": false
    },
    "tags": []
   },
   "outputs": [
    {
     "data": {
      "text/plain": "document_id\n169976_23897    54\n26520572        38\n100035_41331    32\n137866_53960    30\n22086761        30\n22805349        27\n104041_30389    25\n190179_39908    23\n23831520        23\n180932_37135    21\n139801_38724    21\n20746225        18\n25926743        14\n21866822        12\n27422858        12\n191708_35669    11\n132786_42206    10\n179164_41762     9\n20361094         9\n22494097         9\nName: count, dtype: int64"
     },
     "execution_count": 50,
     "metadata": {},
     "output_type": "execute_result"
    }
   ],
   "source": [
    "all_df[\"document_id\"].value_counts()"
   ]
  },
  {
   "cell_type": "code",
   "execution_count": 51,
   "metadata": {
    "tags": []
   },
   "outputs": [],
   "source": [
    "test = all_df[\"note_excerpt\"].unique()"
   ]
  },
  {
   "cell_type": "code",
   "execution_count": 52,
   "metadata": {
    "tags": []
   },
   "outputs": [
    {
     "name": "stdout",
     "output_type": "stream",
     "text": [
      "\n",
      "Brief Hospital Course:\n",
      "\n",
      "During the ERCP a pancreatic stent was required to facilitate\n",
      "access to the biliary system (removed at the end of the\n",
      "procedure), and a common bile duct stent was placed to allow\n",
      "drainage of the biliary obstruction caused by stones and sludge.\n",
      "However, due to the patient's elevated INR, no sphincterotomy or\n",
      "stone removal was performed. Frank pus was noted to be draining\n",
      "from the common bile duct, and post-ERCP it was recommended that\n",
      "the patient remain on IV Zosyn for at least a week. The\n",
      "Vancomycin was discontinued.\n",
      "\n",
      "On hospital day 4 (post-procedure day 3) the patient returned to\n",
      "ERCP for re-evaluation of her biliary stent as her LFTs and\n",
      "bilirubin continued an upward trend. On ERCP the previous\n",
      "biliary stent was noted to be acutely obstructed by biliary\n",
      "sludge and stones. As the patient's INR was normalized to 1.2, a\n",
      "sphincterotomy was safely performed, with removal of several\n",
      "biliary stones in addition to the common bile duct stent. At the\n",
      "conclusion of the procedure, retrograde cholangiogram was\n",
      "negative for filling defects.\n",
      "        \n"
     ]
    }
   ],
   "source": [
    "print(test[0])"
   ]
  },
  {
   "cell_type": "markdown",
   "metadata": {},
   "source": [
    "# Data Cleaning"
   ]
  },
  {
   "cell_type": "code",
   "execution_count": 53,
   "metadata": {
    "collapsed": false,
    "jupyter": {
     "outputs_hidden": false
    },
    "tags": []
   },
   "outputs": [],
   "source": [
    "text_columns = [\"patient_narrative\", \"patient_question\", \"clinician_question\", \"note_excerpt\", \"sentence_text\"]"
   ]
  },
  {
   "cell_type": "code",
   "execution_count": 54,
   "metadata": {
    "tags": []
   },
   "outputs": [],
   "source": [
    "cleaned_data = clean_text_df(all_df, text_columns, list_columns=[])"
   ]
  },
  {
   "cell_type": "code",
   "execution_count": 55,
   "metadata": {
    "tags": []
   },
   "outputs": [
    {
     "data": {
      "text/plain": "\"Brief Hospital Course: During the ERCP a pancreatic stent was required to facilitate access to the biliary system (removed at the end of the procedure), and a common bile duct stent was placed to allow drainage of the biliary obstruction caused by stones and sludge. However, due to the patient's elevated INR, no sphincterotomy or stone removal was performed. Frank pus was noted to be draining from the common bile duct, and post-ERCP it was recommended that the patient remain on IV Zosyn for at least a week. The Vancomycin was discontinued. On hospital day 4 (post-procedure day 3) the patient returned to ERCP for re-evaluation of her biliary stent as her LFTs and bilirubin continued an upward trend. On ERCP the previous biliary stent was noted to be acutely obstructed by biliary sludge and stones. As the patient's INR was normalized to 1.2, a sphincterotomy was safely performed, with removal of several biliary stones in addition to the common bile duct stent. At the conclusion of the procedure, retrograde cholangiogram was negative for filling defects.\""
     },
     "execution_count": 55,
     "metadata": {},
     "output_type": "execute_result"
    }
   ],
   "source": [
    "cleaned_data.iloc[0].note_excerpt"
   ]
  },
  {
   "cell_type": "markdown",
   "metadata": {},
   "source": [
    "Save the processed data (using csv instead of pickle for now since dataset is fairly small)"
   ]
  },
  {
   "cell_type": "code",
   "execution_count": 56,
   "metadata": {
    "tags": []
   },
   "outputs": [
    {
     "data": {
      "text/plain": "20"
     },
     "execution_count": 56,
     "metadata": {},
     "output_type": "execute_result"
    }
   ],
   "source": [
    "cleaned_data[\"case_id\"].nunique()"
   ]
  },
  {
   "cell_type": "code",
   "execution_count": 57,
   "metadata": {
    "tags": []
   },
   "outputs": [
    {
     "data": {
      "text/plain": "20"
     },
     "execution_count": 57,
     "metadata": {},
     "output_type": "execute_result"
    }
   ],
   "source": [
    "cleaned_data[\"note_excerpt\"].nunique()"
   ]
  },
  {
   "cell_type": "markdown",
   "metadata": {},
   "source": [
    "# Attribute Selection "
   ]
  },
  {
   "cell_type": "code",
   "execution_count": 58,
   "metadata": {
    "tags": []
   },
   "outputs": [],
   "source": [
    "relevant_columns = [\"case_id\", \"patient_question\", \"clinician_question\", \"note_excerpt\", \"sentence_id\", \"sentence_text\", \"relevance\", \"start_char_index\", \"length\"]"
   ]
  },
  {
   "cell_type": "code",
   "execution_count": 59,
   "metadata": {
    "tags": []
   },
   "outputs": [],
   "source": [
    "cleaned_data = cleaned_data[relevant_columns]"
   ]
  },
  {
   "cell_type": "code",
   "execution_count": 60,
   "metadata": {
    "tags": []
   },
   "outputs": [
    {
     "data": {
      "text/plain": "relevance\nnot-relevant     239\nessential        138\nsupplementary     51\nName: count, dtype: int64"
     },
     "execution_count": 60,
     "metadata": {},
     "output_type": "execute_result"
    }
   ],
   "source": [
    "cleaned_data[\"relevance\"].value_counts()"
   ]
  },
  {
   "cell_type": "code",
   "execution_count": 61,
   "metadata": {
    "tags": []
   },
   "outputs": [
    {
     "data": {
      "text/plain": "<Figure size 640x480 with 1 Axes>",
      "image/png": "[encoded data removed]"
     },
     "metadata": {},
     "output_type": "display_data"
    }
   ],
   "source": [
    "sns.countplot(x=\"relevance\", data=cleaned_data)\n",
    "plt.title(\"Class Distribution in 'relevance'\")\n",
    "plt.xlabel(\"Relevance\")\n",
    "plt.ylabel(\"Count\")\n",
    "plt.show()"
   ]
  },
  {
   "cell_type": "markdown",
   "metadata": {},
   "source": [
    "# Transform to right format "
   ]
  },
  {
   "cell_type": "code",
   "execution_count": 62,
   "metadata": {
    "tags": []
   },
   "outputs": [],
   "source": [
    "# Group by case_id and build sentence list + label list\n",
    "def aggregate_case(group):\n",
    "    sentences = group[\"sentence_text\"].tolist()\n",
    "    labels = [1 if rel in [\"essential\", \"relevant\"] else 0 for rel in group[\"relevance\"]]\n",
    "    return pd.Series({\n",
    "        \"patient_question\": group[\"patient_question\"].iloc[0],\n",
    "        \"clinician_question\": group[\"clinician_question\"].iloc[0],\n",
    "        \"note_excerpt\": group[\"note_excerpt\"].iloc[0],\n",
    "        \"sentences\": sentences,\n",
    "        \"sentence_text\": group[\"sentence_text\"].iloc[0],\n",
    "        \"labels\": labels\n",
    "    })"
   ]
  },
  {
   "cell_type": "code",
   "execution_count": 63,
   "metadata": {
    "tags": []
   },
   "outputs": [
    {
     "name": "stderr",
     "output_type": "stream",
     "text": [
      "/var/folders/m4/prj94mxs4pn6lk9nc4z7vrc80000gn/T/ipykernel_28459/3505924840.py:2: DeprecationWarning: DataFrameGroupBy.apply operated on the grouping columns. This behavior is deprecated, and in a future version of pandas the grouping columns will be excluded from the operation. Either pass `include_groups=False` to exclude the groupings or explicitly select the grouping columns after groupby to silence this warning.\n",
      "  cleaned_data[[\"case_id\", \"patient_question\", \"clinician_question\", \"note_excerpt\", \"sentence_text\", \"relevance\"]]\n"
     ]
    }
   ],
   "source": [
    "data_agg = (\n",
    "    cleaned_data[[\"case_id\", \"patient_question\", \"clinician_question\", \"note_excerpt\", \"sentence_text\", \"relevance\"]]\n",
    "    .groupby(\"case_id\")\n",
    "    .apply(aggregate_case)\n",
    "    .reset_index()\n",
    ")"
   ]
  },
  {
   "cell_type": "markdown",
   "metadata": {},
   "source": [
    "**Quick sanity check**"
   ]
  },
  {
   "cell_type": "code",
   "execution_count": 64,
   "metadata": {
    "tags": []
   },
   "outputs": [
    {
     "data": {
      "text/plain": "   case_id                                   patient_question  \\\n0        1  My question is if the sludge was there does no...   \n1        2  dad given multiple shots of lasciks after he w...   \n2        3  he is continously irritated and has headache w...   \n3        4       My doctor performed a cardiac catherization.   \n4        5  I overdosed October 4th on trihexyphenidyl, th...   \n\n                                  clinician_question  \\\n0  Why was ERCP recommended to him over continuin...   \n1  Why was he given lasix and his oxygen flow rat...   \n2   What is the expected course of recovery for him?   \n3  Why was cardiac catheterization recommended to...   \n4  Is the pain connected to the overdose or somet...   \n\n                                        note_excerpt  \\\n0  Brief Hospital Course: During the ERCP a pancr...   \n1  Brief Hospital Course: Acute diastolic heart f...   \n2  Discharge Instructions: You were admitted to t...   \n3  History of Present Illness: On the cardiology ...   \n4  Brief Hospital Course: # Bipolar d/o, PTSD, sc...   \n\n                                           sentences  \\\n0  [Brief Hospital Course:, During the ERCP a pan...   \n1  [Brief Hospital Course:, Acute diastolic heart...   \n2  [Discharge Instructions: You were admitted to ...   \n3  [History of Present Illness:, On the cardiolog...   \n4  [Brief Hospital Course:, # Bipolar d/o, PTSD, ...   \n\n                                       sentence_text  \\\n0                             Brief Hospital Course:   \n1                             Brief Hospital Course:   \n2  Discharge Instructions: You were admitted to t...   \n3                        History of Present Illness:   \n4                             Brief Hospital Course:   \n\n                                              labels  \n0                        [0, 1, 0, 0, 0, 1, 1, 1, 0]  \n1                  [0, 1, 0, 0, 1, 0, 0, 1, 0, 0, 0]  \n2                     [0, 0, 0, 0, 1, 1, 0, 0, 0, 0]  \n3  [0, 0, 0, 0, 1, 0, 0, 0, 0, 0, 0, 0, 0, 0, 0, ...  \n4  [0, 0, 1, 0, 0, 0, 0, 0, 1, 1, 1, 1, 1, 0, 0, ...  ",
      "text/html": "<div>\n<style scoped>\n    .dataframe tbody tr th:only-of-type {\n        vertical-align: middle;\n    }\n\n    .dataframe tbody tr th {\n        vertical-align: top;\n    }\n\n    .dataframe thead th {\n        text-align: right;\n    }\n</style>\n<table border=\"1\" class=\"dataframe\">\n  <thead>\n    <tr style=\"text-align: right;\">\n      <th></th>\n      <th>case_id</th>\n      <th>patient_question</th>\n      <th>clinician_question</th>\n      <th>note_excerpt</th>\n      <th>sentences</th>\n      <th>sentence_text</th>\n      <th>labels</th>\n    </tr>\n  </thead>\n  <tbody>\n    <tr>\n      <th>0</th>\n      <td>1</td>\n      <td>My question is if the sludge was there does no...</td>\n      <td>Why was ERCP recommended to him over continuin...</td>\n      <td>Brief Hospital Course: During the ERCP a pancr...</td>\n      <td>[Brief Hospital Course:, During the ERCP a pan...</td>\n      <td>Brief Hospital Course:</td>\n      <td>[0, 1, 0, 0, 0, 1, 1, 1, 0]</td>\n    </tr>\n    <tr>\n      <th>1</th>\n      <td>2</td>\n      <td>dad given multiple shots of lasciks after he w...</td>\n      <td>Why was he given lasix and his oxygen flow rat...</td>\n      <td>Brief Hospital Course: Acute diastolic heart f...</td>\n      <td>[Brief Hospital Course:, Acute diastolic heart...</td>\n      <td>Brief Hospital Course:</td>\n      <td>[0, 1, 0, 0, 1, 0, 0, 1, 0, 0, 0]</td>\n    </tr>\n    <tr>\n      <th>2</th>\n      <td>3</td>\n      <td>he is continously irritated and has headache w...</td>\n      <td>What is the expected course of recovery for him?</td>\n      <td>Discharge Instructions: You were admitted to t...</td>\n      <td>[Discharge Instructions: You were admitted to ...</td>\n      <td>Discharge Instructions: You were admitted to t...</td>\n      <td>[0, 0, 0, 0, 1, 1, 0, 0, 0, 0]</td>\n    </tr>\n    <tr>\n      <th>3</th>\n      <td>4</td>\n      <td>My doctor performed a cardiac catherization.</td>\n      <td>Why was cardiac catheterization recommended to...</td>\n      <td>History of Present Illness: On the cardiology ...</td>\n      <td>[History of Present Illness:, On the cardiolog...</td>\n      <td>History of Present Illness:</td>\n      <td>[0, 0, 0, 0, 1, 0, 0, 0, 0, 0, 0, 0, 0, 0, 0, ...</td>\n    </tr>\n    <tr>\n      <th>4</th>\n      <td>5</td>\n      <td>I overdosed October 4th on trihexyphenidyl, th...</td>\n      <td>Is the pain connected to the overdose or somet...</td>\n      <td>Brief Hospital Course: # Bipolar d/o, PTSD, sc...</td>\n      <td>[Brief Hospital Course:, # Bipolar d/o, PTSD, ...</td>\n      <td>Brief Hospital Course:</td>\n      <td>[0, 0, 1, 0, 0, 0, 0, 0, 1, 1, 1, 1, 1, 0, 0, ...</td>\n    </tr>\n  </tbody>\n</table>\n</div>"
     },
     "execution_count": 64,
     "metadata": {},
     "output_type": "execute_result"
    }
   ],
   "source": [
    "data_agg.head()"
   ]
  },
  {
   "cell_type": "markdown",
   "metadata": {},
   "source": [
    "**Save only if needed**"
   ]
  },
  {
   "cell_type": "code",
   "execution_count": 65,
   "metadata": {
    "collapsed": false,
    "jupyter": {
     "outputs_hidden": false
    },
    "tags": []
   },
   "outputs": [],
   "source": [
    "'''\n",
    "data_agg.to_csv(output_dir / \"medical_data.csv\", index=False)\n",
    "print(\"Cleaned dataset saved successfully!\")\n",
    "''';"
   ]
  },
  {
   "cell_type": "markdown",
   "metadata": {},
   "source": [
    "# In-Depth Look at the Questions"
   ]
  },
  {
   "cell_type": "code",
   "execution_count": 34,
   "metadata": {},
   "outputs": [],
   "source": [
    "questions = data_agg[[\"patient_question\", \"clinician_question\"]].drop_duplicates()"
   ]
  },
  {
   "cell_type": "code",
   "execution_count": 45,
   "metadata": {
    "tags": []
   },
   "outputs": [
    {
     "name": "stdout",
     "output_type": "stream",
     "text": [
      "PQ: My question is if the sludge was there does not the medication help in flushing it out? Whether ERCP was the only cure?\n",
      "CQ: Why was ERCP recommended to him over continuing a medication-based treatment?\n",
      "\n",
      "Note Excerpt:\n",
      "1(0): Brief Hospital Course:\n",
      "2(1): During the ERCP a pancreatic stent was required to facilitate access to the biliary system (removed at the end of the procedure), and a common bile duct stent was placed to allow drainage of the biliary obstruction caused by stones and sludge.\n",
      "3(0): However, due to the patient's elevated INR, no sphincterotomy or stone removal was performed.\n",
      "4(0): Frank pus was noted to be draining from the common bile duct, and post-ERCP it was recommended that the patient remain on IV Zosyn for at least a week.\n",
      "5(0): The Vancomycin was discontinued.\n",
      "6(1): On hospital day 4 (post-procedure day 3) the patient returned to ERCP for re-evaluation of her biliary stent as her LFTs and bilirubin continued an upward trend.\n",
      "7(1): On ERCP the previous biliary stent was noted to be acutely obstructed by biliary sludge and stones.\n",
      "8(1): As the patient's INR was normalized to 1.2, a sphincterotomy was safely performed, with removal of several biliary stones in addition to the common bile duct stent.\n",
      "9(0): At the conclusion of the procedure, retrograde cholangiogram was negative for filling defects.\n",
      "\n",
      "--------------------------------------------------------\n",
      "\n",
      "PQ: dad given multiple shots of lasciks after he was already so swelled his shin looked like it would burst open. Why would they give him so much.\n",
      "CQ: Why was he given lasix and his oxygen flow rate was reduced?\n",
      "\n",
      "Note Excerpt:\n",
      "1(0): Brief Hospital Course:\n",
      "2(1): Acute diastolic heart failure: Pt developed signs and symptoms of volume overload on [**2201-3-8**] with shortness of breath, increased oxygen requirement and lower extremity edema.\n",
      "3(0): Echo showed preserved EF, no WMA and worsening AI.\n",
      "4(0): CHF most likely secondary to worsening valvular disease.\n",
      "5(1): He was diuresed with lasix IV, intermittently on lasix gtt then transitioned to PO torsemide with improvement in symptoms, although remained on a small amount of supplemental oxygen for comfort.\n",
      "6(0): Respiratory failure: The patient was intubated for lethargy and acidosis initially and was given 8 L on his presentation to help maintain his BP's.\n",
      "7(0): This undoubtedly contributed to his continued hypoxemic respiratory failure.\n",
      "8(1): He was advanced to pressure support with stable ventilation and oxygenation.\n",
      "9(0): On transfer to the CCU patient was still intubated but off pressors.\n",
      "10(0): Patient was extubated successfully.\n",
      "11(0): He was reintubated [**2201-3-1**] transiently for 48 hours for urgent TEE and subsequently extubated without adverse effect or complication.\n",
      "\n",
      "--------------------------------------------------------\n",
      "\n",
      "PQ: he is continously irritated and has headache when awake what do ido\n",
      "CQ: What is the expected course of recovery for him?\n",
      "\n",
      "Note Excerpt:\n",
      "1(0): Discharge Instructions: You were admitted to the hospital after sustaining a trauamtic brain injury due to a fall.\n",
      "2(0): This injury did not require any operations.\n",
      "3(0): It was also noted on chest xray that there is an area of consolidation in your lung.\n",
      "4(0): The infectious Disease doctors [**First Name (Titles) **] [**Last Name (Titles) 4221**] for recommendations on antibiotic treatment.\n",
      "5(1): Because of your head injury you may experience some of the following symptoms: drowsiness, headaches, dizziness, irritability, short term memory loss - these are all normal and should decrease over the next several weeks.\n",
      "6(1): It is being strongly recommended that you follow up with Dr. [**First Name8 (NamePattern2) **] [**Last Name (NamePattern1) **] who is a doctor [**First Name (Titles) **] [**Last Name (Titles) 91506**] in trauamtic brain injuries.\n",
      "7(0): His contact information has been provided to you.\n",
      "8(0): Please report any:\n",
      "9(0): *fever *new onset sweats *chills *headaches *cough *difficulty breathing *yellow/green sputum *shortness of breath\n",
      "10(0): Please report any: *visual changes *weakness on one side of your body *speech difficulty\n",
      "\n",
      "--------------------------------------------------------\n",
      "\n",
      "PQ: My doctor performed a cardiac catherization.\n",
      "CQ: Why was cardiac catheterization recommended to the patient?\n",
      "\n",
      "Note Excerpt:\n",
      "1(0): History of Present Illness:\n",
      "2(0): On the cardiology service his abdominal pain, nausea, vomitting was felt to be secondary to congestive hepatopathy, his cough due to CHF vs asthma, and his syncope was felt to be secondary to a coughing spell leading to increased intra-abdominal pressures and therefore reduced preload in the setting of low-output state.\n",
      "3(0): His ICD interrogation was negative for any events.\n",
      "4(0): He was aggressively diuresed with a net 10 liters negative since admission.\n",
      "5(1): He underwent RHC for milrinone trial, which proved to be successful.\n",
      "6(0): His mean PCW went from 30 to 22, and his Fick C.I. went from 1.72 to 2.79.\n",
      "7(0): Brief Hospital Course: 48M with idiopathic dilated cardiomyopathy (EF 25%, on coumadin & s/p ICD placement), HTN, CKD (baseline Cr 1.3-1.6) & asthma who presents with syncope, found to be in acute-on-chronic heart failure.\n",
      "8(0): #) ACUTE-ON-CHRONIC SYSTOLIC HEART FAILURE\n",
      "9(0): Underlying exacerbation of chronic heart failure [**2-1**] known idiopathic cardiomyopathy likely explanation for numerous presenting symptoms including syncope, abdominal pain, and dyspnea.\n",
      "10(0): Last echo [**8-/2119**] showed LVEF = 25%.\n",
      "11(0): He was admitted in the setting of low output heart failure, leading to increased intra-abdominal pressures causing congestive hepatopathy/abdominal pain/RUQ tenderness.\n",
      "12(0): Abdominal distension also thought to contribute to syncope.\n",
      "13(0): Cardiac output and wedge pressure significantly improved after milrinone infusion.\n",
      "14(0): In the ICU he was maintained on milrinone at a rate of 0.5 mcg/hr and transferred to the floor on this stable dose.\n",
      "15(0): Torsemide 80mg daily was restarted; he was discharged on milrinone and torsemide.\n",
      "16(1): Heart failure specialists had honest discussions with the patient about his long-term prognosis; he will continue to be followed closely in heart failure clinic at [**Hospital1 18**] and will continue work-up for potential heart transplant at [**Hospital1 3278**]/[**Hospital1 336**].\n",
      "17(0): Discharge Instructions:\n",
      "18(1): You were admitted to the hospital with worsening heart failure.\n",
      "19(1): You had a cardiac catheterization that showed you would benefit from milrinone.\n",
      "20(0): You were started on a milrinone drip, with improvement in your heart's pump function.\n",
      "21(0): You were also diuresed for 6 liters of fluid.\n",
      "\n",
      "--------------------------------------------------------\n",
      "\n",
      "PQ: I overdosed October 4th on trihexyphenidyl, thorazine, and cocaine.\n",
      "CQ: Is the pain connected to the overdose or something else?\n",
      "\n",
      "Note Excerpt:\n",
      "1(0): Brief Hospital Course:\n",
      "2(0): # Bipolar d/o, PTSD, schizophrenia: Psychiatry consult recommended that all psych medications be held until they could be re-prescribed by pt's outpatient psychiatrist.\n",
      "3(1): During hospital course, thorazine was restarted but discontinued soon after because pt became tachycardic; pt remained asymptomatic during these episodes of tachycardia.\n",
      "4(0): Tachycardia resolved with discontinuation of thorazine, IV hydration, and small dose of IV benzodiazepene x 1.\n",
      "5(0): Social work consult was obtained because pt did not have a PCP nor did he have a psychiatrist.\n",
      "6(0): He could not see his former psychiatrist due to insurance reasons.\n",
      "7(0): With the help of social work, pt was set up with a PCP who would be able to refer him to a new psychiatrist in a timely fashion.\n",
      "8(0): He was instructed to follow-up with his new psychiatrist to restart his psychiatric medications.\n",
      "9(1): # Chest pain: Pt complained of chest pain during hospital course that appeared musculoskeletal as it was reproducible with palpation and pt reported more pain with movement.\n",
      "10(1): EKG showed no ischemic changes and troponins were flat x 4. CK was elevated, peaking at 1405 but downtrended without any intervention.\n",
      "11(1): TTE was obtained due to history of cocaine use to rule out cardiac events.\n",
      "12(1): EF was >55%; TTE was unremarkable.\n",
      "13(1): He was monitored on telemetry without significant events.\n",
      "14(0): Discharge Instructions:\n",
      "15(0): It was a pleasure taking care of you at the hospital.\n",
      "16(1): You were admitted with confusion that was likely due to a combination of the medications you were taking and the street drugs that you may have also been used.\n",
      "17(1): Your heart rhythm was monitored because many of these drugs can affect your heart.\n",
      "18(1): Your EKG and blood tests showed that you likely did not have a heart attack.\n",
      "19(1): An ultrasound of your heart was also normal.\n",
      "20(0): Your confusion cleared during your hospital stay.\n",
      "21(0): You were seen by our psychiatry team who recommended holding all of your medications while you were in the hospital.\n",
      "22(0): It is very important that you follow-up with a primary care doctor who can refer you to a psychiatrist.\n",
      "23(0): This psychiatrist can then prescribe to you the medications you were normally taking.\n",
      "\n",
      "--------------------------------------------------------\n",
      "\n",
      "PQ: My question is if the Dr fail to diagonise the lung infection in time?\n",
      "CQ: Why did they find out later that he had fungal pneumonia?\n",
      "\n",
      "Note Excerpt:\n",
      "1(0): History of Present Illness: Mr. [**Known lastname 47367**] is a 58-year-old man with a history of AML s/p allogeneic transplant [**2142**] complicated by graft-versus-host disease, multiple vertebral fractures and ultimately development of paraplegia in the setting of a vertebral fracture during a code situation.\n",
      "2(1): Admitted multiple times, most recently [**8-/2148**] for bacteremia and upper resp infection (cx: staph epi) and completed a course of vancomcyin, aztreonam.\n",
      "3(0): Discharged from rehab and home (wheelchair bound) with recent clinic followup [**9-26**] noting baseline health.\n",
      "4(0): Pertinent Results:\n",
      "5(1): BLOOD/FUNGAL CULTURE (Preliminary): [**Female First Name (un) **] (TORULOPSIS) GLABRATA.\n",
      "6(0): Brief Hospital Course:\n",
      "7(1): # Goals of care: After frequent discussions with family and physicians involved in the pt's case and gradual reduction in number of interventions performed, it was decided to transition to comfort measures only on [**10-12**].\n",
      "8(0): The below medical treaments, lab draws, and imaging procedures were held.\n",
      "9(0): The pt was kept in IV morphine, tylenol, and ativan to keep comfortable.\n",
      "10(0): He died peacefully on the morning of [**2148-10-13**].\n",
      "11(0): # Pneumonia: Productive cough followed by somnolence in the setting of starting Ambien and Valium in addition to his home oxycontin.\n",
      "12(1): CXR with LLL consolidation.\n",
      "13(1): Sputum gram stain with GPCs in clusters, GPCs in pairs and chains and GNRs and yeast.\n",
      "14(1): Started on vanco, [**Last Name (un) 2830**] (day 1: [**9-30**]), mica (day 1: [**10-3**]) in consultation with ID.\n",
      "15(1): Due to worsening CXR, vanco was changed to linezolid (day 1: [**10-6**]) per ID recs.\n",
      "16(1): Also question of possible pulmonary congestion, so pt was started on IV lasix.\n",
      "17(1): On [**10-8**], the pt appeared to have worsening WBC and respiratory distress.\n",
      "18(1): He was started on ambisome and given a dose of tobramycin.\n",
      "19(1): The tobramycin was thereafter uptitrated with little effect.\n",
      "20(1): Antibiotics were continued despite little improvement.\n",
      "21(1): # Tachycardia: Continues to be in sinus tachycardia in the 130s.\n",
      "22(1): Initially in the 160s, but has improved with fluids.\n",
      "23(1): Likely multifactorial with PE, pain, hypovolemia, and withdrawal from opioids all contributing.\n",
      "24(0): He was given several doses of narcan at OSH and his home narcotics were initially held in the setting of hypotension.\n",
      "25(0): Morphine drip was started to relieve any pain without any improvement in tachycardia.\n",
      "\n",
      "--------------------------------------------------------\n",
      "\n",
      "PQ: Are there any specific instructions about stopping Coumadin?\n",
      "CQ: Are there specific instructions about blood thinners due to her subarachnoid brain hemorrhage?\n",
      "\n",
      "Note Excerpt:\n",
      "1(0): Brief Hospital Course:\n",
      "2(0): Neuro: Patient was followed by neurosurgery through out her stay.\n",
      "3(1): Due to the extent of hemorrhage, a CTA was obtained to determine if an aneurysm was present, but none were visualized.\n",
      "4(0): Her neurologic status gradually improved and she was weaned from sedation.\n",
      "5(0): Her GCS was 15, though intermittently agitated.\n",
      "6(0): Repeat Head CTA showed expected evolution of the SAH with no evidence of vasospasm or mass effect or midline shift.\n",
      "7(0): She also had unstable fractures of T10 and T11 confirmed by MRI.\n",
      "8(0): She was taken to the OR and underwent posterior fusion on [**2194-4-1**] without event.\n",
      "9(0): Additionally, she had a C4 transverse process fracture with possible ligamentous injury; she had a [**Location (un) 2848**]-J collar which was to be remain in place until follow-up or re-evaluation by Spine surgery, which will be in 6 weeks after discharge on [**2194-4-21**].\n",
      "10(0): She was also evaluated by neurosurgery for her SAH with recommendations to continue Keppra until at least follow-up.\n",
      "11(0): She did not demonstrate seizure activity during her hospitalization.\n",
      "12(0): Heme: Received one unit of blood each on [**4-17**] and [**4-11**].\n",
      "13(0): This was not due to concern for acute bleed but rather due to a slow drift downward.\n",
      "14(1): She had an IVC filter placed on [**4-16**] as well.\n",
      "15(1): She has a history of DVT on coumadin, which was discontinued after filter placement.\n",
      "16(0): Her hematocrit remained stable between 22-23 for several days prior to discharge and did not require additional transfusions beyond [**2194-4-11**].\n",
      "17(0): The patient has a PICC line in place with good placement confirmed on CXR.\n",
      "18(0): Discharge Instructions:\n",
      "19(1): You were on Coumadin (Warfarin) before your injury, but you now have a filter in place to help prevent clots from returning to your heart.\n",
      "20(1): You will not have to continue your coumadin at this point.\n",
      "21(1): Due to prolonged bedrest and the risk of developing a blood clot, you received an 'IVC filter' to prevent clots from returning to your heart.\n",
      "22(0): Followup Instructions:\n",
      "23(1): For your subarachnoid hemorrhage: ??????\n",
      "24(1): Please call ([**Telephone/Fax (1) 88**] to schedule an appointment with Dr. [**First Name (STitle) **], to be seen in four weeks.\n",
      "25(0): ??????\n",
      "26(0): You will need a CT scan of the brain without contrast prior to your appointment.\n",
      "27(0): This can be scheduled when you call to make your office visit appointment.\n",
      "28(0): ??????\n",
      "29(0): We recommend you see Dr [**First Name (STitle) **] in the Traumatic Brain Injury (TBI) clinic the phone number is [**Telephone/Fax (1) 6335**].\n",
      "30(0): If you have any problems booking this appointment please ask for [**First Name8 (NamePattern2) 16367**] [**Last Name (NamePattern1) 16368**].\n",
      "\n",
      "--------------------------------------------------------\n",
      "\n",
      "PQ: My main question if I had posion in my bloodstream does it remain in my system? And I am very concerned about my writing capabilities.\n",
      "CQ: Will the poison damage to his body last and is the confusion related to it?\n",
      "\n",
      "Note Excerpt:\n",
      "1(0): Brief Hospital Course:\n",
      "2(0): # Hyperbilirubinemia, ascites, edema, liver failure: The patient had known risk factors for EtOH hepatitis, and her previous elevation in LFTs was in the context of admitted EtOH use.\n",
      "3(0): However, given the lack of previous history, other causes were investigated.\n",
      "4(0): Infectious hepatitis and AIH labs were negative.\n",
      "5(0): She was treated with albumin.\n",
      "6(0): EGD revealed 4 cords of Grade 2 varices.\n",
      "7(0): Started nadolol [**1-7**], but d/c [**1-8**] for bronchoconstriction.\n",
      "8(0): Propranolol was then started on [**1-19**].\n",
      "9(0): Her MELD score reduced to 16.\n",
      "10(0): Diruesis was started to reduce ascites and peripheral edema.\n",
      "11(0): Dobhoff feeding tube placed [**1-21**] for tube feeding given poor nutritional status.\n",
      "12(0): This came out on [**1-23**] and was replaced after the patient could not maintain caloric intake.\n",
      "13(0): Tube feeds continued at goal at the time of discharge.\n",
      "14(0): # Kidney injury: Cr elevated at 2.2 on admission, last value 0.8 in [**2099**].\n",
      "15(0): Renal ultrasound no evidence of obstruction or hydronephrosis.\n",
      "16(0): Repeat urine lytes showed that she was pre-renal with UNa < 10, FeNa 0.08%.\n",
      "17(0): HRS was considered and treatment with albumin, octreotide and midodrine was initiated.\n",
      "18(0): A course of 5 days treatment did not improve renal function and these treatments were therefore discontinued.\n",
      "19(0): Creatinine improved at the time of discharge to a stable value of ~1\n",
      "20(0): # Respiratory distress and MICU course: On the night of [**1-9**], the patient spiked a temperature to 101 and developed a new oxygen requirement.\n",
      "21(0): She was started on vanc/zosyn for hospital acquired pneumonia but continued to be tachypnic.\n",
      "22(0): In the early morning of [**1-10**], patient became acutely hypoxic with crackles throughout her lung fields.\n",
      "23(1): A CXR was consistent with flash pulmonary edema.\n",
      "24(1): She was treated with IV diuresis and was transferred to the ICU for respiratory distress.\n",
      "25(0): Echocardiography was consistent with volume overload, but there was no clear precipitant for flash pulmonary edema.\n",
      "26(0): The patient recovered rapidly with diuresis and was transferred back to the floor on [**1-11**].\n",
      "27(0): The cardiology team was consulted and recommended outpatient follow-up to ensure resolution of right ventricular distension with appropriate diuresis.\n",
      "28(0): # Mania: Patient had visual hallucination [**1-12**] overnight.\n",
      "29(0): [**Date range (1) 25386**] she became more manic, was not sleeping, and exhibited pressured speech and disorganized thoughts.\n",
      "30(0): Psychiatry consultation was obtained.\n",
      "31(0): She was diagnosed with a mania NOS and was treated with Haldol.\n",
      "32(0): Other medications were not started in the context of liver failure.\n",
      "33(0): She was initially subject to Section 12 for 3 days, however this was discontinued as her mental status normalized with treatment.\n",
      "34(0): This will need outpatient follow-up.\n",
      "35(0): She needs intensive outpatient psychotherapy (potentially dual diagnosis facility) upon leaving LTAC.\n",
      "36(0): Transitional Issues:\n",
      "37(0): - Per Psychiatry:\n",
      "38(1): In outpatient setting, could consider the following non-urgent recommendations.\n",
      "39(1): 1) Neuropsychological testing to determine whether or not there may be longterm cognitive deficits associated with ETOH abuse 2) consider cross-tapering Haldol to another medication with more mood-stabilizing properties (e.g. quetiapine) - Assess when able to change psychiatric meds based on LFTs\n",
      "40(0): Discharge Instructions: It was a pleasure taking care of you at [**Hospital1 827**].\n",
      "41(1): You came to the hospital after being found to have jaundice.\n",
      "42(1): You were found to have liver disease, causing jaundice, and kidney disease, causing fluid buildup throughout your body.\n",
      "43(1): This was treated with hydration and medications that reduce toxin buildup.\n",
      "44(1): Tests were performed to understand the extent of your disease.\n",
      "45(1): You were determined to have cirrhosis (long term damage of your liver), likely due to alcohol intake.\n",
      "46(1): You were treated with diuretics to reduce the fluid overload in your body.\n",
      "47(0): An endoscopy revealed a duodenal ulcer that was thought to be the cause of some slow GI bleeding.\n",
      "48(0): The ulcer was cauterized (burned) and you were treated with omeprazole.\n",
      "49(1): You had an episode of respiratory distress that led to a brief stay in our intensive care unit.\n",
      "50(1): You were there overnight and responded well to medical treatment.\n",
      "51(0): You then returned to the floor.\n",
      "52(1): You were found to have some aspects of mania during your stay.\n",
      "53(1): Our Psychiatry team worked with you and suggested treatment with Haldol.\n",
      "54(1): They also suggested a stay in a psychiatric facility to help you gain control of this disease.\n",
      "\n",
      "--------------------------------------------------------\n",
      "\n",
      "PQ: what treatment provide me at hospital.this is any problem me later\n",
      "CQ: What treatments did she receive for complications during her delivery? Will the treatments cause any problems later?\n",
      "\n",
      "Note Excerpt:\n",
      "1(1): Brief Hospital Course: The patient was initially admitted to the obstetrics and gynecology service for an emergent CSection in the setting of fetal distress and discordant growth.\n",
      "2(1): Her procedure was complicated by massive blood loss of 1.7 liters intraoperatively.\n",
      "3(1): She did not require a hysterectomy for control of her bleeding, but was found to have elevated LFTs (AST250 ALT291 AP350 TBili 10.6 and INR 3.6) as well as rising creatinine.\n",
      "4(0): She was resuscitated with multiple blood product (2 pRBC, 2 FFP, 4L NS) and was taken to the ICU intubated for further recovery with a tentative diagnosis of fatty liver of pregnancy.\n",
      "5(0): During this time she continued to be coagulopathic with worsening LFTs, and large transfusion requirements.\n",
      "6(0): The Acute Care Surgery Service was consulted, at which point she was noted to have an extremely distended abdomen with bladder pressures greater than 50 mmHg.\n",
      "7(0): Her Cr had improved from her intraoperative values, but she continued to have a rising lactate (5.4), evidence of end organ dysfunction (hypotension) and rising peak inspiratory pressures.\n",
      "8(1): A diagnosis of abdominal compartment syndrome was made and the patient taken to the operating room for an emergent decompressive laparotomy.\n",
      "9(0): She was found to have multiple bleeding sources including a left epigastric artgery, and diffuse surface bleeding from the liver without evidence of laceration.\n",
      "10(0): Due to ongoing bleeding and the patient's coagulopathy the patient was left with an open abdomen with a plan for washout following aggressive resuscitation.\n",
      "11(0): She was diagnosed with fulminant hepatic failure and transferred to the transplant surgery team for further management.\n",
      "12(0): Because the patient remained intubated and sedated, and no neurological assessment could be made, a CT Head was obtained that demonstrated significant cerebral edema but no evidence of intracranial hemorrhage, herniation or ischemia.\n",
      "13(0): Neurosurgery was consulted and a bolt placed and management per the standard bolt protocol.\n",
      "14(0): On [**2-24**] (POD#2) the patient was taken to the OR for abdominal washout, but continued to have significant bowel wall edema that prevented abdominal closure.\n",
      "15(1): She also required CVVH due to acute kidney injury, which was initiation on POD 0.\n",
      "16(1): She was managed with the fulminant hepatic failure guidelines and was listed for liver transplantation, with all of her relevant serologies negative.\n",
      "17(0): On [**2-25**], the patient continued to demonstrate no significant neurological function and an MRI was obtained without evidence of acute injury.\n",
      "18(0): She continued to be hypotensive and required D10 to maintain a normal blood glucose.\n",
      "19(0): Endocrinology was consulted for concern of sheehans syndrome or centrally mediated adrenal insufficiency, and cortisol levels were obtained, and were low.\n",
      "20(1): The patient was given a steroid burst with hydrocortisone and weaned to maintainence levels over the next several days.\n",
      "21(1): On [**2-27**] (POD5) the patient was taken to the operating room for an uneventful abdominal closure, and this was performed without difficulty.\n",
      "\n",
      "--------------------------------------------------------\n",
      "\n",
      "PQ: I realize he most likely sustained some brain damage , but do you think he mte be able to continue breathing for long and survive?\n",
      "CQ: Did she sustain any brain damage from the heart attack?\n",
      "\n",
      "Note Excerpt:\n",
      "1(0): Brief Hospital Course:\n",
      "2(1): # PEA arrest and subsequent anoxic brain injury.:\n",
      "3(1): Suspect that original OSH PEA arrest due to hypoxemia or acidosis, with [**Hospital1 18**] ED PEA arrest due to acidosis with admission pH 7.16 on arrival.\n",
      "4(0): TTE with evidence of RV failure to suggest PE. LVEF 30% with known dilated cardiomyopathy.\n",
      "5(0): He was cooled per protocol.\n",
      "6(0): Initially, his EEG was concerning without evident brain activity.\n",
      "7(0): On hospital day 3, there was only comatose activity and his prognosis was guarded.\n",
      "8(0): However, the patient was able to be weaned off the vent and over the course of the next three days his mental status improved.\n",
      "9(0): He was alert, oriented to place and day of the week and moving all 4 extremities.\n",
      "10(0): He became more interactive on transfer to the floor, was initially speaking in spanish and English and not always making sense but then started responding more appropiately and following commands.\n",
      "11(0): On hospital day 11 he had a witnessed grand mal seizure and was given ativan and started on Keppra with neurology consult.\n",
      "12(0): His mental status was worse for 24 hours after the seizure but then he slowly returned to his recent baseline.\n",
      "13(0): He was somewhat aggitated so his Keppra was switched to Topiramate.\n",
      "14(0): He had a subsequent seizure on [**3-18**] with LUE tonic clonic activity and impaired consciousness but this resolved spontaneously after 1-2 minutes.\n",
      "15(0): He was contineud on topamax per neuro recommendations.\n",
      "16(0): OT and PT were consulted and worked with the patient as he will likely require a long rehabilitation course.\n",
      "17(0): At the time of discharge the patient was alert, oriented (though not always to date), following commands but impulsive with poor motor planning leading to several falls.\n",
      "18(0): Neurology notes indicate the patient has the potential toimprove from a neurologic standpoint.\n",
      "19(0): He also may have recurrent seizures which should be treated with ativan IV or IM and do not neccessarily indicate patient needs to return to hospital unless they continue for greater than 5 minutes or he has multiple recurrent seizures or complications such as aspiration.\n",
      "20(0): -patient will be on Topiramate 25mg PO BID until [**3-22**] PM then increase to 50mg po BID for seven days then increase to 75mg [**Hospital1 **] ongoing.\n",
      "21(0): -patient will follow up with Dr. [**Last Name (STitle) **] [**Name (STitle) **] in his s/p arrest neurology clinic -patient will require intensive PT and OT in an anoxic brain injury unit.\n",
      "22(1): Discharge Diagnosis: Anoxic Brain Injury s/p PEA arrest x2 Status Asthmaticus Ventilator Associated Pneumonia Chronic Systolic Heart Failure L1 compression fracture Seizures after hypoxic brain injury\n",
      "23(1): Discharge Condition: Mental Status: Confused - sometimes.\n",
      "24(1): Level of Consciousness: Alert and interactive.\n",
      "25(1): Activity Status: Ambulatory - requires assistance or aid (walker or cane) because he has poor motor planning\n",
      "26(1): Discharge Instructions: You came to the hospital after having a cardiac arrest and an asthma exacerbation.\n",
      "27(1): You had another cardiac arrest in our hospital and were admitted to the MICU.\n",
      "28(1): You required intubation but were able to wean off the machine and breathe on your own.\n",
      "29(1): We treated you for pneumonia and asthma.\n",
      "30(1): Your mental status slowly improved, though you did have 2 seizures, last on [**3-18**].\n",
      "31(1): You were started ons eizure medications for this.\n",
      "32(0): Please take your medications as prescribed and follow up with your doctors [**Name5 (PTitle) 7928**].\n",
      "\n",
      "--------------------------------------------------------\n",
      "\n",
      "PQ: Is this fall back today a normal part of the recovery process, or Is it a sign of a possible relapse?\n",
      "CQ: What is the expected course of her recovery?\n",
      "\n",
      "Note Excerpt:\n",
      "1(0): Brief Hospital Course: ___ with h/o hypothyroidism secondary to Hashimoto's, Chiari malformation s/p posterior fossa decompression surgery ___, h/o aseptic meningitis ___ p/w meningitis\n",
      "2(0): # Meningitis: Pt. presented with headaches, neck stiffness, and fevers.\n",
      "3(0): Given concern for meningitis, she was initially started on vanc/ctx/acyclovir.\n",
      "4(0): Encephalitis was unlikely as patient had normal mental status.\n",
      "5(0): ___ LP on ___ showed WBCs 130s (70% lymphocytes).\n",
      "6(0): CSF HSV PCR was negative, and her blood Lyme serologies were negative.\n",
      "7(1): It was concluded that she had aseptic meninigitis, and she was taken off all antibiotics and antivirals by discharge.\n",
      "8(1): She received IV dilaudid 0.5mg, ibuprofen, and tylenol for pain control in the hospital.\n",
      "9(1): She was discharge home on PO dilaudid ___ Q4H as needed.\n",
      "10(0): Discharge Medications: 1. Levothyroxine Sodium 225 mcg PO DAILY 2. Multivitamins 1 TAB PO DAILY 3. HYDROmorphone (Dilaudid)\n",
      "11(0): ___ mg PO Q4H:PRN head pain\n",
      "12(0): Please take ___ mg as needed.\n",
      "13(0): Do not take more than 24mg each day.\n",
      "14(0): RX *hydromorphone 2 mg ___ tablet(s) by mouth every 4 hours Disp #*24 Tablet Refills:*0 4.\n",
      "15(0): Acetaminophen 650 mg PO Q6H:PRN pain\n",
      "16(0): Do not exceed 3gm/day.\n",
      "17(0): 5. Ibuprofen 400 mg PO Q6H:PRN pain 6. Ondansetron 4 mg PO Q8H:PRN nausea RX *ondansetron 4 mg 1 tablet(s) by mouth every 8 hours Disp #*12 Tablet Refills:*0\n",
      "18(0): Discharge Instructions: Dear ___,\n",
      "19(1): ___ were admitted to the hospital for fevers and neck stiffness.\n",
      "20(1): ___ were found to have meningitis, likely caused by a virus.\n",
      "21(1): We gave ___ acyclovir, vancomycin, and ceftriaxone initially.\n",
      "22(1): Your lab tests and lumbar puncture results ruled out bacterial, HSV, and Lyme meningitis.\n",
      "23(1): ___ were started on a new medication, dilaudid, for pain control.\n",
      "24(1): ___ were also on zofran for nausea.\n",
      "25(1): ___ can use these medications as needed.\n",
      "26(0): All of your medications are detailed in your discharge medication list.\n",
      "27(0): ___ should review this carefully and take it with ___ to any follow up appointments.\n",
      "\n",
      "--------------------------------------------------------\n",
      "\n",
      "PQ: stomach pain that extends up to her chest and back\n",
      "CQ: What can cause her persistent stomach pain?\n",
      "\n",
      "Note Excerpt:\n",
      "1(0): Discharge Instructions:\n",
      "2(0): WHY WAS I IN THE HOSPITAL?\n",
      "3(0): ===========================\n",
      "4(0): -\n",
      "5(0): You had abdominal pain.\n",
      "6(0): - You also had chest pain.\n",
      "7(0): Your EKG and cardiac markers results did not show changes or signs of heart problems or blockages in your heart vessels.\n",
      "8(0): WHAT HAPPENED IN THE HOSPITAL?\n",
      "9(0): ==============================\n",
      "10(0): -\n",
      "11(1): Your abdominal pain was controlled with anti-nausea medicine and insulin - All tests were reassuring that your chest pain is not caused by problem with your heart vessels - Your chest pain was managed with nitroglycerin\n",
      "12(0): WHAT SHOULD I DO WHEN I GO HOME?\n",
      "13(0): ================================\n",
      "14(1): - Follow up with your doctors regarding additional ___ for your abdominal pain - Take all medicines as prescribed\n",
      "\n",
      "--------------------------------------------------------\n",
      "\n",
      "PQ: Now my legs can't move and I'm in severe pain.\n",
      "CQ: What should the patient do if she is in in pain and cannot move her legs?\n",
      "\n",
      "Note Excerpt:\n",
      "1(0): Brief Hospital Course: Patient admitted to the general neurology service.\n",
      "2(0): MRI of the T and L spine were obtained which showed stable degenerative disc disease without spinal cord compromise.\n",
      "3(0): On the morning following admission the patient was eager to leave the hospital.\n",
      "4(0): We explained that we would like her to be evaluated by physical therapy before discharge.\n",
      "5(1): She was informed that leaving the hospital may result in permanent paralysis.\n",
      "6(1): She expressed understanding of this risk and left the hospital against medical advice.\n",
      "7(0): Discharge Instructions:\n",
      "8(1): You were seen in the hospital for leg numbness and weakness.\n",
      "9(1): We did an MRI of your middle and lower back but did not do one of your neck.\n",
      "10(1): We wanted you to stay in the hospital for this and a physical therapy evaluation, but you decided to leave against medical advice.\n",
      "11(1): We explained to you that this would put you at risk for permanent paralysis if you did not stay for an evaluation but you decided to leave despite understanding this risk.\n",
      "12(0): We did not change any of your medications.\n",
      "\n",
      "--------------------------------------------------------\n",
      "\n",
      "PQ: What would you say about cancer in the stomach?\n",
      "CQ: Was there any evidence for stomach cancer?\n",
      "\n",
      "Note Excerpt:\n",
      "1(1): Discharge Instructions: You were admitted to the hospital with a partial small bowel obstruction.\n",
      "2(1): With time, your obstruction dramatically improved and you were able to eat regular food.\n",
      "3(0): Constipation will worsen your symptoms.\n",
      "4(0): Unfortunately, you have trouble tolerating stool softeners and you get diarrhea very easily.\n",
      "5(0): Fiber is the most gentle treatment for constipation.\n",
      "6(0): Please take fiber supplements (Metamucil) twice daily.\n",
      "7(0): Consider also taking ___ each day if you can tolerate it, but start with a small dose (half a scoop).\n",
      "8(1): You will follow up with your oncologist (Dr. ___ for consideration of further treatment of your bladder cancer.\n",
      "9(1): You will also follow up with your gastroenterologist (Dr. ___.\n",
      "\n",
      "--------------------------------------------------------\n",
      "\n",
      "PQ: I came to the hospital with testicle pain and swelling and got antibiotics for a penis skin infection.\n",
      "CQ: Did his infection spread to other anatomies causing infertility?\n",
      "\n",
      "Note Excerpt:\n",
      "1(0): Discharge Instructions:\n",
      "2(0): It was a pleasure to take care of you at the ___.\n",
      "3(0): You came for further evaluation of penis and scrotum swelling.\n",
      "4(0): Further evaluation revealed that you likely have a skin infection on the surface of the penis.\n",
      "5(1): Antibiotics are being prescribed to help take care of this infection.\n",
      "6(1): You will require close follow-up to confirm eradication of your infection.\n",
      "7(0): It is important that you continue to take your medications as indicated.\n",
      "8(0): The following changes have been made to your medications:\n",
      "9(1): We ADDED Bactrim and Levofloxacin for treatment of your skin infection, which you should take until finished with the prescription.\n",
      "10(1): We ADDED emtricitabine-tenofovir and lopinavir-ritonavir for prophylaxis for possible HIV infection.\n",
      "11(1): You will take this for a total 2-week course.\n",
      "12(0): Your new provider at ___ will direct you further concerning this treatment.\n",
      "\n",
      "--------------------------------------------------------\n",
      "\n",
      "PQ: The pain presented in May and has worsened to its present state today.\n",
      "CQ: Could her back pain and dizziness be concerning for a stroke?\n",
      "\n",
      "Note Excerpt:\n",
      "1(0): Brief Hospital Course:\n",
      "2(0): ACUTE/ACTIVE PROBLEMS: # Chronic Abdominal pain with flare of nausea/vomiting: Patient with several year history of episodic severe epigastric abdominal pain, nausea, and vomiting with prior gastrointestinal evaluation unrevealing.\n",
      "3(0): The patient has had an abnormal gastric emptying study in the past, but most recently on ___ her gastric emptying was normal.\n",
      "4(0): Prior abdominal imaging with pancreatic divisum but no evidence of chronic pancreatitis.\n",
      "5(0): She complained of two distinct types of back pain, upper back pain thought possibly related to abdominal pain but unclear.\n",
      "6(0): Saw outpatient gastroenterologist on the day of presentation, who scheduled EUS to rule out pancreatic cause.\n",
      "7(0): Consulted advanced endoscopy team, and they felt that pancreas divisum would not be a likely cause of her pain.\n",
      "8(0): She had an unremarkable CT A/P with contrast and EUS which was unrevealing for a cause of abdominal pain, but did note fatty pancreas.\n",
      "9(0): Results discussed with outpatient GI provider, who felt her abdominal pain at this point may be referred or radiating from the spine and recommended outpatient pain consult and followup as scheduled.\n",
      "10(0): She initially required IV dilaudid and PO oxycodone for pain control, and says she takes oxycodone rarely at home for pain flares.\n",
      "11(0): Received IV -> PO antiemetics.\n",
      "12(0): She had no episodes of emesis.\n",
      "13(0): Pain and nausea improved and she was able to tolerate PO by discharge.\n",
      "14(0): She was started on IV Famotidine, which was transitioned to PO and continued on discharge, though she had no evidence of esophagitis/gastritis on EUS so this can probably be quickly discontinued if no apparent benefit.\n",
      "15(0): Ultimately still unclear why she is having such severe abdominal pain.\n",
      "16(0): # Chronic Mid back pain: She noted crampy bilateral mid-back pain which seemed to flare both with and without abdominal pain.\n",
      "17(0): Patient reports massaging her back for hours at home with some improvement.\n",
      "18(0): This pain seemed more consistent with muscle spasm and did not seem necessarily related to her abdominal pain.\n",
      "19(1): Trialed increased frequency of home flexeril with unclear benefit so resumed home dosing on discharge.\n",
      "20(0): Trialed lidocaine patch.\n",
      "21(0): If this is MSK type pain, weight loss may help, this was discussed with patient.\n",
      "22(0): CHRONIC/STABLE PROBLEMS: # ADD: Held Adderall, resumed on discharge\n",
      "23(0): # Anxiety: Held clonazepam, resumed on house\n",
      "24(1): TRANSITIONAL ISSUES: =================== [] reevalute need for famotidine at followup and stop if not helping [] rx short course of oxycodone for continued pain control [] started standing acetaminophen for pain, if continuing longer than a few weeks, please monitor LFTs and renal function [] recommended outpatient pain consult and integrative medicine consult at ___, both discussed with patient and she is agreeable [] referral for outpatient ___ provided [] could consider starting gabapentin if not already trialed\n",
      "25(0): Discharge Instructions:\n",
      "26(0): You also had a lot of back pain.\n",
      "27(0): You had pictures taken of your back.\n",
      "28(1): You should see a physical therapist as an outpatient.\n",
      "29(1): You should also go to the pain clinic.\n",
      "30(1): You can take the oxycodone for a short time and follow up with Dr. ___.\n",
      "\n",
      "--------------------------------------------------------\n",
      "\n",
      "PQ: My palpitations are benign, I’m told. Fine, how can I slow them or stop them without some antiarrhythmic meds?\n",
      "CQ: What should he do to relieve palpitations and anxiety?\n",
      "\n",
      "Note Excerpt:\n",
      "1(1): Major Surgical or Invasive Procedure: Thyroidectomy to remove multinodular goiter, performed by ___ on ___\n",
      "2(0): Brief Hospital Course:\n",
      "3(0): # Hypercarbic respiratory failure, multifactorial # Multi-Nodular Goiter # Obstructive sleep apnea, severe\n",
      "4(0): The patient has had severe obstructive sleep apnea diagnosed in ___ for which he has been on various forms of PAP.\n",
      "5(0): He has a history of non-compliance with his CPAP.\n",
      "6(0): The patient lives in a group home due to his schizophrenia, where he was found almost completely unresponsive and was therefore brought to OSH where initial ABG resulted as 7.28/68.\n",
      "7(0): A CT scan revealed a large multi nodular thyroid with compression on the trachea, and the patient was transferred to ___ on ___ for further evaluation.\n",
      "8(0): The patient's hypercarbia at ___ was thought to be multifactorial: at baseline, he has longstanding severe OSA with CPAP non-compliance; his new multinodular goiter, which is compressing the trachea, is likely causing upper airway obstruction that is exacerbating the pt's hypoventilation.\n",
      "9(0): ENT, endocrinology, and sleep medicine consultants evaluated the goiter and recommended surgical removal given concern for obstruction due to tracheal compression as well as the potential for malignancy.\n",
      "10(0): An ultrasound was performed which confirmed multi-nodular anatomy of goiter with tracheal compression; no biopsy was taken as there was already planning to remove the thyroid.\n",
      "11(0): Importantly, all teams expressed to the patient that it would be unsafe to discharge the patient prior to surgery, as the patient would be at high risk to return from his group home with hypercarbic respiratory failure again, which has happened multiple times.\n",
      "12(0): After several family meetings, the patient and his mother (legal guardian) were in agreement that surgery would be indicated.\n",
      "13(0): On ___, the patient underwent thyroidectomy performed by ENT.\n",
      "14(0): Post-op he was transferred to the SICU, where he remained stable.\n",
      "15(0): He was subsequently transferred to the medical floor.\n",
      "16(0): # Subclinical Hyperthyroidism.\n",
      "17(1): TSH found to be 0.1 with normal T3/T4, free T4.\n",
      "18(1): This problem became irrelevant after the surgery, and endocrinology would like close follow up in the outpatient setting to manage hypothyroidism s/p thyroidectomy.\n",
      "19(1): He was started on levothyroxine.\n",
      "20(0): Discharge Medications:Medications: 1. Calcium Carbonate 1250 mg PO TID\n",
      "21(0): Please separate administration time from Levothyroxine by at least 4 hours.\n",
      "22(0): RX *calcium carbonate 500 mg calcium (1,250 mg) 1 tablet(s) by mouth three times a day Disp #*90 Tablet Refills:*0 2.\n",
      "23(1): Levothyroxine Sodium 150 mcg PO DAILY\n",
      "24(1): Please separate administration from calcium by at least 4 hours.\n",
      "25(0): RX *levothyroxine 150 mcg 1 tablet(s) by mouth daily Disp #*30 Tablet Refills:*0 3.\n",
      "26(0): OXcarbazepine 300 mg PO BID RX *oxcarbazepine 300 mg 1 tablet(s) by mouth twice a day Disp #*60 Tablet Refills:*0 4.\n",
      "27(0): Vitamin D ___ UNIT PO 1X/WEEK (SA) RX *ergocalciferol (vitamin D2) 50,000 unit 1 capsule(s) by mouth once weekly Disp #*4 Capsule Refills:*0 5.\n",
      "28(0): Fluphenazine 2.5 mg PO Q4H:PRN agitation/frank psychosis 6. Clozapine 250 mg PO QHS 7. Fluticasone Propionate 110mcg 2 PUFF IH BID 8. Fluticasone Propionate\n",
      "29(0): NASAL 1 SPRY NU BID 9. Omeprazole 20 mg PO DAILY 10.Outpatient Lab Work Diagnosis: Hypothyroidism E89.0 Lab: TSH; Calcium; Magnesium; Phosphate; Albumin; Vitamin D 25 Hydroxy Date: ___ Please fax to ___ at ___ 11.CPAP\n",
      "30(0): Auto-CPAP \"APAP\" at ___ anytime patient sleeps.\n",
      "31(0): Discharge Instructions:\n",
      "32(0): WHAT WE DID FOR YOU:\n",
      "33(1): - The Neurology doctors, Ears/Nose/Throat doctors, Endocrine doctors, Sleep doctors, and ___ Medicine doctors ___ recommended surgery to remove your thyroid goiter in order to improve your sleep apnea.\n",
      "34(1): The Ears/Nose/Throat doctors removed the ___ thyroid gland (goiter) from your neck.\n",
      "35(1): You tolerated the surgery well.\n",
      "36(0): WHAT YOU SHOULD DO WHEN YOU LEAVE: - Please follow up with the all your appointments as scheduled (PCP, ___, neurology, pulmonary, and ENT).\n",
      "37(0): - Please take your medications as prescribed in the discharge paperwork.\n",
      "38(0): - Make sure to have your labs checked one week prior to your endocrinology appointment; the results should be faxed to Dr. ___ at ___.\n",
      "\n",
      "--------------------------------------------------------\n",
      "\n",
      "PQ: at hospital. I seemed fine, but now I am vomiting and have diarrhea. Should i go back to ER?\n",
      "CQ: Should he go back to the ER if he has diarrhea and vomiting?\n",
      "\n",
      "Note Excerpt:\n",
      "1(1): Brief Hospital Course: The patient presented to Emergency Department on ___.\n",
      "2(1): Pt was evaluated by trauma team upon arrival to ED.\n",
      "3(1): Given findings, the patient was admitted for observation and advanced evaluation.\n",
      "4(1): There were no adverse events during his stay.\n",
      "5(0): Neuro:\n",
      "6(0): The patient was alert and oriented throughout hospitalization; pain was managed with oral medication.\n",
      "7(1): He was evaluated by neurology, who formulated the following A/P: ___ right-handed male with Crohn's Disease on Prednisone and Humera who was transferred from ___ for further evaluation of a pulmonary contusion after a restrained MVC.\n",
      "8(0): The exact sequence of events leading up to the car accident are difficult to verify given the pt's retrograde amnesia and that the pt's grandmother was sleeping in the car until she heard a loud \"bang\" just prior to the car leaving the road and crashing into the tree.\n",
      "9(0): The pt is currently asymptomatic save some neck tension suggestive of a neck strain possibly secondary to whip lash, but he does not have any scalp hematoma nor any focal features on exam.\n",
      "10(0): His attention, memory and cognitive exam are normal and does not have any asymmetries on exam.\n",
      "11(0): CV: The patient remained stable from a cardiovascular standpoint; vital signs were routinely monitored.\n",
      "12(0): Pulmonary: The patient remained stable from a pulmonary standpoint; vital signs were routinely monitored.\n",
      "13(1): GI/GU/FEN: The patient tolerated well a regular diet, he did not suffer abdominal pain, nausea or vomit during this admission.\n",
      "14(1): Patient's intake and output were closely monitored\n",
      "15(0): Occupational therapy evaluated the patient, he passed TBI screen, no concerns from OT standpoint, no services needed.\n",
      "16(0): OT agrees with discharge when medically cleared.\n",
      "17(1): At the time of discharge, the patient was doing well, afebrile and hemodynamically stable.\n",
      "18(1): The patient was tolerating a diet, ambulating, voiding without assistance, and pain was well controlled.\n",
      "19(0): The patient received discharge teaching and follow-up instructions with understanding verbalized and agreement with the discharge plan.\n",
      "20(0): Discharge Instructions:\n",
      "21(0): * Take deep breaths as often as possible.\n",
      "22(0): This will help expand the small airways in your lungs and assist in coughing up secretions that sometimes pool in the lungs.\n",
      "23(0): * Narcotic pain medication can cause constipation therefore you should take a stool softener twice daily and increase your fluid and fiber intake if possible.\n",
      "\n",
      "--------------------------------------------------------\n",
      "\n",
      "PQ: I went to ER for a bladder infection. The doctor asked if I had irregular heartbeats or a-fib, which lead me getting very panicky\n",
      "CQ: Are her symptoms related to anxiety or cardiovascular process?\n",
      "\n",
      "Note Excerpt:\n",
      "1(0): Discharge Instructions:\n",
      "2(0): Why was I admitted to the hospital?\n",
      "3(0): You were admitted to the hospital because you were having chest pain.\n",
      "4(0): We wanted to rule out a ___ cause.\n",
      "5(0): What happened while I was here?\n",
      "6(1): - We did a very thorough work up to make sure your heart isn't the cause of your chest pain.\n",
      "7(1): This included EKGs, blood tests that look at whether the heart is under stress, and a CAT scan to make sure you didn't have a tear in any major blood vessels or a blood clot in your lungs.\n",
      "8(1): These were all normal.\n",
      "9(0): You did a stress test and another special heart study called a MIBI, which did not show any heart problems.\n",
      "10(0): - We gave you Ativan and Tylenol, which improved your pain.\n",
      "11(0): - We also started you on a medicine called sertraline which helps with anxiety, which might be the cause of your chest pain.\n",
      "12(0): - We checked your thyroid function which was normal.\n",
      "13(0): - We checked your cholesterol which was normal.\n",
      "14(0): What should I do when I get home?\n",
      "15(0): - Continue taking all your normal medications and the new sertraline and Ativan to help with your chest pain.\n",
      "16(1): - You should see your primary care doctor this week.\n",
      "17(1): He/she will discuss any additional tests you may need and help manage your new medications.\n",
      "18(0): - While taking Ativan, you should not drive or operate heavy machinery since this can be very dangerous.\n",
      "\n",
      "--------------------------------------------------------\n",
      "\n",
      "PQ: So what is the dizziness from I never heard of a migraine that can cause your head to spin like that.\n",
      "CQ: How did they diagnose her with migraine for spinning sensation?\n",
      "\n",
      "Note Excerpt:\n",
      "1(0): Discharge Instructions: You were evaluated in the Neurology Wards of the ___ ___ for headaches that were of an unusual quality.\n",
      "2(1): We conducted a series of tests to investigate the cause of your headaches, including a CT scan and an MRI, a series of laboratory tests as well as a lumbar puncture.\n",
      "3(0): Through these tests, we were able to rule out serious intracranial causes that can cause a headache, including pseudotumor cerebri, which is a condition where elevated intracranial pressure can cause headaches and subsequent visual damage.\n",
      "4(0): We also checked an MRV (MR venogram) which ruled out cerebral venous thrombosis (a blood clot in the veins of your brain).\n",
      "5(1): - We started you on a new medication called verapamil.\n",
      "6(0): Take this once daily even if you do not have headaches (everyday, by mouth).\n",
      "7(0): - Inform your PCP of this change, and please follow up with your primary care appointment and neurology appointment.\n",
      "8(0): - You can request your PCP to set up a referral to see a neurologist in the community if you would prefer to do so.\n",
      "9(0): - To achieve optimal control of your migraines, avoid caffeinated products and keep a relatively regular sleep wake cycle (go to bed early, wake up early).\n",
      "\n",
      "--------------------------------------------------------\n",
      "\n"
     ]
    }
   ],
   "source": [
    "for _, row in data_agg.iterrows():\n",
    "    print(f\"PQ: {row['patient_question']}\")\n",
    "    print(f\"CQ: {row['clinician_question']}\")\n",
    "    print(\"\\nNote Excerpt:\")\n",
    "    for i, tupel in enumerate(zip(row[\"sentences\"], row[\"labels\"])):\n",
    "        print(f\"{i+1}({tupel[1]}): {tupel[0]}\")\n",
    "    print()\n",
    "    print(\"--------------------------------------------------------\")\n",
    "    print()"
   ]
  },
  {
   "cell_type": "code",
   "execution_count": 72,
   "metadata": {},
   "outputs": [],
   "source": [
    "row1 = data_agg.iloc[1]"
   ]
  },
  {
   "cell_type": "code",
   "execution_count": 73,
   "outputs": [
    {
     "data": {
      "text/plain": "['Brief Hospital Course:',\n 'Acute diastolic heart failure: Pt developed signs and symptoms of volume overload on [**2201-3-8**] with shortness of breath, increased oxygen requirement and lower extremity edema.',\n 'Echo showed preserved EF, no WMA and worsening AI.',\n 'CHF most likely secondary to worsening valvular disease.',\n 'He was diuresed with lasix IV, intermittently on lasix gtt then transitioned to PO torsemide with improvement in symptoms, although remained on a small amount of supplemental oxygen for comfort.',\n \"Respiratory failure: The patient was intubated for lethargy and acidosis initially and was given 8 L on his presentation to help maintain his BP's.\",\n 'This undoubtedly contributed to his continued hypoxemic respiratory failure.',\n 'He was advanced to pressure support with stable ventilation and oxygenation.',\n 'On transfer to the CCU patient was still intubated but off pressors.',\n 'Patient was extubated successfully.',\n 'He was reintubated [**2201-3-1**] transiently for 48 hours for urgent TEE and subsequently extubated without adverse effect or complication.']"
     },
     "execution_count": 73,
     "metadata": {},
     "output_type": "execute_result"
    }
   ],
   "source": [
    "row1.sentences"
   ],
   "metadata": {
    "collapsed": false
   }
  },
  {
   "cell_type": "code",
   "execution_count": null,
   "outputs": [],
   "source": [],
   "metadata": {
    "collapsed": false
   }
  }
 ],
 "metadata": {
  "kernelspec": {
   "display_name": "Python 3 (ipykernel)",
   "language": "python",
   "name": "python3"
  },
  "language_info": {
   "codemirror_mode": {
    "name": "ipython",
    "version": 3
   },
   "file_extension": ".py",
   "mimetype": "text/x-python",
   "name": "python",
   "nbconvert_exporter": "python",
   "pygments_lexer": "ipython3",
   "version": "3.10.14"
  }
 },
 "nbformat": 4,
 "nbformat_minor": 4
}
