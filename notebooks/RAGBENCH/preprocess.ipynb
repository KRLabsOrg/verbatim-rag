{
 "cells": [
  {
   "cell_type": "code",
   "execution_count": 1,
   "metadata": {
    "tags": []
   },
   "outputs": [],
   "source": [
    "%load_ext autoreload\n",
    "%autoreload 2"
   ]
  },
  {
   "cell_type": "code",
   "execution_count": 2,
   "metadata": {
    "tags": []
   },
   "outputs": [],
   "source": [
    "import re\n",
    "import os\n",
    "import wandb\n",
    "import string\n",
    "import numpy as np\n",
    "import unicodedata\n",
    "import pandas as pd\n",
    "from pathlib import Path\n",
    "from datasets import load_dataset\n",
    "from collections import defaultdict\n",
    "from tqdm.notebook import tqdm\n",
    "import matplotlib.pyplot as plt\n",
    "import seaborn as sns\n",
    "\n",
    "import sys\n",
    "sys.path.append(\"../../src\")\n",
    "\n",
    "import util.preprocessing_util as util"
   ]
  },
  {
   "cell_type": "code",
   "execution_count": 3,
   "metadata": {
    "collapsed": false,
    "jupyter": {
     "outputs_hidden": false
    },
    "tags": []
   },
   "outputs": [],
   "source": [
    "dataset_names = ['covidqa', 'cuad', 'delucionqa', 'emanual', 'expertqa', 'finqa', 'hagrid', 'hotpotqa', 'msmarco', 'pubmedqa', 'tatqa', 'techqa']\n",
    "\n",
    "# load pubmedqa from RAGBENCH\n",
    "pubmedqa = load_dataset(\"rungalileo/ragbench\", \"pubmedqa\")"
   ]
  },
  {
   "cell_type": "code",
   "execution_count": 4,
   "metadata": {
    "collapsed": false,
    "jupyter": {
     "outputs_hidden": false
    },
    "tags": []
   },
   "outputs": [],
   "source": [
    "train_data_raw = pubmedqa['train'].to_pandas()\n",
    "test_data_raw = pubmedqa['test'].to_pandas()"
   ]
  },
  {
   "cell_type": "markdown",
   "metadata": {},
   "source": [
    "# Exploration"
   ]
  },
  {
   "cell_type": "code",
   "execution_count": 5,
   "metadata": {
    "collapsed": false,
    "jupyter": {
     "outputs_hidden": false
    },
    "tags": []
   },
   "outputs": [
    {
     "data": {
      "text/html": [
       "<div>\n",
       "<style scoped>\n",
       "    .dataframe tbody tr th:only-of-type {\n",
       "        vertical-align: middle;\n",
       "    }\n",
       "\n",
       "    .dataframe tbody tr th {\n",
       "        vertical-align: top;\n",
       "    }\n",
       "\n",
       "    .dataframe thead th {\n",
       "        text-align: right;\n",
       "    }\n",
       "</style>\n",
       "<table border=\"1\" class=\"dataframe\">\n",
       "  <thead>\n",
       "    <tr style=\"text-align: right;\">\n",
       "      <th></th>\n",
       "      <th>id</th>\n",
       "      <th>question</th>\n",
       "      <th>documents</th>\n",
       "      <th>response</th>\n",
       "      <th>generation_model_name</th>\n",
       "      <th>annotating_model_name</th>\n",
       "      <th>dataset_name</th>\n",
       "      <th>documents_sentences</th>\n",
       "      <th>response_sentences</th>\n",
       "      <th>sentence_support_information</th>\n",
       "      <th>...</th>\n",
       "      <th>trulens_groundedness</th>\n",
       "      <th>trulens_context_relevance</th>\n",
       "      <th>ragas_faithfulness</th>\n",
       "      <th>ragas_context_relevance</th>\n",
       "      <th>gpt3_adherence</th>\n",
       "      <th>gpt3_context_relevance</th>\n",
       "      <th>gpt35_utilization</th>\n",
       "      <th>relevance_score</th>\n",
       "      <th>utilization_score</th>\n",
       "      <th>completeness_score</th>\n",
       "    </tr>\n",
       "  </thead>\n",
       "  <tbody>\n",
       "    <tr>\n",
       "      <th>0</th>\n",
       "      <td>pubmedqa_39085</td>\n",
       "      <td>Is there a functional neural correlate of indi...</td>\n",
       "      <td>[The present study tested whether individuals ...</td>\n",
       "      <td>Yes, the study mentioned in the first piece of...</td>\n",
       "      <td>gpt-3.5-turbo-0125</td>\n",
       "      <td>gpt-4o</td>\n",
       "      <td>pubmedqa_train</td>\n",
       "      <td>[[[0a, The present study tested whether indivi...</td>\n",
       "      <td>[[a, Yes, the study mentioned in the first pie...</td>\n",
       "      <td>[{'explanation': 'This sentence is directly su...</td>\n",
       "      <td>...</td>\n",
       "      <td>NaN</td>\n",
       "      <td>NaN</td>\n",
       "      <td>NaN</td>\n",
       "      <td>NaN</td>\n",
       "      <td>NaN</td>\n",
       "      <td>NaN</td>\n",
       "      <td>NaN</td>\n",
       "      <td>0.142857</td>\n",
       "      <td>0.142857</td>\n",
       "      <td>1.000000</td>\n",
       "    </tr>\n",
       "    <tr>\n",
       "      <th>1</th>\n",
       "      <td>pubmedqa_42813</td>\n",
       "      <td>Can we use the Omron T9P automated blood press...</td>\n",
       "      <td>[Recent events in our hospital, combined with ...</td>\n",
       "      <td>Yes, based on the context provided, we can use...</td>\n",
       "      <td>gpt-3.5-turbo-0125</td>\n",
       "      <td>gpt-4o</td>\n",
       "      <td>pubmedqa_train</td>\n",
       "      <td>[[[0a, Recent events in our hospital, combined...</td>\n",
       "      <td>[[a, Yes, based on the context provided, we ca...</td>\n",
       "      <td>[{'explanation': 'This sentence summarizes the...</td>\n",
       "      <td>...</td>\n",
       "      <td>NaN</td>\n",
       "      <td>NaN</td>\n",
       "      <td>NaN</td>\n",
       "      <td>NaN</td>\n",
       "      <td>NaN</td>\n",
       "      <td>NaN</td>\n",
       "      <td>NaN</td>\n",
       "      <td>0.454545</td>\n",
       "      <td>0.181818</td>\n",
       "      <td>0.400000</td>\n",
       "    </tr>\n",
       "    <tr>\n",
       "      <th>2</th>\n",
       "      <td>pubmedqa_57525</td>\n",
       "      <td>Intraabdominal vascular injury: are we getting...</td>\n",
       "      <td>[Intraabdominal vascular injury (IAVI) as a re...</td>\n",
       "      <td>Based on the pieces of context provided, the s...</td>\n",
       "      <td>gpt-3.5-turbo-0125</td>\n",
       "      <td>gpt-4o</td>\n",
       "      <td>pubmedqa_train</td>\n",
       "      <td>[[[0a, Intraabdominal vascular injury (IAVI) a...</td>\n",
       "      <td>[[a, Based on the pieces of context provided, ...</td>\n",
       "      <td>[{'explanation': 'This sentence is partially s...</td>\n",
       "      <td>...</td>\n",
       "      <td>NaN</td>\n",
       "      <td>NaN</td>\n",
       "      <td>NaN</td>\n",
       "      <td>NaN</td>\n",
       "      <td>NaN</td>\n",
       "      <td>NaN</td>\n",
       "      <td>NaN</td>\n",
       "      <td>0.461538</td>\n",
       "      <td>0.307692</td>\n",
       "      <td>0.666667</td>\n",
       "    </tr>\n",
       "    <tr>\n",
       "      <th>3</th>\n",
       "      <td>pubmedqa_29863</td>\n",
       "      <td>Hand grip and pinch strength in patients with ...</td>\n",
       "      <td>[The hand grip strength test and pinch was sig...</td>\n",
       "      <td>Yes, according to the context provided, the ha...</td>\n",
       "      <td>gpt-3.5-turbo-0125</td>\n",
       "      <td>gpt-4o</td>\n",
       "      <td>pubmedqa_train</td>\n",
       "      <td>[[[0a, The hand grip strength test and pinch w...</td>\n",
       "      <td>[[a, Yes, according to the context provided, t...</td>\n",
       "      <td>[{'explanation': 'This sentence is supported b...</td>\n",
       "      <td>...</td>\n",
       "      <td>NaN</td>\n",
       "      <td>NaN</td>\n",
       "      <td>NaN</td>\n",
       "      <td>NaN</td>\n",
       "      <td>NaN</td>\n",
       "      <td>NaN</td>\n",
       "      <td>NaN</td>\n",
       "      <td>0.818182</td>\n",
       "      <td>0.181818</td>\n",
       "      <td>0.222222</td>\n",
       "    </tr>\n",
       "    <tr>\n",
       "      <th>4</th>\n",
       "      <td>pubmedqa_36126</td>\n",
       "      <td>Is Canada ready for patient accessible electro...</td>\n",
       "      <td>[Access to personal health information through...</td>\n",
       "      <td>Based on the information provided, Canada is n...</td>\n",
       "      <td>gpt-3.5-turbo-0125</td>\n",
       "      <td>gpt-4o</td>\n",
       "      <td>pubmedqa_train</td>\n",
       "      <td>[[[0a, Access to personal health information t...</td>\n",
       "      <td>[[a, Based on the information provided, Canada...</td>\n",
       "      <td>[{'explanation': 'The sentence is supported by...</td>\n",
       "      <td>...</td>\n",
       "      <td>NaN</td>\n",
       "      <td>NaN</td>\n",
       "      <td>NaN</td>\n",
       "      <td>NaN</td>\n",
       "      <td>NaN</td>\n",
       "      <td>NaN</td>\n",
       "      <td>NaN</td>\n",
       "      <td>0.636364</td>\n",
       "      <td>0.454545</td>\n",
       "      <td>0.714286</td>\n",
       "    </tr>\n",
       "  </tbody>\n",
       "</table>\n",
       "<p>5 rows × 26 columns</p>\n",
       "</div>"
      ],
      "text/plain": [
       "               id                                           question  \\\n",
       "0  pubmedqa_39085  Is there a functional neural correlate of indi...   \n",
       "1  pubmedqa_42813  Can we use the Omron T9P automated blood press...   \n",
       "2  pubmedqa_57525  Intraabdominal vascular injury: are we getting...   \n",
       "3  pubmedqa_29863  Hand grip and pinch strength in patients with ...   \n",
       "4  pubmedqa_36126  Is Canada ready for patient accessible electro...   \n",
       "\n",
       "                                           documents  \\\n",
       "0  [The present study tested whether individuals ...   \n",
       "1  [Recent events in our hospital, combined with ...   \n",
       "2  [Intraabdominal vascular injury (IAVI) as a re...   \n",
       "3  [The hand grip strength test and pinch was sig...   \n",
       "4  [Access to personal health information through...   \n",
       "\n",
       "                                            response generation_model_name  \\\n",
       "0  Yes, the study mentioned in the first piece of...    gpt-3.5-turbo-0125   \n",
       "1  Yes, based on the context provided, we can use...    gpt-3.5-turbo-0125   \n",
       "2  Based on the pieces of context provided, the s...    gpt-3.5-turbo-0125   \n",
       "3  Yes, according to the context provided, the ha...    gpt-3.5-turbo-0125   \n",
       "4  Based on the information provided, Canada is n...    gpt-3.5-turbo-0125   \n",
       "\n",
       "  annotating_model_name    dataset_name  \\\n",
       "0                gpt-4o  pubmedqa_train   \n",
       "1                gpt-4o  pubmedqa_train   \n",
       "2                gpt-4o  pubmedqa_train   \n",
       "3                gpt-4o  pubmedqa_train   \n",
       "4                gpt-4o  pubmedqa_train   \n",
       "\n",
       "                                 documents_sentences  \\\n",
       "0  [[[0a, The present study tested whether indivi...   \n",
       "1  [[[0a, Recent events in our hospital, combined...   \n",
       "2  [[[0a, Intraabdominal vascular injury (IAVI) a...   \n",
       "3  [[[0a, The hand grip strength test and pinch w...   \n",
       "4  [[[0a, Access to personal health information t...   \n",
       "\n",
       "                                  response_sentences  \\\n",
       "0  [[a, Yes, the study mentioned in the first pie...   \n",
       "1  [[a, Yes, based on the context provided, we ca...   \n",
       "2  [[a, Based on the pieces of context provided, ...   \n",
       "3  [[a, Yes, according to the context provided, t...   \n",
       "4  [[a, Based on the information provided, Canada...   \n",
       "\n",
       "                        sentence_support_information  ...  \\\n",
       "0  [{'explanation': 'This sentence is directly su...  ...   \n",
       "1  [{'explanation': 'This sentence summarizes the...  ...   \n",
       "2  [{'explanation': 'This sentence is partially s...  ...   \n",
       "3  [{'explanation': 'This sentence is supported b...  ...   \n",
       "4  [{'explanation': 'The sentence is supported by...  ...   \n",
       "\n",
       "  trulens_groundedness  trulens_context_relevance ragas_faithfulness  \\\n",
       "0                  NaN                        NaN                NaN   \n",
       "1                  NaN                        NaN                NaN   \n",
       "2                  NaN                        NaN                NaN   \n",
       "3                  NaN                        NaN                NaN   \n",
       "4                  NaN                        NaN                NaN   \n",
       "\n",
       "  ragas_context_relevance gpt3_adherence gpt3_context_relevance  \\\n",
       "0                     NaN            NaN                    NaN   \n",
       "1                     NaN            NaN                    NaN   \n",
       "2                     NaN            NaN                    NaN   \n",
       "3                     NaN            NaN                    NaN   \n",
       "4                     NaN            NaN                    NaN   \n",
       "\n",
       "   gpt35_utilization  relevance_score  utilization_score  completeness_score  \n",
       "0                NaN         0.142857           0.142857            1.000000  \n",
       "1                NaN         0.454545           0.181818            0.400000  \n",
       "2                NaN         0.461538           0.307692            0.666667  \n",
       "3                NaN         0.818182           0.181818            0.222222  \n",
       "4                NaN         0.636364           0.454545            0.714286  \n",
       "\n",
       "[5 rows x 26 columns]"
      ]
     },
     "execution_count": 5,
     "metadata": {},
     "output_type": "execute_result"
    }
   ],
   "source": [
    "train_data_raw.head()"
   ]
  },
  {
   "cell_type": "code",
   "execution_count": 6,
   "metadata": {
    "collapsed": false,
    "jupyter": {
     "outputs_hidden": false
    },
    "tags": []
   },
   "outputs": [
    {
     "data": {
      "text/plain": [
       "(19600, 26)"
      ]
     },
     "execution_count": 6,
     "metadata": {},
     "output_type": "execute_result"
    }
   ],
   "source": [
    "train_data_raw.shape"
   ]
  },
  {
   "cell_type": "code",
   "execution_count": 7,
   "metadata": {
    "collapsed": false,
    "jupyter": {
     "outputs_hidden": false
    },
    "tags": []
   },
   "outputs": [
    {
     "data": {
      "text/plain": [
       "Index(['id', 'question', 'documents', 'response', 'generation_model_name',\n",
       "       'annotating_model_name', 'dataset_name', 'documents_sentences',\n",
       "       'response_sentences', 'sentence_support_information',\n",
       "       'unsupported_response_sentence_keys', 'adherence_score',\n",
       "       'overall_supported_explanation', 'relevance_explanation',\n",
       "       'all_relevant_sentence_keys', 'all_utilized_sentence_keys',\n",
       "       'trulens_groundedness', 'trulens_context_relevance',\n",
       "       'ragas_faithfulness', 'ragas_context_relevance', 'gpt3_adherence',\n",
       "       'gpt3_context_relevance', 'gpt35_utilization', 'relevance_score',\n",
       "       'utilization_score', 'completeness_score'],\n",
       "      dtype='object')"
      ]
     },
     "execution_count": 7,
     "metadata": {},
     "output_type": "execute_result"
    }
   ],
   "source": [
    "train_data_raw.columns"
   ]
  },
  {
   "cell_type": "code",
   "execution_count": 16,
   "metadata": {
    "collapsed": false,
    "jupyter": {
     "outputs_hidden": false
    },
    "tags": []
   },
   "outputs": [],
   "source": [
    "observation = train_data_raw.iloc[18]"
   ]
  },
  {
   "cell_type": "code",
   "execution_count": 17,
   "metadata": {
    "collapsed": false,
    "jupyter": {
     "outputs_hidden": false
    },
    "tags": []
   },
   "outputs": [
    {
     "data": {
      "text/plain": [
       "'Can the life span of human marrow stromal cells be prolonged by bmi-1, E6, E7, and/or telomerase without affecting cardiomyogenic differentiation?'"
      ]
     },
     "execution_count": 17,
     "metadata": {},
     "output_type": "execute_result"
    }
   ],
   "source": [
    "observation.question"
   ]
  },
  {
   "cell_type": "code",
   "execution_count": 18,
   "metadata": {
    "collapsed": false,
    "jupyter": {
     "outputs_hidden": false
    },
    "tags": []
   },
   "outputs": [
    {
     "data": {
      "text/plain": [
       "0                                        [0a]\n",
       "1                        [0a, 1a, 3a, 3b, 4a]\n",
       "2                    [0a, 0b, 2a, 3c, 3e, 4a]\n",
       "3        [0a, 0b, 1a, 2a, 2b, 2c, 2d, 2e, 2f]\n",
       "4                [0a, 0b, 0c, 0d, 1a, 1b, 1c]\n",
       "                         ...                 \n",
       "19595        [0a, 0b, 1a, 1b, 2a, 2c, 2d, 3a]\n",
       "19596                    [0a, 0b, 0c, 0d, 1b]\n",
       "19597                [0a, 1a, 2a, 3a, 3d, 4c]\n",
       "19598        [0b, 0c, 0d, 0e, 1a, 1b, 1c, 1d]\n",
       "19599                [0b, 1a, 1b, 1c, 4a, 4f]\n",
       "Name: all_relevant_sentence_keys, Length: 19600, dtype: object"
      ]
     },
     "execution_count": 18,
     "metadata": {},
     "output_type": "execute_result"
    }
   ],
   "source": [
    "train_data_raw.all_relevant_sentence_keys"
   ]
  },
  {
   "cell_type": "code",
   "execution_count": 19,
   "metadata": {
    "tags": []
   },
   "outputs": [
    {
     "name": "stdout",
     "output_type": "stream",
     "text": [
      "We attempted to prolong the life span of hMSCs by infecting retrovirus encoding bmi-1, human papillomavirus E6 and E7, and/or human telomerase reverse transcriptase genes.\n",
      "Cell transplantation has recently been challenged to improve cardiac function of severe heart failure.\n",
      "The potential use of bone marrow stromal cells (MSCs) as a cellular therapy for chronic cardiac diseases relies on the ability of the cell to replicate extensively in vitro and to give rise to myogenic cells that can replace the damaged cardiomyocytes.\n",
      "Cellular cardiomyoplasty with bone marrow derived stromal (MSC) and mononuclear (BMNC) cells has been shown to improve performance of infarcted hearts.\n",
      "Some transplanted BMSCs engrafted into myocardial tissue and were positive for cardiac marker troponin T. The hearts containing transplanted BMSCs secreted a larger amount of vascular endothelial growth factor.\n"
     ]
    }
   ],
   "source": [
    "for sentence in observation.documents_sentences:\n",
    "    print(sentence[0][1])"
   ]
  },
  {
   "cell_type": "markdown",
   "metadata": {},
   "source": [
    "# Attributes"
   ]
  },
  {
   "cell_type": "code",
   "execution_count": 38,
   "metadata": {},
   "outputs": [],
   "source": [
    "relevant_cols = [\"question\", \"documents_sentences\", \"all_relevant_sentence_keys\"]"
   ]
  },
  {
   "cell_type": "markdown",
   "metadata": {},
   "source": [
    "**Columns**:\n",
    "\n",
    "- **question:** The medical question being asked. (Used as input)\n",
    "- **documents_sentences:** Contains the sentences from the source documents. (Context for classification)\n",
    "- **all_relevant_sentence_keys:**\tIdentifies which sentences are relevant. (Binary label for classification)"
   ]
  },
  {
   "cell_type": "markdown",
   "metadata": {},
   "source": [
    "**Goal:**\n",
    "\n",
    "- Pair each question with its individual document sentences → (question, sentence) pairs.\n",
    "- Label each sentence as relevant (1) or not relevant (0) → Using all_relevant_sentence_keys.\n",
    "- Train a classifier using BERT embeddings to classify each sentence.\n"
   ]
  },
  {
   "cell_type": "code",
   "execution_count": 39,
   "metadata": {
    "collapsed": false,
    "jupyter": {
     "outputs_hidden": false
    },
    "tags": []
   },
   "outputs": [],
   "source": [
    "train_data = train_data_raw[relevant_cols]\n",
    "test_data = test_data_raw[relevant_cols]"
   ]
  },
  {
   "cell_type": "code",
   "execution_count": 40,
   "metadata": {
    "collapsed": false,
    "jupyter": {
     "outputs_hidden": false
    },
    "tags": []
   },
   "outputs": [
    {
     "data": {
      "text/html": [
       "<div>\n",
       "<style scoped>\n",
       "    .dataframe tbody tr th:only-of-type {\n",
       "        vertical-align: middle;\n",
       "    }\n",
       "\n",
       "    .dataframe tbody tr th {\n",
       "        vertical-align: top;\n",
       "    }\n",
       "\n",
       "    .dataframe thead th {\n",
       "        text-align: right;\n",
       "    }\n",
       "</style>\n",
       "<table border=\"1\" class=\"dataframe\">\n",
       "  <thead>\n",
       "    <tr style=\"text-align: right;\">\n",
       "      <th></th>\n",
       "      <th>question</th>\n",
       "      <th>documents_sentences</th>\n",
       "      <th>all_relevant_sentence_keys</th>\n",
       "    </tr>\n",
       "  </thead>\n",
       "  <tbody>\n",
       "    <tr>\n",
       "      <th>0</th>\n",
       "      <td>Is there a functional neural correlate of indi...</td>\n",
       "      <td>[[[0a, The present study tested whether indivi...</td>\n",
       "      <td>[0a]</td>\n",
       "    </tr>\n",
       "    <tr>\n",
       "      <th>1</th>\n",
       "      <td>Can we use the Omron T9P automated blood press...</td>\n",
       "      <td>[[[0a, Recent events in our hospital, combined...</td>\n",
       "      <td>[0a, 1a, 3a, 3b, 4a]</td>\n",
       "    </tr>\n",
       "    <tr>\n",
       "      <th>2</th>\n",
       "      <td>Intraabdominal vascular injury: are we getting...</td>\n",
       "      <td>[[[0a, Intraabdominal vascular injury (IAVI) a...</td>\n",
       "      <td>[0a, 0b, 2a, 3c, 3e, 4a]</td>\n",
       "    </tr>\n",
       "    <tr>\n",
       "      <th>3</th>\n",
       "      <td>Hand grip and pinch strength in patients with ...</td>\n",
       "      <td>[[[0a, The hand grip strength test and pinch w...</td>\n",
       "      <td>[0a, 0b, 1a, 2a, 2b, 2c, 2d, 2e, 2f]</td>\n",
       "    </tr>\n",
       "    <tr>\n",
       "      <th>4</th>\n",
       "      <td>Is Canada ready for patient accessible electro...</td>\n",
       "      <td>[[[0a, Access to personal health information t...</td>\n",
       "      <td>[0a, 0b, 0c, 0d, 1a, 1b, 1c]</td>\n",
       "    </tr>\n",
       "  </tbody>\n",
       "</table>\n",
       "</div>"
      ],
      "text/plain": [
       "                                            question  \\\n",
       "0  Is there a functional neural correlate of indi...   \n",
       "1  Can we use the Omron T9P automated blood press...   \n",
       "2  Intraabdominal vascular injury: are we getting...   \n",
       "3  Hand grip and pinch strength in patients with ...   \n",
       "4  Is Canada ready for patient accessible electro...   \n",
       "\n",
       "                                 documents_sentences  \\\n",
       "0  [[[0a, The present study tested whether indivi...   \n",
       "1  [[[0a, Recent events in our hospital, combined...   \n",
       "2  [[[0a, Intraabdominal vascular injury (IAVI) a...   \n",
       "3  [[[0a, The hand grip strength test and pinch w...   \n",
       "4  [[[0a, Access to personal health information t...   \n",
       "\n",
       "             all_relevant_sentence_keys  \n",
       "0                                  [0a]  \n",
       "1                  [0a, 1a, 3a, 3b, 4a]  \n",
       "2              [0a, 0b, 2a, 3c, 3e, 4a]  \n",
       "3  [0a, 0b, 1a, 2a, 2b, 2c, 2d, 2e, 2f]  \n",
       "4          [0a, 0b, 0c, 0d, 1a, 1b, 1c]  "
      ]
     },
     "execution_count": 40,
     "metadata": {},
     "output_type": "execute_result"
    }
   ],
   "source": [
    "train_data.head()"
   ]
  },
  {
   "cell_type": "code",
   "execution_count": 41,
   "metadata": {
    "tags": []
   },
   "outputs": [
    {
     "name": "stdout",
     "output_type": "stream",
     "text": [
      "Number of rows: 19600\n"
     ]
    }
   ],
   "source": [
    "print(f\"Number of rows: {len(train_data)}\")"
   ]
  },
  {
   "cell_type": "markdown",
   "metadata": {},
   "source": [
    "# Attribute Transformation"
   ]
  },
  {
   "cell_type": "code",
   "execution_count": 42,
   "metadata": {
    "tags": []
   },
   "outputs": [],
   "source": [
    "train_data = util.transform_dataset_pubmedQA(train_data_raw)\n",
    "test_data = util.transform_dataset_pubmedQA(test_data_raw)"
   ]
  },
  {
   "cell_type": "code",
   "execution_count": 43,
   "metadata": {
    "tags": []
   },
   "outputs": [
    {
     "name": "stdout",
     "output_type": "stream",
     "text": [
      "Number of rows: 237544\n"
     ]
    }
   ],
   "source": [
    "print(f\"Number of rows: {len(train_data)}\")"
   ]
  },
  {
   "cell_type": "markdown",
   "metadata": {
    "tags": []
   },
   "source": [
    "**Check Class Imbalance**"
   ]
  },
  {
   "cell_type": "code",
   "execution_count": 44,
   "metadata": {
    "tags": []
   },
   "outputs": [
    {
     "data": {
      "image/png": "[encoded data removed]",
      "text/plain": [
       "<Figure size 640x480 with 1 Axes>"
      ]
     },
     "metadata": {},
     "output_type": "display_data"
    },
    {
     "name": "stdout",
     "output_type": "stream",
     "text": [
      "Label counts:\n",
      " label\n",
      "0    106989\n",
      "1    130555\n",
      "Name: count, dtype: int64\n"
     ]
    }
   ],
   "source": [
    "label_counts = train_data[\"label\"].value_counts().sort_index()\n",
    "label_names = [\"Not Relevant\", \"Relevant\"]\n",
    "\n",
    "# Plot\n",
    "sns.barplot(x=label_names, y=label_counts.values)\n",
    "plt.title(\"Label Distribution in Training Data\")\n",
    "plt.ylabel(\"Count\")\n",
    "plt.show()\n",
    "\n",
    "print(\"Label counts:\\n\", label_counts)"
   ]
  },
  {
   "cell_type": "markdown",
   "metadata": {},
   "source": [
    "# Preprocessing"
   ]
  },
  {
   "cell_type": "code",
   "execution_count": 45,
   "metadata": {
    "collapsed": false,
    "jupyter": {
     "outputs_hidden": false
    },
    "tags": []
   },
   "outputs": [
    {
     "data": {
      "text/plain": [
       "question    object\n",
       "sentence    object\n",
       "label        int64\n",
       "dtype: object"
      ]
     },
     "execution_count": 45,
     "metadata": {},
     "output_type": "execute_result"
    }
   ],
   "source": [
    "train_data.dtypes"
   ]
  },
  {
   "cell_type": "code",
   "execution_count": 46,
   "metadata": {
    "tags": []
   },
   "outputs": [],
   "source": [
    "text_column_names = (\"question\", \"sentence\")"
   ]
  },
  {
   "cell_type": "code",
   "execution_count": 47,
   "metadata": {
    "tags": []
   },
   "outputs": [],
   "source": [
    "train_data = util.clean_text_df(train_data, text_column_names)\n",
    "test_data = util.clean_text_df(test_data, text_column_names)"
   ]
  },
  {
   "cell_type": "markdown",
   "metadata": {},
   "source": [
    "Check for missing values"
   ]
  },
  {
   "cell_type": "code",
   "execution_count": 48,
   "metadata": {
    "tags": []
   },
   "outputs": [
    {
     "name": "stdout",
     "output_type": "stream",
     "text": [
      "---- Train Set ----\n",
      "question    0\n",
      "sentence    0\n",
      "label       0\n",
      "dtype: int64\n",
      "---- Test Set ----\n",
      "question    0\n",
      "sentence    0\n",
      "label       0\n",
      "dtype: int64\n"
     ]
    }
   ],
   "source": [
    "print(\"---- Train Set ----\")\n",
    "print(train_data.isnull().sum())\n",
    "print(\"---- Test Set ----\")\n",
    "print(test_data.isnull().sum())"
   ]
  },
  {
   "cell_type": "markdown",
   "metadata": {},
   "source": [
    "**Note:** We might want to check for duplicates here"
   ]
  },
  {
   "cell_type": "code",
   "execution_count": 49,
   "metadata": {
    "collapsed": false,
    "jupyter": {
     "outputs_hidden": false
    },
    "tags": []
   },
   "outputs": [
    {
     "data": {
      "text/html": [
       "<div>\n",
       "<style scoped>\n",
       "    .dataframe tbody tr th:only-of-type {\n",
       "        vertical-align: middle;\n",
       "    }\n",
       "\n",
       "    .dataframe tbody tr th {\n",
       "        vertical-align: top;\n",
       "    }\n",
       "\n",
       "    .dataframe thead th {\n",
       "        text-align: right;\n",
       "    }\n",
       "</style>\n",
       "<table border=\"1\" class=\"dataframe\">\n",
       "  <thead>\n",
       "    <tr style=\"text-align: right;\">\n",
       "      <th></th>\n",
       "      <th>question</th>\n",
       "      <th>sentence</th>\n",
       "      <th>label</th>\n",
       "    </tr>\n",
       "  </thead>\n",
       "  <tbody>\n",
       "    <tr>\n",
       "      <th>0</th>\n",
       "      <td>is there a functional neural correlate of indi...</td>\n",
       "      <td>the present study tested whether individuals w...</td>\n",
       "      <td>1</td>\n",
       "    </tr>\n",
       "    <tr>\n",
       "      <th>1</th>\n",
       "      <td>is there a functional neural correlate of indi...</td>\n",
       "      <td>this study examined whether heightened cardiov...</td>\n",
       "      <td>0</td>\n",
       "    </tr>\n",
       "    <tr>\n",
       "      <th>2</th>\n",
       "      <td>is there a functional neural correlate of indi...</td>\n",
       "      <td>heart rate variability hrv a measure of autono...</td>\n",
       "      <td>0</td>\n",
       "    </tr>\n",
       "    <tr>\n",
       "      <th>3</th>\n",
       "      <td>is there a functional neural correlate of indi...</td>\n",
       "      <td>previous studies have also not controlled for ...</td>\n",
       "      <td>0</td>\n",
       "    </tr>\n",
       "    <tr>\n",
       "      <th>4</th>\n",
       "      <td>is there a functional neural correlate of indi...</td>\n",
       "      <td>low socioeconomic status is associated with in...</td>\n",
       "      <td>0</td>\n",
       "    </tr>\n",
       "  </tbody>\n",
       "</table>\n",
       "</div>"
      ],
      "text/plain": [
       "                                            question  \\\n",
       "0  is there a functional neural correlate of indi...   \n",
       "1  is there a functional neural correlate of indi...   \n",
       "2  is there a functional neural correlate of indi...   \n",
       "3  is there a functional neural correlate of indi...   \n",
       "4  is there a functional neural correlate of indi...   \n",
       "\n",
       "                                            sentence  label  \n",
       "0  the present study tested whether individuals w...      1  \n",
       "1  this study examined whether heightened cardiov...      0  \n",
       "2  heart rate variability hrv a measure of autono...      0  \n",
       "3  previous studies have also not controlled for ...      0  \n",
       "4  low socioeconomic status is associated with in...      0  "
      ]
     },
     "execution_count": 49,
     "metadata": {},
     "output_type": "execute_result"
    }
   ],
   "source": [
    "train_data.head()"
   ]
  },
  {
   "cell_type": "markdown",
   "metadata": {},
   "source": [
    "Safe if necessary"
   ]
  },
  {
   "cell_type": "code",
   "execution_count": 50,
   "metadata": {
    "collapsed": false,
    "jupyter": {
     "outputs_hidden": false
    },
    "tags": []
   },
   "outputs": [],
   "source": [
    "'''\n",
    "train_data.to_csv(\"../../data/dev/processed/pubmedqa_train.csv\", index=False)\n",
    "test_data.to_csv(\"../../data/dev/processed/pubmedqa_test.csv\", index=False)\n",
    "''';"
   ]
  },
  {
   "cell_type": "markdown",
   "metadata": {},
   "source": [
    "Aggregate Sentences Per Question"
   ]
  },
  {
   "cell_type": "code",
   "execution_count": 51,
   "metadata": {
    "tags": []
   },
   "outputs": [],
   "source": [
    "aggregated_train_df = util.aggregate_sentences_by_question(train_data)\n",
    "aggregated_test_df = util.aggregate_sentences_by_question(test_data)"
   ]
  },
  {
   "cell_type": "code",
   "execution_count": 52,
   "metadata": {
    "tags": []
   },
   "outputs": [
    {
     "data": {
      "text/html": [
       "<div>\n",
       "<style scoped>\n",
       "    .dataframe tbody tr th:only-of-type {\n",
       "        vertical-align: middle;\n",
       "    }\n",
       "\n",
       "    .dataframe tbody tr th {\n",
       "        vertical-align: top;\n",
       "    }\n",
       "\n",
       "    .dataframe thead th {\n",
       "        text-align: right;\n",
       "    }\n",
       "</style>\n",
       "<table border=\"1\" class=\"dataframe\">\n",
       "  <thead>\n",
       "    <tr style=\"text-align: right;\">\n",
       "      <th></th>\n",
       "      <th>question</th>\n",
       "      <th>sentences</th>\n",
       "      <th>labels</th>\n",
       "    </tr>\n",
       "  </thead>\n",
       "  <tbody>\n",
       "    <tr>\n",
       "      <th>0</th>\n",
       "      <td>is there a functional neural correlate of indi...</td>\n",
       "      <td>[the present study tested whether individuals ...</td>\n",
       "      <td>[1, 0, 0, 0, 0, 0, 0, 1, 1, 1, 0, 1, 1, 0]</td>\n",
       "    </tr>\n",
       "    <tr>\n",
       "      <th>1</th>\n",
       "      <td>can we use the omron t9p automated blood press...</td>\n",
       "      <td>[recent events in our hospital combined with i...</td>\n",
       "      <td>[1, 1, 0, 0, 0, 0, 0, 0, 1, 1, 1, 1, 0, 0, 0, ...</td>\n",
       "    </tr>\n",
       "    <tr>\n",
       "      <th>2</th>\n",
       "      <td>intraabdominal vascular injury are we getting ...</td>\n",
       "      <td>[intraabdominal vascular injury iavi as a resu...</td>\n",
       "      <td>[1, 1, 0, 0, 0, 1, 0, 0, 1, 0, 1, 1, 0, 1, 1, ...</td>\n",
       "    </tr>\n",
       "    <tr>\n",
       "      <th>3</th>\n",
       "      <td>hand grip and pinch strength in patients with ...</td>\n",
       "      <td>[the hand grip strength test and pinch was sig...</td>\n",
       "      <td>[1, 1, 1, 1, 1, 1, 1, 1, 1, 0, 0, 1, 1, 1, 1, ...</td>\n",
       "    </tr>\n",
       "    <tr>\n",
       "      <th>4</th>\n",
       "      <td>is canada ready for patient accessible electro...</td>\n",
       "      <td>[access to personal health information through...</td>\n",
       "      <td>[1, 1, 1, 1, 1, 1, 1, 0, 0, 0, 0, 1, 1, 1, 1, ...</td>\n",
       "    </tr>\n",
       "  </tbody>\n",
       "</table>\n",
       "</div>"
      ],
      "text/plain": [
       "                                            question  \\\n",
       "0  is there a functional neural correlate of indi...   \n",
       "1  can we use the omron t9p automated blood press...   \n",
       "2  intraabdominal vascular injury are we getting ...   \n",
       "3  hand grip and pinch strength in patients with ...   \n",
       "4  is canada ready for patient accessible electro...   \n",
       "\n",
       "                                           sentences  \\\n",
       "0  [the present study tested whether individuals ...   \n",
       "1  [recent events in our hospital combined with i...   \n",
       "2  [intraabdominal vascular injury iavi as a resu...   \n",
       "3  [the hand grip strength test and pinch was sig...   \n",
       "4  [access to personal health information through...   \n",
       "\n",
       "                                              labels  \n",
       "0         [1, 0, 0, 0, 0, 0, 0, 1, 1, 1, 0, 1, 1, 0]  \n",
       "1  [1, 1, 0, 0, 0, 0, 0, 0, 1, 1, 1, 1, 0, 0, 0, ...  \n",
       "2  [1, 1, 0, 0, 0, 1, 0, 0, 1, 0, 1, 1, 0, 1, 1, ...  \n",
       "3  [1, 1, 1, 1, 1, 1, 1, 1, 1, 0, 0, 1, 1, 1, 1, ...  \n",
       "4  [1, 1, 1, 1, 1, 1, 1, 0, 0, 0, 0, 1, 1, 1, 1, ...  "
      ]
     },
     "execution_count": 52,
     "metadata": {},
     "output_type": "execute_result"
    }
   ],
   "source": [
    "aggregated_train_df.head()"
   ]
  },
  {
   "cell_type": "code",
   "execution_count": 53,
   "metadata": {
    "tags": []
   },
   "outputs": [],
   "source": [
    "data_output_dir = Path(\"../../data/dev/processed/\")\n",
    "data_output_dir.mkdir(parents=True, exist_ok=True)"
   ]
  },
  {
   "cell_type": "code",
   "execution_count": 54,
   "metadata": {
    "tags": []
   },
   "outputs": [],
   "source": [
    "aggregated_train_df.to_csv(data_output_dir / \"pubmedqa_train.csv\", index=False)\n",
    "aggregated_test_df.to_csv(data_output_dir / \"pubmedqa_test.csv\", index=False)"
   ]
  }
 ],
 "metadata": {
  "kernelspec": {
   "display_name": "Python 3 (ipykernel)",
   "language": "python",
   "name": "python3"
  },
  "language_info": {
   "codemirror_mode": {
    "name": "ipython",
    "version": 3
   },
   "file_extension": ".py",
   "mimetype": "text/x-python",
   "name": "python",
   "nbconvert_exporter": "python",
   "pygments_lexer": "ipython3",
   "version": "3.10.14"
  }
 },
 "nbformat": 4,
 "nbformat_minor": 4
}
