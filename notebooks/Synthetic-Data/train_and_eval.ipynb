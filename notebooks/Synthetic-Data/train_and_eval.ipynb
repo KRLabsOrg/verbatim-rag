{
 "cells": [
  {
   "cell_type": "code",
   "execution_count": 306,
   "id": "48bca62b-2cef-45df-b97f-ae6298788d07",
   "metadata": {
    "tags": []
   },
   "outputs": [
    {
     "name": "stdout",
     "output_type": "stream",
     "text": [
      "The autoreload extension is already loaded. To reload it, use:\n",
      "  %reload_ext autoreload\n"
     ]
    }
   ],
   "source": [
    "%load_ext autoreload\n",
    "%autoreload 2"
   ]
  },
  {
   "cell_type": "code",
   "execution_count": 307,
   "id": "e8d9f988-0d84-4620-8a52-60f6d0684c03",
   "metadata": {
    "tags": []
   },
   "outputs": [],
   "source": [
    "WANDB_RUN_NAME = f\"BioMedBERT-Abstract-Weighted\""
   ]
  },
  {
   "cell_type": "markdown",
   "id": "b187840b-e403-41c9-bf00-f4377fcdf4ba",
   "metadata": {},
   "source": [
    "# Setup"
   ]
  },
  {
   "cell_type": "code",
   "execution_count": 308,
   "id": "3d846225-5fce-4ae0-aa4c-9e97972c103e",
   "metadata": {
    "tags": []
   },
   "outputs": [],
   "source": [
    "import re\n",
    "import os\n",
    "import ast\n",
    "import json\n",
    "import wandb\n",
    "import unicodedata\n",
    "import pandas as pd\n",
    "from pathlib import Path\n",
    "import xml.etree.ElementTree as ET\n",
    "import seaborn as sns\n",
    "import matplotlib.pyplot as plt\n",
    "from tqdm.notebook import tqdm\n",
    "import numpy as np\n",
    "\n",
    "import torch\n",
    "import torch.nn as nn\n",
    "import flash_attn\n",
    "from datasets import Dataset\n",
    "from torch.utils.data import DataLoader\n",
    "from transformers import EarlyStoppingCallback\n",
    "from transformers import AutoTokenizer, TrainingArguments, Trainer, AutoModelForSequenceClassification\n",
    "\n",
    "from sklearn.model_selection import train_test_split\n",
    "from sklearn.utils.class_weight import compute_class_weight\n",
    "from sklearn.linear_model import LogisticRegression\n",
    "from sklearn.feature_extraction.text import TfidfVectorizer\n",
    "from sklearn.metrics import classification_report, confusion_matrix, accuracy_score, f1_score, precision_score, recall_score\n",
    "from sklearn.pipeline import Pipeline\n",
    "\n",
    "import sys\n",
    "sys.path.append(\"../../src\")\n",
    "sys.path.append(\"../../configs\")\n",
    "import util.preprocessing_util as util\n",
    "from hf_config import hf_token"
   ]
  },
  {
   "cell_type": "markdown",
   "id": "b74a954a-7b62-4a62-af94-4dba54cffb66",
   "metadata": {},
   "source": [
    "**Check versions of important packages**"
   ]
  },
  {
   "cell_type": "code",
   "execution_count": 309,
   "id": "b95c5543-c4a4-4430-8fe1-25005e75a2b8",
   "metadata": {
    "tags": []
   },
   "outputs": [
    {
     "name": "stdout",
     "output_type": "stream",
     "text": [
      "PyTorch version: 2.6.0+cu124\n",
      "CUDA version: 12.4\n",
      "Flash Attention version: 2.7.4.post1\n"
     ]
    }
   ],
   "source": [
    "print(\"PyTorch version:\", torch.__version__)\n",
    "print(\"CUDA version:\", torch.version.cuda)\n",
    "print(\"Flash Attention version:\", flash_attn.__version__)"
   ]
  },
  {
   "cell_type": "markdown",
   "id": "27c886b7-697c-46bf-ae26-4137c7cd7d5b",
   "metadata": {},
   "source": [
    "**Check which python we are using**"
   ]
  },
  {
   "cell_type": "code",
   "execution_count": 310,
   "id": "93d657f2-98bb-4f9a-a4e7-a1f83fdcfc5e",
   "metadata": {
    "tags": []
   },
   "outputs": [
    {
     "name": "stdout",
     "output_type": "stream",
     "text": [
      "/share/miniforge3/bin/python3.10\n"
     ]
    }
   ],
   "source": [
    "print(sys.executable)"
   ]
  },
  {
   "cell_type": "code",
   "execution_count": 311,
   "id": "e020a5b4-a64c-4c37-b74b-d3fb3227d5d0",
   "metadata": {
    "tags": []
   },
   "outputs": [],
   "source": [
    "device = torch.device(\"cuda\" if torch.cuda.is_available() else \"cpu\")"
   ]
  },
  {
   "cell_type": "markdown",
   "id": "04e27ade-b35b-4bab-bdeb-f842f842cac9",
   "metadata": {},
   "source": [
    "**Load the data**"
   ]
  },
  {
   "cell_type": "code",
   "execution_count": 312,
   "id": "9db553dc-a141-472f-9bb3-c222a440e988",
   "metadata": {
    "tags": []
   },
   "outputs": [],
   "source": [
    "DATA_DIR = Path(\"../../data\")\n",
    "SYNTHETIC_TRAIN_DATA_DIR = DATA_DIR / \"synthetic\" / \"questions\"\n",
    "TEST_DATA_DIR = DATA_DIR / \"dev\" / \"processed\"\n",
    "\n",
    "TRAIN_DATA_FILE_NAME = \"real-notes-6-qs.csv\"\n",
    "TEST_DATA_FILE_NAME = \"medical_data.csv\"\n",
    "\n",
    "MODELS_DIR = Path(\"../../models/\")\n",
    "MODELS_DIR.mkdir(parents=True, exist_ok=True)"
   ]
  },
  {
   "cell_type": "code",
   "execution_count": 313,
   "id": "7915f8f4-6916-4d60-92dd-b2896176ff6e",
   "metadata": {
    "tags": []
   },
   "outputs": [],
   "source": [
    "train_data = pd.read_csv(SYNTHETIC_TRAIN_DATA_DIR / TRAIN_DATA_FILE_NAME)\n",
    "test_data = pd.read_csv(TEST_DATA_DIR / TEST_DATA_FILE_NAME)"
   ]
  },
  {
   "cell_type": "markdown",
   "id": "c5abd676-9da4-4f38-8aed-a61d81c5d670",
   "metadata": {},
   "source": [
    "Sentences and labels are still stringified lists --> back to actual Python lists"
   ]
  },
  {
   "cell_type": "code",
   "execution_count": 314,
   "id": "ef6ed30a-5761-481f-99d0-2c596a966d14",
   "metadata": {
    "tags": []
   },
   "outputs": [],
   "source": [
    "train_data[\"sentences\"] = train_data[\"sentences\"].apply(ast.literal_eval)\n",
    "train_data[\"labels\"] = train_data[\"labels\"].apply(ast.literal_eval)\n",
    "\n",
    "test_data[\"sentences\"] = test_data[\"sentences\"].apply(ast.literal_eval)\n",
    "test_data[\"labels\"] = test_data[\"labels\"].apply(ast.literal_eval)"
   ]
  },
  {
   "cell_type": "markdown",
   "id": "0963419e-52e0-4565-acfd-037313887687",
   "metadata": {},
   "source": [
    "**TO BE REMOVED LATER - WE ALREADY DO THIS IN Q-GENERATION**"
   ]
  },
  {
   "cell_type": "code",
   "execution_count": 315,
   "id": "3cd68db9-07e3-4192-a69d-5336548fb70f",
   "metadata": {
    "tags": []
   },
   "outputs": [],
   "source": [
    "train_data = train_data[[\n",
    "    \"patient_question\",\n",
    "    \"clinician_question\",\n",
    "    \"sentences\",\n",
    "    \"note_excerpt\",\n",
    "    \"labels\"\n",
    "]]"
   ]
  },
  {
   "cell_type": "markdown",
   "id": "09a2233f-c9e5-4c3b-8962-94523527e581",
   "metadata": {},
   "source": [
    "# Exploration"
   ]
  },
  {
   "cell_type": "code",
   "execution_count": 316,
   "id": "4fc936be-75d5-466d-8a9c-8df1b9543626",
   "metadata": {
    "tags": []
   },
   "outputs": [
    {
     "data": {
      "text/html": [
       "<div>\n",
       "<style scoped>\n",
       "    .dataframe tbody tr th:only-of-type {\n",
       "        vertical-align: middle;\n",
       "    }\n",
       "\n",
       "    .dataframe tbody tr th {\n",
       "        vertical-align: top;\n",
       "    }\n",
       "\n",
       "    .dataframe thead th {\n",
       "        text-align: right;\n",
       "    }\n",
       "</style>\n",
       "<table border=\"1\" class=\"dataframe\">\n",
       "  <thead>\n",
       "    <tr style=\"text-align: right;\">\n",
       "      <th></th>\n",
       "      <th>patient_question</th>\n",
       "      <th>clinician_question</th>\n",
       "      <th>sentences</th>\n",
       "      <th>note_excerpt</th>\n",
       "      <th>labels</th>\n",
       "    </tr>\n",
       "  </thead>\n",
       "  <tbody>\n",
       "    <tr>\n",
       "      <th>0</th>\n",
       "      <td>Why did I need a stent for my bile duct, and w...</td>\n",
       "      <td>What findings were observed during the ERCP re...</td>\n",
       "      <td>[Brief Hospital Course:, During the ERCP a pan...</td>\n",
       "      <td>Brief Hospital Course: During the ERCP a pancr...</td>\n",
       "      <td>[0, 1, 0, 1, 0, 1, 1, 1, 0]</td>\n",
       "    </tr>\n",
       "    <tr>\n",
       "      <th>1</th>\n",
       "      <td>Why did I need another procedure after the fir...</td>\n",
       "      <td>What were the reasons for the re-evaluation of...</td>\n",
       "      <td>[Brief Hospital Course:, During the ERCP a pan...</td>\n",
       "      <td>Brief Hospital Course: During the ERCP a pancr...</td>\n",
       "      <td>[0, 1, 1, 1, 0, 1, 1, 1, 0]</td>\n",
       "    </tr>\n",
       "    <tr>\n",
       "      <th>2</th>\n",
       "      <td>Why did I need a stent placed in my bile duct?</td>\n",
       "      <td>What was the indication for placing a stent in...</td>\n",
       "      <td>[Brief Hospital Course:, During the ERCP a pan...</td>\n",
       "      <td>Brief Hospital Course: During the ERCP a pancr...</td>\n",
       "      <td>[0, 1, 1, 0, 0, 0, 0, 0, 0]</td>\n",
       "    </tr>\n",
       "  </tbody>\n",
       "</table>\n",
       "</div>"
      ],
      "text/plain": [
       "                                    patient_question  \\\n",
       "0  Why did I need a stent for my bile duct, and w...   \n",
       "1  Why did I need another procedure after the fir...   \n",
       "2     Why did I need a stent placed in my bile duct?   \n",
       "\n",
       "                                  clinician_question  \\\n",
       "0  What findings were observed during the ERCP re...   \n",
       "1  What were the reasons for the re-evaluation of...   \n",
       "2  What was the indication for placing a stent in...   \n",
       "\n",
       "                                           sentences  \\\n",
       "0  [Brief Hospital Course:, During the ERCP a pan...   \n",
       "1  [Brief Hospital Course:, During the ERCP a pan...   \n",
       "2  [Brief Hospital Course:, During the ERCP a pan...   \n",
       "\n",
       "                                        note_excerpt  \\\n",
       "0  Brief Hospital Course: During the ERCP a pancr...   \n",
       "1  Brief Hospital Course: During the ERCP a pancr...   \n",
       "2  Brief Hospital Course: During the ERCP a pancr...   \n",
       "\n",
       "                        labels  \n",
       "0  [0, 1, 0, 1, 0, 1, 1, 1, 0]  \n",
       "1  [0, 1, 1, 1, 0, 1, 1, 1, 0]  \n",
       "2  [0, 1, 1, 0, 0, 0, 0, 0, 0]  "
      ]
     },
     "execution_count": 316,
     "metadata": {},
     "output_type": "execute_result"
    }
   ],
   "source": [
    "train_data.head(3)"
   ]
  },
  {
   "cell_type": "code",
   "execution_count": 317,
   "id": "6cc8d03c-88d1-415b-9bbe-323a9ef25311",
   "metadata": {
    "tags": []
   },
   "outputs": [
    {
     "data": {
      "text/html": [
       "<div>\n",
       "<style scoped>\n",
       "    .dataframe tbody tr th:only-of-type {\n",
       "        vertical-align: middle;\n",
       "    }\n",
       "\n",
       "    .dataframe tbody tr th {\n",
       "        vertical-align: top;\n",
       "    }\n",
       "\n",
       "    .dataframe thead th {\n",
       "        text-align: right;\n",
       "    }\n",
       "</style>\n",
       "<table border=\"1\" class=\"dataframe\">\n",
       "  <thead>\n",
       "    <tr style=\"text-align: right;\">\n",
       "      <th></th>\n",
       "      <th>case_id</th>\n",
       "      <th>patient_question</th>\n",
       "      <th>clinician_question</th>\n",
       "      <th>note_excerpt</th>\n",
       "      <th>sentences</th>\n",
       "      <th>sentence_text</th>\n",
       "      <th>labels</th>\n",
       "    </tr>\n",
       "  </thead>\n",
       "  <tbody>\n",
       "    <tr>\n",
       "      <th>0</th>\n",
       "      <td>1</td>\n",
       "      <td>My question is if the sludge was there does no...</td>\n",
       "      <td>Why was ERCP recommended to him over continuin...</td>\n",
       "      <td>Brief Hospital Course: During the ERCP a pancr...</td>\n",
       "      <td>[Brief Hospital Course:, During the ERCP a pan...</td>\n",
       "      <td>Brief Hospital Course:</td>\n",
       "      <td>[0, 1, 0, 0, 0, 1, 1, 1, 0]</td>\n",
       "    </tr>\n",
       "    <tr>\n",
       "      <th>1</th>\n",
       "      <td>2</td>\n",
       "      <td>dad given multiple shots of lasciks after he w...</td>\n",
       "      <td>Why was he given lasix and his oxygen flow rat...</td>\n",
       "      <td>Brief Hospital Course: Acute diastolic heart f...</td>\n",
       "      <td>[Brief Hospital Course:, Acute diastolic heart...</td>\n",
       "      <td>Brief Hospital Course:</td>\n",
       "      <td>[0, 1, 0, 0, 1, 0, 0, 1, 0, 0, 0]</td>\n",
       "    </tr>\n",
       "    <tr>\n",
       "      <th>2</th>\n",
       "      <td>3</td>\n",
       "      <td>he is continously irritated and has headache w...</td>\n",
       "      <td>What is the expected course of recovery for him?</td>\n",
       "      <td>Discharge Instructions: You were admitted to t...</td>\n",
       "      <td>[Discharge Instructions: You were admitted to ...</td>\n",
       "      <td>Discharge Instructions: You were admitted to t...</td>\n",
       "      <td>[0, 0, 0, 0, 1, 1, 0, 0, 0, 0]</td>\n",
       "    </tr>\n",
       "  </tbody>\n",
       "</table>\n",
       "</div>"
      ],
      "text/plain": [
       "   case_id                                   patient_question  \\\n",
       "0        1  My question is if the sludge was there does no...   \n",
       "1        2  dad given multiple shots of lasciks after he w...   \n",
       "2        3  he is continously irritated and has headache w...   \n",
       "\n",
       "                                  clinician_question  \\\n",
       "0  Why was ERCP recommended to him over continuin...   \n",
       "1  Why was he given lasix and his oxygen flow rat...   \n",
       "2   What is the expected course of recovery for him?   \n",
       "\n",
       "                                        note_excerpt  \\\n",
       "0  Brief Hospital Course: During the ERCP a pancr...   \n",
       "1  Brief Hospital Course: Acute diastolic heart f...   \n",
       "2  Discharge Instructions: You were admitted to t...   \n",
       "\n",
       "                                           sentences  \\\n",
       "0  [Brief Hospital Course:, During the ERCP a pan...   \n",
       "1  [Brief Hospital Course:, Acute diastolic heart...   \n",
       "2  [Discharge Instructions: You were admitted to ...   \n",
       "\n",
       "                                       sentence_text  \\\n",
       "0                             Brief Hospital Course:   \n",
       "1                             Brief Hospital Course:   \n",
       "2  Discharge Instructions: You were admitted to t...   \n",
       "\n",
       "                              labels  \n",
       "0        [0, 1, 0, 0, 0, 1, 1, 1, 0]  \n",
       "1  [0, 1, 0, 0, 1, 0, 0, 1, 0, 0, 0]  \n",
       "2     [0, 0, 0, 0, 1, 1, 0, 0, 0, 0]  "
      ]
     },
     "execution_count": 317,
     "metadata": {},
     "output_type": "execute_result"
    }
   ],
   "source": [
    "test_data.head(3)"
   ]
  },
  {
   "cell_type": "markdown",
   "id": "7ccd9228-3b74-4d9f-8e05-f99d1558e484",
   "metadata": {},
   "source": [
    "# Masking"
   ]
  },
  {
   "cell_type": "markdown",
   "id": "67dd8370-debb-4459-958f-f3a400eb8e64",
   "metadata": {},
   "source": [
    "We’ll create one row per sentence: full context + label for only that sentence\n",
    "\n",
    "And add **[START]** and **[END]** markers around the target sentence"
   ]
  },
  {
   "cell_type": "code",
   "execution_count": 318,
   "id": "530a5760-6988-4609-b96b-e6d3f7158637",
   "metadata": {
    "tags": []
   },
   "outputs": [],
   "source": [
    "WINDOW_SIZE = 1"
   ]
  },
  {
   "cell_type": "code",
   "execution_count": 319,
   "id": "3efa69cb-2b68-47a1-ad56-56c11d7b41bc",
   "metadata": {
    "tags": []
   },
   "outputs": [],
   "source": [
    "train_data_masked = util.mask_on_sentence_level(train_data, window=WINDOW_SIZE, use_clinician_question = True)\n",
    "test_data_masked = util.mask_on_sentence_level(test_data, window=WINDOW_SIZE, use_clinician_question = True)"
   ]
  },
  {
   "cell_type": "code",
   "execution_count": 320,
   "id": "3d1f77ac-3e90-46f1-b561-595b92bbd719",
   "metadata": {
    "tags": []
   },
   "outputs": [
    {
     "data": {
      "text/plain": [
       "'[START] Brief Hospital Course: [END]. During the ERCP a pancreatic stent was required to facilitate access to the biliary system (removed at the end of the procedure), and a common bile duct stent was placed to allow drainage of the biliary obstruction caused by stones and sludge.'"
      ]
     },
     "execution_count": 320,
     "metadata": {},
     "output_type": "execute_result"
    }
   ],
   "source": [
    "train_data_masked.head(1).context[0]"
   ]
  },
  {
   "cell_type": "code",
   "execution_count": 321,
   "id": "fe63a8b9-1127-4e59-89ac-2901797b83e2",
   "metadata": {
    "tags": []
   },
   "outputs": [
    {
     "data": {
      "text/plain": [
       "'[START] Brief Hospital Course: [END]. During the ERCP a pancreatic stent was required to facilitate access to the biliary system (removed at the end of the procedure), and a common bile duct stent was placed to allow drainage of the biliary obstruction caused by stones and sludge.'"
      ]
     },
     "execution_count": 321,
     "metadata": {},
     "output_type": "execute_result"
    }
   ],
   "source": [
    "test_data_masked.head(1).context[0]"
   ]
  },
  {
   "cell_type": "code",
   "execution_count": 322,
   "id": "ab64ae7a-a1d5-4fc9-87a7-26dcdeadea86",
   "metadata": {
    "tags": []
   },
   "outputs": [
    {
     "data": {
      "text/plain": [
       "label\n",
       "0    2163\n",
       "1     405\n",
       "Name: count, dtype: int64"
      ]
     },
     "execution_count": 322,
     "metadata": {},
     "output_type": "execute_result"
    }
   ],
   "source": [
    "train_data_masked['label'].value_counts()"
   ]
  },
  {
   "cell_type": "code",
   "execution_count": 323,
   "id": "90b1ef92-8470-43d5-a275-73c71cd80509",
   "metadata": {
    "tags": []
   },
   "outputs": [
    {
     "data": {
      "text/plain": [
       "label\n",
       "0    290\n",
       "1    138\n",
       "Name: count, dtype: int64"
      ]
     },
     "execution_count": 323,
     "metadata": {},
     "output_type": "execute_result"
    }
   ],
   "source": [
    "test_data_masked['label'].value_counts()"
   ]
  },
  {
   "cell_type": "markdown",
   "id": "6786138c-9177-4d88-a37e-e285ef443202",
   "metadata": {},
   "source": [
    "# Correct Balance"
   ]
  },
  {
   "cell_type": "code",
   "execution_count": 324,
   "id": "173a2767-2afe-439d-bf2e-0c6a40931941",
   "metadata": {
    "tags": []
   },
   "outputs": [
    {
     "data": {
      "text/html": [
       "<div>\n",
       "<style scoped>\n",
       "    .dataframe tbody tr th:only-of-type {\n",
       "        vertical-align: middle;\n",
       "    }\n",
       "\n",
       "    .dataframe tbody tr th {\n",
       "        vertical-align: top;\n",
       "    }\n",
       "\n",
       "    .dataframe thead th {\n",
       "        text-align: right;\n",
       "    }\n",
       "</style>\n",
       "<table border=\"1\" class=\"dataframe\">\n",
       "  <thead>\n",
       "    <tr style=\"text-align: right;\">\n",
       "      <th></th>\n",
       "      <th>question</th>\n",
       "      <th>context</th>\n",
       "      <th>target_sentence</th>\n",
       "      <th>target_index</th>\n",
       "      <th>label</th>\n",
       "    </tr>\n",
       "  </thead>\n",
       "  <tbody>\n",
       "    <tr>\n",
       "      <th>0</th>\n",
       "      <td>What findings were observed during the ERCP re...</td>\n",
       "      <td>[START] Brief Hospital Course: [END]. During t...</td>\n",
       "      <td>Brief Hospital Course:</td>\n",
       "      <td>0</td>\n",
       "      <td>0</td>\n",
       "    </tr>\n",
       "    <tr>\n",
       "      <th>1</th>\n",
       "      <td>What findings were observed during the ERCP re...</td>\n",
       "      <td>Brief Hospital Course:. [START] During the ERC...</td>\n",
       "      <td>During the ERCP a pancreatic stent was require...</td>\n",
       "      <td>1</td>\n",
       "      <td>1</td>\n",
       "    </tr>\n",
       "    <tr>\n",
       "      <th>2</th>\n",
       "      <td>What findings were observed during the ERCP re...</td>\n",
       "      <td>During the ERCP a pancreatic stent was require...</td>\n",
       "      <td>However, due to the patient's elevated INR, no...</td>\n",
       "      <td>2</td>\n",
       "      <td>0</td>\n",
       "    </tr>\n",
       "    <tr>\n",
       "      <th>3</th>\n",
       "      <td>What findings were observed during the ERCP re...</td>\n",
       "      <td>However, due to the patient's elevated INR, no...</td>\n",
       "      <td>Frank pus was noted to be draining from the co...</td>\n",
       "      <td>3</td>\n",
       "      <td>1</td>\n",
       "    </tr>\n",
       "    <tr>\n",
       "      <th>4</th>\n",
       "      <td>What findings were observed during the ERCP re...</td>\n",
       "      <td>Frank pus was noted to be draining from the co...</td>\n",
       "      <td>The Vancomycin was discontinued.</td>\n",
       "      <td>4</td>\n",
       "      <td>0</td>\n",
       "    </tr>\n",
       "  </tbody>\n",
       "</table>\n",
       "</div>"
      ],
      "text/plain": [
       "                                            question  \\\n",
       "0  What findings were observed during the ERCP re...   \n",
       "1  What findings were observed during the ERCP re...   \n",
       "2  What findings were observed during the ERCP re...   \n",
       "3  What findings were observed during the ERCP re...   \n",
       "4  What findings were observed during the ERCP re...   \n",
       "\n",
       "                                             context  \\\n",
       "0  [START] Brief Hospital Course: [END]. During t...   \n",
       "1  Brief Hospital Course:. [START] During the ERC...   \n",
       "2  During the ERCP a pancreatic stent was require...   \n",
       "3  However, due to the patient's elevated INR, no...   \n",
       "4  Frank pus was noted to be draining from the co...   \n",
       "\n",
       "                                     target_sentence  target_index  label  \n",
       "0                             Brief Hospital Course:             0      0  \n",
       "1  During the ERCP a pancreatic stent was require...             1      1  \n",
       "2  However, due to the patient's elevated INR, no...             2      0  \n",
       "3  Frank pus was noted to be draining from the co...             3      1  \n",
       "4                   The Vancomycin was discontinued.             4      0  "
      ]
     },
     "execution_count": 324,
     "metadata": {},
     "output_type": "execute_result"
    }
   ],
   "source": [
    "train_data_masked.head()"
   ]
  },
  {
   "cell_type": "code",
   "execution_count": 325,
   "id": "51cc08a5-eaaf-45aa-bf22-7987820016c1",
   "metadata": {
    "tags": []
   },
   "outputs": [],
   "source": [
    "counts = train_data_masked[\"label\"].value_counts()\n",
    "min_size = counts.min()\n",
    "\n",
    "neg = train_data_masked[train_data_masked.label == 0].sample(n=min_size, random_state=1050)\n",
    "pos = train_data_masked[train_data_masked.label == 1].sample(n=min_size, random_state=1050)\n",
    "balanced_df = pd.concat([neg, pos]).sample(frac=1, random_state=1050)\n"
   ]
  },
  {
   "cell_type": "code",
   "execution_count": 326,
   "id": "6b391578-db13-4082-9f27-f5baf67175be",
   "metadata": {
    "tags": []
   },
   "outputs": [],
   "source": [
    "train_data_masked = balanced_df"
   ]
  },
  {
   "cell_type": "markdown",
   "id": "8cf22a41-8dfb-4993-a16d-0764c6665a66",
   "metadata": {},
   "source": [
    "# Dataset Preperation"
   ]
  },
  {
   "cell_type": "markdown",
   "id": "6de7a787-4037-418c-b86e-adcba920a54b",
   "metadata": {},
   "source": [
    "- Fine-tuning both the model weights and using a tokenizer whose vocabulary matches your task/domain.\n",
    "\n",
    "- All components — embeddings, encoder layers, and classifier head — are updated during training."
   ]
  },
  {
   "cell_type": "markdown",
   "id": "9a76ad6b-19b9-4fd4-b4cb-22fae688dc92",
   "metadata": {},
   "source": [
    "**Configs**"
   ]
  },
  {
   "cell_type": "code",
   "execution_count": 327,
   "id": "2c2361ac-2521-484d-9b72-68d863240680",
   "metadata": {
    "tags": []
   },
   "outputs": [],
   "source": [
    "models = {\"ModernBERT\": \"answerdotai/ModernBERT-base\", \"BioMedBERT-Abstract\": \"microsoft/BiomedNLP-BiomedBERT-base-uncased-abstract\"}\n",
    "MODEL = models[\"BioMedBERT-Abstract\"]\n",
    "BATCH_SIZE = 32\n",
    "CONTEXT_LENGTH = 512"
   ]
  },
  {
   "cell_type": "code",
   "execution_count": 328,
   "id": "fbd0e71d-ed55-4ffd-8e92-bbeef052c458",
   "metadata": {
    "tags": []
   },
   "outputs": [],
   "source": [
    "tokenizer = AutoTokenizer.from_pretrained(MODEL, token=hf_token) #, attn_implementation=\"flash_attention_2\""
   ]
  },
  {
   "cell_type": "markdown",
   "id": "b7898647-1343-4907-af96-5db01515059d",
   "metadata": {},
   "source": [
    "**Load trainable embeddings**"
   ]
  },
  {
   "cell_type": "code",
   "execution_count": 329,
   "id": "e33cfd03-2fdc-4c8d-873d-91729bca81f9",
   "metadata": {
    "tags": []
   },
   "outputs": [
    {
     "name": "stderr",
     "output_type": "stream",
     "text": [
      "Some weights of BertForSequenceClassification were not initialized from the model checkpoint at microsoft/BiomedNLP-BiomedBERT-base-uncased-abstract and are newly initialized: ['classifier.bias', 'classifier.weight']\n",
      "You should probably TRAIN this model on a down-stream task to be able to use it for predictions and inference.\n"
     ]
    }
   ],
   "source": [
    "model = AutoModelForSequenceClassification.from_pretrained(\n",
    "    MODEL, num_labels=2, token=hf_token\n",
    ")"
   ]
  },
  {
   "cell_type": "code",
   "execution_count": 330,
   "id": "a7f96d80-9dae-46ab-9c19-e613f94bc7e5",
   "metadata": {
    "tags": []
   },
   "outputs": [],
   "source": [
    "# Resize model embeddings to match new special tokens\n",
    "if WINDOW_SIZE > 0:\n",
    "    special_tokens = {\"additional_special_tokens\": [\"[START]\", \"[END]\"]}\n",
    "    tokenizer.add_special_tokens(special_tokens);\n",
    "    model.resize_token_embeddings(len(tokenizer))"
   ]
  },
  {
   "cell_type": "markdown",
   "id": "9d19c82a-701a-499a-95ca-20087b11acce",
   "metadata": {},
   "source": [
    "Check if model parameters are trainable (Ensure We Are Training End-to-End)"
   ]
  },
  {
   "cell_type": "code",
   "execution_count": 331,
   "id": "5df12e51-7d34-4788-a754-962d201d42b2",
   "metadata": {
    "tags": []
   },
   "outputs": [],
   "source": [
    "for param in model.parameters():\n",
    "    param.requires_grad = True  # Ensure the entire model is updated"
   ]
  },
  {
   "cell_type": "markdown",
   "id": "aaff887f-b79c-4465-9d6a-bc8a92242ed2",
   "metadata": {},
   "source": [
    "**Prepare the dataset**"
   ]
  },
  {
   "cell_type": "code",
   "execution_count": 332,
   "id": "15b33d74-b8da-4e5e-9258-c85001d1cf15",
   "metadata": {
    "tags": []
   },
   "outputs": [],
   "source": [
    "dataset_train = Dataset.from_pandas(train_data_masked)\n",
    "dataset_test = Dataset.from_pandas(test_data_masked)"
   ]
  },
  {
   "cell_type": "code",
   "execution_count": 333,
   "id": "61799f86-d211-4ca2-a901-f8424b6d7bec",
   "metadata": {
    "tags": []
   },
   "outputs": [
    {
     "data": {
      "application/vnd.jupyter.widget-view+json": {
       "model_id": "ecb11e9e7eb64519b8b8386f7179f101",
       "version_major": 2,
       "version_minor": 0
      },
      "text/plain": [
       "Tokenizing:   0%|          | 0/1238 [00:00<?, ?it/s]"
      ]
     },
     "metadata": {},
     "output_type": "display_data"
    }
   ],
   "source": [
    "progress_bar = tqdm(total=((len(dataset_train)+len(dataset_test))),\n",
    "                    desc=\"Tokenizing\", position=0, leave=True)"
   ]
  },
  {
   "cell_type": "code",
   "execution_count": 334,
   "id": "4d06721a-57d6-4019-82d1-7b3e51482cea",
   "metadata": {
    "tags": []
   },
   "outputs": [],
   "source": [
    "def tokenize_batch(batch):\n",
    "    encodings = tokenizer(\n",
    "        batch[\"question\"],\n",
    "        batch[\"context\"],\n",
    "        padding=\"max_length\",\n",
    "        truncation=True,\n",
    "        max_length=CONTEXT_LENGTH,\n",
    "        return_tensors=\"pt\"\n",
    "    )\n",
    "    return {\n",
    "        \"input_ids\": encodings[\"input_ids\"].tolist(),\n",
    "        \"attention_mask\": encodings[\"attention_mask\"].tolist(),\n",
    "        \"labels\": batch[\"label\"]\n",
    "    }\n",
    "\n",
    "def tokenize_with_progress(batch):\n",
    "    out = tokenize_batch(batch)\n",
    "    progress_bar.update(len(batch[\"question\"]))\n",
    "    return out"
   ]
  },
  {
   "cell_type": "code",
   "execution_count": 335,
   "id": "60913fc8-73ec-4187-8f39-5dbcb4867835",
   "metadata": {
    "tags": []
   },
   "outputs": [
    {
     "data": {
      "application/vnd.jupyter.widget-view+json": {
       "model_id": "d772e51f75ae4b3287d7e44270911677",
       "version_major": 2,
       "version_minor": 0
      },
      "text/plain": [
       "Map:   0%|          | 0/810 [00:00<?, ? examples/s]"
      ]
     },
     "metadata": {},
     "output_type": "display_data"
    },
    {
     "data": {
      "application/vnd.jupyter.widget-view+json": {
       "model_id": "29d6960f579f4010a81ae7a61956dfc1",
       "version_major": 2,
       "version_minor": 0
      },
      "text/plain": [
       "Map:   0%|          | 0/428 [00:00<?, ? examples/s]"
      ]
     },
     "metadata": {},
     "output_type": "display_data"
    }
   ],
   "source": [
    "tokenized_dataset_train = dataset_train.map(tokenize_with_progress, batched=True, batch_size=BATCH_SIZE)\n",
    "tokenized_dataset_test = dataset_test.map(tokenize_with_progress, batched=True, batch_size=BATCH_SIZE)"
   ]
  },
  {
   "cell_type": "code",
   "execution_count": 336,
   "id": "6f2affd8-f430-4568-9742-c14607ad280c",
   "metadata": {
    "tags": []
   },
   "outputs": [],
   "source": [
    "progress_bar.close()"
   ]
  },
  {
   "cell_type": "markdown",
   "id": "1fea3d62-cd35-4b19-a740-3ca4fb88c4a0",
   "metadata": {},
   "source": [
    "**Convert to PyTorch Dataset (Ensure dataset is set to PyTorch format)**"
   ]
  },
  {
   "cell_type": "code",
   "execution_count": 337,
   "id": "97474983-8df9-43f5-a97f-4f53a98bcb49",
   "metadata": {
    "tags": []
   },
   "outputs": [],
   "source": [
    "tokenized_dataset_train.set_format(type=\"torch\", columns=[\"input_ids\", \"attention_mask\", \"labels\"])\n",
    "tokenized_dataset_test.set_format(type=\"torch\", columns=[\"input_ids\", \"attention_mask\", \"labels\"])"
   ]
  },
  {
   "cell_type": "markdown",
   "id": "ff634acb-a0da-4b54-86d8-9a3d0b781586",
   "metadata": {},
   "source": [
    "**Create DataLoader for Batching**"
   ]
  },
  {
   "cell_type": "code",
   "execution_count": 338,
   "id": "7128b7fa-316d-417e-a589-2ca65f3571fb",
   "metadata": {
    "tags": []
   },
   "outputs": [],
   "source": [
    "train_dataloader = DataLoader(tokenized_dataset_train, batch_size=BATCH_SIZE, shuffle=True)\n",
    "test_dataloader = DataLoader(tokenized_dataset_test, batch_size=BATCH_SIZE)"
   ]
  },
  {
   "cell_type": "markdown",
   "id": "3ffc8860-46ea-479d-a4e0-ce55a112678b",
   "metadata": {},
   "source": [
    "**Check one batch**"
   ]
  },
  {
   "cell_type": "code",
   "execution_count": 339,
   "id": "59518f61-068b-4487-ace1-eb52c1f269d5",
   "metadata": {
    "tags": []
   },
   "outputs": [
    {
     "name": "stdout",
     "output_type": "stream",
     "text": [
      "{'input_ids': torch.Size([32, 512]), 'attention_mask': torch.Size([32, 512]), 'labels': torch.Size([32])}\n"
     ]
    }
   ],
   "source": [
    "batch = next(iter(train_dataloader))\n",
    "print({key: value.shape for key, value in batch.items()})"
   ]
  },
  {
   "cell_type": "markdown",
   "id": "00d4fe19-38fb-4529-aebd-5059820f7147",
   "metadata": {},
   "source": [
    "**Sanity check to verify that everything is correct before training**"
   ]
  },
  {
   "cell_type": "code",
   "execution_count": 340,
   "id": "4a2a3b6c-eed2-4a57-b36c-dc0cf05d3595",
   "metadata": {
    "tags": []
   },
   "outputs": [
    {
     "name": "stdout",
     "output_type": "stream",
     "text": [
      "----- Training Set -----\n",
      "Dataset({\n",
      "    features: ['question', 'context', 'target_sentence', 'target_index', 'label', '__index_level_0__', 'input_ids', 'attention_mask', 'labels'],\n",
      "    num_rows: 810\n",
      "})\n",
      "['question', 'context', 'target_sentence', 'target_index', 'label', '__index_level_0__', 'input_ids', 'attention_mask', 'labels']\n",
      "----- Test Set -----\n",
      "Dataset({\n",
      "    features: ['question', 'context', 'target_sentence', 'target_index', 'label', 'input_ids', 'attention_mask', 'labels'],\n",
      "    num_rows: 428\n",
      "})\n",
      "['question', 'context', 'target_sentence', 'target_index', 'label', 'input_ids', 'attention_mask', 'labels']\n"
     ]
    }
   ],
   "source": [
    "print(\"----- Training Set -----\")\n",
    "print(tokenized_dataset_train)\n",
    "print(tokenized_dataset_train.column_names)\n",
    "print(\"----- Test Set -----\")\n",
    "print(tokenized_dataset_test)\n",
    "print(tokenized_dataset_test.column_names)"
   ]
  },
  {
   "cell_type": "markdown",
   "id": "89b62903-c4ec-4051-a41b-904869f47aae",
   "metadata": {},
   "source": [
    "# Training"
   ]
  },
  {
   "cell_type": "markdown",
   "id": "90eaceeb-8625-4c90-aaaa-12242fd6869b",
   "metadata": {},
   "source": [
    "**Define directory for temporary checkpoints**"
   ]
  },
  {
   "cell_type": "code",
   "execution_count": 341,
   "id": "2d2421f6-2dfe-46cd-b53c-79752cf6153b",
   "metadata": {
    "tags": []
   },
   "outputs": [],
   "source": [
    "output_dir = Path(\"../../checkpoints\")\n",
    "output_dir.mkdir(parents=True, exist_ok=True)"
   ]
  },
  {
   "cell_type": "markdown",
   "id": "70094213-d9b3-47ee-846f-b9a636d0fd5f",
   "metadata": {},
   "source": [
    "**Define training arguments & initialize trainer**"
   ]
  },
  {
   "cell_type": "code",
   "execution_count": 342,
   "id": "04b5516a-5cbd-46fd-95b1-b3757dc7dbf3",
   "metadata": {
    "tags": []
   },
   "outputs": [],
   "source": [
    "NUM_EPOCHS = 3\n",
    "BATCH_SIZE = 32\n",
    "LEARNING_RATE = 1e-5\n",
    "DATASET_NAME = \"synthetic-real-3q\"\n",
    "\n",
    "WANDB_PROJECT_NAME = \"Sythetic-Med\"\n",
    "WANDB_NOTEBOOK_NAME = \"train_and_eval\""
   ]
  },
  {
   "cell_type": "markdown",
   "id": "494073f2-2e48-472e-99bc-27991d6592a9",
   "metadata": {},
   "source": [
    "**Setup W&B**"
   ]
  },
  {
   "cell_type": "code",
   "execution_count": 343,
   "id": "454aafbf-12f0-4c96-b47a-82176a5d480d",
   "metadata": {
    "tags": []
   },
   "outputs": [
    {
     "name": "stderr",
     "output_type": "stream",
     "text": [
      "\u001b[34m\u001b[1mwandb\u001b[0m: \u001b[33mWARNING\u001b[0m Calling wandb.login() after wandb.init() has no effect.\n"
     ]
    },
    {
     "data": {
      "text/plain": [
       "True"
      ]
     },
     "execution_count": 343,
     "metadata": {},
     "output_type": "execute_result"
    }
   ],
   "source": [
    "os.environ[\"WANDB_NOTEBOOK_NAME\"] = WANDB_NOTEBOOK_NAME\n",
    "wandb.login()"
   ]
  },
  {
   "cell_type": "code",
   "execution_count": 344,
   "id": "61c45513-6980-4ac5-a121-e101fa286f17",
   "metadata": {
    "tags": []
   },
   "outputs": [],
   "source": [
    "config = dict(\n",
    "    epochs=NUM_EPOCHS,\n",
    "    batch_size=BATCH_SIZE,\n",
    "    learning_rate=LEARNING_RATE,\n",
    "    dataset=DATASET_NAME,\n",
    "    architecture=MODEL,\n",
    "    window_size=WINDOW_SIZE,\n",
    "    early_stopping=True,\n",
    "    eval_steps=500,\n",
    "    label_smoothing_factor=0.0,\n",
    "    gradient_clipping=1.0,\n",
    "    load_best_model=True,\n",
    "    metric_for_best_model=\"f1\",\n",
    "    input_format=\"question + context with [START]/[END]\",\n",
    "    question_type=\"clinician\"\n",
    ")"
   ]
  },
  {
   "cell_type": "markdown",
   "id": "5f3ff571-960f-409a-9abf-9ba55caf1335",
   "metadata": {},
   "source": [
    "**Generate run-id to resume same run after training**"
   ]
  },
  {
   "cell_type": "code",
   "execution_count": 345,
   "id": "4888709c-6965-4f52-b684-7e776b6794e7",
   "metadata": {
    "tags": []
   },
   "outputs": [],
   "source": [
    "run_id = wandb.util.generate_id()"
   ]
  },
  {
   "cell_type": "code",
   "execution_count": 346,
   "id": "5eedd064-f35d-4691-a16d-47db748ebdef",
   "metadata": {
    "tags": []
   },
   "outputs": [
    {
     "data": {
      "text/html": [],
      "text/plain": [
       "<IPython.core.display.HTML object>"
      ]
     },
     "metadata": {},
     "output_type": "display_data"
    },
    {
     "data": {
      "text/html": [
       "<br>    <style><br>        .wandb-row {<br>            display: flex;<br>            flex-direction: row;<br>            flex-wrap: wrap;<br>            justify-content: flex-start;<br>            width: 100%;<br>        }<br>        .wandb-col {<br>            display: flex;<br>            flex-direction: column;<br>            flex-basis: 100%;<br>            flex: 1;<br>            padding: 10px;<br>        }<br>    </style><br><div class=\"wandb-row\"><div class=\"wandb-col\"><h3>Run history:</h3><br/><table class=\"wandb\"><tr><td>eval/accuracy</td><td>▁</td></tr><tr><td>eval/f1</td><td>▁</td></tr><tr><td>eval/loss</td><td>▁</td></tr><tr><td>eval/precision</td><td>▁</td></tr><tr><td>eval/recall</td><td>▁</td></tr><tr><td>eval/runtime</td><td>▁</td></tr><tr><td>eval/samples_per_second</td><td>▁</td></tr><tr><td>eval/steps_per_second</td><td>▁</td></tr><tr><td>test/accuracy</td><td>▁</td></tr><tr><td>test/f1</td><td>▁</td></tr><tr><td>test/loss</td><td>▁</td></tr><tr><td>test/precision</td><td>▁</td></tr><tr><td>test/recall</td><td>▁</td></tr><tr><td>test/runtime</td><td>▁</td></tr><tr><td>test/samples_per_second</td><td>▁</td></tr><tr><td>test/steps_per_second</td><td>▁</td></tr><tr><td>train/epoch</td><td>▁</td></tr><tr><td>train/global_step</td><td>▁</td></tr></table><br/></div><div class=\"wandb-col\"><h3>Run summary:</h3><br/><table class=\"wandb\"><tr><td>eval/accuracy</td><td>0.6285</td></tr><tr><td>eval/f1</td><td>0.38132</td></tr><tr><td>eval/loss</td><td>0.93691</td></tr><tr><td>eval/precision</td><td>0.41176</td></tr><tr><td>eval/recall</td><td>0.35507</td></tr><tr><td>eval/runtime</td><td>0.4184</td></tr><tr><td>eval/samples_per_second</td><td>1022.953</td></tr><tr><td>eval/steps_per_second</td><td>16.731</td></tr><tr><td>test/accuracy</td><td>0.6285</td></tr><tr><td>test/f1</td><td>0.38132</td></tr><tr><td>test/loss</td><td>0.93691</td></tr><tr><td>test/precision</td><td>0.41176</td></tr><tr><td>test/recall</td><td>0.35507</td></tr><tr><td>test/runtime</td><td>0.4248</td></tr><tr><td>test/samples_per_second</td><td>1007.553</td></tr><tr><td>test/steps_per_second</td><td>16.479</td></tr><tr><td>total_flos</td><td>2027007570493440</td></tr><tr><td>train/epoch</td><td>3</td></tr><tr><td>train/global_step</td><td>243</td></tr><tr><td>train/grad_norm</td><td>16.60925</td></tr><tr><td>train/learning_rate</td><td>0.0</td></tr><tr><td>train/loss</td><td>0.4945</td></tr><tr><td>train_loss</td><td>0.54064</td></tr><tr><td>train_runtime</td><td>36.4646</td></tr><tr><td>train_samples_per_second</td><td>211.273</td></tr><tr><td>train_steps_per_second</td><td>6.664</td></tr></table><br/></div></div>"
      ],
      "text/plain": [
       "<IPython.core.display.HTML object>"
      ]
     },
     "metadata": {},
     "output_type": "display_data"
    },
    {
     "data": {
      "text/html": [
       " View run <strong style=\"color:#cdcd00\">BioMedBERT-Abstract-Weighted</strong> at: <a href='https://wandb.ai/asap/Sythetic-Med/runs/ex40yyq9' target=\"_blank\">https://wandb.ai/asap/Sythetic-Med/runs/ex40yyq9</a><br> View project at: <a href='https://wandb.ai/asap/Sythetic-Med' target=\"_blank\">https://wandb.ai/asap/Sythetic-Med</a><br>Synced 5 W&B file(s), 0 media file(s), 0 artifact file(s) and 0 other file(s)"
      ],
      "text/plain": [
       "<IPython.core.display.HTML object>"
      ]
     },
     "metadata": {},
     "output_type": "display_data"
    },
    {
     "data": {
      "text/html": [
       "Find logs at: <code>./wandb/run-20250423_203204-ex40yyq9/logs</code>"
      ],
      "text/plain": [
       "<IPython.core.display.HTML object>"
      ]
     },
     "metadata": {},
     "output_type": "display_data"
    },
    {
     "data": {
      "text/html": [
       "Tracking run with wandb version 0.19.9"
      ],
      "text/plain": [
       "<IPython.core.display.HTML object>"
      ]
     },
     "metadata": {},
     "output_type": "display_data"
    },
    {
     "data": {
      "text/html": [
       "Run data is saved locally in <code>/home/paul.schmitt/verbatim-rag/exploration/Synthetic-Data/wandb/run-20250423_203237-tgl1ep0l</code>"
      ],
      "text/plain": [
       "<IPython.core.display.HTML object>"
      ]
     },
     "metadata": {},
     "output_type": "display_data"
    },
    {
     "data": {
      "text/html": [
       "Syncing run <strong><a href='https://wandb.ai/asap/Sythetic-Med/runs/tgl1ep0l' target=\"_blank\">BioMedBERT-Abstract-Weighted</a></strong> to <a href='https://wandb.ai/asap/Sythetic-Med' target=\"_blank\">Weights & Biases</a> (<a href='https://wandb.me/developer-guide' target=\"_blank\">docs</a>)<br>"
      ],
      "text/plain": [
       "<IPython.core.display.HTML object>"
      ]
     },
     "metadata": {},
     "output_type": "display_data"
    },
    {
     "data": {
      "text/html": [
       " View project at <a href='https://wandb.ai/asap/Sythetic-Med' target=\"_blank\">https://wandb.ai/asap/Sythetic-Med</a>"
      ],
      "text/plain": [
       "<IPython.core.display.HTML object>"
      ]
     },
     "metadata": {},
     "output_type": "display_data"
    },
    {
     "data": {
      "text/html": [
       " View run at <a href='https://wandb.ai/asap/Sythetic-Med/runs/tgl1ep0l' target=\"_blank\">https://wandb.ai/asap/Sythetic-Med/runs/tgl1ep0l</a>"
      ],
      "text/plain": [
       "<IPython.core.display.HTML object>"
      ]
     },
     "metadata": {},
     "output_type": "display_data"
    },
    {
     "data": {
      "text/html": [
       "<button onClick=\"this.nextSibling.style.display='block';this.style.display='none';\">Display W&B run</button><iframe src='https://wandb.ai/asap/Sythetic-Med/runs/tgl1ep0l?jupyter=true' style='border:none;width:100%;height:420px;display:none;'></iframe>"
      ],
      "text/plain": [
       "<wandb.sdk.wandb_run.Run at 0x14f7ac538fd0>"
      ]
     },
     "execution_count": 346,
     "metadata": {},
     "output_type": "execute_result"
    }
   ],
   "source": [
    "wandb.init(\n",
    "    project=WANDB_PROJECT_NAME,\n",
    "    name=WANDB_RUN_NAME,\n",
    "    config=config,\n",
    "    id=run_id,\n",
    "    resume=\"allow\"               # resume if it exists, else start new\n",
    ")"
   ]
  },
  {
   "cell_type": "code",
   "execution_count": 347,
   "id": "1472721c-77ed-4848-a8ba-efb341b040fe",
   "metadata": {
    "tags": []
   },
   "outputs": [],
   "source": [
    "def compute_metrics(eval_pred):\n",
    "    logits, labels = eval_pred\n",
    "    predictions = logits.argmax(axis=-1)\n",
    "\n",
    "    return {\n",
    "        \"accuracy\": accuracy_score(labels, predictions),\n",
    "        \"f1\": f1_score(labels, predictions),\n",
    "        \"precision\": precision_score(labels, predictions),\n",
    "        \"recall\": recall_score(labels, predictions),\n",
    "    }"
   ]
  },
  {
   "cell_type": "markdown",
   "id": "46f84fa9-aa5b-4083-8ee6-9d0d50047101",
   "metadata": {},
   "source": [
    "## Ensure Class Balance"
   ]
  },
  {
   "cell_type": "markdown",
   "id": "b1ab3aca-a874-4899-b7cb-2e5dd33b31d4",
   "metadata": {},
   "source": [
    "**Compute your class‑weights**"
   ]
  },
  {
   "cell_type": "code",
   "execution_count": 348,
   "id": "5c258ad7-60fd-4c17-bdb8-401f7dcc1ed8",
   "metadata": {
    "tags": []
   },
   "outputs": [],
   "source": [
    "labels = train_data_masked[\"label\"].to_numpy()               # 0/1 labels array\n",
    "classes = np.array([0, 1], dtype=int)                        # make it a ndarray"
   ]
  },
  {
   "cell_type": "code",
   "execution_count": 349,
   "id": "cbdc5f47-b8a9-4b89-bf75-81ffd2425dfe",
   "metadata": {
    "tags": []
   },
   "outputs": [],
   "source": [
    "weights = compute_class_weight(\"balanced\", classes=classes, y=labels)"
   ]
  },
  {
   "cell_type": "code",
   "execution_count": 350,
   "id": "9b489c11-f379-4b3d-89bb-66e57bc2ca82",
   "metadata": {
    "tags": []
   },
   "outputs": [
    {
     "data": {
      "text/plain": [
       "array([1., 1.])"
      ]
     },
     "execution_count": 350,
     "metadata": {},
     "output_type": "execute_result"
    }
   ],
   "source": [
    "weights"
   ]
  },
  {
   "cell_type": "code",
   "execution_count": 351,
   "id": "c956c434-3e67-44aa-b424-b3e4710b8e85",
   "metadata": {
    "tags": []
   },
   "outputs": [],
   "source": [
    "class_weights = torch.tensor(weights, dtype=torch.float, device=device)"
   ]
  },
  {
   "cell_type": "code",
   "execution_count": 352,
   "id": "bc1c4e8b-d53b-4748-950b-7a3085e7c7a2",
   "metadata": {
    "tags": []
   },
   "outputs": [],
   "source": [
    "def compute_weighted_loss(model, inputs, return_outputs=False):\n",
    "    # pull out the labels\n",
    "    labels = inputs.pop(\"labels\")\n",
    "    # forward pass\n",
    "    outputs = model(**inputs)\n",
    "    logits = outputs.logits\n",
    "    # build a weighted cross­entropy\n",
    "    loss_fct = torch.nn.CrossEntropyLoss(weight=class_weights)\n",
    "    # reshape & compute\n",
    "    loss = loss_fct(logits.view(-1, model.config.num_labels),\n",
    "                    labels.view(-1))\n",
    "    return (loss, outputs) if return_outputs else loss"
   ]
  },
  {
   "cell_type": "code",
   "execution_count": 353,
   "id": "04a7ced5-dfe8-4774-828b-1b0ddb3a25e7",
   "metadata": {
    "tags": []
   },
   "outputs": [],
   "source": [
    "training_args = TrainingArguments(\n",
    "    output_dir=output_dir,                        # Where model checkpoints will be saved\n",
    "    run_name=WANDB_RUN_NAME,                      # Name for W&B tracking\n",
    "    learning_rate=LEARNING_RATE,                  # Base learning rate\n",
    "    per_device_train_batch_size=BATCH_SIZE,       # Training batch size\n",
    "    per_device_eval_batch_size=(2 * BATCH_SIZE),  # Larger eval batch size to speed up\n",
    "    num_train_epochs=NUM_EPOCHS,                  # Total training epochs\n",
    "    weight_decay=0.01,                            # L2 regularization\n",
    "    \n",
    "    # Evaluation and saving settings\n",
    "    eval_strategy=\"steps\",                        # Evaluate every N steps\n",
    "    eval_steps=50,                               # Eval frequency\n",
    "    save_strategy=\"steps\",                        # Save checkpoints every N steps\n",
    "    save_steps=500,\n",
    "    \n",
    "    # Logging\n",
    "    logging_dir=\"./logs\",                         # Log folder\n",
    "    logging_strategy=\"steps\",\n",
    "    logging_steps=100,\n",
    "    report_to=\"wandb\",                            # Log to Weights & Biases\n",
    "\n",
    "    # Smart checkpointing\n",
    "    load_best_model_at_end=True,                  # Load the best model after training\n",
    "    metric_for_best_model=\"f1\",                   # Focus on F1 (False positives and false negatives both matter)\n",
    "    greater_is_better=True,                       # Higher F1 is better\n",
    "\n",
    "    # Optimization tweaks\n",
    "    gradient_accumulation_steps=1,                # For effective batch size\n",
    "    label_smoothing_factor=0.0,                   # Helps generalization for classification\n",
    "    fp16=True,                                    # Mixed precision for faster training (if supported)\n",
    "    gradient_checkpointing=True,                  # Reduce memory usage during training\n",
    "    max_grad_norm=1.0                             # Clip gradients to avoid instability\n",
    ")"
   ]
  },
  {
   "cell_type": "code",
   "execution_count": 354,
   "id": "b6d275c0-cbc0-4d10-b10c-b0139e7c93ef",
   "metadata": {
    "tags": []
   },
   "outputs": [],
   "source": [
    "class WeightedLossTrainer(Trainer):\n",
    "    def __init__(self, *args, class_weights=None, **kwargs):\n",
    "        super().__init__(*args, **kwargs)\n",
    "        self.class_weights = class_weights.to(self.model.device)\n",
    "\n",
    "    def compute_loss(self, model, inputs, return_outputs=False, **kwargs):\n",
    "        # same body as before\n",
    "        labels = inputs.pop(\"labels\")\n",
    "        outputs = model(**inputs)\n",
    "        logits = outputs.logits\n",
    "        loss_fct = nn.CrossEntropyLoss(weight=self.class_weights)\n",
    "        loss = loss_fct(logits.view(-1, self.model.config.num_labels),\n",
    "                        labels.view(-1))\n",
    "        if return_outputs:\n",
    "            return loss, outputs\n",
    "        return loss"
   ]
  },
  {
   "cell_type": "code",
   "execution_count": 355,
   "id": "f1839dda-15a0-4326-aa8b-d6d1c6d18766",
   "metadata": {
    "tags": []
   },
   "outputs": [],
   "source": [
    "trainer = WeightedLossTrainer(\n",
    "    model=model,\n",
    "    args=training_args,\n",
    "    train_dataset=tokenized_dataset_train,\n",
    "    eval_dataset=tokenized_dataset_test,\n",
    "    compute_metrics=compute_metrics,\n",
    "    class_weights=class_weights\n",
    "    #callbacks=[EarlyStoppingCallback(early_stopping_patience=3)], # prevent overfitting\n",
    ")"
   ]
  },
  {
   "cell_type": "markdown",
   "id": "7e61252d-62ef-4232-bb82-bf2be385fa94",
   "metadata": {},
   "source": [
    "**Make sure we are using the GPU**"
   ]
  },
  {
   "cell_type": "code",
   "execution_count": 356,
   "id": "e9abbf3a-e418-4864-8abf-92c5f30bc5dc",
   "metadata": {
    "tags": []
   },
   "outputs": [
    {
     "name": "stdout",
     "output_type": "stream",
     "text": [
      "GPU Available: True\n",
      "GPU Name: NVIDIA A100-SXM4-80GB\n"
     ]
    }
   ],
   "source": [
    "print(\"GPU Available:\", torch.cuda.is_available())  \n",
    "print(\"GPU Name:\", torch.cuda.get_device_name(0) if torch.cuda.is_available() else \"No GPU detected\")"
   ]
  },
  {
   "cell_type": "code",
   "execution_count": 357,
   "id": "e277cd4a-f444-446c-94ad-28653a8670d3",
   "metadata": {
    "tags": []
   },
   "outputs": [],
   "source": [
    "model.to(\"cuda\");"
   ]
  },
  {
   "cell_type": "code",
   "execution_count": 358,
   "id": "921d3e56-a422-4eb7-b0e4-a7988676a53f",
   "metadata": {
    "tags": []
   },
   "outputs": [
    {
     "data": {
      "text/html": [
       "\n",
       "    <div>\n",
       "      \n",
       "      <progress value='78' max='78' style='width:300px; height:20px; vertical-align: middle;'></progress>\n",
       "      [78/78 00:12, Epoch 3/3]\n",
       "    </div>\n",
       "    <table border=\"1\" class=\"dataframe\">\n",
       "  <thead>\n",
       " <tr style=\"text-align: left;\">\n",
       "      <th>Step</th>\n",
       "      <th>Training Loss</th>\n",
       "      <th>Validation Loss</th>\n",
       "      <th>Accuracy</th>\n",
       "      <th>F1</th>\n",
       "      <th>Precision</th>\n",
       "      <th>Recall</th>\n",
       "    </tr>\n",
       "  </thead>\n",
       "  <tbody>\n",
       "    <tr>\n",
       "      <td>50</td>\n",
       "      <td>No log</td>\n",
       "      <td>0.644164</td>\n",
       "      <td>0.623832</td>\n",
       "      <td>0.405904</td>\n",
       "      <td>0.413534</td>\n",
       "      <td>0.398551</td>\n",
       "    </tr>\n",
       "  </tbody>\n",
       "</table><p>"
      ],
      "text/plain": [
       "<IPython.core.display.HTML object>"
      ]
     },
     "metadata": {},
     "output_type": "display_data"
    },
    {
     "data": {
      "text/plain": [
       "TrainOutput(global_step=78, training_loss=0.5541733961838943, metrics={'train_runtime': 12.357, 'train_samples_per_second': 196.65, 'train_steps_per_second': 6.312, 'total_flos': 639359864524800.0, 'train_loss': 0.5541733961838943, 'epoch': 3.0})"
      ]
     },
     "execution_count": 358,
     "metadata": {},
     "output_type": "execute_result"
    }
   ],
   "source": [
    "trainer.train()"
   ]
  },
  {
   "cell_type": "markdown",
   "id": "ca63f2cb-d598-4df2-801a-7a8312ac9b08",
   "metadata": {},
   "source": [
    "**Save the model (optional)**"
   ]
  },
  {
   "cell_type": "code",
   "execution_count": 359,
   "id": "104817ea-ac6a-420b-8b61-9b4686538962",
   "metadata": {
    "tags": []
   },
   "outputs": [],
   "source": [
    "'''\n",
    "model.save_pretrained(MODELS_DIR)\n",
    "tokenizer.save_pretrained(MODELS_DIR)\n",
    "''';"
   ]
  },
  {
   "cell_type": "markdown",
   "id": "71248ee9-99aa-4700-b182-73e5f8fb2ba1",
   "metadata": {},
   "source": [
    "# Evaluation"
   ]
  },
  {
   "cell_type": "markdown",
   "id": "ed30239e-2b05-4d06-8251-4c9a3371b255",
   "metadata": {
    "tags": []
   },
   "source": [
    "## Configurations"
   ]
  },
  {
   "cell_type": "code",
   "execution_count": 360,
   "id": "a3ccc1e2-bd6a-4aad-a2c7-020d365aa9b9",
   "metadata": {
    "tags": []
   },
   "outputs": [
    {
     "data": {
      "text/html": [],
      "text/plain": [
       "<IPython.core.display.HTML object>"
      ]
     },
     "metadata": {},
     "output_type": "display_data"
    },
    {
     "data": {
      "text/html": [
       "<br>    <style><br>        .wandb-row {<br>            display: flex;<br>            flex-direction: row;<br>            flex-wrap: wrap;<br>            justify-content: flex-start;<br>            width: 100%;<br>        }<br>        .wandb-col {<br>            display: flex;<br>            flex-direction: column;<br>            flex-basis: 100%;<br>            flex: 1;<br>            padding: 10px;<br>        }<br>    </style><br><div class=\"wandb-row\"><div class=\"wandb-col\"><h3>Run history:</h3><br/><table class=\"wandb\"><tr><td>eval/accuracy</td><td>▁</td></tr><tr><td>eval/f1</td><td>▁</td></tr><tr><td>eval/loss</td><td>▁</td></tr><tr><td>eval/precision</td><td>▁</td></tr><tr><td>eval/recall</td><td>▁</td></tr><tr><td>eval/runtime</td><td>▁</td></tr><tr><td>eval/samples_per_second</td><td>▁</td></tr><tr><td>eval/steps_per_second</td><td>▁</td></tr><tr><td>train/epoch</td><td>▁█</td></tr><tr><td>train/global_step</td><td>▁█</td></tr></table><br/></div><div class=\"wandb-col\"><h3>Run summary:</h3><br/><table class=\"wandb\"><tr><td>eval/accuracy</td><td>0.62383</td></tr><tr><td>eval/f1</td><td>0.4059</td></tr><tr><td>eval/loss</td><td>0.64416</td></tr><tr><td>eval/precision</td><td>0.41353</td></tr><tr><td>eval/recall</td><td>0.39855</td></tr><tr><td>eval/runtime</td><td>0.4015</td></tr><tr><td>eval/samples_per_second</td><td>1066.034</td></tr><tr><td>eval/steps_per_second</td><td>17.435</td></tr><tr><td>total_flos</td><td>639359864524800.0</td></tr><tr><td>train/epoch</td><td>3</td></tr><tr><td>train/global_step</td><td>78</td></tr><tr><td>train_loss</td><td>0.55417</td></tr><tr><td>train_runtime</td><td>12.357</td></tr><tr><td>train_samples_per_second</td><td>196.65</td></tr><tr><td>train_steps_per_second</td><td>6.312</td></tr></table><br/></div></div>"
      ],
      "text/plain": [
       "<IPython.core.display.HTML object>"
      ]
     },
     "metadata": {},
     "output_type": "display_data"
    },
    {
     "data": {
      "text/html": [
       " View run <strong style=\"color:#cdcd00\">BioMedBERT-Abstract-Weighted</strong> at: <a href='https://wandb.ai/asap/Sythetic-Med/runs/tgl1ep0l' target=\"_blank\">https://wandb.ai/asap/Sythetic-Med/runs/tgl1ep0l</a><br> View project at: <a href='https://wandb.ai/asap/Sythetic-Med' target=\"_blank\">https://wandb.ai/asap/Sythetic-Med</a><br>Synced 5 W&B file(s), 0 media file(s), 0 artifact file(s) and 0 other file(s)"
      ],
      "text/plain": [
       "<IPython.core.display.HTML object>"
      ]
     },
     "metadata": {},
     "output_type": "display_data"
    },
    {
     "data": {
      "text/html": [
       "Find logs at: <code>./wandb/run-20250423_203237-tgl1ep0l/logs</code>"
      ],
      "text/plain": [
       "<IPython.core.display.HTML object>"
      ]
     },
     "metadata": {},
     "output_type": "display_data"
    },
    {
     "data": {
      "text/html": [
       "Tracking run with wandb version 0.19.9"
      ],
      "text/plain": [
       "<IPython.core.display.HTML object>"
      ]
     },
     "metadata": {},
     "output_type": "display_data"
    },
    {
     "data": {
      "text/html": [
       "Run data is saved locally in <code>/home/paul.schmitt/verbatim-rag/exploration/Synthetic-Data/wandb/run-20250423_203256-tgl1ep0l</code>"
      ],
      "text/plain": [
       "<IPython.core.display.HTML object>"
      ]
     },
     "metadata": {},
     "output_type": "display_data"
    },
    {
     "data": {
      "text/html": [
       "Resuming run <strong><a href='https://wandb.ai/asap/Sythetic-Med/runs/tgl1ep0l' target=\"_blank\">BioMedBERT-Abstract-Weighted</a></strong> to <a href='https://wandb.ai/asap/Sythetic-Med' target=\"_blank\">Weights & Biases</a> (<a href='https://wandb.me/developer-guide' target=\"_blank\">docs</a>)<br>"
      ],
      "text/plain": [
       "<IPython.core.display.HTML object>"
      ]
     },
     "metadata": {},
     "output_type": "display_data"
    },
    {
     "data": {
      "text/html": [
       " View project at <a href='https://wandb.ai/asap/Sythetic-Med' target=\"_blank\">https://wandb.ai/asap/Sythetic-Med</a>"
      ],
      "text/plain": [
       "<IPython.core.display.HTML object>"
      ]
     },
     "metadata": {},
     "output_type": "display_data"
    },
    {
     "data": {
      "text/html": [
       " View run at <a href='https://wandb.ai/asap/Sythetic-Med/runs/tgl1ep0l' target=\"_blank\">https://wandb.ai/asap/Sythetic-Med/runs/tgl1ep0l</a>"
      ],
      "text/plain": [
       "<IPython.core.display.HTML object>"
      ]
     },
     "metadata": {},
     "output_type": "display_data"
    }
   ],
   "source": [
    "run = wandb.init(\n",
    "    project=WANDB_PROJECT_NAME,\n",
    "    id=run_id,\n",
    "    resume=\"must\"  # must resume, or error if run doesn't exist\n",
    ")"
   ]
  },
  {
   "cell_type": "code",
   "execution_count": 361,
   "id": "ae3d051a-5608-4f69-92b1-e816a828f5cd",
   "metadata": {
    "tags": []
   },
   "outputs": [
    {
     "data": {
      "text/html": [],
      "text/plain": [
       "<IPython.core.display.HTML object>"
      ]
     },
     "metadata": {},
     "output_type": "display_data"
    }
   ],
   "source": [
    "results = trainer.evaluate()\n",
    "df_results = pd.DataFrame([results])"
   ]
  },
  {
   "cell_type": "code",
   "execution_count": 362,
   "id": "a431569e-8b02-4d88-8ff9-6e124cbcd88e",
   "metadata": {
    "tags": []
   },
   "outputs": [],
   "source": [
    "label_names = [\"Not Relevant\", \"Essential\"]"
   ]
  },
  {
   "cell_type": "code",
   "execution_count": 363,
   "id": "318bc131-c56f-422e-9f97-8179eabf0b74",
   "metadata": {
    "tags": []
   },
   "outputs": [
    {
     "data": {
      "text/html": [
       "<div>\n",
       "<style scoped>\n",
       "    .dataframe tbody tr th:only-of-type {\n",
       "        vertical-align: middle;\n",
       "    }\n",
       "\n",
       "    .dataframe tbody tr th {\n",
       "        vertical-align: top;\n",
       "    }\n",
       "\n",
       "    .dataframe thead th {\n",
       "        text-align: right;\n",
       "    }\n",
       "</style>\n",
       "<table border=\"1\" class=\"dataframe\">\n",
       "  <thead>\n",
       "    <tr style=\"text-align: right;\">\n",
       "      <th></th>\n",
       "      <th>eval_loss</th>\n",
       "      <th>eval_accuracy</th>\n",
       "      <th>eval_f1</th>\n",
       "      <th>eval_precision</th>\n",
       "      <th>eval_recall</th>\n",
       "      <th>eval_runtime</th>\n",
       "      <th>eval_samples_per_second</th>\n",
       "      <th>eval_steps_per_second</th>\n",
       "      <th>epoch</th>\n",
       "    </tr>\n",
       "  </thead>\n",
       "  <tbody>\n",
       "    <tr>\n",
       "      <th>0</th>\n",
       "      <td>0.656003</td>\n",
       "      <td>0.633178</td>\n",
       "      <td>0.452962</td>\n",
       "      <td>0.436242</td>\n",
       "      <td>0.471014</td>\n",
       "      <td>0.4158</td>\n",
       "      <td>1029.328</td>\n",
       "      <td>16.835</td>\n",
       "      <td>3.0</td>\n",
       "    </tr>\n",
       "  </tbody>\n",
       "</table>\n",
       "</div>"
      ],
      "text/plain": [
       "   eval_loss  eval_accuracy   eval_f1  eval_precision  eval_recall  \\\n",
       "0   0.656003       0.633178  0.452962        0.436242     0.471014   \n",
       "\n",
       "   eval_runtime  eval_samples_per_second  eval_steps_per_second  epoch  \n",
       "0        0.4158                 1029.328                 16.835    3.0  "
      ]
     },
     "execution_count": 363,
     "metadata": {},
     "output_type": "execute_result"
    }
   ],
   "source": [
    "df_results"
   ]
  },
  {
   "cell_type": "markdown",
   "id": "d9e62755-8146-4866-98cd-9983462e9411",
   "metadata": {},
   "source": [
    "## Classification Report"
   ]
  },
  {
   "cell_type": "code",
   "execution_count": 364,
   "id": "ebb46653-bbed-4204-9864-97be909f7722",
   "metadata": {
    "tags": []
   },
   "outputs": [
    {
     "data": {
      "text/html": [
       "<div>\n",
       "<style scoped>\n",
       "    .dataframe tbody tr th:only-of-type {\n",
       "        vertical-align: middle;\n",
       "    }\n",
       "\n",
       "    .dataframe tbody tr th {\n",
       "        vertical-align: top;\n",
       "    }\n",
       "\n",
       "    .dataframe thead th {\n",
       "        text-align: right;\n",
       "    }\n",
       "</style>\n",
       "<table border=\"1\" class=\"dataframe\">\n",
       "  <thead>\n",
       "    <tr style=\"text-align: right;\">\n",
       "      <th></th>\n",
       "      <th>precision</th>\n",
       "      <th>recall</th>\n",
       "      <th>f1-score</th>\n",
       "      <th>support</th>\n",
       "    </tr>\n",
       "  </thead>\n",
       "  <tbody>\n",
       "    <tr>\n",
       "      <th>0</th>\n",
       "      <td>0.738351</td>\n",
       "      <td>0.710345</td>\n",
       "      <td>0.724077</td>\n",
       "      <td>290.000000</td>\n",
       "    </tr>\n",
       "    <tr>\n",
       "      <th>1</th>\n",
       "      <td>0.436242</td>\n",
       "      <td>0.471014</td>\n",
       "      <td>0.452962</td>\n",
       "      <td>138.000000</td>\n",
       "    </tr>\n",
       "    <tr>\n",
       "      <th>accuracy</th>\n",
       "      <td>0.633178</td>\n",
       "      <td>0.633178</td>\n",
       "      <td>0.633178</td>\n",
       "      <td>0.633178</td>\n",
       "    </tr>\n",
       "    <tr>\n",
       "      <th>macro avg</th>\n",
       "      <td>0.587296</td>\n",
       "      <td>0.590680</td>\n",
       "      <td>0.588520</td>\n",
       "      <td>428.000000</td>\n",
       "    </tr>\n",
       "    <tr>\n",
       "      <th>weighted avg</th>\n",
       "      <td>0.640942</td>\n",
       "      <td>0.633178</td>\n",
       "      <td>0.636662</td>\n",
       "      <td>428.000000</td>\n",
       "    </tr>\n",
       "  </tbody>\n",
       "</table>\n",
       "</div>"
      ],
      "text/plain": [
       "              precision    recall  f1-score     support\n",
       "0              0.738351  0.710345  0.724077  290.000000\n",
       "1              0.436242  0.471014  0.452962  138.000000\n",
       "accuracy       0.633178  0.633178  0.633178    0.633178\n",
       "macro avg      0.587296  0.590680  0.588520  428.000000\n",
       "weighted avg   0.640942  0.633178  0.636662  428.000000"
      ]
     },
     "metadata": {},
     "output_type": "display_data"
    }
   ],
   "source": [
    "predictions = trainer.predict(tokenized_dataset_test)\n",
    "preds = predictions.predictions.argmax(axis=-1)\n",
    "labels = predictions.label_ids\n",
    "report = pd.DataFrame(classification_report(labels, preds, output_dict=True)).transpose()\n",
    "display(report)"
   ]
  },
  {
   "cell_type": "markdown",
   "id": "1cbb7fcf-7714-4784-a230-0888abb0ba70",
   "metadata": {},
   "source": [
    "## Good One"
   ]
  },
  {
   "cell_type": "code",
   "execution_count": 56,
   "id": "7803b433-dce0-4ef4-b13d-54bf3c9812b5",
   "metadata": {
    "tags": []
   },
   "outputs": [
    {
     "data": {
      "text/html": [
       "<div>\n",
       "<style scoped>\n",
       "    .dataframe tbody tr th:only-of-type {\n",
       "        vertical-align: middle;\n",
       "    }\n",
       "\n",
       "    .dataframe tbody tr th {\n",
       "        vertical-align: top;\n",
       "    }\n",
       "\n",
       "    .dataframe thead th {\n",
       "        text-align: right;\n",
       "    }\n",
       "</style>\n",
       "<table border=\"1\" class=\"dataframe\">\n",
       "  <thead>\n",
       "    <tr style=\"text-align: right;\">\n",
       "      <th></th>\n",
       "      <th>precision</th>\n",
       "      <th>recall</th>\n",
       "      <th>f1-score</th>\n",
       "      <th>support</th>\n",
       "    </tr>\n",
       "  </thead>\n",
       "  <tbody>\n",
       "    <tr>\n",
       "      <th>0</th>\n",
       "      <td>0.746154</td>\n",
       "      <td>0.668966</td>\n",
       "      <td>0.705455</td>\n",
       "      <td>290.000000</td>\n",
       "    </tr>\n",
       "    <tr>\n",
       "      <th>1</th>\n",
       "      <td>0.428571</td>\n",
       "      <td>0.521739</td>\n",
       "      <td>0.470588</td>\n",
       "      <td>138.000000</td>\n",
       "    </tr>\n",
       "    <tr>\n",
       "      <th>accuracy</th>\n",
       "      <td>0.621495</td>\n",
       "      <td>0.621495</td>\n",
       "      <td>0.621495</td>\n",
       "      <td>0.621495</td>\n",
       "    </tr>\n",
       "    <tr>\n",
       "      <th>macro avg</th>\n",
       "      <td>0.587363</td>\n",
       "      <td>0.595352</td>\n",
       "      <td>0.588021</td>\n",
       "      <td>428.000000</td>\n",
       "    </tr>\n",
       "    <tr>\n",
       "      <th>weighted avg</th>\n",
       "      <td>0.643756</td>\n",
       "      <td>0.621495</td>\n",
       "      <td>0.629727</td>\n",
       "      <td>428.000000</td>\n",
       "    </tr>\n",
       "  </tbody>\n",
       "</table>\n",
       "</div>"
      ],
      "text/plain": [
       "              precision    recall  f1-score     support\n",
       "0              0.746154  0.668966  0.705455  290.000000\n",
       "1              0.428571  0.521739  0.470588  138.000000\n",
       "accuracy       0.621495  0.621495  0.621495    0.621495\n",
       "macro avg      0.587363  0.595352  0.588021  428.000000\n",
       "weighted avg   0.643756  0.621495  0.629727  428.000000"
      ]
     },
     "metadata": {},
     "output_type": "display_data"
    }
   ],
   "source": [
    "predictions = trainer.predict(tokenized_dataset_test)\n",
    "preds = predictions.predictions.argmax(axis=-1)\n",
    "labels = predictions.label_ids\n",
    "report = pd.DataFrame(classification_report(labels, preds, output_dict=True)).transpose()\n",
    "display(report)"
   ]
  },
  {
   "cell_type": "markdown",
   "id": "eb40f9d4-6529-4e38-9bb4-bfa66e0cb12c",
   "metadata": {},
   "source": [
    "## Best one so far"
   ]
  },
  {
   "cell_type": "code",
   "execution_count": 305,
   "id": "50b639c1-9eaa-4b3d-8dad-73669cfbbfdc",
   "metadata": {
    "tags": []
   },
   "outputs": [
    {
     "data": {
      "text/html": [
       "<div>\n",
       "<style scoped>\n",
       "    .dataframe tbody tr th:only-of-type {\n",
       "        vertical-align: middle;\n",
       "    }\n",
       "\n",
       "    .dataframe tbody tr th {\n",
       "        vertical-align: top;\n",
       "    }\n",
       "\n",
       "    .dataframe thead th {\n",
       "        text-align: right;\n",
       "    }\n",
       "</style>\n",
       "<table border=\"1\" class=\"dataframe\">\n",
       "  <thead>\n",
       "    <tr style=\"text-align: right;\">\n",
       "      <th></th>\n",
       "      <th>precision</th>\n",
       "      <th>recall</th>\n",
       "      <th>f1-score</th>\n",
       "      <th>support</th>\n",
       "    </tr>\n",
       "  </thead>\n",
       "  <tbody>\n",
       "    <tr>\n",
       "      <th>0</th>\n",
       "      <td>0.731481</td>\n",
       "      <td>0.817241</td>\n",
       "      <td>0.771987</td>\n",
       "      <td>290.000000</td>\n",
       "    </tr>\n",
       "    <tr>\n",
       "      <th>1</th>\n",
       "      <td>0.490385</td>\n",
       "      <td>0.369565</td>\n",
       "      <td>0.421488</td>\n",
       "      <td>138.000000</td>\n",
       "    </tr>\n",
       "    <tr>\n",
       "      <th>accuracy</th>\n",
       "      <td>0.672897</td>\n",
       "      <td>0.672897</td>\n",
       "      <td>0.672897</td>\n",
       "      <td>0.672897</td>\n",
       "    </tr>\n",
       "    <tr>\n",
       "      <th>macro avg</th>\n",
       "      <td>0.610933</td>\n",
       "      <td>0.593403</td>\n",
       "      <td>0.596737</td>\n",
       "      <td>428.000000</td>\n",
       "    </tr>\n",
       "    <tr>\n",
       "      <th>weighted avg</th>\n",
       "      <td>0.653745</td>\n",
       "      <td>0.672897</td>\n",
       "      <td>0.658975</td>\n",
       "      <td>428.000000</td>\n",
       "    </tr>\n",
       "  </tbody>\n",
       "</table>\n",
       "</div>"
      ],
      "text/plain": [
       "              precision    recall  f1-score     support\n",
       "0              0.731481  0.817241  0.771987  290.000000\n",
       "1              0.490385  0.369565  0.421488  138.000000\n",
       "accuracy       0.672897  0.672897  0.672897    0.672897\n",
       "macro avg      0.610933  0.593403  0.596737  428.000000\n",
       "weighted avg   0.653745  0.672897  0.658975  428.000000"
      ]
     },
     "metadata": {},
     "output_type": "display_data"
    }
   ],
   "source": [
    "predictions = trainer.predict(tokenized_dataset_test)\n",
    "preds = predictions.predictions.argmax(axis=-1)\n",
    "labels = predictions.label_ids\n",
    "report = pd.DataFrame(classification_report(labels, preds, output_dict=True)).transpose()\n",
    "display(report)"
   ]
  },
  {
   "cell_type": "markdown",
   "id": "87c2fca7-024a-44ae-9e89-6a0db9cb12c4",
   "metadata": {},
   "source": [
    "## Confusion Matrix"
   ]
  },
  {
   "cell_type": "code",
   "execution_count": 60,
   "id": "c5f64c41-8fc7-4dfb-8e2b-de054058f567",
   "metadata": {
    "tags": []
   },
   "outputs": [
    {
     "data": {
      "image/png": "[encoded data removed]",
      "text/plain": [
       "<Figure size 640x480 with 2 Axes>"
      ]
     },
     "metadata": {},
     "output_type": "display_data"
    }
   ],
   "source": [
    "cm = confusion_matrix(predictions.label_ids, preds)\n",
    "sns.heatmap(cm, annot=True, fmt='d')\n",
    "plt.xlabel('Predicted')\n",
    "plt.ylabel('True')\n",
    "plt.show()"
   ]
  },
  {
   "cell_type": "markdown",
   "id": "373ece8a-65cd-4881-b75e-d703fef68c64",
   "metadata": {},
   "source": [
    "## Persisting Results"
   ]
  },
  {
   "cell_type": "code",
   "execution_count": 61,
   "id": "3c7c6792-1f8d-4b16-89e4-e0b871def3be",
   "metadata": {
    "tags": []
   },
   "outputs": [],
   "source": [
    "eval_results_dir = f\"./results/{WANDB_RUN_NAME}\"\n",
    "os.makedirs(eval_results_dir, exist_ok=True)"
   ]
  },
  {
   "cell_type": "markdown",
   "id": "dac135b4-510c-4361-83e6-0e5c22fb7461",
   "metadata": {},
   "source": [
    "**Step-1: Locally**"
   ]
  },
  {
   "cell_type": "code",
   "execution_count": 62,
   "id": "9f9a1736-d46e-4c5e-90f9-15b1ef2aa758",
   "metadata": {
    "tags": []
   },
   "outputs": [],
   "source": [
    "report.to_csv(os.path.join(eval_results_dir, \"classification_report.csv\"))\n",
    "\n",
    "# Save Confusion Matrix \n",
    "plt.figure(figsize=(6, 6))\n",
    "sns.heatmap(cm, annot=True, fmt='d')\n",
    "plt.xlabel(\"Predicted\")\n",
    "plt.ylabel(\"True\")\n",
    "plt.title(\"Confusion Matrix\")\n",
    "plt.tight_layout()\n",
    "plt.savefig(os.path.join(eval_results_dir, \"confusion_matrix.png\"))\n",
    "plt.close()"
   ]
  },
  {
   "cell_type": "markdown",
   "id": "8759c253-e6a5-4329-8569-547b11a1e50b",
   "metadata": {},
   "source": [
    "**Step-2: Wandb**"
   ]
  },
  {
   "cell_type": "code",
   "execution_count": 63,
   "id": "68172d8c-3574-4afe-af7d-a924b233de72",
   "metadata": {
    "tags": []
   },
   "outputs": [],
   "source": [
    "metrics_to_log = {\n",
    "    \"eval/accuracy\": report.loc[\"accuracy\", \"f1-score\"],\n",
    "    \"eval/f1_weighted\": report.loc[\"weighted avg\", \"f1-score\"],\n",
    "    \"eval/f1_class_0\": report.loc[\"0\", \"f1-score\"],\n",
    "    \"eval/f1_class_1\": report.loc[\"1\", \"f1-score\"],\n",
    "    \"eval/recall_class_0\": report.loc[\"0\", \"recall\"],\n",
    "    \"eval/recall_class_1\": report.loc[\"1\", \"recall\"]\n",
    "}\n",
    "\n",
    "wandb.log(metrics_to_log)\n",
    "table = wandb.Table(dataframe=report)\n",
    "wandb.log({\n",
    "    \"confusion_matrix\": wandb.Image(os.path.join(eval_results_dir, \"confusion_matrix.png\"))\n",
    "})\n",
    "wandb.log({\"classification_report\": table})"
   ]
  },
  {
   "cell_type": "code",
   "execution_count": 64,
   "id": "f1e7cc0a-7099-408b-a540-1f85828f6d1c",
   "metadata": {
    "tags": []
   },
   "outputs": [
    {
     "data": {
      "text/html": [],
      "text/plain": [
       "<IPython.core.display.HTML object>"
      ]
     },
     "metadata": {},
     "output_type": "display_data"
    },
    {
     "data": {
      "text/html": [
       "<br>    <style><br>        .wandb-row {<br>            display: flex;<br>            flex-direction: row;<br>            flex-wrap: wrap;<br>            justify-content: flex-start;<br>            width: 100%;<br>        }<br>        .wandb-col {<br>            display: flex;<br>            flex-direction: column;<br>            flex-basis: 100%;<br>            flex: 1;<br>            padding: 10px;<br>        }<br>    </style><br><div class=\"wandb-row\"><div class=\"wandb-col\"><h3>Run history:</h3><br/><table class=\"wandb\"><tr><td>eval/accuracy</td><td>▁▁▁</td></tr><tr><td>eval/f1</td><td>▁</td></tr><tr><td>eval/f1_class_0</td><td>▁▁</td></tr><tr><td>eval/f1_class_1</td><td>▁▁</td></tr><tr><td>eval/f1_weighted</td><td>▁▁</td></tr><tr><td>eval/loss</td><td>▁</td></tr><tr><td>eval/precision</td><td>▁</td></tr><tr><td>eval/recall</td><td>▁</td></tr><tr><td>eval/recall_class_0</td><td>▁▁</td></tr><tr><td>eval/recall_class_1</td><td>▁▁</td></tr><tr><td>eval/runtime</td><td>▁</td></tr><tr><td>eval/samples_per_second</td><td>▁</td></tr><tr><td>eval/steps_per_second</td><td>▁</td></tr><tr><td>test/accuracy</td><td>▁</td></tr><tr><td>test/f1</td><td>▁</td></tr><tr><td>test/loss</td><td>▁</td></tr><tr><td>test/precision</td><td>▁</td></tr><tr><td>test/recall</td><td>▁</td></tr><tr><td>test/runtime</td><td>▁</td></tr><tr><td>test/samples_per_second</td><td>▁</td></tr><tr><td>test/steps_per_second</td><td>▁</td></tr><tr><td>train/epoch</td><td>▁</td></tr><tr><td>train/global_step</td><td>▁</td></tr></table><br/></div><div class=\"wandb-col\"><h3>Run summary:</h3><br/><table class=\"wandb\"><tr><td>eval/accuracy</td><td>0.6215</td></tr><tr><td>eval/f1</td><td>0.47059</td></tr><tr><td>eval/f1_class_0</td><td>0.70545</td></tr><tr><td>eval/f1_class_1</td><td>0.47059</td></tr><tr><td>eval/f1_weighted</td><td>0.62973</td></tr><tr><td>eval/loss</td><td>0.79569</td></tr><tr><td>eval/precision</td><td>0.42857</td></tr><tr><td>eval/recall</td><td>0.52174</td></tr><tr><td>eval/recall_class_0</td><td>0.66897</td></tr><tr><td>eval/recall_class_1</td><td>0.52174</td></tr><tr><td>eval/runtime</td><td>0.4186</td></tr><tr><td>eval/samples_per_second</td><td>1022.426</td></tr><tr><td>eval/steps_per_second</td><td>16.722</td></tr><tr><td>test/accuracy</td><td>0.6215</td></tr><tr><td>test/f1</td><td>0.47059</td></tr><tr><td>test/loss</td><td>0.79569</td></tr><tr><td>test/precision</td><td>0.42857</td></tr><tr><td>test/recall</td><td>0.52174</td></tr><tr><td>test/runtime</td><td>0.4256</td></tr><tr><td>test/samples_per_second</td><td>1005.746</td></tr><tr><td>test/steps_per_second</td><td>16.449</td></tr><tr><td>total_flos</td><td>1682858310082560</td></tr><tr><td>train/epoch</td><td>1.53846</td></tr><tr><td>train/global_step</td><td>200</td></tr><tr><td>train/grad_norm</td><td>13.60554</td></tr><tr><td>train/learning_rate</td><td>1e-05</td></tr><tr><td>train/loss</td><td>0.4455</td></tr><tr><td>train_loss</td><td>0.531</td></tr><tr><td>train_runtime</td><td>29.7659</td></tr><tr><td>train_samples_per_second</td><td>418.869</td></tr><tr><td>train_steps_per_second</td><td>13.102</td></tr></table><br/></div></div>"
      ],
      "text/plain": [
       "<IPython.core.display.HTML object>"
      ]
     },
     "metadata": {},
     "output_type": "display_data"
    },
    {
     "data": {
      "text/html": [
       " View run <strong style=\"color:#cdcd00\">BioMedBERT-Abstract-Weighted</strong> at: <a href='https://wandb.ai/asap/Sythetic-Med/runs/yk8v22di' target=\"_blank\">https://wandb.ai/asap/Sythetic-Med/runs/yk8v22di</a><br> View project at: <a href='https://wandb.ai/asap/Sythetic-Med' target=\"_blank\">https://wandb.ai/asap/Sythetic-Med</a><br>Synced 5 W&B file(s), 2 media file(s), 2 artifact file(s) and 0 other file(s)"
      ],
      "text/plain": [
       "<IPython.core.display.HTML object>"
      ]
     },
     "metadata": {},
     "output_type": "display_data"
    },
    {
     "data": {
      "text/html": [
       "Find logs at: <code>./wandb/run-20250422_175153-yk8v22di/logs</code>"
      ],
      "text/plain": [
       "<IPython.core.display.HTML object>"
      ]
     },
     "metadata": {},
     "output_type": "display_data"
    }
   ],
   "source": [
    "wandb.finish()"
   ]
  },
  {
   "cell_type": "markdown",
   "id": "02b9f115-4017-4142-8c60-03fb0ccb579e",
   "metadata": {},
   "source": [
    "# Baseline "
   ]
  },
  {
   "cell_type": "code",
   "execution_count": 224,
   "id": "59c2ff61-0a3f-4a0e-b951-0a0cc7831aab",
   "metadata": {
    "tags": []
   },
   "outputs": [],
   "source": [
    "train_baseline_texts = (train_data_masked[\"question\"] + \" [SEP] \" + train_data_masked[\"target_sentence\"]).tolist()\n",
    "test_baseline_texts = (test_data_masked[\"question\"] + \" [SEP] \" + test_data_masked[\"target_sentence\"]).tolist()"
   ]
  },
  {
   "cell_type": "code",
   "execution_count": 225,
   "id": "9c02ebd7-5162-4f2b-884c-fc6b0ba8c7b8",
   "metadata": {
    "tags": []
   },
   "outputs": [],
   "source": [
    "train_labels = train_data_masked[\"label\"].tolist()\n",
    "test_labels = test_data_masked[\"label\"].tolist()"
   ]
  },
  {
   "cell_type": "code",
   "execution_count": 226,
   "id": "64f1d771-3146-4fc7-b57d-4c77afd1e515",
   "metadata": {
    "tags": []
   },
   "outputs": [],
   "source": [
    "baseline_pipeline = Pipeline([\n",
    "    (\"tfidf\", TfidfVectorizer(max_features=10000, ngram_range=(1, 2))),\n",
    "    (\"clf\", LogisticRegression(max_iter=1000, class_weight=\"balanced\"))\n",
    "])"
   ]
  },
  {
   "cell_type": "code",
   "execution_count": 227,
   "id": "28aa9f0f-a131-438a-a7b9-7c751c4f988c",
   "metadata": {
    "tags": []
   },
   "outputs": [
    {
     "data": {
      "text/html": [
       "<style>#sk-container-id-3 {\n",
       "  /* Definition of color scheme common for light and dark mode */\n",
       "  --sklearn-color-text: #000;\n",
       "  --sklearn-color-text-muted: #666;\n",
       "  --sklearn-color-line: gray;\n",
       "  /* Definition of color scheme for unfitted estimators */\n",
       "  --sklearn-color-unfitted-level-0: #fff5e6;\n",
       "  --sklearn-color-unfitted-level-1: #f6e4d2;\n",
       "  --sklearn-color-unfitted-level-2: #ffe0b3;\n",
       "  --sklearn-color-unfitted-level-3: chocolate;\n",
       "  /* Definition of color scheme for fitted estimators */\n",
       "  --sklearn-color-fitted-level-0: #f0f8ff;\n",
       "  --sklearn-color-fitted-level-1: #d4ebff;\n",
       "  --sklearn-color-fitted-level-2: #b3dbfd;\n",
       "  --sklearn-color-fitted-level-3: cornflowerblue;\n",
       "\n",
       "  /* Specific color for light theme */\n",
       "  --sklearn-color-text-on-default-background: var(--sg-text-color, var(--theme-code-foreground, var(--jp-content-font-color1, black)));\n",
       "  --sklearn-color-background: var(--sg-background-color, var(--theme-background, var(--jp-layout-color0, white)));\n",
       "  --sklearn-color-border-box: var(--sg-text-color, var(--theme-code-foreground, var(--jp-content-font-color1, black)));\n",
       "  --sklearn-color-icon: #696969;\n",
       "\n",
       "  @media (prefers-color-scheme: dark) {\n",
       "    /* Redefinition of color scheme for dark theme */\n",
       "    --sklearn-color-text-on-default-background: var(--sg-text-color, var(--theme-code-foreground, var(--jp-content-font-color1, white)));\n",
       "    --sklearn-color-background: var(--sg-background-color, var(--theme-background, var(--jp-layout-color0, #111)));\n",
       "    --sklearn-color-border-box: var(--sg-text-color, var(--theme-code-foreground, var(--jp-content-font-color1, white)));\n",
       "    --sklearn-color-icon: #878787;\n",
       "  }\n",
       "}\n",
       "\n",
       "#sk-container-id-3 {\n",
       "  color: var(--sklearn-color-text);\n",
       "}\n",
       "\n",
       "#sk-container-id-3 pre {\n",
       "  padding: 0;\n",
       "}\n",
       "\n",
       "#sk-container-id-3 input.sk-hidden--visually {\n",
       "  border: 0;\n",
       "  clip: rect(1px 1px 1px 1px);\n",
       "  clip: rect(1px, 1px, 1px, 1px);\n",
       "  height: 1px;\n",
       "  margin: -1px;\n",
       "  overflow: hidden;\n",
       "  padding: 0;\n",
       "  position: absolute;\n",
       "  width: 1px;\n",
       "}\n",
       "\n",
       "#sk-container-id-3 div.sk-dashed-wrapped {\n",
       "  border: 1px dashed var(--sklearn-color-line);\n",
       "  margin: 0 0.4em 0.5em 0.4em;\n",
       "  box-sizing: border-box;\n",
       "  padding-bottom: 0.4em;\n",
       "  background-color: var(--sklearn-color-background);\n",
       "}\n",
       "\n",
       "#sk-container-id-3 div.sk-container {\n",
       "  /* jupyter's `normalize.less` sets `[hidden] { display: none; }`\n",
       "     but bootstrap.min.css set `[hidden] { display: none !important; }`\n",
       "     so we also need the `!important` here to be able to override the\n",
       "     default hidden behavior on the sphinx rendered scikit-learn.org.\n",
       "     See: https://github.com/scikit-learn/scikit-learn/issues/21755 */\n",
       "  display: inline-block !important;\n",
       "  position: relative;\n",
       "}\n",
       "\n",
       "#sk-container-id-3 div.sk-text-repr-fallback {\n",
       "  display: none;\n",
       "}\n",
       "\n",
       "div.sk-parallel-item,\n",
       "div.sk-serial,\n",
       "div.sk-item {\n",
       "  /* draw centered vertical line to link estimators */\n",
       "  background-image: linear-gradient(var(--sklearn-color-text-on-default-background), var(--sklearn-color-text-on-default-background));\n",
       "  background-size: 2px 100%;\n",
       "  background-repeat: no-repeat;\n",
       "  background-position: center center;\n",
       "}\n",
       "\n",
       "/* Parallel-specific style estimator block */\n",
       "\n",
       "#sk-container-id-3 div.sk-parallel-item::after {\n",
       "  content: \"\";\n",
       "  width: 100%;\n",
       "  border-bottom: 2px solid var(--sklearn-color-text-on-default-background);\n",
       "  flex-grow: 1;\n",
       "}\n",
       "\n",
       "#sk-container-id-3 div.sk-parallel {\n",
       "  display: flex;\n",
       "  align-items: stretch;\n",
       "  justify-content: center;\n",
       "  background-color: var(--sklearn-color-background);\n",
       "  position: relative;\n",
       "}\n",
       "\n",
       "#sk-container-id-3 div.sk-parallel-item {\n",
       "  display: flex;\n",
       "  flex-direction: column;\n",
       "}\n",
       "\n",
       "#sk-container-id-3 div.sk-parallel-item:first-child::after {\n",
       "  align-self: flex-end;\n",
       "  width: 50%;\n",
       "}\n",
       "\n",
       "#sk-container-id-3 div.sk-parallel-item:last-child::after {\n",
       "  align-self: flex-start;\n",
       "  width: 50%;\n",
       "}\n",
       "\n",
       "#sk-container-id-3 div.sk-parallel-item:only-child::after {\n",
       "  width: 0;\n",
       "}\n",
       "\n",
       "/* Serial-specific style estimator block */\n",
       "\n",
       "#sk-container-id-3 div.sk-serial {\n",
       "  display: flex;\n",
       "  flex-direction: column;\n",
       "  align-items: center;\n",
       "  background-color: var(--sklearn-color-background);\n",
       "  padding-right: 1em;\n",
       "  padding-left: 1em;\n",
       "}\n",
       "\n",
       "\n",
       "/* Toggleable style: style used for estimator/Pipeline/ColumnTransformer box that is\n",
       "clickable and can be expanded/collapsed.\n",
       "- Pipeline and ColumnTransformer use this feature and define the default style\n",
       "- Estimators will overwrite some part of the style using the `sk-estimator` class\n",
       "*/\n",
       "\n",
       "/* Pipeline and ColumnTransformer style (default) */\n",
       "\n",
       "#sk-container-id-3 div.sk-toggleable {\n",
       "  /* Default theme specific background. It is overwritten whether we have a\n",
       "  specific estimator or a Pipeline/ColumnTransformer */\n",
       "  background-color: var(--sklearn-color-background);\n",
       "}\n",
       "\n",
       "/* Toggleable label */\n",
       "#sk-container-id-3 label.sk-toggleable__label {\n",
       "  cursor: pointer;\n",
       "  display: flex;\n",
       "  width: 100%;\n",
       "  margin-bottom: 0;\n",
       "  padding: 0.5em;\n",
       "  box-sizing: border-box;\n",
       "  text-align: center;\n",
       "  align-items: start;\n",
       "  justify-content: space-between;\n",
       "  gap: 0.5em;\n",
       "}\n",
       "\n",
       "#sk-container-id-3 label.sk-toggleable__label .caption {\n",
       "  font-size: 0.6rem;\n",
       "  font-weight: lighter;\n",
       "  color: var(--sklearn-color-text-muted);\n",
       "}\n",
       "\n",
       "#sk-container-id-3 label.sk-toggleable__label-arrow:before {\n",
       "  /* Arrow on the left of the label */\n",
       "  content: \"▸\";\n",
       "  float: left;\n",
       "  margin-right: 0.25em;\n",
       "  color: var(--sklearn-color-icon);\n",
       "}\n",
       "\n",
       "#sk-container-id-3 label.sk-toggleable__label-arrow:hover:before {\n",
       "  color: var(--sklearn-color-text);\n",
       "}\n",
       "\n",
       "/* Toggleable content - dropdown */\n",
       "\n",
       "#sk-container-id-3 div.sk-toggleable__content {\n",
       "  max-height: 0;\n",
       "  max-width: 0;\n",
       "  overflow: hidden;\n",
       "  text-align: left;\n",
       "  /* unfitted */\n",
       "  background-color: var(--sklearn-color-unfitted-level-0);\n",
       "}\n",
       "\n",
       "#sk-container-id-3 div.sk-toggleable__content.fitted {\n",
       "  /* fitted */\n",
       "  background-color: var(--sklearn-color-fitted-level-0);\n",
       "}\n",
       "\n",
       "#sk-container-id-3 div.sk-toggleable__content pre {\n",
       "  margin: 0.2em;\n",
       "  border-radius: 0.25em;\n",
       "  color: var(--sklearn-color-text);\n",
       "  /* unfitted */\n",
       "  background-color: var(--sklearn-color-unfitted-level-0);\n",
       "}\n",
       "\n",
       "#sk-container-id-3 div.sk-toggleable__content.fitted pre {\n",
       "  /* unfitted */\n",
       "  background-color: var(--sklearn-color-fitted-level-0);\n",
       "}\n",
       "\n",
       "#sk-container-id-3 input.sk-toggleable__control:checked~div.sk-toggleable__content {\n",
       "  /* Expand drop-down */\n",
       "  max-height: 200px;\n",
       "  max-width: 100%;\n",
       "  overflow: auto;\n",
       "}\n",
       "\n",
       "#sk-container-id-3 input.sk-toggleable__control:checked~label.sk-toggleable__label-arrow:before {\n",
       "  content: \"▾\";\n",
       "}\n",
       "\n",
       "/* Pipeline/ColumnTransformer-specific style */\n",
       "\n",
       "#sk-container-id-3 div.sk-label input.sk-toggleable__control:checked~label.sk-toggleable__label {\n",
       "  color: var(--sklearn-color-text);\n",
       "  background-color: var(--sklearn-color-unfitted-level-2);\n",
       "}\n",
       "\n",
       "#sk-container-id-3 div.sk-label.fitted input.sk-toggleable__control:checked~label.sk-toggleable__label {\n",
       "  background-color: var(--sklearn-color-fitted-level-2);\n",
       "}\n",
       "\n",
       "/* Estimator-specific style */\n",
       "\n",
       "/* Colorize estimator box */\n",
       "#sk-container-id-3 div.sk-estimator input.sk-toggleable__control:checked~label.sk-toggleable__label {\n",
       "  /* unfitted */\n",
       "  background-color: var(--sklearn-color-unfitted-level-2);\n",
       "}\n",
       "\n",
       "#sk-container-id-3 div.sk-estimator.fitted input.sk-toggleable__control:checked~label.sk-toggleable__label {\n",
       "  /* fitted */\n",
       "  background-color: var(--sklearn-color-fitted-level-2);\n",
       "}\n",
       "\n",
       "#sk-container-id-3 div.sk-label label.sk-toggleable__label,\n",
       "#sk-container-id-3 div.sk-label label {\n",
       "  /* The background is the default theme color */\n",
       "  color: var(--sklearn-color-text-on-default-background);\n",
       "}\n",
       "\n",
       "/* On hover, darken the color of the background */\n",
       "#sk-container-id-3 div.sk-label:hover label.sk-toggleable__label {\n",
       "  color: var(--sklearn-color-text);\n",
       "  background-color: var(--sklearn-color-unfitted-level-2);\n",
       "}\n",
       "\n",
       "/* Label box, darken color on hover, fitted */\n",
       "#sk-container-id-3 div.sk-label.fitted:hover label.sk-toggleable__label.fitted {\n",
       "  color: var(--sklearn-color-text);\n",
       "  background-color: var(--sklearn-color-fitted-level-2);\n",
       "}\n",
       "\n",
       "/* Estimator label */\n",
       "\n",
       "#sk-container-id-3 div.sk-label label {\n",
       "  font-family: monospace;\n",
       "  font-weight: bold;\n",
       "  display: inline-block;\n",
       "  line-height: 1.2em;\n",
       "}\n",
       "\n",
       "#sk-container-id-3 div.sk-label-container {\n",
       "  text-align: center;\n",
       "}\n",
       "\n",
       "/* Estimator-specific */\n",
       "#sk-container-id-3 div.sk-estimator {\n",
       "  font-family: monospace;\n",
       "  border: 1px dotted var(--sklearn-color-border-box);\n",
       "  border-radius: 0.25em;\n",
       "  box-sizing: border-box;\n",
       "  margin-bottom: 0.5em;\n",
       "  /* unfitted */\n",
       "  background-color: var(--sklearn-color-unfitted-level-0);\n",
       "}\n",
       "\n",
       "#sk-container-id-3 div.sk-estimator.fitted {\n",
       "  /* fitted */\n",
       "  background-color: var(--sklearn-color-fitted-level-0);\n",
       "}\n",
       "\n",
       "/* on hover */\n",
       "#sk-container-id-3 div.sk-estimator:hover {\n",
       "  /* unfitted */\n",
       "  background-color: var(--sklearn-color-unfitted-level-2);\n",
       "}\n",
       "\n",
       "#sk-container-id-3 div.sk-estimator.fitted:hover {\n",
       "  /* fitted */\n",
       "  background-color: var(--sklearn-color-fitted-level-2);\n",
       "}\n",
       "\n",
       "/* Specification for estimator info (e.g. \"i\" and \"?\") */\n",
       "\n",
       "/* Common style for \"i\" and \"?\" */\n",
       "\n",
       ".sk-estimator-doc-link,\n",
       "a:link.sk-estimator-doc-link,\n",
       "a:visited.sk-estimator-doc-link {\n",
       "  float: right;\n",
       "  font-size: smaller;\n",
       "  line-height: 1em;\n",
       "  font-family: monospace;\n",
       "  background-color: var(--sklearn-color-background);\n",
       "  border-radius: 1em;\n",
       "  height: 1em;\n",
       "  width: 1em;\n",
       "  text-decoration: none !important;\n",
       "  margin-left: 0.5em;\n",
       "  text-align: center;\n",
       "  /* unfitted */\n",
       "  border: var(--sklearn-color-unfitted-level-1) 1pt solid;\n",
       "  color: var(--sklearn-color-unfitted-level-1);\n",
       "}\n",
       "\n",
       ".sk-estimator-doc-link.fitted,\n",
       "a:link.sk-estimator-doc-link.fitted,\n",
       "a:visited.sk-estimator-doc-link.fitted {\n",
       "  /* fitted */\n",
       "  border: var(--sklearn-color-fitted-level-1) 1pt solid;\n",
       "  color: var(--sklearn-color-fitted-level-1);\n",
       "}\n",
       "\n",
       "/* On hover */\n",
       "div.sk-estimator:hover .sk-estimator-doc-link:hover,\n",
       ".sk-estimator-doc-link:hover,\n",
       "div.sk-label-container:hover .sk-estimator-doc-link:hover,\n",
       ".sk-estimator-doc-link:hover {\n",
       "  /* unfitted */\n",
       "  background-color: var(--sklearn-color-unfitted-level-3);\n",
       "  color: var(--sklearn-color-background);\n",
       "  text-decoration: none;\n",
       "}\n",
       "\n",
       "div.sk-estimator.fitted:hover .sk-estimator-doc-link.fitted:hover,\n",
       ".sk-estimator-doc-link.fitted:hover,\n",
       "div.sk-label-container:hover .sk-estimator-doc-link.fitted:hover,\n",
       ".sk-estimator-doc-link.fitted:hover {\n",
       "  /* fitted */\n",
       "  background-color: var(--sklearn-color-fitted-level-3);\n",
       "  color: var(--sklearn-color-background);\n",
       "  text-decoration: none;\n",
       "}\n",
       "\n",
       "/* Span, style for the box shown on hovering the info icon */\n",
       ".sk-estimator-doc-link span {\n",
       "  display: none;\n",
       "  z-index: 9999;\n",
       "  position: relative;\n",
       "  font-weight: normal;\n",
       "  right: .2ex;\n",
       "  padding: .5ex;\n",
       "  margin: .5ex;\n",
       "  width: min-content;\n",
       "  min-width: 20ex;\n",
       "  max-width: 50ex;\n",
       "  color: var(--sklearn-color-text);\n",
       "  box-shadow: 2pt 2pt 4pt #999;\n",
       "  /* unfitted */\n",
       "  background: var(--sklearn-color-unfitted-level-0);\n",
       "  border: .5pt solid var(--sklearn-color-unfitted-level-3);\n",
       "}\n",
       "\n",
       ".sk-estimator-doc-link.fitted span {\n",
       "  /* fitted */\n",
       "  background: var(--sklearn-color-fitted-level-0);\n",
       "  border: var(--sklearn-color-fitted-level-3);\n",
       "}\n",
       "\n",
       ".sk-estimator-doc-link:hover span {\n",
       "  display: block;\n",
       "}\n",
       "\n",
       "/* \"?\"-specific style due to the `<a>` HTML tag */\n",
       "\n",
       "#sk-container-id-3 a.estimator_doc_link {\n",
       "  float: right;\n",
       "  font-size: 1rem;\n",
       "  line-height: 1em;\n",
       "  font-family: monospace;\n",
       "  background-color: var(--sklearn-color-background);\n",
       "  border-radius: 1rem;\n",
       "  height: 1rem;\n",
       "  width: 1rem;\n",
       "  text-decoration: none;\n",
       "  /* unfitted */\n",
       "  color: var(--sklearn-color-unfitted-level-1);\n",
       "  border: var(--sklearn-color-unfitted-level-1) 1pt solid;\n",
       "}\n",
       "\n",
       "#sk-container-id-3 a.estimator_doc_link.fitted {\n",
       "  /* fitted */\n",
       "  border: var(--sklearn-color-fitted-level-1) 1pt solid;\n",
       "  color: var(--sklearn-color-fitted-level-1);\n",
       "}\n",
       "\n",
       "/* On hover */\n",
       "#sk-container-id-3 a.estimator_doc_link:hover {\n",
       "  /* unfitted */\n",
       "  background-color: var(--sklearn-color-unfitted-level-3);\n",
       "  color: var(--sklearn-color-background);\n",
       "  text-decoration: none;\n",
       "}\n",
       "\n",
       "#sk-container-id-3 a.estimator_doc_link.fitted:hover {\n",
       "  /* fitted */\n",
       "  background-color: var(--sklearn-color-fitted-level-3);\n",
       "}\n",
       "</style><div id=\"sk-container-id-3\" class=\"sk-top-container\"><div class=\"sk-text-repr-fallback\"><pre>Pipeline(steps=[(&#x27;tfidf&#x27;,\n",
       "                 TfidfVectorizer(max_features=10000, ngram_range=(1, 2))),\n",
       "                (&#x27;clf&#x27;,\n",
       "                 LogisticRegression(class_weight=&#x27;balanced&#x27;, max_iter=1000))])</pre><b>In a Jupyter environment, please rerun this cell to show the HTML representation or trust the notebook. <br />On GitHub, the HTML representation is unable to render, please try loading this page with nbviewer.org.</b></div><div class=\"sk-container\" hidden><div class=\"sk-item sk-dashed-wrapped\"><div class=\"sk-label-container\"><div class=\"sk-label fitted sk-toggleable\"><input class=\"sk-toggleable__control sk-hidden--visually\" id=\"sk-estimator-id-7\" type=\"checkbox\" ><label for=\"sk-estimator-id-7\" class=\"sk-toggleable__label fitted sk-toggleable__label-arrow\"><div><div>Pipeline</div></div><div><a class=\"sk-estimator-doc-link fitted\" rel=\"noreferrer\" target=\"_blank\" href=\"https://scikit-learn.org/1.6/modules/generated/sklearn.pipeline.Pipeline.html\">?<span>Documentation for Pipeline</span></a><span class=\"sk-estimator-doc-link fitted\">i<span>Fitted</span></span></div></label><div class=\"sk-toggleable__content fitted\"><pre>Pipeline(steps=[(&#x27;tfidf&#x27;,\n",
       "                 TfidfVectorizer(max_features=10000, ngram_range=(1, 2))),\n",
       "                (&#x27;clf&#x27;,\n",
       "                 LogisticRegression(class_weight=&#x27;balanced&#x27;, max_iter=1000))])</pre></div> </div></div><div class=\"sk-serial\"><div class=\"sk-item\"><div class=\"sk-estimator fitted sk-toggleable\"><input class=\"sk-toggleable__control sk-hidden--visually\" id=\"sk-estimator-id-8\" type=\"checkbox\" ><label for=\"sk-estimator-id-8\" class=\"sk-toggleable__label fitted sk-toggleable__label-arrow\"><div><div>TfidfVectorizer</div></div><div><a class=\"sk-estimator-doc-link fitted\" rel=\"noreferrer\" target=\"_blank\" href=\"https://scikit-learn.org/1.6/modules/generated/sklearn.feature_extraction.text.TfidfVectorizer.html\">?<span>Documentation for TfidfVectorizer</span></a></div></label><div class=\"sk-toggleable__content fitted\"><pre>TfidfVectorizer(max_features=10000, ngram_range=(1, 2))</pre></div> </div></div><div class=\"sk-item\"><div class=\"sk-estimator fitted sk-toggleable\"><input class=\"sk-toggleable__control sk-hidden--visually\" id=\"sk-estimator-id-9\" type=\"checkbox\" ><label for=\"sk-estimator-id-9\" class=\"sk-toggleable__label fitted sk-toggleable__label-arrow\"><div><div>LogisticRegression</div></div><div><a class=\"sk-estimator-doc-link fitted\" rel=\"noreferrer\" target=\"_blank\" href=\"https://scikit-learn.org/1.6/modules/generated/sklearn.linear_model.LogisticRegression.html\">?<span>Documentation for LogisticRegression</span></a></div></label><div class=\"sk-toggleable__content fitted\"><pre>LogisticRegression(class_weight=&#x27;balanced&#x27;, max_iter=1000)</pre></div> </div></div></div></div></div></div>"
      ],
      "text/plain": [
       "Pipeline(steps=[('tfidf',\n",
       "                 TfidfVectorizer(max_features=10000, ngram_range=(1, 2))),\n",
       "                ('clf',\n",
       "                 LogisticRegression(class_weight='balanced', max_iter=1000))])"
      ]
     },
     "execution_count": 227,
     "metadata": {},
     "output_type": "execute_result"
    }
   ],
   "source": [
    "baseline_pipeline.fit(train_baseline_texts, train_labels)"
   ]
  },
  {
   "cell_type": "code",
   "execution_count": 228,
   "id": "202442b2-f6aa-42a8-b7a2-acfcbf090ba0",
   "metadata": {
    "tags": []
   },
   "outputs": [
    {
     "data": {
      "text/html": [
       "<div>\n",
       "<style scoped>\n",
       "    .dataframe tbody tr th:only-of-type {\n",
       "        vertical-align: middle;\n",
       "    }\n",
       "\n",
       "    .dataframe tbody tr th {\n",
       "        vertical-align: top;\n",
       "    }\n",
       "\n",
       "    .dataframe thead th {\n",
       "        text-align: right;\n",
       "    }\n",
       "</style>\n",
       "<table border=\"1\" class=\"dataframe\">\n",
       "  <thead>\n",
       "    <tr style=\"text-align: right;\">\n",
       "      <th></th>\n",
       "      <th>precision</th>\n",
       "      <th>recall</th>\n",
       "      <th>f1-score</th>\n",
       "      <th>support</th>\n",
       "    </tr>\n",
       "  </thead>\n",
       "  <tbody>\n",
       "    <tr>\n",
       "      <th>0</th>\n",
       "      <td>0.675532</td>\n",
       "      <td>0.437931</td>\n",
       "      <td>0.531381</td>\n",
       "      <td>290.000000</td>\n",
       "    </tr>\n",
       "    <tr>\n",
       "      <th>1</th>\n",
       "      <td>0.320833</td>\n",
       "      <td>0.557971</td>\n",
       "      <td>0.407407</td>\n",
       "      <td>138.000000</td>\n",
       "    </tr>\n",
       "    <tr>\n",
       "      <th>accuracy</th>\n",
       "      <td>0.476636</td>\n",
       "      <td>0.476636</td>\n",
       "      <td>0.476636</td>\n",
       "      <td>0.476636</td>\n",
       "    </tr>\n",
       "    <tr>\n",
       "      <th>macro avg</th>\n",
       "      <td>0.498183</td>\n",
       "      <td>0.497951</td>\n",
       "      <td>0.469394</td>\n",
       "      <td>428.000000</td>\n",
       "    </tr>\n",
       "    <tr>\n",
       "      <th>weighted avg</th>\n",
       "      <td>0.561166</td>\n",
       "      <td>0.476636</td>\n",
       "      <td>0.491408</td>\n",
       "      <td>428.000000</td>\n",
       "    </tr>\n",
       "  </tbody>\n",
       "</table>\n",
       "</div>"
      ],
      "text/plain": [
       "              precision    recall  f1-score     support\n",
       "0              0.675532  0.437931  0.531381  290.000000\n",
       "1              0.320833  0.557971  0.407407  138.000000\n",
       "accuracy       0.476636  0.476636  0.476636    0.476636\n",
       "macro avg      0.498183  0.497951  0.469394  428.000000\n",
       "weighted avg   0.561166  0.476636  0.491408  428.000000"
      ]
     },
     "metadata": {},
     "output_type": "display_data"
    }
   ],
   "source": [
    "test_preds = baseline_pipeline.predict(test_baseline_texts)\n",
    "report = pd.DataFrame(classification_report(test_labels, test_preds, output_dict=True)).transpose()\n",
    "display(report)"
   ]
  },
  {
   "cell_type": "code",
   "execution_count": null,
   "id": "ff0b9e8b-b40b-4d32-aa74-9d233f039fc7",
   "metadata": {},
   "outputs": [],
   "source": []
  }
 ],
 "metadata": {
  "kernelspec": {
   "display_name": "Python 3 (ipykernel)",
   "language": "python",
   "name": "python3"
  },
  "language_info": {
   "codemirror_mode": {
    "name": "ipython",
    "version": 3
   },
   "file_extension": ".py",
   "mimetype": "text/x-python",
   "name": "python",
   "nbconvert_exporter": "python",
   "pygments_lexer": "ipython3",
   "version": "3.10.14"
  }
 },
 "nbformat": 4,
 "nbformat_minor": 5
}
