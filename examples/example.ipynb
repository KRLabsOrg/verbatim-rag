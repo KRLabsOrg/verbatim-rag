{
 "cells": [
  {
   "cell_type": "code",
   "execution_count": null,
   "metadata": {},
   "outputs": [],
   "source": [
    "from verbatim_rag import Document\n",
    "\n",
    "\n",
    "sample_docs = [\n",
    "    Document(\n",
    "        content=(\n",
    "            \"The Golden Gate Bridge is a suspension bridge spanning the Golden Gate, \"\n",
    "            \"the one-mile-wide strait connecting San Francisco Bay and the Pacific Ocean. \"\n",
    "            \"The structure links the U.S. city of San Francisco, California—the northern tip of the \"\n",
    "            \"San Francisco Peninsula—to Marin County. It was opened in 1937 and had the longest \"\n",
    "            \"main span in the world until 1964. The bridge is painted in a color called 'international orange'.\"\n",
    "        ),\n",
    "        metadata={\"source\": \"landmarks/golden_gate.txt\"},\n",
    "    ),\n",
    "    Document(\n",
    "        content=(\n",
    "            \"The Eiffel Tower is a wrought-iron lattice tower on the Champ de Mars in Paris, France. \"\n",
    "            \"It is named after the engineer Gustave Eiffel, whose company designed and built the tower. \"\n",
    "            \"Constructed from 1887 to 1889 as the entrance to the 1889 World's Fair, it was initially \"\n",
    "            \"criticized by some of France's leading artists and intellectuals for its design, but it \"\n",
    "            \"has become a global cultural icon of France. The Eiffel Tower is 330 meters tall.\"\n",
    "        ),\n",
    "        metadata={\"source\": \"landmarks/eiffel_tower.txt\"},\n",
    "    ),\n",
    "    Document(\n",
    "        content=(\n",
    "            \"The Apollo 11 mission was the first manned lunar landing mission. It was launched on \"\n",
    "            \"July 16, 1969, and the lunar module, named Eagle, landed on the moon on July 20, 1969. \"\n",
    "            \"The mission was commanded by Neil Armstrong, with Michael Collins as command module pilot \"\n",
    "            \"and Edwin 'Buzz' Aldrin as lunar module pilot. Armstrong became the first person to step \"\n",
    "            \"onto the lunar surface, followed by Aldrin, while Collins remained in lunar orbit. \"\n",
    "            \"Armstrong's first words after stepping on the Moon were 'That's one small step for [a] man, \"\n",
    "            \"one giant leap for mankind.' The astronauts returned safely to Earth on July 24, 1969, \"\n",
    "            \"landing in the Pacific Ocean.\"\n",
    "        ),\n",
    "        metadata={\"source\": \"space/apollo11.txt\"},\n",
    "    ),\n",
    "]"
   ]
  }
 ],
 "metadata": {
  "kernelspec": {
   "display_name": "verbatim",
   "language": "python",
   "name": "python3"
  },
  "language_info": {
   "name": "python",
   "version": "3.12.9"
  }
 },
 "nbformat": 4,
 "nbformat_minor": 2
}
